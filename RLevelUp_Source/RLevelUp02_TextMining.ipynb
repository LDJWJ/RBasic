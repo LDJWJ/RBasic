{
 "cells": [
  {
   "cell_type": "markdown",
   "metadata": {},
   "source": [
    "### L-UP_02 텍스트 마이닝"
   ]
  },
  {
   "cell_type": "markdown",
   "metadata": {},
   "source": [
    "### 학습 내용\n",
    "* 텍스트 마이닝을 위한 패키지 설치 및 불러오기\n",
    "* 텍스트 데이터 불러오기\n",
    "* 문자열 전처리"
   ]
  },
  {
   "cell_type": "markdown",
   "metadata": {},
   "source": [
    "### 01 준비하기"
   ]
  },
  {
   "cell_type": "markdown",
   "metadata": {},
   "source": [
    "* 한글 텍스트 마이닝을 위해서 KoNLP(Korean Natural Language Processing)을 이용한다.\n",
    "* KoNLP는 자바(Java)가 설치되어 있어야 한다.\n",
    "* 확인 사항(내 컴퓨터가 32bit, 64bit) 확인 후, 자바 사이트에 가서 다운로드"
   ]
  },
  {
   "cell_type": "markdown",
   "metadata": {},
   "source": [
    "<img src=\"../img/L2_01.png\">\n",
    "### 설치되어 있을 경우, \n",
    "<img src=\"../img/L2_02.png\">\n",
    "### 설치가 안되어 있을 경우\n",
    "<img src=\"../img/L2_02B.png\">\n"
   ]
  },
  {
   "cell_type": "markdown",
   "metadata": {},
   "source": [
    "* 검색 - cmd 입력\n",
    "* 명령 프롬프트 실행\n",
    "* java 설치 확인 \n",
    "  * java -version 으로 확인되면 설치되어 있음."
   ]
  },
  {
   "cell_type": "markdown",
   "metadata": {},
   "source": [
    "### JAVA 설치하기\n",
    "* 사전에 설치가 되어 있다면 제어판-프로그램 제거\n",
    "* JAVA 홈페이지에서 다운로드 후, 설치(필요하다면 오라클 계정 가입이 필요)\n",
    "* 사전에 동의가 필요\n",
    "* 다운로드 후, 설치 진행"
   ]
  },
  {
   "cell_type": "markdown",
   "metadata": {},
   "source": [
    "<img src=\"../img/L2_04.png\">\n",
    "<img src=\"../img/L2_05.png\">\n",
    "<img src=\"../img/L2_06.png\">"
   ]
  },
  {
   "cell_type": "markdown",
   "metadata": {},
   "source": [
    "### 설치 진행 후, 환경변수 설정 필요\n",
    "* 제어판 - 시스템 - 고급 시스템 설정\n",
    "* 환경 변수 선택\n",
    "* 시스템 변수 중 path를 선택 후, 편집\n",
    "* 새로 만들기를 누르고 java 의 폴더 경로를 추가한다.\n",
    "* cmd를 실행시키고, java -version으로 확인"
   ]
  },
  {
   "cell_type": "markdown",
   "metadata": {},
   "source": [
    "### rJava 설치를 위한 rtool설치\n",
    "* url : https://cran.rstudio.com/bin/windows/Rtools/\n",
    "\n",
    "* (19.08.23 추천버전 3.5)\n",
    "* 다운로드 후, 설치 진행\n",
    "* 설치 위치 : C:\\Rtools\n",
    "* Select Components와 Select Additional Tasks는 아래 이미지 참조"
   ]
  },
  {
   "cell_type": "markdown",
   "metadata": {},
   "source": [
    "<img src=\"../img/L2_07.png\">\n",
    "<img src=\"../img/L2_08.png\">\n",
    "<img src=\"../img/L2_09.png\">"
   ]
  },
  {
   "cell_type": "markdown",
   "metadata": {},
   "source": [
    "### 패키지 설치\n",
    "* 패키지명 대소문자 구분하기\n",
    "* KoNLP를 사용하기 위해서 rJava설치가 정상적으로 되는 것이 필요.\n",
    "* rJava가 설치할때, Rtools가 설치가 되어야 정상적으로 동작함.\n",
    "* 설치 후, 정상동작을 위해 r을 종료 후, 재실행"
   ]
  },
  {
   "cell_type": "markdown",
   "metadata": {},
   "source": [
    "```\n",
    "install.packages(\"rJava\")\n",
    "install.packages(\"memoise\")\n",
    "install.packages(\"KoNLP\")\n",
    "\n",
    "library(rJava)\n",
    "library(memoise)\n",
    "library(KoNLP)\n",
    "```"
   ]
  },
  {
   "cell_type": "markdown",
   "metadata": {},
   "source": [
    "```\n",
    "### 사전 설정하기\n",
    "useNIADic()\n",
    "\n",
    "### 데이터 준비하기(스파이더맨 데이터)\n",
    "txt <- readLines(\"D:\\\\dataset\\\\movieText\\\\SpiderMan.txt\")\n",
    "head(txt)\n",
    "\n",
    "### 문자열 처리하기\n",
    "install.packages(\"stringr\")\n",
    "library(stringr)\n",
    "\n",
    "### 특수문자 제거\n",
    "txt <- str_replace_all(txt, \"\\\\W\", \" \")\n",
    "txt\n",
    "\n",
    "### 명사 추출\n",
    "### KoNLP의 extractNoun()를 이용\n",
    "extractNoun(\"오늘은 즐거운 날이다. 당신은 소중한 사람입니다.\")\n",
    "nouns <- extractNoun(txt)\n",
    "wordCount <- table(unlist(nouns))\n",
    "\n",
    "### 데이터 프레임 전환\n",
    "df_word <- as.data.frame(wordCount, stringsAsFactors = F)\n",
    "\n",
    "### 변수명 수정\n",
    "library(dplyr)\n",
    "df_word <- rename(df_word, word=Var1, freq=Freq)\n",
    "df_word\n",
    "\n",
    "### 두글자 이상 단어 추출\n",
    "df_word <- filter(df_word, nchar(word) >= 2)\n",
    "df_word\n",
    "```"
   ]
  },
  {
   "cell_type": "markdown",
   "metadata": {},
   "source": [
    "### 워드 클라우드(WordCloud)"
   ]
  },
  {
   "cell_type": "markdown",
   "metadata": {},
   "source": [
    "```\n",
    "####워드 클라우드\n",
    "install.packages(\"wordcloud\")\n",
    "\n",
    "## 패키지 로드\n",
    "library(wordcloud)\n",
    "library(RColorBrewer)\n",
    "\n",
    "## 색상 추출\n",
    "pal <- brewer.pal(8, \"Dark2\")\n",
    "set.seed(1004)\n",
    "\n",
    "## 워드 클라우드 제작 \n",
    "wordcloud(word = df_word$word, # 단어\n",
    "          freq = df_word$freq, # 빈도\n",
    "          min.freq = 2,        # 최소 단어 빈도\n",
    "          max.words = 100,     # 최대 표현 단어 수\n",
    "          random.order = F,    # 고빈도 단어 중앙 배치(F: 하지 않음.)\n",
    "          rot.per = 0.1,       # 회전 단어 비율 지정 \n",
    "          scale = c(5, 0.2),   # 단어 크기 범위\n",
    "          colors = pal)        # 색상 목록\n",
    "```"
   ]
  },
  {
   "cell_type": "markdown",
   "metadata": {},
   "source": [
    "<img src=\"../img/L2_10.png\">"
   ]
  },
  {
   "cell_type": "markdown",
   "metadata": {},
   "source": [
    "* 많이 사용된 단어일수록 글자가 크고 가운데 배치된다.\n",
    "* 덜 사용된 단어일수록 글자가 작다."
   ]
  },
  {
   "cell_type": "markdown",
   "metadata": {},
   "source": [
    "### REF\n",
    "* KoNLP 깃허브 : https://github.com/haven-jeon/KoNLP"
   ]
  },
  {
   "cell_type": "code",
   "execution_count": null,
   "metadata": {},
   "outputs": [],
   "source": []
  }
 ],
 "metadata": {
  "kernelspec": {
   "display_name": "R",
   "language": "R",
   "name": "ir"
  },
  "language_info": {
   "codemirror_mode": "r",
   "file_extension": ".r",
   "mimetype": "text/x-r-source",
   "name": "R",
   "pygments_lexer": "r",
   "version": "3.5.1"
  }
 },
 "nbformat": 4,
 "nbformat_minor": 2
}
