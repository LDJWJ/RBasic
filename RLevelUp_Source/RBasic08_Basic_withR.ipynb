{
 "cells": [
  {
   "cell_type": "markdown",
   "metadata": {},
   "source": [
    "## 08. R 기본 Review 및 기본"
   ]
  },
  {
   "cell_type": "markdown",
   "metadata": {},
   "source": [
    "### 학습 내용\n",
    "* "
   ]
  },
  {
   "cell_type": "markdown",
   "metadata": {},
   "source": [
    "### 01 R에서 작업을 하면 .RData가 만들어진다. "
   ]
  },
  {
   "cell_type": "markdown",
   "metadata": {},
   "source": [
    "* 파일명.RData을 정하고 파일을 열어 이어서 작업이 가능하다."
   ]
  },
  {
   "cell_type": "markdown",
   "metadata": {},
   "source": [
    "### RData 파일을 저장하기\n",
    "* save.image(\"파일이름\")"
   ]
  },
  {
   "cell_type": "code",
   "execution_count": 4,
   "metadata": {},
   "outputs": [
    {
     "data": {
      "text/html": [
       "'C:/Users/WITHJS/Documents/GitHub/RBasic/RLevelUp_Source'"
      ],
      "text/latex": [
       "'C:/Users/WITHJS/Documents/GitHub/RBasic/RLevelUp\\_Source'"
      ],
      "text/markdown": [
       "'C:/Users/WITHJS/Documents/GitHub/RBasic/RLevelUp_Source'"
      ],
      "text/plain": [
       "[1] \"C:/Users/WITHJS/Documents/GitHub/RBasic/RLevelUp_Source\""
      ]
     },
     "metadata": {},
     "output_type": "display_data"
    }
   ],
   "source": [
    "getwd()"
   ]
  },
  {
   "cell_type": "code",
   "execution_count": 5,
   "metadata": {},
   "outputs": [],
   "source": [
    "save.image('test.RData')"
   ]
  },
  {
   "cell_type": "markdown",
   "metadata": {},
   "source": [
    "<img src=\"../img/08_01.png\">"
   ]
  },
  {
   "cell_type": "markdown",
   "metadata": {},
   "source": [
    "### R에서 가장 작은 단위 벡터"
   ]
  },
  {
   "cell_type": "code",
   "execution_count": 6,
   "metadata": {},
   "outputs": [
    {
     "data": {
      "text/html": [
       "TRUE"
      ],
      "text/latex": [
       "TRUE"
      ],
      "text/markdown": [
       "TRUE"
      ],
      "text/plain": [
       "[1] TRUE"
      ]
     },
     "metadata": {},
     "output_type": "display_data"
    }
   ],
   "source": [
    "a <- 1\n",
    "is.vector(a)"
   ]
  },
  {
   "cell_type": "code",
   "execution_count": 7,
   "metadata": {},
   "outputs": [
    {
     "data": {
      "text/html": [
       "TRUE"
      ],
      "text/latex": [
       "TRUE"
      ],
      "text/markdown": [
       "TRUE"
      ],
      "text/plain": [
       "[1] TRUE"
      ]
     },
     "metadata": {},
     "output_type": "display_data"
    }
   ],
   "source": [
    "a <- c(1,2,3,4,\"Hello\", \"World\")\n",
    "is.vector(a)"
   ]
  },
  {
   "cell_type": "code",
   "execution_count": 8,
   "metadata": {},
   "outputs": [
    {
     "data": {
      "text/html": [
       "'a'"
      ],
      "text/latex": [
       "'a'"
      ],
      "text/markdown": [
       "'a'"
      ],
      "text/plain": [
       "[1] \"a\""
      ]
     },
     "metadata": {},
     "output_type": "display_data"
    },
    {
     "data": {
      "text/plain": [
       "a :  chr [1:6] \"1\" \"2\" \"3\" \"4\" \"Hello\" \"World\""
      ]
     },
     "metadata": {},
     "output_type": "display_data"
    }
   ],
   "source": [
    "ls()\n",
    "ls.str()"
   ]
  },
  {
   "cell_type": "code",
   "execution_count": 9,
   "metadata": {},
   "outputs": [],
   "source": [
    "rm(a)\n",
    "rm(list=ls())"
   ]
  },
  {
   "cell_type": "markdown",
   "metadata": {},
   "source": [
    "### 패키지 설치 확인 "
   ]
  },
  {
   "cell_type": "code",
   "execution_count": 10,
   "metadata": {},
   "outputs": [
    {
     "data": {},
     "metadata": {},
     "output_type": "display_data"
    }
   ],
   "source": [
    "library()"
   ]
  },
  {
   "cell_type": "markdown",
   "metadata": {},
   "source": [
    "<img src=\"../img/08_02.png\">"
   ]
  },
  {
   "cell_type": "markdown",
   "metadata": {},
   "source": [
    "### 도움말\n",
    "* ?명령어\n",
    "* help('명령어')"
   ]
  },
  {
   "cell_type": "markdown",
   "metadata": {},
   "source": [
    "### 데이터 읽어오기\n",
    "* read.csv(\"위치,파일명\", header=[False or True], fileEncoding=[\"eur-kr\" etc],)\n",
    "* read.table(\"위치,파일명\", header=T, sep=\",\")\n",
    "* read_excel(path=\"파일위치~파일명\", sheet=\"시트명\", col_names=TRUE)\n",
    "* read.spss(\"위치~파일명\")"
   ]
  },
  {
   "cell_type": "markdown",
   "metadata": {},
   "source": [
    "### 데이터 자료 확인\n",
    "is.[자료형](자료명)\n",
    "(예) is.data.frame(Score)\n",
    "\n",
    "### 데이터 자료 변경\n",
    "as.factor(자료명)"
   ]
  },
  {
   "cell_type": "code",
   "execution_count": 11,
   "metadata": {},
   "outputs": [
    {
     "data": {
      "text/html": [
       "<ol class=list-inline>\n",
       "\t<li>'character'</li>\n",
       "\t<li>'vector'</li>\n",
       "\t<li>'data.frameRowLabels'</li>\n",
       "\t<li>'SuperClassMethod'</li>\n",
       "</ol>\n"
      ],
      "text/latex": [
       "\\begin{enumerate*}\n",
       "\\item 'character'\n",
       "\\item 'vector'\n",
       "\\item 'data.frameRowLabels'\n",
       "\\item 'SuperClassMethod'\n",
       "\\end{enumerate*}\n"
      ],
      "text/markdown": [
       "1. 'character'\n",
       "2. 'vector'\n",
       "3. 'data.frameRowLabels'\n",
       "4. 'SuperClassMethod'\n",
       "\n",
       "\n"
      ],
      "text/plain": [
       "[1] \"character\"           \"vector\"              \"data.frameRowLabels\"\n",
       "[4] \"SuperClassMethod\"   "
      ]
     },
     "metadata": {},
     "output_type": "display_data"
    }
   ],
   "source": [
    "a <- c(\"사과\", \"바나나\", \"딸기\")\n",
    "is(a)"
   ]
  },
  {
   "cell_type": "code",
   "execution_count": 12,
   "metadata": {},
   "outputs": [
    {
     "data": {
      "text/html": [
       "<ol class=list-inline>\n",
       "\t<li>사과</li>\n",
       "\t<li>바나나</li>\n",
       "\t<li>딸기</li>\n",
       "</ol>\n",
       "\n",
       "<details>\n",
       "\t<summary style=display:list-item;cursor:pointer>\n",
       "\t\t<strong>Levels</strong>:\n",
       "\t</summary>\n",
       "\t<ol class=list-inline>\n",
       "\t\t<li>'딸기'</li>\n",
       "\t\t<li>'바나나'</li>\n",
       "\t\t<li>'사과'</li>\n",
       "\t</ol>\n",
       "</details>"
      ],
      "text/latex": [
       "\\begin{enumerate*}\n",
       "\\item 사과\n",
       "\\item 바나나\n",
       "\\item 딸기\n",
       "\\end{enumerate*}\n",
       "\n",
       "\\emph{Levels}: \\begin{enumerate*}\n",
       "\\item '딸기'\n",
       "\\item '바나나'\n",
       "\\item '사과'\n",
       "\\end{enumerate*}\n"
      ],
      "text/markdown": [
       "1. 사과\n",
       "2. 바나나\n",
       "3. 딸기\n",
       "\n",
       "\n",
       "\n",
       "**Levels**: 1. '딸기'\n",
       "2. '바나나'\n",
       "3. '사과'\n",
       "\n",
       "\n"
      ],
      "text/plain": [
       "[1] 사과   바나나 딸기  \n",
       "Levels: 딸기 바나나 사과"
      ]
     },
     "metadata": {},
     "output_type": "display_data"
    }
   ],
   "source": [
    "af <- as.factor(a)\n",
    "af"
   ]
  },
  {
   "cell_type": "markdown",
   "metadata": {},
   "source": [
    "### 데이터의 종류\n",
    "* 변수는 범주형 변수와 수치형 변수로 구분된다.\n",
    "* 범주형 변수는 명목형 변수와 순서형 변수로 구분된다.\n",
    "* 수치형 변수는 이산형 변수와 연속형 변수로 구분된다."
   ]
  },
  {
   "cell_type": "markdown",
   "metadata": {},
   "source": [
    "<img src=\"../img/08_03.png\">"
   ]
  },
  {
   "cell_type": "markdown",
   "metadata": {},
   "source": [
    "* 이산형 변수 : 셀수있는 것이 특징\n",
    "* 연속형 : 어떤 구분을 사이에 두고 셀수없는 많은 값이 존재\n",
    "* 명목형 : 숫자가 아니라 문자로 나타내지는 변수값(남, 녀), 혈액형(O, AB, B, A) -> 카테고리를 정해 분류\n",
    "* 순서형 : 순서형 데이터는 명목형과 비슷하지만 순서가 있다."
   ]
  },
  {
   "cell_type": "markdown",
   "metadata": {},
   "source": [
    "## R에서의 변수 타입\n",
    "* character : 문자열 나타내는 타입\n",
    "* factor : 순서형 변수, 명목형 변수\n",
    "* integer : 정수값 표현\n",
    "* numeric : 연속형 변수 \n",
    "* data.frame : 데이터 프레임\n",
    "* list "
   ]
  },
  {
   "cell_type": "code",
   "execution_count": 19,
   "metadata": {},
   "outputs": [
    {
     "data": {
      "text/html": [
       "<ol class=list-inline>\n",
       "\t<li>'integer'</li>\n",
       "\t<li>'numeric'</li>\n",
       "\t<li>'vector'</li>\n",
       "\t<li>'data.frameRowLabels'</li>\n",
       "</ol>\n"
      ],
      "text/latex": [
       "\\begin{enumerate*}\n",
       "\\item 'integer'\n",
       "\\item 'numeric'\n",
       "\\item 'vector'\n",
       "\\item 'data.frameRowLabels'\n",
       "\\end{enumerate*}\n"
      ],
      "text/markdown": [
       "1. 'integer'\n",
       "2. 'numeric'\n",
       "3. 'vector'\n",
       "4. 'data.frameRowLabels'\n",
       "\n",
       "\n"
      ],
      "text/plain": [
       "[1] \"integer\"             \"numeric\"             \"vector\"             \n",
       "[4] \"data.frameRowLabels\""
      ]
     },
     "metadata": {},
     "output_type": "display_data"
    }
   ],
   "source": [
    "a1 <- c(1L,2L,3L) # 정수형 벡터\n",
    "is(a1)"
   ]
  },
  {
   "cell_type": "code",
   "execution_count": 20,
   "metadata": {},
   "outputs": [
    {
     "data": {
      "text/html": [
       "<ol class=list-inline>\n",
       "\t<li>'numeric'</li>\n",
       "\t<li>'vector'</li>\n",
       "</ol>\n"
      ],
      "text/latex": [
       "\\begin{enumerate*}\n",
       "\\item 'numeric'\n",
       "\\item 'vector'\n",
       "\\end{enumerate*}\n"
      ],
      "text/markdown": [
       "1. 'numeric'\n",
       "2. 'vector'\n",
       "\n",
       "\n"
      ],
      "text/plain": [
       "[1] \"numeric\" \"vector\" "
      ]
     },
     "metadata": {},
     "output_type": "display_data"
    }
   ],
   "source": [
    "a1 <- c(1,2,3) # 수치형 벡터\n",
    "is(a1)"
   ]
  },
  {
   "cell_type": "code",
   "execution_count": 27,
   "metadata": {},
   "outputs": [
    {
     "data": {
      "text/html": [
       "<ol class=list-inline>\n",
       "\t<li>'factor'</li>\n",
       "\t<li>'integer'</li>\n",
       "\t<li>'oldClass'</li>\n",
       "\t<li>'numeric'</li>\n",
       "\t<li>'vector'</li>\n",
       "\t<li>'data.frameRowLabels'</li>\n",
       "</ol>\n"
      ],
      "text/latex": [
       "\\begin{enumerate*}\n",
       "\\item 'factor'\n",
       "\\item 'integer'\n",
       "\\item 'oldClass'\n",
       "\\item 'numeric'\n",
       "\\item 'vector'\n",
       "\\item 'data.frameRowLabels'\n",
       "\\end{enumerate*}\n"
      ],
      "text/markdown": [
       "1. 'factor'\n",
       "2. 'integer'\n",
       "3. 'oldClass'\n",
       "4. 'numeric'\n",
       "5. 'vector'\n",
       "6. 'data.frameRowLabels'\n",
       "\n",
       "\n"
      ],
      "text/plain": [
       "[1] \"factor\"              \"integer\"             \"oldClass\"           \n",
       "[4] \"numeric\"             \"vector\"              \"data.frameRowLabels\""
      ]
     },
     "metadata": {},
     "output_type": "display_data"
    }
   ],
   "source": [
    "a_str <- c(\"하나\", \"둘\", \"셋\") # 문자열 벡터\n",
    "is(a1)"
   ]
  },
  {
   "cell_type": "code",
   "execution_count": 28,
   "metadata": {},
   "outputs": [
    {
     "data": {
      "text/html": [
       "<ol class=list-inline>\n",
       "\t<li>'factor'</li>\n",
       "\t<li>'integer'</li>\n",
       "\t<li>'oldClass'</li>\n",
       "\t<li>'numeric'</li>\n",
       "\t<li>'vector'</li>\n",
       "\t<li>'data.frameRowLabels'</li>\n",
       "</ol>\n"
      ],
      "text/latex": [
       "\\begin{enumerate*}\n",
       "\\item 'factor'\n",
       "\\item 'integer'\n",
       "\\item 'oldClass'\n",
       "\\item 'numeric'\n",
       "\\item 'vector'\n",
       "\\item 'data.frameRowLabels'\n",
       "\\end{enumerate*}\n"
      ],
      "text/markdown": [
       "1. 'factor'\n",
       "2. 'integer'\n",
       "3. 'oldClass'\n",
       "4. 'numeric'\n",
       "5. 'vector'\n",
       "6. 'data.frameRowLabels'\n",
       "\n",
       "\n"
      ],
      "text/plain": [
       "[1] \"factor\"              \"integer\"             \"oldClass\"           \n",
       "[4] \"numeric\"             \"vector\"              \"data.frameRowLabels\""
      ]
     },
     "metadata": {},
     "output_type": "display_data"
    }
   ],
   "source": [
    "a1 <- factor(a_str) # 범주형 변수 \n",
    "is(a1)"
   ]
  },
  {
   "cell_type": "code",
   "execution_count": 31,
   "metadata": {},
   "outputs": [
    {
     "data": {
      "text/html": [
       "<ol class=list-inline>\n",
       "\t<li>'ordered'</li>\n",
       "\t<li>'factor'</li>\n",
       "\t<li>'oldClass'</li>\n",
       "</ol>\n"
      ],
      "text/latex": [
       "\\begin{enumerate*}\n",
       "\\item 'ordered'\n",
       "\\item 'factor'\n",
       "\\item 'oldClass'\n",
       "\\end{enumerate*}\n"
      ],
      "text/markdown": [
       "1. 'ordered'\n",
       "2. 'factor'\n",
       "3. 'oldClass'\n",
       "\n",
       "\n"
      ],
      "text/plain": [
       "[1] \"ordered\"  \"factor\"   \"oldClass\""
      ]
     },
     "metadata": {},
     "output_type": "display_data"
    }
   ],
   "source": [
    "a1 <- factor(a_str, ordered=T) # 범주형-순서형 변수\n",
    "is(a1)"
   ]
  },
  {
   "cell_type": "code",
   "execution_count": 32,
   "metadata": {},
   "outputs": [
    {
     "data": {
      "text/html": [
       "<ol class=list-inline>\n",
       "\t<li>'factor'</li>\n",
       "\t<li>'integer'</li>\n",
       "\t<li>'oldClass'</li>\n",
       "\t<li>'numeric'</li>\n",
       "\t<li>'vector'</li>\n",
       "\t<li>'data.frameRowLabels'</li>\n",
       "</ol>\n"
      ],
      "text/latex": [
       "\\begin{enumerate*}\n",
       "\\item 'factor'\n",
       "\\item 'integer'\n",
       "\\item 'oldClass'\n",
       "\\item 'numeric'\n",
       "\\item 'vector'\n",
       "\\item 'data.frameRowLabels'\n",
       "\\end{enumerate*}\n"
      ],
      "text/markdown": [
       "1. 'factor'\n",
       "2. 'integer'\n",
       "3. 'oldClass'\n",
       "4. 'numeric'\n",
       "5. 'vector'\n",
       "6. 'data.frameRowLabels'\n",
       "\n",
       "\n"
      ],
      "text/plain": [
       "[1] \"factor\"              \"integer\"             \"oldClass\"           \n",
       "[4] \"numeric\"             \"vector\"              \"data.frameRowLabels\""
      ]
     },
     "metadata": {},
     "output_type": "display_data"
    }
   ],
   "source": [
    "a1 <- factor(a_str, levels=c(\"하나\", \"둘\", \"셋\")) # 범주형-순서형 변수\n",
    "is(a1)\n"
   ]
  },
  {
   "cell_type": "markdown",
   "metadata": {},
   "source": [
    "* a1 실행 결과 \n",
    "```\n",
    "[1] 하나 둘   셋  \n",
    "Levels: 하나 둘 셋\n",
    "```"
   ]
  },
  {
   "cell_type": "markdown",
   "metadata": {},
   "source": [
    "### 이후에 알아보기\n",
    "* merge 함수 정리\n",
    "* list 객체 정리\n",
    "* rbind() 함수, cbind() 함수\n",
    "* prop.table() "
   ]
  },
  {
   "cell_type": "code",
   "execution_count": null,
   "metadata": {},
   "outputs": [],
   "source": []
  }
 ],
 "metadata": {
  "kernelspec": {
   "display_name": "R",
   "language": "R",
   "name": "ir"
  },
  "language_info": {
   "codemirror_mode": "r",
   "file_extension": ".r",
   "mimetype": "text/x-r-source",
   "name": "R",
   "pygments_lexer": "r",
   "version": "3.5.1"
  }
 },
 "nbformat": 4,
 "nbformat_minor": 2
}
