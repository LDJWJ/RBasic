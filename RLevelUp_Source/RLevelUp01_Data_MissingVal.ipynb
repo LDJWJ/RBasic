{
 "cells": [
  {
   "cell_type": "markdown",
   "metadata": {},
   "source": [
    "### 01 데이터 처리(1)\n",
    "#### 결측치(missing value) 및 이상치(outlier) 처리"
   ]
  },
  {
   "cell_type": "markdown",
   "metadata": {},
   "source": [
    "### 학습 내용\n",
    "* 결측치에 대해 알아본다.\n",
    "* 결측치를 찾고 이에 사용한 연산을 알아본다.\n",
    "* 결측치를 대체하는 것에 대해 알아본다.\n",
    "* 이상치에 대해 알아본다."
   ]
  },
  {
   "cell_type": "markdown",
   "metadata": {},
   "source": [
    "### 01 결측값(Missing Value)이란?\n",
    "* 결측치는 누락된 값, 비어 있는 값을 의미한다.\n",
    "* 결측치가 있으면 함수 적용이 안되거나 분석 결과가 왜곡되는 현상이 있을 수 있다.\n"
   ]
  },
  {
   "cell_type": "code",
   "execution_count": 169,
   "metadata": {},
   "outputs": [
    {
     "data": {
      "text/html": [
       "<table>\n",
       "<thead><tr><th scope=col>Pclass</th><th scope=col>Embarked</th><th scope=col>Fare</th></tr></thead>\n",
       "<tbody>\n",
       "\t<tr><td> 1 </td><td>C  </td><td> NA</td></tr>\n",
       "\t<tr><td> 2 </td><td>S  </td><td>150</td></tr>\n",
       "\t<tr><td> 3 </td><td>Q  </td><td>200</td></tr>\n",
       "\t<tr><td>NA </td><td>NA </td><td>300</td></tr>\n",
       "\t<tr><td> 1 </td><td>NA </td><td>100</td></tr>\n",
       "</tbody>\n",
       "</table>\n"
      ],
      "text/latex": [
       "\\begin{tabular}{r|lll}\n",
       " Pclass & Embarked & Fare\\\\\n",
       "\\hline\n",
       "\t  1  & C   &  NA\\\\\n",
       "\t  2  & S   & 150\\\\\n",
       "\t  3  & Q   & 200\\\\\n",
       "\t NA  & NA  & 300\\\\\n",
       "\t  1  & NA  & 100\\\\\n",
       "\\end{tabular}\n"
      ],
      "text/markdown": [
       "\n",
       "Pclass | Embarked | Fare | \n",
       "|---|---|---|---|---|\n",
       "|  1  | C   |  NA | \n",
       "|  2  | S   | 150 | \n",
       "|  3  | Q   | 200 | \n",
       "| NA  | NA  | 300 | \n",
       "|  1  | NA  | 100 | \n",
       "\n",
       "\n"
      ],
      "text/plain": [
       "  Pclass Embarked Fare\n",
       "1  1     C         NA \n",
       "2  2     S        150 \n",
       "3  3     Q        200 \n",
       "4 NA     NA       300 \n",
       "5  1     NA       100 "
      ]
     },
     "metadata": {},
     "output_type": "display_data"
    }
   ],
   "source": [
    "df <- data.frame(Pclass = c(1, 2, 3, NA, 1), \n",
    "                 Embarked = c(\"C\", \"S\", \"Q\", NA, NA), \n",
    "                 Fare = c(NA,150,200, 300, 100))\n",
    "df"
   ]
  },
  {
   "cell_type": "markdown",
   "metadata": {},
   "source": [
    "### R Stuido 출력결과\n",
    "```\n",
    "  Pclass Embarked Fare\n",
    "1      1        C   NA\n",
    "2      2        S  150\n",
    "3      3        Q  200\n",
    "4     NA     <NA>  300\n",
    "5      1     <NA>  100\n",
    "```"
   ]
  },
  {
   "cell_type": "markdown",
   "metadata": {},
   "source": [
    "* 문자에서는 < >로 둘러싸여 있음.\n",
    "* 숫자에서는 NA로 되어 있음."
   ]
  },
  {
   "cell_type": "markdown",
   "metadata": {},
   "source": [
    "### 결측치 확인하기 - is.na(데이터셋)"
   ]
  },
  {
   "cell_type": "code",
   "execution_count": 170,
   "metadata": {},
   "outputs": [
    {
     "data": {
      "text/html": [
       "<table>\n",
       "<thead><tr><th scope=col>Pclass</th><th scope=col>Embarked</th><th scope=col>Fare</th></tr></thead>\n",
       "<tbody>\n",
       "\t<tr><td>FALSE</td><td>FALSE</td><td> TRUE</td></tr>\n",
       "\t<tr><td>FALSE</td><td>FALSE</td><td>FALSE</td></tr>\n",
       "\t<tr><td>FALSE</td><td>FALSE</td><td>FALSE</td></tr>\n",
       "\t<tr><td> TRUE</td><td> TRUE</td><td>FALSE</td></tr>\n",
       "\t<tr><td>FALSE</td><td> TRUE</td><td>FALSE</td></tr>\n",
       "</tbody>\n",
       "</table>\n"
      ],
      "text/latex": [
       "\\begin{tabular}{lll}\n",
       " Pclass & Embarked & Fare\\\\\n",
       "\\hline\n",
       "\t FALSE & FALSE &  TRUE\\\\\n",
       "\t FALSE & FALSE & FALSE\\\\\n",
       "\t FALSE & FALSE & FALSE\\\\\n",
       "\t  TRUE &  TRUE & FALSE\\\\\n",
       "\t FALSE &  TRUE & FALSE\\\\\n",
       "\\end{tabular}\n"
      ],
      "text/markdown": [
       "\n",
       "Pclass | Embarked | Fare | \n",
       "|---|---|---|---|---|\n",
       "| FALSE | FALSE |  TRUE | \n",
       "| FALSE | FALSE | FALSE | \n",
       "| FALSE | FALSE | FALSE | \n",
       "|  TRUE |  TRUE | FALSE | \n",
       "| FALSE |  TRUE | FALSE | \n",
       "\n",
       "\n"
      ],
      "text/plain": [
       "     Pclass Embarked Fare \n",
       "[1,] FALSE  FALSE     TRUE\n",
       "[2,] FALSE  FALSE    FALSE\n",
       "[3,] FALSE  FALSE    FALSE\n",
       "[4,]  TRUE   TRUE    FALSE\n",
       "[5,] FALSE   TRUE    FALSE"
      ]
     },
     "metadata": {},
     "output_type": "display_data"
    }
   ],
   "source": [
    "is.na(df)"
   ]
  },
  {
   "cell_type": "markdown",
   "metadata": {},
   "source": [
    "### 결측치의 개수 확인"
   ]
  },
  {
   "cell_type": "code",
   "execution_count": 171,
   "metadata": {},
   "outputs": [
    {
     "data": {
      "text/plain": [
       "\n",
       "FALSE  TRUE \n",
       "   11     4 "
      ]
     },
     "metadata": {},
     "output_type": "display_data"
    },
    {
     "data": {
      "text/plain": [
       "\n",
       "FALSE  TRUE \n",
       "    4     1 "
      ]
     },
     "metadata": {},
     "output_type": "display_data"
    },
    {
     "data": {
      "text/plain": [
       "\n",
       "FALSE  TRUE \n",
       "    3     2 "
      ]
     },
     "metadata": {},
     "output_type": "display_data"
    },
    {
     "data": {
      "text/plain": [
       "\n",
       "FALSE  TRUE \n",
       "    4     1 "
      ]
     },
     "metadata": {},
     "output_type": "display_data"
    }
   ],
   "source": [
    "table(is.na(df))\n",
    "\n",
    "## PClass 결측치 확인\n",
    "table(is.na(df$Pclass))\n",
    "\n",
    "## EMbarked 결측치 확인\n",
    "table(is.na(df$Embarked))\n",
    "\n",
    "## Fare 결측치 확인\n",
    "table(is.na(df$Fare))"
   ]
  },
  {
   "cell_type": "markdown",
   "metadata": {},
   "source": [
    "### 왜 결측치 처리를 해야 하나?\n",
    "* 결측치가 포함되면 데이터는 정상적인 연산이 안되고 NA가 출력"
   ]
  },
  {
   "cell_type": "code",
   "execution_count": 172,
   "metadata": {},
   "outputs": [
    {
     "data": {
      "text/html": [
       "&lt;NA&gt;"
      ],
      "text/latex": [
       "<NA>"
      ],
      "text/markdown": [
       "&lt;NA&gt;"
      ],
      "text/plain": [
       "[1] NA"
      ]
     },
     "metadata": {},
     "output_type": "display_data"
    },
    {
     "data": {
      "text/html": [
       "&lt;NA&gt;"
      ],
      "text/latex": [
       "<NA>"
      ],
      "text/markdown": [
       "&lt;NA&gt;"
      ],
      "text/plain": [
       "[1] NA"
      ]
     },
     "metadata": {},
     "output_type": "display_data"
    }
   ],
   "source": [
    "mean(df$Pclass)\n",
    "mean(df$Fare)"
   ]
  },
  {
   "cell_type": "markdown",
   "metadata": {},
   "source": [
    "### 결측치가 제거된 행만 가져오기"
   ]
  },
  {
   "cell_type": "code",
   "execution_count": 173,
   "metadata": {},
   "outputs": [
    {
     "data": {
      "text/html": [
       "<table>\n",
       "<thead><tr><th scope=col>Pclass</th><th scope=col>Embarked</th><th scope=col>Fare</th></tr></thead>\n",
       "<tbody>\n",
       "\t<tr><td>1  </td><td>C  </td><td> NA</td></tr>\n",
       "\t<tr><td>2  </td><td>S  </td><td>150</td></tr>\n",
       "\t<tr><td>3  </td><td>Q  </td><td>200</td></tr>\n",
       "\t<tr><td>1  </td><td>NA </td><td>100</td></tr>\n",
       "</tbody>\n",
       "</table>\n"
      ],
      "text/latex": [
       "\\begin{tabular}{r|lll}\n",
       " Pclass & Embarked & Fare\\\\\n",
       "\\hline\n",
       "\t 1   & C   &  NA\\\\\n",
       "\t 2   & S   & 150\\\\\n",
       "\t 3   & Q   & 200\\\\\n",
       "\t 1   & NA  & 100\\\\\n",
       "\\end{tabular}\n"
      ],
      "text/markdown": [
       "\n",
       "Pclass | Embarked | Fare | \n",
       "|---|---|---|---|\n",
       "| 1   | C   |  NA | \n",
       "| 2   | S   | 150 | \n",
       "| 3   | Q   | 200 | \n",
       "| 1   | NA  | 100 | \n",
       "\n",
       "\n"
      ],
      "text/plain": [
       "  Pclass Embarked Fare\n",
       "1 1      C         NA \n",
       "2 2      S        150 \n",
       "3 3      Q        200 \n",
       "4 1      NA       100 "
      ]
     },
     "metadata": {},
     "output_type": "display_data"
    }
   ],
   "source": [
    "library(dplyr)\n",
    "df %>% filter(!is.na(Pclass))"
   ]
  },
  {
   "cell_type": "code",
   "execution_count": 174,
   "metadata": {},
   "outputs": [
    {
     "data": {
      "text/html": [
       "<table>\n",
       "<thead><tr><th scope=col>Pclass</th><th scope=col>Embarked</th><th scope=col>Fare</th></tr></thead>\n",
       "<tbody>\n",
       "\t<tr><td>1  </td><td>C  </td><td> NA</td></tr>\n",
       "\t<tr><td>2  </td><td>S  </td><td>150</td></tr>\n",
       "\t<tr><td>3  </td><td>Q  </td><td>200</td></tr>\n",
       "</tbody>\n",
       "</table>\n"
      ],
      "text/latex": [
       "\\begin{tabular}{r|lll}\n",
       " Pclass & Embarked & Fare\\\\\n",
       "\\hline\n",
       "\t 1   & C   &  NA\\\\\n",
       "\t 2   & S   & 150\\\\\n",
       "\t 3   & Q   & 200\\\\\n",
       "\\end{tabular}\n"
      ],
      "text/markdown": [
       "\n",
       "Pclass | Embarked | Fare | \n",
       "|---|---|---|\n",
       "| 1   | C   |  NA | \n",
       "| 2   | S   | 150 | \n",
       "| 3   | Q   | 200 | \n",
       "\n",
       "\n"
      ],
      "text/plain": [
       "  Pclass Embarked Fare\n",
       "1 1      C         NA \n",
       "2 2      S        150 \n",
       "3 3      Q        200 "
      ]
     },
     "metadata": {},
     "output_type": "display_data"
    }
   ],
   "source": [
    "library(dplyr)\n",
    "df %>% filter(!is.na(Pclass) & !is.na(Embarked))"
   ]
  },
  {
   "cell_type": "markdown",
   "metadata": {},
   "source": [
    "### 결측치가 하나라도 있으면 제거.\n",
    "* na.omit(df) : 결측치가 하나라도 있으면 제거되지만, 분석에 필요한 정보까지 삭제됨."
   ]
  },
  {
   "cell_type": "code",
   "execution_count": 175,
   "metadata": {},
   "outputs": [
    {
     "data": {
      "text/html": [
       "<table>\n",
       "<thead><tr><th></th><th scope=col>Pclass</th><th scope=col>Embarked</th><th scope=col>Fare</th></tr></thead>\n",
       "<tbody>\n",
       "\t<tr><th scope=row>2</th><td>2  </td><td>S  </td><td>150</td></tr>\n",
       "\t<tr><th scope=row>3</th><td>3  </td><td>Q  </td><td>200</td></tr>\n",
       "</tbody>\n",
       "</table>\n"
      ],
      "text/latex": [
       "\\begin{tabular}{r|lll}\n",
       "  & Pclass & Embarked & Fare\\\\\n",
       "\\hline\n",
       "\t2 & 2   & S   & 150\\\\\n",
       "\t3 & 3   & Q   & 200\\\\\n",
       "\\end{tabular}\n"
      ],
      "text/markdown": [
       "\n",
       "| <!--/--> | Pclass | Embarked | Fare | \n",
       "|---|---|\n",
       "| 2 | 2   | S   | 150 | \n",
       "| 3 | 3   | Q   | 200 | \n",
       "\n",
       "\n"
      ],
      "text/plain": [
       "  Pclass Embarked Fare\n",
       "2 2      S        150 \n",
       "3 3      Q        200 "
      ]
     },
     "metadata": {},
     "output_type": "display_data"
    }
   ],
   "source": [
    "df_no <- na.omit(df)\n",
    "df_no"
   ]
  },
  {
   "cell_type": "markdown",
   "metadata": {},
   "source": [
    "### 결측치를 제외하고 연산 수행하기\n",
    "* na.rm 파라미터 사용"
   ]
  },
  {
   "cell_type": "code",
   "execution_count": 176,
   "metadata": {},
   "outputs": [
    {
     "data": {
      "text/html": [
       "<table>\n",
       "<thead><tr><th scope=col>Pclass</th><th scope=col>Embarked</th><th scope=col>Fare</th></tr></thead>\n",
       "<tbody>\n",
       "\t<tr><td> 1 </td><td>C  </td><td> NA</td></tr>\n",
       "\t<tr><td> 2 </td><td>S  </td><td>150</td></tr>\n",
       "\t<tr><td> 3 </td><td>Q  </td><td>200</td></tr>\n",
       "\t<tr><td>NA </td><td>NA </td><td>300</td></tr>\n",
       "\t<tr><td> 1 </td><td>NA </td><td>100</td></tr>\n",
       "</tbody>\n",
       "</table>\n"
      ],
      "text/latex": [
       "\\begin{tabular}{r|lll}\n",
       " Pclass & Embarked & Fare\\\\\n",
       "\\hline\n",
       "\t  1  & C   &  NA\\\\\n",
       "\t  2  & S   & 150\\\\\n",
       "\t  3  & Q   & 200\\\\\n",
       "\t NA  & NA  & 300\\\\\n",
       "\t  1  & NA  & 100\\\\\n",
       "\\end{tabular}\n"
      ],
      "text/markdown": [
       "\n",
       "Pclass | Embarked | Fare | \n",
       "|---|---|---|---|---|\n",
       "|  1  | C   |  NA | \n",
       "|  2  | S   | 150 | \n",
       "|  3  | Q   | 200 | \n",
       "| NA  | NA  | 300 | \n",
       "|  1  | NA  | 100 | \n",
       "\n",
       "\n"
      ],
      "text/plain": [
       "  Pclass Embarked Fare\n",
       "1  1     C         NA \n",
       "2  2     S        150 \n",
       "3  3     Q        200 \n",
       "4 NA     NA       300 \n",
       "5  1     NA       100 "
      ]
     },
     "metadata": {},
     "output_type": "display_data"
    }
   ],
   "source": [
    "df"
   ]
  },
  {
   "cell_type": "code",
   "execution_count": 177,
   "metadata": {},
   "outputs": [
    {
     "data": {
      "text/html": [
       "187.5"
      ],
      "text/latex": [
       "187.5"
      ],
      "text/markdown": [
       "187.5"
      ],
      "text/plain": [
       "[1] 187.5"
      ]
     },
     "metadata": {},
     "output_type": "display_data"
    }
   ],
   "source": [
    "mean(df$Fare, na.rm=T)"
   ]
  },
  {
   "cell_type": "markdown",
   "metadata": {},
   "source": [
    "### mtcars의 데이터 셋의 10행 mpg_part에 저장"
   ]
  },
  {
   "cell_type": "code",
   "execution_count": 178,
   "metadata": {},
   "outputs": [
    {
     "data": {
      "text/html": [
       "<table>\n",
       "<thead><tr><th></th><th scope=col>mpg</th><th scope=col>cyl</th><th scope=col>disp</th><th scope=col>hp</th><th scope=col>drat</th><th scope=col>wt</th><th scope=col>qsec</th><th scope=col>vs</th><th scope=col>am</th><th scope=col>gear</th><th scope=col>carb</th></tr></thead>\n",
       "<tbody>\n",
       "\t<tr><th scope=row>Mazda RX4</th><td>21.0 </td><td>6    </td><td>160.0</td><td>110  </td><td>3.90 </td><td>2.620</td><td>16.46</td><td>0    </td><td>1    </td><td>4    </td><td>4    </td></tr>\n",
       "\t<tr><th scope=row>Mazda RX4 Wag</th><td>21.0 </td><td>6    </td><td>160.0</td><td>110  </td><td>3.90 </td><td>2.875</td><td>17.02</td><td>0    </td><td>1    </td><td>4    </td><td>4    </td></tr>\n",
       "\t<tr><th scope=row>Datsun 710</th><td>22.8 </td><td>4    </td><td>108.0</td><td> 93  </td><td>3.85 </td><td>2.320</td><td>18.61</td><td>1    </td><td>1    </td><td>4    </td><td>1    </td></tr>\n",
       "\t<tr><th scope=row>Hornet 4 Drive</th><td>21.4 </td><td>6    </td><td>258.0</td><td>110  </td><td>3.08 </td><td>3.215</td><td>19.44</td><td>1    </td><td>0    </td><td>3    </td><td>1    </td></tr>\n",
       "\t<tr><th scope=row>Hornet Sportabout</th><td>18.7 </td><td>8    </td><td>360.0</td><td>175  </td><td>3.15 </td><td>3.440</td><td>17.02</td><td>0    </td><td>0    </td><td>3    </td><td>2    </td></tr>\n",
       "\t<tr><th scope=row>Valiant</th><td>18.1 </td><td>6    </td><td>225.0</td><td>105  </td><td>2.76 </td><td>3.460</td><td>20.22</td><td>1    </td><td>0    </td><td>3    </td><td>1    </td></tr>\n",
       "\t<tr><th scope=row>Duster 360</th><td>14.3 </td><td>8    </td><td>360.0</td><td>245  </td><td>3.21 </td><td>3.570</td><td>15.84</td><td>0    </td><td>0    </td><td>3    </td><td>4    </td></tr>\n",
       "\t<tr><th scope=row>Merc 240D</th><td>24.4 </td><td>4    </td><td>146.7</td><td> 62  </td><td>3.69 </td><td>3.190</td><td>20.00</td><td>1    </td><td>0    </td><td>4    </td><td>2    </td></tr>\n",
       "\t<tr><th scope=row>Merc 230</th><td>22.8 </td><td>4    </td><td>140.8</td><td> 95  </td><td>3.92 </td><td>3.150</td><td>22.90</td><td>1    </td><td>0    </td><td>4    </td><td>2    </td></tr>\n",
       "\t<tr><th scope=row>Merc 280</th><td>19.2 </td><td>6    </td><td>167.6</td><td>123  </td><td>3.92 </td><td>3.440</td><td>18.30</td><td>1    </td><td>0    </td><td>4    </td><td>4    </td></tr>\n",
       "</tbody>\n",
       "</table>\n"
      ],
      "text/latex": [
       "\\begin{tabular}{r|lllllllllll}\n",
       "  & mpg & cyl & disp & hp & drat & wt & qsec & vs & am & gear & carb\\\\\n",
       "\\hline\n",
       "\tMazda RX4 & 21.0  & 6     & 160.0 & 110   & 3.90  & 2.620 & 16.46 & 0     & 1     & 4     & 4    \\\\\n",
       "\tMazda RX4 Wag & 21.0  & 6     & 160.0 & 110   & 3.90  & 2.875 & 17.02 & 0     & 1     & 4     & 4    \\\\\n",
       "\tDatsun 710 & 22.8  & 4     & 108.0 &  93   & 3.85  & 2.320 & 18.61 & 1     & 1     & 4     & 1    \\\\\n",
       "\tHornet 4 Drive & 21.4  & 6     & 258.0 & 110   & 3.08  & 3.215 & 19.44 & 1     & 0     & 3     & 1    \\\\\n",
       "\tHornet Sportabout & 18.7  & 8     & 360.0 & 175   & 3.15  & 3.440 & 17.02 & 0     & 0     & 3     & 2    \\\\\n",
       "\tValiant & 18.1  & 6     & 225.0 & 105   & 2.76  & 3.460 & 20.22 & 1     & 0     & 3     & 1    \\\\\n",
       "\tDuster 360 & 14.3  & 8     & 360.0 & 245   & 3.21  & 3.570 & 15.84 & 0     & 0     & 3     & 4    \\\\\n",
       "\tMerc 240D & 24.4  & 4     & 146.7 &  62   & 3.69  & 3.190 & 20.00 & 1     & 0     & 4     & 2    \\\\\n",
       "\tMerc 230 & 22.8  & 4     & 140.8 &  95   & 3.92  & 3.150 & 22.90 & 1     & 0     & 4     & 2    \\\\\n",
       "\tMerc 280 & 19.2  & 6     & 167.6 & 123   & 3.92  & 3.440 & 18.30 & 1     & 0     & 4     & 4    \\\\\n",
       "\\end{tabular}\n"
      ],
      "text/markdown": [
       "\n",
       "| <!--/--> | mpg | cyl | disp | hp | drat | wt | qsec | vs | am | gear | carb | \n",
       "|---|---|---|---|---|---|---|---|---|---|\n",
       "| Mazda RX4 | 21.0  | 6     | 160.0 | 110   | 3.90  | 2.620 | 16.46 | 0     | 1     | 4     | 4     | \n",
       "| Mazda RX4 Wag | 21.0  | 6     | 160.0 | 110   | 3.90  | 2.875 | 17.02 | 0     | 1     | 4     | 4     | \n",
       "| Datsun 710 | 22.8  | 4     | 108.0 |  93   | 3.85  | 2.320 | 18.61 | 1     | 1     | 4     | 1     | \n",
       "| Hornet 4 Drive | 21.4  | 6     | 258.0 | 110   | 3.08  | 3.215 | 19.44 | 1     | 0     | 3     | 1     | \n",
       "| Hornet Sportabout | 18.7  | 8     | 360.0 | 175   | 3.15  | 3.440 | 17.02 | 0     | 0     | 3     | 2     | \n",
       "| Valiant | 18.1  | 6     | 225.0 | 105   | 2.76  | 3.460 | 20.22 | 1     | 0     | 3     | 1     | \n",
       "| Duster 360 | 14.3  | 8     | 360.0 | 245   | 3.21  | 3.570 | 15.84 | 0     | 0     | 3     | 4     | \n",
       "| Merc 240D | 24.4  | 4     | 146.7 |  62   | 3.69  | 3.190 | 20.00 | 1     | 0     | 4     | 2     | \n",
       "| Merc 230 | 22.8  | 4     | 140.8 |  95   | 3.92  | 3.150 | 22.90 | 1     | 0     | 4     | 2     | \n",
       "| Merc 280 | 19.2  | 6     | 167.6 | 123   | 3.92  | 3.440 | 18.30 | 1     | 0     | 4     | 4     | \n",
       "\n",
       "\n"
      ],
      "text/plain": [
       "                  mpg  cyl disp  hp  drat wt    qsec  vs am gear carb\n",
       "Mazda RX4         21.0 6   160.0 110 3.90 2.620 16.46 0  1  4    4   \n",
       "Mazda RX4 Wag     21.0 6   160.0 110 3.90 2.875 17.02 0  1  4    4   \n",
       "Datsun 710        22.8 4   108.0  93 3.85 2.320 18.61 1  1  4    1   \n",
       "Hornet 4 Drive    21.4 6   258.0 110 3.08 3.215 19.44 1  0  3    1   \n",
       "Hornet Sportabout 18.7 8   360.0 175 3.15 3.440 17.02 0  0  3    2   \n",
       "Valiant           18.1 6   225.0 105 2.76 3.460 20.22 1  0  3    1   \n",
       "Duster 360        14.3 8   360.0 245 3.21 3.570 15.84 0  0  3    4   \n",
       "Merc 240D         24.4 4   146.7  62 3.69 3.190 20.00 1  0  4    2   \n",
       "Merc 230          22.8 4   140.8  95 3.92 3.150 22.90 1  0  4    2   \n",
       "Merc 280          19.2 6   167.6 123 3.92 3.440 18.30 1  0  4    4   "
      ]
     },
     "metadata": {},
     "output_type": "display_data"
    }
   ],
   "source": [
    "mtcars[seq(1,10,1), ]"
   ]
  },
  {
   "cell_type": "code",
   "execution_count": 179,
   "metadata": {},
   "outputs": [
    {
     "data": {
      "text/html": [
       "<ol class=list-inline>\n",
       "\t<li>1</li>\n",
       "\t<li>2</li>\n",
       "\t<li>3</li>\n",
       "\t<li>4</li>\n",
       "\t<li>5</li>\n",
       "</ol>\n"
      ],
      "text/latex": [
       "\\begin{enumerate*}\n",
       "\\item 1\n",
       "\\item 2\n",
       "\\item 3\n",
       "\\item 4\n",
       "\\item 5\n",
       "\\end{enumerate*}\n"
      ],
      "text/markdown": [
       "1. 1\n",
       "2. 2\n",
       "3. 3\n",
       "4. 4\n",
       "5. 5\n",
       "\n",
       "\n"
      ],
      "text/plain": [
       "[1] 1 2 3 4 5"
      ]
     },
     "metadata": {},
     "output_type": "display_data"
    }
   ],
   "source": [
    "1:5"
   ]
  },
  {
   "cell_type": "code",
   "execution_count": 180,
   "metadata": {},
   "outputs": [
    {
     "data": {
      "text/html": [
       "<table>\n",
       "<thead><tr><th></th><th scope=col>mpg</th><th scope=col>cyl</th><th scope=col>disp</th><th scope=col>hp</th><th scope=col>drat</th></tr></thead>\n",
       "<tbody>\n",
       "\t<tr><th scope=row>Mazda RX4</th><td>21.0 </td><td>6    </td><td>160.0</td><td>110  </td><td>3.90 </td></tr>\n",
       "\t<tr><th scope=row>Mazda RX4 Wag</th><td>21.0 </td><td>6    </td><td>160.0</td><td>110  </td><td>3.90 </td></tr>\n",
       "\t<tr><th scope=row>Datsun 710</th><td>22.8 </td><td>4    </td><td>108.0</td><td> 93  </td><td>3.85 </td></tr>\n",
       "\t<tr><th scope=row>Hornet 4 Drive</th><td>21.4 </td><td>6    </td><td>258.0</td><td>110  </td><td>3.08 </td></tr>\n",
       "\t<tr><th scope=row>Hornet Sportabout</th><td>18.7 </td><td>8    </td><td>360.0</td><td>175  </td><td>3.15 </td></tr>\n",
       "\t<tr><th scope=row>Valiant</th><td>18.1 </td><td>6    </td><td>225.0</td><td>105  </td><td>2.76 </td></tr>\n",
       "\t<tr><th scope=row>Duster 360</th><td>14.3 </td><td>8    </td><td>360.0</td><td>245  </td><td>3.21 </td></tr>\n",
       "\t<tr><th scope=row>Merc 240D</th><td>24.4 </td><td>4    </td><td>146.7</td><td> 62  </td><td>3.69 </td></tr>\n",
       "\t<tr><th scope=row>Merc 230</th><td>22.8 </td><td>4    </td><td>140.8</td><td> 95  </td><td>3.92 </td></tr>\n",
       "\t<tr><th scope=row>Merc 280</th><td>19.2 </td><td>6    </td><td>167.6</td><td>123  </td><td>3.92 </td></tr>\n",
       "</tbody>\n",
       "</table>\n"
      ],
      "text/latex": [
       "\\begin{tabular}{r|lllll}\n",
       "  & mpg & cyl & disp & hp & drat\\\\\n",
       "\\hline\n",
       "\tMazda RX4 & 21.0  & 6     & 160.0 & 110   & 3.90 \\\\\n",
       "\tMazda RX4 Wag & 21.0  & 6     & 160.0 & 110   & 3.90 \\\\\n",
       "\tDatsun 710 & 22.8  & 4     & 108.0 &  93   & 3.85 \\\\\n",
       "\tHornet 4 Drive & 21.4  & 6     & 258.0 & 110   & 3.08 \\\\\n",
       "\tHornet Sportabout & 18.7  & 8     & 360.0 & 175   & 3.15 \\\\\n",
       "\tValiant & 18.1  & 6     & 225.0 & 105   & 2.76 \\\\\n",
       "\tDuster 360 & 14.3  & 8     & 360.0 & 245   & 3.21 \\\\\n",
       "\tMerc 240D & 24.4  & 4     & 146.7 &  62   & 3.69 \\\\\n",
       "\tMerc 230 & 22.8  & 4     & 140.8 &  95   & 3.92 \\\\\n",
       "\tMerc 280 & 19.2  & 6     & 167.6 & 123   & 3.92 \\\\\n",
       "\\end{tabular}\n"
      ],
      "text/markdown": [
       "\n",
       "| <!--/--> | mpg | cyl | disp | hp | drat | \n",
       "|---|---|---|---|---|---|---|---|---|---|\n",
       "| Mazda RX4 | 21.0  | 6     | 160.0 | 110   | 3.90  | \n",
       "| Mazda RX4 Wag | 21.0  | 6     | 160.0 | 110   | 3.90  | \n",
       "| Datsun 710 | 22.8  | 4     | 108.0 |  93   | 3.85  | \n",
       "| Hornet 4 Drive | 21.4  | 6     | 258.0 | 110   | 3.08  | \n",
       "| Hornet Sportabout | 18.7  | 8     | 360.0 | 175   | 3.15  | \n",
       "| Valiant | 18.1  | 6     | 225.0 | 105   | 2.76  | \n",
       "| Duster 360 | 14.3  | 8     | 360.0 | 245   | 3.21  | \n",
       "| Merc 240D | 24.4  | 4     | 146.7 |  62   | 3.69  | \n",
       "| Merc 230 | 22.8  | 4     | 140.8 |  95   | 3.92  | \n",
       "| Merc 280 | 19.2  | 6     | 167.6 | 123   | 3.92  | \n",
       "\n",
       "\n"
      ],
      "text/plain": [
       "                  mpg  cyl disp  hp  drat\n",
       "Mazda RX4         21.0 6   160.0 110 3.90\n",
       "Mazda RX4 Wag     21.0 6   160.0 110 3.90\n",
       "Datsun 710        22.8 4   108.0  93 3.85\n",
       "Hornet 4 Drive    21.4 6   258.0 110 3.08\n",
       "Hornet Sportabout 18.7 8   360.0 175 3.15\n",
       "Valiant           18.1 6   225.0 105 2.76\n",
       "Duster 360        14.3 8   360.0 245 3.21\n",
       "Merc 240D         24.4 4   146.7  62 3.69\n",
       "Merc 230          22.8 4   140.8  95 3.92\n",
       "Merc 280          19.2 6   167.6 123 3.92"
      ]
     },
     "metadata": {},
     "output_type": "display_data"
    }
   ],
   "source": [
    "mc_part <- mtcars[seq(1,10,1), 1:5]   # 1행부터 10행, 그리고 1열부터 5열까지\n",
    "mc_part"
   ]
  },
  {
   "cell_type": "markdown",
   "metadata": {},
   "source": [
    "### 결측치 적용"
   ]
  },
  {
   "cell_type": "code",
   "execution_count": 181,
   "metadata": {},
   "outputs": [
    {
     "data": {
      "text/html": [
       "<table>\n",
       "<thead><tr><th></th><th scope=col>mpg</th><th scope=col>cyl</th><th scope=col>disp</th><th scope=col>hp</th><th scope=col>drat</th></tr></thead>\n",
       "<tbody>\n",
       "\t<tr><th scope=row>Mazda RX4</th><td>21.0 </td><td>6    </td><td>160.0</td><td>110  </td><td>3.90 </td></tr>\n",
       "\t<tr><th scope=row>Mazda RX4 Wag</th><td>21.0 </td><td>6    </td><td>160.0</td><td>110  </td><td>3.90 </td></tr>\n",
       "\t<tr><th scope=row>Datsun 710</th><td>22.8 </td><td>4    </td><td>108.0</td><td> 93  </td><td>3.85 </td></tr>\n",
       "\t<tr><th scope=row>Hornet 4 Drive</th><td>21.4 </td><td>6    </td><td>258.0</td><td>110  </td><td>  NA </td></tr>\n",
       "\t<tr><th scope=row>Hornet Sportabout</th><td>18.7 </td><td>8    </td><td>360.0</td><td>175  </td><td>3.15 </td></tr>\n",
       "\t<tr><th scope=row>Valiant</th><td>18.1 </td><td>6    </td><td>225.0</td><td>105  </td><td>2.76 </td></tr>\n",
       "\t<tr><th scope=row>Duster 360</th><td>14.3 </td><td>8    </td><td>360.0</td><td>245  </td><td>3.21 </td></tr>\n",
       "\t<tr><th scope=row>Merc 240D</th><td>24.4 </td><td>4    </td><td>146.7</td><td> 62  </td><td>  NA </td></tr>\n",
       "\t<tr><th scope=row>Merc 230</th><td>22.8 </td><td>4    </td><td>140.8</td><td> 95  </td><td>3.92 </td></tr>\n",
       "\t<tr><th scope=row>Merc 280</th><td>19.2 </td><td>6    </td><td>167.6</td><td>123  </td><td>3.92 </td></tr>\n",
       "</tbody>\n",
       "</table>\n"
      ],
      "text/latex": [
       "\\begin{tabular}{r|lllll}\n",
       "  & mpg & cyl & disp & hp & drat\\\\\n",
       "\\hline\n",
       "\tMazda RX4 & 21.0  & 6     & 160.0 & 110   & 3.90 \\\\\n",
       "\tMazda RX4 Wag & 21.0  & 6     & 160.0 & 110   & 3.90 \\\\\n",
       "\tDatsun 710 & 22.8  & 4     & 108.0 &  93   & 3.85 \\\\\n",
       "\tHornet 4 Drive & 21.4  & 6     & 258.0 & 110   &   NA \\\\\n",
       "\tHornet Sportabout & 18.7  & 8     & 360.0 & 175   & 3.15 \\\\\n",
       "\tValiant & 18.1  & 6     & 225.0 & 105   & 2.76 \\\\\n",
       "\tDuster 360 & 14.3  & 8     & 360.0 & 245   & 3.21 \\\\\n",
       "\tMerc 240D & 24.4  & 4     & 146.7 &  62   &   NA \\\\\n",
       "\tMerc 230 & 22.8  & 4     & 140.8 &  95   & 3.92 \\\\\n",
       "\tMerc 280 & 19.2  & 6     & 167.6 & 123   & 3.92 \\\\\n",
       "\\end{tabular}\n"
      ],
      "text/markdown": [
       "\n",
       "| <!--/--> | mpg | cyl | disp | hp | drat | \n",
       "|---|---|---|---|---|---|---|---|---|---|\n",
       "| Mazda RX4 | 21.0  | 6     | 160.0 | 110   | 3.90  | \n",
       "| Mazda RX4 Wag | 21.0  | 6     | 160.0 | 110   | 3.90  | \n",
       "| Datsun 710 | 22.8  | 4     | 108.0 |  93   | 3.85  | \n",
       "| Hornet 4 Drive | 21.4  | 6     | 258.0 | 110   |   NA  | \n",
       "| Hornet Sportabout | 18.7  | 8     | 360.0 | 175   | 3.15  | \n",
       "| Valiant | 18.1  | 6     | 225.0 | 105   | 2.76  | \n",
       "| Duster 360 | 14.3  | 8     | 360.0 | 245   | 3.21  | \n",
       "| Merc 240D | 24.4  | 4     | 146.7 |  62   |   NA  | \n",
       "| Merc 230 | 22.8  | 4     | 140.8 |  95   | 3.92  | \n",
       "| Merc 280 | 19.2  | 6     | 167.6 | 123   | 3.92  | \n",
       "\n",
       "\n"
      ],
      "text/plain": [
       "                  mpg  cyl disp  hp  drat\n",
       "Mazda RX4         21.0 6   160.0 110 3.90\n",
       "Mazda RX4 Wag     21.0 6   160.0 110 3.90\n",
       "Datsun 710        22.8 4   108.0  93 3.85\n",
       "Hornet 4 Drive    21.4 6   258.0 110   NA\n",
       "Hornet Sportabout 18.7 8   360.0 175 3.15\n",
       "Valiant           18.1 6   225.0 105 2.76\n",
       "Duster 360        14.3 8   360.0 245 3.21\n",
       "Merc 240D         24.4 4   146.7  62   NA\n",
       "Merc 230          22.8 4   140.8  95 3.92\n",
       "Merc 280          19.2 6   167.6 123 3.92"
      ]
     },
     "metadata": {},
     "output_type": "display_data"
    }
   ],
   "source": [
    "mc_part[c(4,8),'drat'] <- NA\n",
    "mc_part"
   ]
  },
  {
   "cell_type": "code",
   "execution_count": 182,
   "metadata": {},
   "outputs": [
    {
     "data": {
      "text/html": [
       "<table>\n",
       "<thead><tr><th scope=col>mean_drat</th></tr></thead>\n",
       "<tbody>\n",
       "\t<tr><td>NA</td></tr>\n",
       "</tbody>\n",
       "</table>\n"
      ],
      "text/latex": [
       "\\begin{tabular}{r|l}\n",
       " mean\\_drat\\\\\n",
       "\\hline\n",
       "\t NA\\\\\n",
       "\\end{tabular}\n"
      ],
      "text/markdown": [
       "\n",
       "mean_drat | \n",
       "|---|\n",
       "| NA | \n",
       "\n",
       "\n"
      ],
      "text/plain": [
       "  mean_drat\n",
       "1 NA       "
      ]
     },
     "metadata": {},
     "output_type": "display_data"
    }
   ],
   "source": [
    "mc_part %>% summarise(mean_drat = mean(drat))"
   ]
  },
  {
   "cell_type": "markdown",
   "metadata": {},
   "source": [
    "### na.rm을 적용 후, 평균 구하기"
   ]
  },
  {
   "cell_type": "code",
   "execution_count": 183,
   "metadata": {},
   "outputs": [
    {
     "data": {
      "text/html": [
       "<table>\n",
       "<thead><tr><th scope=col>mean_drat</th></tr></thead>\n",
       "<tbody>\n",
       "\t<tr><td>3.57625</td></tr>\n",
       "</tbody>\n",
       "</table>\n"
      ],
      "text/latex": [
       "\\begin{tabular}{r|l}\n",
       " mean\\_drat\\\\\n",
       "\\hline\n",
       "\t 3.57625\\\\\n",
       "\\end{tabular}\n"
      ],
      "text/markdown": [
       "\n",
       "mean_drat | \n",
       "|---|\n",
       "| 3.57625 | \n",
       "\n",
       "\n"
      ],
      "text/plain": [
       "  mean_drat\n",
       "1 3.57625  "
      ]
     },
     "metadata": {},
     "output_type": "display_data"
    }
   ],
   "source": [
    "mc_part %>% summarise(mean_drat = mean(drat, na.rm=T))"
   ]
  },
  {
   "cell_type": "code",
   "execution_count": 184,
   "metadata": {},
   "outputs": [
    {
     "data": {
      "text/html": [
       "<table>\n",
       "<thead><tr><th scope=col>mean_drat</th><th scope=col>sum_drat</th><th scope=col>med_drat</th></tr></thead>\n",
       "<tbody>\n",
       "\t<tr><td>3.57625</td><td>28.61  </td><td>3.875  </td></tr>\n",
       "</tbody>\n",
       "</table>\n"
      ],
      "text/latex": [
       "\\begin{tabular}{r|lll}\n",
       " mean\\_drat & sum\\_drat & med\\_drat\\\\\n",
       "\\hline\n",
       "\t 3.57625 & 28.61   & 3.875  \\\\\n",
       "\\end{tabular}\n"
      ],
      "text/markdown": [
       "\n",
       "mean_drat | sum_drat | med_drat | \n",
       "|---|\n",
       "| 3.57625 | 28.61   | 3.875   | \n",
       "\n",
       "\n"
      ],
      "text/plain": [
       "  mean_drat sum_drat med_drat\n",
       "1 3.57625   28.61    3.875   "
      ]
     },
     "metadata": {},
     "output_type": "display_data"
    },
    {
     "data": {
      "text/html": [
       "<table>\n",
       "<thead><tr><th></th><th scope=col>mpg</th><th scope=col>cyl</th><th scope=col>disp</th><th scope=col>hp</th><th scope=col>drat</th></tr></thead>\n",
       "<tbody>\n",
       "\t<tr><th scope=row>Mazda RX4</th><td>21.0 </td><td>6    </td><td>160.0</td><td>110  </td><td>3.90 </td></tr>\n",
       "\t<tr><th scope=row>Mazda RX4 Wag</th><td>21.0 </td><td>6    </td><td>160.0</td><td>110  </td><td>3.90 </td></tr>\n",
       "\t<tr><th scope=row>Datsun 710</th><td>22.8 </td><td>4    </td><td>108.0</td><td> 93  </td><td>3.85 </td></tr>\n",
       "\t<tr><th scope=row>Hornet 4 Drive</th><td>21.4 </td><td>6    </td><td>258.0</td><td>110  </td><td>  NA </td></tr>\n",
       "\t<tr><th scope=row>Hornet Sportabout</th><td>18.7 </td><td>8    </td><td>360.0</td><td>175  </td><td>3.15 </td></tr>\n",
       "\t<tr><th scope=row>Valiant</th><td>18.1 </td><td>6    </td><td>225.0</td><td>105  </td><td>2.76 </td></tr>\n",
       "\t<tr><th scope=row>Duster 360</th><td>14.3 </td><td>8    </td><td>360.0</td><td>245  </td><td>3.21 </td></tr>\n",
       "\t<tr><th scope=row>Merc 240D</th><td>24.4 </td><td>4    </td><td>146.7</td><td> 62  </td><td>  NA </td></tr>\n",
       "\t<tr><th scope=row>Merc 230</th><td>22.8 </td><td>4    </td><td>140.8</td><td> 95  </td><td>3.92 </td></tr>\n",
       "\t<tr><th scope=row>Merc 280</th><td>19.2 </td><td>6    </td><td>167.6</td><td>123  </td><td>3.92 </td></tr>\n",
       "</tbody>\n",
       "</table>\n"
      ],
      "text/latex": [
       "\\begin{tabular}{r|lllll}\n",
       "  & mpg & cyl & disp & hp & drat\\\\\n",
       "\\hline\n",
       "\tMazda RX4 & 21.0  & 6     & 160.0 & 110   & 3.90 \\\\\n",
       "\tMazda RX4 Wag & 21.0  & 6     & 160.0 & 110   & 3.90 \\\\\n",
       "\tDatsun 710 & 22.8  & 4     & 108.0 &  93   & 3.85 \\\\\n",
       "\tHornet 4 Drive & 21.4  & 6     & 258.0 & 110   &   NA \\\\\n",
       "\tHornet Sportabout & 18.7  & 8     & 360.0 & 175   & 3.15 \\\\\n",
       "\tValiant & 18.1  & 6     & 225.0 & 105   & 2.76 \\\\\n",
       "\tDuster 360 & 14.3  & 8     & 360.0 & 245   & 3.21 \\\\\n",
       "\tMerc 240D & 24.4  & 4     & 146.7 &  62   &   NA \\\\\n",
       "\tMerc 230 & 22.8  & 4     & 140.8 &  95   & 3.92 \\\\\n",
       "\tMerc 280 & 19.2  & 6     & 167.6 & 123   & 3.92 \\\\\n",
       "\\end{tabular}\n"
      ],
      "text/markdown": [
       "\n",
       "| <!--/--> | mpg | cyl | disp | hp | drat | \n",
       "|---|---|---|---|---|---|---|---|---|---|\n",
       "| Mazda RX4 | 21.0  | 6     | 160.0 | 110   | 3.90  | \n",
       "| Mazda RX4 Wag | 21.0  | 6     | 160.0 | 110   | 3.90  | \n",
       "| Datsun 710 | 22.8  | 4     | 108.0 |  93   | 3.85  | \n",
       "| Hornet 4 Drive | 21.4  | 6     | 258.0 | 110   |   NA  | \n",
       "| Hornet Sportabout | 18.7  | 8     | 360.0 | 175   | 3.15  | \n",
       "| Valiant | 18.1  | 6     | 225.0 | 105   | 2.76  | \n",
       "| Duster 360 | 14.3  | 8     | 360.0 | 245   | 3.21  | \n",
       "| Merc 240D | 24.4  | 4     | 146.7 |  62   |   NA  | \n",
       "| Merc 230 | 22.8  | 4     | 140.8 |  95   | 3.92  | \n",
       "| Merc 280 | 19.2  | 6     | 167.6 | 123   | 3.92  | \n",
       "\n",
       "\n"
      ],
      "text/plain": [
       "                  mpg  cyl disp  hp  drat\n",
       "Mazda RX4         21.0 6   160.0 110 3.90\n",
       "Mazda RX4 Wag     21.0 6   160.0 110 3.90\n",
       "Datsun 710        22.8 4   108.0  93 3.85\n",
       "Hornet 4 Drive    21.4 6   258.0 110   NA\n",
       "Hornet Sportabout 18.7 8   360.0 175 3.15\n",
       "Valiant           18.1 6   225.0 105 2.76\n",
       "Duster 360        14.3 8   360.0 245 3.21\n",
       "Merc 240D         24.4 4   146.7  62   NA\n",
       "Merc 230          22.8 4   140.8  95 3.92\n",
       "Merc 280          19.2 6   167.6 123 3.92"
      ]
     },
     "metadata": {},
     "output_type": "display_data"
    }
   ],
   "source": [
    "mc_part %>% summarise(mean_drat = mean(drat, na.rm=T), \n",
    "                          sum_drat = sum(drat, na.rm=T),\n",
    "                          med_drat = median(drat, na.rm=T))\n",
    "mc_part"
   ]
  },
  {
   "cell_type": "markdown",
   "metadata": {},
   "source": [
    "### drat 컬럼의 NA을 평균값을 대체하기"
   ]
  },
  {
   "cell_type": "code",
   "execution_count": 185,
   "metadata": {},
   "outputs": [
    {
     "data": {
      "text/html": [
       "3.57625"
      ],
      "text/latex": [
       "3.57625"
      ],
      "text/markdown": [
       "3.57625"
      ],
      "text/plain": [
       "[1] 3.57625"
      ]
     },
     "metadata": {},
     "output_type": "display_data"
    }
   ],
   "source": [
    "mean(mc_part$drat, na.rm=T)"
   ]
  },
  {
   "cell_type": "code",
   "execution_count": 186,
   "metadata": {},
   "outputs": [
    {
     "data": {
      "text/html": [
       "<table>\n",
       "<thead><tr><th></th><th scope=col>mpg</th><th scope=col>cyl</th><th scope=col>disp</th><th scope=col>hp</th><th scope=col>drat</th></tr></thead>\n",
       "<tbody>\n",
       "\t<tr><th scope=row>Mazda RX4</th><td>21.0   </td><td>6      </td><td>160.0  </td><td>110    </td><td>3.90000</td></tr>\n",
       "\t<tr><th scope=row>Mazda RX4 Wag</th><td>21.0   </td><td>6      </td><td>160.0  </td><td>110    </td><td>3.90000</td></tr>\n",
       "\t<tr><th scope=row>Datsun 710</th><td>22.8   </td><td>4      </td><td>108.0  </td><td> 93    </td><td>3.85000</td></tr>\n",
       "\t<tr><th scope=row>Hornet 4 Drive</th><td>21.4   </td><td>6      </td><td>258.0  </td><td>110    </td><td>3.57625</td></tr>\n",
       "\t<tr><th scope=row>Hornet Sportabout</th><td>18.7   </td><td>8      </td><td>360.0  </td><td>175    </td><td>3.15000</td></tr>\n",
       "\t<tr><th scope=row>Valiant</th><td>18.1   </td><td>6      </td><td>225.0  </td><td>105    </td><td>2.76000</td></tr>\n",
       "\t<tr><th scope=row>Duster 360</th><td>14.3   </td><td>8      </td><td>360.0  </td><td>245    </td><td>3.21000</td></tr>\n",
       "\t<tr><th scope=row>Merc 240D</th><td>24.4   </td><td>4      </td><td>146.7  </td><td> 62    </td><td>3.57625</td></tr>\n",
       "\t<tr><th scope=row>Merc 230</th><td>22.8   </td><td>4      </td><td>140.8  </td><td> 95    </td><td>3.92000</td></tr>\n",
       "\t<tr><th scope=row>Merc 280</th><td>19.2   </td><td>6      </td><td>167.6  </td><td>123    </td><td>3.92000</td></tr>\n",
       "</tbody>\n",
       "</table>\n"
      ],
      "text/latex": [
       "\\begin{tabular}{r|lllll}\n",
       "  & mpg & cyl & disp & hp & drat\\\\\n",
       "\\hline\n",
       "\tMazda RX4 & 21.0    & 6       & 160.0   & 110     & 3.90000\\\\\n",
       "\tMazda RX4 Wag & 21.0    & 6       & 160.0   & 110     & 3.90000\\\\\n",
       "\tDatsun 710 & 22.8    & 4       & 108.0   &  93     & 3.85000\\\\\n",
       "\tHornet 4 Drive & 21.4    & 6       & 258.0   & 110     & 3.57625\\\\\n",
       "\tHornet Sportabout & 18.7    & 8       & 360.0   & 175     & 3.15000\\\\\n",
       "\tValiant & 18.1    & 6       & 225.0   & 105     & 2.76000\\\\\n",
       "\tDuster 360 & 14.3    & 8       & 360.0   & 245     & 3.21000\\\\\n",
       "\tMerc 240D & 24.4    & 4       & 146.7   &  62     & 3.57625\\\\\n",
       "\tMerc 230 & 22.8    & 4       & 140.8   &  95     & 3.92000\\\\\n",
       "\tMerc 280 & 19.2    & 6       & 167.6   & 123     & 3.92000\\\\\n",
       "\\end{tabular}\n"
      ],
      "text/markdown": [
       "\n",
       "| <!--/--> | mpg | cyl | disp | hp | drat | \n",
       "|---|---|---|---|---|---|---|---|---|---|\n",
       "| Mazda RX4 | 21.0    | 6       | 160.0   | 110     | 3.90000 | \n",
       "| Mazda RX4 Wag | 21.0    | 6       | 160.0   | 110     | 3.90000 | \n",
       "| Datsun 710 | 22.8    | 4       | 108.0   |  93     | 3.85000 | \n",
       "| Hornet 4 Drive | 21.4    | 6       | 258.0   | 110     | 3.57625 | \n",
       "| Hornet Sportabout | 18.7    | 8       | 360.0   | 175     | 3.15000 | \n",
       "| Valiant | 18.1    | 6       | 225.0   | 105     | 2.76000 | \n",
       "| Duster 360 | 14.3    | 8       | 360.0   | 245     | 3.21000 | \n",
       "| Merc 240D | 24.4    | 4       | 146.7   |  62     | 3.57625 | \n",
       "| Merc 230 | 22.8    | 4       | 140.8   |  95     | 3.92000 | \n",
       "| Merc 280 | 19.2    | 6       | 167.6   | 123     | 3.92000 | \n",
       "\n",
       "\n"
      ],
      "text/plain": [
       "                  mpg  cyl disp  hp  drat   \n",
       "Mazda RX4         21.0 6   160.0 110 3.90000\n",
       "Mazda RX4 Wag     21.0 6   160.0 110 3.90000\n",
       "Datsun 710        22.8 4   108.0  93 3.85000\n",
       "Hornet 4 Drive    21.4 6   258.0 110 3.57625\n",
       "Hornet Sportabout 18.7 8   360.0 175 3.15000\n",
       "Valiant           18.1 6   225.0 105 2.76000\n",
       "Duster 360        14.3 8   360.0 245 3.21000\n",
       "Merc 240D         24.4 4   146.7  62 3.57625\n",
       "Merc 230          22.8 4   140.8  95 3.92000\n",
       "Merc 280          19.2 6   167.6 123 3.92000"
      ]
     },
     "metadata": {},
     "output_type": "display_data"
    },
    {
     "data": {
      "text/plain": [
       "\n",
       "FALSE \n",
       "   10 "
      ]
     },
     "metadata": {},
     "output_type": "display_data"
    }
   ],
   "source": [
    "mc_part$drat <- ifelse(is.na(mc_part$drat), 3.57625, mc_part$drat )\n",
    "mc_part\n",
    "table(is.na(mc_part$drat) ) "
   ]
  },
  {
   "cell_type": "markdown",
   "metadata": {},
   "source": [
    "### (실습해보기) L1-1\n",
    "* mpg 데이터 셋에 대해 결측치를 대해 만들고, 이에 대한 mean_mpg, sum_mpg, med_mpg을 구해보자\n",
    "* 결측치를 중앙값으로 대체해 보자."
   ]
  },
  {
   "cell_type": "markdown",
   "metadata": {},
   "source": [
    "### 02 이상치 찾고, 이를 처리하기 "
   ]
  },
  {
   "cell_type": "code",
   "execution_count": 187,
   "metadata": {},
   "outputs": [
    {
     "data": {
      "text/html": [
       "<table>\n",
       "<thead><tr><th scope=col>Pclass</th><th scope=col>family</th></tr></thead>\n",
       "<tbody>\n",
       "\t<tr><td> 1</td><td>1 </td></tr>\n",
       "\t<tr><td> 2</td><td>2 </td></tr>\n",
       "\t<tr><td> 3</td><td>3 </td></tr>\n",
       "\t<tr><td> 4</td><td>1 </td></tr>\n",
       "\t<tr><td>55</td><td>2 </td></tr>\n",
       "\t<tr><td> 3</td><td>3 </td></tr>\n",
       "\t<tr><td> 1</td><td>1 </td></tr>\n",
       "\t<tr><td> 1</td><td>1 </td></tr>\n",
       "\t<tr><td> 2</td><td>1 </td></tr>\n",
       "</tbody>\n",
       "</table>\n"
      ],
      "text/latex": [
       "\\begin{tabular}{r|ll}\n",
       " Pclass & family\\\\\n",
       "\\hline\n",
       "\t  1 & 1 \\\\\n",
       "\t  2 & 2 \\\\\n",
       "\t  3 & 3 \\\\\n",
       "\t  4 & 1 \\\\\n",
       "\t 55 & 2 \\\\\n",
       "\t  3 & 3 \\\\\n",
       "\t  1 & 1 \\\\\n",
       "\t  1 & 1 \\\\\n",
       "\t  2 & 1 \\\\\n",
       "\\end{tabular}\n"
      ],
      "text/markdown": [
       "\n",
       "Pclass | family | \n",
       "|---|---|---|---|---|---|---|---|---|\n",
       "|  1 | 1  | \n",
       "|  2 | 2  | \n",
       "|  3 | 3  | \n",
       "|  4 | 1  | \n",
       "| 55 | 2  | \n",
       "|  3 | 3  | \n",
       "|  1 | 1  | \n",
       "|  1 | 1  | \n",
       "|  2 | 1  | \n",
       "\n",
       "\n"
      ],
      "text/plain": [
       "  Pclass family\n",
       "1  1     1     \n",
       "2  2     2     \n",
       "3  3     3     \n",
       "4  4     1     \n",
       "5 55     2     \n",
       "6  3     3     \n",
       "7  1     1     \n",
       "8  1     1     \n",
       "9  2     1     "
      ]
     },
     "metadata": {},
     "output_type": "display_data"
    }
   ],
   "source": [
    "outlier <- data.frame(Pclass=c(1,2,3,4,55,3,1,1,2), family=c(1,2,3,1,2,3,1,1,1))\n",
    "outlier"
   ]
  },
  {
   "cell_type": "code",
   "execution_count": 188,
   "metadata": {},
   "outputs": [],
   "source": [
    "library(ggplot2)"
   ]
  },
  {
   "cell_type": "code",
   "execution_count": 189,
   "metadata": {},
   "outputs": [
    {
     "data": {},
     "metadata": {},
     "output_type": "display_data"
    },
    {
     "data": {
      "image/png": "[encoded data removed]",
      "text/plain": [
       "plot without title"
      ]
     },
     "metadata": {},
     "output_type": "display_data"
    }
   ],
   "source": [
    "ggplot(outlier, aes(x=Pclass)) + geom_bar()"
   ]
  },
  {
   "cell_type": "code",
   "execution_count": 190,
   "metadata": {},
   "outputs": [
    {
     "data": {
      "text/html": [
       "<ol class=list-inline>\n",
       "\t<li>TRUE</li>\n",
       "\t<li>TRUE</li>\n",
       "\t<li>TRUE</li>\n",
       "\t<li>FALSE</li>\n",
       "\t<li>FALSE</li>\n",
       "\t<li>TRUE</li>\n",
       "\t<li>TRUE</li>\n",
       "\t<li>TRUE</li>\n",
       "\t<li>TRUE</li>\n",
       "</ol>\n"
      ],
      "text/latex": [
       "\\begin{enumerate*}\n",
       "\\item TRUE\n",
       "\\item TRUE\n",
       "\\item TRUE\n",
       "\\item FALSE\n",
       "\\item FALSE\n",
       "\\item TRUE\n",
       "\\item TRUE\n",
       "\\item TRUE\n",
       "\\item TRUE\n",
       "\\end{enumerate*}\n"
      ],
      "text/markdown": [
       "1. TRUE\n",
       "2. TRUE\n",
       "3. TRUE\n",
       "4. FALSE\n",
       "5. FALSE\n",
       "6. TRUE\n",
       "7. TRUE\n",
       "8. TRUE\n",
       "9. TRUE\n",
       "\n",
       "\n"
      ],
      "text/plain": [
       "[1]  TRUE  TRUE  TRUE FALSE FALSE  TRUE  TRUE  TRUE  TRUE"
      ]
     },
     "metadata": {},
     "output_type": "display_data"
    }
   ],
   "source": [
    "outlier$Pclass %in% c(1,2,3)"
   ]
  },
  {
   "cell_type": "code",
   "execution_count": 191,
   "metadata": {},
   "outputs": [],
   "source": [
    "# install.packages(\"Hmisc\")  # 설치는 한번만, 설치 후, 이 행은 주석처리"
   ]
  },
  {
   "cell_type": "code",
   "execution_count": 192,
   "metadata": {},
   "outputs": [],
   "source": [
    "library(Hmisc)"
   ]
  },
  {
   "cell_type": "code",
   "execution_count": 193,
   "metadata": {},
   "outputs": [],
   "source": [
    "# ?Negate"
   ]
  },
  {
   "cell_type": "code",
   "execution_count": 194,
   "metadata": {},
   "outputs": [],
   "source": [
    "`%notin%` <- Negate(`%in%`)"
   ]
  },
  {
   "cell_type": "code",
   "execution_count": 195,
   "metadata": {},
   "outputs": [
    {
     "data": {
      "text/html": [
       "<ol class=list-inline>\n",
       "\t<li>TRUE</li>\n",
       "\t<li>TRUE</li>\n",
       "\t<li>TRUE</li>\n",
       "\t<li>FALSE</li>\n",
       "\t<li>FALSE</li>\n",
       "\t<li>TRUE</li>\n",
       "\t<li>TRUE</li>\n",
       "\t<li>TRUE</li>\n",
       "\t<li>TRUE</li>\n",
       "</ol>\n"
      ],
      "text/latex": [
       "\\begin{enumerate*}\n",
       "\\item TRUE\n",
       "\\item TRUE\n",
       "\\item TRUE\n",
       "\\item FALSE\n",
       "\\item FALSE\n",
       "\\item TRUE\n",
       "\\item TRUE\n",
       "\\item TRUE\n",
       "\\item TRUE\n",
       "\\end{enumerate*}\n"
      ],
      "text/markdown": [
       "1. TRUE\n",
       "2. TRUE\n",
       "3. TRUE\n",
       "4. FALSE\n",
       "5. FALSE\n",
       "6. TRUE\n",
       "7. TRUE\n",
       "8. TRUE\n",
       "9. TRUE\n",
       "\n",
       "\n"
      ],
      "text/plain": [
       "[1]  TRUE  TRUE  TRUE FALSE FALSE  TRUE  TRUE  TRUE  TRUE"
      ]
     },
     "metadata": {},
     "output_type": "display_data"
    }
   ],
   "source": [
    "outlier$Pclass %in% c(1,2,3)"
   ]
  },
  {
   "cell_type": "code",
   "execution_count": 196,
   "metadata": {},
   "outputs": [
    {
     "data": {
      "text/html": [
       "<table>\n",
       "<thead><tr><th></th><th scope=col>Pclass</th><th scope=col>family</th></tr></thead>\n",
       "<tbody>\n",
       "\t<tr><th scope=row>4</th><td> 4</td><td>1 </td></tr>\n",
       "\t<tr><th scope=row>5</th><td>55</td><td>2 </td></tr>\n",
       "</tbody>\n",
       "</table>\n"
      ],
      "text/latex": [
       "\\begin{tabular}{r|ll}\n",
       "  & Pclass & family\\\\\n",
       "\\hline\n",
       "\t4 &  4 & 1 \\\\\n",
       "\t5 & 55 & 2 \\\\\n",
       "\\end{tabular}\n"
      ],
      "text/markdown": [
       "\n",
       "| <!--/--> | Pclass | family | \n",
       "|---|---|\n",
       "| 4 |  4 | 1  | \n",
       "| 5 | 55 | 2  | \n",
       "\n",
       "\n"
      ],
      "text/plain": [
       "  Pclass family\n",
       "4  4     1     \n",
       "5 55     2     "
      ]
     },
     "metadata": {},
     "output_type": "display_data"
    }
   ],
   "source": [
    "## outlier\n",
    "outlier[outlier$Pclass %notin% c(1,2,3),  ]"
   ]
  },
  {
   "cell_type": "code",
   "execution_count": 197,
   "metadata": {},
   "outputs": [
    {
     "data": {
      "text/plain": [
       "\n",
       " 1  2  3  4 55 \n",
       " 3  2  2  1  1 "
      ]
     },
     "metadata": {},
     "output_type": "display_data"
    }
   ],
   "source": [
    "table(outlier$Pclass)"
   ]
  },
  {
   "cell_type": "markdown",
   "metadata": {},
   "source": [
    "### 아래 내용 참고, 다음과 같이 최빈값 확인 가능.\n",
    "\n",
    "```\n",
    "# Create the function.\n",
    "getmode <- function(v) {\n",
    "   uniqv <- unique(v)  # 유일한 값.\n",
    "   uniqv[which.max(tabulate(match(v, uniqv)))]\n",
    "}\n",
    "\n",
    "\n",
    "# Calculate the mode using the user function.\n",
    "result <- getmode(outlier$Pclass)\n",
    "print(result)\n",
    "\n",
    "```"
   ]
  },
  {
   "cell_type": "code",
   "execution_count": 198,
   "metadata": {},
   "outputs": [
    {
     "data": {
      "text/html": [
       "<table>\n",
       "<thead><tr><th></th><th scope=col>Pclass</th><th scope=col>family</th></tr></thead>\n",
       "<tbody>\n",
       "\t<tr><th scope=row>4</th><td>1</td><td>1</td></tr>\n",
       "\t<tr><th scope=row>5</th><td>1</td><td>2</td></tr>\n",
       "</tbody>\n",
       "</table>\n"
      ],
      "text/latex": [
       "\\begin{tabular}{r|ll}\n",
       "  & Pclass & family\\\\\n",
       "\\hline\n",
       "\t4 & 1 & 1\\\\\n",
       "\t5 & 1 & 2\\\\\n",
       "\\end{tabular}\n"
      ],
      "text/markdown": [
       "\n",
       "| <!--/--> | Pclass | family | \n",
       "|---|---|\n",
       "| 4 | 1 | 1 | \n",
       "| 5 | 1 | 2 | \n",
       "\n",
       "\n"
      ],
      "text/plain": [
       "  Pclass family\n",
       "4 1      1     \n",
       "5 1      2     "
      ]
     },
     "metadata": {},
     "output_type": "display_data"
    },
    {
     "data": {
      "text/html": [
       "<table>\n",
       "<thead><tr><th scope=col>Pclass</th><th scope=col>family</th></tr></thead>\n",
       "<tbody>\n",
       "\t<tr><td>1</td><td>1</td></tr>\n",
       "\t<tr><td>2</td><td>2</td></tr>\n",
       "\t<tr><td>3</td><td>3</td></tr>\n",
       "\t<tr><td>1</td><td>1</td></tr>\n",
       "\t<tr><td>1</td><td>2</td></tr>\n",
       "\t<tr><td>3</td><td>3</td></tr>\n",
       "\t<tr><td>1</td><td>1</td></tr>\n",
       "\t<tr><td>1</td><td>1</td></tr>\n",
       "\t<tr><td>2</td><td>1</td></tr>\n",
       "</tbody>\n",
       "</table>\n"
      ],
      "text/latex": [
       "\\begin{tabular}{r|ll}\n",
       " Pclass & family\\\\\n",
       "\\hline\n",
       "\t 1 & 1\\\\\n",
       "\t 2 & 2\\\\\n",
       "\t 3 & 3\\\\\n",
       "\t 1 & 1\\\\\n",
       "\t 1 & 2\\\\\n",
       "\t 3 & 3\\\\\n",
       "\t 1 & 1\\\\\n",
       "\t 1 & 1\\\\\n",
       "\t 2 & 1\\\\\n",
       "\\end{tabular}\n"
      ],
      "text/markdown": [
       "\n",
       "Pclass | family | \n",
       "|---|---|---|---|---|---|---|---|---|\n",
       "| 1 | 1 | \n",
       "| 2 | 2 | \n",
       "| 3 | 3 | \n",
       "| 1 | 1 | \n",
       "| 1 | 2 | \n",
       "| 3 | 3 | \n",
       "| 1 | 1 | \n",
       "| 1 | 1 | \n",
       "| 2 | 1 | \n",
       "\n",
       "\n"
      ],
      "text/plain": [
       "  Pclass family\n",
       "1 1      1     \n",
       "2 2      2     \n",
       "3 3      3     \n",
       "4 1      1     \n",
       "5 1      2     \n",
       "6 3      3     \n",
       "7 1      1     \n",
       "8 1      1     \n",
       "9 2      1     "
      ]
     },
     "metadata": {},
     "output_type": "display_data"
    }
   ],
   "source": [
    "## outlier\n",
    "outlier[outlier$Pclass %notin% c(1,2,3), 'Pclass' ] = 1\n",
    "outlier[c(4,5),]   # 아까 행 4,5행 확인\n",
    "outlier"
   ]
  },
  {
   "cell_type": "code",
   "execution_count": 199,
   "metadata": {},
   "outputs": [
    {
     "data": {},
     "metadata": {},
     "output_type": "display_data"
    },
    {
     "data": {
      "image/png": "[encoded data removed]",
      "text/plain": [
       "plot without title"
      ]
     },
     "metadata": {},
     "output_type": "display_data"
    }
   ],
   "source": [
    "ggplot(outlier, aes(x=Pclass)) + geom_bar()"
   ]
  },
  {
   "cell_type": "markdown",
   "metadata": {},
   "source": [
    "### (실습해 보기) \n",
    "* mpg 데이터 셋의 일부인 mc_part의 cyl에 4,8행에 이상치 50을 만들자.\n",
    "* 이 결측치를 중앙값으로 처리 후, 이를 다시 그래프를 통해 확인해 보자.\n",
    "\n",
    "### (더해보기)\n",
    "* 타이타닉 데이터 셋을 결측치 처리를 해보자."
   ]
  },
  {
   "cell_type": "markdown",
   "metadata": {},
   "source": [
    "### REF\n",
    "* %notin% : https://www.r-bloggers.com/the-notin-operator/"
   ]
  }
 ],
 "metadata": {
  "kernelspec": {
   "display_name": "R",
   "language": "R",
   "name": "ir"
  },
  "language_info": {
   "codemirror_mode": "r",
   "file_extension": ".r",
   "mimetype": "text/x-r-source",
   "name": "R",
   "pygments_lexer": "r",
   "version": "3.5.1"
  }
 },
 "nbformat": 4,
 "nbformat_minor": 2
}
