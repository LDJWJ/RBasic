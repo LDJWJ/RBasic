{
 "cells": [
  {
   "cell_type": "markdown",
   "metadata": {},
   "source": [
    "### 실전 데이터 셋 분석"
   ]
  },
  {
   "cell_type": "markdown",
   "metadata": {},
   "source": [
    "### 01. 유동인구 데이터 셋 분석"
   ]
  },
  {
   "cell_type": "code",
   "execution_count": 1,
   "metadata": {},
   "outputs": [
    {
     "name": "stderr",
     "output_type": "stream",
     "text": [
      "\n",
      "Attaching package: 'dplyr'\n",
      "\n",
      "The following objects are masked from 'package:stats':\n",
      "\n",
      "    filter, lag\n",
      "\n",
      "The following objects are masked from 'package:base':\n",
      "\n",
      "    intersect, setdiff, setequal, union\n",
      "\n"
     ]
    }
   ],
   "source": [
    "library(dplyr)\n",
    "library(ggplot2)"
   ]
  },
  {
   "cell_type": "code",
   "execution_count": 2,
   "metadata": {},
   "outputs": [],
   "source": [
    "library(readxl)"
   ]
  },
  {
   "cell_type": "code",
   "execution_count": 3,
   "metadata": {},
   "outputs": [
    {
     "data": {
      "text/html": [
       "<table>\n",
       "<thead><tr><th scope=col>sheet_name</th><th scope=col>sheet_num</th><th scope=col>content</th><th scope=col>상세</th><th scope=col>filename</th></tr></thead>\n",
       "<tbody>\n",
       "\t<tr><td>sheet_info                                                         </td><td>1                                                                  </td><td>시트 정보                                                          </td><td>엑셀 파일 설명                                                     </td><td>None                                                               </td></tr>\n",
       "\t<tr><td>all_table                                                          </td><td>2                                                                  </td><td>테이블 정보                                                        </td><td>전체 테이블 정보                                                   </td><td>데이터 셋에 대한 전체 정보                                         </td></tr>\n",
       "\t<tr><td>01_basic_info                                                      </td><td>3                                                                  </td><td>기초정보                                                           </td><td>행정동코드 정보                                                    </td><td>종로_노원_행정동.DBF~종로_노원_행정동.SHX                          </td></tr>\n",
       "\t<tr><td>01_moving_pop                                                      </td><td>4                                                                  </td><td>유동인구_연령                                                      </td><td>5세단위 노원구/종로구 유동인구                                     </td><td>노원_종로_FLOW_AGE_201804.CSV~\r\n",
       "노원_종로_FLOW_AGE_201903.CSV    </td></tr>\n",
       "\t<tr><td>01_moving_pop_hour                                                 </td><td>5                                                                  </td><td>유동인구_시간                                                      </td><td>1시간단위 노원구/종로구 유동인구                                   </td><td>노원_종로_FLOW_TIME_201804.CSV ~ \r\n",
       "노원_종로_FLOW_TIME_201903.CSV</td></tr>\n",
       "</tbody>\n",
       "</table>\n"
      ],
      "text/latex": [
       "\\begin{tabular}{r|lllll}\n",
       " sheet\\_name & sheet\\_num & content & 상세 & filename\\\\\n",
       "\\hline\n",
       "\t sheet\\_info                                                        & 1                                                                   & 시트 정보                                                           & 엑셀 파일 설명                                                      & None                                                               \\\\\n",
       "\t all\\_table                                                         & 2                                                                   & 테이블 정보                                                         & 전체 테이블 정보                                                    & 데이터 셋에 대한 전체 정보                                         \\\\\n",
       "\t 01\\_basic\\_info                                                                            & 3                                                                                            & 기초정보                                                                                     & 행정동코드 정보                                                                              & 종로\\_노원\\_행정동.DBF\\textasciitilde{}종로\\_노원\\_행정동.SHX                          \\\\\n",
       "\t 01\\_moving\\_pop                                                                                    & 4                                                                                                    & 유동인구\\_연령                                                                                      & 5세단위 노원구/종로구 유동인구                                                                       & 노원\\_종로\\_FLOW\\_AGE\\_201804.CSV\\textasciitilde{}\r\n",
       "노원\\_종로\\_FLOW\\_AGE\\_201903.CSV    \\\\\n",
       "\t 01\\_moving\\_pop\\_hour                                                                             & 5                                                                                                    & 유동인구\\_시간                                                                                      & 1시간단위 노원구/종로구 유동인구                                                                     & 노원\\_종로\\_FLOW\\_TIME\\_201804.CSV \\textasciitilde{} \r\n",
       "노원\\_종로\\_FLOW\\_TIME\\_201903.CSV\\\\\n",
       "\\end{tabular}\n"
      ],
      "text/markdown": [
       "\n",
       "sheet_name | sheet_num | content | 상세 | filename | \n",
       "|---|---|---|---|---|\n",
       "| sheet_info                                                          | 1                                                                   | 시트 정보                                                           | 엑셀 파일 설명                                                      | None                                                                | \n",
       "| all_table                                                           | 2                                                                   | 테이블 정보                                                         | 전체 테이블 정보                                                    | 데이터 셋에 대한 전체 정보                                          | \n",
       "| 01_basic_info                                                       | 3                                                                   | 기초정보                                                            | 행정동코드 정보                                                     | 종로_노원_행정동.DBF~종로_노원_행정동.SHX                           | \n",
       "| 01_moving_pop                                                       | 4                                                                   | 유동인구_연령                                                       | 5세단위 노원구/종로구 유동인구                                      | 노원_종로_FLOW_AGE_201804.CSV~\r\n",
       "노원_종로_FLOW_AGE_201903.CSV     | \n",
       "| 01_moving_pop_hour                                                  | 5                                                                   | 유동인구_시간                                                       | 1시간단위 노원구/종로구 유동인구                                    | 노원_종로_FLOW_TIME_201804.CSV ~ \r\n",
       "노원_종로_FLOW_TIME_201903.CSV | \n",
       "\n",
       "\n"
      ],
      "text/plain": [
       "  sheet_name         sheet_num content       상세                            \n",
       "1 sheet_info         1         시트 정보     엑셀 파일 설명                  \n",
       "2 all_table          2         테이블 정보   전체 테이블 정보                \n",
       "3 01_basic_info      3         기초정보      행정동코드 정보                 \n",
       "4 01_moving_pop      4         유동인구_연령 5세단위 노원구/종로구 유동인구  \n",
       "5 01_moving_pop_hour 5         유동인구_시간 1시간단위 노원구/종로구 유동인구\n",
       "  filename                                                           \n",
       "1 None                                                               \n",
       "2 데이터 셋에 대한 전체 정보                                         \n",
       "3 종로_노원_행정동.DBF~종로_노원_행정동.SHX                          \n",
       "4 노원_종로_FLOW_AGE_201804.CSV~\\r\\n노원_종로_FLOW_AGE_201903.CSV    \n",
       "5 노원_종로_FLOW_TIME_201804.CSV ~ \\r\\n노원_종로_FLOW_TIME_201903.CSV"
      ]
     },
     "metadata": {},
     "output_type": "display_data"
    }
   ],
   "source": [
    "doc <- read_excel(\"D:\\\\dataset\\\\11_innovation\\\\moving_dataset_skt\\\\table_define.xlsx\", col_names = T)\n",
    "doc"
   ]
  },
  {
   "cell_type": "code",
   "execution_count": 4,
   "metadata": {},
   "outputs": [
    {
     "data": {
      "text/html": [
       "<table>\n",
       "<thead><tr><th scope=col>No.</th><th scope=col>컬럼ID</th><th scope=col>컬럼명</th><th scope=col>타입</th><th scope=col>길이</th></tr></thead>\n",
       "<tbody>\n",
       "\t<tr><td> 1                    </td><td>STD_YM                </td><td>년월                  </td><td>VARCHAR2              </td><td>6                     </td></tr>\n",
       "\t<tr><td> 2                    </td><td>STD_YMD               </td><td>년월일                </td><td>VARCHAR2              </td><td>8                     </td></tr>\n",
       "\t<tr><td> 3                    </td><td>HDONG_CD              </td><td>행정동코드            </td><td>VARCHAR2              </td><td>10                    </td></tr>\n",
       "\t<tr><td> 4                    </td><td>HDONG_NM              </td><td>행정동명칭            </td><td>VARCHAR2              </td><td>50                    </td></tr>\n",
       "\t<tr><td> 5                    </td><td>MAN_FLOW_POP_CNT_0004 </td><td>남성_0004세 유동인구  </td><td>NUMBER                </td><td>(18, 2)               </td></tr>\n",
       "\t<tr><td> 6                    </td><td>MAN_FLOW_POP_CNT_0509 </td><td>남성_0509세 유동인구  </td><td>NUMBER                </td><td>(18, 2)               </td></tr>\n",
       "\t<tr><td> 7                    </td><td>MAN_FLOW_POP_CNT_1014 </td><td>남성_1014세 유동인구  </td><td>NUMBER                </td><td>(18, 2)               </td></tr>\n",
       "\t<tr><td> 8                    </td><td>MAN_FLOW_POP_CNT_1519 </td><td>남성_1519세 유동인구  </td><td>NUMBER                </td><td>(18, 2)               </td></tr>\n",
       "\t<tr><td> 9                    </td><td>MAN_FLOW_POP_CNT_2024 </td><td>남성_2024세 유동인구  </td><td>NUMBER                </td><td>(18, 2)               </td></tr>\n",
       "\t<tr><td>10                    </td><td>MAN_FLOW_POP_CNT_2529 </td><td>남성_2529세 유동인구  </td><td>NUMBER                </td><td>(18, 2)               </td></tr>\n",
       "\t<tr><td>11                    </td><td>MAN_FLOW_POP_CNT_3034 </td><td>남성_3034세 유동인구  </td><td>NUMBER                </td><td>(18, 2)               </td></tr>\n",
       "\t<tr><td>12                    </td><td>MAN_FLOW_POP_CNT_3539 </td><td>남성_3539세 유동인구  </td><td>NUMBER                </td><td>(18, 2)               </td></tr>\n",
       "\t<tr><td>13                    </td><td>MAN_FLOW_POP_CNT_4044 </td><td>남성_4044세 유동인구  </td><td>NUMBER                </td><td>(18, 2)               </td></tr>\n",
       "\t<tr><td>14                    </td><td>MAN_FLOW_POP_CNT_4549 </td><td>남성_4549세 유동인구  </td><td>NUMBER                </td><td>(18, 2)               </td></tr>\n",
       "\t<tr><td>15                    </td><td>MAN_FLOW_POP_CNT_5054 </td><td>남성_5054세 유동인구  </td><td>NUMBER                </td><td>(18, 2)               </td></tr>\n",
       "\t<tr><td>16                    </td><td>MAN_FLOW_POP_CNT_5559 </td><td>남성_5559세 유동인구  </td><td>NUMBER                </td><td>(18, 2)               </td></tr>\n",
       "\t<tr><td>17                    </td><td>MAN_FLOW_POP_CNT_6064 </td><td>남성_6064세 유동인구  </td><td>NUMBER                </td><td>(18, 2)               </td></tr>\n",
       "\t<tr><td>18                    </td><td>MAN_FLOW_POP_CNT_6569 </td><td>남성_6569세 유동인구  </td><td>NUMBER                </td><td>(18, 2)               </td></tr>\n",
       "\t<tr><td>19                    </td><td>MAN_FLOW_POP_CNT_70U  </td><td>남성_70세이상 유동인구</td><td>NUMBER                </td><td>(18, 2)               </td></tr>\n",
       "\t<tr><td>20                    </td><td>WMAN_FLOW_POP_CNT_0004</td><td>여성_0004세 유동인구  </td><td>NUMBER                </td><td>(18, 2)               </td></tr>\n",
       "\t<tr><td>21                    </td><td>WMAN_FLOW_POP_CNT_0509</td><td>여성_0509세 유동인구  </td><td>NUMBER                </td><td>(18, 2)               </td></tr>\n",
       "\t<tr><td>22                    </td><td>WMAN_FLOW_POP_CNT_1014</td><td>여성_1014세 유동인구  </td><td>NUMBER                </td><td>(18, 2)               </td></tr>\n",
       "\t<tr><td>23                    </td><td>WMAN_FLOW_POP_CNT_1519</td><td>여성_1519세 유동인구  </td><td>NUMBER                </td><td>(18, 2)               </td></tr>\n",
       "\t<tr><td>24                    </td><td>WMAN_FLOW_POP_CNT_2024</td><td>여성_2024세 유동인구  </td><td>NUMBER                </td><td>(18, 2)               </td></tr>\n",
       "\t<tr><td>25                    </td><td>WMAN_FLOW_POP_CNT_2529</td><td>여성_2529세 유동인구  </td><td>NUMBER                </td><td>(18, 2)               </td></tr>\n",
       "\t<tr><td>26                    </td><td>WMAN_FLOW_POP_CNT_3034</td><td>여성_3034세 유동인구  </td><td>NUMBER                </td><td>(18, 2)               </td></tr>\n",
       "\t<tr><td>27                    </td><td>WMAN_FLOW_POP_CNT_3539</td><td>여성_3539세 유동인구  </td><td>NUMBER                </td><td>(18, 2)               </td></tr>\n",
       "\t<tr><td>28                    </td><td>WMAN_FLOW_POP_CNT_4044</td><td>여성_4044세 유동인구  </td><td>NUMBER                </td><td>(18, 2)               </td></tr>\n",
       "\t<tr><td>29                    </td><td>WMAN_FLOW_POP_CNT_4549</td><td>여성_4549세 유동인구  </td><td>NUMBER                </td><td>(18, 2)               </td></tr>\n",
       "\t<tr><td>30                    </td><td>WMAN_FLOW_POP_CNT_5054</td><td>여성_5054세 유동인구  </td><td>NUMBER                </td><td>(18, 2)               </td></tr>\n",
       "\t<tr><td>31                    </td><td>WMAN_FLOW_POP_CNT_5559</td><td>여성_5559세 유동인구  </td><td>NUMBER                </td><td>(18, 2)               </td></tr>\n",
       "\t<tr><td>32                    </td><td>WMAN_FLOW_POP_CNT_6064</td><td>여성_6064세 유동인구  </td><td>NUMBER                </td><td>(18, 2)               </td></tr>\n",
       "\t<tr><td>33                    </td><td>WMAN_FLOW_POP_CNT_6569</td><td>여성_6569세 유동인구  </td><td>NUMBER                </td><td>(18, 2)               </td></tr>\n",
       "\t<tr><td>34                    </td><td>WMAN_FLOW_POP_CNT_70U </td><td>여성_70세이상 유동인구</td><td>NUMBER                </td><td>(18, 2)               </td></tr>\n",
       "</tbody>\n",
       "</table>\n"
      ],
      "text/latex": [
       "\\begin{tabular}{r|lllll}\n",
       " No. & 컬럼ID & 컬럼명 & 타입 & 길이\\\\\n",
       "\\hline\n",
       "\t  1                       & STD\\_YM                 & 년월                     & VARCHAR2                 & 6                       \\\\\n",
       "\t  2                       & STD\\_YMD                & 년월일                   & VARCHAR2                 & 8                       \\\\\n",
       "\t  3                       & HDONG\\_CD               & 행정동코드               & VARCHAR2                 & 10                      \\\\\n",
       "\t  4                       & HDONG\\_NM               & 행정동명칭               & VARCHAR2                 & 50                      \\\\\n",
       "\t  5                             & MAN\\_FLOW\\_POP\\_CNT\\_0004  & 남성\\_0004세 유동인구         & NUMBER                         & (18, 2)                       \\\\\n",
       "\t  6                             & MAN\\_FLOW\\_POP\\_CNT\\_0509  & 남성\\_0509세 유동인구         & NUMBER                         & (18, 2)                       \\\\\n",
       "\t  7                             & MAN\\_FLOW\\_POP\\_CNT\\_1014  & 남성\\_1014세 유동인구         & NUMBER                         & (18, 2)                       \\\\\n",
       "\t  8                             & MAN\\_FLOW\\_POP\\_CNT\\_1519  & 남성\\_1519세 유동인구         & NUMBER                         & (18, 2)                       \\\\\n",
       "\t  9                             & MAN\\_FLOW\\_POP\\_CNT\\_2024  & 남성\\_2024세 유동인구         & NUMBER                         & (18, 2)                       \\\\\n",
       "\t 10                             & MAN\\_FLOW\\_POP\\_CNT\\_2529  & 남성\\_2529세 유동인구         & NUMBER                         & (18, 2)                       \\\\\n",
       "\t 11                             & MAN\\_FLOW\\_POP\\_CNT\\_3034  & 남성\\_3034세 유동인구         & NUMBER                         & (18, 2)                       \\\\\n",
       "\t 12                             & MAN\\_FLOW\\_POP\\_CNT\\_3539  & 남성\\_3539세 유동인구         & NUMBER                         & (18, 2)                       \\\\\n",
       "\t 13                             & MAN\\_FLOW\\_POP\\_CNT\\_4044  & 남성\\_4044세 유동인구         & NUMBER                         & (18, 2)                       \\\\\n",
       "\t 14                             & MAN\\_FLOW\\_POP\\_CNT\\_4549  & 남성\\_4549세 유동인구         & NUMBER                         & (18, 2)                       \\\\\n",
       "\t 15                             & MAN\\_FLOW\\_POP\\_CNT\\_5054  & 남성\\_5054세 유동인구         & NUMBER                         & (18, 2)                       \\\\\n",
       "\t 16                             & MAN\\_FLOW\\_POP\\_CNT\\_5559  & 남성\\_5559세 유동인구         & NUMBER                         & (18, 2)                       \\\\\n",
       "\t 17                             & MAN\\_FLOW\\_POP\\_CNT\\_6064  & 남성\\_6064세 유동인구         & NUMBER                         & (18, 2)                       \\\\\n",
       "\t 18                             & MAN\\_FLOW\\_POP\\_CNT\\_6569  & 남성\\_6569세 유동인구         & NUMBER                         & (18, 2)                       \\\\\n",
       "\t 19                             & MAN\\_FLOW\\_POP\\_CNT\\_70U   & 남성\\_70세이상 유동인구       & NUMBER                         & (18, 2)                       \\\\\n",
       "\t 20                             & WMAN\\_FLOW\\_POP\\_CNT\\_0004 & 여성\\_0004세 유동인구         & NUMBER                         & (18, 2)                       \\\\\n",
       "\t 21                             & WMAN\\_FLOW\\_POP\\_CNT\\_0509 & 여성\\_0509세 유동인구         & NUMBER                         & (18, 2)                       \\\\\n",
       "\t 22                             & WMAN\\_FLOW\\_POP\\_CNT\\_1014 & 여성\\_1014세 유동인구         & NUMBER                         & (18, 2)                       \\\\\n",
       "\t 23                             & WMAN\\_FLOW\\_POP\\_CNT\\_1519 & 여성\\_1519세 유동인구         & NUMBER                         & (18, 2)                       \\\\\n",
       "\t 24                             & WMAN\\_FLOW\\_POP\\_CNT\\_2024 & 여성\\_2024세 유동인구         & NUMBER                         & (18, 2)                       \\\\\n",
       "\t 25                             & WMAN\\_FLOW\\_POP\\_CNT\\_2529 & 여성\\_2529세 유동인구         & NUMBER                         & (18, 2)                       \\\\\n",
       "\t 26                             & WMAN\\_FLOW\\_POP\\_CNT\\_3034 & 여성\\_3034세 유동인구         & NUMBER                         & (18, 2)                       \\\\\n",
       "\t 27                             & WMAN\\_FLOW\\_POP\\_CNT\\_3539 & 여성\\_3539세 유동인구         & NUMBER                         & (18, 2)                       \\\\\n",
       "\t 28                             & WMAN\\_FLOW\\_POP\\_CNT\\_4044 & 여성\\_4044세 유동인구         & NUMBER                         & (18, 2)                       \\\\\n",
       "\t 29                             & WMAN\\_FLOW\\_POP\\_CNT\\_4549 & 여성\\_4549세 유동인구         & NUMBER                         & (18, 2)                       \\\\\n",
       "\t 30                             & WMAN\\_FLOW\\_POP\\_CNT\\_5054 & 여성\\_5054세 유동인구         & NUMBER                         & (18, 2)                       \\\\\n",
       "\t 31                             & WMAN\\_FLOW\\_POP\\_CNT\\_5559 & 여성\\_5559세 유동인구         & NUMBER                         & (18, 2)                       \\\\\n",
       "\t 32                             & WMAN\\_FLOW\\_POP\\_CNT\\_6064 & 여성\\_6064세 유동인구         & NUMBER                         & (18, 2)                       \\\\\n",
       "\t 33                             & WMAN\\_FLOW\\_POP\\_CNT\\_6569 & 여성\\_6569세 유동인구         & NUMBER                         & (18, 2)                       \\\\\n",
       "\t 34                             & WMAN\\_FLOW\\_POP\\_CNT\\_70U  & 여성\\_70세이상 유동인구       & NUMBER                         & (18, 2)                       \\\\\n",
       "\\end{tabular}\n"
      ],
      "text/markdown": [
       "\n",
       "No. | 컬럼ID | 컬럼명 | 타입 | 길이 | \n",
       "|---|---|---|---|---|---|---|---|---|---|---|---|---|---|---|---|---|---|---|---|---|---|---|---|---|---|---|---|---|---|---|---|---|---|\n",
       "|  1                     | STD_YM                 | 년월                   | VARCHAR2               | 6                      | \n",
       "|  2                     | STD_YMD                | 년월일                 | VARCHAR2               | 8                      | \n",
       "|  3                     | HDONG_CD               | 행정동코드             | VARCHAR2               | 10                     | \n",
       "|  4                     | HDONG_NM               | 행정동명칭             | VARCHAR2               | 50                     | \n",
       "|  5                     | MAN_FLOW_POP_CNT_0004  | 남성_0004세 유동인구   | NUMBER                 | (18, 2)                | \n",
       "|  6                     | MAN_FLOW_POP_CNT_0509  | 남성_0509세 유동인구   | NUMBER                 | (18, 2)                | \n",
       "|  7                     | MAN_FLOW_POP_CNT_1014  | 남성_1014세 유동인구   | NUMBER                 | (18, 2)                | \n",
       "|  8                     | MAN_FLOW_POP_CNT_1519  | 남성_1519세 유동인구   | NUMBER                 | (18, 2)                | \n",
       "|  9                     | MAN_FLOW_POP_CNT_2024  | 남성_2024세 유동인구   | NUMBER                 | (18, 2)                | \n",
       "| 10                     | MAN_FLOW_POP_CNT_2529  | 남성_2529세 유동인구   | NUMBER                 | (18, 2)                | \n",
       "| 11                     | MAN_FLOW_POP_CNT_3034  | 남성_3034세 유동인구   | NUMBER                 | (18, 2)                | \n",
       "| 12                     | MAN_FLOW_POP_CNT_3539  | 남성_3539세 유동인구   | NUMBER                 | (18, 2)                | \n",
       "| 13                     | MAN_FLOW_POP_CNT_4044  | 남성_4044세 유동인구   | NUMBER                 | (18, 2)                | \n",
       "| 14                     | MAN_FLOW_POP_CNT_4549  | 남성_4549세 유동인구   | NUMBER                 | (18, 2)                | \n",
       "| 15                     | MAN_FLOW_POP_CNT_5054  | 남성_5054세 유동인구   | NUMBER                 | (18, 2)                | \n",
       "| 16                     | MAN_FLOW_POP_CNT_5559  | 남성_5559세 유동인구   | NUMBER                 | (18, 2)                | \n",
       "| 17                     | MAN_FLOW_POP_CNT_6064  | 남성_6064세 유동인구   | NUMBER                 | (18, 2)                | \n",
       "| 18                     | MAN_FLOW_POP_CNT_6569  | 남성_6569세 유동인구   | NUMBER                 | (18, 2)                | \n",
       "| 19                     | MAN_FLOW_POP_CNT_70U   | 남성_70세이상 유동인구 | NUMBER                 | (18, 2)                | \n",
       "| 20                     | WMAN_FLOW_POP_CNT_0004 | 여성_0004세 유동인구   | NUMBER                 | (18, 2)                | \n",
       "| 21                     | WMAN_FLOW_POP_CNT_0509 | 여성_0509세 유동인구   | NUMBER                 | (18, 2)                | \n",
       "| 22                     | WMAN_FLOW_POP_CNT_1014 | 여성_1014세 유동인구   | NUMBER                 | (18, 2)                | \n",
       "| 23                     | WMAN_FLOW_POP_CNT_1519 | 여성_1519세 유동인구   | NUMBER                 | (18, 2)                | \n",
       "| 24                     | WMAN_FLOW_POP_CNT_2024 | 여성_2024세 유동인구   | NUMBER                 | (18, 2)                | \n",
       "| 25                     | WMAN_FLOW_POP_CNT_2529 | 여성_2529세 유동인구   | NUMBER                 | (18, 2)                | \n",
       "| 26                     | WMAN_FLOW_POP_CNT_3034 | 여성_3034세 유동인구   | NUMBER                 | (18, 2)                | \n",
       "| 27                     | WMAN_FLOW_POP_CNT_3539 | 여성_3539세 유동인구   | NUMBER                 | (18, 2)                | \n",
       "| 28                     | WMAN_FLOW_POP_CNT_4044 | 여성_4044세 유동인구   | NUMBER                 | (18, 2)                | \n",
       "| 29                     | WMAN_FLOW_POP_CNT_4549 | 여성_4549세 유동인구   | NUMBER                 | (18, 2)                | \n",
       "| 30                     | WMAN_FLOW_POP_CNT_5054 | 여성_5054세 유동인구   | NUMBER                 | (18, 2)                | \n",
       "| 31                     | WMAN_FLOW_POP_CNT_5559 | 여성_5559세 유동인구   | NUMBER                 | (18, 2)                | \n",
       "| 32                     | WMAN_FLOW_POP_CNT_6064 | 여성_6064세 유동인구   | NUMBER                 | (18, 2)                | \n",
       "| 33                     | WMAN_FLOW_POP_CNT_6569 | 여성_6569세 유동인구   | NUMBER                 | (18, 2)                | \n",
       "| 34                     | WMAN_FLOW_POP_CNT_70U  | 여성_70세이상 유동인구 | NUMBER                 | (18, 2)                | \n",
       "\n",
       "\n"
      ],
      "text/plain": [
       "   No. 컬럼ID                 컬럼명                 타입     길이   \n",
       "1   1  STD_YM                 년월                   VARCHAR2 6      \n",
       "2   2  STD_YMD                년월일                 VARCHAR2 8      \n",
       "3   3  HDONG_CD               행정동코드             VARCHAR2 10     \n",
       "4   4  HDONG_NM               행정동명칭             VARCHAR2 50     \n",
       "5   5  MAN_FLOW_POP_CNT_0004  남성_0004세 유동인구   NUMBER   (18, 2)\n",
       "6   6  MAN_FLOW_POP_CNT_0509  남성_0509세 유동인구   NUMBER   (18, 2)\n",
       "7   7  MAN_FLOW_POP_CNT_1014  남성_1014세 유동인구   NUMBER   (18, 2)\n",
       "8   8  MAN_FLOW_POP_CNT_1519  남성_1519세 유동인구   NUMBER   (18, 2)\n",
       "9   9  MAN_FLOW_POP_CNT_2024  남성_2024세 유동인구   NUMBER   (18, 2)\n",
       "10 10  MAN_FLOW_POP_CNT_2529  남성_2529세 유동인구   NUMBER   (18, 2)\n",
       "11 11  MAN_FLOW_POP_CNT_3034  남성_3034세 유동인구   NUMBER   (18, 2)\n",
       "12 12  MAN_FLOW_POP_CNT_3539  남성_3539세 유동인구   NUMBER   (18, 2)\n",
       "13 13  MAN_FLOW_POP_CNT_4044  남성_4044세 유동인구   NUMBER   (18, 2)\n",
       "14 14  MAN_FLOW_POP_CNT_4549  남성_4549세 유동인구   NUMBER   (18, 2)\n",
       "15 15  MAN_FLOW_POP_CNT_5054  남성_5054세 유동인구   NUMBER   (18, 2)\n",
       "16 16  MAN_FLOW_POP_CNT_5559  남성_5559세 유동인구   NUMBER   (18, 2)\n",
       "17 17  MAN_FLOW_POP_CNT_6064  남성_6064세 유동인구   NUMBER   (18, 2)\n",
       "18 18  MAN_FLOW_POP_CNT_6569  남성_6569세 유동인구   NUMBER   (18, 2)\n",
       "19 19  MAN_FLOW_POP_CNT_70U   남성_70세이상 유동인구 NUMBER   (18, 2)\n",
       "20 20  WMAN_FLOW_POP_CNT_0004 여성_0004세 유동인구   NUMBER   (18, 2)\n",
       "21 21  WMAN_FLOW_POP_CNT_0509 여성_0509세 유동인구   NUMBER   (18, 2)\n",
       "22 22  WMAN_FLOW_POP_CNT_1014 여성_1014세 유동인구   NUMBER   (18, 2)\n",
       "23 23  WMAN_FLOW_POP_CNT_1519 여성_1519세 유동인구   NUMBER   (18, 2)\n",
       "24 24  WMAN_FLOW_POP_CNT_2024 여성_2024세 유동인구   NUMBER   (18, 2)\n",
       "25 25  WMAN_FLOW_POP_CNT_2529 여성_2529세 유동인구   NUMBER   (18, 2)\n",
       "26 26  WMAN_FLOW_POP_CNT_3034 여성_3034세 유동인구   NUMBER   (18, 2)\n",
       "27 27  WMAN_FLOW_POP_CNT_3539 여성_3539세 유동인구   NUMBER   (18, 2)\n",
       "28 28  WMAN_FLOW_POP_CNT_4044 여성_4044세 유동인구   NUMBER   (18, 2)\n",
       "29 29  WMAN_FLOW_POP_CNT_4549 여성_4549세 유동인구   NUMBER   (18, 2)\n",
       "30 30  WMAN_FLOW_POP_CNT_5054 여성_5054세 유동인구   NUMBER   (18, 2)\n",
       "31 31  WMAN_FLOW_POP_CNT_5559 여성_5559세 유동인구   NUMBER   (18, 2)\n",
       "32 32  WMAN_FLOW_POP_CNT_6064 여성_6064세 유동인구   NUMBER   (18, 2)\n",
       "33 33  WMAN_FLOW_POP_CNT_6569 여성_6569세 유동인구   NUMBER   (18, 2)\n",
       "34 34  WMAN_FLOW_POP_CNT_70U  여성_70세이상 유동인구 NUMBER   (18, 2)"
      ]
     },
     "metadata": {},
     "output_type": "display_data"
    }
   ],
   "source": [
    "doc4 <- read_excel(\"D:\\\\dataset\\\\11_innovation\\\\moving_dataset_skt\\\\table_define.xlsx\", col_names = T, sheet=4)\n",
    "doc4"
   ]
  },
  {
   "cell_type": "markdown",
   "metadata": {},
   "source": [
    "### 폴더안 파일 목록 확인"
   ]
  },
  {
   "cell_type": "code",
   "execution_count": 5,
   "metadata": {},
   "outputs": [
    {
     "data": {
      "text/html": [
       "<ol class=list-inline>\n",
       "\t<li>'test.csv'</li>\n",
       "\t<li>'test_flow_age_201804.csv'</li>\n",
       "\t<li>'test_flow_age_201805.csv'</li>\n",
       "\t<li>'test_flow_age_201806.csv'</li>\n",
       "\t<li>'test_flow_age_201807.csv'</li>\n",
       "\t<li>'test_flow_age_201808.csv'</li>\n",
       "\t<li>'test_flow_age_201809.csv'</li>\n",
       "\t<li>'test_flow_age_201810.csv'</li>\n",
       "\t<li>'test_flow_age_201811.csv'</li>\n",
       "\t<li>'test_flow_age_201812.csv'</li>\n",
       "\t<li>'test_flow_age_201901.csv'</li>\n",
       "\t<li>'test_flow_age_201902.csv'</li>\n",
       "\t<li>'test_flow_age_201903.csv'</li>\n",
       "\t<li>'노원_종로_FLOW_AGE_201804.CSV'</li>\n",
       "\t<li>'노원_종로_FLOW_AGE_201805.CSV'</li>\n",
       "\t<li>'노원_종로_FLOW_AGE_201806.CSV'</li>\n",
       "\t<li>'노원_종로_FLOW_AGE_201807.CSV'</li>\n",
       "\t<li>'노원_종로_FLOW_AGE_201808.CSV'</li>\n",
       "\t<li>'노원_종로_FLOW_AGE_201809.CSV'</li>\n",
       "\t<li>'노원_종로_FLOW_AGE_201810.CSV'</li>\n",
       "\t<li>'노원_종로_FLOW_AGE_201811.CSV'</li>\n",
       "\t<li>'노원_종로_FLOW_AGE_201812.CSV'</li>\n",
       "\t<li>'노원_종로_FLOW_AGE_201901.CSV'</li>\n",
       "\t<li>'노원_종로_FLOW_AGE_201902.CSV'</li>\n",
       "\t<li>'노원_종로_FLOW_AGE_201903.CSV'</li>\n",
       "</ol>\n"
      ],
      "text/latex": [
       "\\begin{enumerate*}\n",
       "\\item 'test.csv'\n",
       "\\item 'test\\_flow\\_age\\_201804.csv'\n",
       "\\item 'test\\_flow\\_age\\_201805.csv'\n",
       "\\item 'test\\_flow\\_age\\_201806.csv'\n",
       "\\item 'test\\_flow\\_age\\_201807.csv'\n",
       "\\item 'test\\_flow\\_age\\_201808.csv'\n",
       "\\item 'test\\_flow\\_age\\_201809.csv'\n",
       "\\item 'test\\_flow\\_age\\_201810.csv'\n",
       "\\item 'test\\_flow\\_age\\_201811.csv'\n",
       "\\item 'test\\_flow\\_age\\_201812.csv'\n",
       "\\item 'test\\_flow\\_age\\_201901.csv'\n",
       "\\item 'test\\_flow\\_age\\_201902.csv'\n",
       "\\item 'test\\_flow\\_age\\_201903.csv'\n",
       "\\item '노원\\_종로\\_FLOW\\_AGE\\_201804.CSV'\n",
       "\\item '노원\\_종로\\_FLOW\\_AGE\\_201805.CSV'\n",
       "\\item '노원\\_종로\\_FLOW\\_AGE\\_201806.CSV'\n",
       "\\item '노원\\_종로\\_FLOW\\_AGE\\_201807.CSV'\n",
       "\\item '노원\\_종로\\_FLOW\\_AGE\\_201808.CSV'\n",
       "\\item '노원\\_종로\\_FLOW\\_AGE\\_201809.CSV'\n",
       "\\item '노원\\_종로\\_FLOW\\_AGE\\_201810.CSV'\n",
       "\\item '노원\\_종로\\_FLOW\\_AGE\\_201811.CSV'\n",
       "\\item '노원\\_종로\\_FLOW\\_AGE\\_201812.CSV'\n",
       "\\item '노원\\_종로\\_FLOW\\_AGE\\_201901.CSV'\n",
       "\\item '노원\\_종로\\_FLOW\\_AGE\\_201902.CSV'\n",
       "\\item '노원\\_종로\\_FLOW\\_AGE\\_201903.CSV'\n",
       "\\end{enumerate*}\n"
      ],
      "text/markdown": [
       "1. 'test.csv'\n",
       "2. 'test_flow_age_201804.csv'\n",
       "3. 'test_flow_age_201805.csv'\n",
       "4. 'test_flow_age_201806.csv'\n",
       "5. 'test_flow_age_201807.csv'\n",
       "6. 'test_flow_age_201808.csv'\n",
       "7. 'test_flow_age_201809.csv'\n",
       "8. 'test_flow_age_201810.csv'\n",
       "9. 'test_flow_age_201811.csv'\n",
       "10. 'test_flow_age_201812.csv'\n",
       "11. 'test_flow_age_201901.csv'\n",
       "12. 'test_flow_age_201902.csv'\n",
       "13. 'test_flow_age_201903.csv'\n",
       "14. '노원_종로_FLOW_AGE_201804.CSV'\n",
       "15. '노원_종로_FLOW_AGE_201805.CSV'\n",
       "16. '노원_종로_FLOW_AGE_201806.CSV'\n",
       "17. '노원_종로_FLOW_AGE_201807.CSV'\n",
       "18. '노원_종로_FLOW_AGE_201808.CSV'\n",
       "19. '노원_종로_FLOW_AGE_201809.CSV'\n",
       "20. '노원_종로_FLOW_AGE_201810.CSV'\n",
       "21. '노원_종로_FLOW_AGE_201811.CSV'\n",
       "22. '노원_종로_FLOW_AGE_201812.CSV'\n",
       "23. '노원_종로_FLOW_AGE_201901.CSV'\n",
       "24. '노원_종로_FLOW_AGE_201902.CSV'\n",
       "25. '노원_종로_FLOW_AGE_201903.CSV'\n",
       "\n",
       "\n"
      ],
      "text/plain": [
       " [1] \"test.csv\"                      \"test_flow_age_201804.csv\"     \n",
       " [3] \"test_flow_age_201805.csv\"      \"test_flow_age_201806.csv\"     \n",
       " [5] \"test_flow_age_201807.csv\"      \"test_flow_age_201808.csv\"     \n",
       " [7] \"test_flow_age_201809.csv\"      \"test_flow_age_201810.csv\"     \n",
       " [9] \"test_flow_age_201811.csv\"      \"test_flow_age_201812.csv\"     \n",
       "[11] \"test_flow_age_201901.csv\"      \"test_flow_age_201902.csv\"     \n",
       "[13] \"test_flow_age_201903.csv\"      \"노원_종로_FLOW_AGE_201804.CSV\"\n",
       "[15] \"노원_종로_FLOW_AGE_201805.CSV\" \"노원_종로_FLOW_AGE_201806.CSV\"\n",
       "[17] \"노원_종로_FLOW_AGE_201807.CSV\" \"노원_종로_FLOW_AGE_201808.CSV\"\n",
       "[19] \"노원_종로_FLOW_AGE_201809.CSV\" \"노원_종로_FLOW_AGE_201810.CSV\"\n",
       "[21] \"노원_종로_FLOW_AGE_201811.CSV\" \"노원_종로_FLOW_AGE_201812.CSV\"\n",
       "[23] \"노원_종로_FLOW_AGE_201901.CSV\" \"노원_종로_FLOW_AGE_201902.CSV\"\n",
       "[25] \"노원_종로_FLOW_AGE_201903.CSV\""
      ]
     },
     "metadata": {},
     "output_type": "display_data"
    },
    {
     "data": {
      "text/html": [
       "<ol class=list-inline>\n",
       "\t<li>'노원_종로_FLOW_TIME_201804.CSV'</li>\n",
       "\t<li>'노원_종로_FLOW_TIME_201805.CSV'</li>\n",
       "\t<li>'노원_종로_FLOW_TIME_201806.CSV'</li>\n",
       "\t<li>'노원_종로_FLOW_TIME_201807.CSV'</li>\n",
       "\t<li>'노원_종로_FLOW_TIME_201808.CSV'</li>\n",
       "\t<li>'노원_종로_FLOW_TIME_201809.CSV'</li>\n",
       "\t<li>'노원_종로_FLOW_TIME_201810.CSV'</li>\n",
       "\t<li>'노원_종로_FLOW_TIME_201811.CSV'</li>\n",
       "\t<li>'노원_종로_FLOW_TIME_201812.CSV'</li>\n",
       "\t<li>'노원_종로_FLOW_TIME_201901.CSV'</li>\n",
       "\t<li>'노원_종로_FLOW_TIME_201902.CSV'</li>\n",
       "\t<li>'노원_종로_FLOW_TIME_201903.CSV'</li>\n",
       "</ol>\n"
      ],
      "text/latex": [
       "\\begin{enumerate*}\n",
       "\\item '노원\\_종로\\_FLOW\\_TIME\\_201804.CSV'\n",
       "\\item '노원\\_종로\\_FLOW\\_TIME\\_201805.CSV'\n",
       "\\item '노원\\_종로\\_FLOW\\_TIME\\_201806.CSV'\n",
       "\\item '노원\\_종로\\_FLOW\\_TIME\\_201807.CSV'\n",
       "\\item '노원\\_종로\\_FLOW\\_TIME\\_201808.CSV'\n",
       "\\item '노원\\_종로\\_FLOW\\_TIME\\_201809.CSV'\n",
       "\\item '노원\\_종로\\_FLOW\\_TIME\\_201810.CSV'\n",
       "\\item '노원\\_종로\\_FLOW\\_TIME\\_201811.CSV'\n",
       "\\item '노원\\_종로\\_FLOW\\_TIME\\_201812.CSV'\n",
       "\\item '노원\\_종로\\_FLOW\\_TIME\\_201901.CSV'\n",
       "\\item '노원\\_종로\\_FLOW\\_TIME\\_201902.CSV'\n",
       "\\item '노원\\_종로\\_FLOW\\_TIME\\_201903.CSV'\n",
       "\\end{enumerate*}\n"
      ],
      "text/markdown": [
       "1. '노원_종로_FLOW_TIME_201804.CSV'\n",
       "2. '노원_종로_FLOW_TIME_201805.CSV'\n",
       "3. '노원_종로_FLOW_TIME_201806.CSV'\n",
       "4. '노원_종로_FLOW_TIME_201807.CSV'\n",
       "5. '노원_종로_FLOW_TIME_201808.CSV'\n",
       "6. '노원_종로_FLOW_TIME_201809.CSV'\n",
       "7. '노원_종로_FLOW_TIME_201810.CSV'\n",
       "8. '노원_종로_FLOW_TIME_201811.CSV'\n",
       "9. '노원_종로_FLOW_TIME_201812.CSV'\n",
       "10. '노원_종로_FLOW_TIME_201901.CSV'\n",
       "11. '노원_종로_FLOW_TIME_201902.CSV'\n",
       "12. '노원_종로_FLOW_TIME_201903.CSV'\n",
       "\n",
       "\n"
      ],
      "text/plain": [
       " [1] \"노원_종로_FLOW_TIME_201804.CSV\" \"노원_종로_FLOW_TIME_201805.CSV\"\n",
       " [3] \"노원_종로_FLOW_TIME_201806.CSV\" \"노원_종로_FLOW_TIME_201807.CSV\"\n",
       " [5] \"노원_종로_FLOW_TIME_201808.CSV\" \"노원_종로_FLOW_TIME_201809.CSV\"\n",
       " [7] \"노원_종로_FLOW_TIME_201810.CSV\" \"노원_종로_FLOW_TIME_201811.CSV\"\n",
       " [9] \"노원_종로_FLOW_TIME_201812.CSV\" \"노원_종로_FLOW_TIME_201901.CSV\"\n",
       "[11] \"노원_종로_FLOW_TIME_201902.CSV\" \"노원_종로_FLOW_TIME_201903.CSV\""
      ]
     },
     "metadata": {},
     "output_type": "display_data"
    }
   ],
   "source": [
    "#  연령별 유동인구\n",
    "list.files(path=\"D:\\\\dataset\\\\11_innovation\\\\moving_dataset_skt\\\\year_moving\", pattern = NULL)\n",
    "\n",
    "#  시간별 유동인구\n",
    "list.files(path=\"D:\\\\dataset\\\\11_innovation\\\\moving_dataset_skt\\\\hour_moving\", pattern = NULL)"
   ]
  },
  {
   "cell_type": "code",
   "execution_count": 6,
   "metadata": {},
   "outputs": [
    {
     "data": {
      "text/html": [
       "'D:/dataset/11_innovation/moving_dataset_skt'"
      ],
      "text/latex": [
       "'D:/dataset/11\\_innovation/moving\\_dataset\\_skt'"
      ],
      "text/markdown": [
       "'D:/dataset/11_innovation/moving_dataset_skt'"
      ],
      "text/plain": [
       "[1] \"D:/dataset/11_innovation/moving_dataset_skt\""
      ]
     },
     "metadata": {},
     "output_type": "display_data"
    }
   ],
   "source": [
    "setwd(\"D:\\\\dataset\\\\11_innovation\\\\moving_dataset_skt\")\n",
    "getwd()"
   ]
  },
  {
   "cell_type": "code",
   "execution_count": 7,
   "metadata": {},
   "outputs": [
    {
     "ename": "ERROR",
     "evalue": "Error in scan(file = file, what = what, sep = sep, quote = quote, dec = dec, : 라인 2는 34개의 구성요소들을 가지고 있지 않습니다\n",
     "output_type": "error",
     "traceback": [
      "Error in scan(file = file, what = what, sep = sep, quote = quote, dec = dec, : 라인 2는 34개의 구성요소들을 가지고 있지 않습니다\nTraceback:\n",
      "1. read.table(\"./year_moving/노원_종로_FLOW_AGE_201804.CSV\", sep = \"|\")",
      "2. scan(file = file, what = what, sep = sep, quote = quote, dec = dec, \n .     nmax = nrows, skip = 0, na.strings = na.strings, quiet = TRUE, \n .     fill = fill, strip.white = strip.white, blank.lines.skip = blank.lines.skip, \n .     multi.line = FALSE, comment.char = comment.char, allowEscapes = allowEscapes, \n .     flush = flush, encoding = encoding, skipNul = skipNul)"
     ]
    }
   ],
   "source": [
    "year_dat1 <- read.table(\"./year_moving/노원_종로_FLOW_AGE_201804.CSV\", sep=\"|\")\n",
    "year_dat1"
   ]
  },
  {
   "cell_type": "code",
   "execution_count": 8,
   "metadata": {},
   "outputs": [
    {
     "data": {
      "text/html": [
       "<table>\n",
       "<thead><tr><th scope=col>V1</th><th scope=col>V2</th><th scope=col>V3</th><th scope=col>V4</th><th scope=col>V5</th><th scope=col>V6</th><th scope=col>V7</th><th scope=col>V8</th><th scope=col>V9</th><th scope=col>V10</th><th scope=col>...</th><th scope=col>V25</th><th scope=col>V26</th><th scope=col>V27</th><th scope=col>V28</th><th scope=col>V29</th><th scope=col>V30</th><th scope=col>V31</th><th scope=col>V32</th><th scope=col>V33</th><th scope=col>V34</th></tr></thead>\n",
       "<tbody>\n",
       "\t<tr><td>STD_YM                </td><td>STD_YMD               </td><td>HDONG_CD              </td><td>HDONG_NM              </td><td>MAN_FLOW_POP_CNT_0004 </td><td>MAN_FLOW_POP_CNT_0509 </td><td>MAN_FLOW_POP_CNT_1014 </td><td>MAN_FLOW_POP_CNT_1519 </td><td>MAN_FLOW_POP_CNT_2024 </td><td>MAN_FLOW_POP_CNT_2529 </td><td>...                   </td><td>WMAN_FLOW_POP_CNT_2529</td><td>WMAN_FLOW_POP_CNT_3034</td><td>WMAN_FLOW_POP_CNT_3539</td><td>WMAN_FLOW_POP_CNT_4044</td><td>WMAN_FLOW_POP_CNT_4549</td><td>WMAN_FLOW_POP_CNT_5054</td><td>WMAN_FLOW_POP_CNT_5559</td><td>WMAN_FLOW_POP_CNT_6064</td><td>WMAN_FLOW_POP_CNT_6569</td><td>WMAN_FLOW_POP_CNT_70U </td></tr>\n",
       "\t<tr><td>201804                </td><td>20180401              </td><td>1111051500            </td><td>청운효자동            </td><td>0.05                  </td><td>78.93                 </td><td>403.26                </td><td>642.66                </td><td>984.24                </td><td>1792.3                </td><td>...                   </td><td>1437.8                </td><td>1356.08               </td><td>1598.14               </td><td>1495.53               </td><td>1768.21               </td><td>1611.47               </td><td>1433.06               </td><td>1212.56               </td><td>549.45                </td><td>811.56                </td></tr>\n",
       "\t<tr><td>201804                </td><td>20180401              </td><td>1111053000            </td><td>사직동                </td><td>1.25                  </td><td>262.54                </td><td>1207.22               </td><td>2177.88               </td><td>4076.89               </td><td>6887.72               </td><td>...                   </td><td>6892.47               </td><td>5743.1                </td><td>5817.91               </td><td>5429.89               </td><td>6104.03               </td><td>4998.93               </td><td>4826.11               </td><td>4207.45               </td><td>2160.84               </td><td>2972.08               </td></tr>\n",
       "\t<tr><td>201804                </td><td>20180401              </td><td>1111054000            </td><td>삼청동                </td><td>0                     </td><td>78.07                 </td><td>255.24                </td><td>331.09                </td><td>654.32                </td><td>1264.86               </td><td>...                   </td><td>1400.28               </td><td>1183.11               </td><td>1234.88               </td><td>1157.69               </td><td>1186.72               </td><td>985.11                </td><td>844.26                </td><td>744.6                 </td><td>359.03                </td><td>421.64                </td></tr>\n",
       "\t<tr><td>201804                </td><td>20180401              </td><td>1111055000            </td><td>부암동                </td><td>0                     </td><td>228.5                 </td><td>753.31                </td><td>981.54                </td><td>1615.77               </td><td>2732                  </td><td>...                   </td><td>2153.73               </td><td>2431.23               </td><td>3028.24               </td><td>2944.28               </td><td>3532.23               </td><td>3075.55               </td><td>2785.22               </td><td>2223.72               </td><td>1118.48               </td><td>1498.65               </td></tr>\n",
       "\t<tr><td>201804                </td><td>20180401              </td><td>1111056000            </td><td>평창동                </td><td>0                     </td><td>354.38                </td><td>1500.63               </td><td>1963.08               </td><td>2593.07               </td><td>4927.24               </td><td>...                   </td><td>3775.91               </td><td>4598.39               </td><td>5661.53               </td><td>5526.94               </td><td>7075.02               </td><td>6899.55               </td><td>6886.22               </td><td>5336.01               </td><td>2629.75               </td><td>3820.41               </td></tr>\n",
       "\t<tr><td>201804                </td><td>20180401              </td><td>1111057000            </td><td>무악동                </td><td>0.18                  </td><td>39.69                 </td><td>204.43                </td><td>377.5                 </td><td>509.92                </td><td>766.21                </td><td>...                   </td><td>726.12                </td><td>698.17                </td><td>769.8                 </td><td>777.93                </td><td>885                   </td><td>790.96                </td><td>796.02                </td><td>663.07                </td><td>335.06                </td><td>505                   </td></tr>\n",
       "\t<tr><td>201804                </td><td>20180401              </td><td>1111058000            </td><td>교남동                </td><td>0.1                   </td><td>71.96                 </td><td>296.03                </td><td>424.87                </td><td>644.91                </td><td>1135.05               </td><td>...                   </td><td>1275.23               </td><td>1195.05               </td><td>1293.85               </td><td>1149.73               </td><td>1336.16               </td><td>1236.98               </td><td>1233.81               </td><td>1005.98               </td><td>511.36                </td><td>659.94                </td></tr>\n",
       "</tbody>\n",
       "</table>\n"
      ],
      "text/latex": [
       "\\begin{tabular}{r|llllllllllllllllllllllllllllllllll}\n",
       " V1 & V2 & V3 & V4 & V5 & V6 & V7 & V8 & V9 & V10 & ... & V25 & V26 & V27 & V28 & V29 & V30 & V31 & V32 & V33 & V34\\\\\n",
       "\\hline\n",
       "\t STD\\_YM                       & STD\\_YMD                      & HDONG\\_CD                     & HDONG\\_NM                     & MAN\\_FLOW\\_POP\\_CNT\\_0004  & MAN\\_FLOW\\_POP\\_CNT\\_0509  & MAN\\_FLOW\\_POP\\_CNT\\_1014  & MAN\\_FLOW\\_POP\\_CNT\\_1519  & MAN\\_FLOW\\_POP\\_CNT\\_2024  & MAN\\_FLOW\\_POP\\_CNT\\_2529  & ...                            & WMAN\\_FLOW\\_POP\\_CNT\\_2529 & WMAN\\_FLOW\\_POP\\_CNT\\_3034 & WMAN\\_FLOW\\_POP\\_CNT\\_3539 & WMAN\\_FLOW\\_POP\\_CNT\\_4044 & WMAN\\_FLOW\\_POP\\_CNT\\_4549 & WMAN\\_FLOW\\_POP\\_CNT\\_5054 & WMAN\\_FLOW\\_POP\\_CNT\\_5559 & WMAN\\_FLOW\\_POP\\_CNT\\_6064 & WMAN\\_FLOW\\_POP\\_CNT\\_6569 & WMAN\\_FLOW\\_POP\\_CNT\\_70U \\\\\n",
       "\t 201804                 & 20180401               & 1111051500             & 청운효자동             & 0.05                   & 78.93                  & 403.26                 & 642.66                 & 984.24                 & 1792.3                 & ...                    & 1437.8                 & 1356.08                & 1598.14                & 1495.53                & 1768.21                & 1611.47                & 1433.06                & 1212.56                & 549.45                 & 811.56                \\\\\n",
       "\t 201804                 & 20180401               & 1111053000             & 사직동                 & 1.25                   & 262.54                 & 1207.22                & 2177.88                & 4076.89                & 6887.72                & ...                    & 6892.47                & 5743.1                 & 5817.91                & 5429.89                & 6104.03                & 4998.93                & 4826.11                & 4207.45                & 2160.84                & 2972.08               \\\\\n",
       "\t 201804                 & 20180401               & 1111054000             & 삼청동                 & 0                      & 78.07                  & 255.24                 & 331.09                 & 654.32                 & 1264.86                & ...                    & 1400.28                & 1183.11                & 1234.88                & 1157.69                & 1186.72                & 985.11                 & 844.26                 & 744.6                  & 359.03                 & 421.64                \\\\\n",
       "\t 201804                 & 20180401               & 1111055000             & 부암동                 & 0                      & 228.5                  & 753.31                 & 981.54                 & 1615.77                & 2732                   & ...                    & 2153.73                & 2431.23                & 3028.24                & 2944.28                & 3532.23                & 3075.55                & 2785.22                & 2223.72                & 1118.48                & 1498.65               \\\\\n",
       "\t 201804                 & 20180401               & 1111056000             & 평창동                 & 0                      & 354.38                 & 1500.63                & 1963.08                & 2593.07                & 4927.24                & ...                    & 3775.91                & 4598.39                & 5661.53                & 5526.94                & 7075.02                & 6899.55                & 6886.22                & 5336.01                & 2629.75                & 3820.41               \\\\\n",
       "\t 201804                 & 20180401               & 1111057000             & 무악동                 & 0.18                   & 39.69                  & 204.43                 & 377.5                  & 509.92                 & 766.21                 & ...                    & 726.12                 & 698.17                 & 769.8                  & 777.93                 & 885                    & 790.96                 & 796.02                 & 663.07                 & 335.06                 & 505                   \\\\\n",
       "\t 201804                 & 20180401               & 1111058000             & 교남동                 & 0.1                    & 71.96                  & 296.03                 & 424.87                 & 644.91                 & 1135.05                & ...                    & 1275.23                & 1195.05                & 1293.85                & 1149.73                & 1336.16                & 1236.98                & 1233.81                & 1005.98                & 511.36                 & 659.94                \\\\\n",
       "\\end{tabular}\n"
      ],
      "text/markdown": [
       "\n",
       "V1 | V2 | V3 | V4 | V5 | V6 | V7 | V8 | V9 | V10 | ... | V25 | V26 | V27 | V28 | V29 | V30 | V31 | V32 | V33 | V34 | \n",
       "|---|---|---|---|---|---|---|---|\n",
       "| STD_YM                 | STD_YMD                | HDONG_CD               | HDONG_NM               | MAN_FLOW_POP_CNT_0004  | MAN_FLOW_POP_CNT_0509  | MAN_FLOW_POP_CNT_1014  | MAN_FLOW_POP_CNT_1519  | MAN_FLOW_POP_CNT_2024  | MAN_FLOW_POP_CNT_2529  | ...                    | WMAN_FLOW_POP_CNT_2529 | WMAN_FLOW_POP_CNT_3034 | WMAN_FLOW_POP_CNT_3539 | WMAN_FLOW_POP_CNT_4044 | WMAN_FLOW_POP_CNT_4549 | WMAN_FLOW_POP_CNT_5054 | WMAN_FLOW_POP_CNT_5559 | WMAN_FLOW_POP_CNT_6064 | WMAN_FLOW_POP_CNT_6569 | WMAN_FLOW_POP_CNT_70U  | \n",
       "| 201804                 | 20180401               | 1111051500             | 청운효자동             | 0.05                   | 78.93                  | 403.26                 | 642.66                 | 984.24                 | 1792.3                 | ...                    | 1437.8                 | 1356.08                | 1598.14                | 1495.53                | 1768.21                | 1611.47                | 1433.06                | 1212.56                | 549.45                 | 811.56                 | \n",
       "| 201804                 | 20180401               | 1111053000             | 사직동                 | 1.25                   | 262.54                 | 1207.22                | 2177.88                | 4076.89                | 6887.72                | ...                    | 6892.47                | 5743.1                 | 5817.91                | 5429.89                | 6104.03                | 4998.93                | 4826.11                | 4207.45                | 2160.84                | 2972.08                | \n",
       "| 201804                 | 20180401               | 1111054000             | 삼청동                 | 0                      | 78.07                  | 255.24                 | 331.09                 | 654.32                 | 1264.86                | ...                    | 1400.28                | 1183.11                | 1234.88                | 1157.69                | 1186.72                | 985.11                 | 844.26                 | 744.6                  | 359.03                 | 421.64                 | \n",
       "| 201804                 | 20180401               | 1111055000             | 부암동                 | 0                      | 228.5                  | 753.31                 | 981.54                 | 1615.77                | 2732                   | ...                    | 2153.73                | 2431.23                | 3028.24                | 2944.28                | 3532.23                | 3075.55                | 2785.22                | 2223.72                | 1118.48                | 1498.65                | \n",
       "| 201804                 | 20180401               | 1111056000             | 평창동                 | 0                      | 354.38                 | 1500.63                | 1963.08                | 2593.07                | 4927.24                | ...                    | 3775.91                | 4598.39                | 5661.53                | 5526.94                | 7075.02                | 6899.55                | 6886.22                | 5336.01                | 2629.75                | 3820.41                | \n",
       "| 201804                 | 20180401               | 1111057000             | 무악동                 | 0.18                   | 39.69                  | 204.43                 | 377.5                  | 509.92                 | 766.21                 | ...                    | 726.12                 | 698.17                 | 769.8                  | 777.93                 | 885                    | 790.96                 | 796.02                 | 663.07                 | 335.06                 | 505                    | \n",
       "| 201804                 | 20180401               | 1111058000             | 교남동                 | 0.1                    | 71.96                  | 296.03                 | 424.87                 | 644.91                 | 1135.05                | ...                    | 1275.23                | 1195.05                | 1293.85                | 1149.73                | 1336.16                | 1236.98                | 1233.81                | 1005.98                | 511.36                 | 659.94                 | \n",
       "\n",
       "\n"
      ],
      "text/plain": [
       "  V1     V2       V3         V4         V5                   \n",
       "1 STD_YM STD_YMD  HDONG_CD   HDONG_NM   MAN_FLOW_POP_CNT_0004\n",
       "2 201804 20180401 1111051500 청운효자동 0.05                 \n",
       "3 201804 20180401 1111053000 사직동     1.25                 \n",
       "4 201804 20180401 1111054000 삼청동     0                    \n",
       "5 201804 20180401 1111055000 부암동     0                    \n",
       "6 201804 20180401 1111056000 평창동     0                    \n",
       "7 201804 20180401 1111057000 무악동     0.18                 \n",
       "8 201804 20180401 1111058000 교남동     0.1                  \n",
       "  V6                    V7                    V8                   \n",
       "1 MAN_FLOW_POP_CNT_0509 MAN_FLOW_POP_CNT_1014 MAN_FLOW_POP_CNT_1519\n",
       "2 78.93                 403.26                642.66               \n",
       "3 262.54                1207.22               2177.88              \n",
       "4 78.07                 255.24                331.09               \n",
       "5 228.5                 753.31                981.54               \n",
       "6 354.38                1500.63               1963.08              \n",
       "7 39.69                 204.43                377.5                \n",
       "8 71.96                 296.03                424.87               \n",
       "  V9                    V10                   ... V25                   \n",
       "1 MAN_FLOW_POP_CNT_2024 MAN_FLOW_POP_CNT_2529 ... WMAN_FLOW_POP_CNT_2529\n",
       "2 984.24                1792.3                ... 1437.8                \n",
       "3 4076.89               6887.72               ... 6892.47               \n",
       "4 654.32                1264.86               ... 1400.28               \n",
       "5 1615.77               2732                  ... 2153.73               \n",
       "6 2593.07               4927.24               ... 3775.91               \n",
       "7 509.92                766.21                ... 726.12                \n",
       "8 644.91                1135.05               ... 1275.23               \n",
       "  V26                    V27                    V28                   \n",
       "1 WMAN_FLOW_POP_CNT_3034 WMAN_FLOW_POP_CNT_3539 WMAN_FLOW_POP_CNT_4044\n",
       "2 1356.08                1598.14                1495.53               \n",
       "3 5743.1                 5817.91                5429.89               \n",
       "4 1183.11                1234.88                1157.69               \n",
       "5 2431.23                3028.24                2944.28               \n",
       "6 4598.39                5661.53                5526.94               \n",
       "7 698.17                 769.8                  777.93                \n",
       "8 1195.05                1293.85                1149.73               \n",
       "  V29                    V30                    V31                   \n",
       "1 WMAN_FLOW_POP_CNT_4549 WMAN_FLOW_POP_CNT_5054 WMAN_FLOW_POP_CNT_5559\n",
       "2 1768.21                1611.47                1433.06               \n",
       "3 6104.03                4998.93                4826.11               \n",
       "4 1186.72                985.11                 844.26                \n",
       "5 3532.23                3075.55                2785.22               \n",
       "6 7075.02                6899.55                6886.22               \n",
       "7 885                    790.96                 796.02                \n",
       "8 1336.16                1236.98                1233.81               \n",
       "  V32                    V33                    V34                  \n",
       "1 WMAN_FLOW_POP_CNT_6064 WMAN_FLOW_POP_CNT_6569 WMAN_FLOW_POP_CNT_70U\n",
       "2 1212.56                549.45                 811.56               \n",
       "3 4207.45                2160.84                2972.08              \n",
       "4 744.6                  359.03                 421.64               \n",
       "5 2223.72                1118.48                1498.65              \n",
       "6 5336.01                2629.75                3820.41              \n",
       "7 663.07                 335.06                 505                  \n",
       "8 1005.98                511.36                 659.94               "
      ]
     },
     "metadata": {},
     "output_type": "display_data"
    }
   ],
   "source": [
    "year_dat1 <- read.table(\"./year_moving/test.CSV\", sep=\"|\")\n",
    "year_dat1"
   ]
  },
  {
   "cell_type": "code",
   "execution_count": 9,
   "metadata": {},
   "outputs": [
    {
     "data": {
      "text/html": [
       "<table>\n",
       "<thead><tr><th scope=col>V1</th><th scope=col>V2</th><th scope=col>V3</th><th scope=col>V4</th><th scope=col>V5</th><th scope=col>V6</th><th scope=col>V7</th><th scope=col>V8</th><th scope=col>V9</th><th scope=col>V10</th><th scope=col>...</th><th scope=col>V25</th><th scope=col>V26</th><th scope=col>V27</th><th scope=col>V28</th><th scope=col>V29</th><th scope=col>V30</th><th scope=col>V31</th><th scope=col>V32</th><th scope=col>V33</th><th scope=col>V34</th></tr></thead>\n",
       "<tbody>\n",
       "\t<tr><td>STD_YM                </td><td>STD_YMD               </td><td>HDONG_CD              </td><td>HDONG_NM              </td><td>MAN_FLOW_POP_CNT_0004 </td><td>MAN_FLOW_POP_CNT_0509 </td><td>MAN_FLOW_POP_CNT_1014 </td><td>MAN_FLOW_POP_CNT_1519 </td><td>MAN_FLOW_POP_CNT_2024 </td><td>MAN_FLOW_POP_CNT_2529 </td><td>...                   </td><td>WMAN_FLOW_POP_CNT_2529</td><td>WMAN_FLOW_POP_CNT_3034</td><td>WMAN_FLOW_POP_CNT_3539</td><td>WMAN_FLOW_POP_CNT_4044</td><td>WMAN_FLOW_POP_CNT_4549</td><td>WMAN_FLOW_POP_CNT_5054</td><td>WMAN_FLOW_POP_CNT_5559</td><td>WMAN_FLOW_POP_CNT_6064</td><td>WMAN_FLOW_POP_CNT_6569</td><td>WMAN_FLOW_POP_CNT_70U </td></tr>\n",
       "\t<tr><td>201804                </td><td>20180401              </td><td>1111051500            </td><td>청운효자동            </td><td>0.05                  </td><td>78.93                 </td><td>403.26                </td><td>642.66                </td><td>984.24                </td><td>1792.3                </td><td>...                   </td><td>1437.8                </td><td>1356.08               </td><td>1598.14               </td><td>1495.53               </td><td>1768.21               </td><td>1611.47               </td><td>1433.06               </td><td>1212.56               </td><td>549.45                </td><td>811.56                </td></tr>\n",
       "\t<tr><td>201804                </td><td>20180401              </td><td>1111053000            </td><td>사직동                </td><td>1.25                  </td><td>262.54                </td><td>1207.22               </td><td>2177.88               </td><td>4076.89               </td><td>6887.72               </td><td>...                   </td><td>6892.47               </td><td>5743.1                </td><td>5817.91               </td><td>5429.89               </td><td>6104.03               </td><td>4998.93               </td><td>4826.11               </td><td>4207.45               </td><td>2160.84               </td><td>2972.08               </td></tr>\n",
       "\t<tr><td>201804                </td><td>20180401              </td><td>1111054000            </td><td>삼청동                </td><td>0                     </td><td>78.07                 </td><td>255.24                </td><td>331.09                </td><td>654.32                </td><td>1264.86               </td><td>...                   </td><td>1400.28               </td><td>1183.11               </td><td>1234.88               </td><td>1157.69               </td><td>1186.72               </td><td>985.11                </td><td>844.26                </td><td>744.6                 </td><td>359.03                </td><td>421.64                </td></tr>\n",
       "\t<tr><td>201804                </td><td>20180401              </td><td>1111055000            </td><td>부암동                </td><td>0                     </td><td>228.5                 </td><td>753.31                </td><td>981.54                </td><td>1615.77               </td><td>2732                  </td><td>...                   </td><td>2153.73               </td><td>2431.23               </td><td>3028.24               </td><td>2944.28               </td><td>3532.23               </td><td>3075.55               </td><td>2785.22               </td><td>2223.72               </td><td>1118.48               </td><td>1498.65               </td></tr>\n",
       "\t<tr><td>201804                </td><td>20180401              </td><td>1111056000            </td><td>평창동                </td><td>0                     </td><td>354.38                </td><td>1500.63               </td><td>1963.08               </td><td>2593.07               </td><td>4927.24               </td><td>...                   </td><td>3775.91               </td><td>4598.39               </td><td>5661.53               </td><td>5526.94               </td><td>7075.02               </td><td>6899.55               </td><td>6886.22               </td><td>5336.01               </td><td>2629.75               </td><td>3820.41               </td></tr>\n",
       "</tbody>\n",
       "</table>\n"
      ],
      "text/latex": [
       "\\begin{tabular}{r|llllllllllllllllllllllllllllllllll}\n",
       " V1 & V2 & V3 & V4 & V5 & V6 & V7 & V8 & V9 & V10 & ... & V25 & V26 & V27 & V28 & V29 & V30 & V31 & V32 & V33 & V34\\\\\n",
       "\\hline\n",
       "\t STD\\_YM                       & STD\\_YMD                      & HDONG\\_CD                     & HDONG\\_NM                     & MAN\\_FLOW\\_POP\\_CNT\\_0004  & MAN\\_FLOW\\_POP\\_CNT\\_0509  & MAN\\_FLOW\\_POP\\_CNT\\_1014  & MAN\\_FLOW\\_POP\\_CNT\\_1519  & MAN\\_FLOW\\_POP\\_CNT\\_2024  & MAN\\_FLOW\\_POP\\_CNT\\_2529  & ...                            & WMAN\\_FLOW\\_POP\\_CNT\\_2529 & WMAN\\_FLOW\\_POP\\_CNT\\_3034 & WMAN\\_FLOW\\_POP\\_CNT\\_3539 & WMAN\\_FLOW\\_POP\\_CNT\\_4044 & WMAN\\_FLOW\\_POP\\_CNT\\_4549 & WMAN\\_FLOW\\_POP\\_CNT\\_5054 & WMAN\\_FLOW\\_POP\\_CNT\\_5559 & WMAN\\_FLOW\\_POP\\_CNT\\_6064 & WMAN\\_FLOW\\_POP\\_CNT\\_6569 & WMAN\\_FLOW\\_POP\\_CNT\\_70U \\\\\n",
       "\t 201804                 & 20180401               & 1111051500             & 청운효자동             & 0.05                   & 78.93                  & 403.26                 & 642.66                 & 984.24                 & 1792.3                 & ...                    & 1437.8                 & 1356.08                & 1598.14                & 1495.53                & 1768.21                & 1611.47                & 1433.06                & 1212.56                & 549.45                 & 811.56                \\\\\n",
       "\t 201804                 & 20180401               & 1111053000             & 사직동                 & 1.25                   & 262.54                 & 1207.22                & 2177.88                & 4076.89                & 6887.72                & ...                    & 6892.47                & 5743.1                 & 5817.91                & 5429.89                & 6104.03                & 4998.93                & 4826.11                & 4207.45                & 2160.84                & 2972.08               \\\\\n",
       "\t 201804                 & 20180401               & 1111054000             & 삼청동                 & 0                      & 78.07                  & 255.24                 & 331.09                 & 654.32                 & 1264.86                & ...                    & 1400.28                & 1183.11                & 1234.88                & 1157.69                & 1186.72                & 985.11                 & 844.26                 & 744.6                  & 359.03                 & 421.64                \\\\\n",
       "\t 201804                 & 20180401               & 1111055000             & 부암동                 & 0                      & 228.5                  & 753.31                 & 981.54                 & 1615.77                & 2732                   & ...                    & 2153.73                & 2431.23                & 3028.24                & 2944.28                & 3532.23                & 3075.55                & 2785.22                & 2223.72                & 1118.48                & 1498.65               \\\\\n",
       "\t 201804                 & 20180401               & 1111056000             & 평창동                 & 0                      & 354.38                 & 1500.63                & 1963.08                & 2593.07                & 4927.24                & ...                    & 3775.91                & 4598.39                & 5661.53                & 5526.94                & 7075.02                & 6899.55                & 6886.22                & 5336.01                & 2629.75                & 3820.41               \\\\\n",
       "\\end{tabular}\n"
      ],
      "text/markdown": [
       "\n",
       "V1 | V2 | V3 | V4 | V5 | V6 | V7 | V8 | V9 | V10 | ... | V25 | V26 | V27 | V28 | V29 | V30 | V31 | V32 | V33 | V34 | \n",
       "|---|---|---|---|---|---|\n",
       "| STD_YM                 | STD_YMD                | HDONG_CD               | HDONG_NM               | MAN_FLOW_POP_CNT_0004  | MAN_FLOW_POP_CNT_0509  | MAN_FLOW_POP_CNT_1014  | MAN_FLOW_POP_CNT_1519  | MAN_FLOW_POP_CNT_2024  | MAN_FLOW_POP_CNT_2529  | ...                    | WMAN_FLOW_POP_CNT_2529 | WMAN_FLOW_POP_CNT_3034 | WMAN_FLOW_POP_CNT_3539 | WMAN_FLOW_POP_CNT_4044 | WMAN_FLOW_POP_CNT_4549 | WMAN_FLOW_POP_CNT_5054 | WMAN_FLOW_POP_CNT_5559 | WMAN_FLOW_POP_CNT_6064 | WMAN_FLOW_POP_CNT_6569 | WMAN_FLOW_POP_CNT_70U  | \n",
       "| 201804                 | 20180401               | 1111051500             | 청운효자동             | 0.05                   | 78.93                  | 403.26                 | 642.66                 | 984.24                 | 1792.3                 | ...                    | 1437.8                 | 1356.08                | 1598.14                | 1495.53                | 1768.21                | 1611.47                | 1433.06                | 1212.56                | 549.45                 | 811.56                 | \n",
       "| 201804                 | 20180401               | 1111053000             | 사직동                 | 1.25                   | 262.54                 | 1207.22                | 2177.88                | 4076.89                | 6887.72                | ...                    | 6892.47                | 5743.1                 | 5817.91                | 5429.89                | 6104.03                | 4998.93                | 4826.11                | 4207.45                | 2160.84                | 2972.08                | \n",
       "| 201804                 | 20180401               | 1111054000             | 삼청동                 | 0                      | 78.07                  | 255.24                 | 331.09                 | 654.32                 | 1264.86                | ...                    | 1400.28                | 1183.11                | 1234.88                | 1157.69                | 1186.72                | 985.11                 | 844.26                 | 744.6                  | 359.03                 | 421.64                 | \n",
       "| 201804                 | 20180401               | 1111055000             | 부암동                 | 0                      | 228.5                  | 753.31                 | 981.54                 | 1615.77                | 2732                   | ...                    | 2153.73                | 2431.23                | 3028.24                | 2944.28                | 3532.23                | 3075.55                | 2785.22                | 2223.72                | 1118.48                | 1498.65                | \n",
       "| 201804                 | 20180401               | 1111056000             | 평창동                 | 0                      | 354.38                 | 1500.63                | 1963.08                | 2593.07                | 4927.24                | ...                    | 3775.91                | 4598.39                | 5661.53                | 5526.94                | 7075.02                | 6899.55                | 6886.22                | 5336.01                | 2629.75                | 3820.41                | \n",
       "\n",
       "\n"
      ],
      "text/plain": [
       "  V1     V2       V3         V4         V5                   \n",
       "1 STD_YM STD_YMD  HDONG_CD   HDONG_NM   MAN_FLOW_POP_CNT_0004\n",
       "2 201804 20180401 1111051500 청운효자동 0.05                 \n",
       "3 201804 20180401 1111053000 사직동     1.25                 \n",
       "4 201804 20180401 1111054000 삼청동     0                    \n",
       "5 201804 20180401 1111055000 부암동     0                    \n",
       "6 201804 20180401 1111056000 평창동     0                    \n",
       "  V6                    V7                    V8                   \n",
       "1 MAN_FLOW_POP_CNT_0509 MAN_FLOW_POP_CNT_1014 MAN_FLOW_POP_CNT_1519\n",
       "2 78.93                 403.26                642.66               \n",
       "3 262.54                1207.22               2177.88              \n",
       "4 78.07                 255.24                331.09               \n",
       "5 228.5                 753.31                981.54               \n",
       "6 354.38                1500.63               1963.08              \n",
       "  V9                    V10                   ... V25                   \n",
       "1 MAN_FLOW_POP_CNT_2024 MAN_FLOW_POP_CNT_2529 ... WMAN_FLOW_POP_CNT_2529\n",
       "2 984.24                1792.3                ... 1437.8                \n",
       "3 4076.89               6887.72               ... 6892.47               \n",
       "4 654.32                1264.86               ... 1400.28               \n",
       "5 1615.77               2732                  ... 2153.73               \n",
       "6 2593.07               4927.24               ... 3775.91               \n",
       "  V26                    V27                    V28                   \n",
       "1 WMAN_FLOW_POP_CNT_3034 WMAN_FLOW_POP_CNT_3539 WMAN_FLOW_POP_CNT_4044\n",
       "2 1356.08                1598.14                1495.53               \n",
       "3 5743.1                 5817.91                5429.89               \n",
       "4 1183.11                1234.88                1157.69               \n",
       "5 2431.23                3028.24                2944.28               \n",
       "6 4598.39                5661.53                5526.94               \n",
       "  V29                    V30                    V31                   \n",
       "1 WMAN_FLOW_POP_CNT_4549 WMAN_FLOW_POP_CNT_5054 WMAN_FLOW_POP_CNT_5559\n",
       "2 1768.21                1611.47                1433.06               \n",
       "3 6104.03                4998.93                4826.11               \n",
       "4 1186.72                985.11                 844.26                \n",
       "5 3532.23                3075.55                2785.22               \n",
       "6 7075.02                6899.55                6886.22               \n",
       "  V32                    V33                    V34                  \n",
       "1 WMAN_FLOW_POP_CNT_6064 WMAN_FLOW_POP_CNT_6569 WMAN_FLOW_POP_CNT_70U\n",
       "2 1212.56                549.45                 811.56               \n",
       "3 4207.45                2160.84                2972.08              \n",
       "4 744.6                  359.03                 421.64               \n",
       "5 2223.72                1118.48                1498.65              \n",
       "6 5336.01                2629.75                3820.41              "
      ]
     },
     "metadata": {},
     "output_type": "display_data"
    }
   ],
   "source": [
    "year_dat1 <- read.table(\"./year_moving/test_flow_age_201804.csv\", sep=\"|\")\n",
    "head(year_dat1)"
   ]
  },
  {
   "cell_type": "code",
   "execution_count": 10,
   "metadata": {},
   "outputs": [],
   "source": [
    "year_dat_1804 <- read.table(\"./year_moving/test_flow_age_201804.csv\", sep=\"|\", header=TRUE)\n",
    "year_dat_1805 <- read.table(\"./year_moving/test_flow_age_201805.csv\", sep=\"|\", header=TRUE)\n",
    "year_dat_1806 <- read.table(\"./year_moving/test_flow_age_201806.csv\", sep=\"|\", header=TRUE)\n",
    "year_dat_1807 <- read.table(\"./year_moving/test_flow_age_201807.csv\", sep=\"|\", header=TRUE)\n",
    "year_dat_1808 <- read.table(\"./year_moving/test_flow_age_201808.csv\", sep=\"|\", header=TRUE)\n",
    "year_dat_1809 <- read.table(\"./year_moving/test_flow_age_201809.csv\", sep=\"|\", header=TRUE)\n",
    "year_dat_1810 <- read.table(\"./year_moving/test_flow_age_201810.csv\", sep=\"|\", header=TRUE)\n",
    "year_dat_1811 <- read.table(\"./year_moving/test_flow_age_201811.csv\", sep=\"|\", header=TRUE)\n",
    "year_dat_1812 <- read.table(\"./year_moving/test_flow_age_201812.csv\", sep=\"|\", header=TRUE)\n",
    "year_dat_1901 <- read.table(\"./year_moving/test_flow_age_201901.csv\", sep=\"|\", header=TRUE)\n",
    "year_dat_1902 <- read.table(\"./year_moving/test_flow_age_201902.csv\", sep=\"|\", header=TRUE)\n",
    "year_dat_1903 <- read.table(\"./year_moving/test_flow_age_201903.csv\", sep=\"|\", header=TRUE)"
   ]
  },
  {
   "cell_type": "code",
   "execution_count": 11,
   "metadata": {},
   "outputs": [
    {
     "data": {
      "text/html": [
       "<ol class=list-inline>\n",
       "\t<li>1080</li>\n",
       "\t<li>34</li>\n",
       "</ol>\n"
      ],
      "text/latex": [
       "\\begin{enumerate*}\n",
       "\\item 1080\n",
       "\\item 34\n",
       "\\end{enumerate*}\n"
      ],
      "text/markdown": [
       "1. 1080\n",
       "2. 34\n",
       "\n",
       "\n"
      ],
      "text/plain": [
       "[1] 1080   34"
      ]
     },
     "metadata": {},
     "output_type": "display_data"
    },
    {
     "data": {
      "text/html": [
       "<table>\n",
       "<thead><tr><th scope=col>STD_YM</th><th scope=col>STD_YMD</th><th scope=col>HDONG_CD</th><th scope=col>HDONG_NM</th><th scope=col>MAN_FLOW_POP_CNT_0004</th><th scope=col>MAN_FLOW_POP_CNT_0509</th><th scope=col>MAN_FLOW_POP_CNT_1014</th><th scope=col>MAN_FLOW_POP_CNT_1519</th><th scope=col>MAN_FLOW_POP_CNT_2024</th><th scope=col>MAN_FLOW_POP_CNT_2529</th><th scope=col>...</th><th scope=col>WMAN_FLOW_POP_CNT_2529</th><th scope=col>WMAN_FLOW_POP_CNT_3034</th><th scope=col>WMAN_FLOW_POP_CNT_3539</th><th scope=col>WMAN_FLOW_POP_CNT_4044</th><th scope=col>WMAN_FLOW_POP_CNT_4549</th><th scope=col>WMAN_FLOW_POP_CNT_5054</th><th scope=col>WMAN_FLOW_POP_CNT_5559</th><th scope=col>WMAN_FLOW_POP_CNT_6064</th><th scope=col>WMAN_FLOW_POP_CNT_6569</th><th scope=col>WMAN_FLOW_POP_CNT_70U</th></tr></thead>\n",
       "<tbody>\n",
       "\t<tr><td>201804    </td><td>20180401  </td><td>1111051500</td><td>청운효자동</td><td>0.05      </td><td> 78.93    </td><td> 403.26   </td><td> 642.66   </td><td> 984.24   </td><td>1792.30   </td><td>...       </td><td>1437.80   </td><td>1356.08   </td><td>1598.14   </td><td>1495.53   </td><td>1768.21   </td><td>1611.47   </td><td>1433.06   </td><td>1212.56   </td><td> 549.45   </td><td> 811.56   </td></tr>\n",
       "\t<tr><td>201804    </td><td>20180401  </td><td>1111053000</td><td>사직동    </td><td>1.25      </td><td>262.54    </td><td>1207.22   </td><td>2177.88   </td><td>4076.89   </td><td>6887.72   </td><td>...       </td><td>6892.47   </td><td>5743.10   </td><td>5817.91   </td><td>5429.89   </td><td>6104.03   </td><td>4998.93   </td><td>4826.11   </td><td>4207.45   </td><td>2160.84   </td><td>2972.08   </td></tr>\n",
       "\t<tr><td>201804    </td><td>20180401  </td><td>1111054000</td><td>삼청동    </td><td>0.00      </td><td> 78.07    </td><td> 255.24   </td><td> 331.09   </td><td> 654.32   </td><td>1264.86   </td><td>...       </td><td>1400.28   </td><td>1183.11   </td><td>1234.88   </td><td>1157.69   </td><td>1186.72   </td><td> 985.11   </td><td> 844.26   </td><td> 744.60   </td><td> 359.03   </td><td> 421.64   </td></tr>\n",
       "\t<tr><td>201804    </td><td>20180401  </td><td>1111055000</td><td>부암동    </td><td>0.00      </td><td>228.50    </td><td> 753.31   </td><td> 981.54   </td><td>1615.77   </td><td>2732.00   </td><td>...       </td><td>2153.73   </td><td>2431.23   </td><td>3028.24   </td><td>2944.28   </td><td>3532.23   </td><td>3075.55   </td><td>2785.22   </td><td>2223.72   </td><td>1118.48   </td><td>1498.65   </td></tr>\n",
       "\t<tr><td>201804    </td><td>20180401  </td><td>1111056000</td><td>평창동    </td><td>0.00      </td><td>354.38    </td><td>1500.63   </td><td>1963.08   </td><td>2593.07   </td><td>4927.24   </td><td>...       </td><td>3775.91   </td><td>4598.39   </td><td>5661.53   </td><td>5526.94   </td><td>7075.02   </td><td>6899.55   </td><td>6886.22   </td><td>5336.01   </td><td>2629.75   </td><td>3820.41   </td></tr>\n",
       "\t<tr><td>201804    </td><td>20180401  </td><td>1111057000</td><td>무악동    </td><td>0.18      </td><td> 39.69    </td><td> 204.43   </td><td> 377.50   </td><td> 509.92   </td><td> 766.21   </td><td>...       </td><td> 726.12   </td><td> 698.17   </td><td> 769.80   </td><td> 777.93   </td><td> 885.00   </td><td> 790.96   </td><td> 796.02   </td><td> 663.07   </td><td> 335.06   </td><td> 505.00   </td></tr>\n",
       "</tbody>\n",
       "</table>\n"
      ],
      "text/latex": [
       "\\begin{tabular}{r|llllllllllllllllllllllllllllllllll}\n",
       " STD\\_YM & STD\\_YMD & HDONG\\_CD & HDONG\\_NM & MAN\\_FLOW\\_POP\\_CNT\\_0004 & MAN\\_FLOW\\_POP\\_CNT\\_0509 & MAN\\_FLOW\\_POP\\_CNT\\_1014 & MAN\\_FLOW\\_POP\\_CNT\\_1519 & MAN\\_FLOW\\_POP\\_CNT\\_2024 & MAN\\_FLOW\\_POP\\_CNT\\_2529 & ... & WMAN\\_FLOW\\_POP\\_CNT\\_2529 & WMAN\\_FLOW\\_POP\\_CNT\\_3034 & WMAN\\_FLOW\\_POP\\_CNT\\_3539 & WMAN\\_FLOW\\_POP\\_CNT\\_4044 & WMAN\\_FLOW\\_POP\\_CNT\\_4549 & WMAN\\_FLOW\\_POP\\_CNT\\_5054 & WMAN\\_FLOW\\_POP\\_CNT\\_5559 & WMAN\\_FLOW\\_POP\\_CNT\\_6064 & WMAN\\_FLOW\\_POP\\_CNT\\_6569 & WMAN\\_FLOW\\_POP\\_CNT\\_70U\\\\\n",
       "\\hline\n",
       "\t 201804     & 20180401   & 1111051500 & 청운효자동 & 0.05       &  78.93     &  403.26    &  642.66    &  984.24    & 1792.30    & ...        & 1437.80    & 1356.08    & 1598.14    & 1495.53    & 1768.21    & 1611.47    & 1433.06    & 1212.56    &  549.45    &  811.56   \\\\\n",
       "\t 201804     & 20180401   & 1111053000 & 사직동     & 1.25       & 262.54     & 1207.22    & 2177.88    & 4076.89    & 6887.72    & ...        & 6892.47    & 5743.10    & 5817.91    & 5429.89    & 6104.03    & 4998.93    & 4826.11    & 4207.45    & 2160.84    & 2972.08   \\\\\n",
       "\t 201804     & 20180401   & 1111054000 & 삼청동     & 0.00       &  78.07     &  255.24    &  331.09    &  654.32    & 1264.86    & ...        & 1400.28    & 1183.11    & 1234.88    & 1157.69    & 1186.72    &  985.11    &  844.26    &  744.60    &  359.03    &  421.64   \\\\\n",
       "\t 201804     & 20180401   & 1111055000 & 부암동     & 0.00       & 228.50     &  753.31    &  981.54    & 1615.77    & 2732.00    & ...        & 2153.73    & 2431.23    & 3028.24    & 2944.28    & 3532.23    & 3075.55    & 2785.22    & 2223.72    & 1118.48    & 1498.65   \\\\\n",
       "\t 201804     & 20180401   & 1111056000 & 평창동     & 0.00       & 354.38     & 1500.63    & 1963.08    & 2593.07    & 4927.24    & ...        & 3775.91    & 4598.39    & 5661.53    & 5526.94    & 7075.02    & 6899.55    & 6886.22    & 5336.01    & 2629.75    & 3820.41   \\\\\n",
       "\t 201804     & 20180401   & 1111057000 & 무악동     & 0.18       &  39.69     &  204.43    &  377.50    &  509.92    &  766.21    & ...        &  726.12    &  698.17    &  769.80    &  777.93    &  885.00    &  790.96    &  796.02    &  663.07    &  335.06    &  505.00   \\\\\n",
       "\\end{tabular}\n"
      ],
      "text/markdown": [
       "\n",
       "STD_YM | STD_YMD | HDONG_CD | HDONG_NM | MAN_FLOW_POP_CNT_0004 | MAN_FLOW_POP_CNT_0509 | MAN_FLOW_POP_CNT_1014 | MAN_FLOW_POP_CNT_1519 | MAN_FLOW_POP_CNT_2024 | MAN_FLOW_POP_CNT_2529 | ... | WMAN_FLOW_POP_CNT_2529 | WMAN_FLOW_POP_CNT_3034 | WMAN_FLOW_POP_CNT_3539 | WMAN_FLOW_POP_CNT_4044 | WMAN_FLOW_POP_CNT_4549 | WMAN_FLOW_POP_CNT_5054 | WMAN_FLOW_POP_CNT_5559 | WMAN_FLOW_POP_CNT_6064 | WMAN_FLOW_POP_CNT_6569 | WMAN_FLOW_POP_CNT_70U | \n",
       "|---|---|---|---|---|---|\n",
       "| 201804     | 20180401   | 1111051500 | 청운효자동 | 0.05       |  78.93     |  403.26    |  642.66    |  984.24    | 1792.30    | ...        | 1437.80    | 1356.08    | 1598.14    | 1495.53    | 1768.21    | 1611.47    | 1433.06    | 1212.56    |  549.45    |  811.56    | \n",
       "| 201804     | 20180401   | 1111053000 | 사직동     | 1.25       | 262.54     | 1207.22    | 2177.88    | 4076.89    | 6887.72    | ...        | 6892.47    | 5743.10    | 5817.91    | 5429.89    | 6104.03    | 4998.93    | 4826.11    | 4207.45    | 2160.84    | 2972.08    | \n",
       "| 201804     | 20180401   | 1111054000 | 삼청동     | 0.00       |  78.07     |  255.24    |  331.09    |  654.32    | 1264.86    | ...        | 1400.28    | 1183.11    | 1234.88    | 1157.69    | 1186.72    |  985.11    |  844.26    |  744.60    |  359.03    |  421.64    | \n",
       "| 201804     | 20180401   | 1111055000 | 부암동     | 0.00       | 228.50     |  753.31    |  981.54    | 1615.77    | 2732.00    | ...        | 2153.73    | 2431.23    | 3028.24    | 2944.28    | 3532.23    | 3075.55    | 2785.22    | 2223.72    | 1118.48    | 1498.65    | \n",
       "| 201804     | 20180401   | 1111056000 | 평창동     | 0.00       | 354.38     | 1500.63    | 1963.08    | 2593.07    | 4927.24    | ...        | 3775.91    | 4598.39    | 5661.53    | 5526.94    | 7075.02    | 6899.55    | 6886.22    | 5336.01    | 2629.75    | 3820.41    | \n",
       "| 201804     | 20180401   | 1111057000 | 무악동     | 0.18       |  39.69     |  204.43    |  377.50    |  509.92    |  766.21    | ...        |  726.12    |  698.17    |  769.80    |  777.93    |  885.00    |  790.96    |  796.02    |  663.07    |  335.06    |  505.00    | \n",
       "\n",
       "\n"
      ],
      "text/plain": [
       "  STD_YM STD_YMD  HDONG_CD   HDONG_NM   MAN_FLOW_POP_CNT_0004\n",
       "1 201804 20180401 1111051500 청운효자동 0.05                 \n",
       "2 201804 20180401 1111053000 사직동     1.25                 \n",
       "3 201804 20180401 1111054000 삼청동     0.00                 \n",
       "4 201804 20180401 1111055000 부암동     0.00                 \n",
       "5 201804 20180401 1111056000 평창동     0.00                 \n",
       "6 201804 20180401 1111057000 무악동     0.18                 \n",
       "  MAN_FLOW_POP_CNT_0509 MAN_FLOW_POP_CNT_1014 MAN_FLOW_POP_CNT_1519\n",
       "1  78.93                 403.26                642.66              \n",
       "2 262.54                1207.22               2177.88              \n",
       "3  78.07                 255.24                331.09              \n",
       "4 228.50                 753.31                981.54              \n",
       "5 354.38                1500.63               1963.08              \n",
       "6  39.69                 204.43                377.50              \n",
       "  MAN_FLOW_POP_CNT_2024 MAN_FLOW_POP_CNT_2529 ... WMAN_FLOW_POP_CNT_2529\n",
       "1  984.24               1792.30               ... 1437.80               \n",
       "2 4076.89               6887.72               ... 6892.47               \n",
       "3  654.32               1264.86               ... 1400.28               \n",
       "4 1615.77               2732.00               ... 2153.73               \n",
       "5 2593.07               4927.24               ... 3775.91               \n",
       "6  509.92                766.21               ...  726.12               \n",
       "  WMAN_FLOW_POP_CNT_3034 WMAN_FLOW_POP_CNT_3539 WMAN_FLOW_POP_CNT_4044\n",
       "1 1356.08                1598.14                1495.53               \n",
       "2 5743.10                5817.91                5429.89               \n",
       "3 1183.11                1234.88                1157.69               \n",
       "4 2431.23                3028.24                2944.28               \n",
       "5 4598.39                5661.53                5526.94               \n",
       "6  698.17                 769.80                 777.93               \n",
       "  WMAN_FLOW_POP_CNT_4549 WMAN_FLOW_POP_CNT_5054 WMAN_FLOW_POP_CNT_5559\n",
       "1 1768.21                1611.47                1433.06               \n",
       "2 6104.03                4998.93                4826.11               \n",
       "3 1186.72                 985.11                 844.26               \n",
       "4 3532.23                3075.55                2785.22               \n",
       "5 7075.02                6899.55                6886.22               \n",
       "6  885.00                 790.96                 796.02               \n",
       "  WMAN_FLOW_POP_CNT_6064 WMAN_FLOW_POP_CNT_6569 WMAN_FLOW_POP_CNT_70U\n",
       "1 1212.56                 549.45                 811.56              \n",
       "2 4207.45                2160.84                2972.08              \n",
       "3  744.60                 359.03                 421.64              \n",
       "4 2223.72                1118.48                1498.65              \n",
       "5 5336.01                2629.75                3820.41              \n",
       "6  663.07                 335.06                 505.00              "
      ]
     },
     "metadata": {},
     "output_type": "display_data"
    }
   ],
   "source": [
    "dim(year_dat_1804)\n",
    "head(year_dat_1804)"
   ]
  },
  {
   "cell_type": "code",
   "execution_count": 12,
   "metadata": {},
   "outputs": [
    {
     "data": {
      "text/html": [
       "1080"
      ],
      "text/latex": [
       "1080"
      ],
      "text/markdown": [
       "1080"
      ],
      "text/plain": [
       "[1] 1080"
      ]
     },
     "metadata": {},
     "output_type": "display_data"
    },
    {
     "data": {
      "text/html": [
       "1116"
      ],
      "text/latex": [
       "1116"
      ],
      "text/markdown": [
       "1116"
      ],
      "text/plain": [
       "[1] 1116"
      ]
     },
     "metadata": {},
     "output_type": "display_data"
    },
    {
     "data": {
      "text/html": [
       "1080"
      ],
      "text/latex": [
       "1080"
      ],
      "text/markdown": [
       "1080"
      ],
      "text/plain": [
       "[1] 1080"
      ]
     },
     "metadata": {},
     "output_type": "display_data"
    },
    {
     "data": {
      "text/html": [
       "1116"
      ],
      "text/latex": [
       "1116"
      ],
      "text/markdown": [
       "1116"
      ],
      "text/plain": [
       "[1] 1116"
      ]
     },
     "metadata": {},
     "output_type": "display_data"
    },
    {
     "data": {
      "text/html": [
       "1116"
      ],
      "text/latex": [
       "1116"
      ],
      "text/markdown": [
       "1116"
      ],
      "text/plain": [
       "[1] 1116"
      ]
     },
     "metadata": {},
     "output_type": "display_data"
    },
    {
     "data": {
      "text/html": [
       "1080"
      ],
      "text/latex": [
       "1080"
      ],
      "text/markdown": [
       "1080"
      ],
      "text/plain": [
       "[1] 1080"
      ]
     },
     "metadata": {},
     "output_type": "display_data"
    },
    {
     "data": {
      "text/html": [
       "1116"
      ],
      "text/latex": [
       "1116"
      ],
      "text/markdown": [
       "1116"
      ],
      "text/plain": [
       "[1] 1116"
      ]
     },
     "metadata": {},
     "output_type": "display_data"
    },
    {
     "data": {
      "text/html": [
       "1080"
      ],
      "text/latex": [
       "1080"
      ],
      "text/markdown": [
       "1080"
      ],
      "text/plain": [
       "[1] 1080"
      ]
     },
     "metadata": {},
     "output_type": "display_data"
    },
    {
     "data": {
      "text/html": [
       "1116"
      ],
      "text/latex": [
       "1116"
      ],
      "text/markdown": [
       "1116"
      ],
      "text/plain": [
       "[1] 1116"
      ]
     },
     "metadata": {},
     "output_type": "display_data"
    }
   ],
   "source": [
    "nrow(year_dat_1804); \n",
    "nrow(year_dat_1805); \n",
    "nrow(year_dat_1806); \n",
    "nrow(year_dat_1807); \n",
    "nrow(year_dat_1808); \n",
    "nrow(year_dat_1809); \n",
    "nrow(year_dat_1810); \n",
    "nrow(year_dat_1811); \n",
    "nrow(year_dat_1812); "
   ]
  },
  {
   "cell_type": "markdown",
   "metadata": {},
   "source": [
    "### 행 연결"
   ]
  },
  {
   "cell_type": "code",
   "execution_count": 13,
   "metadata": {},
   "outputs": [
    {
     "data": {
      "text/html": [
       "<table>\n",
       "<thead><tr><th scope=col>x</th><th scope=col>y</th></tr></thead>\n",
       "<tbody>\n",
       "\t<tr><td>1</td><td>1</td></tr>\n",
       "\t<tr><td>2</td><td>2</td></tr>\n",
       "\t<tr><td>3</td><td>3</td></tr>\n",
       "\t<tr><td>4</td><td>4</td></tr>\n",
       "\t<tr><td>5</td><td>5</td></tr>\n",
       "\t<tr><td>6</td><td>6</td></tr>\n",
       "</tbody>\n",
       "</table>\n"
      ],
      "text/latex": [
       "\\begin{tabular}{r|ll}\n",
       " x & y\\\\\n",
       "\\hline\n",
       "\t 1 & 1\\\\\n",
       "\t 2 & 2\\\\\n",
       "\t 3 & 3\\\\\n",
       "\t 4 & 4\\\\\n",
       "\t 5 & 5\\\\\n",
       "\t 6 & 6\\\\\n",
       "\\end{tabular}\n"
      ],
      "text/markdown": [
       "\n",
       "x | y | \n",
       "|---|---|---|---|---|---|\n",
       "| 1 | 1 | \n",
       "| 2 | 2 | \n",
       "| 3 | 3 | \n",
       "| 4 | 4 | \n",
       "| 5 | 5 | \n",
       "| 6 | 6 | \n",
       "\n",
       "\n"
      ],
      "text/plain": [
       "  x y\n",
       "1 1 1\n",
       "2 2 2\n",
       "3 3 3\n",
       "4 4 4\n",
       "5 5 5\n",
       "6 6 6"
      ]
     },
     "metadata": {},
     "output_type": "display_data"
    }
   ],
   "source": [
    "df_1 <- data.frame(x = 1:3, y = 1:3)\n",
    "df_2 <- data.frame(x = 4:6, y = 4:6)\n",
    "rbind(df_1, df_2)"
   ]
  },
  {
   "cell_type": "code",
   "execution_count": 14,
   "metadata": {},
   "outputs": [
    {
     "data": {
      "text/html": [
       "<table>\n",
       "<thead><tr><th scope=col>x</th><th scope=col>y</th></tr></thead>\n",
       "<tbody>\n",
       "\t<tr><td>1</td><td>1</td></tr>\n",
       "\t<tr><td>2</td><td>2</td></tr>\n",
       "\t<tr><td>3</td><td>3</td></tr>\n",
       "\t<tr><td>4</td><td>4</td></tr>\n",
       "\t<tr><td>5</td><td>5</td></tr>\n",
       "\t<tr><td>6</td><td>6</td></tr>\n",
       "</tbody>\n",
       "</table>\n"
      ],
      "text/latex": [
       "\\begin{tabular}{r|ll}\n",
       " x & y\\\\\n",
       "\\hline\n",
       "\t 1 & 1\\\\\n",
       "\t 2 & 2\\\\\n",
       "\t 3 & 3\\\\\n",
       "\t 4 & 4\\\\\n",
       "\t 5 & 5\\\\\n",
       "\t 6 & 6\\\\\n",
       "\\end{tabular}\n"
      ],
      "text/markdown": [
       "\n",
       "x | y | \n",
       "|---|---|---|---|---|---|\n",
       "| 1 | 1 | \n",
       "| 2 | 2 | \n",
       "| 3 | 3 | \n",
       "| 4 | 4 | \n",
       "| 5 | 5 | \n",
       "| 6 | 6 | \n",
       "\n",
       "\n"
      ],
      "text/plain": [
       "  x y\n",
       "1 1 1\n",
       "2 2 2\n",
       "3 3 3\n",
       "4 4 4\n",
       "5 5 5\n",
       "6 6 6"
      ]
     },
     "metadata": {},
     "output_type": "display_data"
    }
   ],
   "source": [
    "bind_rows(df_1, df_2)"
   ]
  },
  {
   "cell_type": "code",
   "execution_count": 23,
   "metadata": {},
   "outputs": [
    {
     "data": {
      "text/html": [
       "<table>\n",
       "<thead><tr><th scope=col>STD_YM</th><th scope=col>STD_YMD</th><th scope=col>HDONG_CD</th><th scope=col>HDONG_NM</th><th scope=col>MAN_FLOW_POP_CNT_0004</th><th scope=col>MAN_FLOW_POP_CNT_0509</th><th scope=col>MAN_FLOW_POP_CNT_1014</th><th scope=col>MAN_FLOW_POP_CNT_1519</th><th scope=col>MAN_FLOW_POP_CNT_2024</th><th scope=col>MAN_FLOW_POP_CNT_2529</th><th scope=col>...</th><th scope=col>WMAN_FLOW_POP_CNT_2529</th><th scope=col>WMAN_FLOW_POP_CNT_3034</th><th scope=col>WMAN_FLOW_POP_CNT_3539</th><th scope=col>WMAN_FLOW_POP_CNT_4044</th><th scope=col>WMAN_FLOW_POP_CNT_4549</th><th scope=col>WMAN_FLOW_POP_CNT_5054</th><th scope=col>WMAN_FLOW_POP_CNT_5559</th><th scope=col>WMAN_FLOW_POP_CNT_6064</th><th scope=col>WMAN_FLOW_POP_CNT_6569</th><th scope=col>WMAN_FLOW_POP_CNT_70U</th></tr></thead>\n",
       "<tbody>\n",
       "\t<tr><td>201804         </td><td>20180401       </td><td>1111051500     </td><td>청운효자동     </td><td>0.05           </td><td> 78.93         </td><td> 403.26        </td><td> 642.66        </td><td>  984.24       </td><td> 1792.30       </td><td>...            </td><td> 1437.80       </td><td> 1356.08       </td><td> 1598.14       </td><td> 1495.53       </td><td> 1768.21       </td><td> 1611.47       </td><td> 1433.06       </td><td> 1212.56       </td><td> 549.45        </td><td> 811.56        </td></tr>\n",
       "\t<tr><td>201804         </td><td>20180401       </td><td>1111053000     </td><td>사직동         </td><td>1.25           </td><td>262.54         </td><td>1207.22        </td><td>2177.88        </td><td> 4076.89       </td><td> 6887.72       </td><td>...            </td><td> 6892.47       </td><td> 5743.10       </td><td> 5817.91       </td><td> 5429.89       </td><td> 6104.03       </td><td> 4998.93       </td><td> 4826.11       </td><td> 4207.45       </td><td>2160.84        </td><td>2972.08        </td></tr>\n",
       "\t<tr><td>201804         </td><td>20180401       </td><td>1111054000     </td><td>삼청동         </td><td>0.00           </td><td> 78.07         </td><td> 255.24        </td><td> 331.09        </td><td>  654.32       </td><td> 1264.86       </td><td>...            </td><td> 1400.28       </td><td> 1183.11       </td><td> 1234.88       </td><td> 1157.69       </td><td> 1186.72       </td><td>  985.11       </td><td>  844.26       </td><td>  744.60       </td><td> 359.03        </td><td> 421.64        </td></tr>\n",
       "\t<tr><td>201804         </td><td>20180401       </td><td>1111055000     </td><td>부암동         </td><td>0.00           </td><td>228.50         </td><td> 753.31        </td><td> 981.54        </td><td> 1615.77       </td><td> 2732.00       </td><td>...            </td><td> 2153.73       </td><td> 2431.23       </td><td> 3028.24       </td><td> 2944.28       </td><td> 3532.23       </td><td> 3075.55       </td><td> 2785.22       </td><td> 2223.72       </td><td>1118.48        </td><td>1498.65        </td></tr>\n",
       "\t<tr><td>201804         </td><td>20180401       </td><td>1111056000     </td><td>평창동         </td><td>0.00           </td><td>354.38         </td><td>1500.63        </td><td>1963.08        </td><td> 2593.07       </td><td> 4927.24       </td><td>...            </td><td> 3775.91       </td><td> 4598.39       </td><td> 5661.53       </td><td> 5526.94       </td><td> 7075.02       </td><td> 6899.55       </td><td> 6886.22       </td><td> 5336.01       </td><td>2629.75        </td><td>3820.41        </td></tr>\n",
       "\t<tr><td>201804         </td><td>20180401       </td><td>1111057000     </td><td>무악동         </td><td>0.18           </td><td> 39.69         </td><td> 204.43        </td><td> 377.50        </td><td>  509.92       </td><td>  766.21       </td><td>...            </td><td>  726.12       </td><td>  698.17       </td><td>  769.80       </td><td>  777.93       </td><td>  885.00       </td><td>  790.96       </td><td>  796.02       </td><td>  663.07       </td><td> 335.06        </td><td> 505.00        </td></tr>\n",
       "\t<tr><td>201804         </td><td>20180401       </td><td>1111058000     </td><td>교남동         </td><td>0.10           </td><td> 71.96         </td><td> 296.03        </td><td> 424.87        </td><td>  644.91       </td><td> 1135.05       </td><td>...            </td><td> 1275.23       </td><td> 1195.05       </td><td> 1293.85       </td><td> 1149.73       </td><td> 1336.16       </td><td> 1236.98       </td><td> 1233.81       </td><td> 1005.98       </td><td> 511.36        </td><td> 659.94        </td></tr>\n",
       "\t<tr><td>201804         </td><td>20180401       </td><td>1111060000     </td><td>가회동         </td><td>0.00           </td><td> 37.87         </td><td> 196.30        </td><td> 535.94        </td><td>  472.73       </td><td>  893.54       </td><td>...            </td><td>  832.24       </td><td>  729.24       </td><td>  812.86       </td><td>  741.41       </td><td>  824.36       </td><td>  773.96       </td><td>  600.20       </td><td>  496.99       </td><td> 239.37        </td><td> 318.38        </td></tr>\n",
       "\t<tr><td>201804         </td><td>20180401       </td><td>1111061500     </td><td>종로1.2.3.4가동</td><td>0.00           </td><td>513.62         </td><td>2338.10        </td><td>5480.67        </td><td>13268.22       </td><td>22024.63       </td><td>...            </td><td>21204.75       </td><td>15427.80       </td><td>14043.25       </td><td>12047.71       </td><td>13552.38       </td><td>12382.49       </td><td>12825.69       </td><td>11133.73       </td><td>6688.62        </td><td>8386.44        </td></tr>\n",
       "\t<tr><td>201804         </td><td>20180401       </td><td>1111063000     </td><td>종로5.6가동    </td><td>0.00           </td><td>110.60         </td><td> 521.40        </td><td>1783.97        </td><td> 4146.69       </td><td> 5968.60       </td><td>...            </td><td> 5638.02       </td><td> 4030.70       </td><td> 3685.25       </td><td> 3086.76       </td><td> 3643.56       </td><td> 3525.47       </td><td> 3880.52       </td><td> 3341.49       </td><td>2045.79        </td><td>2427.11        </td></tr>\n",
       "\t<tr><td>201804         </td><td>20180401       </td><td>1111064000     </td><td>이화동         </td><td>0.00           </td><td>105.25         </td><td> 436.49        </td><td>1302.85        </td><td> 3341.51       </td><td> 4938.03       </td><td>...            </td><td> 5175.51       </td><td> 3519.28       </td><td> 3136.41       </td><td> 2421.41       </td><td> 2625.92       </td><td> 2320.97       </td><td> 2283.68       </td><td> 1925.62       </td><td>1176.80        </td><td>1436.31        </td></tr>\n",
       "\t<tr><td>201804         </td><td>20180401       </td><td>1111065000     </td><td>혜화동         </td><td>0.00           </td><td>165.65         </td><td> 718.89        </td><td>1741.96        </td><td> 3934.77       </td><td> 5789.92       </td><td>...            </td><td> 5434.38       </td><td> 3796.09       </td><td> 3842.03       </td><td> 3504.49       </td><td> 3698.25       </td><td> 3050.29       </td><td> 3118.78       </td><td> 2447.26       </td><td>1456.74        </td><td>1864.33        </td></tr>\n",
       "\t<tr><td>201804         </td><td>20180401       </td><td>1111067000     </td><td>창신1동        </td><td>0.00           </td><td> 80.96         </td><td> 315.65        </td><td> 805.39        </td><td> 1885.79       </td><td> 2591.53       </td><td>...            </td><td> 2229.10       </td><td> 1713.07       </td><td> 1796.58       </td><td> 1534.94       </td><td> 1767.25       </td><td> 1724.08       </td><td> 1872.71       </td><td> 1626.44       </td><td>1079.53        </td><td>1394.47        </td></tr>\n",
       "\t<tr><td>201804         </td><td>20180401       </td><td>1111068000     </td><td>창신2동        </td><td>0.00           </td><td> 14.45         </td><td>  79.54        </td><td> 241.08        </td><td>  591.11       </td><td>  764.86       </td><td>...            </td><td>  629.73       </td><td>  438.70       </td><td>  451.03       </td><td>  373.65       </td><td>  454.00       </td><td>  444.68       </td><td>  503.43       </td><td>  417.36       </td><td> 291.86        </td><td> 372.35        </td></tr>\n",
       "\t<tr><td>201804         </td><td>20180401       </td><td>1111069000     </td><td>창신3동        </td><td>0.00           </td><td> 14.61         </td><td>  68.00        </td><td> 160.76        </td><td>  417.77       </td><td>  454.52       </td><td>...            </td><td>  448.48       </td><td>  293.04       </td><td>  288.47       </td><td>  257.37       </td><td>  281.07       </td><td>  241.23       </td><td>  259.76       </td><td>  216.12       </td><td> 129.93        </td><td> 170.71        </td></tr>\n",
       "\t<tr><td>201804         </td><td>20180401       </td><td>1111070000     </td><td>숭인1동        </td><td>0.00           </td><td> 39.51         </td><td> 158.44        </td><td> 420.93        </td><td> 1045.74       </td><td> 1266.47       </td><td>...            </td><td> 1113.23       </td><td>  796.51       </td><td>  818.52       </td><td>  733.96       </td><td>  830.07       </td><td>  791.76       </td><td>  842.29       </td><td>  730.37       </td><td> 509.45        </td><td> 696.26        </td></tr>\n",
       "\t<tr><td>201804         </td><td>20180401       </td><td>1111071000     </td><td>숭인2동        </td><td>0.02           </td><td> 92.57         </td><td> 437.47        </td><td>1155.37        </td><td> 2761.97       </td><td> 3833.82       </td><td>...            </td><td> 3136.60       </td><td> 2342.97       </td><td> 2339.76       </td><td> 2058.31       </td><td> 2295.57       </td><td> 2496.34       </td><td> 2591.54       </td><td> 2300.54       </td><td>1550.30        </td><td>2070.33        </td></tr>\n",
       "\t<tr><td>201804         </td><td>20180401       </td><td>1135056000     </td><td>월계1동        </td><td>0.00           </td><td>161.02         </td><td> 840.71        </td><td>1726.62        </td><td> 2910.29       </td><td> 3302.51       </td><td>...            </td><td> 2428.51       </td><td> 2455.18       </td><td> 3162.63       </td><td> 2877.48       </td><td> 3249.07       </td><td> 2821.35       </td><td> 2864.24       </td><td> 2452.31       </td><td>1622.23        </td><td>2012.52        </td></tr>\n",
       "\t<tr><td>201804         </td><td>20180401       </td><td>1135057000     </td><td>월계2동        </td><td>0.00           </td><td>149.00         </td><td> 803.96        </td><td>1136.53        </td><td> 1580.35       </td><td> 2092.22       </td><td>...            </td><td> 1550.69       </td><td> 1711.12       </td><td> 2387.51       </td><td> 2363.21       </td><td> 2713.98       </td><td> 2430.24       </td><td> 2497.50       </td><td> 2037.30       </td><td>1294.53        </td><td>1679.60        </td></tr>\n",
       "\t<tr><td>201804         </td><td>20180401       </td><td>1135058000     </td><td>월계3동        </td><td>0.00           </td><td>268.76         </td><td>1244.42        </td><td>1745.48        </td><td> 2722.09       </td><td> 3867.41       </td><td>...            </td><td> 3087.49       </td><td> 3531.72       </td><td> 4858.73       </td><td> 4296.47       </td><td> 4830.31       </td><td> 3994.64       </td><td> 4116.01       </td><td> 3175.99       </td><td>1906.94        </td><td>2263.67        </td></tr>\n",
       "\t<tr><td>201804         </td><td>20180401       </td><td>1135059500     </td><td>공릉1동        </td><td>0.00           </td><td>404.64         </td><td>1965.14        </td><td>3250.21        </td><td> 5964.32       </td><td> 8006.50       </td><td>...            </td><td> 6427.53       </td><td> 6433.46       </td><td> 7491.36       </td><td> 6810.12       </td><td> 7733.11       </td><td> 6991.21       </td><td> 7421.88       </td><td> 5547.44       </td><td>3060.46        </td><td>3472.09        </td></tr>\n",
       "\t<tr><td>201804         </td><td>20180401       </td><td>1135060000     </td><td>공릉2동        </td><td>0.00           </td><td>477.10         </td><td>2217.96        </td><td>3859.70        </td><td> 7741.70       </td><td> 6249.86       </td><td>...            </td><td> 4624.87       </td><td> 4879.60       </td><td> 6881.48       </td><td> 6834.83       </td><td> 7907.76       </td><td> 6501.63       </td><td> 6472.60       </td><td> 4786.71       </td><td>2592.84        </td><td>2826.57        </td></tr>\n",
       "\t<tr><td>201804         </td><td>20180401       </td><td>1135061100     </td><td>하계1동        </td><td>0.00           </td><td>186.29         </td><td>1188.58        </td><td>2429.34        </td><td> 2942.25       </td><td> 3359.55       </td><td>...            </td><td> 2496.12       </td><td> 2486.68       </td><td> 3353.63       </td><td> 4194.97       </td><td> 5411.60       </td><td> 4332.88       </td><td> 4097.98       </td><td> 2850.74       </td><td>1517.06        </td><td>1679.00        </td></tr>\n",
       "\t<tr><td>201804         </td><td>20180401       </td><td>1135061200     </td><td>하계2동        </td><td>0.00           </td><td>154.78         </td><td> 855.41        </td><td>1431.99        </td><td> 1877.49       </td><td> 2519.92       </td><td>...            </td><td> 2174.58       </td><td> 2136.56       </td><td> 2764.08       </td><td> 2808.59       </td><td> 3557.62       </td><td> 2924.49       </td><td> 3000.93       </td><td> 2192.89       </td><td>1238.80        </td><td>1446.40        </td></tr>\n",
       "\t<tr><td>201804         </td><td>20180401       </td><td>1135061900     </td><td>중계본동       </td><td>0.00           </td><td> 91.35         </td><td> 655.81        </td><td>1170.47        </td><td>  731.84       </td><td>  912.52       </td><td>...            </td><td>  635.75       </td><td>  690.39       </td><td> 1002.70       </td><td> 1720.91       </td><td> 2449.56       </td><td> 1640.20       </td><td> 1431.05       </td><td>  898.99       </td><td> 371.17        </td><td> 489.49        </td></tr>\n",
       "\t<tr><td>201804         </td><td>20180401       </td><td>1135062100     </td><td>중계1동        </td><td>0.00           </td><td>118.86         </td><td>1001.66        </td><td>1880.60        </td><td> 1137.63       </td><td> 1392.42       </td><td>...            </td><td> 1047.13       </td><td> 1077.21       </td><td> 1726.84       </td><td> 2543.80       </td><td> 3648.43       </td><td> 2118.48       </td><td> 1792.06       </td><td> 1175.48       </td><td> 602.60        </td><td> 764.17        </td></tr>\n",
       "\t<tr><td>201804         </td><td>20180401       </td><td>1135062400     </td><td>중계4동        </td><td>0.00           </td><td>121.50         </td><td> 600.85        </td><td>1196.17        </td><td> 1004.77       </td><td> 1369.20       </td><td>...            </td><td> 1012.01       </td><td> 1047.97       </td><td> 1387.28       </td><td> 1669.14       </td><td> 2480.05       </td><td> 1886.32       </td><td> 2037.48       </td><td> 1441.96       </td><td> 789.55        </td><td> 950.31        </td></tr>\n",
       "\t<tr><td>201804         </td><td>20180401       </td><td>1135062500     </td><td>중계2.3동      </td><td>0.00           </td><td>271.44         </td><td>1584.02        </td><td>2314.34        </td><td> 2960.31       </td><td> 3862.24       </td><td>...            </td><td> 3365.15       </td><td> 3199.84       </td><td> 4230.41       </td><td> 4385.61       </td><td> 5467.50       </td><td> 4079.97       </td><td> 4080.47       </td><td> 3084.26       </td><td>1792.64        </td><td>2201.34        </td></tr>\n",
       "\t<tr><td>201804         </td><td>20180401       </td><td>1135063000     </td><td>상계1동        </td><td>0.00           </td><td>399.73         </td><td>1564.71        </td><td>2138.51        </td><td> 2660.47       </td><td> 4323.45       </td><td>...            </td><td> 4031.60       </td><td> 4347.97       </td><td> 5617.01       </td><td> 5323.23       </td><td> 6072.12       </td><td> 6191.04       </td><td> 6495.45       </td><td> 4753.57       </td><td>2511.84        </td><td>2667.87        </td></tr>\n",
       "\t<tr><td>201804         </td><td>20180401       </td><td>1135064000     </td><td>상계2동        </td><td>0.00           </td><td>196.21         </td><td>1063.53        </td><td>2802.32        </td><td> 3744.90       </td><td> 4444.92       </td><td>...            </td><td> 3853.12       </td><td> 3229.90       </td><td> 3669.76       </td><td> 3665.56       </td><td> 4612.09       </td><td> 4041.12       </td><td> 3928.69       </td><td> 3145.62       </td><td>1705.12        </td><td>1919.71        </td></tr>\n",
       "</tbody>\n",
       "</table>\n"
      ],
      "text/latex": [
       "\\begin{tabular}{r|llllllllllllllllllllllllllllllllll}\n",
       " STD\\_YM & STD\\_YMD & HDONG\\_CD & HDONG\\_NM & MAN\\_FLOW\\_POP\\_CNT\\_0004 & MAN\\_FLOW\\_POP\\_CNT\\_0509 & MAN\\_FLOW\\_POP\\_CNT\\_1014 & MAN\\_FLOW\\_POP\\_CNT\\_1519 & MAN\\_FLOW\\_POP\\_CNT\\_2024 & MAN\\_FLOW\\_POP\\_CNT\\_2529 & ... & WMAN\\_FLOW\\_POP\\_CNT\\_2529 & WMAN\\_FLOW\\_POP\\_CNT\\_3034 & WMAN\\_FLOW\\_POP\\_CNT\\_3539 & WMAN\\_FLOW\\_POP\\_CNT\\_4044 & WMAN\\_FLOW\\_POP\\_CNT\\_4549 & WMAN\\_FLOW\\_POP\\_CNT\\_5054 & WMAN\\_FLOW\\_POP\\_CNT\\_5559 & WMAN\\_FLOW\\_POP\\_CNT\\_6064 & WMAN\\_FLOW\\_POP\\_CNT\\_6569 & WMAN\\_FLOW\\_POP\\_CNT\\_70U\\\\\n",
       "\\hline\n",
       "\t 201804          & 20180401        & 1111051500      & 청운효자동      & 0.05            &  78.93          &  403.26         &  642.66         &   984.24        &  1792.30        & ...             &  1437.80        &  1356.08        &  1598.14        &  1495.53        &  1768.21        &  1611.47        &  1433.06        &  1212.56        &  549.45         &  811.56        \\\\\n",
       "\t 201804          & 20180401        & 1111053000      & 사직동          & 1.25            & 262.54          & 1207.22         & 2177.88         &  4076.89        &  6887.72        & ...             &  6892.47        &  5743.10        &  5817.91        &  5429.89        &  6104.03        &  4998.93        &  4826.11        &  4207.45        & 2160.84         & 2972.08        \\\\\n",
       "\t 201804          & 20180401        & 1111054000      & 삼청동          & 0.00            &  78.07          &  255.24         &  331.09         &   654.32        &  1264.86        & ...             &  1400.28        &  1183.11        &  1234.88        &  1157.69        &  1186.72        &   985.11        &   844.26        &   744.60        &  359.03         &  421.64        \\\\\n",
       "\t 201804          & 20180401        & 1111055000      & 부암동          & 0.00            & 228.50          &  753.31         &  981.54         &  1615.77        &  2732.00        & ...             &  2153.73        &  2431.23        &  3028.24        &  2944.28        &  3532.23        &  3075.55        &  2785.22        &  2223.72        & 1118.48         & 1498.65        \\\\\n",
       "\t 201804          & 20180401        & 1111056000      & 평창동          & 0.00            & 354.38          & 1500.63         & 1963.08         &  2593.07        &  4927.24        & ...             &  3775.91        &  4598.39        &  5661.53        &  5526.94        &  7075.02        &  6899.55        &  6886.22        &  5336.01        & 2629.75         & 3820.41        \\\\\n",
       "\t 201804          & 20180401        & 1111057000      & 무악동          & 0.18            &  39.69          &  204.43         &  377.50         &   509.92        &   766.21        & ...             &   726.12        &   698.17        &   769.80        &   777.93        &   885.00        &   790.96        &   796.02        &   663.07        &  335.06         &  505.00        \\\\\n",
       "\t 201804          & 20180401        & 1111058000      & 교남동          & 0.10            &  71.96          &  296.03         &  424.87         &   644.91        &  1135.05        & ...             &  1275.23        &  1195.05        &  1293.85        &  1149.73        &  1336.16        &  1236.98        &  1233.81        &  1005.98        &  511.36         &  659.94        \\\\\n",
       "\t 201804          & 20180401        & 1111060000      & 가회동          & 0.00            &  37.87          &  196.30         &  535.94         &   472.73        &   893.54        & ...             &   832.24        &   729.24        &   812.86        &   741.41        &   824.36        &   773.96        &   600.20        &   496.99        &  239.37         &  318.38        \\\\\n",
       "\t 201804          & 20180401        & 1111061500      & 종로1.2.3.4가동 & 0.00            & 513.62          & 2338.10         & 5480.67         & 13268.22        & 22024.63        & ...             & 21204.75        & 15427.80        & 14043.25        & 12047.71        & 13552.38        & 12382.49        & 12825.69        & 11133.73        & 6688.62         & 8386.44        \\\\\n",
       "\t 201804          & 20180401        & 1111063000      & 종로5.6가동     & 0.00            & 110.60          &  521.40         & 1783.97         &  4146.69        &  5968.60        & ...             &  5638.02        &  4030.70        &  3685.25        &  3086.76        &  3643.56        &  3525.47        &  3880.52        &  3341.49        & 2045.79         & 2427.11        \\\\\n",
       "\t 201804          & 20180401        & 1111064000      & 이화동          & 0.00            & 105.25          &  436.49         & 1302.85         &  3341.51        &  4938.03        & ...             &  5175.51        &  3519.28        &  3136.41        &  2421.41        &  2625.92        &  2320.97        &  2283.68        &  1925.62        & 1176.80         & 1436.31        \\\\\n",
       "\t 201804          & 20180401        & 1111065000      & 혜화동          & 0.00            & 165.65          &  718.89         & 1741.96         &  3934.77        &  5789.92        & ...             &  5434.38        &  3796.09        &  3842.03        &  3504.49        &  3698.25        &  3050.29        &  3118.78        &  2447.26        & 1456.74         & 1864.33        \\\\\n",
       "\t 201804          & 20180401        & 1111067000      & 창신1동         & 0.00            &  80.96          &  315.65         &  805.39         &  1885.79        &  2591.53        & ...             &  2229.10        &  1713.07        &  1796.58        &  1534.94        &  1767.25        &  1724.08        &  1872.71        &  1626.44        & 1079.53         & 1394.47        \\\\\n",
       "\t 201804          & 20180401        & 1111068000      & 창신2동         & 0.00            &  14.45          &   79.54         &  241.08         &   591.11        &   764.86        & ...             &   629.73        &   438.70        &   451.03        &   373.65        &   454.00        &   444.68        &   503.43        &   417.36        &  291.86         &  372.35        \\\\\n",
       "\t 201804          & 20180401        & 1111069000      & 창신3동         & 0.00            &  14.61          &   68.00         &  160.76         &   417.77        &   454.52        & ...             &   448.48        &   293.04        &   288.47        &   257.37        &   281.07        &   241.23        &   259.76        &   216.12        &  129.93         &  170.71        \\\\\n",
       "\t 201804          & 20180401        & 1111070000      & 숭인1동         & 0.00            &  39.51          &  158.44         &  420.93         &  1045.74        &  1266.47        & ...             &  1113.23        &   796.51        &   818.52        &   733.96        &   830.07        &   791.76        &   842.29        &   730.37        &  509.45         &  696.26        \\\\\n",
       "\t 201804          & 20180401        & 1111071000      & 숭인2동         & 0.02            &  92.57          &  437.47         & 1155.37         &  2761.97        &  3833.82        & ...             &  3136.60        &  2342.97        &  2339.76        &  2058.31        &  2295.57        &  2496.34        &  2591.54        &  2300.54        & 1550.30         & 2070.33        \\\\\n",
       "\t 201804          & 20180401        & 1135056000      & 월계1동         & 0.00            & 161.02          &  840.71         & 1726.62         &  2910.29        &  3302.51        & ...             &  2428.51        &  2455.18        &  3162.63        &  2877.48        &  3249.07        &  2821.35        &  2864.24        &  2452.31        & 1622.23         & 2012.52        \\\\\n",
       "\t 201804          & 20180401        & 1135057000      & 월계2동         & 0.00            & 149.00          &  803.96         & 1136.53         &  1580.35        &  2092.22        & ...             &  1550.69        &  1711.12        &  2387.51        &  2363.21        &  2713.98        &  2430.24        &  2497.50        &  2037.30        & 1294.53         & 1679.60        \\\\\n",
       "\t 201804          & 20180401        & 1135058000      & 월계3동         & 0.00            & 268.76          & 1244.42         & 1745.48         &  2722.09        &  3867.41        & ...             &  3087.49        &  3531.72        &  4858.73        &  4296.47        &  4830.31        &  3994.64        &  4116.01        &  3175.99        & 1906.94         & 2263.67        \\\\\n",
       "\t 201804          & 20180401        & 1135059500      & 공릉1동         & 0.00            & 404.64          & 1965.14         & 3250.21         &  5964.32        &  8006.50        & ...             &  6427.53        &  6433.46        &  7491.36        &  6810.12        &  7733.11        &  6991.21        &  7421.88        &  5547.44        & 3060.46         & 3472.09        \\\\\n",
       "\t 201804          & 20180401        & 1135060000      & 공릉2동         & 0.00            & 477.10          & 2217.96         & 3859.70         &  7741.70        &  6249.86        & ...             &  4624.87        &  4879.60        &  6881.48        &  6834.83        &  7907.76        &  6501.63        &  6472.60        &  4786.71        & 2592.84         & 2826.57        \\\\\n",
       "\t 201804          & 20180401        & 1135061100      & 하계1동         & 0.00            & 186.29          & 1188.58         & 2429.34         &  2942.25        &  3359.55        & ...             &  2496.12        &  2486.68        &  3353.63        &  4194.97        &  5411.60        &  4332.88        &  4097.98        &  2850.74        & 1517.06         & 1679.00        \\\\\n",
       "\t 201804          & 20180401        & 1135061200      & 하계2동         & 0.00            & 154.78          &  855.41         & 1431.99         &  1877.49        &  2519.92        & ...             &  2174.58        &  2136.56        &  2764.08        &  2808.59        &  3557.62        &  2924.49        &  3000.93        &  2192.89        & 1238.80         & 1446.40        \\\\\n",
       "\t 201804          & 20180401        & 1135061900      & 중계본동        & 0.00            &  91.35          &  655.81         & 1170.47         &   731.84        &   912.52        & ...             &   635.75        &   690.39        &  1002.70        &  1720.91        &  2449.56        &  1640.20        &  1431.05        &   898.99        &  371.17         &  489.49        \\\\\n",
       "\t 201804          & 20180401        & 1135062100      & 중계1동         & 0.00            & 118.86          & 1001.66         & 1880.60         &  1137.63        &  1392.42        & ...             &  1047.13        &  1077.21        &  1726.84        &  2543.80        &  3648.43        &  2118.48        &  1792.06        &  1175.48        &  602.60         &  764.17        \\\\\n",
       "\t 201804          & 20180401        & 1135062400      & 중계4동         & 0.00            & 121.50          &  600.85         & 1196.17         &  1004.77        &  1369.20        & ...             &  1012.01        &  1047.97        &  1387.28        &  1669.14        &  2480.05        &  1886.32        &  2037.48        &  1441.96        &  789.55         &  950.31        \\\\\n",
       "\t 201804          & 20180401        & 1135062500      & 중계2.3동       & 0.00            & 271.44          & 1584.02         & 2314.34         &  2960.31        &  3862.24        & ...             &  3365.15        &  3199.84        &  4230.41        &  4385.61        &  5467.50        &  4079.97        &  4080.47        &  3084.26        & 1792.64         & 2201.34        \\\\\n",
       "\t 201804          & 20180401        & 1135063000      & 상계1동         & 0.00            & 399.73          & 1564.71         & 2138.51         &  2660.47        &  4323.45        & ...             &  4031.60        &  4347.97        &  5617.01        &  5323.23        &  6072.12        &  6191.04        &  6495.45        &  4753.57        & 2511.84         & 2667.87        \\\\\n",
       "\t 201804          & 20180401        & 1135064000      & 상계2동         & 0.00            & 196.21          & 1063.53         & 2802.32         &  3744.90        &  4444.92        & ...             &  3853.12        &  3229.90        &  3669.76        &  3665.56        &  4612.09        &  4041.12        &  3928.69        &  3145.62        & 1705.12         & 1919.71        \\\\\n",
       "\\end{tabular}\n"
      ],
      "text/markdown": [
       "\n",
       "STD_YM | STD_YMD | HDONG_CD | HDONG_NM | MAN_FLOW_POP_CNT_0004 | MAN_FLOW_POP_CNT_0509 | MAN_FLOW_POP_CNT_1014 | MAN_FLOW_POP_CNT_1519 | MAN_FLOW_POP_CNT_2024 | MAN_FLOW_POP_CNT_2529 | ... | WMAN_FLOW_POP_CNT_2529 | WMAN_FLOW_POP_CNT_3034 | WMAN_FLOW_POP_CNT_3539 | WMAN_FLOW_POP_CNT_4044 | WMAN_FLOW_POP_CNT_4549 | WMAN_FLOW_POP_CNT_5054 | WMAN_FLOW_POP_CNT_5559 | WMAN_FLOW_POP_CNT_6064 | WMAN_FLOW_POP_CNT_6569 | WMAN_FLOW_POP_CNT_70U | \n",
       "|---|---|---|---|---|---|---|---|---|---|---|---|---|---|---|---|---|---|---|---|---|---|---|---|---|---|---|---|---|---|\n",
       "| 201804          | 20180401        | 1111051500      | 청운효자동      | 0.05            |  78.93          |  403.26         |  642.66         |   984.24        |  1792.30        | ...             |  1437.80        |  1356.08        |  1598.14        |  1495.53        |  1768.21        |  1611.47        |  1433.06        |  1212.56        |  549.45         |  811.56         | \n",
       "| 201804          | 20180401        | 1111053000      | 사직동          | 1.25            | 262.54          | 1207.22         | 2177.88         |  4076.89        |  6887.72        | ...             |  6892.47        |  5743.10        |  5817.91        |  5429.89        |  6104.03        |  4998.93        |  4826.11        |  4207.45        | 2160.84         | 2972.08         | \n",
       "| 201804          | 20180401        | 1111054000      | 삼청동          | 0.00            |  78.07          |  255.24         |  331.09         |   654.32        |  1264.86        | ...             |  1400.28        |  1183.11        |  1234.88        |  1157.69        |  1186.72        |   985.11        |   844.26        |   744.60        |  359.03         |  421.64         | \n",
       "| 201804          | 20180401        | 1111055000      | 부암동          | 0.00            | 228.50          |  753.31         |  981.54         |  1615.77        |  2732.00        | ...             |  2153.73        |  2431.23        |  3028.24        |  2944.28        |  3532.23        |  3075.55        |  2785.22        |  2223.72        | 1118.48         | 1498.65         | \n",
       "| 201804          | 20180401        | 1111056000      | 평창동          | 0.00            | 354.38          | 1500.63         | 1963.08         |  2593.07        |  4927.24        | ...             |  3775.91        |  4598.39        |  5661.53        |  5526.94        |  7075.02        |  6899.55        |  6886.22        |  5336.01        | 2629.75         | 3820.41         | \n",
       "| 201804          | 20180401        | 1111057000      | 무악동          | 0.18            |  39.69          |  204.43         |  377.50         |   509.92        |   766.21        | ...             |   726.12        |   698.17        |   769.80        |   777.93        |   885.00        |   790.96        |   796.02        |   663.07        |  335.06         |  505.00         | \n",
       "| 201804          | 20180401        | 1111058000      | 교남동          | 0.10            |  71.96          |  296.03         |  424.87         |   644.91        |  1135.05        | ...             |  1275.23        |  1195.05        |  1293.85        |  1149.73        |  1336.16        |  1236.98        |  1233.81        |  1005.98        |  511.36         |  659.94         | \n",
       "| 201804          | 20180401        | 1111060000      | 가회동          | 0.00            |  37.87          |  196.30         |  535.94         |   472.73        |   893.54        | ...             |   832.24        |   729.24        |   812.86        |   741.41        |   824.36        |   773.96        |   600.20        |   496.99        |  239.37         |  318.38         | \n",
       "| 201804          | 20180401        | 1111061500      | 종로1.2.3.4가동 | 0.00            | 513.62          | 2338.10         | 5480.67         | 13268.22        | 22024.63        | ...             | 21204.75        | 15427.80        | 14043.25        | 12047.71        | 13552.38        | 12382.49        | 12825.69        | 11133.73        | 6688.62         | 8386.44         | \n",
       "| 201804          | 20180401        | 1111063000      | 종로5.6가동     | 0.00            | 110.60          |  521.40         | 1783.97         |  4146.69        |  5968.60        | ...             |  5638.02        |  4030.70        |  3685.25        |  3086.76        |  3643.56        |  3525.47        |  3880.52        |  3341.49        | 2045.79         | 2427.11         | \n",
       "| 201804          | 20180401        | 1111064000      | 이화동          | 0.00            | 105.25          |  436.49         | 1302.85         |  3341.51        |  4938.03        | ...             |  5175.51        |  3519.28        |  3136.41        |  2421.41        |  2625.92        |  2320.97        |  2283.68        |  1925.62        | 1176.80         | 1436.31         | \n",
       "| 201804          | 20180401        | 1111065000      | 혜화동          | 0.00            | 165.65          |  718.89         | 1741.96         |  3934.77        |  5789.92        | ...             |  5434.38        |  3796.09        |  3842.03        |  3504.49        |  3698.25        |  3050.29        |  3118.78        |  2447.26        | 1456.74         | 1864.33         | \n",
       "| 201804          | 20180401        | 1111067000      | 창신1동         | 0.00            |  80.96          |  315.65         |  805.39         |  1885.79        |  2591.53        | ...             |  2229.10        |  1713.07        |  1796.58        |  1534.94        |  1767.25        |  1724.08        |  1872.71        |  1626.44        | 1079.53         | 1394.47         | \n",
       "| 201804          | 20180401        | 1111068000      | 창신2동         | 0.00            |  14.45          |   79.54         |  241.08         |   591.11        |   764.86        | ...             |   629.73        |   438.70        |   451.03        |   373.65        |   454.00        |   444.68        |   503.43        |   417.36        |  291.86         |  372.35         | \n",
       "| 201804          | 20180401        | 1111069000      | 창신3동         | 0.00            |  14.61          |   68.00         |  160.76         |   417.77        |   454.52        | ...             |   448.48        |   293.04        |   288.47        |   257.37        |   281.07        |   241.23        |   259.76        |   216.12        |  129.93         |  170.71         | \n",
       "| 201804          | 20180401        | 1111070000      | 숭인1동         | 0.00            |  39.51          |  158.44         |  420.93         |  1045.74        |  1266.47        | ...             |  1113.23        |   796.51        |   818.52        |   733.96        |   830.07        |   791.76        |   842.29        |   730.37        |  509.45         |  696.26         | \n",
       "| 201804          | 20180401        | 1111071000      | 숭인2동         | 0.02            |  92.57          |  437.47         | 1155.37         |  2761.97        |  3833.82        | ...             |  3136.60        |  2342.97        |  2339.76        |  2058.31        |  2295.57        |  2496.34        |  2591.54        |  2300.54        | 1550.30         | 2070.33         | \n",
       "| 201804          | 20180401        | 1135056000      | 월계1동         | 0.00            | 161.02          |  840.71         | 1726.62         |  2910.29        |  3302.51        | ...             |  2428.51        |  2455.18        |  3162.63        |  2877.48        |  3249.07        |  2821.35        |  2864.24        |  2452.31        | 1622.23         | 2012.52         | \n",
       "| 201804          | 20180401        | 1135057000      | 월계2동         | 0.00            | 149.00          |  803.96         | 1136.53         |  1580.35        |  2092.22        | ...             |  1550.69        |  1711.12        |  2387.51        |  2363.21        |  2713.98        |  2430.24        |  2497.50        |  2037.30        | 1294.53         | 1679.60         | \n",
       "| 201804          | 20180401        | 1135058000      | 월계3동         | 0.00            | 268.76          | 1244.42         | 1745.48         |  2722.09        |  3867.41        | ...             |  3087.49        |  3531.72        |  4858.73        |  4296.47        |  4830.31        |  3994.64        |  4116.01        |  3175.99        | 1906.94         | 2263.67         | \n",
       "| 201804          | 20180401        | 1135059500      | 공릉1동         | 0.00            | 404.64          | 1965.14         | 3250.21         |  5964.32        |  8006.50        | ...             |  6427.53        |  6433.46        |  7491.36        |  6810.12        |  7733.11        |  6991.21        |  7421.88        |  5547.44        | 3060.46         | 3472.09         | \n",
       "| 201804          | 20180401        | 1135060000      | 공릉2동         | 0.00            | 477.10          | 2217.96         | 3859.70         |  7741.70        |  6249.86        | ...             |  4624.87        |  4879.60        |  6881.48        |  6834.83        |  7907.76        |  6501.63        |  6472.60        |  4786.71        | 2592.84         | 2826.57         | \n",
       "| 201804          | 20180401        | 1135061100      | 하계1동         | 0.00            | 186.29          | 1188.58         | 2429.34         |  2942.25        |  3359.55        | ...             |  2496.12        |  2486.68        |  3353.63        |  4194.97        |  5411.60        |  4332.88        |  4097.98        |  2850.74        | 1517.06         | 1679.00         | \n",
       "| 201804          | 20180401        | 1135061200      | 하계2동         | 0.00            | 154.78          |  855.41         | 1431.99         |  1877.49        |  2519.92        | ...             |  2174.58        |  2136.56        |  2764.08        |  2808.59        |  3557.62        |  2924.49        |  3000.93        |  2192.89        | 1238.80         | 1446.40         | \n",
       "| 201804          | 20180401        | 1135061900      | 중계본동        | 0.00            |  91.35          |  655.81         | 1170.47         |   731.84        |   912.52        | ...             |   635.75        |   690.39        |  1002.70        |  1720.91        |  2449.56        |  1640.20        |  1431.05        |   898.99        |  371.17         |  489.49         | \n",
       "| 201804          | 20180401        | 1135062100      | 중계1동         | 0.00            | 118.86          | 1001.66         | 1880.60         |  1137.63        |  1392.42        | ...             |  1047.13        |  1077.21        |  1726.84        |  2543.80        |  3648.43        |  2118.48        |  1792.06        |  1175.48        |  602.60         |  764.17         | \n",
       "| 201804          | 20180401        | 1135062400      | 중계4동         | 0.00            | 121.50          |  600.85         | 1196.17         |  1004.77        |  1369.20        | ...             |  1012.01        |  1047.97        |  1387.28        |  1669.14        |  2480.05        |  1886.32        |  2037.48        |  1441.96        |  789.55         |  950.31         | \n",
       "| 201804          | 20180401        | 1135062500      | 중계2.3동       | 0.00            | 271.44          | 1584.02         | 2314.34         |  2960.31        |  3862.24        | ...             |  3365.15        |  3199.84        |  4230.41        |  4385.61        |  5467.50        |  4079.97        |  4080.47        |  3084.26        | 1792.64         | 2201.34         | \n",
       "| 201804          | 20180401        | 1135063000      | 상계1동         | 0.00            | 399.73          | 1564.71         | 2138.51         |  2660.47        |  4323.45        | ...             |  4031.60        |  4347.97        |  5617.01        |  5323.23        |  6072.12        |  6191.04        |  6495.45        |  4753.57        | 2511.84         | 2667.87         | \n",
       "| 201804          | 20180401        | 1135064000      | 상계2동         | 0.00            | 196.21          | 1063.53         | 2802.32         |  3744.90        |  4444.92        | ...             |  3853.12        |  3229.90        |  3669.76        |  3665.56        |  4612.09        |  4041.12        |  3928.69        |  3145.62        | 1705.12         | 1919.71         | \n",
       "\n",
       "\n"
      ],
      "text/plain": [
       "   STD_YM STD_YMD  HDONG_CD   HDONG_NM        MAN_FLOW_POP_CNT_0004\n",
       "1  201804 20180401 1111051500 청운효자동      0.05                 \n",
       "2  201804 20180401 1111053000 사직동          1.25                 \n",
       "3  201804 20180401 1111054000 삼청동          0.00                 \n",
       "4  201804 20180401 1111055000 부암동          0.00                 \n",
       "5  201804 20180401 1111056000 평창동          0.00                 \n",
       "6  201804 20180401 1111057000 무악동          0.18                 \n",
       "7  201804 20180401 1111058000 교남동          0.10                 \n",
       "8  201804 20180401 1111060000 가회동          0.00                 \n",
       "9  201804 20180401 1111061500 종로1.2.3.4가동 0.00                 \n",
       "10 201804 20180401 1111063000 종로5.6가동     0.00                 \n",
       "11 201804 20180401 1111064000 이화동          0.00                 \n",
       "12 201804 20180401 1111065000 혜화동          0.00                 \n",
       "13 201804 20180401 1111067000 창신1동         0.00                 \n",
       "14 201804 20180401 1111068000 창신2동         0.00                 \n",
       "15 201804 20180401 1111069000 창신3동         0.00                 \n",
       "16 201804 20180401 1111070000 숭인1동         0.00                 \n",
       "17 201804 20180401 1111071000 숭인2동         0.02                 \n",
       "18 201804 20180401 1135056000 월계1동         0.00                 \n",
       "19 201804 20180401 1135057000 월계2동         0.00                 \n",
       "20 201804 20180401 1135058000 월계3동         0.00                 \n",
       "21 201804 20180401 1135059500 공릉1동         0.00                 \n",
       "22 201804 20180401 1135060000 공릉2동         0.00                 \n",
       "23 201804 20180401 1135061100 하계1동         0.00                 \n",
       "24 201804 20180401 1135061200 하계2동         0.00                 \n",
       "25 201804 20180401 1135061900 중계본동        0.00                 \n",
       "26 201804 20180401 1135062100 중계1동         0.00                 \n",
       "27 201804 20180401 1135062400 중계4동         0.00                 \n",
       "28 201804 20180401 1135062500 중계2.3동       0.00                 \n",
       "29 201804 20180401 1135063000 상계1동         0.00                 \n",
       "30 201804 20180401 1135064000 상계2동         0.00                 \n",
       "   MAN_FLOW_POP_CNT_0509 MAN_FLOW_POP_CNT_1014 MAN_FLOW_POP_CNT_1519\n",
       "1   78.93                 403.26                642.66              \n",
       "2  262.54                1207.22               2177.88              \n",
       "3   78.07                 255.24                331.09              \n",
       "4  228.50                 753.31                981.54              \n",
       "5  354.38                1500.63               1963.08              \n",
       "6   39.69                 204.43                377.50              \n",
       "7   71.96                 296.03                424.87              \n",
       "8   37.87                 196.30                535.94              \n",
       "9  513.62                2338.10               5480.67              \n",
       "10 110.60                 521.40               1783.97              \n",
       "11 105.25                 436.49               1302.85              \n",
       "12 165.65                 718.89               1741.96              \n",
       "13  80.96                 315.65                805.39              \n",
       "14  14.45                  79.54                241.08              \n",
       "15  14.61                  68.00                160.76              \n",
       "16  39.51                 158.44                420.93              \n",
       "17  92.57                 437.47               1155.37              \n",
       "18 161.02                 840.71               1726.62              \n",
       "19 149.00                 803.96               1136.53              \n",
       "20 268.76                1244.42               1745.48              \n",
       "21 404.64                1965.14               3250.21              \n",
       "22 477.10                2217.96               3859.70              \n",
       "23 186.29                1188.58               2429.34              \n",
       "24 154.78                 855.41               1431.99              \n",
       "25  91.35                 655.81               1170.47              \n",
       "26 118.86                1001.66               1880.60              \n",
       "27 121.50                 600.85               1196.17              \n",
       "28 271.44                1584.02               2314.34              \n",
       "29 399.73                1564.71               2138.51              \n",
       "30 196.21                1063.53               2802.32              \n",
       "   MAN_FLOW_POP_CNT_2024 MAN_FLOW_POP_CNT_2529 ... WMAN_FLOW_POP_CNT_2529\n",
       "1    984.24               1792.30              ...  1437.80              \n",
       "2   4076.89               6887.72              ...  6892.47              \n",
       "3    654.32               1264.86              ...  1400.28              \n",
       "4   1615.77               2732.00              ...  2153.73              \n",
       "5   2593.07               4927.24              ...  3775.91              \n",
       "6    509.92                766.21              ...   726.12              \n",
       "7    644.91               1135.05              ...  1275.23              \n",
       "8    472.73                893.54              ...   832.24              \n",
       "9  13268.22              22024.63              ... 21204.75              \n",
       "10  4146.69               5968.60              ...  5638.02              \n",
       "11  3341.51               4938.03              ...  5175.51              \n",
       "12  3934.77               5789.92              ...  5434.38              \n",
       "13  1885.79               2591.53              ...  2229.10              \n",
       "14   591.11                764.86              ...   629.73              \n",
       "15   417.77                454.52              ...   448.48              \n",
       "16  1045.74               1266.47              ...  1113.23              \n",
       "17  2761.97               3833.82              ...  3136.60              \n",
       "18  2910.29               3302.51              ...  2428.51              \n",
       "19  1580.35               2092.22              ...  1550.69              \n",
       "20  2722.09               3867.41              ...  3087.49              \n",
       "21  5964.32               8006.50              ...  6427.53              \n",
       "22  7741.70               6249.86              ...  4624.87              \n",
       "23  2942.25               3359.55              ...  2496.12              \n",
       "24  1877.49               2519.92              ...  2174.58              \n",
       "25   731.84                912.52              ...   635.75              \n",
       "26  1137.63               1392.42              ...  1047.13              \n",
       "27  1004.77               1369.20              ...  1012.01              \n",
       "28  2960.31               3862.24              ...  3365.15              \n",
       "29  2660.47               4323.45              ...  4031.60              \n",
       "30  3744.90               4444.92              ...  3853.12              \n",
       "   WMAN_FLOW_POP_CNT_3034 WMAN_FLOW_POP_CNT_3539 WMAN_FLOW_POP_CNT_4044\n",
       "1   1356.08                1598.14                1495.53              \n",
       "2   5743.10                5817.91                5429.89              \n",
       "3   1183.11                1234.88                1157.69              \n",
       "4   2431.23                3028.24                2944.28              \n",
       "5   4598.39                5661.53                5526.94              \n",
       "6    698.17                 769.80                 777.93              \n",
       "7   1195.05                1293.85                1149.73              \n",
       "8    729.24                 812.86                 741.41              \n",
       "9  15427.80               14043.25               12047.71              \n",
       "10  4030.70                3685.25                3086.76              \n",
       "11  3519.28                3136.41                2421.41              \n",
       "12  3796.09                3842.03                3504.49              \n",
       "13  1713.07                1796.58                1534.94              \n",
       "14   438.70                 451.03                 373.65              \n",
       "15   293.04                 288.47                 257.37              \n",
       "16   796.51                 818.52                 733.96              \n",
       "17  2342.97                2339.76                2058.31              \n",
       "18  2455.18                3162.63                2877.48              \n",
       "19  1711.12                2387.51                2363.21              \n",
       "20  3531.72                4858.73                4296.47              \n",
       "21  6433.46                7491.36                6810.12              \n",
       "22  4879.60                6881.48                6834.83              \n",
       "23  2486.68                3353.63                4194.97              \n",
       "24  2136.56                2764.08                2808.59              \n",
       "25   690.39                1002.70                1720.91              \n",
       "26  1077.21                1726.84                2543.80              \n",
       "27  1047.97                1387.28                1669.14              \n",
       "28  3199.84                4230.41                4385.61              \n",
       "29  4347.97                5617.01                5323.23              \n",
       "30  3229.90                3669.76                3665.56              \n",
       "   WMAN_FLOW_POP_CNT_4549 WMAN_FLOW_POP_CNT_5054 WMAN_FLOW_POP_CNT_5559\n",
       "1   1768.21                1611.47                1433.06              \n",
       "2   6104.03                4998.93                4826.11              \n",
       "3   1186.72                 985.11                 844.26              \n",
       "4   3532.23                3075.55                2785.22              \n",
       "5   7075.02                6899.55                6886.22              \n",
       "6    885.00                 790.96                 796.02              \n",
       "7   1336.16                1236.98                1233.81              \n",
       "8    824.36                 773.96                 600.20              \n",
       "9  13552.38               12382.49               12825.69              \n",
       "10  3643.56                3525.47                3880.52              \n",
       "11  2625.92                2320.97                2283.68              \n",
       "12  3698.25                3050.29                3118.78              \n",
       "13  1767.25                1724.08                1872.71              \n",
       "14   454.00                 444.68                 503.43              \n",
       "15   281.07                 241.23                 259.76              \n",
       "16   830.07                 791.76                 842.29              \n",
       "17  2295.57                2496.34                2591.54              \n",
       "18  3249.07                2821.35                2864.24              \n",
       "19  2713.98                2430.24                2497.50              \n",
       "20  4830.31                3994.64                4116.01              \n",
       "21  7733.11                6991.21                7421.88              \n",
       "22  7907.76                6501.63                6472.60              \n",
       "23  5411.60                4332.88                4097.98              \n",
       "24  3557.62                2924.49                3000.93              \n",
       "25  2449.56                1640.20                1431.05              \n",
       "26  3648.43                2118.48                1792.06              \n",
       "27  2480.05                1886.32                2037.48              \n",
       "28  5467.50                4079.97                4080.47              \n",
       "29  6072.12                6191.04                6495.45              \n",
       "30  4612.09                4041.12                3928.69              \n",
       "   WMAN_FLOW_POP_CNT_6064 WMAN_FLOW_POP_CNT_6569 WMAN_FLOW_POP_CNT_70U\n",
       "1   1212.56                549.45                 811.56              \n",
       "2   4207.45               2160.84                2972.08              \n",
       "3    744.60                359.03                 421.64              \n",
       "4   2223.72               1118.48                1498.65              \n",
       "5   5336.01               2629.75                3820.41              \n",
       "6    663.07                335.06                 505.00              \n",
       "7   1005.98                511.36                 659.94              \n",
       "8    496.99                239.37                 318.38              \n",
       "9  11133.73               6688.62                8386.44              \n",
       "10  3341.49               2045.79                2427.11              \n",
       "11  1925.62               1176.80                1436.31              \n",
       "12  2447.26               1456.74                1864.33              \n",
       "13  1626.44               1079.53                1394.47              \n",
       "14   417.36                291.86                 372.35              \n",
       "15   216.12                129.93                 170.71              \n",
       "16   730.37                509.45                 696.26              \n",
       "17  2300.54               1550.30                2070.33              \n",
       "18  2452.31               1622.23                2012.52              \n",
       "19  2037.30               1294.53                1679.60              \n",
       "20  3175.99               1906.94                2263.67              \n",
       "21  5547.44               3060.46                3472.09              \n",
       "22  4786.71               2592.84                2826.57              \n",
       "23  2850.74               1517.06                1679.00              \n",
       "24  2192.89               1238.80                1446.40              \n",
       "25   898.99                371.17                 489.49              \n",
       "26  1175.48                602.60                 764.17              \n",
       "27  1441.96                789.55                 950.31              \n",
       "28  3084.26               1792.64                2201.34              \n",
       "29  4753.57               2511.84                2667.87              \n",
       "30  3145.62               1705.12                1919.71              "
      ]
     },
     "metadata": {},
     "output_type": "display_data"
    }
   ],
   "source": [
    "all_year_dat <- bind_rows(year_dat_1804, year_dat_1805, year_dat_1806, \n",
    "                          year_dat_1807, year_dat_1808, year_dat_1809, \n",
    "                          year_dat_1810, year_dat_1811, year_dat_1812,\n",
    "                          year_dat_1901, year_dat_1902, year_dat_1903)\n",
    "head(all_year_dat,30); "
   ]
  },
  {
   "cell_type": "code",
   "execution_count": 24,
   "metadata": {},
   "outputs": [
    {
     "name": "stdout",
     "output_type": "stream",
     "text": [
      "'data.frame':\t13140 obs. of  34 variables:\n",
      " $ STD_YM                : int  201804 201804 201804 201804 201804 201804 201804 201804 201804 201804 ...\n",
      " $ STD_YMD               : int  20180401 20180401 20180401 20180401 20180401 20180401 20180401 20180401 20180401 20180401 ...\n",
      " $ HDONG_CD              : int  1111051500 1111053000 1111054000 1111055000 1111056000 1111057000 1111058000 1111060000 1111061500 1111063000 ...\n",
      " $ HDONG_NM              : Factor w/ 36 levels \"가회동\",\"공릉1동\",..: 32 7 8 6 33 5 4 1 23 24 ...\n",
      " $ MAN_FLOW_POP_CNT_0004 : num  0.05 1.25 0 0 0 0.18 0.1 0 0 0 ...\n",
      " $ MAN_FLOW_POP_CNT_0509 : num  78.9 262.5 78.1 228.5 354.4 ...\n",
      " $ MAN_FLOW_POP_CNT_1014 : num  403 1207 255 753 1501 ...\n",
      " $ MAN_FLOW_POP_CNT_1519 : num  643 2178 331 982 1963 ...\n",
      " $ MAN_FLOW_POP_CNT_2024 : num  984 4077 654 1616 2593 ...\n",
      " $ MAN_FLOW_POP_CNT_2529 : num  1792 6888 1265 2732 4927 ...\n",
      " $ MAN_FLOW_POP_CNT_3034 : num  1936 6787 1375 3391 5718 ...\n",
      " $ MAN_FLOW_POP_CNT_3539 : num  2061 6874 1445 4288 6998 ...\n",
      " $ MAN_FLOW_POP_CNT_4044 : num  1788 5921 1237 3858 6619 ...\n",
      " $ MAN_FLOW_POP_CNT_4549 : num  2370 7406 1658 4913 9064 ...\n",
      " $ MAN_FLOW_POP_CNT_5054 : num  2349 6956 1403 4756 9493 ...\n",
      " $ MAN_FLOW_POP_CNT_5559 : num  2124 7294 1360 4692 9874 ...\n",
      " $ MAN_FLOW_POP_CNT_6064 : num  1896 6914 1236 3880 8831 ...\n",
      " $ MAN_FLOW_POP_CNT_6569 : num  1269 4452 844 2450 5234 ...\n",
      " $ MAN_FLOW_POP_CNT_70U  : num  1166 4743 846 2366 5432 ...\n",
      " $ WMAN_FLOW_POP_CNT_0004: num  0 0 0 0 0.11 0 0 0 0 0 ...\n",
      " $ WMAN_FLOW_POP_CNT_0509: num  143 395 91 253 435 ...\n",
      " $ WMAN_FLOW_POP_CNT_1014: num  545 1444 371 961 1760 ...\n",
      " $ WMAN_FLOW_POP_CNT_1519: num  614 2502 375 1035 2356 ...\n",
      " $ WMAN_FLOW_POP_CNT_2024: num  1038 5515 964 1790 3089 ...\n",
      " $ WMAN_FLOW_POP_CNT_2529: num  1438 6892 1400 2154 3776 ...\n",
      " $ WMAN_FLOW_POP_CNT_3034: num  1356 5743 1183 2431 4598 ...\n",
      " $ WMAN_FLOW_POP_CNT_3539: num  1598 5818 1235 3028 5662 ...\n",
      " $ WMAN_FLOW_POP_CNT_4044: num  1496 5430 1158 2944 5527 ...\n",
      " $ WMAN_FLOW_POP_CNT_4549: num  1768 6104 1187 3532 7075 ...\n",
      " $ WMAN_FLOW_POP_CNT_5054: num  1611 4999 985 3076 6900 ...\n",
      " $ WMAN_FLOW_POP_CNT_5559: num  1433 4826 844 2785 6886 ...\n",
      " $ WMAN_FLOW_POP_CNT_6064: num  1213 4207 745 2224 5336 ...\n",
      " $ WMAN_FLOW_POP_CNT_6569: num  549 2161 359 1118 2630 ...\n",
      " $ WMAN_FLOW_POP_CNT_70U : num  812 2972 422 1499 3820 ...\n"
     ]
    },
    {
     "data": {
      "text/html": [
       "<ol class=list-inline>\n",
       "\t<li>13140</li>\n",
       "\t<li>34</li>\n",
       "</ol>\n"
      ],
      "text/latex": [
       "\\begin{enumerate*}\n",
       "\\item 13140\n",
       "\\item 34\n",
       "\\end{enumerate*}\n"
      ],
      "text/markdown": [
       "1. 13140\n",
       "2. 34\n",
       "\n",
       "\n"
      ],
      "text/plain": [
       "[1] 13140    34"
      ]
     },
     "metadata": {},
     "output_type": "display_data"
    },
    {
     "data": {
      "text/plain": [
       "     STD_YM          STD_YMD            HDONG_CD            HDONG_NM    \n",
       " Min.   :201804   Min.   :20180401   Min.   :1.111e+09   가회동 :  365  \n",
       " 1st Qu.:201807   1st Qu.:20180701   1st Qu.:1.111e+09   공릉1동:  365  \n",
       " Median :201809   Median :20180930   Median :1.135e+09   공릉2동:  365  \n",
       " Mean   :201831   Mean   :20183134   Mean   :1.124e+09   교남동 :  365  \n",
       " 3rd Qu.:201812   3rd Qu.:20181230   3rd Qu.:1.135e+09   무악동 :  365  \n",
       " Max.   :201903   Max.   :20190331   Max.   :1.135e+09   부암동 :  365  \n",
       "                                                         (Other):10950  \n",
       " MAN_FLOW_POP_CNT_0004 MAN_FLOW_POP_CNT_0509 MAN_FLOW_POP_CNT_1014\n",
       " Min.   : 0.0000       Min.   :   1.02       Min.   :  21.15      \n",
       " 1st Qu.: 0.0000       1st Qu.:  55.22       1st Qu.: 293.33      \n",
       " Median : 0.0000       Median :  94.39       Median : 500.87      \n",
       " Mean   : 0.6524       Mean   : 131.66       Mean   : 650.56      \n",
       " 3rd Qu.: 0.3200       3rd Qu.: 158.94       3rd Qu.: 821.64      \n",
       " Max.   :46.7500       Max.   :1764.16       Max.   :7288.74      \n",
       "                                                                  \n",
       " MAN_FLOW_POP_CNT_1519 MAN_FLOW_POP_CNT_2024 MAN_FLOW_POP_CNT_2529\n",
       " Min.   :   80.21      Min.   :  130.8       Min.   :  209.4      \n",
       " 1st Qu.:  807.06      1st Qu.:  943.9       1st Qu.: 1365.0      \n",
       " Median : 1416.93      Median : 1901.6       Median : 2754.1      \n",
       " Mean   : 1730.32      Mean   : 2842.5       Mean   : 4074.6      \n",
       " 3rd Qu.: 2210.62      3rd Qu.: 3599.9       3rd Qu.: 4956.1      \n",
       " Max.   :13100.77      Max.   :21222.8       Max.   :39898.4      \n",
       "                                                                  \n",
       " MAN_FLOW_POP_CNT_3034 MAN_FLOW_POP_CNT_3539 MAN_FLOW_POP_CNT_4044\n",
       " Min.   :  149.4       Min.   :  183         Min.   :  166.4      \n",
       " 1st Qu.: 1542.7       1st Qu.: 2012         1st Qu.: 2108.2      \n",
       " Median : 3108.1       Median : 3836         Median : 3577.5      \n",
       " Mean   : 4394.2       Mean   : 5556         Mean   : 5253.0      \n",
       " 3rd Qu.: 5178.0       3rd Qu.: 6460         3rd Qu.: 5863.1      \n",
       " Max.   :47946.2       Max.   :60141         Max.   :55042.4      \n",
       "                                                                  \n",
       " MAN_FLOW_POP_CNT_4549 MAN_FLOW_POP_CNT_5054 MAN_FLOW_POP_CNT_5559\n",
       " Min.   :  212.8       Min.   :  222.1       Min.   :  228.7      \n",
       " 1st Qu.: 2836.4       1st Qu.: 2612.1       1st Qu.: 2561.2      \n",
       " Median : 4420.7       Median : 4132.9       Median : 4313.4      \n",
       " Mean   : 6388.9       Mean   : 5789.1       Mean   : 5771.4      \n",
       " 3rd Qu.: 7120.6       3rd Qu.: 6567.9       3rd Qu.: 6678.3      \n",
       " Max.   :60993.2       Max.   :48011.5       Max.   :41662.3      \n",
       "                                                                  \n",
       " MAN_FLOW_POP_CNT_6064 MAN_FLOW_POP_CNT_6569 MAN_FLOW_POP_CNT_70U\n",
       " Min.   :  214.5       Min.   :  132.6       Min.   :  120.7     \n",
       " 1st Qu.: 2342.6       1st Qu.: 1500.1       1st Qu.: 1456.3     \n",
       " Median : 4074.7       Median : 2743.4       Median : 2677.3     \n",
       " Mean   : 5365.8       Mean   : 3552.5       Mean   : 3787.0     \n",
       " 3rd Qu.: 6259.4       3rd Qu.: 4292.3       3rd Qu.: 4426.7     \n",
       " Max.   :38588.1       Max.   :26063.8       Max.   :36179.5     \n",
       "                                                                 \n",
       " WMAN_FLOW_POP_CNT_0004 WMAN_FLOW_POP_CNT_0509 WMAN_FLOW_POP_CNT_1014\n",
       " Min.   : 0.0000        Min.   :   3.96        Min.   :  21.43       \n",
       " 1st Qu.: 0.0000        1st Qu.:  75.31        1st Qu.: 321.04       \n",
       " Median : 0.0000        Median : 125.12        Median : 535.86       \n",
       " Mean   : 0.7126        Mean   : 170.91        Mean   : 704.56       \n",
       " 3rd Qu.: 0.6200        3rd Qu.: 205.07        3rd Qu.: 877.18       \n",
       " Max.   :28.9400        Max.   :2582.24        Max.   :9240.58       \n",
       "                                                                     \n",
       " WMAN_FLOW_POP_CNT_1519 WMAN_FLOW_POP_CNT_2024 WMAN_FLOW_POP_CNT_2529\n",
       " Min.   :   78.7        Min.   :  198.4        Min.   :  187.4       \n",
       " 1st Qu.:  807.5        1st Qu.: 1160.0        1st Qu.: 1244.9       \n",
       " Median : 1444.9        Median : 2246.5        Median : 2236.5       \n",
       " Mean   : 1875.8        Mean   : 3826.9        Mean   : 3936.7       \n",
       " 3rd Qu.: 2356.2        3rd Qu.: 4537.5        3rd Qu.: 4368.8       \n",
       " Max.   :16840.4        Max.   :35779.4        Max.   :45610.1       \n",
       "                                                                     \n",
       " WMAN_FLOW_POP_CNT_3034 WMAN_FLOW_POP_CNT_3539 WMAN_FLOW_POP_CNT_4044\n",
       " Min.   :  142          Min.   :  146          Min.   :  148.2       \n",
       " 1st Qu.: 1209          1st Qu.: 1576          1st Qu.: 1760.2       \n",
       " Median : 2278          Median : 2807          Median : 2784.3       \n",
       " Mean   : 3562          Mean   : 4045          Mean   : 3890.4       \n",
       " 3rd Qu.: 4130          3rd Qu.: 4812          3rd Qu.: 4752.6       \n",
       " Max.   :38938          Max.   :37157          Max.   :31217.5       \n",
       "                                                                     \n",
       " WMAN_FLOW_POP_CNT_4549 WMAN_FLOW_POP_CNT_5054 WMAN_FLOW_POP_CNT_5559\n",
       " Min.   :  180.3        Min.   :  180          Min.   :  150.6       \n",
       " 1st Qu.: 2171.5        1st Qu.: 1793          1st Qu.: 1633.4       \n",
       " Median : 3364.9        Median : 2792          Median : 2816.8       \n",
       " Mean   : 4531.0        Mean   : 3796          Mean   : 3711.8       \n",
       " 3rd Qu.: 5695.4        3rd Qu.: 4735          3rd Qu.: 4532.1       \n",
       " Max.   :32184.3        Max.   :25994          Max.   :25985.7       \n",
       "                                                                     \n",
       " WMAN_FLOW_POP_CNT_6064 WMAN_FLOW_POP_CNT_6569 WMAN_FLOW_POP_CNT_70U\n",
       " Min.   :  125.3        Min.   :   54.58       Min.   :   81.13     \n",
       " 1st Qu.: 1269.4        1st Qu.:  686.29       1st Qu.:  858.94     \n",
       " Median : 2268.0        Median : 1318.69       Median : 1601.35     \n",
       " Mean   : 2948.2        Mean   : 1731.22       Mean   : 2141.03     \n",
       " 3rd Qu.: 3594.5        3rd Qu.: 2163.18       3rd Qu.: 2614.56     \n",
       " Max.   :20855.1        Max.   :13050.60       Max.   :17080.90     \n",
       "                                                                    "
      ]
     },
     "metadata": {},
     "output_type": "display_data"
    }
   ],
   "source": [
    "str(all_year_dat)\n",
    "dim(all_year_dat)\n",
    "summary(all_year_dat)"
   ]
  },
  {
   "cell_type": "markdown",
   "metadata": {},
   "source": [
    "### 데이터 셋 만들기"
   ]
  },
  {
   "cell_type": "code",
   "execution_count": 25,
   "metadata": {},
   "outputs": [
    {
     "data": {
      "text/html": [
       "<ol class=list-inline>\n",
       "\t<li>'all_year_dat.rda'</li>\n",
       "\t<li>'hour_moving'</li>\n",
       "\t<li>'moving_dataset_skt.zip'</li>\n",
       "\t<li>'moving_year_pop_201804_201903.csv'</li>\n",
       "\t<li>'R_ML_EDA_Big_01.pdf'</li>\n",
       "\t<li>'table_define.xlsx'</li>\n",
       "\t<li>'year_moving'</li>\n",
       "\t<li>'테이블정의서.xlsx'</li>\n",
       "\t<li>'행정동경계파일'</li>\n",
       "</ol>\n"
      ],
      "text/latex": [
       "\\begin{enumerate*}\n",
       "\\item 'all\\_year\\_dat.rda'\n",
       "\\item 'hour\\_moving'\n",
       "\\item 'moving\\_dataset\\_skt.zip'\n",
       "\\item 'moving\\_year\\_pop\\_201804\\_201903.csv'\n",
       "\\item 'R\\_ML\\_EDA\\_Big\\_01.pdf'\n",
       "\\item 'table\\_define.xlsx'\n",
       "\\item 'year\\_moving'\n",
       "\\item '테이블정의서.xlsx'\n",
       "\\item '행정동경계파일'\n",
       "\\end{enumerate*}\n"
      ],
      "text/markdown": [
       "1. 'all_year_dat.rda'\n",
       "2. 'hour_moving'\n",
       "3. 'moving_dataset_skt.zip'\n",
       "4. 'moving_year_pop_201804_201903.csv'\n",
       "5. 'R_ML_EDA_Big_01.pdf'\n",
       "6. 'table_define.xlsx'\n",
       "7. 'year_moving'\n",
       "8. '테이블정의서.xlsx'\n",
       "9. '행정동경계파일'\n",
       "\n",
       "\n"
      ],
      "text/plain": [
       "[1] \"all_year_dat.rda\"                  \"hour_moving\"                      \n",
       "[3] \"moving_dataset_skt.zip\"            \"moving_year_pop_201804_201903.csv\"\n",
       "[5] \"R_ML_EDA_Big_01.pdf\"               \"table_define.xlsx\"                \n",
       "[7] \"year_moving\"                       \"테이블정의서.xlsx\"                \n",
       "[9] \"행정동경계파일\"                   "
      ]
     },
     "metadata": {},
     "output_type": "display_data"
    }
   ],
   "source": [
    "write.csv(all_year_dat, file=\"moving_year_pop_201804_201903.csv\", row.names=TRUE)\n",
    "save(all_year_dat, file = \"all_year_dat.rda\")\n",
    "\n",
    "list.files(\"D:\\\\dataset\\\\11_innovation\\\\moving_dataset_skt\")"
   ]
  },
  {
   "cell_type": "markdown",
   "metadata": {},
   "source": [
    "### 간단한 데이터 시각화 해보기"
   ]
  },
  {
   "cell_type": "code",
   "execution_count": 26,
   "metadata": {},
   "outputs": [
    {
     "data": {
      "text/plain": [
       "\n",
       "         가회동         공릉1동         공릉2동          교남동          무악동 \n",
       "            365             365             365             365             365 \n",
       "         부암동          사직동          삼청동        상계10동         상계1동 \n",
       "            365             365             365             365             365 \n",
       "        상계2동       상계3.4동         상계5동       상계6.7동         상계8동 \n",
       "            365             365             365             365             365 \n",
       "        상계9동         숭인1동         숭인2동         월계1동         월계2동 \n",
       "            365             365             365             365             365 \n",
       "        월계3동          이화동 종로1.2.3.4가동     종로5.6가동         중계1동 \n",
       "            365             365             365             365             365 \n",
       "      중계2.3동         중계4동        중계본동         창신1동         창신2동 \n",
       "            365             365             365             365             365 \n",
       "        창신3동      청운효자동          평창동         하계1동         하계2동 \n",
       "            365             365             365             365             365 \n",
       "         혜화동 \n",
       "            365 "
      ]
     },
     "metadata": {},
     "output_type": "display_data"
    }
   ],
   "source": [
    "table(all_year_dat$HDONG_NM)"
   ]
  },
  {
   "cell_type": "code",
   "execution_count": 27,
   "metadata": {},
   "outputs": [
    {
     "data": {},
     "metadata": {},
     "output_type": "display_data"
    },
    {
     "data": {
      "image/png": "[encoded data removed]",
      "text/plain": [
       "plot without title"
      ]
     },
     "metadata": {},
     "output_type": "display_data"
    }
   ],
   "source": [
    "ggplot(all_year_dat, aes(HDONG_NM)) + geom_bar() + coord_flip() "
   ]
  },
  {
   "cell_type": "markdown",
   "metadata": {},
   "source": [
    "### 월별 통계- 30세까지의 통계"
   ]
  },
  {
   "cell_type": "code",
   "execution_count": 29,
   "metadata": {},
   "outputs": [
    {
     "data": {
      "text/html": [
       "<table>\n",
       "<thead><tr><th scope=col>No.</th><th scope=col>컬럼ID</th><th scope=col>컬럼명</th><th scope=col>타입</th><th scope=col>길이</th></tr></thead>\n",
       "<tbody>\n",
       "\t<tr><td> 1                    </td><td>STD_YM                </td><td>년월                  </td><td>VARCHAR2              </td><td>6                     </td></tr>\n",
       "\t<tr><td> 2                    </td><td>STD_YMD               </td><td>년월일                </td><td>VARCHAR2              </td><td>8                     </td></tr>\n",
       "\t<tr><td> 3                    </td><td>HDONG_CD              </td><td>행정동코드            </td><td>VARCHAR2              </td><td>10                    </td></tr>\n",
       "\t<tr><td> 4                    </td><td>HDONG_NM              </td><td>행정동명칭            </td><td>VARCHAR2              </td><td>50                    </td></tr>\n",
       "\t<tr><td> 5                    </td><td>MAN_FLOW_POP_CNT_0004 </td><td>남성_0004세 유동인구  </td><td>NUMBER                </td><td>(18, 2)               </td></tr>\n",
       "\t<tr><td> 6                    </td><td>MAN_FLOW_POP_CNT_0509 </td><td>남성_0509세 유동인구  </td><td>NUMBER                </td><td>(18, 2)               </td></tr>\n",
       "\t<tr><td> 7                    </td><td>MAN_FLOW_POP_CNT_1014 </td><td>남성_1014세 유동인구  </td><td>NUMBER                </td><td>(18, 2)               </td></tr>\n",
       "\t<tr><td> 8                    </td><td>MAN_FLOW_POP_CNT_1519 </td><td>남성_1519세 유동인구  </td><td>NUMBER                </td><td>(18, 2)               </td></tr>\n",
       "\t<tr><td> 9                    </td><td>MAN_FLOW_POP_CNT_2024 </td><td>남성_2024세 유동인구  </td><td>NUMBER                </td><td>(18, 2)               </td></tr>\n",
       "\t<tr><td>10                    </td><td>MAN_FLOW_POP_CNT_2529 </td><td>남성_2529세 유동인구  </td><td>NUMBER                </td><td>(18, 2)               </td></tr>\n",
       "\t<tr><td>11                    </td><td>MAN_FLOW_POP_CNT_3034 </td><td>남성_3034세 유동인구  </td><td>NUMBER                </td><td>(18, 2)               </td></tr>\n",
       "\t<tr><td>12                    </td><td>MAN_FLOW_POP_CNT_3539 </td><td>남성_3539세 유동인구  </td><td>NUMBER                </td><td>(18, 2)               </td></tr>\n",
       "\t<tr><td>13                    </td><td>MAN_FLOW_POP_CNT_4044 </td><td>남성_4044세 유동인구  </td><td>NUMBER                </td><td>(18, 2)               </td></tr>\n",
       "\t<tr><td>14                    </td><td>MAN_FLOW_POP_CNT_4549 </td><td>남성_4549세 유동인구  </td><td>NUMBER                </td><td>(18, 2)               </td></tr>\n",
       "\t<tr><td>15                    </td><td>MAN_FLOW_POP_CNT_5054 </td><td>남성_5054세 유동인구  </td><td>NUMBER                </td><td>(18, 2)               </td></tr>\n",
       "\t<tr><td>16                    </td><td>MAN_FLOW_POP_CNT_5559 </td><td>남성_5559세 유동인구  </td><td>NUMBER                </td><td>(18, 2)               </td></tr>\n",
       "\t<tr><td>17                    </td><td>MAN_FLOW_POP_CNT_6064 </td><td>남성_6064세 유동인구  </td><td>NUMBER                </td><td>(18, 2)               </td></tr>\n",
       "\t<tr><td>18                    </td><td>MAN_FLOW_POP_CNT_6569 </td><td>남성_6569세 유동인구  </td><td>NUMBER                </td><td>(18, 2)               </td></tr>\n",
       "\t<tr><td>19                    </td><td>MAN_FLOW_POP_CNT_70U  </td><td>남성_70세이상 유동인구</td><td>NUMBER                </td><td>(18, 2)               </td></tr>\n",
       "\t<tr><td>20                    </td><td>WMAN_FLOW_POP_CNT_0004</td><td>여성_0004세 유동인구  </td><td>NUMBER                </td><td>(18, 2)               </td></tr>\n",
       "\t<tr><td>21                    </td><td>WMAN_FLOW_POP_CNT_0509</td><td>여성_0509세 유동인구  </td><td>NUMBER                </td><td>(18, 2)               </td></tr>\n",
       "\t<tr><td>22                    </td><td>WMAN_FLOW_POP_CNT_1014</td><td>여성_1014세 유동인구  </td><td>NUMBER                </td><td>(18, 2)               </td></tr>\n",
       "\t<tr><td>23                    </td><td>WMAN_FLOW_POP_CNT_1519</td><td>여성_1519세 유동인구  </td><td>NUMBER                </td><td>(18, 2)               </td></tr>\n",
       "\t<tr><td>24                    </td><td>WMAN_FLOW_POP_CNT_2024</td><td>여성_2024세 유동인구  </td><td>NUMBER                </td><td>(18, 2)               </td></tr>\n",
       "\t<tr><td>25                    </td><td>WMAN_FLOW_POP_CNT_2529</td><td>여성_2529세 유동인구  </td><td>NUMBER                </td><td>(18, 2)               </td></tr>\n",
       "\t<tr><td>26                    </td><td>WMAN_FLOW_POP_CNT_3034</td><td>여성_3034세 유동인구  </td><td>NUMBER                </td><td>(18, 2)               </td></tr>\n",
       "\t<tr><td>27                    </td><td>WMAN_FLOW_POP_CNT_3539</td><td>여성_3539세 유동인구  </td><td>NUMBER                </td><td>(18, 2)               </td></tr>\n",
       "\t<tr><td>28                    </td><td>WMAN_FLOW_POP_CNT_4044</td><td>여성_4044세 유동인구  </td><td>NUMBER                </td><td>(18, 2)               </td></tr>\n",
       "\t<tr><td>29                    </td><td>WMAN_FLOW_POP_CNT_4549</td><td>여성_4549세 유동인구  </td><td>NUMBER                </td><td>(18, 2)               </td></tr>\n",
       "\t<tr><td>30                    </td><td>WMAN_FLOW_POP_CNT_5054</td><td>여성_5054세 유동인구  </td><td>NUMBER                </td><td>(18, 2)               </td></tr>\n",
       "\t<tr><td>31                    </td><td>WMAN_FLOW_POP_CNT_5559</td><td>여성_5559세 유동인구  </td><td>NUMBER                </td><td>(18, 2)               </td></tr>\n",
       "\t<tr><td>32                    </td><td>WMAN_FLOW_POP_CNT_6064</td><td>여성_6064세 유동인구  </td><td>NUMBER                </td><td>(18, 2)               </td></tr>\n",
       "\t<tr><td>33                    </td><td>WMAN_FLOW_POP_CNT_6569</td><td>여성_6569세 유동인구  </td><td>NUMBER                </td><td>(18, 2)               </td></tr>\n",
       "\t<tr><td>34                    </td><td>WMAN_FLOW_POP_CNT_70U </td><td>여성_70세이상 유동인구</td><td>NUMBER                </td><td>(18, 2)               </td></tr>\n",
       "</tbody>\n",
       "</table>\n"
      ],
      "text/latex": [
       "\\begin{tabular}{r|lllll}\n",
       " No. & 컬럼ID & 컬럼명 & 타입 & 길이\\\\\n",
       "\\hline\n",
       "\t  1                       & STD\\_YM                 & 년월                     & VARCHAR2                 & 6                       \\\\\n",
       "\t  2                       & STD\\_YMD                & 년월일                   & VARCHAR2                 & 8                       \\\\\n",
       "\t  3                       & HDONG\\_CD               & 행정동코드               & VARCHAR2                 & 10                      \\\\\n",
       "\t  4                       & HDONG\\_NM               & 행정동명칭               & VARCHAR2                 & 50                      \\\\\n",
       "\t  5                             & MAN\\_FLOW\\_POP\\_CNT\\_0004  & 남성\\_0004세 유동인구         & NUMBER                         & (18, 2)                       \\\\\n",
       "\t  6                             & MAN\\_FLOW\\_POP\\_CNT\\_0509  & 남성\\_0509세 유동인구         & NUMBER                         & (18, 2)                       \\\\\n",
       "\t  7                             & MAN\\_FLOW\\_POP\\_CNT\\_1014  & 남성\\_1014세 유동인구         & NUMBER                         & (18, 2)                       \\\\\n",
       "\t  8                             & MAN\\_FLOW\\_POP\\_CNT\\_1519  & 남성\\_1519세 유동인구         & NUMBER                         & (18, 2)                       \\\\\n",
       "\t  9                             & MAN\\_FLOW\\_POP\\_CNT\\_2024  & 남성\\_2024세 유동인구         & NUMBER                         & (18, 2)                       \\\\\n",
       "\t 10                             & MAN\\_FLOW\\_POP\\_CNT\\_2529  & 남성\\_2529세 유동인구         & NUMBER                         & (18, 2)                       \\\\\n",
       "\t 11                             & MAN\\_FLOW\\_POP\\_CNT\\_3034  & 남성\\_3034세 유동인구         & NUMBER                         & (18, 2)                       \\\\\n",
       "\t 12                             & MAN\\_FLOW\\_POP\\_CNT\\_3539  & 남성\\_3539세 유동인구         & NUMBER                         & (18, 2)                       \\\\\n",
       "\t 13                             & MAN\\_FLOW\\_POP\\_CNT\\_4044  & 남성\\_4044세 유동인구         & NUMBER                         & (18, 2)                       \\\\\n",
       "\t 14                             & MAN\\_FLOW\\_POP\\_CNT\\_4549  & 남성\\_4549세 유동인구         & NUMBER                         & (18, 2)                       \\\\\n",
       "\t 15                             & MAN\\_FLOW\\_POP\\_CNT\\_5054  & 남성\\_5054세 유동인구         & NUMBER                         & (18, 2)                       \\\\\n",
       "\t 16                             & MAN\\_FLOW\\_POP\\_CNT\\_5559  & 남성\\_5559세 유동인구         & NUMBER                         & (18, 2)                       \\\\\n",
       "\t 17                             & MAN\\_FLOW\\_POP\\_CNT\\_6064  & 남성\\_6064세 유동인구         & NUMBER                         & (18, 2)                       \\\\\n",
       "\t 18                             & MAN\\_FLOW\\_POP\\_CNT\\_6569  & 남성\\_6569세 유동인구         & NUMBER                         & (18, 2)                       \\\\\n",
       "\t 19                             & MAN\\_FLOW\\_POP\\_CNT\\_70U   & 남성\\_70세이상 유동인구       & NUMBER                         & (18, 2)                       \\\\\n",
       "\t 20                             & WMAN\\_FLOW\\_POP\\_CNT\\_0004 & 여성\\_0004세 유동인구         & NUMBER                         & (18, 2)                       \\\\\n",
       "\t 21                             & WMAN\\_FLOW\\_POP\\_CNT\\_0509 & 여성\\_0509세 유동인구         & NUMBER                         & (18, 2)                       \\\\\n",
       "\t 22                             & WMAN\\_FLOW\\_POP\\_CNT\\_1014 & 여성\\_1014세 유동인구         & NUMBER                         & (18, 2)                       \\\\\n",
       "\t 23                             & WMAN\\_FLOW\\_POP\\_CNT\\_1519 & 여성\\_1519세 유동인구         & NUMBER                         & (18, 2)                       \\\\\n",
       "\t 24                             & WMAN\\_FLOW\\_POP\\_CNT\\_2024 & 여성\\_2024세 유동인구         & NUMBER                         & (18, 2)                       \\\\\n",
       "\t 25                             & WMAN\\_FLOW\\_POP\\_CNT\\_2529 & 여성\\_2529세 유동인구         & NUMBER                         & (18, 2)                       \\\\\n",
       "\t 26                             & WMAN\\_FLOW\\_POP\\_CNT\\_3034 & 여성\\_3034세 유동인구         & NUMBER                         & (18, 2)                       \\\\\n",
       "\t 27                             & WMAN\\_FLOW\\_POP\\_CNT\\_3539 & 여성\\_3539세 유동인구         & NUMBER                         & (18, 2)                       \\\\\n",
       "\t 28                             & WMAN\\_FLOW\\_POP\\_CNT\\_4044 & 여성\\_4044세 유동인구         & NUMBER                         & (18, 2)                       \\\\\n",
       "\t 29                             & WMAN\\_FLOW\\_POP\\_CNT\\_4549 & 여성\\_4549세 유동인구         & NUMBER                         & (18, 2)                       \\\\\n",
       "\t 30                             & WMAN\\_FLOW\\_POP\\_CNT\\_5054 & 여성\\_5054세 유동인구         & NUMBER                         & (18, 2)                       \\\\\n",
       "\t 31                             & WMAN\\_FLOW\\_POP\\_CNT\\_5559 & 여성\\_5559세 유동인구         & NUMBER                         & (18, 2)                       \\\\\n",
       "\t 32                             & WMAN\\_FLOW\\_POP\\_CNT\\_6064 & 여성\\_6064세 유동인구         & NUMBER                         & (18, 2)                       \\\\\n",
       "\t 33                             & WMAN\\_FLOW\\_POP\\_CNT\\_6569 & 여성\\_6569세 유동인구         & NUMBER                         & (18, 2)                       \\\\\n",
       "\t 34                             & WMAN\\_FLOW\\_POP\\_CNT\\_70U  & 여성\\_70세이상 유동인구       & NUMBER                         & (18, 2)                       \\\\\n",
       "\\end{tabular}\n"
      ],
      "text/markdown": [
       "\n",
       "No. | 컬럼ID | 컬럼명 | 타입 | 길이 | \n",
       "|---|---|---|---|---|---|---|---|---|---|---|---|---|---|---|---|---|---|---|---|---|---|---|---|---|---|---|---|---|---|---|---|---|---|\n",
       "|  1                     | STD_YM                 | 년월                   | VARCHAR2               | 6                      | \n",
       "|  2                     | STD_YMD                | 년월일                 | VARCHAR2               | 8                      | \n",
       "|  3                     | HDONG_CD               | 행정동코드             | VARCHAR2               | 10                     | \n",
       "|  4                     | HDONG_NM               | 행정동명칭             | VARCHAR2               | 50                     | \n",
       "|  5                     | MAN_FLOW_POP_CNT_0004  | 남성_0004세 유동인구   | NUMBER                 | (18, 2)                | \n",
       "|  6                     | MAN_FLOW_POP_CNT_0509  | 남성_0509세 유동인구   | NUMBER                 | (18, 2)                | \n",
       "|  7                     | MAN_FLOW_POP_CNT_1014  | 남성_1014세 유동인구   | NUMBER                 | (18, 2)                | \n",
       "|  8                     | MAN_FLOW_POP_CNT_1519  | 남성_1519세 유동인구   | NUMBER                 | (18, 2)                | \n",
       "|  9                     | MAN_FLOW_POP_CNT_2024  | 남성_2024세 유동인구   | NUMBER                 | (18, 2)                | \n",
       "| 10                     | MAN_FLOW_POP_CNT_2529  | 남성_2529세 유동인구   | NUMBER                 | (18, 2)                | \n",
       "| 11                     | MAN_FLOW_POP_CNT_3034  | 남성_3034세 유동인구   | NUMBER                 | (18, 2)                | \n",
       "| 12                     | MAN_FLOW_POP_CNT_3539  | 남성_3539세 유동인구   | NUMBER                 | (18, 2)                | \n",
       "| 13                     | MAN_FLOW_POP_CNT_4044  | 남성_4044세 유동인구   | NUMBER                 | (18, 2)                | \n",
       "| 14                     | MAN_FLOW_POP_CNT_4549  | 남성_4549세 유동인구   | NUMBER                 | (18, 2)                | \n",
       "| 15                     | MAN_FLOW_POP_CNT_5054  | 남성_5054세 유동인구   | NUMBER                 | (18, 2)                | \n",
       "| 16                     | MAN_FLOW_POP_CNT_5559  | 남성_5559세 유동인구   | NUMBER                 | (18, 2)                | \n",
       "| 17                     | MAN_FLOW_POP_CNT_6064  | 남성_6064세 유동인구   | NUMBER                 | (18, 2)                | \n",
       "| 18                     | MAN_FLOW_POP_CNT_6569  | 남성_6569세 유동인구   | NUMBER                 | (18, 2)                | \n",
       "| 19                     | MAN_FLOW_POP_CNT_70U   | 남성_70세이상 유동인구 | NUMBER                 | (18, 2)                | \n",
       "| 20                     | WMAN_FLOW_POP_CNT_0004 | 여성_0004세 유동인구   | NUMBER                 | (18, 2)                | \n",
       "| 21                     | WMAN_FLOW_POP_CNT_0509 | 여성_0509세 유동인구   | NUMBER                 | (18, 2)                | \n",
       "| 22                     | WMAN_FLOW_POP_CNT_1014 | 여성_1014세 유동인구   | NUMBER                 | (18, 2)                | \n",
       "| 23                     | WMAN_FLOW_POP_CNT_1519 | 여성_1519세 유동인구   | NUMBER                 | (18, 2)                | \n",
       "| 24                     | WMAN_FLOW_POP_CNT_2024 | 여성_2024세 유동인구   | NUMBER                 | (18, 2)                | \n",
       "| 25                     | WMAN_FLOW_POP_CNT_2529 | 여성_2529세 유동인구   | NUMBER                 | (18, 2)                | \n",
       "| 26                     | WMAN_FLOW_POP_CNT_3034 | 여성_3034세 유동인구   | NUMBER                 | (18, 2)                | \n",
       "| 27                     | WMAN_FLOW_POP_CNT_3539 | 여성_3539세 유동인구   | NUMBER                 | (18, 2)                | \n",
       "| 28                     | WMAN_FLOW_POP_CNT_4044 | 여성_4044세 유동인구   | NUMBER                 | (18, 2)                | \n",
       "| 29                     | WMAN_FLOW_POP_CNT_4549 | 여성_4549세 유동인구   | NUMBER                 | (18, 2)                | \n",
       "| 30                     | WMAN_FLOW_POP_CNT_5054 | 여성_5054세 유동인구   | NUMBER                 | (18, 2)                | \n",
       "| 31                     | WMAN_FLOW_POP_CNT_5559 | 여성_5559세 유동인구   | NUMBER                 | (18, 2)                | \n",
       "| 32                     | WMAN_FLOW_POP_CNT_6064 | 여성_6064세 유동인구   | NUMBER                 | (18, 2)                | \n",
       "| 33                     | WMAN_FLOW_POP_CNT_6569 | 여성_6569세 유동인구   | NUMBER                 | (18, 2)                | \n",
       "| 34                     | WMAN_FLOW_POP_CNT_70U  | 여성_70세이상 유동인구 | NUMBER                 | (18, 2)                | \n",
       "\n",
       "\n"
      ],
      "text/plain": [
       "   No. 컬럼ID                 컬럼명                 타입     길이   \n",
       "1   1  STD_YM                 년월                   VARCHAR2 6      \n",
       "2   2  STD_YMD                년월일                 VARCHAR2 8      \n",
       "3   3  HDONG_CD               행정동코드             VARCHAR2 10     \n",
       "4   4  HDONG_NM               행정동명칭             VARCHAR2 50     \n",
       "5   5  MAN_FLOW_POP_CNT_0004  남성_0004세 유동인구   NUMBER   (18, 2)\n",
       "6   6  MAN_FLOW_POP_CNT_0509  남성_0509세 유동인구   NUMBER   (18, 2)\n",
       "7   7  MAN_FLOW_POP_CNT_1014  남성_1014세 유동인구   NUMBER   (18, 2)\n",
       "8   8  MAN_FLOW_POP_CNT_1519  남성_1519세 유동인구   NUMBER   (18, 2)\n",
       "9   9  MAN_FLOW_POP_CNT_2024  남성_2024세 유동인구   NUMBER   (18, 2)\n",
       "10 10  MAN_FLOW_POP_CNT_2529  남성_2529세 유동인구   NUMBER   (18, 2)\n",
       "11 11  MAN_FLOW_POP_CNT_3034  남성_3034세 유동인구   NUMBER   (18, 2)\n",
       "12 12  MAN_FLOW_POP_CNT_3539  남성_3539세 유동인구   NUMBER   (18, 2)\n",
       "13 13  MAN_FLOW_POP_CNT_4044  남성_4044세 유동인구   NUMBER   (18, 2)\n",
       "14 14  MAN_FLOW_POP_CNT_4549  남성_4549세 유동인구   NUMBER   (18, 2)\n",
       "15 15  MAN_FLOW_POP_CNT_5054  남성_5054세 유동인구   NUMBER   (18, 2)\n",
       "16 16  MAN_FLOW_POP_CNT_5559  남성_5559세 유동인구   NUMBER   (18, 2)\n",
       "17 17  MAN_FLOW_POP_CNT_6064  남성_6064세 유동인구   NUMBER   (18, 2)\n",
       "18 18  MAN_FLOW_POP_CNT_6569  남성_6569세 유동인구   NUMBER   (18, 2)\n",
       "19 19  MAN_FLOW_POP_CNT_70U   남성_70세이상 유동인구 NUMBER   (18, 2)\n",
       "20 20  WMAN_FLOW_POP_CNT_0004 여성_0004세 유동인구   NUMBER   (18, 2)\n",
       "21 21  WMAN_FLOW_POP_CNT_0509 여성_0509세 유동인구   NUMBER   (18, 2)\n",
       "22 22  WMAN_FLOW_POP_CNT_1014 여성_1014세 유동인구   NUMBER   (18, 2)\n",
       "23 23  WMAN_FLOW_POP_CNT_1519 여성_1519세 유동인구   NUMBER   (18, 2)\n",
       "24 24  WMAN_FLOW_POP_CNT_2024 여성_2024세 유동인구   NUMBER   (18, 2)\n",
       "25 25  WMAN_FLOW_POP_CNT_2529 여성_2529세 유동인구   NUMBER   (18, 2)\n",
       "26 26  WMAN_FLOW_POP_CNT_3034 여성_3034세 유동인구   NUMBER   (18, 2)\n",
       "27 27  WMAN_FLOW_POP_CNT_3539 여성_3539세 유동인구   NUMBER   (18, 2)\n",
       "28 28  WMAN_FLOW_POP_CNT_4044 여성_4044세 유동인구   NUMBER   (18, 2)\n",
       "29 29  WMAN_FLOW_POP_CNT_4549 여성_4549세 유동인구   NUMBER   (18, 2)\n",
       "30 30  WMAN_FLOW_POP_CNT_5054 여성_5054세 유동인구   NUMBER   (18, 2)\n",
       "31 31  WMAN_FLOW_POP_CNT_5559 여성_5559세 유동인구   NUMBER   (18, 2)\n",
       "32 32  WMAN_FLOW_POP_CNT_6064 여성_6064세 유동인구   NUMBER   (18, 2)\n",
       "33 33  WMAN_FLOW_POP_CNT_6569 여성_6569세 유동인구   NUMBER   (18, 2)\n",
       "34 34  WMAN_FLOW_POP_CNT_70U  여성_70세이상 유동인구 NUMBER   (18, 2)"
      ]
     },
     "metadata": {},
     "output_type": "display_data"
    }
   ],
   "source": [
    "doc4"
   ]
  },
  {
   "cell_type": "code",
   "execution_count": 31,
   "metadata": {},
   "outputs": [
    {
     "data": {
      "text/html": [
       "<table>\n",
       "<thead><tr><th scope=col>STD_YM</th><th scope=col>4_</th><th scope=col>5_9</th><th scope=col>10_14</th><th scope=col>15_19</th></tr></thead>\n",
       "<tbody>\n",
       "\t<tr><td>201804  </td><td> 248.94 </td><td>139131.0</td><td>728802.8</td><td>1999485 </td></tr>\n",
       "\t<tr><td>201805  </td><td> 229.16 </td><td>165033.0</td><td>904655.0</td><td>2277846 </td></tr>\n",
       "\t<tr><td>201806  </td><td> 302.73 </td><td>154125.0</td><td>721977.5</td><td>1942572 </td></tr>\n",
       "\t<tr><td>201807  </td><td> 309.97 </td><td>152461.2</td><td>744754.7</td><td>1860376 </td></tr>\n",
       "\t<tr><td>201808  </td><td> 418.38 </td><td>166729.3</td><td>728407.2</td><td>1721401 </td></tr>\n",
       "\t<tr><td>201809  </td><td> 756.65 </td><td>168714.0</td><td>777711.4</td><td>1917962 </td></tr>\n",
       "\t<tr><td>201810  </td><td>1128.64 </td><td>160828.4</td><td>785189.2</td><td>2079058 </td></tr>\n",
       "\t<tr><td>201811  </td><td>1957.30 </td><td>144344.4</td><td>664387.2</td><td>2113674 </td></tr>\n",
       "\t<tr><td>201812  </td><td> 944.45 </td><td>132454.7</td><td>618399.1</td><td>1873017 </td></tr>\n",
       "\t<tr><td>201901  </td><td> 628.84 </td><td>104570.0</td><td>601358.1</td><td>1407258 </td></tr>\n",
       "\t<tr><td>201902  </td><td> 709.06 </td><td>111425.3</td><td>634615.3</td><td>1427881 </td></tr>\n",
       "\t<tr><td>201903  </td><td> 938.54 </td><td>130205.0</td><td>638108.8</td><td>2115836 </td></tr>\n",
       "</tbody>\n",
       "</table>\n"
      ],
      "text/latex": [
       "\\begin{tabular}{r|lllll}\n",
       " STD\\_YM & 4\\_ & 5\\_9 & 10\\_14 & 15\\_19\\\\\n",
       "\\hline\n",
       "\t 201804   &  248.94  & 139131.0 & 728802.8 & 1999485 \\\\\n",
       "\t 201805   &  229.16  & 165033.0 & 904655.0 & 2277846 \\\\\n",
       "\t 201806   &  302.73  & 154125.0 & 721977.5 & 1942572 \\\\\n",
       "\t 201807   &  309.97  & 152461.2 & 744754.7 & 1860376 \\\\\n",
       "\t 201808   &  418.38  & 166729.3 & 728407.2 & 1721401 \\\\\n",
       "\t 201809   &  756.65  & 168714.0 & 777711.4 & 1917962 \\\\\n",
       "\t 201810   & 1128.64  & 160828.4 & 785189.2 & 2079058 \\\\\n",
       "\t 201811   & 1957.30  & 144344.4 & 664387.2 & 2113674 \\\\\n",
       "\t 201812   &  944.45  & 132454.7 & 618399.1 & 1873017 \\\\\n",
       "\t 201901   &  628.84  & 104570.0 & 601358.1 & 1407258 \\\\\n",
       "\t 201902   &  709.06  & 111425.3 & 634615.3 & 1427881 \\\\\n",
       "\t 201903   &  938.54  & 130205.0 & 638108.8 & 2115836 \\\\\n",
       "\\end{tabular}\n"
      ],
      "text/markdown": [
       "\n",
       "STD_YM | 4_ | 5_9 | 10_14 | 15_19 | \n",
       "|---|---|---|---|---|---|---|---|---|---|---|---|\n",
       "| 201804   |  248.94  | 139131.0 | 728802.8 | 1999485  | \n",
       "| 201805   |  229.16  | 165033.0 | 904655.0 | 2277846  | \n",
       "| 201806   |  302.73  | 154125.0 | 721977.5 | 1942572  | \n",
       "| 201807   |  309.97  | 152461.2 | 744754.7 | 1860376  | \n",
       "| 201808   |  418.38  | 166729.3 | 728407.2 | 1721401  | \n",
       "| 201809   |  756.65  | 168714.0 | 777711.4 | 1917962  | \n",
       "| 201810   | 1128.64  | 160828.4 | 785189.2 | 2079058  | \n",
       "| 201811   | 1957.30  | 144344.4 | 664387.2 | 2113674  | \n",
       "| 201812   |  944.45  | 132454.7 | 618399.1 | 1873017  | \n",
       "| 201901   |  628.84  | 104570.0 | 601358.1 | 1407258  | \n",
       "| 201902   |  709.06  | 111425.3 | 634615.3 | 1427881  | \n",
       "| 201903   |  938.54  | 130205.0 | 638108.8 | 2115836  | \n",
       "\n",
       "\n"
      ],
      "text/plain": [
       "   STD_YM 4_      5_9      10_14    15_19  \n",
       "1  201804  248.94 139131.0 728802.8 1999485\n",
       "2  201805  229.16 165033.0 904655.0 2277846\n",
       "3  201806  302.73 154125.0 721977.5 1942572\n",
       "4  201807  309.97 152461.2 744754.7 1860376\n",
       "5  201808  418.38 166729.3 728407.2 1721401\n",
       "6  201809  756.65 168714.0 777711.4 1917962\n",
       "7  201810 1128.64 160828.4 785189.2 2079058\n",
       "8  201811 1957.30 144344.4 664387.2 2113674\n",
       "9  201812  944.45 132454.7 618399.1 1873017\n",
       "10 201901  628.84 104570.0 601358.1 1407258\n",
       "11 201902  709.06 111425.3 634615.3 1427881\n",
       "12 201903  938.54 130205.0 638108.8 2115836"
      ]
     },
     "metadata": {},
     "output_type": "display_data"
    }
   ],
   "source": [
    "sel <- c(\"MAN_FLOW_POP_CNT_0004\", \"MAN_FLOW_POP_CNT_0509\", \"MAN_FLOW_POP_CNT_1014\", \"MAN_FLOW_POP_CNT_1519\")\n",
    "mv_pop_0_20 <- all_year_dat %>% group_by(STD_YM) %>% summarize(\"4_\"=sum(MAN_FLOW_POP_CNT_0004),\n",
    "                                                \"5_9\"=sum(MAN_FLOW_POP_CNT_0509),\n",
    "                                                \"10_14\"=sum(MAN_FLOW_POP_CNT_1014),\n",
    "                                                \"15_19\"=sum(MAN_FLOW_POP_CNT_1519))\n",
    "mv_pop_0_20"
   ]
  },
  {
   "cell_type": "code",
   "execution_count": 32,
   "metadata": {},
   "outputs": [
    {
     "data": {
      "text/html": [
       "<table>\n",
       "<thead><tr><th scope=col>STD_YM</th><th scope=col>4_</th><th scope=col>5_9</th><th scope=col>10_14</th><th scope=col>15_19</th><th scope=col>total</th></tr></thead>\n",
       "<tbody>\n",
       "\t<tr><td>201804  </td><td> 248.94 </td><td>139131.0</td><td>728802.8</td><td>1999485 </td><td>2867668 </td></tr>\n",
       "\t<tr><td>201805  </td><td> 229.16 </td><td>165033.0</td><td>904655.0</td><td>2277846 </td><td>3347763 </td></tr>\n",
       "\t<tr><td>201806  </td><td> 302.73 </td><td>154125.0</td><td>721977.5</td><td>1942572 </td><td>2818977 </td></tr>\n",
       "\t<tr><td>201807  </td><td> 309.97 </td><td>152461.2</td><td>744754.7</td><td>1860376 </td><td>2757902 </td></tr>\n",
       "\t<tr><td>201808  </td><td> 418.38 </td><td>166729.3</td><td>728407.2</td><td>1721401 </td><td>2616955 </td></tr>\n",
       "\t<tr><td>201809  </td><td> 756.65 </td><td>168714.0</td><td>777711.4</td><td>1917962 </td><td>2865144 </td></tr>\n",
       "\t<tr><td>201810  </td><td>1128.64 </td><td>160828.4</td><td>785189.2</td><td>2079058 </td><td>3026205 </td></tr>\n",
       "\t<tr><td>201811  </td><td>1957.30 </td><td>144344.4</td><td>664387.2</td><td>2113674 </td><td>2924362 </td></tr>\n",
       "\t<tr><td>201812  </td><td> 944.45 </td><td>132454.7</td><td>618399.1</td><td>1873017 </td><td>2624815 </td></tr>\n",
       "\t<tr><td>201901  </td><td> 628.84 </td><td>104570.0</td><td>601358.1</td><td>1407258 </td><td>2113815 </td></tr>\n",
       "\t<tr><td>201902  </td><td> 709.06 </td><td>111425.3</td><td>634615.3</td><td>1427881 </td><td>2174631 </td></tr>\n",
       "\t<tr><td>201903  </td><td> 938.54 </td><td>130205.0</td><td>638108.8</td><td>2115836 </td><td>2885088 </td></tr>\n",
       "</tbody>\n",
       "</table>\n"
      ],
      "text/latex": [
       "\\begin{tabular}{r|llllll}\n",
       " STD\\_YM & 4\\_ & 5\\_9 & 10\\_14 & 15\\_19 & total\\\\\n",
       "\\hline\n",
       "\t 201804   &  248.94  & 139131.0 & 728802.8 & 1999485  & 2867668 \\\\\n",
       "\t 201805   &  229.16  & 165033.0 & 904655.0 & 2277846  & 3347763 \\\\\n",
       "\t 201806   &  302.73  & 154125.0 & 721977.5 & 1942572  & 2818977 \\\\\n",
       "\t 201807   &  309.97  & 152461.2 & 744754.7 & 1860376  & 2757902 \\\\\n",
       "\t 201808   &  418.38  & 166729.3 & 728407.2 & 1721401  & 2616955 \\\\\n",
       "\t 201809   &  756.65  & 168714.0 & 777711.4 & 1917962  & 2865144 \\\\\n",
       "\t 201810   & 1128.64  & 160828.4 & 785189.2 & 2079058  & 3026205 \\\\\n",
       "\t 201811   & 1957.30  & 144344.4 & 664387.2 & 2113674  & 2924362 \\\\\n",
       "\t 201812   &  944.45  & 132454.7 & 618399.1 & 1873017  & 2624815 \\\\\n",
       "\t 201901   &  628.84  & 104570.0 & 601358.1 & 1407258  & 2113815 \\\\\n",
       "\t 201902   &  709.06  & 111425.3 & 634615.3 & 1427881  & 2174631 \\\\\n",
       "\t 201903   &  938.54  & 130205.0 & 638108.8 & 2115836  & 2885088 \\\\\n",
       "\\end{tabular}\n"
      ],
      "text/markdown": [
       "\n",
       "STD_YM | 4_ | 5_9 | 10_14 | 15_19 | total | \n",
       "|---|---|---|---|---|---|---|---|---|---|---|---|\n",
       "| 201804   |  248.94  | 139131.0 | 728802.8 | 1999485  | 2867668  | \n",
       "| 201805   |  229.16  | 165033.0 | 904655.0 | 2277846  | 3347763  | \n",
       "| 201806   |  302.73  | 154125.0 | 721977.5 | 1942572  | 2818977  | \n",
       "| 201807   |  309.97  | 152461.2 | 744754.7 | 1860376  | 2757902  | \n",
       "| 201808   |  418.38  | 166729.3 | 728407.2 | 1721401  | 2616955  | \n",
       "| 201809   |  756.65  | 168714.0 | 777711.4 | 1917962  | 2865144  | \n",
       "| 201810   | 1128.64  | 160828.4 | 785189.2 | 2079058  | 3026205  | \n",
       "| 201811   | 1957.30  | 144344.4 | 664387.2 | 2113674  | 2924362  | \n",
       "| 201812   |  944.45  | 132454.7 | 618399.1 | 1873017  | 2624815  | \n",
       "| 201901   |  628.84  | 104570.0 | 601358.1 | 1407258  | 2113815  | \n",
       "| 201902   |  709.06  | 111425.3 | 634615.3 | 1427881  | 2174631  | \n",
       "| 201903   |  938.54  | 130205.0 | 638108.8 | 2115836  | 2885088  | \n",
       "\n",
       "\n"
      ],
      "text/plain": [
       "   STD_YM 4_      5_9      10_14    15_19   total  \n",
       "1  201804  248.94 139131.0 728802.8 1999485 2867668\n",
       "2  201805  229.16 165033.0 904655.0 2277846 3347763\n",
       "3  201806  302.73 154125.0 721977.5 1942572 2818977\n",
       "4  201807  309.97 152461.2 744754.7 1860376 2757902\n",
       "5  201808  418.38 166729.3 728407.2 1721401 2616955\n",
       "6  201809  756.65 168714.0 777711.4 1917962 2865144\n",
       "7  201810 1128.64 160828.4 785189.2 2079058 3026205\n",
       "8  201811 1957.30 144344.4 664387.2 2113674 2924362\n",
       "9  201812  944.45 132454.7 618399.1 1873017 2624815\n",
       "10 201901  628.84 104570.0 601358.1 1407258 2113815\n",
       "11 201902  709.06 111425.3 634615.3 1427881 2174631\n",
       "12 201903  938.54 130205.0 638108.8 2115836 2885088"
      ]
     },
     "metadata": {},
     "output_type": "display_data"
    },
    {
     "name": "stdout",
     "output_type": "stream",
     "text": [
      "Classes 'tbl_df', 'tbl' and 'data.frame':\t12 obs. of  6 variables:\n",
      " $ STD_YM: int  201804 201805 201806 201807 201808 201809 201810 201811 201812 201901 ...\n",
      " $ 4_    : num  249 229 303 310 418 ...\n",
      " $ 5_9   : num  139131 165033 154125 152461 166729 ...\n",
      " $ 10_14 : num  728803 904655 721978 744755 728407 ...\n",
      " $ 15_19 : num  1999485 2277846 1942572 1860376 1721401 ...\n",
      " $ total : num  2867668 3347763 2818977 2757902 2616955 ...\n"
     ]
    }
   ],
   "source": [
    "mv_pop_0_20$total <- mv_pop_0_20$`4_` + mv_pop_0_20$`5_9` + mv_pop_0_20$`10_14` + mv_pop_0_20$`15_19`\n",
    "mv_pop_0_20\n",
    "str(mv_pop_0_20)"
   ]
  },
  {
   "cell_type": "markdown",
   "metadata": {},
   "source": [
    "### 총 유동인구 : 2018년 5월과 2019년 3월에 가장 많았다."
   ]
  },
  {
   "cell_type": "code",
   "execution_count": 33,
   "metadata": {},
   "outputs": [
    {
     "data": {},
     "metadata": {},
     "output_type": "display_data"
    },
    {
     "data": {
      "image/png": "[encoded data removed]",
      "text/plain": [
       "plot without title"
      ]
     },
     "metadata": {},
     "output_type": "display_data"
    }
   ],
   "source": [
    "ggplot(mv_pop_0_20, aes(x=factor(STD_YM), y=total)) + geom_col()"
   ]
  },
  {
   "cell_type": "code",
   "execution_count": null,
   "metadata": {},
   "outputs": [],
   "source": []
  }
 ],
 "metadata": {
  "kernelspec": {
   "display_name": "R",
   "language": "R",
   "name": "ir"
  },
  "language_info": {
   "codemirror_mode": "r",
   "file_extension": ".r",
   "mimetype": "text/x-r-source",
   "name": "R",
   "pygments_lexer": "r",
   "version": "3.5.1"
  }
 },
 "nbformat": 4,
 "nbformat_minor": 2
}
