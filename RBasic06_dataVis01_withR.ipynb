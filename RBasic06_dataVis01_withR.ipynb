{
 "cells": [
  {
   "cell_type": "markdown",
   "metadata": {},
   "source": [
    "### 06 데이터 시각화(1)"
   ]
  },
  {
   "cell_type": "markdown",
   "metadata": {},
   "source": [
    "### 학습 내용\n",
    "* ggplot2 패키지 알아보기 \n",
    "* 산점도 그래보기\n",
    "* qplot과 ggplot의 차이 알아보기\n",
    "* 그래프 이미지, pdf로 저장해 보기"
   ]
  },
  {
   "cell_type": "markdown",
   "metadata": {},
   "source": [
    "### 6-1 그래프 or 차트 or 다이어그램\n",
    "* 일련의 데이터에 대한 추세를 보여준다. \n",
    "* 데이터를 그래프로 표현하면 <b>추세와 경향성</b>이 드러나 특징을 쉽게 이해 가능하다.\n",
    "* 그래프를 만드는 과정중에 <b>새로운 패턴이 발견</b>되기도 한다.\n",
    "* R이 제공하는 기본 함수가 있고, 현재 많이 사용되고 있는 그래프 패키지는 ggplot2이다."
   ]
  },
  {
   "cell_type": "markdown",
   "metadata": {},
   "source": [
    "### ggplot2\n",
    "* ggplot2는 그래프를 만들 때 가장 많이 사용하는 패키지.\n",
    "* 짧은 문법을 통해 그래프를 만들 수 있다.\n",
    "* ggplot2는 레이어 구조로 되어 있음.\n",
    "\n",
    "| 단계 | 설명 | \n",
    "|:--------:|:--------:|\n",
    "| 1단계 | 배경 설정(축) | \n",
    "| 2단계 | 그래프 추가(점, 막대, 선) |\n",
    "| 3단계 | 설정 추가(축 범위, 색, 표식) | "
   ]
  },
  {
   "cell_type": "markdown",
   "metadata": {},
   "source": [
    "### 6-2 산점도(Scatterplot)\n",
    "* 두 수치형 변수의 관계를 표시한다.\n",
    "* 각 점은 관측치를 나타낸다."
   ]
  },
  {
   "cell_type": "code",
   "execution_count": 1,
   "metadata": {},
   "outputs": [],
   "source": [
    "library(ggplot2)"
   ]
  },
  {
   "cell_type": "code",
   "execution_count": 6,
   "metadata": {},
   "outputs": [
    {
     "data": {
      "text/html": [
       "<table>\n",
       "<thead><tr><th scope=col>manufacturer</th><th scope=col>model</th><th scope=col>displ</th><th scope=col>year</th><th scope=col>cyl</th><th scope=col>trans</th><th scope=col>drv</th><th scope=col>cty</th><th scope=col>hwy</th><th scope=col>fl</th><th scope=col>class</th></tr></thead>\n",
       "<tbody>\n",
       "\t<tr><td>audi      </td><td>a4        </td><td>1.8       </td><td>1999      </td><td>4         </td><td>auto(l5)  </td><td>f         </td><td>18        </td><td>29        </td><td>p         </td><td>compact   </td></tr>\n",
       "\t<tr><td>audi      </td><td>a4        </td><td>1.8       </td><td>1999      </td><td>4         </td><td>manual(m5)</td><td>f         </td><td>21        </td><td>29        </td><td>p         </td><td>compact   </td></tr>\n",
       "\t<tr><td>audi      </td><td>a4        </td><td>2.0       </td><td>2008      </td><td>4         </td><td>manual(m6)</td><td>f         </td><td>20        </td><td>31        </td><td>p         </td><td>compact   </td></tr>\n",
       "\t<tr><td>audi      </td><td>a4        </td><td>2.0       </td><td>2008      </td><td>4         </td><td>auto(av)  </td><td>f         </td><td>21        </td><td>30        </td><td>p         </td><td>compact   </td></tr>\n",
       "\t<tr><td>audi      </td><td>a4        </td><td>2.8       </td><td>1999      </td><td>6         </td><td>auto(l5)  </td><td>f         </td><td>16        </td><td>26        </td><td>p         </td><td>compact   </td></tr>\n",
       "\t<tr><td>audi      </td><td>a4        </td><td>2.8       </td><td>1999      </td><td>6         </td><td>manual(m5)</td><td>f         </td><td>18        </td><td>26        </td><td>p         </td><td>compact   </td></tr>\n",
       "\t<tr><td>audi      </td><td>a4        </td><td>3.1       </td><td>2008      </td><td>6         </td><td>auto(av)  </td><td>f         </td><td>18        </td><td>27        </td><td>p         </td><td>compact   </td></tr>\n",
       "\t<tr><td>audi      </td><td>a4 quattro</td><td>1.8       </td><td>1999      </td><td>4         </td><td>manual(m5)</td><td>4         </td><td>18        </td><td>26        </td><td>p         </td><td>compact   </td></tr>\n",
       "</tbody>\n",
       "</table>\n"
      ],
      "text/latex": [
       "\\begin{tabular}{r|lllllllllll}\n",
       " manufacturer & model & displ & year & cyl & trans & drv & cty & hwy & fl & class\\\\\n",
       "\\hline\n",
       "\t audi       & a4         & 1.8        & 1999       & 4          & auto(l5)   & f          & 18         & 29         & p          & compact   \\\\\n",
       "\t audi       & a4         & 1.8        & 1999       & 4          & manual(m5) & f          & 21         & 29         & p          & compact   \\\\\n",
       "\t audi       & a4         & 2.0        & 2008       & 4          & manual(m6) & f          & 20         & 31         & p          & compact   \\\\\n",
       "\t audi       & a4         & 2.0        & 2008       & 4          & auto(av)   & f          & 21         & 30         & p          & compact   \\\\\n",
       "\t audi       & a4         & 2.8        & 1999       & 6          & auto(l5)   & f          & 16         & 26         & p          & compact   \\\\\n",
       "\t audi       & a4         & 2.8        & 1999       & 6          & manual(m5) & f          & 18         & 26         & p          & compact   \\\\\n",
       "\t audi       & a4         & 3.1        & 2008       & 6          & auto(av)   & f          & 18         & 27         & p          & compact   \\\\\n",
       "\t audi       & a4 quattro & 1.8        & 1999       & 4          & manual(m5) & 4          & 18         & 26         & p          & compact   \\\\\n",
       "\\end{tabular}\n"
      ],
      "text/markdown": [
       "\n",
       "manufacturer | model | displ | year | cyl | trans | drv | cty | hwy | fl | class | \n",
       "|---|---|---|---|---|---|---|---|\n",
       "| audi       | a4         | 1.8        | 1999       | 4          | auto(l5)   | f          | 18         | 29         | p          | compact    | \n",
       "| audi       | a4         | 1.8        | 1999       | 4          | manual(m5) | f          | 21         | 29         | p          | compact    | \n",
       "| audi       | a4         | 2.0        | 2008       | 4          | manual(m6) | f          | 20         | 31         | p          | compact    | \n",
       "| audi       | a4         | 2.0        | 2008       | 4          | auto(av)   | f          | 21         | 30         | p          | compact    | \n",
       "| audi       | a4         | 2.8        | 1999       | 6          | auto(l5)   | f          | 16         | 26         | p          | compact    | \n",
       "| audi       | a4         | 2.8        | 1999       | 6          | manual(m5) | f          | 18         | 26         | p          | compact    | \n",
       "| audi       | a4         | 3.1        | 2008       | 6          | auto(av)   | f          | 18         | 27         | p          | compact    | \n",
       "| audi       | a4 quattro | 1.8        | 1999       | 4          | manual(m5) | 4          | 18         | 26         | p          | compact    | \n",
       "\n",
       "\n"
      ],
      "text/plain": [
       "  manufacturer model      displ year cyl trans      drv cty hwy fl class  \n",
       "1 audi         a4         1.8   1999 4   auto(l5)   f   18  29  p  compact\n",
       "2 audi         a4         1.8   1999 4   manual(m5) f   21  29  p  compact\n",
       "3 audi         a4         2.0   2008 4   manual(m6) f   20  31  p  compact\n",
       "4 audi         a4         2.0   2008 4   auto(av)   f   21  30  p  compact\n",
       "5 audi         a4         2.8   1999 6   auto(l5)   f   16  26  p  compact\n",
       "6 audi         a4         2.8   1999 6   manual(m5) f   18  26  p  compact\n",
       "7 audi         a4         3.1   2008 6   auto(av)   f   18  27  p  compact\n",
       "8 audi         a4 quattro 1.8   1999 4   manual(m5) 4   18  26  p  compact"
      ]
     },
     "metadata": {},
     "output_type": "display_data"
    }
   ],
   "source": [
    "head(mpg,8)"
   ]
  },
  {
   "cell_type": "markdown",
   "metadata": {},
   "source": [
    "### 1단계 배경 및 축설정\n",
    "* data = 데이터 셋\n",
    "* aes(x=col1, y=col2) : x축과 y축에 사용할 변수를 지정\n",
    "* displ : 배기량, hwy : 고속도로 연비"
   ]
  },
  {
   "cell_type": "code",
   "execution_count": 4,
   "metadata": {},
   "outputs": [
    {
     "data": {},
     "metadata": {},
     "output_type": "display_data"
    },
    {
     "data": {
      "image/png": "[encoded data removed]",
      "text/plain": [
       "plot without title"
      ]
     },
     "metadata": {},
     "output_type": "display_data"
    }
   ],
   "source": [
    "ggplot(data = mpg, aes(x=displ, y=hwy)) "
   ]
  },
  {
   "cell_type": "markdown",
   "metadata": {},
   "source": [
    "### 2단계 그래프 추가\n",
    "* 배경에 산점도를 추가한다. + geom_point()\n",
    "* '+' 기호를 사용하여 패키지 함수를 연결한다.\n",
    "* 산점도 위에 표시된 점은 각각의 데이터(자동차 모델을 의미)"
   ]
  },
  {
   "cell_type": "code",
   "execution_count": 5,
   "metadata": {},
   "outputs": [
    {
     "data": {},
     "metadata": {},
     "output_type": "display_data"
    },
    {
     "data": {
      "image/png": "[encoded data removed]",
      "text/plain": [
       "plot without title"
      ]
     },
     "metadata": {},
     "output_type": "display_data"
    }
   ],
   "source": [
    "ggplot(data=mpg, aes(x=displ, y=hwy)) + geom_point()"
   ]
  },
  {
   "cell_type": "markdown",
   "metadata": {},
   "source": [
    "### 3단계 축 범위를 조정하는 설정 추가\n",
    "* '+' 기호를 이용하여 그래프 설정 변경 코드 추가\n",
    "* 축범위 설정 : xlim(), ylim()\n",
    "* warning message는 105행의 데이터가 보이지 않는다는 알림."
   ]
  },
  {
   "cell_type": "code",
   "execution_count": 9,
   "metadata": {},
   "outputs": [
    {
     "name": "stderr",
     "output_type": "stream",
     "text": [
      "Warning message:\n",
      "\"Removed 105 rows containing missing values (geom_point).\""
     ]
    },
    {
     "data": {},
     "metadata": {},
     "output_type": "display_data"
    },
    {
     "data": {
      "image/png": "[encoded data removed]",
      "text/plain": [
       "plot without title"
      ]
     },
     "metadata": {},
     "output_type": "display_data"
    }
   ],
   "source": [
    "ggplot(data=mpg, aes(x=displ, y=hwy)) + geom_point() + xlim(3,6)"
   ]
  },
  {
   "cell_type": "markdown",
   "metadata": {},
   "source": [
    "### (직접해보기 01)  ylim 범위를 지정해 보자."
   ]
  },
  {
   "cell_type": "markdown",
   "metadata": {},
   "source": [
    "### 그래프를 이미지 파일로 저장해 보기\n",
    "* [Export] 버튼 선택 - [Save as Image] 선택 : 이미지 파일로 선택\n",
    "* [Export] 버튼 선택 - [Save as PDF] 선택   : PDF 포맷으로 선택\n",
    "* [Export] 버튼 선택 - [Copy to Clipboard] 선택   : 그래프를 메모리에 저장하는 기능"
   ]
  },
  {
   "cell_type": "markdown",
   "metadata": {},
   "source": [
    "<img src=\"img/02_01_graph01.png\">"
   ]
  },
  {
   "cell_type": "markdown",
   "metadata": {},
   "source": [
    "### qplot() vs ggplot()\n",
    "* qplot()은 기능은 상대적으로 적지만 문법이 간단하여 주로 전처리 단계에서 빠르게 데이터 확인 용도로 사용\n",
    "* ggplot() 분석 결과를 보고하기 위해 그래프를 만들 때는 ggplot()을 사용"
   ]
  },
  {
   "cell_type": "markdown",
   "metadata": {},
   "source": [
    "### (실습2-1)\n",
    "* mpg 데이터 셋의 cty(도시 연비)와 hwy(고속도로 연비)간의 관계를 알아보기 위해 산점도를 그려보자.\n",
    "* midwest(데이터 셋)의 전체인구와 아시아 인구간의 어떤 관계가 있는지 알아보자.\n",
    "  * poptotal(전체인구), popwhite(백인 인구)\n",
    "  * 전체인구는 50만명 이하, 백인 인구는 8만명 이하인 지역만 설정."
   ]
  },
  {
   "cell_type": "code",
   "execution_count": 10,
   "metadata": {},
   "outputs": [
    {
     "data": {
      "text/html": [
       "<table>\n",
       "<thead><tr><th scope=col>PID</th><th scope=col>county</th><th scope=col>state</th><th scope=col>area</th><th scope=col>poptotal</th><th scope=col>popdensity</th><th scope=col>popwhite</th><th scope=col>popblack</th><th scope=col>popamerindian</th><th scope=col>popasian</th><th scope=col>...</th><th scope=col>percollege</th><th scope=col>percprof</th><th scope=col>poppovertyknown</th><th scope=col>percpovertyknown</th><th scope=col>percbelowpoverty</th><th scope=col>percchildbelowpovert</th><th scope=col>percadultpoverty</th><th scope=col>percelderlypoverty</th><th scope=col>inmetro</th><th scope=col>category</th></tr></thead>\n",
       "<tbody>\n",
       "\t<tr><td>561      </td><td>ADAMS    </td><td>IL       </td><td>0.052    </td><td>66090    </td><td>1270.9615</td><td>63917    </td><td>1702     </td><td>98       </td><td>249      </td><td>...      </td><td>19.63139 </td><td>4.355859 </td><td>63628    </td><td>96.27478 </td><td>13.151443</td><td>18.01172 </td><td>11.009776</td><td>12.443812</td><td>0        </td><td>AAR      </td></tr>\n",
       "\t<tr><td>562      </td><td>ALEXANDER</td><td>IL       </td><td>0.014    </td><td>10626    </td><td> 759.0000</td><td> 7054    </td><td>3496     </td><td>19       </td><td> 48      </td><td>...      </td><td>11.24331 </td><td>2.870315 </td><td>10529    </td><td>99.08714 </td><td>32.244278</td><td>45.82651 </td><td>27.385647</td><td>25.228976</td><td>0        </td><td>LHR      </td></tr>\n",
       "\t<tr><td>563      </td><td>BOND     </td><td>IL       </td><td>0.022    </td><td>14991    </td><td> 681.4091</td><td>14477    </td><td> 429     </td><td>35       </td><td> 16      </td><td>...      </td><td>17.03382 </td><td>4.488572 </td><td>14235    </td><td>94.95697 </td><td>12.068844</td><td>14.03606 </td><td>10.852090</td><td>12.697410</td><td>0        </td><td>AAR      </td></tr>\n",
       "\t<tr><td>564      </td><td>BOONE    </td><td>IL       </td><td>0.017    </td><td>30806    </td><td>1812.1176</td><td>29344    </td><td> 127     </td><td>46       </td><td>150      </td><td>...      </td><td>17.27895 </td><td>4.197800 </td><td>30337    </td><td>98.47757 </td><td> 7.209019</td><td>11.17954 </td><td> 5.536013</td><td> 6.217047</td><td>1        </td><td>ALU      </td></tr>\n",
       "\t<tr><td>565      </td><td>BROWN    </td><td>IL       </td><td>0.018    </td><td> 5836    </td><td> 324.2222</td><td> 5264    </td><td> 547     </td><td>14       </td><td>  5      </td><td>...      </td><td>14.47600 </td><td>3.367680 </td><td> 4815    </td><td>82.50514 </td><td>13.520249</td><td>13.02289 </td><td>11.143211</td><td>19.200000</td><td>0        </td><td>AAR      </td></tr>\n",
       "\t<tr><td>566      </td><td>BUREAU   </td><td>IL       </td><td>0.050    </td><td>35688    </td><td> 713.7600</td><td>35157    </td><td>  50     </td><td>65       </td><td>195      </td><td>...      </td><td>18.90462 </td><td>3.275891 </td><td>35107    </td><td>98.37200 </td><td>10.399635</td><td>14.15882 </td><td> 8.179287</td><td>11.008586</td><td>0        </td><td>AAR      </td></tr>\n",
       "</tbody>\n",
       "</table>\n"
      ],
      "text/latex": [
       "\\begin{tabular}{r|llllllllllllllllllllllllllll}\n",
       " PID & county & state & area & poptotal & popdensity & popwhite & popblack & popamerindian & popasian & ... & percollege & percprof & poppovertyknown & percpovertyknown & percbelowpoverty & percchildbelowpovert & percadultpoverty & percelderlypoverty & inmetro & category\\\\\n",
       "\\hline\n",
       "\t 561       & ADAMS     & IL        & 0.052     & 66090     & 1270.9615 & 63917     & 1702      & 98        & 249       & ...       & 19.63139  & 4.355859  & 63628     & 96.27478  & 13.151443 & 18.01172  & 11.009776 & 12.443812 & 0         & AAR      \\\\\n",
       "\t 562       & ALEXANDER & IL        & 0.014     & 10626     &  759.0000 &  7054     & 3496      & 19        &  48       & ...       & 11.24331  & 2.870315  & 10529     & 99.08714  & 32.244278 & 45.82651  & 27.385647 & 25.228976 & 0         & LHR      \\\\\n",
       "\t 563       & BOND      & IL        & 0.022     & 14991     &  681.4091 & 14477     &  429      & 35        &  16       & ...       & 17.03382  & 4.488572  & 14235     & 94.95697  & 12.068844 & 14.03606  & 10.852090 & 12.697410 & 0         & AAR      \\\\\n",
       "\t 564       & BOONE     & IL        & 0.017     & 30806     & 1812.1176 & 29344     &  127      & 46        & 150       & ...       & 17.27895  & 4.197800  & 30337     & 98.47757  &  7.209019 & 11.17954  &  5.536013 &  6.217047 & 1         & ALU      \\\\\n",
       "\t 565       & BROWN     & IL        & 0.018     &  5836     &  324.2222 &  5264     &  547      & 14        &   5       & ...       & 14.47600  & 3.367680  &  4815     & 82.50514  & 13.520249 & 13.02289  & 11.143211 & 19.200000 & 0         & AAR      \\\\\n",
       "\t 566       & BUREAU    & IL        & 0.050     & 35688     &  713.7600 & 35157     &   50      & 65        & 195       & ...       & 18.90462  & 3.275891  & 35107     & 98.37200  & 10.399635 & 14.15882  &  8.179287 & 11.008586 & 0         & AAR      \\\\\n",
       "\\end{tabular}\n"
      ],
      "text/markdown": [
       "\n",
       "PID | county | state | area | poptotal | popdensity | popwhite | popblack | popamerindian | popasian | ... | percollege | percprof | poppovertyknown | percpovertyknown | percbelowpoverty | percchildbelowpovert | percadultpoverty | percelderlypoverty | inmetro | category | \n",
       "|---|---|---|---|---|---|\n",
       "| 561       | ADAMS     | IL        | 0.052     | 66090     | 1270.9615 | 63917     | 1702      | 98        | 249       | ...       | 19.63139  | 4.355859  | 63628     | 96.27478  | 13.151443 | 18.01172  | 11.009776 | 12.443812 | 0         | AAR       | \n",
       "| 562       | ALEXANDER | IL        | 0.014     | 10626     |  759.0000 |  7054     | 3496      | 19        |  48       | ...       | 11.24331  | 2.870315  | 10529     | 99.08714  | 32.244278 | 45.82651  | 27.385647 | 25.228976 | 0         | LHR       | \n",
       "| 563       | BOND      | IL        | 0.022     | 14991     |  681.4091 | 14477     |  429      | 35        |  16       | ...       | 17.03382  | 4.488572  | 14235     | 94.95697  | 12.068844 | 14.03606  | 10.852090 | 12.697410 | 0         | AAR       | \n",
       "| 564       | BOONE     | IL        | 0.017     | 30806     | 1812.1176 | 29344     |  127      | 46        | 150       | ...       | 17.27895  | 4.197800  | 30337     | 98.47757  |  7.209019 | 11.17954  |  5.536013 |  6.217047 | 1         | ALU       | \n",
       "| 565       | BROWN     | IL        | 0.018     |  5836     |  324.2222 |  5264     |  547      | 14        |   5       | ...       | 14.47600  | 3.367680  |  4815     | 82.50514  | 13.520249 | 13.02289  | 11.143211 | 19.200000 | 0         | AAR       | \n",
       "| 566       | BUREAU    | IL        | 0.050     | 35688     |  713.7600 | 35157     |   50      | 65        | 195       | ...       | 18.90462  | 3.275891  | 35107     | 98.37200  | 10.399635 | 14.15882  |  8.179287 | 11.008586 | 0         | AAR       | \n",
       "\n",
       "\n"
      ],
      "text/plain": [
       "  PID county    state area  poptotal popdensity popwhite popblack popamerindian\n",
       "1 561 ADAMS     IL    0.052 66090    1270.9615  63917    1702     98           \n",
       "2 562 ALEXANDER IL    0.014 10626     759.0000   7054    3496     19           \n",
       "3 563 BOND      IL    0.022 14991     681.4091  14477     429     35           \n",
       "4 564 BOONE     IL    0.017 30806    1812.1176  29344     127     46           \n",
       "5 565 BROWN     IL    0.018  5836     324.2222   5264     547     14           \n",
       "6 566 BUREAU    IL    0.050 35688     713.7600  35157      50     65           \n",
       "  popasian ... percollege percprof poppovertyknown percpovertyknown\n",
       "1 249      ... 19.63139   4.355859 63628           96.27478        \n",
       "2  48      ... 11.24331   2.870315 10529           99.08714        \n",
       "3  16      ... 17.03382   4.488572 14235           94.95697        \n",
       "4 150      ... 17.27895   4.197800 30337           98.47757        \n",
       "5   5      ... 14.47600   3.367680  4815           82.50514        \n",
       "6 195      ... 18.90462   3.275891 35107           98.37200        \n",
       "  percbelowpoverty percchildbelowpovert percadultpoverty percelderlypoverty\n",
       "1 13.151443        18.01172             11.009776        12.443812         \n",
       "2 32.244278        45.82651             27.385647        25.228976         \n",
       "3 12.068844        14.03606             10.852090        12.697410         \n",
       "4  7.209019        11.17954              5.536013         6.217047         \n",
       "5 13.520249        13.02289             11.143211        19.200000         \n",
       "6 10.399635        14.15882              8.179287        11.008586         \n",
       "  inmetro category\n",
       "1 0       AAR     \n",
       "2 0       LHR     \n",
       "3 0       AAR     \n",
       "4 1       ALU     \n",
       "5 0       AAR     \n",
       "6 0       AAR     "
      ]
     },
     "metadata": {},
     "output_type": "display_data"
    }
   ],
   "source": [
    "head(midwest)          "
   ]
  },
  {
   "cell_type": "code",
   "execution_count": 11,
   "metadata": {},
   "outputs": [
    {
     "data": {
      "text/plain": [
       "      PID          county             state                area        \n",
       " Min.   : 561   Length:437         Length:437         Min.   :0.00500  \n",
       " 1st Qu.: 670   Class :character   Class :character   1st Qu.:0.02400  \n",
       " Median :1221   Mode  :character   Mode  :character   Median :0.03000  \n",
       " Mean   :1437                                         Mean   :0.03317  \n",
       " 3rd Qu.:2059                                         3rd Qu.:0.03800  \n",
       " Max.   :3052                                         Max.   :0.11000  \n",
       "    poptotal         popdensity          popwhite          popblack      \n",
       " Min.   :   1701   Min.   :   85.05   Min.   :    416   Min.   :      0  \n",
       " 1st Qu.:  18840   1st Qu.:  622.41   1st Qu.:  18630   1st Qu.:     29  \n",
       " Median :  35324   Median : 1156.21   Median :  34471   Median :    201  \n",
       " Mean   :  96130   Mean   : 3097.74   Mean   :  81840   Mean   :  11024  \n",
       " 3rd Qu.:  75651   3rd Qu.: 2330.00   3rd Qu.:  72968   3rd Qu.:   1291  \n",
       " Max.   :5105067   Max.   :88018.40   Max.   :3204947   Max.   :1317147  \n",
       " popamerindian        popasian         popother        percwhite    \n",
       " Min.   :    4.0   Min.   :     0   Min.   :     0   Min.   :10.69  \n",
       " 1st Qu.:   44.0   1st Qu.:    35   1st Qu.:    20   1st Qu.:94.89  \n",
       " Median :   94.0   Median :   102   Median :    66   Median :98.03  \n",
       " Mean   :  343.1   Mean   :  1310   Mean   :  1613   Mean   :95.56  \n",
       " 3rd Qu.:  288.0   3rd Qu.:   401   3rd Qu.:   345   3rd Qu.:99.07  \n",
       " Max.   :10289.0   Max.   :188565   Max.   :384119   Max.   :99.82  \n",
       "   percblack       percamerindan        percasian        percother      \n",
       " Min.   : 0.0000   Min.   : 0.05623   Min.   :0.0000   Min.   :0.00000  \n",
       " 1st Qu.: 0.1157   1st Qu.: 0.15793   1st Qu.:0.1737   1st Qu.:0.09102  \n",
       " Median : 0.5390   Median : 0.21502   Median :0.2972   Median :0.17844  \n",
       " Mean   : 2.6763   Mean   : 0.79894   Mean   :0.4872   Mean   :0.47906  \n",
       " 3rd Qu.: 2.6014   3rd Qu.: 0.38362   3rd Qu.:0.5212   3rd Qu.:0.48050  \n",
       " Max.   :40.2100   Max.   :89.17738   Max.   :5.0705   Max.   :7.52427  \n",
       "   popadults          perchsd        percollege        percprof      \n",
       " Min.   :   1287   Min.   :46.91   Min.   : 7.336   Min.   : 0.5203  \n",
       " 1st Qu.:  12271   1st Qu.:71.33   1st Qu.:14.114   1st Qu.: 2.9980  \n",
       " Median :  22188   Median :74.25   Median :16.798   Median : 3.8142  \n",
       " Mean   :  60973   Mean   :73.97   Mean   :18.273   Mean   : 4.4473  \n",
       " 3rd Qu.:  47541   3rd Qu.:77.20   3rd Qu.:20.550   3rd Qu.: 4.9493  \n",
       " Max.   :3291995   Max.   :88.90   Max.   :48.079   Max.   :20.7913  \n",
       " poppovertyknown   percpovertyknown percbelowpoverty percchildbelowpovert\n",
       " Min.   :   1696   Min.   :80.90    Min.   : 2.180   Min.   : 1.919      \n",
       " 1st Qu.:  18364   1st Qu.:96.89    1st Qu.: 9.199   1st Qu.:11.624      \n",
       " Median :  33788   Median :98.17    Median :11.822   Median :15.270      \n",
       " Mean   :  93642   Mean   :97.11    Mean   :12.511   Mean   :16.447      \n",
       " 3rd Qu.:  72840   3rd Qu.:98.60    3rd Qu.:15.133   3rd Qu.:20.352      \n",
       " Max.   :5023523   Max.   :99.86    Max.   :48.691   Max.   :64.308      \n",
       " percadultpoverty percelderlypoverty    inmetro         category        \n",
       " Min.   : 1.938   Min.   : 3.547     Min.   :0.0000   Length:437        \n",
       " 1st Qu.: 7.668   1st Qu.: 8.912     1st Qu.:0.0000   Class :character  \n",
       " Median :10.008   Median :10.869     Median :0.0000   Mode  :character  \n",
       " Mean   :10.919   Mean   :11.389     Mean   :0.3432                     \n",
       " 3rd Qu.:13.182   3rd Qu.:13.412     3rd Qu.:1.0000                     \n",
       " Max.   :43.312   Max.   :31.162     Max.   :1.0000                     "
      ]
     },
     "metadata": {},
     "output_type": "display_data"
    }
   ],
   "source": [
    "summary(midwest)"
   ]
  },
  {
   "cell_type": "code",
   "execution_count": 13,
   "metadata": {},
   "outputs": [
    {
     "name": "stderr",
     "output_type": "stream",
     "text": [
      "Warning message:\n",
      "\"Removed 98 rows containing missing values (geom_point).\""
     ]
    },
    {
     "data": {},
     "metadata": {},
     "output_type": "display_data"
    },
    {
     "data": {
      "image/png": "[encoded data removed]",
      "text/plain": [
       "plot without title"
      ]
     },
     "metadata": {},
     "output_type": "display_data"
    }
   ],
   "source": [
    "ggplot(data=midwest, aes(x=poptotal, y=popwhite)) + \n",
    "    geom_point() + \n",
    "    xlim(0, 500000) + \n",
    "    ylim(0, 80000)"
   ]
  },
  {
   "cell_type": "markdown",
   "metadata": {},
   "source": [
    "### REF\n",
    "* The R Graph Gallery : https://www.r-graph-gallery.com/"
   ]
  },
  {
   "cell_type": "markdown",
   "metadata": {},
   "source": [
    "<font size=2> Copyright 2019 LIM Co.(예영Edu Co.) all rights reserved. </font><br>\n",
    "<font size=2> 교육용으로 작성된 것으로 배포 및 복제시에 사전 허가가 필요합니다.</font>"
   ]
  }
 ],
 "metadata": {
  "kernelspec": {
   "display_name": "R",
   "language": "R",
   "name": "ir"
  },
  "language_info": {
   "codemirror_mode": "r",
   "file_extension": ".r",
   "mimetype": "text/x-r-source",
   "name": "R",
   "pygments_lexer": "r",
   "version": "3.5.1"
  }
 },
 "nbformat": 4,
 "nbformat_minor": 2
}
