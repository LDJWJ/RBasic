{
 "cells": [
  {
   "cell_type": "markdown",
   "metadata": {},
   "source": [
    "## 05 dplyr를 이용한 데이터 처리"
   ]
  },
  {
   "cell_type": "markdown",
   "metadata": {},
   "source": [
    "### 학습내용\n",
    "* dplyr 패키지의 함수를 알아보기"
   ]
  },
  {
   "cell_type": "markdown",
   "metadata": {},
   "source": [
    "| 함수 | 설명 | \n",
    "|:--------:|:--------:|\n",
    "| filter() | 행 추출 | \n",
    "| select() | 열(변수) 추출 |\n",
    "| arrange() | 정렬 | \n",
    "| mutate() | 변수(variable) 추가 | \n",
    "| summarise() | 통계치 산출 | \n",
    "| group_by() | 집단별로 나누기  |\n",
    "| left_join() | 데이터 합치기(열) | \n",
    "| bind_rows() | 데이터 합치기(행) | "
   ]
  },
  {
   "cell_type": "code",
   "execution_count": 78,
   "metadata": {},
   "outputs": [
    {
     "data": {
      "text/html": [
       "<table>\n",
       "<thead><tr><th scope=col>PassengerId</th><th scope=col>Survived</th><th scope=col>Pclass</th><th scope=col>Name</th><th scope=col>Sex</th><th scope=col>Age</th><th scope=col>SibSp</th><th scope=col>Parch</th><th scope=col>Ticket</th><th scope=col>Fare</th><th scope=col>Cabin</th><th scope=col>Embarked</th></tr></thead>\n",
       "<tbody>\n",
       "\t<tr><td> 1                                                 </td><td>0                                                  </td><td>3                                                  </td><td>Braund, Mr. Owen Harris                            </td><td>male                                               </td><td>22                                                 </td><td>1                                                  </td><td>0                                                  </td><td>A/5 21171                                          </td><td> 7.2500                                            </td><td>NA                                                 </td><td>S                                                  </td></tr>\n",
       "\t<tr><td> 2                                                 </td><td>1                                                  </td><td>1                                                  </td><td>Cumings, Mrs. John Bradley (Florence Briggs Thayer)</td><td>female                                             </td><td>38                                                 </td><td>1                                                  </td><td>0                                                  </td><td>PC 17599                                           </td><td>71.2833                                            </td><td>C85                                                </td><td>C                                                  </td></tr>\n",
       "\t<tr><td> 3                                                 </td><td>1                                                  </td><td>3                                                  </td><td>Heikkinen, Miss. Laina                             </td><td>female                                             </td><td>26                                                 </td><td>0                                                  </td><td>0                                                  </td><td>STON/O2. 3101282                                   </td><td> 7.9250                                            </td><td>NA                                                 </td><td>S                                                  </td></tr>\n",
       "\t<tr><td> 4                                                 </td><td>1                                                  </td><td>1                                                  </td><td>Futrelle, Mrs. Jacques Heath (Lily May Peel)       </td><td>female                                             </td><td>35                                                 </td><td>1                                                  </td><td>0                                                  </td><td>113803                                             </td><td>53.1000                                            </td><td>C123                                               </td><td>S                                                  </td></tr>\n",
       "\t<tr><td> 5                                                 </td><td>0                                                  </td><td>3                                                  </td><td>Allen, Mr. William Henry                           </td><td>male                                               </td><td>35                                                 </td><td>0                                                  </td><td>0                                                  </td><td>373450                                             </td><td> 8.0500                                            </td><td>NA                                                 </td><td>S                                                  </td></tr>\n",
       "\t<tr><td> 6                                                 </td><td>0                                                  </td><td>3                                                  </td><td>Moran, Mr. James                                   </td><td>male                                               </td><td>29                                                 </td><td>0                                                  </td><td>0                                                  </td><td>330877                                             </td><td> 8.4583                                            </td><td>NA                                                 </td><td>Q                                                  </td></tr>\n",
       "\t<tr><td> 7                                                 </td><td>0                                                  </td><td>1                                                  </td><td>McCarthy, Mr. Timothy J                            </td><td>male                                               </td><td>54                                                 </td><td>0                                                  </td><td>0                                                  </td><td>17463                                              </td><td>51.8625                                            </td><td>E46                                                </td><td>S                                                  </td></tr>\n",
       "\t<tr><td> 8                                                 </td><td>0                                                  </td><td>3                                                  </td><td>Palsson, Master. Gosta Leonard                     </td><td>male                                               </td><td> 2                                                 </td><td>3                                                  </td><td>1                                                  </td><td>349909                                             </td><td>21.0750                                            </td><td>NA                                                 </td><td>S                                                  </td></tr>\n",
       "\t<tr><td> 9                                                 </td><td>1                                                  </td><td>3                                                  </td><td>Johnson, Mrs. Oscar W (Elisabeth Vilhelmina Berg)  </td><td>female                                             </td><td>27                                                 </td><td>0                                                  </td><td>2                                                  </td><td>347742                                             </td><td>11.1333                                            </td><td>NA                                                 </td><td>S                                                  </td></tr>\n",
       "\t<tr><td>10                                                 </td><td>1                                                  </td><td>2                                                  </td><td>Nasser, Mrs. Nicholas (Adele Achem)                </td><td>female                                             </td><td>14                                                 </td><td>1                                                  </td><td>0                                                  </td><td>237736                                             </td><td>30.0708                                            </td><td>NA                                                 </td><td>C                                                  </td></tr>\n",
       "</tbody>\n",
       "</table>\n"
      ],
      "text/latex": [
       "\\begin{tabular}{r|llllllllllll}\n",
       " PassengerId & Survived & Pclass & Name & Sex & Age & SibSp & Parch & Ticket & Fare & Cabin & Embarked\\\\\n",
       "\\hline\n",
       "\t  1                                                  & 0                                                   & 3                                                   & Braund, Mr. Owen Harris                             & male                                                & 22                                                  & 1                                                   & 0                                                   & A/5 21171                                           &  7.2500                                             & NA                                                  & S                                                  \\\\\n",
       "\t  2                                                  & 1                                                   & 1                                                   & Cumings, Mrs. John Bradley (Florence Briggs Thayer) & female                                              & 38                                                  & 1                                                   & 0                                                   & PC 17599                                            & 71.2833                                             & C85                                                 & C                                                  \\\\\n",
       "\t  3                                                  & 1                                                   & 3                                                   & Heikkinen, Miss. Laina                              & female                                              & 26                                                  & 0                                                   & 0                                                   & STON/O2. 3101282                                    &  7.9250                                             & NA                                                  & S                                                  \\\\\n",
       "\t  4                                                  & 1                                                   & 1                                                   & Futrelle, Mrs. Jacques Heath (Lily May Peel)        & female                                              & 35                                                  & 1                                                   & 0                                                   & 113803                                              & 53.1000                                             & C123                                                & S                                                  \\\\\n",
       "\t  5                                                  & 0                                                   & 3                                                   & Allen, Mr. William Henry                            & male                                                & 35                                                  & 0                                                   & 0                                                   & 373450                                              &  8.0500                                             & NA                                                  & S                                                  \\\\\n",
       "\t  6                                                  & 0                                                   & 3                                                   & Moran, Mr. James                                    & male                                                & 29                                                  & 0                                                   & 0                                                   & 330877                                              &  8.4583                                             & NA                                                  & Q                                                  \\\\\n",
       "\t  7                                                  & 0                                                   & 1                                                   & McCarthy, Mr. Timothy J                             & male                                                & 54                                                  & 0                                                   & 0                                                   & 17463                                               & 51.8625                                             & E46                                                 & S                                                  \\\\\n",
       "\t  8                                                  & 0                                                   & 3                                                   & Palsson, Master. Gosta Leonard                      & male                                                &  2                                                  & 3                                                   & 1                                                   & 349909                                              & 21.0750                                             & NA                                                  & S                                                  \\\\\n",
       "\t  9                                                  & 1                                                   & 3                                                   & Johnson, Mrs. Oscar W (Elisabeth Vilhelmina Berg)   & female                                              & 27                                                  & 0                                                   & 2                                                   & 347742                                              & 11.1333                                             & NA                                                  & S                                                  \\\\\n",
       "\t 10                                                  & 1                                                   & 2                                                   & Nasser, Mrs. Nicholas (Adele Achem)                 & female                                              & 14                                                  & 1                                                   & 0                                                   & 237736                                              & 30.0708                                             & NA                                                  & C                                                  \\\\\n",
       "\\end{tabular}\n"
      ],
      "text/markdown": [
       "\n",
       "PassengerId | Survived | Pclass | Name | Sex | Age | SibSp | Parch | Ticket | Fare | Cabin | Embarked | \n",
       "|---|---|---|---|---|---|---|---|---|---|\n",
       "|  1                                                  | 0                                                   | 3                                                   | Braund, Mr. Owen Harris                             | male                                                | 22                                                  | 1                                                   | 0                                                   | A/5 21171                                           |  7.2500                                             | NA                                                  | S                                                   | \n",
       "|  2                                                  | 1                                                   | 1                                                   | Cumings, Mrs. John Bradley (Florence Briggs Thayer) | female                                              | 38                                                  | 1                                                   | 0                                                   | PC 17599                                            | 71.2833                                             | C85                                                 | C                                                   | \n",
       "|  3                                                  | 1                                                   | 3                                                   | Heikkinen, Miss. Laina                              | female                                              | 26                                                  | 0                                                   | 0                                                   | STON/O2. 3101282                                    |  7.9250                                             | NA                                                  | S                                                   | \n",
       "|  4                                                  | 1                                                   | 1                                                   | Futrelle, Mrs. Jacques Heath (Lily May Peel)        | female                                              | 35                                                  | 1                                                   | 0                                                   | 113803                                              | 53.1000                                             | C123                                                | S                                                   | \n",
       "|  5                                                  | 0                                                   | 3                                                   | Allen, Mr. William Henry                            | male                                                | 35                                                  | 0                                                   | 0                                                   | 373450                                              |  8.0500                                             | NA                                                  | S                                                   | \n",
       "|  6                                                  | 0                                                   | 3                                                   | Moran, Mr. James                                    | male                                                | 29                                                  | 0                                                   | 0                                                   | 330877                                              |  8.4583                                             | NA                                                  | Q                                                   | \n",
       "|  7                                                  | 0                                                   | 1                                                   | McCarthy, Mr. Timothy J                             | male                                                | 54                                                  | 0                                                   | 0                                                   | 17463                                               | 51.8625                                             | E46                                                 | S                                                   | \n",
       "|  8                                                  | 0                                                   | 3                                                   | Palsson, Master. Gosta Leonard                      | male                                                |  2                                                  | 3                                                   | 1                                                   | 349909                                              | 21.0750                                             | NA                                                  | S                                                   | \n",
       "|  9                                                  | 1                                                   | 3                                                   | Johnson, Mrs. Oscar W (Elisabeth Vilhelmina Berg)   | female                                              | 27                                                  | 0                                                   | 2                                                   | 347742                                              | 11.1333                                             | NA                                                  | S                                                   | \n",
       "| 10                                                  | 1                                                   | 2                                                   | Nasser, Mrs. Nicholas (Adele Achem)                 | female                                              | 14                                                  | 1                                                   | 0                                                   | 237736                                              | 30.0708                                             | NA                                                  | C                                                   | \n",
       "\n",
       "\n"
      ],
      "text/plain": [
       "   PassengerId Survived Pclass\n",
       "1   1          0        3     \n",
       "2   2          1        1     \n",
       "3   3          1        3     \n",
       "4   4          1        1     \n",
       "5   5          0        3     \n",
       "6   6          0        3     \n",
       "7   7          0        1     \n",
       "8   8          0        3     \n",
       "9   9          1        3     \n",
       "10 10          1        2     \n",
       "   Name                                                Sex    Age SibSp Parch\n",
       "1  Braund, Mr. Owen Harris                             male   22  1     0    \n",
       "2  Cumings, Mrs. John Bradley (Florence Briggs Thayer) female 38  1     0    \n",
       "3  Heikkinen, Miss. Laina                              female 26  0     0    \n",
       "4  Futrelle, Mrs. Jacques Heath (Lily May Peel)        female 35  1     0    \n",
       "5  Allen, Mr. William Henry                            male   35  0     0    \n",
       "6  Moran, Mr. James                                    male   29  0     0    \n",
       "7  McCarthy, Mr. Timothy J                             male   54  0     0    \n",
       "8  Palsson, Master. Gosta Leonard                      male    2  3     1    \n",
       "9  Johnson, Mrs. Oscar W (Elisabeth Vilhelmina Berg)   female 27  0     2    \n",
       "10 Nasser, Mrs. Nicholas (Adele Achem)                 female 14  1     0    \n",
       "   Ticket           Fare    Cabin Embarked\n",
       "1  A/5 21171         7.2500 NA    S       \n",
       "2  PC 17599         71.2833 C85   C       \n",
       "3  STON/O2. 3101282  7.9250 NA    S       \n",
       "4  113803           53.1000 C123  S       \n",
       "5  373450            8.0500 NA    S       \n",
       "6  330877            8.4583 NA    Q       \n",
       "7  17463            51.8625 E46   S       \n",
       "8  349909           21.0750 NA    S       \n",
       "9  347742           11.1333 NA    S       \n",
       "10 237736           30.0708 NA    C       "
      ]
     },
     "metadata": {},
     "output_type": "display_data"
    }
   ],
   "source": [
    "library(dplyr)\n",
    "titanic <- read.csv(\"D:\\\\dataset\\\\titanic_data\\\\tr_mod.csv\")\n",
    "head(titanic,10)"
   ]
  },
  {
   "cell_type": "code",
   "execution_count": 79,
   "metadata": {},
   "outputs": [
    {
     "data": {
      "text/html": [
       "<ol class=list-inline>\n",
       "\t<li>'PassengerId'</li>\n",
       "\t<li>'Survived'</li>\n",
       "\t<li>'Pclass'</li>\n",
       "\t<li>'Name'</li>\n",
       "\t<li>'Sex'</li>\n",
       "\t<li>'Age'</li>\n",
       "\t<li>'SibSp'</li>\n",
       "\t<li>'Parch'</li>\n",
       "\t<li>'Ticket'</li>\n",
       "\t<li>'Fare'</li>\n",
       "\t<li>'Cabin'</li>\n",
       "\t<li>'Embarked'</li>\n",
       "</ol>\n"
      ],
      "text/latex": [
       "\\begin{enumerate*}\n",
       "\\item 'PassengerId'\n",
       "\\item 'Survived'\n",
       "\\item 'Pclass'\n",
       "\\item 'Name'\n",
       "\\item 'Sex'\n",
       "\\item 'Age'\n",
       "\\item 'SibSp'\n",
       "\\item 'Parch'\n",
       "\\item 'Ticket'\n",
       "\\item 'Fare'\n",
       "\\item 'Cabin'\n",
       "\\item 'Embarked'\n",
       "\\end{enumerate*}\n"
      ],
      "text/markdown": [
       "1. 'PassengerId'\n",
       "2. 'Survived'\n",
       "3. 'Pclass'\n",
       "4. 'Name'\n",
       "5. 'Sex'\n",
       "6. 'Age'\n",
       "7. 'SibSp'\n",
       "8. 'Parch'\n",
       "9. 'Ticket'\n",
       "10. 'Fare'\n",
       "11. 'Cabin'\n",
       "12. 'Embarked'\n",
       "\n",
       "\n"
      ],
      "text/plain": [
       " [1] \"PassengerId\" \"Survived\"    \"Pclass\"      \"Name\"        \"Sex\"        \n",
       " [6] \"Age\"         \"SibSp\"       \"Parch\"       \"Ticket\"      \"Fare\"       \n",
       "[11] \"Cabin\"       \"Embarked\"   "
      ]
     },
     "metadata": {},
     "output_type": "display_data"
    }
   ],
   "source": [
    "names(titanic)"
   ]
  },
  {
   "cell_type": "code",
   "execution_count": 80,
   "metadata": {},
   "outputs": [
    {
     "data": {
      "text/plain": [
       "\n",
       "  1   2   3 \n",
       "216 184 491 "
      ]
     },
     "metadata": {},
     "output_type": "display_data"
    }
   ],
   "source": [
    "table(titanic$Pclass) "
   ]
  },
  {
   "cell_type": "markdown",
   "metadata": {},
   "source": [
    "### titanic에서 Pclass가 1인 값만 가져오기\n",
    "* filter(조건)\n",
    "* titanic %>% filter(Pclass==1)"
   ]
  },
  {
   "cell_type": "code",
   "execution_count": 81,
   "metadata": {},
   "outputs": [
    {
     "data": {
      "text/html": [
       "<table>\n",
       "<thead><tr><th scope=col>PassengerId</th><th scope=col>Survived</th><th scope=col>Pclass</th><th scope=col>Name</th><th scope=col>Sex</th><th scope=col>Age</th><th scope=col>SibSp</th><th scope=col>Parch</th><th scope=col>Ticket</th><th scope=col>Fare</th><th scope=col>Cabin</th><th scope=col>Embarked</th></tr></thead>\n",
       "<tbody>\n",
       "\t<tr><td> 2                                                 </td><td>1                                                  </td><td>1                                                  </td><td>Cumings, Mrs. John Bradley (Florence Briggs Thayer)</td><td>female                                             </td><td>38                                                 </td><td>1                                                  </td><td>0                                                  </td><td>PC 17599                                           </td><td> 71.2833                                           </td><td>C85                                                </td><td>C                                                  </td></tr>\n",
       "\t<tr><td> 4                                                 </td><td>1                                                  </td><td>1                                                  </td><td>Futrelle, Mrs. Jacques Heath (Lily May Peel)       </td><td>female                                             </td><td>35                                                 </td><td>1                                                  </td><td>0                                                  </td><td>113803                                             </td><td> 53.1000                                           </td><td>C123                                               </td><td>S                                                  </td></tr>\n",
       "\t<tr><td> 7                                                 </td><td>0                                                  </td><td>1                                                  </td><td>McCarthy, Mr. Timothy J                            </td><td>male                                               </td><td>54                                                 </td><td>0                                                  </td><td>0                                                  </td><td>17463                                              </td><td> 51.8625                                           </td><td>E46                                                </td><td>S                                                  </td></tr>\n",
       "\t<tr><td>12                                                 </td><td>1                                                  </td><td>1                                                  </td><td>Bonnell, Miss. Elizabeth                           </td><td>female                                             </td><td>58                                                 </td><td>0                                                  </td><td>0                                                  </td><td>113783                                             </td><td> 26.5500                                           </td><td>C103                                               </td><td>S                                                  </td></tr>\n",
       "\t<tr><td>24                                                 </td><td>1                                                  </td><td>1                                                  </td><td>Sloper, Mr. William Thompson                       </td><td>male                                               </td><td>28                                                 </td><td>0                                                  </td><td>0                                                  </td><td>113788                                             </td><td> 35.5000                                           </td><td>A6                                                 </td><td>S                                                  </td></tr>\n",
       "\t<tr><td>28                                                 </td><td>0                                                  </td><td>1                                                  </td><td>Fortune, Mr. Charles Alexander                     </td><td>male                                               </td><td>19                                                 </td><td>3                                                  </td><td>2                                                  </td><td>19950                                              </td><td>263.0000                                           </td><td>C23 C25 C27                                        </td><td>S                                                  </td></tr>\n",
       "\t<tr><td>31                                                 </td><td>0                                                  </td><td>1                                                  </td><td>Uruchurtu, Don. Manuel E                           </td><td>male                                               </td><td>40                                                 </td><td>0                                                  </td><td>0                                                  </td><td>PC 17601                                           </td><td> 27.7208                                           </td><td>NA                                                 </td><td>C                                                  </td></tr>\n",
       "\t<tr><td>32                                                 </td><td>1                                                  </td><td>1                                                  </td><td>Spencer, Mrs. William Augustus (Marie Eugenie)     </td><td>female                                             </td><td>29                                                 </td><td>1                                                  </td><td>0                                                  </td><td>PC 17569                                           </td><td>146.5208                                           </td><td>B78                                                </td><td>C                                                  </td></tr>\n",
       "\t<tr><td>35                                                 </td><td>0                                                  </td><td>1                                                  </td><td>Meyer, Mr. Edgar Joseph                            </td><td>male                                               </td><td>28                                                 </td><td>1                                                  </td><td>0                                                  </td><td>PC 17604                                           </td><td> 82.1708                                           </td><td>NA                                                 </td><td>C                                                  </td></tr>\n",
       "\t<tr><td>36                                                 </td><td>0                                                  </td><td>1                                                  </td><td>Holverson, Mr. Alexander Oskar                     </td><td>male                                               </td><td>42                                                 </td><td>1                                                  </td><td>0                                                  </td><td>113789                                             </td><td> 52.0000                                           </td><td>NA                                                 </td><td>S                                                  </td></tr>\n",
       "</tbody>\n",
       "</table>\n"
      ],
      "text/latex": [
       "\\begin{tabular}{r|llllllllllll}\n",
       " PassengerId & Survived & Pclass & Name & Sex & Age & SibSp & Parch & Ticket & Fare & Cabin & Embarked\\\\\n",
       "\\hline\n",
       "\t  2                                                  & 1                                                   & 1                                                   & Cumings, Mrs. John Bradley (Florence Briggs Thayer) & female                                              & 38                                                  & 1                                                   & 0                                                   & PC 17599                                            &  71.2833                                            & C85                                                 & C                                                  \\\\\n",
       "\t  4                                                  & 1                                                   & 1                                                   & Futrelle, Mrs. Jacques Heath (Lily May Peel)        & female                                              & 35                                                  & 1                                                   & 0                                                   & 113803                                              &  53.1000                                            & C123                                                & S                                                  \\\\\n",
       "\t  7                                                  & 0                                                   & 1                                                   & McCarthy, Mr. Timothy J                             & male                                                & 54                                                  & 0                                                   & 0                                                   & 17463                                               &  51.8625                                            & E46                                                 & S                                                  \\\\\n",
       "\t 12                                                  & 1                                                   & 1                                                   & Bonnell, Miss. Elizabeth                            & female                                              & 58                                                  & 0                                                   & 0                                                   & 113783                                              &  26.5500                                            & C103                                                & S                                                  \\\\\n",
       "\t 24                                                  & 1                                                   & 1                                                   & Sloper, Mr. William Thompson                        & male                                                & 28                                                  & 0                                                   & 0                                                   & 113788                                              &  35.5000                                            & A6                                                  & S                                                  \\\\\n",
       "\t 28                                                  & 0                                                   & 1                                                   & Fortune, Mr. Charles Alexander                      & male                                                & 19                                                  & 3                                                   & 2                                                   & 19950                                               & 263.0000                                            & C23 C25 C27                                         & S                                                  \\\\\n",
       "\t 31                                                  & 0                                                   & 1                                                   & Uruchurtu, Don. Manuel E                            & male                                                & 40                                                  & 0                                                   & 0                                                   & PC 17601                                            &  27.7208                                            & NA                                                  & C                                                  \\\\\n",
       "\t 32                                                  & 1                                                   & 1                                                   & Spencer, Mrs. William Augustus (Marie Eugenie)      & female                                              & 29                                                  & 1                                                   & 0                                                   & PC 17569                                            & 146.5208                                            & B78                                                 & C                                                  \\\\\n",
       "\t 35                                                  & 0                                                   & 1                                                   & Meyer, Mr. Edgar Joseph                             & male                                                & 28                                                  & 1                                                   & 0                                                   & PC 17604                                            &  82.1708                                            & NA                                                  & C                                                  \\\\\n",
       "\t 36                                                  & 0                                                   & 1                                                   & Holverson, Mr. Alexander Oskar                      & male                                                & 42                                                  & 1                                                   & 0                                                   & 113789                                              &  52.0000                                            & NA                                                  & S                                                  \\\\\n",
       "\\end{tabular}\n"
      ],
      "text/markdown": [
       "\n",
       "PassengerId | Survived | Pclass | Name | Sex | Age | SibSp | Parch | Ticket | Fare | Cabin | Embarked | \n",
       "|---|---|---|---|---|---|---|---|---|---|\n",
       "|  2                                                  | 1                                                   | 1                                                   | Cumings, Mrs. John Bradley (Florence Briggs Thayer) | female                                              | 38                                                  | 1                                                   | 0                                                   | PC 17599                                            |  71.2833                                            | C85                                                 | C                                                   | \n",
       "|  4                                                  | 1                                                   | 1                                                   | Futrelle, Mrs. Jacques Heath (Lily May Peel)        | female                                              | 35                                                  | 1                                                   | 0                                                   | 113803                                              |  53.1000                                            | C123                                                | S                                                   | \n",
       "|  7                                                  | 0                                                   | 1                                                   | McCarthy, Mr. Timothy J                             | male                                                | 54                                                  | 0                                                   | 0                                                   | 17463                                               |  51.8625                                            | E46                                                 | S                                                   | \n",
       "| 12                                                  | 1                                                   | 1                                                   | Bonnell, Miss. Elizabeth                            | female                                              | 58                                                  | 0                                                   | 0                                                   | 113783                                              |  26.5500                                            | C103                                                | S                                                   | \n",
       "| 24                                                  | 1                                                   | 1                                                   | Sloper, Mr. William Thompson                        | male                                                | 28                                                  | 0                                                   | 0                                                   | 113788                                              |  35.5000                                            | A6                                                  | S                                                   | \n",
       "| 28                                                  | 0                                                   | 1                                                   | Fortune, Mr. Charles Alexander                      | male                                                | 19                                                  | 3                                                   | 2                                                   | 19950                                               | 263.0000                                            | C23 C25 C27                                         | S                                                   | \n",
       "| 31                                                  | 0                                                   | 1                                                   | Uruchurtu, Don. Manuel E                            | male                                                | 40                                                  | 0                                                   | 0                                                   | PC 17601                                            |  27.7208                                            | NA                                                  | C                                                   | \n",
       "| 32                                                  | 1                                                   | 1                                                   | Spencer, Mrs. William Augustus (Marie Eugenie)      | female                                              | 29                                                  | 1                                                   | 0                                                   | PC 17569                                            | 146.5208                                            | B78                                                 | C                                                   | \n",
       "| 35                                                  | 0                                                   | 1                                                   | Meyer, Mr. Edgar Joseph                             | male                                                | 28                                                  | 1                                                   | 0                                                   | PC 17604                                            |  82.1708                                            | NA                                                  | C                                                   | \n",
       "| 36                                                  | 0                                                   | 1                                                   | Holverson, Mr. Alexander Oskar                      | male                                                | 42                                                  | 1                                                   | 0                                                   | 113789                                              |  52.0000                                            | NA                                                  | S                                                   | \n",
       "\n",
       "\n"
      ],
      "text/plain": [
       "   PassengerId Survived Pclass\n",
       "1   2          1        1     \n",
       "2   4          1        1     \n",
       "3   7          0        1     \n",
       "4  12          1        1     \n",
       "5  24          1        1     \n",
       "6  28          0        1     \n",
       "7  31          0        1     \n",
       "8  32          1        1     \n",
       "9  35          0        1     \n",
       "10 36          0        1     \n",
       "   Name                                                Sex    Age SibSp Parch\n",
       "1  Cumings, Mrs. John Bradley (Florence Briggs Thayer) female 38  1     0    \n",
       "2  Futrelle, Mrs. Jacques Heath (Lily May Peel)        female 35  1     0    \n",
       "3  McCarthy, Mr. Timothy J                             male   54  0     0    \n",
       "4  Bonnell, Miss. Elizabeth                            female 58  0     0    \n",
       "5  Sloper, Mr. William Thompson                        male   28  0     0    \n",
       "6  Fortune, Mr. Charles Alexander                      male   19  3     2    \n",
       "7  Uruchurtu, Don. Manuel E                            male   40  0     0    \n",
       "8  Spencer, Mrs. William Augustus (Marie Eugenie)      female 29  1     0    \n",
       "9  Meyer, Mr. Edgar Joseph                             male   28  1     0    \n",
       "10 Holverson, Mr. Alexander Oskar                      male   42  1     0    \n",
       "   Ticket   Fare     Cabin       Embarked\n",
       "1  PC 17599  71.2833 C85         C       \n",
       "2  113803    53.1000 C123        S       \n",
       "3  17463     51.8625 E46         S       \n",
       "4  113783    26.5500 C103        S       \n",
       "5  113788    35.5000 A6          S       \n",
       "6  19950    263.0000 C23 C25 C27 S       \n",
       "7  PC 17601  27.7208 NA          C       \n",
       "8  PC 17569 146.5208 B78         C       \n",
       "9  PC 17604  82.1708 NA          C       \n",
       "10 113789    52.0000 NA          S       "
      ]
     },
     "metadata": {},
     "output_type": "display_data"
    }
   ],
   "source": [
    "dat <- titanic %>% filter(Pclass==1)\n",
    "head(dat,10)"
   ]
  },
  {
   "cell_type": "markdown",
   "metadata": {},
   "source": [
    "### (ex) 5-1 실습해 보기 \n",
    "* filter를 이용하여 Embarked가 C인 경우 출력해보기\n",
    "* filter를 이용하여 Embarked가 C가 아닌 경우 행 보기"
   ]
  },
  {
   "cell_type": "code",
   "execution_count": 82,
   "metadata": {},
   "outputs": [
    {
     "data": {
      "text/html": [
       "<table>\n",
       "<thead><tr><th scope=col>n</th></tr></thead>\n",
       "<tbody>\n",
       "\t<tr><td>91</td></tr>\n",
       "</tbody>\n",
       "</table>\n"
      ],
      "text/latex": [
       "\\begin{tabular}{r|l}\n",
       " n\\\\\n",
       "\\hline\n",
       "\t 91\\\\\n",
       "\\end{tabular}\n"
      ],
      "text/markdown": [
       "\n",
       "n | \n",
       "|---|\n",
       "| 91 | \n",
       "\n",
       "\n"
      ],
      "text/plain": [
       "  n \n",
       "1 91"
      ]
     },
     "metadata": {},
     "output_type": "display_data"
    },
    {
     "data": {
      "text/html": [
       "<table>\n",
       "<thead><tr><th scope=col>PassengerId</th><th scope=col>Survived</th><th scope=col>Pclass</th><th scope=col>Name</th><th scope=col>Sex</th><th scope=col>Age</th><th scope=col>SibSp</th><th scope=col>Parch</th><th scope=col>Ticket</th><th scope=col>Fare</th><th scope=col>Cabin</th><th scope=col>Embarked</th></tr></thead>\n",
       "<tbody>\n",
       "\t<tr><td> 24                                                                               </td><td>1                                                                                 </td><td>1                                                                                 </td><td>Sloper, Mr. William Thompson                                                      </td><td>male                                                                              </td><td>28.00                                                                             </td><td>0                                                                                 </td><td>0                                                                                 </td><td>113788                                                                            </td><td> 35.5000                                                                          </td><td>A6                                                                                </td><td>S                                                                                 </td></tr>\n",
       "\t<tr><td> 28                                                                               </td><td>0                                                                                 </td><td>1                                                                                 </td><td>Fortune, Mr. Charles Alexander                                                    </td><td>male                                                                              </td><td>19.00                                                                             </td><td>3                                                                                 </td><td>2                                                                                 </td><td>19950                                                                             </td><td>263.0000                                                                          </td><td>C23 C25 C27                                                                       </td><td>S                                                                                 </td></tr>\n",
       "\t<tr><td> 32                                                                               </td><td>1                                                                                 </td><td>1                                                                                 </td><td>Spencer, Mrs. William Augustus (Marie Eugenie)                                    </td><td>female                                                                            </td><td>29.00                                                                             </td><td>1                                                                                 </td><td>0                                                                                 </td><td>PC 17569                                                                          </td><td>146.5208                                                                          </td><td>B78                                                                               </td><td>C                                                                                 </td></tr>\n",
       "\t<tr><td> 35                                                                               </td><td>0                                                                                 </td><td>1                                                                                 </td><td>Meyer, Mr. Edgar Joseph                                                           </td><td>male                                                                              </td><td>28.00                                                                             </td><td>1                                                                                 </td><td>0                                                                                 </td><td>PC 17604                                                                          </td><td> 82.1708                                                                          </td><td>NA                                                                                </td><td>C                                                                                 </td></tr>\n",
       "\t<tr><td> 56                                                                               </td><td>1                                                                                 </td><td>1                                                                                 </td><td>Woolner, Mr. Hugh                                                                 </td><td>male                                                                              </td><td>29.00                                                                             </td><td>0                                                                                 </td><td>0                                                                                 </td><td>19947                                                                             </td><td> 35.5000                                                                          </td><td>C52                                                                               </td><td>S                                                                                 </td></tr>\n",
       "\t<tr><td> 65                                                                               </td><td>0                                                                                 </td><td>1                                                                                 </td><td>Stewart, Mr. Albert A                                                             </td><td>male                                                                              </td><td>29.00                                                                             </td><td>0                                                                                 </td><td>0                                                                                 </td><td>PC 17605                                                                          </td><td> 27.7208                                                                          </td><td>NA                                                                                </td><td>C                                                                                 </td></tr>\n",
       "\t<tr><td> 84                                                                               </td><td>0                                                                                 </td><td>1                                                                                 </td><td>Carrau, Mr. Francisco M                                                           </td><td>male                                                                              </td><td>28.00                                                                             </td><td>0                                                                                 </td><td>0                                                                                 </td><td>113059                                                                            </td><td> 47.1000                                                                          </td><td>NA                                                                                </td><td>S                                                                                 </td></tr>\n",
       "\t<tr><td> 89                                                                               </td><td>1                                                                                 </td><td>1                                                                                 </td><td>Fortune, Miss. Mabel Helen                                                        </td><td>female                                                                            </td><td>23.00                                                                             </td><td>3                                                                                 </td><td>2                                                                                 </td><td>19950                                                                             </td><td>263.0000                                                                          </td><td>C23 C25 C27                                                                       </td><td>S                                                                                 </td></tr>\n",
       "\t<tr><td> 98                                                                               </td><td>1                                                                                 </td><td>1                                                                                 </td><td>Greenfield, Mr. William Bertram                                                   </td><td>male                                                                              </td><td>23.00                                                                             </td><td>0                                                                                 </td><td>1                                                                                 </td><td>PC 17759                                                                          </td><td> 63.3583                                                                          </td><td>D10 D12                                                                           </td><td>C                                                                                 </td></tr>\n",
       "\t<tr><td>103                                                                               </td><td>0                                                                                 </td><td>1                                                                                 </td><td>White, Mr. Richard Frasar                                                         </td><td>male                                                                              </td><td>21.00                                                                             </td><td>0                                                                                 </td><td>1                                                                                 </td><td>35281                                                                             </td><td> 77.2875                                                                          </td><td>D26                                                                               </td><td>S                                                                                 </td></tr>\n",
       "\t<tr><td>119                                                                               </td><td>0                                                                                 </td><td>1                                                                                 </td><td>Baxter, Mr. Quigg Edmond                                                          </td><td>male                                                                              </td><td>24.00                                                                             </td><td>0                                                                                 </td><td>1                                                                                 </td><td>PC 17558                                                                          </td><td>247.5208                                                                          </td><td>B58 B60                                                                           </td><td>C                                                                                 </td></tr>\n",
       "\t<tr><td>137                                                                               </td><td>1                                                                                 </td><td>1                                                                                 </td><td>Newsom, Miss. Helen Monypeny                                                      </td><td>female                                                                            </td><td>19.00                                                                             </td><td>0                                                                                 </td><td>2                                                                                 </td><td>11752                                                                             </td><td> 26.2833                                                                          </td><td>D47                                                                               </td><td>S                                                                                 </td></tr>\n",
       "\t<tr><td>140                                                                               </td><td>0                                                                                 </td><td>1                                                                                 </td><td>Giglio, Mr. Victor                                                                </td><td>male                                                                              </td><td>24.00                                                                             </td><td>0                                                                                 </td><td>0                                                                                 </td><td>PC 17593                                                                          </td><td> 79.2000                                                                          </td><td>B86                                                                               </td><td>C                                                                                 </td></tr>\n",
       "\t<tr><td>152                                                                               </td><td>1                                                                                 </td><td>1                                                                                 </td><td>Pears, Mrs. Thomas (Edith Wearne)                                                 </td><td>female                                                                            </td><td>22.00                                                                             </td><td>1                                                                                 </td><td>0                                                                                 </td><td>113776                                                                            </td><td> 66.6000                                                                          </td><td>C2                                                                                </td><td>S                                                                                 </td></tr>\n",
       "\t<tr><td>167                                                                               </td><td>1                                                                                 </td><td>1                                                                                 </td><td>Chibnall, Mrs. (Edith Martha Bowerman)                                            </td><td>female                                                                            </td><td>29.00                                                                             </td><td>0                                                                                 </td><td>1                                                                                 </td><td>113505                                                                            </td><td> 55.0000                                                                          </td><td>E33                                                                               </td><td>S                                                                                 </td></tr>\n",
       "\t<tr><td>169                                                                               </td><td>0                                                                                 </td><td>1                                                                                 </td><td>Baumann, Mr. John D                                                               </td><td>male                                                                              </td><td>29.00                                                                             </td><td>0                                                                                 </td><td>0                                                                                 </td><td>PC 17318                                                                          </td><td> 25.9250                                                                          </td><td>NA                                                                                </td><td>S                                                                                 </td></tr>\n",
       "\t<tr><td>186                                                                               </td><td>0                                                                                 </td><td>1                                                                                 </td><td>Rood, Mr. Hugh Roscoe                                                             </td><td>male                                                                              </td><td>29.00                                                                             </td><td>0                                                                                 </td><td>0                                                                                 </td><td>113767                                                                            </td><td> 50.0000                                                                          </td><td>A32                                                                               </td><td>S                                                                                 </td></tr>\n",
       "\t<tr><td>257                                                                               </td><td>1                                                                                 </td><td>1                                                                                 </td><td>Thorne, Mrs. Gertrude Maybelle                                                    </td><td>female                                                                            </td><td>29.00                                                                             </td><td>0                                                                                 </td><td>0                                                                                 </td><td>PC 17585                                                                          </td><td> 79.2000                                                                          </td><td>NA                                                                                </td><td>C                                                                                 </td></tr>\n",
       "\t<tr><td>258                                                                               </td><td>1                                                                                 </td><td>1                                                                                 </td><td>Cherry, Miss. Gladys                                                              </td><td>female                                                                            </td><td>30.00                                                                             </td><td>0                                                                                 </td><td>0                                                                                 </td><td>110152                                                                            </td><td> 86.5000                                                                          </td><td>B77                                                                               </td><td>S                                                                                 </td></tr>\n",
       "\t<tr><td>271                                                                               </td><td>0                                                                                 </td><td>1                                                                                 </td><td>Cairns, Mr. Alexander                                                             </td><td>male                                                                              </td><td>29.00                                                                             </td><td>0                                                                                 </td><td>0                                                                                 </td><td>113798                                                                            </td><td> 31.0000                                                                          </td><td>NA                                                                                </td><td>S                                                                                 </td></tr>\n",
       "\t<tr><td>285                                                                               </td><td>0                                                                                 </td><td>1                                                                                 </td><td>Smith, Mr. Richard William                                                        </td><td>male                                                                              </td><td>29.00                                                                             </td><td>0                                                                                 </td><td>0                                                                                 </td><td>113056                                                                            </td><td> 26.0000                                                                          </td><td>A19                                                                               </td><td>S                                                                                 </td></tr>\n",
       "\t<tr><td>291                                                                               </td><td>1                                                                                 </td><td>1                                                                                 </td><td>Barber, Miss. Ellen \"Nellie\"                                                      </td><td>female                                                                            </td><td>26.00                                                                             </td><td>0                                                                                 </td><td>0                                                                                 </td><td>19877                                                                             </td><td> 78.8500                                                                          </td><td>NA                                                                                </td><td>S                                                                                 </td></tr>\n",
       "\t<tr><td>292                                                                               </td><td>1                                                                                 </td><td>1                                                                                 </td><td>Bishop, Mrs. Dickinson H (Helen Walton)                                           </td><td>female                                                                            </td><td>19.00                                                                             </td><td>1                                                                                 </td><td>0                                                                                 </td><td>11967                                                                             </td><td> 91.0792                                                                          </td><td>B49                                                                               </td><td>C                                                                                 </td></tr>\n",
       "\t<tr><td>296                                                                               </td><td>0                                                                                 </td><td>1                                                                                 </td><td>Lewy, Mr. Ervin G                                                                 </td><td>male                                                                              </td><td>29.00                                                                             </td><td>0                                                                                 </td><td>0                                                                                 </td><td>PC 17612                                                                          </td><td> 27.7208                                                                          </td><td>NA                                                                                </td><td>C                                                                                 </td></tr>\n",
       "\t<tr><td>298                                                                               </td><td>0                                                                                 </td><td>1                                                                                 </td><td>Allison, Miss. Helen Loraine                                                      </td><td>female                                                                            </td><td> 2.00                                                                             </td><td>1                                                                                 </td><td>2                                                                                 </td><td>113781                                                                            </td><td>151.5500                                                                          </td><td>C22 C26                                                                           </td><td>S                                                                                 </td></tr>\n",
       "\t<tr><td>299                                                                               </td><td>1                                                                                 </td><td>1                                                                                 </td><td>Saalfeld, Mr. Adolphe                                                             </td><td>male                                                                              </td><td>29.00                                                                             </td><td>0                                                                                 </td><td>0                                                                                 </td><td>19988                                                                             </td><td> 30.5000                                                                          </td><td>C106                                                                              </td><td>S                                                                                 </td></tr>\n",
       "\t<tr><td>306                                                                               </td><td>1                                                                                 </td><td>1                                                                                 </td><td>Allison, Master. Hudson Trevor                                                    </td><td>male                                                                              </td><td> 0.92                                                                             </td><td>1                                                                                 </td><td>2                                                                                 </td><td>113781                                                                            </td><td>151.5500                                                                          </td><td>C22 C26                                                                           </td><td>S                                                                                 </td></tr>\n",
       "\t<tr><td>307                                                                               </td><td>1                                                                                 </td><td>1                                                                                 </td><td>Fleming, Miss. Margaret                                                           </td><td>female                                                                            </td><td>29.00                                                                             </td><td>0                                                                                 </td><td>0                                                                                 </td><td>17421                                                                             </td><td>110.8833                                                                          </td><td>NA                                                                                </td><td>C                                                                                 </td></tr>\n",
       "\t<tr><td>308                                                                               </td><td>1                                                                                 </td><td>1                                                                                 </td><td>Penasco y Castellana, Mrs. Victor de Satode (Maria Josefa Perez de Soto y Vallejo)</td><td>female                                                                            </td><td>17.00                                                                             </td><td>1                                                                                 </td><td>0                                                                                 </td><td>PC 17758                                                                          </td><td>108.9000                                                                          </td><td>C65                                                                               </td><td>C                                                                                 </td></tr>\n",
       "\t<tr><td>310                                                                               </td><td>1                                                                                 </td><td>1                                                                                 </td><td>Francatelli, Miss. Laura Mabel                                                    </td><td>female                                                                            </td><td>30.00                                                                             </td><td>0                                                                                 </td><td>0                                                                                 </td><td>PC 17485                                                                          </td><td> 56.9292                                                                          </td><td>E36                                                                               </td><td>C                                                                                 </td></tr>\n",
       "\t<tr><td>...</td><td>...</td><td>...</td><td>...</td><td>...</td><td>...</td><td>...</td><td>...</td><td>...</td><td>...</td><td>...</td><td>...</td></tr>\n",
       "\t<tr><td>586                                              </td><td>1                                                </td><td>1                                                </td><td>Taussig, Miss. Ruth                              </td><td>female                                           </td><td>18                                               </td><td>0                                                </td><td>2                                                </td><td>110413                                           </td><td> 79.6500                                         </td><td>E68                                              </td><td>S                                                </td></tr>\n",
       "\t<tr><td>603                                              </td><td>0                                                </td><td>1                                                </td><td>Harrington, Mr. Charles H                        </td><td>male                                             </td><td>29                                               </td><td>0                                                </td><td>0                                                </td><td>113796                                           </td><td> 42.4000                                         </td><td>NA                                               </td><td>S                                                </td></tr>\n",
       "\t<tr><td>608                                              </td><td>1                                                </td><td>1                                                </td><td>Daniel, Mr. Robert Williams                      </td><td>male                                             </td><td>27                                               </td><td>0                                                </td><td>0                                                </td><td>113804                                           </td><td> 30.5000                                         </td><td>NA                                               </td><td>S                                                </td></tr>\n",
       "\t<tr><td>628                                              </td><td>1                                                </td><td>1                                                </td><td>Longley, Miss. Gretchen Fiske                    </td><td>female                                           </td><td>21                                               </td><td>0                                                </td><td>0                                                </td><td>13502                                            </td><td> 77.9583                                         </td><td>D9                                               </td><td>S                                                </td></tr>\n",
       "\t<tr><td>634                                              </td><td>0                                                </td><td>1                                                </td><td>Parr, Mr. William Henry Marsh                    </td><td>male                                             </td><td>29                                               </td><td>0                                                </td><td>0                                                </td><td>112052                                           </td><td>  0.0000                                         </td><td>NA                                               </td><td>S                                                </td></tr>\n",
       "\t<tr><td>642                                              </td><td>1                                                </td><td>1                                                </td><td>Sagesser, Mlle. Emma                             </td><td>female                                           </td><td>24                                               </td><td>0                                                </td><td>0                                                </td><td>PC 17477                                         </td><td> 69.3000                                         </td><td>B35                                              </td><td>C                                                </td></tr>\n",
       "\t<tr><td>670                                              </td><td>1                                                </td><td>1                                                </td><td>Taylor, Mrs. Elmer Zebley (Juliet Cummins Wright)</td><td>female                                           </td><td>29                                               </td><td>1                                                </td><td>0                                                </td><td>19996                                            </td><td> 52.0000                                         </td><td>C126                                             </td><td>S                                                </td></tr>\n",
       "\t<tr><td>682                                              </td><td>1                                                </td><td>1                                                </td><td>Hassab, Mr. Hammad                               </td><td>male                                             </td><td>27                                               </td><td>0                                                </td><td>0                                                </td><td>PC 17572                                         </td><td> 76.7292                                         </td><td>D49                                              </td><td>C                                                </td></tr>\n",
       "\t<tr><td>690                                              </td><td>1                                                </td><td>1                                                </td><td>Madill, Miss. Georgette Alexandra                </td><td>female                                           </td><td>15                                               </td><td>0                                                </td><td>1                                                </td><td>24160                                            </td><td>211.3375                                         </td><td>B5                                               </td><td>S                                                </td></tr>\n",
       "\t<tr><td>701                                              </td><td>1                                                </td><td>1                                                </td><td>Astor, Mrs. John Jacob (Madeleine Talmadge Force)</td><td>female                                           </td><td>18                                               </td><td>1                                                </td><td>0                                                </td><td>PC 17757                                         </td><td>227.5250                                         </td><td>C62 C64                                          </td><td>C                                                </td></tr>\n",
       "\t<tr><td>709                                              </td><td>1                                                </td><td>1                                                </td><td>Cleaver, Miss. Alice                             </td><td>female                                           </td><td>22                                               </td><td>0                                                </td><td>0                                                </td><td>113781                                           </td><td>151.5500                                         </td><td>NA                                               </td><td>S                                                </td></tr>\n",
       "\t<tr><td>711                                              </td><td>1                                                </td><td>1                                                </td><td>Mayne, Mlle. Berthe Antonine (\"Mrs de Villiers\") </td><td>female                                           </td><td>24                                               </td><td>0                                                </td><td>0                                                </td><td>PC 17482                                         </td><td> 49.5042                                         </td><td>C90                                              </td><td>C                                                </td></tr>\n",
       "\t<tr><td>712                                              </td><td>0                                                </td><td>1                                                </td><td>Klaber, Mr. Herman                               </td><td>male                                             </td><td>29                                               </td><td>0                                                </td><td>0                                                </td><td>113028                                           </td><td> 26.5500                                         </td><td>C124                                             </td><td>S                                                </td></tr>\n",
       "\t<tr><td>725                                              </td><td>1                                                </td><td>1                                                </td><td>Chambers, Mr. Norman Campbell                    </td><td>male                                             </td><td>27                                               </td><td>1                                                </td><td>0                                                </td><td>113806                                           </td><td> 53.1000                                         </td><td>E8                                               </td><td>S                                                </td></tr>\n",
       "\t<tr><td>731                                              </td><td>1                                                </td><td>1                                                </td><td>Allen, Miss. Elisabeth Walton                    </td><td>female                                           </td><td>29                                               </td><td>0                                                </td><td>0                                                </td><td>24160                                            </td><td>211.3375                                         </td><td>B5                                               </td><td>S                                                </td></tr>\n",
       "\t<tr><td>741                                              </td><td>1                                                </td><td>1                                                </td><td>Hawksford, Mr. Walter James                      </td><td>male                                             </td><td>29                                               </td><td>0                                                </td><td>0                                                </td><td>16988                                            </td><td> 30.0000                                         </td><td>D45                                              </td><td>S                                                </td></tr>\n",
       "\t<tr><td>743                                              </td><td>1                                                </td><td>1                                                </td><td>Ryerson, Miss. Susan Parker \"Suzette\"            </td><td>female                                           </td><td>21                                               </td><td>2                                                </td><td>2                                                </td><td>PC 17608                                         </td><td>262.3750                                         </td><td>B57 B59 B63 B66                                  </td><td>C                                                </td></tr>\n",
       "\t<tr><td>749                                              </td><td>0                                                </td><td>1                                                </td><td>Marvin, Mr. Daniel Warner                        </td><td>male                                             </td><td>19                                               </td><td>1                                                </td><td>0                                                </td><td>113773                                           </td><td> 53.1000                                         </td><td>D30                                              </td><td>S                                                </td></tr>\n",
       "\t<tr><td>767                                              </td><td>0                                                </td><td>1                                                </td><td>Brewe, Dr. Arthur Jackson                        </td><td>male                                             </td><td>29                                               </td><td>0                                                </td><td>0                                                </td><td>112379                                           </td><td> 39.6000                                         </td><td>NA                                               </td><td>C                                                </td></tr>\n",
       "\t<tr><td>782                                              </td><td>1                                                </td><td>1                                                </td><td>Dick, Mrs. Albert Adrian (Vera Gillespie)        </td><td>female                                           </td><td>17                                               </td><td>1                                                </td><td>0                                                </td><td>17474                                            </td><td> 57.0000                                         </td><td>B20                                              </td><td>S                                                </td></tr>\n",
       "\t<tr><td>783                                              </td><td>0                                                </td><td>1                                                </td><td>Long, Mr. Milton Clyde                           </td><td>male                                             </td><td>29                                               </td><td>0                                                </td><td>0                                                </td><td>113501                                           </td><td> 30.0000                                         </td><td>D6                                               </td><td>S                                                </td></tr>\n",
       "\t<tr><td>794                                              </td><td>0                                                </td><td>1                                                </td><td>Hoyt, Mr. William Fisher                         </td><td>male                                             </td><td>29                                               </td><td>0                                                </td><td>0                                                </td><td>PC 17600                                         </td><td> 30.6958                                         </td><td>NA                                               </td><td>C                                                </td></tr>\n",
       "\t<tr><td>803                                              </td><td>1                                                </td><td>1                                                </td><td>Carter, Master. William Thornton II              </td><td>male                                             </td><td>11                                               </td><td>1                                                </td><td>2                                                </td><td>113760                                           </td><td>120.0000                                         </td><td>B96 B98                                          </td><td>S                                                </td></tr>\n",
       "\t<tr><td>816                                              </td><td>0                                                </td><td>1                                                </td><td>Fry, Mr. Richard                                 </td><td>male                                             </td><td>29                                               </td><td>0                                                </td><td>0                                                </td><td>112058                                           </td><td>  0.0000                                         </td><td>B102                                             </td><td>S                                                </td></tr>\n",
       "\t<tr><td>840                                              </td><td>1                                                </td><td>1                                                </td><td>Marechal, Mr. Pierre                             </td><td>male                                             </td><td>29                                               </td><td>0                                                </td><td>0                                                </td><td>11774                                            </td><td> 29.7000                                         </td><td>C47                                              </td><td>C                                                </td></tr>\n",
       "\t<tr><td>843                                              </td><td>1                                                </td><td>1                                                </td><td>Serepeca, Miss. Augusta                          </td><td>female                                           </td><td>30                                               </td><td>0                                                </td><td>0                                                </td><td>113798                                           </td><td> 31.0000                                         </td><td>NA                                               </td><td>C                                                </td></tr>\n",
       "\t<tr><td>850                                              </td><td>1                                                </td><td>1                                                </td><td>Goldenberg, Mrs. Samuel L (Edwiga Grabowska)     </td><td>female                                           </td><td>29                                               </td><td>1                                                </td><td>0                                                </td><td>17453                                            </td><td> 89.1042                                         </td><td>C92                                              </td><td>C                                                </td></tr>\n",
       "\t<tr><td>854                                              </td><td>1                                                </td><td>1                                                </td><td>Lines, Miss. Mary Conover                        </td><td>female                                           </td><td>16                                               </td><td>0                                                </td><td>1                                                </td><td>PC 17592                                         </td><td> 39.4000                                         </td><td>D28                                              </td><td>S                                                </td></tr>\n",
       "\t<tr><td>888                                              </td><td>1                                                </td><td>1                                                </td><td>Graham, Miss. Margaret Edith                     </td><td>female                                           </td><td>19                                               </td><td>0                                                </td><td>0                                                </td><td>112053                                           </td><td> 30.0000                                         </td><td>B42                                              </td><td>S                                                </td></tr>\n",
       "\t<tr><td>890                                              </td><td>1                                                </td><td>1                                                </td><td>Behr, Mr. Karl Howell                            </td><td>male                                             </td><td>26                                               </td><td>0                                                </td><td>0                                                </td><td>111369                                           </td><td> 30.0000                                         </td><td>C148                                             </td><td>C                                                </td></tr>\n",
       "</tbody>\n",
       "</table>\n"
      ],
      "text/latex": [
       "\\begin{tabular}{r|llllllllllll}\n",
       " PassengerId & Survived & Pclass & Name & Sex & Age & SibSp & Parch & Ticket & Fare & Cabin & Embarked\\\\\n",
       "\\hline\n",
       "\t  24                                                                                & 1                                                                                  & 1                                                                                  & Sloper, Mr. William Thompson                                                       & male                                                                               & 28.00                                                                              & 0                                                                                  & 0                                                                                  & 113788                                                                             &  35.5000                                                                           & A6                                                                                 & S                                                                                 \\\\\n",
       "\t  28                                                                                & 0                                                                                  & 1                                                                                  & Fortune, Mr. Charles Alexander                                                     & male                                                                               & 19.00                                                                              & 3                                                                                  & 2                                                                                  & 19950                                                                              & 263.0000                                                                           & C23 C25 C27                                                                        & S                                                                                 \\\\\n",
       "\t  32                                                                                & 1                                                                                  & 1                                                                                  & Spencer, Mrs. William Augustus (Marie Eugenie)                                     & female                                                                             & 29.00                                                                              & 1                                                                                  & 0                                                                                  & PC 17569                                                                           & 146.5208                                                                           & B78                                                                                & C                                                                                 \\\\\n",
       "\t  35                                                                                & 0                                                                                  & 1                                                                                  & Meyer, Mr. Edgar Joseph                                                            & male                                                                               & 28.00                                                                              & 1                                                                                  & 0                                                                                  & PC 17604                                                                           &  82.1708                                                                           & NA                                                                                 & C                                                                                 \\\\\n",
       "\t  56                                                                                & 1                                                                                  & 1                                                                                  & Woolner, Mr. Hugh                                                                  & male                                                                               & 29.00                                                                              & 0                                                                                  & 0                                                                                  & 19947                                                                              &  35.5000                                                                           & C52                                                                                & S                                                                                 \\\\\n",
       "\t  65                                                                                & 0                                                                                  & 1                                                                                  & Stewart, Mr. Albert A                                                              & male                                                                               & 29.00                                                                              & 0                                                                                  & 0                                                                                  & PC 17605                                                                           &  27.7208                                                                           & NA                                                                                 & C                                                                                 \\\\\n",
       "\t  84                                                                                & 0                                                                                  & 1                                                                                  & Carrau, Mr. Francisco M                                                            & male                                                                               & 28.00                                                                              & 0                                                                                  & 0                                                                                  & 113059                                                                             &  47.1000                                                                           & NA                                                                                 & S                                                                                 \\\\\n",
       "\t  89                                                                                & 1                                                                                  & 1                                                                                  & Fortune, Miss. Mabel Helen                                                         & female                                                                             & 23.00                                                                              & 3                                                                                  & 2                                                                                  & 19950                                                                              & 263.0000                                                                           & C23 C25 C27                                                                        & S                                                                                 \\\\\n",
       "\t  98                                                                                & 1                                                                                  & 1                                                                                  & Greenfield, Mr. William Bertram                                                    & male                                                                               & 23.00                                                                              & 0                                                                                  & 1                                                                                  & PC 17759                                                                           &  63.3583                                                                           & D10 D12                                                                            & C                                                                                 \\\\\n",
       "\t 103                                                                                & 0                                                                                  & 1                                                                                  & White, Mr. Richard Frasar                                                          & male                                                                               & 21.00                                                                              & 0                                                                                  & 1                                                                                  & 35281                                                                              &  77.2875                                                                           & D26                                                                                & S                                                                                 \\\\\n",
       "\t 119                                                                                & 0                                                                                  & 1                                                                                  & Baxter, Mr. Quigg Edmond                                                           & male                                                                               & 24.00                                                                              & 0                                                                                  & 1                                                                                  & PC 17558                                                                           & 247.5208                                                                           & B58 B60                                                                            & C                                                                                 \\\\\n",
       "\t 137                                                                                & 1                                                                                  & 1                                                                                  & Newsom, Miss. Helen Monypeny                                                       & female                                                                             & 19.00                                                                              & 0                                                                                  & 2                                                                                  & 11752                                                                              &  26.2833                                                                           & D47                                                                                & S                                                                                 \\\\\n",
       "\t 140                                                                                & 0                                                                                  & 1                                                                                  & Giglio, Mr. Victor                                                                 & male                                                                               & 24.00                                                                              & 0                                                                                  & 0                                                                                  & PC 17593                                                                           &  79.2000                                                                           & B86                                                                                & C                                                                                 \\\\\n",
       "\t 152                                                                                & 1                                                                                  & 1                                                                                  & Pears, Mrs. Thomas (Edith Wearne)                                                  & female                                                                             & 22.00                                                                              & 1                                                                                  & 0                                                                                  & 113776                                                                             &  66.6000                                                                           & C2                                                                                 & S                                                                                 \\\\\n",
       "\t 167                                                                                & 1                                                                                  & 1                                                                                  & Chibnall, Mrs. (Edith Martha Bowerman)                                             & female                                                                             & 29.00                                                                              & 0                                                                                  & 1                                                                                  & 113505                                                                             &  55.0000                                                                           & E33                                                                                & S                                                                                 \\\\\n",
       "\t 169                                                                                & 0                                                                                  & 1                                                                                  & Baumann, Mr. John D                                                                & male                                                                               & 29.00                                                                              & 0                                                                                  & 0                                                                                  & PC 17318                                                                           &  25.9250                                                                           & NA                                                                                 & S                                                                                 \\\\\n",
       "\t 186                                                                                & 0                                                                                  & 1                                                                                  & Rood, Mr. Hugh Roscoe                                                              & male                                                                               & 29.00                                                                              & 0                                                                                  & 0                                                                                  & 113767                                                                             &  50.0000                                                                           & A32                                                                                & S                                                                                 \\\\\n",
       "\t 257                                                                                & 1                                                                                  & 1                                                                                  & Thorne, Mrs. Gertrude Maybelle                                                     & female                                                                             & 29.00                                                                              & 0                                                                                  & 0                                                                                  & PC 17585                                                                           &  79.2000                                                                           & NA                                                                                 & C                                                                                 \\\\\n",
       "\t 258                                                                                & 1                                                                                  & 1                                                                                  & Cherry, Miss. Gladys                                                               & female                                                                             & 30.00                                                                              & 0                                                                                  & 0                                                                                  & 110152                                                                             &  86.5000                                                                           & B77                                                                                & S                                                                                 \\\\\n",
       "\t 271                                                                                & 0                                                                                  & 1                                                                                  & Cairns, Mr. Alexander                                                              & male                                                                               & 29.00                                                                              & 0                                                                                  & 0                                                                                  & 113798                                                                             &  31.0000                                                                           & NA                                                                                 & S                                                                                 \\\\\n",
       "\t 285                                                                                & 0                                                                                  & 1                                                                                  & Smith, Mr. Richard William                                                         & male                                                                               & 29.00                                                                              & 0                                                                                  & 0                                                                                  & 113056                                                                             &  26.0000                                                                           & A19                                                                                & S                                                                                 \\\\\n",
       "\t 291                                                                                & 1                                                                                  & 1                                                                                  & Barber, Miss. Ellen \"Nellie\"                                                       & female                                                                             & 26.00                                                                              & 0                                                                                  & 0                                                                                  & 19877                                                                              &  78.8500                                                                           & NA                                                                                 & S                                                                                 \\\\\n",
       "\t 292                                                                                & 1                                                                                  & 1                                                                                  & Bishop, Mrs. Dickinson H (Helen Walton)                                            & female                                                                             & 19.00                                                                              & 1                                                                                  & 0                                                                                  & 11967                                                                              &  91.0792                                                                           & B49                                                                                & C                                                                                 \\\\\n",
       "\t 296                                                                                & 0                                                                                  & 1                                                                                  & Lewy, Mr. Ervin G                                                                  & male                                                                               & 29.00                                                                              & 0                                                                                  & 0                                                                                  & PC 17612                                                                           &  27.7208                                                                           & NA                                                                                 & C                                                                                 \\\\\n",
       "\t 298                                                                                & 0                                                                                  & 1                                                                                  & Allison, Miss. Helen Loraine                                                       & female                                                                             &  2.00                                                                              & 1                                                                                  & 2                                                                                  & 113781                                                                             & 151.5500                                                                           & C22 C26                                                                            & S                                                                                 \\\\\n",
       "\t 299                                                                                & 1                                                                                  & 1                                                                                  & Saalfeld, Mr. Adolphe                                                              & male                                                                               & 29.00                                                                              & 0                                                                                  & 0                                                                                  & 19988                                                                              &  30.5000                                                                           & C106                                                                               & S                                                                                 \\\\\n",
       "\t 306                                                                                & 1                                                                                  & 1                                                                                  & Allison, Master. Hudson Trevor                                                     & male                                                                               &  0.92                                                                              & 1                                                                                  & 2                                                                                  & 113781                                                                             & 151.5500                                                                           & C22 C26                                                                            & S                                                                                 \\\\\n",
       "\t 307                                                                                & 1                                                                                  & 1                                                                                  & Fleming, Miss. Margaret                                                            & female                                                                             & 29.00                                                                              & 0                                                                                  & 0                                                                                  & 17421                                                                              & 110.8833                                                                           & NA                                                                                 & C                                                                                 \\\\\n",
       "\t 308                                                                                & 1                                                                                  & 1                                                                                  & Penasco y Castellana, Mrs. Victor de Satode (Maria Josefa Perez de Soto y Vallejo) & female                                                                             & 17.00                                                                              & 1                                                                                  & 0                                                                                  & PC 17758                                                                           & 108.9000                                                                           & C65                                                                                & C                                                                                 \\\\\n",
       "\t 310                                                                                & 1                                                                                  & 1                                                                                  & Francatelli, Miss. Laura Mabel                                                     & female                                                                             & 30.00                                                                              & 0                                                                                  & 0                                                                                  & PC 17485                                                                           &  56.9292                                                                           & E36                                                                                & C                                                                                 \\\\\n",
       "\t ... & ... & ... & ... & ... & ... & ... & ... & ... & ... & ... & ...\\\\\n",
       "\t 586                                               & 1                                                 & 1                                                 & Taussig, Miss. Ruth                               & female                                            & 18                                                & 0                                                 & 2                                                 & 110413                                            &  79.6500                                          & E68                                               & S                                                \\\\\n",
       "\t 603                                               & 0                                                 & 1                                                 & Harrington, Mr. Charles H                         & male                                              & 29                                                & 0                                                 & 0                                                 & 113796                                            &  42.4000                                          & NA                                                & S                                                \\\\\n",
       "\t 608                                               & 1                                                 & 1                                                 & Daniel, Mr. Robert Williams                       & male                                              & 27                                                & 0                                                 & 0                                                 & 113804                                            &  30.5000                                          & NA                                                & S                                                \\\\\n",
       "\t 628                                               & 1                                                 & 1                                                 & Longley, Miss. Gretchen Fiske                     & female                                            & 21                                                & 0                                                 & 0                                                 & 13502                                             &  77.9583                                          & D9                                                & S                                                \\\\\n",
       "\t 634                                               & 0                                                 & 1                                                 & Parr, Mr. William Henry Marsh                     & male                                              & 29                                                & 0                                                 & 0                                                 & 112052                                            &   0.0000                                          & NA                                                & S                                                \\\\\n",
       "\t 642                                               & 1                                                 & 1                                                 & Sagesser, Mlle. Emma                              & female                                            & 24                                                & 0                                                 & 0                                                 & PC 17477                                          &  69.3000                                          & B35                                               & C                                                \\\\\n",
       "\t 670                                               & 1                                                 & 1                                                 & Taylor, Mrs. Elmer Zebley (Juliet Cummins Wright) & female                                            & 29                                                & 1                                                 & 0                                                 & 19996                                             &  52.0000                                          & C126                                              & S                                                \\\\\n",
       "\t 682                                               & 1                                                 & 1                                                 & Hassab, Mr. Hammad                                & male                                              & 27                                                & 0                                                 & 0                                                 & PC 17572                                          &  76.7292                                          & D49                                               & C                                                \\\\\n",
       "\t 690                                               & 1                                                 & 1                                                 & Madill, Miss. Georgette Alexandra                 & female                                            & 15                                                & 0                                                 & 1                                                 & 24160                                             & 211.3375                                          & B5                                                & S                                                \\\\\n",
       "\t 701                                               & 1                                                 & 1                                                 & Astor, Mrs. John Jacob (Madeleine Talmadge Force) & female                                            & 18                                                & 1                                                 & 0                                                 & PC 17757                                          & 227.5250                                          & C62 C64                                           & C                                                \\\\\n",
       "\t 709                                               & 1                                                 & 1                                                 & Cleaver, Miss. Alice                              & female                                            & 22                                                & 0                                                 & 0                                                 & 113781                                            & 151.5500                                          & NA                                                & S                                                \\\\\n",
       "\t 711                                               & 1                                                 & 1                                                 & Mayne, Mlle. Berthe Antonine (\"Mrs de Villiers\")  & female                                            & 24                                                & 0                                                 & 0                                                 & PC 17482                                          &  49.5042                                          & C90                                               & C                                                \\\\\n",
       "\t 712                                               & 0                                                 & 1                                                 & Klaber, Mr. Herman                                & male                                              & 29                                                & 0                                                 & 0                                                 & 113028                                            &  26.5500                                          & C124                                              & S                                                \\\\\n",
       "\t 725                                               & 1                                                 & 1                                                 & Chambers, Mr. Norman Campbell                     & male                                              & 27                                                & 1                                                 & 0                                                 & 113806                                            &  53.1000                                          & E8                                                & S                                                \\\\\n",
       "\t 731                                               & 1                                                 & 1                                                 & Allen, Miss. Elisabeth Walton                     & female                                            & 29                                                & 0                                                 & 0                                                 & 24160                                             & 211.3375                                          & B5                                                & S                                                \\\\\n",
       "\t 741                                               & 1                                                 & 1                                                 & Hawksford, Mr. Walter James                       & male                                              & 29                                                & 0                                                 & 0                                                 & 16988                                             &  30.0000                                          & D45                                               & S                                                \\\\\n",
       "\t 743                                               & 1                                                 & 1                                                 & Ryerson, Miss. Susan Parker \"Suzette\"             & female                                            & 21                                                & 2                                                 & 2                                                 & PC 17608                                          & 262.3750                                          & B57 B59 B63 B66                                   & C                                                \\\\\n",
       "\t 749                                               & 0                                                 & 1                                                 & Marvin, Mr. Daniel Warner                         & male                                              & 19                                                & 1                                                 & 0                                                 & 113773                                            &  53.1000                                          & D30                                               & S                                                \\\\\n",
       "\t 767                                               & 0                                                 & 1                                                 & Brewe, Dr. Arthur Jackson                         & male                                              & 29                                                & 0                                                 & 0                                                 & 112379                                            &  39.6000                                          & NA                                                & C                                                \\\\\n",
       "\t 782                                               & 1                                                 & 1                                                 & Dick, Mrs. Albert Adrian (Vera Gillespie)         & female                                            & 17                                                & 1                                                 & 0                                                 & 17474                                             &  57.0000                                          & B20                                               & S                                                \\\\\n",
       "\t 783                                               & 0                                                 & 1                                                 & Long, Mr. Milton Clyde                            & male                                              & 29                                                & 0                                                 & 0                                                 & 113501                                            &  30.0000                                          & D6                                                & S                                                \\\\\n",
       "\t 794                                               & 0                                                 & 1                                                 & Hoyt, Mr. William Fisher                          & male                                              & 29                                                & 0                                                 & 0                                                 & PC 17600                                          &  30.6958                                          & NA                                                & C                                                \\\\\n",
       "\t 803                                               & 1                                                 & 1                                                 & Carter, Master. William Thornton II               & male                                              & 11                                                & 1                                                 & 2                                                 & 113760                                            & 120.0000                                          & B96 B98                                           & S                                                \\\\\n",
       "\t 816                                               & 0                                                 & 1                                                 & Fry, Mr. Richard                                  & male                                              & 29                                                & 0                                                 & 0                                                 & 112058                                            &   0.0000                                          & B102                                              & S                                                \\\\\n",
       "\t 840                                               & 1                                                 & 1                                                 & Marechal, Mr. Pierre                              & male                                              & 29                                                & 0                                                 & 0                                                 & 11774                                             &  29.7000                                          & C47                                               & C                                                \\\\\n",
       "\t 843                                               & 1                                                 & 1                                                 & Serepeca, Miss. Augusta                           & female                                            & 30                                                & 0                                                 & 0                                                 & 113798                                            &  31.0000                                          & NA                                                & C                                                \\\\\n",
       "\t 850                                               & 1                                                 & 1                                                 & Goldenberg, Mrs. Samuel L (Edwiga Grabowska)      & female                                            & 29                                                & 1                                                 & 0                                                 & 17453                                             &  89.1042                                          & C92                                               & C                                                \\\\\n",
       "\t 854                                               & 1                                                 & 1                                                 & Lines, Miss. Mary Conover                         & female                                            & 16                                                & 0                                                 & 1                                                 & PC 17592                                          &  39.4000                                          & D28                                               & S                                                \\\\\n",
       "\t 888                                               & 1                                                 & 1                                                 & Graham, Miss. Margaret Edith                      & female                                            & 19                                                & 0                                                 & 0                                                 & 112053                                            &  30.0000                                          & B42                                               & S                                                \\\\\n",
       "\t 890                                               & 1                                                 & 1                                                 & Behr, Mr. Karl Howell                             & male                                              & 26                                                & 0                                                 & 0                                                 & 111369                                            &  30.0000                                          & C148                                              & C                                                \\\\\n",
       "\\end{tabular}\n"
      ],
      "text/markdown": [
       "\n",
       "PassengerId | Survived | Pclass | Name | Sex | Age | SibSp | Parch | Ticket | Fare | Cabin | Embarked | \n",
       "|---|---|---|---|---|---|---|---|---|---|---|---|---|---|---|---|---|---|---|---|---|---|---|---|---|---|---|---|---|---|---|---|---|---|---|---|---|---|---|---|---|---|---|---|---|---|---|---|---|---|---|---|---|---|---|---|---|---|---|---|---|\n",
       "|  24                                                                                | 1                                                                                  | 1                                                                                  | Sloper, Mr. William Thompson                                                       | male                                                                               | 28.00                                                                              | 0                                                                                  | 0                                                                                  | 113788                                                                             |  35.5000                                                                           | A6                                                                                 | S                                                                                  | \n",
       "|  28                                                                                | 0                                                                                  | 1                                                                                  | Fortune, Mr. Charles Alexander                                                     | male                                                                               | 19.00                                                                              | 3                                                                                  | 2                                                                                  | 19950                                                                              | 263.0000                                                                           | C23 C25 C27                                                                        | S                                                                                  | \n",
       "|  32                                                                                | 1                                                                                  | 1                                                                                  | Spencer, Mrs. William Augustus (Marie Eugenie)                                     | female                                                                             | 29.00                                                                              | 1                                                                                  | 0                                                                                  | PC 17569                                                                           | 146.5208                                                                           | B78                                                                                | C                                                                                  | \n",
       "|  35                                                                                | 0                                                                                  | 1                                                                                  | Meyer, Mr. Edgar Joseph                                                            | male                                                                               | 28.00                                                                              | 1                                                                                  | 0                                                                                  | PC 17604                                                                           |  82.1708                                                                           | NA                                                                                 | C                                                                                  | \n",
       "|  56                                                                                | 1                                                                                  | 1                                                                                  | Woolner, Mr. Hugh                                                                  | male                                                                               | 29.00                                                                              | 0                                                                                  | 0                                                                                  | 19947                                                                              |  35.5000                                                                           | C52                                                                                | S                                                                                  | \n",
       "|  65                                                                                | 0                                                                                  | 1                                                                                  | Stewart, Mr. Albert A                                                              | male                                                                               | 29.00                                                                              | 0                                                                                  | 0                                                                                  | PC 17605                                                                           |  27.7208                                                                           | NA                                                                                 | C                                                                                  | \n",
       "|  84                                                                                | 0                                                                                  | 1                                                                                  | Carrau, Mr. Francisco M                                                            | male                                                                               | 28.00                                                                              | 0                                                                                  | 0                                                                                  | 113059                                                                             |  47.1000                                                                           | NA                                                                                 | S                                                                                  | \n",
       "|  89                                                                                | 1                                                                                  | 1                                                                                  | Fortune, Miss. Mabel Helen                                                         | female                                                                             | 23.00                                                                              | 3                                                                                  | 2                                                                                  | 19950                                                                              | 263.0000                                                                           | C23 C25 C27                                                                        | S                                                                                  | \n",
       "|  98                                                                                | 1                                                                                  | 1                                                                                  | Greenfield, Mr. William Bertram                                                    | male                                                                               | 23.00                                                                              | 0                                                                                  | 1                                                                                  | PC 17759                                                                           |  63.3583                                                                           | D10 D12                                                                            | C                                                                                  | \n",
       "| 103                                                                                | 0                                                                                  | 1                                                                                  | White, Mr. Richard Frasar                                                          | male                                                                               | 21.00                                                                              | 0                                                                                  | 1                                                                                  | 35281                                                                              |  77.2875                                                                           | D26                                                                                | S                                                                                  | \n",
       "| 119                                                                                | 0                                                                                  | 1                                                                                  | Baxter, Mr. Quigg Edmond                                                           | male                                                                               | 24.00                                                                              | 0                                                                                  | 1                                                                                  | PC 17558                                                                           | 247.5208                                                                           | B58 B60                                                                            | C                                                                                  | \n",
       "| 137                                                                                | 1                                                                                  | 1                                                                                  | Newsom, Miss. Helen Monypeny                                                       | female                                                                             | 19.00                                                                              | 0                                                                                  | 2                                                                                  | 11752                                                                              |  26.2833                                                                           | D47                                                                                | S                                                                                  | \n",
       "| 140                                                                                | 0                                                                                  | 1                                                                                  | Giglio, Mr. Victor                                                                 | male                                                                               | 24.00                                                                              | 0                                                                                  | 0                                                                                  | PC 17593                                                                           |  79.2000                                                                           | B86                                                                                | C                                                                                  | \n",
       "| 152                                                                                | 1                                                                                  | 1                                                                                  | Pears, Mrs. Thomas (Edith Wearne)                                                  | female                                                                             | 22.00                                                                              | 1                                                                                  | 0                                                                                  | 113776                                                                             |  66.6000                                                                           | C2                                                                                 | S                                                                                  | \n",
       "| 167                                                                                | 1                                                                                  | 1                                                                                  | Chibnall, Mrs. (Edith Martha Bowerman)                                             | female                                                                             | 29.00                                                                              | 0                                                                                  | 1                                                                                  | 113505                                                                             |  55.0000                                                                           | E33                                                                                | S                                                                                  | \n",
       "| 169                                                                                | 0                                                                                  | 1                                                                                  | Baumann, Mr. John D                                                                | male                                                                               | 29.00                                                                              | 0                                                                                  | 0                                                                                  | PC 17318                                                                           |  25.9250                                                                           | NA                                                                                 | S                                                                                  | \n",
       "| 186                                                                                | 0                                                                                  | 1                                                                                  | Rood, Mr. Hugh Roscoe                                                              | male                                                                               | 29.00                                                                              | 0                                                                                  | 0                                                                                  | 113767                                                                             |  50.0000                                                                           | A32                                                                                | S                                                                                  | \n",
       "| 257                                                                                | 1                                                                                  | 1                                                                                  | Thorne, Mrs. Gertrude Maybelle                                                     | female                                                                             | 29.00                                                                              | 0                                                                                  | 0                                                                                  | PC 17585                                                                           |  79.2000                                                                           | NA                                                                                 | C                                                                                  | \n",
       "| 258                                                                                | 1                                                                                  | 1                                                                                  | Cherry, Miss. Gladys                                                               | female                                                                             | 30.00                                                                              | 0                                                                                  | 0                                                                                  | 110152                                                                             |  86.5000                                                                           | B77                                                                                | S                                                                                  | \n",
       "| 271                                                                                | 0                                                                                  | 1                                                                                  | Cairns, Mr. Alexander                                                              | male                                                                               | 29.00                                                                              | 0                                                                                  | 0                                                                                  | 113798                                                                             |  31.0000                                                                           | NA                                                                                 | S                                                                                  | \n",
       "| 285                                                                                | 0                                                                                  | 1                                                                                  | Smith, Mr. Richard William                                                         | male                                                                               | 29.00                                                                              | 0                                                                                  | 0                                                                                  | 113056                                                                             |  26.0000                                                                           | A19                                                                                | S                                                                                  | \n",
       "| 291                                                                                | 1                                                                                  | 1                                                                                  | Barber, Miss. Ellen \"Nellie\"                                                       | female                                                                             | 26.00                                                                              | 0                                                                                  | 0                                                                                  | 19877                                                                              |  78.8500                                                                           | NA                                                                                 | S                                                                                  | \n",
       "| 292                                                                                | 1                                                                                  | 1                                                                                  | Bishop, Mrs. Dickinson H (Helen Walton)                                            | female                                                                             | 19.00                                                                              | 1                                                                                  | 0                                                                                  | 11967                                                                              |  91.0792                                                                           | B49                                                                                | C                                                                                  | \n",
       "| 296                                                                                | 0                                                                                  | 1                                                                                  | Lewy, Mr. Ervin G                                                                  | male                                                                               | 29.00                                                                              | 0                                                                                  | 0                                                                                  | PC 17612                                                                           |  27.7208                                                                           | NA                                                                                 | C                                                                                  | \n",
       "| 298                                                                                | 0                                                                                  | 1                                                                                  | Allison, Miss. Helen Loraine                                                       | female                                                                             |  2.00                                                                              | 1                                                                                  | 2                                                                                  | 113781                                                                             | 151.5500                                                                           | C22 C26                                                                            | S                                                                                  | \n",
       "| 299                                                                                | 1                                                                                  | 1                                                                                  | Saalfeld, Mr. Adolphe                                                              | male                                                                               | 29.00                                                                              | 0                                                                                  | 0                                                                                  | 19988                                                                              |  30.5000                                                                           | C106                                                                               | S                                                                                  | \n",
       "| 306                                                                                | 1                                                                                  | 1                                                                                  | Allison, Master. Hudson Trevor                                                     | male                                                                               |  0.92                                                                              | 1                                                                                  | 2                                                                                  | 113781                                                                             | 151.5500                                                                           | C22 C26                                                                            | S                                                                                  | \n",
       "| 307                                                                                | 1                                                                                  | 1                                                                                  | Fleming, Miss. Margaret                                                            | female                                                                             | 29.00                                                                              | 0                                                                                  | 0                                                                                  | 17421                                                                              | 110.8833                                                                           | NA                                                                                 | C                                                                                  | \n",
       "| 308                                                                                | 1                                                                                  | 1                                                                                  | Penasco y Castellana, Mrs. Victor de Satode (Maria Josefa Perez de Soto y Vallejo) | female                                                                             | 17.00                                                                              | 1                                                                                  | 0                                                                                  | PC 17758                                                                           | 108.9000                                                                           | C65                                                                                | C                                                                                  | \n",
       "| 310                                                                                | 1                                                                                  | 1                                                                                  | Francatelli, Miss. Laura Mabel                                                     | female                                                                             | 30.00                                                                              | 0                                                                                  | 0                                                                                  | PC 17485                                                                           |  56.9292                                                                           | E36                                                                                | C                                                                                  | \n",
       "| ... | ... | ... | ... | ... | ... | ... | ... | ... | ... | ... | ... | \n",
       "| 586                                               | 1                                                 | 1                                                 | Taussig, Miss. Ruth                               | female                                            | 18                                                | 0                                                 | 2                                                 | 110413                                            |  79.6500                                          | E68                                               | S                                                 | \n",
       "| 603                                               | 0                                                 | 1                                                 | Harrington, Mr. Charles H                         | male                                              | 29                                                | 0                                                 | 0                                                 | 113796                                            |  42.4000                                          | NA                                                | S                                                 | \n",
       "| 608                                               | 1                                                 | 1                                                 | Daniel, Mr. Robert Williams                       | male                                              | 27                                                | 0                                                 | 0                                                 | 113804                                            |  30.5000                                          | NA                                                | S                                                 | \n",
       "| 628                                               | 1                                                 | 1                                                 | Longley, Miss. Gretchen Fiske                     | female                                            | 21                                                | 0                                                 | 0                                                 | 13502                                             |  77.9583                                          | D9                                                | S                                                 | \n",
       "| 634                                               | 0                                                 | 1                                                 | Parr, Mr. William Henry Marsh                     | male                                              | 29                                                | 0                                                 | 0                                                 | 112052                                            |   0.0000                                          | NA                                                | S                                                 | \n",
       "| 642                                               | 1                                                 | 1                                                 | Sagesser, Mlle. Emma                              | female                                            | 24                                                | 0                                                 | 0                                                 | PC 17477                                          |  69.3000                                          | B35                                               | C                                                 | \n",
       "| 670                                               | 1                                                 | 1                                                 | Taylor, Mrs. Elmer Zebley (Juliet Cummins Wright) | female                                            | 29                                                | 1                                                 | 0                                                 | 19996                                             |  52.0000                                          | C126                                              | S                                                 | \n",
       "| 682                                               | 1                                                 | 1                                                 | Hassab, Mr. Hammad                                | male                                              | 27                                                | 0                                                 | 0                                                 | PC 17572                                          |  76.7292                                          | D49                                               | C                                                 | \n",
       "| 690                                               | 1                                                 | 1                                                 | Madill, Miss. Georgette Alexandra                 | female                                            | 15                                                | 0                                                 | 1                                                 | 24160                                             | 211.3375                                          | B5                                                | S                                                 | \n",
       "| 701                                               | 1                                                 | 1                                                 | Astor, Mrs. John Jacob (Madeleine Talmadge Force) | female                                            | 18                                                | 1                                                 | 0                                                 | PC 17757                                          | 227.5250                                          | C62 C64                                           | C                                                 | \n",
       "| 709                                               | 1                                                 | 1                                                 | Cleaver, Miss. Alice                              | female                                            | 22                                                | 0                                                 | 0                                                 | 113781                                            | 151.5500                                          | NA                                                | S                                                 | \n",
       "| 711                                               | 1                                                 | 1                                                 | Mayne, Mlle. Berthe Antonine (\"Mrs de Villiers\")  | female                                            | 24                                                | 0                                                 | 0                                                 | PC 17482                                          |  49.5042                                          | C90                                               | C                                                 | \n",
       "| 712                                               | 0                                                 | 1                                                 | Klaber, Mr. Herman                                | male                                              | 29                                                | 0                                                 | 0                                                 | 113028                                            |  26.5500                                          | C124                                              | S                                                 | \n",
       "| 725                                               | 1                                                 | 1                                                 | Chambers, Mr. Norman Campbell                     | male                                              | 27                                                | 1                                                 | 0                                                 | 113806                                            |  53.1000                                          | E8                                                | S                                                 | \n",
       "| 731                                               | 1                                                 | 1                                                 | Allen, Miss. Elisabeth Walton                     | female                                            | 29                                                | 0                                                 | 0                                                 | 24160                                             | 211.3375                                          | B5                                                | S                                                 | \n",
       "| 741                                               | 1                                                 | 1                                                 | Hawksford, Mr. Walter James                       | male                                              | 29                                                | 0                                                 | 0                                                 | 16988                                             |  30.0000                                          | D45                                               | S                                                 | \n",
       "| 743                                               | 1                                                 | 1                                                 | Ryerson, Miss. Susan Parker \"Suzette\"             | female                                            | 21                                                | 2                                                 | 2                                                 | PC 17608                                          | 262.3750                                          | B57 B59 B63 B66                                   | C                                                 | \n",
       "| 749                                               | 0                                                 | 1                                                 | Marvin, Mr. Daniel Warner                         | male                                              | 19                                                | 1                                                 | 0                                                 | 113773                                            |  53.1000                                          | D30                                               | S                                                 | \n",
       "| 767                                               | 0                                                 | 1                                                 | Brewe, Dr. Arthur Jackson                         | male                                              | 29                                                | 0                                                 | 0                                                 | 112379                                            |  39.6000                                          | NA                                                | C                                                 | \n",
       "| 782                                               | 1                                                 | 1                                                 | Dick, Mrs. Albert Adrian (Vera Gillespie)         | female                                            | 17                                                | 1                                                 | 0                                                 | 17474                                             |  57.0000                                          | B20                                               | S                                                 | \n",
       "| 783                                               | 0                                                 | 1                                                 | Long, Mr. Milton Clyde                            | male                                              | 29                                                | 0                                                 | 0                                                 | 113501                                            |  30.0000                                          | D6                                                | S                                                 | \n",
       "| 794                                               | 0                                                 | 1                                                 | Hoyt, Mr. William Fisher                          | male                                              | 29                                                | 0                                                 | 0                                                 | PC 17600                                          |  30.6958                                          | NA                                                | C                                                 | \n",
       "| 803                                               | 1                                                 | 1                                                 | Carter, Master. William Thornton II               | male                                              | 11                                                | 1                                                 | 2                                                 | 113760                                            | 120.0000                                          | B96 B98                                           | S                                                 | \n",
       "| 816                                               | 0                                                 | 1                                                 | Fry, Mr. Richard                                  | male                                              | 29                                                | 0                                                 | 0                                                 | 112058                                            |   0.0000                                          | B102                                              | S                                                 | \n",
       "| 840                                               | 1                                                 | 1                                                 | Marechal, Mr. Pierre                              | male                                              | 29                                                | 0                                                 | 0                                                 | 11774                                             |  29.7000                                          | C47                                               | C                                                 | \n",
       "| 843                                               | 1                                                 | 1                                                 | Serepeca, Miss. Augusta                           | female                                            | 30                                                | 0                                                 | 0                                                 | 113798                                            |  31.0000                                          | NA                                                | C                                                 | \n",
       "| 850                                               | 1                                                 | 1                                                 | Goldenberg, Mrs. Samuel L (Edwiga Grabowska)      | female                                            | 29                                                | 1                                                 | 0                                                 | 17453                                             |  89.1042                                          | C92                                               | C                                                 | \n",
       "| 854                                               | 1                                                 | 1                                                 | Lines, Miss. Mary Conover                         | female                                            | 16                                                | 0                                                 | 1                                                 | PC 17592                                          |  39.4000                                          | D28                                               | S                                                 | \n",
       "| 888                                               | 1                                                 | 1                                                 | Graham, Miss. Margaret Edith                      | female                                            | 19                                                | 0                                                 | 0                                                 | 112053                                            |  30.0000                                          | B42                                               | S                                                 | \n",
       "| 890                                               | 1                                                 | 1                                                 | Behr, Mr. Karl Howell                             | male                                              | 26                                                | 0                                                 | 0                                                 | 111369                                            |  30.0000                                          | C148                                              | C                                                 | \n",
       "\n",
       "\n"
      ],
      "text/plain": [
       "    PassengerId Survived Pclass\n",
       "1    24         1        1     \n",
       "2    28         0        1     \n",
       "3    32         1        1     \n",
       "4    35         0        1     \n",
       "5    56         1        1     \n",
       "6    65         0        1     \n",
       "7    84         0        1     \n",
       "8    89         1        1     \n",
       "9    98         1        1     \n",
       "10  103         0        1     \n",
       "11  119         0        1     \n",
       "12  137         1        1     \n",
       "13  140         0        1     \n",
       "14  152         1        1     \n",
       "15  167         1        1     \n",
       "16  169         0        1     \n",
       "17  186         0        1     \n",
       "18  257         1        1     \n",
       "19  258         1        1     \n",
       "20  271         0        1     \n",
       "21  285         0        1     \n",
       "22  291         1        1     \n",
       "23  292         1        1     \n",
       "24  296         0        1     \n",
       "25  298         0        1     \n",
       "26  299         1        1     \n",
       "27  306         1        1     \n",
       "28  307         1        1     \n",
       "29  308         1        1     \n",
       "30  310         1        1     \n",
       "... ...         ...      ...   \n",
       "62  586         1        1     \n",
       "63  603         0        1     \n",
       "64  608         1        1     \n",
       "65  628         1        1     \n",
       "66  634         0        1     \n",
       "67  642         1        1     \n",
       "68  670         1        1     \n",
       "69  682         1        1     \n",
       "70  690         1        1     \n",
       "71  701         1        1     \n",
       "72  709         1        1     \n",
       "73  711         1        1     \n",
       "74  712         0        1     \n",
       "75  725         1        1     \n",
       "76  731         1        1     \n",
       "77  741         1        1     \n",
       "78  743         1        1     \n",
       "79  749         0        1     \n",
       "80  767         0        1     \n",
       "81  782         1        1     \n",
       "82  783         0        1     \n",
       "83  794         0        1     \n",
       "84  803         1        1     \n",
       "85  816         0        1     \n",
       "86  840         1        1     \n",
       "87  843         1        1     \n",
       "88  850         1        1     \n",
       "89  854         1        1     \n",
       "90  888         1        1     \n",
       "91  890         1        1     \n",
       "    Name                                                                              \n",
       "1   Sloper, Mr. William Thompson                                                      \n",
       "2   Fortune, Mr. Charles Alexander                                                    \n",
       "3   Spencer, Mrs. William Augustus (Marie Eugenie)                                    \n",
       "4   Meyer, Mr. Edgar Joseph                                                           \n",
       "5   Woolner, Mr. Hugh                                                                 \n",
       "6   Stewart, Mr. Albert A                                                             \n",
       "7   Carrau, Mr. Francisco M                                                           \n",
       "8   Fortune, Miss. Mabel Helen                                                        \n",
       "9   Greenfield, Mr. William Bertram                                                   \n",
       "10  White, Mr. Richard Frasar                                                         \n",
       "11  Baxter, Mr. Quigg Edmond                                                          \n",
       "12  Newsom, Miss. Helen Monypeny                                                      \n",
       "13  Giglio, Mr. Victor                                                                \n",
       "14  Pears, Mrs. Thomas (Edith Wearne)                                                 \n",
       "15  Chibnall, Mrs. (Edith Martha Bowerman)                                            \n",
       "16  Baumann, Mr. John D                                                               \n",
       "17  Rood, Mr. Hugh Roscoe                                                             \n",
       "18  Thorne, Mrs. Gertrude Maybelle                                                    \n",
       "19  Cherry, Miss. Gladys                                                              \n",
       "20  Cairns, Mr. Alexander                                                             \n",
       "21  Smith, Mr. Richard William                                                        \n",
       "22  Barber, Miss. Ellen \"Nellie\"                                                      \n",
       "23  Bishop, Mrs. Dickinson H (Helen Walton)                                           \n",
       "24  Lewy, Mr. Ervin G                                                                 \n",
       "25  Allison, Miss. Helen Loraine                                                      \n",
       "26  Saalfeld, Mr. Adolphe                                                             \n",
       "27  Allison, Master. Hudson Trevor                                                    \n",
       "28  Fleming, Miss. Margaret                                                           \n",
       "29  Penasco y Castellana, Mrs. Victor de Satode (Maria Josefa Perez de Soto y Vallejo)\n",
       "30  Francatelli, Miss. Laura Mabel                                                    \n",
       "... ...                                                                               \n",
       "62  Taussig, Miss. Ruth                                                               \n",
       "63  Harrington, Mr. Charles H                                                         \n",
       "64  Daniel, Mr. Robert Williams                                                       \n",
       "65  Longley, Miss. Gretchen Fiske                                                     \n",
       "66  Parr, Mr. William Henry Marsh                                                     \n",
       "67  Sagesser, Mlle. Emma                                                              \n",
       "68  Taylor, Mrs. Elmer Zebley (Juliet Cummins Wright)                                 \n",
       "69  Hassab, Mr. Hammad                                                                \n",
       "70  Madill, Miss. Georgette Alexandra                                                 \n",
       "71  Astor, Mrs. John Jacob (Madeleine Talmadge Force)                                 \n",
       "72  Cleaver, Miss. Alice                                                              \n",
       "73  Mayne, Mlle. Berthe Antonine (\"Mrs de Villiers\")                                  \n",
       "74  Klaber, Mr. Herman                                                                \n",
       "75  Chambers, Mr. Norman Campbell                                                     \n",
       "76  Allen, Miss. Elisabeth Walton                                                     \n",
       "77  Hawksford, Mr. Walter James                                                       \n",
       "78  Ryerson, Miss. Susan Parker \"Suzette\"                                             \n",
       "79  Marvin, Mr. Daniel Warner                                                         \n",
       "80  Brewe, Dr. Arthur Jackson                                                         \n",
       "81  Dick, Mrs. Albert Adrian (Vera Gillespie)                                         \n",
       "82  Long, Mr. Milton Clyde                                                            \n",
       "83  Hoyt, Mr. William Fisher                                                          \n",
       "84  Carter, Master. William Thornton II                                               \n",
       "85  Fry, Mr. Richard                                                                  \n",
       "86  Marechal, Mr. Pierre                                                              \n",
       "87  Serepeca, Miss. Augusta                                                           \n",
       "88  Goldenberg, Mrs. Samuel L (Edwiga Grabowska)                                      \n",
       "89  Lines, Miss. Mary Conover                                                         \n",
       "90  Graham, Miss. Margaret Edith                                                      \n",
       "91  Behr, Mr. Karl Howell                                                             \n",
       "    Sex    Age   SibSp Parch Ticket   Fare     Cabin           Embarked\n",
       "1   male   28.00 0     0     113788    35.5000 A6              S       \n",
       "2   male   19.00 3     2     19950    263.0000 C23 C25 C27     S       \n",
       "3   female 29.00 1     0     PC 17569 146.5208 B78             C       \n",
       "4   male   28.00 1     0     PC 17604  82.1708 NA              C       \n",
       "5   male   29.00 0     0     19947     35.5000 C52             S       \n",
       "6   male   29.00 0     0     PC 17605  27.7208 NA              C       \n",
       "7   male   28.00 0     0     113059    47.1000 NA              S       \n",
       "8   female 23.00 3     2     19950    263.0000 C23 C25 C27     S       \n",
       "9   male   23.00 0     1     PC 17759  63.3583 D10 D12         C       \n",
       "10  male   21.00 0     1     35281     77.2875 D26             S       \n",
       "11  male   24.00 0     1     PC 17558 247.5208 B58 B60         C       \n",
       "12  female 19.00 0     2     11752     26.2833 D47             S       \n",
       "13  male   24.00 0     0     PC 17593  79.2000 B86             C       \n",
       "14  female 22.00 1     0     113776    66.6000 C2              S       \n",
       "15  female 29.00 0     1     113505    55.0000 E33             S       \n",
       "16  male   29.00 0     0     PC 17318  25.9250 NA              S       \n",
       "17  male   29.00 0     0     113767    50.0000 A32             S       \n",
       "18  female 29.00 0     0     PC 17585  79.2000 NA              C       \n",
       "19  female 30.00 0     0     110152    86.5000 B77             S       \n",
       "20  male   29.00 0     0     113798    31.0000 NA              S       \n",
       "21  male   29.00 0     0     113056    26.0000 A19             S       \n",
       "22  female 26.00 0     0     19877     78.8500 NA              S       \n",
       "23  female 19.00 1     0     11967     91.0792 B49             C       \n",
       "24  male   29.00 0     0     PC 17612  27.7208 NA              C       \n",
       "25  female  2.00 1     2     113781   151.5500 C22 C26         S       \n",
       "26  male   29.00 0     0     19988     30.5000 C106            S       \n",
       "27  male    0.92 1     2     113781   151.5500 C22 C26         S       \n",
       "28  female 29.00 0     0     17421    110.8833 NA              C       \n",
       "29  female 17.00 1     0     PC 17758 108.9000 C65             C       \n",
       "30  female 30.00 0     0     PC 17485  56.9292 E36             C       \n",
       "... ...    ...   ...   ...   ...      ...      ...             ...     \n",
       "62  female 18    0     2     110413    79.6500 E68             S       \n",
       "63  male   29    0     0     113796    42.4000 NA              S       \n",
       "64  male   27    0     0     113804    30.5000 NA              S       \n",
       "65  female 21    0     0     13502     77.9583 D9              S       \n",
       "66  male   29    0     0     112052     0.0000 NA              S       \n",
       "67  female 24    0     0     PC 17477  69.3000 B35             C       \n",
       "68  female 29    1     0     19996     52.0000 C126            S       \n",
       "69  male   27    0     0     PC 17572  76.7292 D49             C       \n",
       "70  female 15    0     1     24160    211.3375 B5              S       \n",
       "71  female 18    1     0     PC 17757 227.5250 C62 C64         C       \n",
       "72  female 22    0     0     113781   151.5500 NA              S       \n",
       "73  female 24    0     0     PC 17482  49.5042 C90             C       \n",
       "74  male   29    0     0     113028    26.5500 C124            S       \n",
       "75  male   27    1     0     113806    53.1000 E8              S       \n",
       "76  female 29    0     0     24160    211.3375 B5              S       \n",
       "77  male   29    0     0     16988     30.0000 D45             S       \n",
       "78  female 21    2     2     PC 17608 262.3750 B57 B59 B63 B66 C       \n",
       "79  male   19    1     0     113773    53.1000 D30             S       \n",
       "80  male   29    0     0     112379    39.6000 NA              C       \n",
       "81  female 17    1     0     17474     57.0000 B20             S       \n",
       "82  male   29    0     0     113501    30.0000 D6              S       \n",
       "83  male   29    0     0     PC 17600  30.6958 NA              C       \n",
       "84  male   11    1     2     113760   120.0000 B96 B98         S       \n",
       "85  male   29    0     0     112058     0.0000 B102            S       \n",
       "86  male   29    0     0     11774     29.7000 C47             C       \n",
       "87  female 30    0     0     113798    31.0000 NA              C       \n",
       "88  female 29    1     0     17453     89.1042 C92             C       \n",
       "89  female 16    0     1     PC 17592  39.4000 D28             S       \n",
       "90  female 19    0     0     112053    30.0000 B42             S       \n",
       "91  male   26    0     0     111369    30.0000 C148            C       "
      ]
     },
     "metadata": {},
     "output_type": "display_data"
    }
   ],
   "source": [
    "# 1등급에 탄 30세 미만인 사람들은 몇몇이나?\n",
    "dat <- titanic %>% filter(Pclass==1 & Age <=30)   # 클래스가 1이면서 30점 미만 출력\n",
    "count(dat)\n",
    "dat"
   ]
  },
  {
   "cell_type": "code",
   "execution_count": 83,
   "metadata": {},
   "outputs": [
    {
     "data": {
      "text/html": [
       "<table>\n",
       "<thead><tr><th scope=col>n</th></tr></thead>\n",
       "<tbody>\n",
       "\t<tr><td>129</td></tr>\n",
       "</tbody>\n",
       "</table>\n"
      ],
      "text/latex": [
       "\\begin{tabular}{r|l}\n",
       " n\\\\\n",
       "\\hline\n",
       "\t 129\\\\\n",
       "\\end{tabular}\n"
      ],
      "text/markdown": [
       "\n",
       "n | \n",
       "|---|\n",
       "| 129 | \n",
       "\n",
       "\n"
      ],
      "text/plain": [
       "  n  \n",
       "1 129"
      ]
     },
     "metadata": {},
     "output_type": "display_data"
    },
    {
     "data": {
      "text/html": [
       "<table>\n",
       "<thead><tr><th scope=col>n</th></tr></thead>\n",
       "<tbody>\n",
       "\t<tr><td>85</td></tr>\n",
       "</tbody>\n",
       "</table>\n"
      ],
      "text/latex": [
       "\\begin{tabular}{r|l}\n",
       " n\\\\\n",
       "\\hline\n",
       "\t 85\\\\\n",
       "\\end{tabular}\n"
      ],
      "text/markdown": [
       "\n",
       "n | \n",
       "|---|\n",
       "| 85 | \n",
       "\n",
       "\n"
      ],
      "text/plain": [
       "  n \n",
       "1 85"
      ]
     },
     "metadata": {},
     "output_type": "display_data"
    },
    {
     "data": {
      "text/html": [
       "<table>\n",
       "<thead><tr><th scope=col>n</th></tr></thead>\n",
       "<tbody>\n",
       "\t<tr><td>2</td></tr>\n",
       "</tbody>\n",
       "</table>\n"
      ],
      "text/latex": [
       "\\begin{tabular}{r|l}\n",
       " n\\\\\n",
       "\\hline\n",
       "\t 2\\\\\n",
       "\\end{tabular}\n"
      ],
      "text/markdown": [
       "\n",
       "n | \n",
       "|---|\n",
       "| 2 | \n",
       "\n",
       "\n"
      ],
      "text/plain": [
       "  n\n",
       "1 2"
      ]
     },
     "metadata": {},
     "output_type": "display_data"
    }
   ],
   "source": [
    "# 1등급에 항구별 사람들?\n",
    "dat <- titanic %>% filter(Pclass==1 & Embarked=='S')   # 클래스가 1이면서 30점 미만 출력\n",
    "count(dat)\n",
    "dat <- titanic %>% filter(Pclass==1 & Embarked=='C')   # 클래스가 1이면서 30점 미만 출력\n",
    "count(dat)\n",
    "dat <- titanic %>% filter(Pclass==1 & Embarked=='Q')   # 클래스가 1이면서 30점 미만 출력\n",
    "count(dat)"
   ]
  },
  {
   "cell_type": "markdown",
   "metadata": {},
   "source": [
    "### 1,3,5반에 해당되는 친구 출력 %in% 이용\n",
    "* filter ( 컬럼명 %in% c(1,3,5))"
   ]
  },
  {
   "cell_type": "code",
   "execution_count": 84,
   "metadata": {},
   "outputs": [
    {
     "data": {
      "text/html": [
       "<table>\n",
       "<thead><tr><th scope=col>n</th></tr></thead>\n",
       "<tbody>\n",
       "\t<tr><td>675</td></tr>\n",
       "</tbody>\n",
       "</table>\n"
      ],
      "text/latex": [
       "\\begin{tabular}{r|l}\n",
       " n\\\\\n",
       "\\hline\n",
       "\t 675\\\\\n",
       "\\end{tabular}\n"
      ],
      "text/markdown": [
       "\n",
       "n | \n",
       "|---|\n",
       "| 675 | \n",
       "\n",
       "\n"
      ],
      "text/plain": [
       "  n  \n",
       "1 675"
      ]
     },
     "metadata": {},
     "output_type": "display_data"
    },
    {
     "data": {
      "text/html": [
       "<ol class=list-inline>\n",
       "\t<li>891</li>\n",
       "\t<li>12</li>\n",
       "</ol>\n"
      ],
      "text/latex": [
       "\\begin{enumerate*}\n",
       "\\item 891\n",
       "\\item 12\n",
       "\\end{enumerate*}\n"
      ],
      "text/markdown": [
       "1. 891\n",
       "2. 12\n",
       "\n",
       "\n"
      ],
      "text/plain": [
       "[1] 891  12"
      ]
     },
     "metadata": {},
     "output_type": "display_data"
    },
    {
     "data": {
      "text/html": [
       "<ol class=list-inline>\n",
       "\t<li>'integer'</li>\n",
       "\t<li>'numeric'</li>\n",
       "\t<li>'vector'</li>\n",
       "\t<li>'data.frameRowLabels'</li>\n",
       "</ol>\n"
      ],
      "text/latex": [
       "\\begin{enumerate*}\n",
       "\\item 'integer'\n",
       "\\item 'numeric'\n",
       "\\item 'vector'\n",
       "\\item 'data.frameRowLabels'\n",
       "\\end{enumerate*}\n"
      ],
      "text/markdown": [
       "1. 'integer'\n",
       "2. 'numeric'\n",
       "3. 'vector'\n",
       "4. 'data.frameRowLabels'\n",
       "\n",
       "\n"
      ],
      "text/plain": [
       "[1] \"integer\"             \"numeric\"             \"vector\"             \n",
       "[4] \"data.frameRowLabels\""
      ]
     },
     "metadata": {},
     "output_type": "display_data"
    },
    {
     "data": {
      "text/html": [
       "891"
      ],
      "text/latex": [
       "891"
      ],
      "text/markdown": [
       "891"
      ],
      "text/plain": [
       "[1] 891"
      ]
     },
     "metadata": {},
     "output_type": "display_data"
    }
   ],
   "source": [
    "## 2등급, 3등급\n",
    "dat <- titanic %>% filter( Pclass %in% c(2,3) )\n",
    "count(dat)    \n",
    "dim(titanic)\n",
    "is(dim(titanic))\n",
    "dim(titanic)[1]   # 행 출력"
   ]
  },
  {
   "cell_type": "code",
   "execution_count": 85,
   "metadata": {},
   "outputs": [
    {
     "data": {
      "text/html": [
       "<table>\n",
       "<thead><tr><th scope=col>n</th></tr></thead>\n",
       "<tbody>\n",
       "\t<tr><td>0.7575758</td></tr>\n",
       "</tbody>\n",
       "</table>\n"
      ],
      "text/latex": [
       "\\begin{tabular}{r|l}\n",
       " n\\\\\n",
       "\\hline\n",
       "\t 0.7575758\\\\\n",
       "\\end{tabular}\n"
      ],
      "text/markdown": [
       "\n",
       "n | \n",
       "|---|\n",
       "| 0.7575758 | \n",
       "\n",
       "\n"
      ],
      "text/plain": [
       "  n        \n",
       "1 0.7575758"
      ]
     },
     "metadata": {},
     "output_type": "display_data"
    }
   ],
   "source": [
    "count(dat) / dim(titanic)[1]"
   ]
  },
  {
   "cell_type": "markdown",
   "metadata": {},
   "source": [
    "### 5-2 필요한 변수만 추출하기\n",
    "* select(변수명)"
   ]
  },
  {
   "cell_type": "code",
   "execution_count": 86,
   "metadata": {},
   "outputs": [
    {
     "data": {
      "text/html": [
       "<ol class=list-inline>\n",
       "\t<li>'PassengerId'</li>\n",
       "\t<li>'Survived'</li>\n",
       "\t<li>'Pclass'</li>\n",
       "\t<li>'Name'</li>\n",
       "\t<li>'Sex'</li>\n",
       "\t<li>'Age'</li>\n",
       "\t<li>'SibSp'</li>\n",
       "\t<li>'Parch'</li>\n",
       "\t<li>'Ticket'</li>\n",
       "\t<li>'Fare'</li>\n",
       "\t<li>'Cabin'</li>\n",
       "\t<li>'Embarked'</li>\n",
       "</ol>\n"
      ],
      "text/latex": [
       "\\begin{enumerate*}\n",
       "\\item 'PassengerId'\n",
       "\\item 'Survived'\n",
       "\\item 'Pclass'\n",
       "\\item 'Name'\n",
       "\\item 'Sex'\n",
       "\\item 'Age'\n",
       "\\item 'SibSp'\n",
       "\\item 'Parch'\n",
       "\\item 'Ticket'\n",
       "\\item 'Fare'\n",
       "\\item 'Cabin'\n",
       "\\item 'Embarked'\n",
       "\\end{enumerate*}\n"
      ],
      "text/markdown": [
       "1. 'PassengerId'\n",
       "2. 'Survived'\n",
       "3. 'Pclass'\n",
       "4. 'Name'\n",
       "5. 'Sex'\n",
       "6. 'Age'\n",
       "7. 'SibSp'\n",
       "8. 'Parch'\n",
       "9. 'Ticket'\n",
       "10. 'Fare'\n",
       "11. 'Cabin'\n",
       "12. 'Embarked'\n",
       "\n",
       "\n"
      ],
      "text/plain": [
       " [1] \"PassengerId\" \"Survived\"    \"Pclass\"      \"Name\"        \"Sex\"        \n",
       " [6] \"Age\"         \"SibSp\"       \"Parch\"       \"Ticket\"      \"Fare\"       \n",
       "[11] \"Cabin\"       \"Embarked\"   "
      ]
     },
     "metadata": {},
     "output_type": "display_data"
    }
   ],
   "source": [
    "names(titanic)"
   ]
  },
  {
   "cell_type": "code",
   "execution_count": 87,
   "metadata": {},
   "outputs": [
    {
     "data": {
      "text/html": [
       "<table>\n",
       "<thead><tr><th scope=col>Pclass</th><th scope=col>Name</th><th scope=col>Sex</th></tr></thead>\n",
       "<tbody>\n",
       "\t<tr><td>3                                                  </td><td>Braund, Mr. Owen Harris                            </td><td>male                                               </td></tr>\n",
       "\t<tr><td>1                                                  </td><td>Cumings, Mrs. John Bradley (Florence Briggs Thayer)</td><td>female                                             </td></tr>\n",
       "\t<tr><td>3                                                  </td><td>Heikkinen, Miss. Laina                             </td><td>female                                             </td></tr>\n",
       "\t<tr><td>1                                                  </td><td>Futrelle, Mrs. Jacques Heath (Lily May Peel)       </td><td>female                                             </td></tr>\n",
       "\t<tr><td>3                                                  </td><td>Allen, Mr. William Henry                           </td><td>male                                               </td></tr>\n",
       "\t<tr><td>3                                                  </td><td>Moran, Mr. James                                   </td><td>male                                               </td></tr>\n",
       "\t<tr><td>1                                                  </td><td>McCarthy, Mr. Timothy J                            </td><td>male                                               </td></tr>\n",
       "\t<tr><td>3                                                  </td><td>Palsson, Master. Gosta Leonard                     </td><td>male                                               </td></tr>\n",
       "\t<tr><td>3                                                  </td><td>Johnson, Mrs. Oscar W (Elisabeth Vilhelmina Berg)  </td><td>female                                             </td></tr>\n",
       "\t<tr><td>2                                                  </td><td>Nasser, Mrs. Nicholas (Adele Achem)                </td><td>female                                             </td></tr>\n",
       "</tbody>\n",
       "</table>\n"
      ],
      "text/latex": [
       "\\begin{tabular}{r|lll}\n",
       " Pclass & Name & Sex\\\\\n",
       "\\hline\n",
       "\t 3                                                   & Braund, Mr. Owen Harris                             & male                                               \\\\\n",
       "\t 1                                                   & Cumings, Mrs. John Bradley (Florence Briggs Thayer) & female                                             \\\\\n",
       "\t 3                                                   & Heikkinen, Miss. Laina                              & female                                             \\\\\n",
       "\t 1                                                   & Futrelle, Mrs. Jacques Heath (Lily May Peel)        & female                                             \\\\\n",
       "\t 3                                                   & Allen, Mr. William Henry                            & male                                               \\\\\n",
       "\t 3                                                   & Moran, Mr. James                                    & male                                               \\\\\n",
       "\t 1                                                   & McCarthy, Mr. Timothy J                             & male                                               \\\\\n",
       "\t 3                                                   & Palsson, Master. Gosta Leonard                      & male                                               \\\\\n",
       "\t 3                                                   & Johnson, Mrs. Oscar W (Elisabeth Vilhelmina Berg)   & female                                             \\\\\n",
       "\t 2                                                   & Nasser, Mrs. Nicholas (Adele Achem)                 & female                                             \\\\\n",
       "\\end{tabular}\n"
      ],
      "text/markdown": [
       "\n",
       "Pclass | Name | Sex | \n",
       "|---|---|---|---|---|---|---|---|---|---|\n",
       "| 3                                                   | Braund, Mr. Owen Harris                             | male                                                | \n",
       "| 1                                                   | Cumings, Mrs. John Bradley (Florence Briggs Thayer) | female                                              | \n",
       "| 3                                                   | Heikkinen, Miss. Laina                              | female                                              | \n",
       "| 1                                                   | Futrelle, Mrs. Jacques Heath (Lily May Peel)        | female                                              | \n",
       "| 3                                                   | Allen, Mr. William Henry                            | male                                                | \n",
       "| 3                                                   | Moran, Mr. James                                    | male                                                | \n",
       "| 1                                                   | McCarthy, Mr. Timothy J                             | male                                                | \n",
       "| 3                                                   | Palsson, Master. Gosta Leonard                      | male                                                | \n",
       "| 3                                                   | Johnson, Mrs. Oscar W (Elisabeth Vilhelmina Berg)   | female                                              | \n",
       "| 2                                                   | Nasser, Mrs. Nicholas (Adele Achem)                 | female                                              | \n",
       "\n",
       "\n"
      ],
      "text/plain": [
       "   Pclass Name                                                Sex   \n",
       "1  3      Braund, Mr. Owen Harris                             male  \n",
       "2  1      Cumings, Mrs. John Bradley (Florence Briggs Thayer) female\n",
       "3  3      Heikkinen, Miss. Laina                              female\n",
       "4  1      Futrelle, Mrs. Jacques Heath (Lily May Peel)        female\n",
       "5  3      Allen, Mr. William Henry                            male  \n",
       "6  3      Moran, Mr. James                                    male  \n",
       "7  1      McCarthy, Mr. Timothy J                             male  \n",
       "8  3      Palsson, Master. Gosta Leonard                      male  \n",
       "9  3      Johnson, Mrs. Oscar W (Elisabeth Vilhelmina Berg)   female\n",
       "10 2      Nasser, Mrs. Nicholas (Adele Achem)                 female"
      ]
     },
     "metadata": {},
     "output_type": "display_data"
    }
   ],
   "source": [
    "dat <- titanic %>% select(Pclass, Name, Sex)\n",
    "head(dat,10)"
   ]
  },
  {
   "cell_type": "code",
   "execution_count": 88,
   "metadata": {},
   "outputs": [
    {
     "data": {
      "text/html": [
       "<table>\n",
       "<thead><tr><th scope=col>Survived</th><th scope=col>Pclass</th><th scope=col>Name</th><th scope=col>Sex</th><th scope=col>Age</th><th scope=col>SibSp</th></tr></thead>\n",
       "<tbody>\n",
       "\t<tr><td>0                                                  </td><td>3                                                  </td><td>Braund, Mr. Owen Harris                            </td><td>male                                               </td><td>22                                                 </td><td>1                                                  </td></tr>\n",
       "\t<tr><td>1                                                  </td><td>1                                                  </td><td>Cumings, Mrs. John Bradley (Florence Briggs Thayer)</td><td>female                                             </td><td>38                                                 </td><td>1                                                  </td></tr>\n",
       "\t<tr><td>1                                                  </td><td>3                                                  </td><td>Heikkinen, Miss. Laina                             </td><td>female                                             </td><td>26                                                 </td><td>0                                                  </td></tr>\n",
       "\t<tr><td>1                                                  </td><td>1                                                  </td><td>Futrelle, Mrs. Jacques Heath (Lily May Peel)       </td><td>female                                             </td><td>35                                                 </td><td>1                                                  </td></tr>\n",
       "\t<tr><td>0                                                  </td><td>3                                                  </td><td>Allen, Mr. William Henry                           </td><td>male                                               </td><td>35                                                 </td><td>0                                                  </td></tr>\n",
       "\t<tr><td>0                                                  </td><td>3                                                  </td><td>Moran, Mr. James                                   </td><td>male                                               </td><td>29                                                 </td><td>0                                                  </td></tr>\n",
       "\t<tr><td>0                                                  </td><td>1                                                  </td><td>McCarthy, Mr. Timothy J                            </td><td>male                                               </td><td>54                                                 </td><td>0                                                  </td></tr>\n",
       "\t<tr><td>0                                                  </td><td>3                                                  </td><td>Palsson, Master. Gosta Leonard                     </td><td>male                                               </td><td> 2                                                 </td><td>3                                                  </td></tr>\n",
       "\t<tr><td>1                                                  </td><td>3                                                  </td><td>Johnson, Mrs. Oscar W (Elisabeth Vilhelmina Berg)  </td><td>female                                             </td><td>27                                                 </td><td>0                                                  </td></tr>\n",
       "\t<tr><td>1                                                  </td><td>2                                                  </td><td>Nasser, Mrs. Nicholas (Adele Achem)                </td><td>female                                             </td><td>14                                                 </td><td>1                                                  </td></tr>\n",
       "</tbody>\n",
       "</table>\n"
      ],
      "text/latex": [
       "\\begin{tabular}{r|llllll}\n",
       " Survived & Pclass & Name & Sex & Age & SibSp\\\\\n",
       "\\hline\n",
       "\t 0                                                   & 3                                                   & Braund, Mr. Owen Harris                             & male                                                & 22                                                  & 1                                                  \\\\\n",
       "\t 1                                                   & 1                                                   & Cumings, Mrs. John Bradley (Florence Briggs Thayer) & female                                              & 38                                                  & 1                                                  \\\\\n",
       "\t 1                                                   & 3                                                   & Heikkinen, Miss. Laina                              & female                                              & 26                                                  & 0                                                  \\\\\n",
       "\t 1                                                   & 1                                                   & Futrelle, Mrs. Jacques Heath (Lily May Peel)        & female                                              & 35                                                  & 1                                                  \\\\\n",
       "\t 0                                                   & 3                                                   & Allen, Mr. William Henry                            & male                                                & 35                                                  & 0                                                  \\\\\n",
       "\t 0                                                   & 3                                                   & Moran, Mr. James                                    & male                                                & 29                                                  & 0                                                  \\\\\n",
       "\t 0                                                   & 1                                                   & McCarthy, Mr. Timothy J                             & male                                                & 54                                                  & 0                                                  \\\\\n",
       "\t 0                                                   & 3                                                   & Palsson, Master. Gosta Leonard                      & male                                                &  2                                                  & 3                                                  \\\\\n",
       "\t 1                                                   & 3                                                   & Johnson, Mrs. Oscar W (Elisabeth Vilhelmina Berg)   & female                                              & 27                                                  & 0                                                  \\\\\n",
       "\t 1                                                   & 2                                                   & Nasser, Mrs. Nicholas (Adele Achem)                 & female                                              & 14                                                  & 1                                                  \\\\\n",
       "\\end{tabular}\n"
      ],
      "text/markdown": [
       "\n",
       "Survived | Pclass | Name | Sex | Age | SibSp | \n",
       "|---|---|---|---|---|---|---|---|---|---|\n",
       "| 0                                                   | 3                                                   | Braund, Mr. Owen Harris                             | male                                                | 22                                                  | 1                                                   | \n",
       "| 1                                                   | 1                                                   | Cumings, Mrs. John Bradley (Florence Briggs Thayer) | female                                              | 38                                                  | 1                                                   | \n",
       "| 1                                                   | 3                                                   | Heikkinen, Miss. Laina                              | female                                              | 26                                                  | 0                                                   | \n",
       "| 1                                                   | 1                                                   | Futrelle, Mrs. Jacques Heath (Lily May Peel)        | female                                              | 35                                                  | 1                                                   | \n",
       "| 0                                                   | 3                                                   | Allen, Mr. William Henry                            | male                                                | 35                                                  | 0                                                   | \n",
       "| 0                                                   | 3                                                   | Moran, Mr. James                                    | male                                                | 29                                                  | 0                                                   | \n",
       "| 0                                                   | 1                                                   | McCarthy, Mr. Timothy J                             | male                                                | 54                                                  | 0                                                   | \n",
       "| 0                                                   | 3                                                   | Palsson, Master. Gosta Leonard                      | male                                                |  2                                                  | 3                                                   | \n",
       "| 1                                                   | 3                                                   | Johnson, Mrs. Oscar W (Elisabeth Vilhelmina Berg)   | female                                              | 27                                                  | 0                                                   | \n",
       "| 1                                                   | 2                                                   | Nasser, Mrs. Nicholas (Adele Achem)                 | female                                              | 14                                                  | 1                                                   | \n",
       "\n",
       "\n"
      ],
      "text/plain": [
       "   Survived Pclass Name                                                Sex   \n",
       "1  0        3      Braund, Mr. Owen Harris                             male  \n",
       "2  1        1      Cumings, Mrs. John Bradley (Florence Briggs Thayer) female\n",
       "3  1        3      Heikkinen, Miss. Laina                              female\n",
       "4  1        1      Futrelle, Mrs. Jacques Heath (Lily May Peel)        female\n",
       "5  0        3      Allen, Mr. William Henry                            male  \n",
       "6  0        3      Moran, Mr. James                                    male  \n",
       "7  0        1      McCarthy, Mr. Timothy J                             male  \n",
       "8  0        3      Palsson, Master. Gosta Leonard                      male  \n",
       "9  1        3      Johnson, Mrs. Oscar W (Elisabeth Vilhelmina Berg)   female\n",
       "10 1        2      Nasser, Mrs. Nicholas (Adele Achem)                 female\n",
       "   Age SibSp\n",
       "1  22  1    \n",
       "2  38  1    \n",
       "3  26  0    \n",
       "4  35  1    \n",
       "5  35  0    \n",
       "6  29  0    \n",
       "7  54  0    \n",
       "8   2  3    \n",
       "9  27  0    \n",
       "10 14  1    "
      ]
     },
     "metadata": {},
     "output_type": "display_data"
    }
   ],
   "source": [
    "sel <- c('Survived', 'Pclass', 'Name', 'Sex', 'Age', 'SibSp')\n",
    "dat <- titanic %>% select(sel)\n",
    "head(dat,10)"
   ]
  },
  {
   "cell_type": "markdown",
   "metadata": {},
   "source": [
    "### 변수 제외"
   ]
  },
  {
   "cell_type": "code",
   "execution_count": 90,
   "metadata": {},
   "outputs": [
    {
     "data": {
      "text/html": [
       "<table>\n",
       "<thead><tr><th scope=col>PassengerId</th><th scope=col>Pclass</th><th scope=col>Name</th><th scope=col>Sex</th><th scope=col>Age</th><th scope=col>SibSp</th><th scope=col>Parch</th><th scope=col>Ticket</th><th scope=col>Fare</th><th scope=col>Cabin</th><th scope=col>Embarked</th></tr></thead>\n",
       "<tbody>\n",
       "\t<tr><td> 1                                                 </td><td>3                                                  </td><td>Braund, Mr. Owen Harris                            </td><td>male                                               </td><td>22                                                 </td><td>1                                                  </td><td>0                                                  </td><td>A/5 21171                                          </td><td> 7.2500                                            </td><td>NA                                                 </td><td>S                                                  </td></tr>\n",
       "\t<tr><td> 2                                                 </td><td>1                                                  </td><td>Cumings, Mrs. John Bradley (Florence Briggs Thayer)</td><td>female                                             </td><td>38                                                 </td><td>1                                                  </td><td>0                                                  </td><td>PC 17599                                           </td><td>71.2833                                            </td><td>C85                                                </td><td>C                                                  </td></tr>\n",
       "\t<tr><td> 3                                                 </td><td>3                                                  </td><td>Heikkinen, Miss. Laina                             </td><td>female                                             </td><td>26                                                 </td><td>0                                                  </td><td>0                                                  </td><td>STON/O2. 3101282                                   </td><td> 7.9250                                            </td><td>NA                                                 </td><td>S                                                  </td></tr>\n",
       "\t<tr><td> 4                                                 </td><td>1                                                  </td><td>Futrelle, Mrs. Jacques Heath (Lily May Peel)       </td><td>female                                             </td><td>35                                                 </td><td>1                                                  </td><td>0                                                  </td><td>113803                                             </td><td>53.1000                                            </td><td>C123                                               </td><td>S                                                  </td></tr>\n",
       "\t<tr><td> 5                                                 </td><td>3                                                  </td><td>Allen, Mr. William Henry                           </td><td>male                                               </td><td>35                                                 </td><td>0                                                  </td><td>0                                                  </td><td>373450                                             </td><td> 8.0500                                            </td><td>NA                                                 </td><td>S                                                  </td></tr>\n",
       "\t<tr><td> 6                                                 </td><td>3                                                  </td><td>Moran, Mr. James                                   </td><td>male                                               </td><td>29                                                 </td><td>0                                                  </td><td>0                                                  </td><td>330877                                             </td><td> 8.4583                                            </td><td>NA                                                 </td><td>Q                                                  </td></tr>\n",
       "\t<tr><td> 7                                                 </td><td>1                                                  </td><td>McCarthy, Mr. Timothy J                            </td><td>male                                               </td><td>54                                                 </td><td>0                                                  </td><td>0                                                  </td><td>17463                                              </td><td>51.8625                                            </td><td>E46                                                </td><td>S                                                  </td></tr>\n",
       "\t<tr><td> 8                                                 </td><td>3                                                  </td><td>Palsson, Master. Gosta Leonard                     </td><td>male                                               </td><td> 2                                                 </td><td>3                                                  </td><td>1                                                  </td><td>349909                                             </td><td>21.0750                                            </td><td>NA                                                 </td><td>S                                                  </td></tr>\n",
       "\t<tr><td> 9                                                 </td><td>3                                                  </td><td>Johnson, Mrs. Oscar W (Elisabeth Vilhelmina Berg)  </td><td>female                                             </td><td>27                                                 </td><td>0                                                  </td><td>2                                                  </td><td>347742                                             </td><td>11.1333                                            </td><td>NA                                                 </td><td>S                                                  </td></tr>\n",
       "\t<tr><td>10                                                 </td><td>2                                                  </td><td>Nasser, Mrs. Nicholas (Adele Achem)                </td><td>female                                             </td><td>14                                                 </td><td>1                                                  </td><td>0                                                  </td><td>237736                                             </td><td>30.0708                                            </td><td>NA                                                 </td><td>C                                                  </td></tr>\n",
       "</tbody>\n",
       "</table>\n"
      ],
      "text/latex": [
       "\\begin{tabular}{r|lllllllllll}\n",
       " PassengerId & Pclass & Name & Sex & Age & SibSp & Parch & Ticket & Fare & Cabin & Embarked\\\\\n",
       "\\hline\n",
       "\t  1                                                  & 3                                                   & Braund, Mr. Owen Harris                             & male                                                & 22                                                  & 1                                                   & 0                                                   & A/5 21171                                           &  7.2500                                             & NA                                                  & S                                                  \\\\\n",
       "\t  2                                                  & 1                                                   & Cumings, Mrs. John Bradley (Florence Briggs Thayer) & female                                              & 38                                                  & 1                                                   & 0                                                   & PC 17599                                            & 71.2833                                             & C85                                                 & C                                                  \\\\\n",
       "\t  3                                                  & 3                                                   & Heikkinen, Miss. Laina                              & female                                              & 26                                                  & 0                                                   & 0                                                   & STON/O2. 3101282                                    &  7.9250                                             & NA                                                  & S                                                  \\\\\n",
       "\t  4                                                  & 1                                                   & Futrelle, Mrs. Jacques Heath (Lily May Peel)        & female                                              & 35                                                  & 1                                                   & 0                                                   & 113803                                              & 53.1000                                             & C123                                                & S                                                  \\\\\n",
       "\t  5                                                  & 3                                                   & Allen, Mr. William Henry                            & male                                                & 35                                                  & 0                                                   & 0                                                   & 373450                                              &  8.0500                                             & NA                                                  & S                                                  \\\\\n",
       "\t  6                                                  & 3                                                   & Moran, Mr. James                                    & male                                                & 29                                                  & 0                                                   & 0                                                   & 330877                                              &  8.4583                                             & NA                                                  & Q                                                  \\\\\n",
       "\t  7                                                  & 1                                                   & McCarthy, Mr. Timothy J                             & male                                                & 54                                                  & 0                                                   & 0                                                   & 17463                                               & 51.8625                                             & E46                                                 & S                                                  \\\\\n",
       "\t  8                                                  & 3                                                   & Palsson, Master. Gosta Leonard                      & male                                                &  2                                                  & 3                                                   & 1                                                   & 349909                                              & 21.0750                                             & NA                                                  & S                                                  \\\\\n",
       "\t  9                                                  & 3                                                   & Johnson, Mrs. Oscar W (Elisabeth Vilhelmina Berg)   & female                                              & 27                                                  & 0                                                   & 2                                                   & 347742                                              & 11.1333                                             & NA                                                  & S                                                  \\\\\n",
       "\t 10                                                  & 2                                                   & Nasser, Mrs. Nicholas (Adele Achem)                 & female                                              & 14                                                  & 1                                                   & 0                                                   & 237736                                              & 30.0708                                             & NA                                                  & C                                                  \\\\\n",
       "\\end{tabular}\n"
      ],
      "text/markdown": [
       "\n",
       "PassengerId | Pclass | Name | Sex | Age | SibSp | Parch | Ticket | Fare | Cabin | Embarked | \n",
       "|---|---|---|---|---|---|---|---|---|---|\n",
       "|  1                                                  | 3                                                   | Braund, Mr. Owen Harris                             | male                                                | 22                                                  | 1                                                   | 0                                                   | A/5 21171                                           |  7.2500                                             | NA                                                  | S                                                   | \n",
       "|  2                                                  | 1                                                   | Cumings, Mrs. John Bradley (Florence Briggs Thayer) | female                                              | 38                                                  | 1                                                   | 0                                                   | PC 17599                                            | 71.2833                                             | C85                                                 | C                                                   | \n",
       "|  3                                                  | 3                                                   | Heikkinen, Miss. Laina                              | female                                              | 26                                                  | 0                                                   | 0                                                   | STON/O2. 3101282                                    |  7.9250                                             | NA                                                  | S                                                   | \n",
       "|  4                                                  | 1                                                   | Futrelle, Mrs. Jacques Heath (Lily May Peel)        | female                                              | 35                                                  | 1                                                   | 0                                                   | 113803                                              | 53.1000                                             | C123                                                | S                                                   | \n",
       "|  5                                                  | 3                                                   | Allen, Mr. William Henry                            | male                                                | 35                                                  | 0                                                   | 0                                                   | 373450                                              |  8.0500                                             | NA                                                  | S                                                   | \n",
       "|  6                                                  | 3                                                   | Moran, Mr. James                                    | male                                                | 29                                                  | 0                                                   | 0                                                   | 330877                                              |  8.4583                                             | NA                                                  | Q                                                   | \n",
       "|  7                                                  | 1                                                   | McCarthy, Mr. Timothy J                             | male                                                | 54                                                  | 0                                                   | 0                                                   | 17463                                               | 51.8625                                             | E46                                                 | S                                                   | \n",
       "|  8                                                  | 3                                                   | Palsson, Master. Gosta Leonard                      | male                                                |  2                                                  | 3                                                   | 1                                                   | 349909                                              | 21.0750                                             | NA                                                  | S                                                   | \n",
       "|  9                                                  | 3                                                   | Johnson, Mrs. Oscar W (Elisabeth Vilhelmina Berg)   | female                                              | 27                                                  | 0                                                   | 2                                                   | 347742                                              | 11.1333                                             | NA                                                  | S                                                   | \n",
       "| 10                                                  | 2                                                   | Nasser, Mrs. Nicholas (Adele Achem)                 | female                                              | 14                                                  | 1                                                   | 0                                                   | 237736                                              | 30.0708                                             | NA                                                  | C                                                   | \n",
       "\n",
       "\n"
      ],
      "text/plain": [
       "   PassengerId Pclass Name                                               \n",
       "1   1          3      Braund, Mr. Owen Harris                            \n",
       "2   2          1      Cumings, Mrs. John Bradley (Florence Briggs Thayer)\n",
       "3   3          3      Heikkinen, Miss. Laina                             \n",
       "4   4          1      Futrelle, Mrs. Jacques Heath (Lily May Peel)       \n",
       "5   5          3      Allen, Mr. William Henry                           \n",
       "6   6          3      Moran, Mr. James                                   \n",
       "7   7          1      McCarthy, Mr. Timothy J                            \n",
       "8   8          3      Palsson, Master. Gosta Leonard                     \n",
       "9   9          3      Johnson, Mrs. Oscar W (Elisabeth Vilhelmina Berg)  \n",
       "10 10          2      Nasser, Mrs. Nicholas (Adele Achem)                \n",
       "   Sex    Age SibSp Parch Ticket           Fare    Cabin Embarked\n",
       "1  male   22  1     0     A/5 21171         7.2500 NA    S       \n",
       "2  female 38  1     0     PC 17599         71.2833 C85   C       \n",
       "3  female 26  0     0     STON/O2. 3101282  7.9250 NA    S       \n",
       "4  female 35  1     0     113803           53.1000 C123  S       \n",
       "5  male   35  0     0     373450            8.0500 NA    S       \n",
       "6  male   29  0     0     330877            8.4583 NA    Q       \n",
       "7  male   54  0     0     17463            51.8625 E46   S       \n",
       "8  male    2  3     1     349909           21.0750 NA    S       \n",
       "9  female 27  0     2     347742           11.1333 NA    S       \n",
       "10 female 14  1     0     237736           30.0708 NA    C       "
      ]
     },
     "metadata": {},
     "output_type": "display_data"
    }
   ],
   "source": [
    "dat <- titanic %>% select(-Survived)\n",
    "head(dat,10)"
   ]
  },
  {
   "cell_type": "code",
   "execution_count": 91,
   "metadata": {},
   "outputs": [
    {
     "data": {
      "text/html": [
       "<table>\n",
       "<thead><tr><th scope=col>Pclass</th><th scope=col>Name</th><th scope=col>Sex</th><th scope=col>Age</th><th scope=col>SibSp</th><th scope=col>Parch</th><th scope=col>Ticket</th><th scope=col>Fare</th><th scope=col>Cabin</th><th scope=col>Embarked</th></tr></thead>\n",
       "<tbody>\n",
       "\t<tr><td>3                                                  </td><td>Braund, Mr. Owen Harris                            </td><td>male                                               </td><td>22                                                 </td><td>1                                                  </td><td>0                                                  </td><td>A/5 21171                                          </td><td> 7.2500                                            </td><td>NA                                                 </td><td>S                                                  </td></tr>\n",
       "\t<tr><td>1                                                  </td><td>Cumings, Mrs. John Bradley (Florence Briggs Thayer)</td><td>female                                             </td><td>38                                                 </td><td>1                                                  </td><td>0                                                  </td><td>PC 17599                                           </td><td>71.2833                                            </td><td>C85                                                </td><td>C                                                  </td></tr>\n",
       "\t<tr><td>3                                                  </td><td>Heikkinen, Miss. Laina                             </td><td>female                                             </td><td>26                                                 </td><td>0                                                  </td><td>0                                                  </td><td>STON/O2. 3101282                                   </td><td> 7.9250                                            </td><td>NA                                                 </td><td>S                                                  </td></tr>\n",
       "\t<tr><td>1                                                  </td><td>Futrelle, Mrs. Jacques Heath (Lily May Peel)       </td><td>female                                             </td><td>35                                                 </td><td>1                                                  </td><td>0                                                  </td><td>113803                                             </td><td>53.1000                                            </td><td>C123                                               </td><td>S                                                  </td></tr>\n",
       "\t<tr><td>3                                                  </td><td>Allen, Mr. William Henry                           </td><td>male                                               </td><td>35                                                 </td><td>0                                                  </td><td>0                                                  </td><td>373450                                             </td><td> 8.0500                                            </td><td>NA                                                 </td><td>S                                                  </td></tr>\n",
       "\t<tr><td>3                                                  </td><td>Moran, Mr. James                                   </td><td>male                                               </td><td>29                                                 </td><td>0                                                  </td><td>0                                                  </td><td>330877                                             </td><td> 8.4583                                            </td><td>NA                                                 </td><td>Q                                                  </td></tr>\n",
       "\t<tr><td>1                                                  </td><td>McCarthy, Mr. Timothy J                            </td><td>male                                               </td><td>54                                                 </td><td>0                                                  </td><td>0                                                  </td><td>17463                                              </td><td>51.8625                                            </td><td>E46                                                </td><td>S                                                  </td></tr>\n",
       "\t<tr><td>3                                                  </td><td>Palsson, Master. Gosta Leonard                     </td><td>male                                               </td><td> 2                                                 </td><td>3                                                  </td><td>1                                                  </td><td>349909                                             </td><td>21.0750                                            </td><td>NA                                                 </td><td>S                                                  </td></tr>\n",
       "\t<tr><td>3                                                  </td><td>Johnson, Mrs. Oscar W (Elisabeth Vilhelmina Berg)  </td><td>female                                             </td><td>27                                                 </td><td>0                                                  </td><td>2                                                  </td><td>347742                                             </td><td>11.1333                                            </td><td>NA                                                 </td><td>S                                                  </td></tr>\n",
       "\t<tr><td>2                                                  </td><td>Nasser, Mrs. Nicholas (Adele Achem)                </td><td>female                                             </td><td>14                                                 </td><td>1                                                  </td><td>0                                                  </td><td>237736                                             </td><td>30.0708                                            </td><td>NA                                                 </td><td>C                                                  </td></tr>\n",
       "</tbody>\n",
       "</table>\n"
      ],
      "text/latex": [
       "\\begin{tabular}{r|llllllllll}\n",
       " Pclass & Name & Sex & Age & SibSp & Parch & Ticket & Fare & Cabin & Embarked\\\\\n",
       "\\hline\n",
       "\t 3                                                   & Braund, Mr. Owen Harris                             & male                                                & 22                                                  & 1                                                   & 0                                                   & A/5 21171                                           &  7.2500                                             & NA                                                  & S                                                  \\\\\n",
       "\t 1                                                   & Cumings, Mrs. John Bradley (Florence Briggs Thayer) & female                                              & 38                                                  & 1                                                   & 0                                                   & PC 17599                                            & 71.2833                                             & C85                                                 & C                                                  \\\\\n",
       "\t 3                                                   & Heikkinen, Miss. Laina                              & female                                              & 26                                                  & 0                                                   & 0                                                   & STON/O2. 3101282                                    &  7.9250                                             & NA                                                  & S                                                  \\\\\n",
       "\t 1                                                   & Futrelle, Mrs. Jacques Heath (Lily May Peel)        & female                                              & 35                                                  & 1                                                   & 0                                                   & 113803                                              & 53.1000                                             & C123                                                & S                                                  \\\\\n",
       "\t 3                                                   & Allen, Mr. William Henry                            & male                                                & 35                                                  & 0                                                   & 0                                                   & 373450                                              &  8.0500                                             & NA                                                  & S                                                  \\\\\n",
       "\t 3                                                   & Moran, Mr. James                                    & male                                                & 29                                                  & 0                                                   & 0                                                   & 330877                                              &  8.4583                                             & NA                                                  & Q                                                  \\\\\n",
       "\t 1                                                   & McCarthy, Mr. Timothy J                             & male                                                & 54                                                  & 0                                                   & 0                                                   & 17463                                               & 51.8625                                             & E46                                                 & S                                                  \\\\\n",
       "\t 3                                                   & Palsson, Master. Gosta Leonard                      & male                                                &  2                                                  & 3                                                   & 1                                                   & 349909                                              & 21.0750                                             & NA                                                  & S                                                  \\\\\n",
       "\t 3                                                   & Johnson, Mrs. Oscar W (Elisabeth Vilhelmina Berg)   & female                                              & 27                                                  & 0                                                   & 2                                                   & 347742                                              & 11.1333                                             & NA                                                  & S                                                  \\\\\n",
       "\t 2                                                   & Nasser, Mrs. Nicholas (Adele Achem)                 & female                                              & 14                                                  & 1                                                   & 0                                                   & 237736                                              & 30.0708                                             & NA                                                  & C                                                  \\\\\n",
       "\\end{tabular}\n"
      ],
      "text/markdown": [
       "\n",
       "Pclass | Name | Sex | Age | SibSp | Parch | Ticket | Fare | Cabin | Embarked | \n",
       "|---|---|---|---|---|---|---|---|---|---|\n",
       "| 3                                                   | Braund, Mr. Owen Harris                             | male                                                | 22                                                  | 1                                                   | 0                                                   | A/5 21171                                           |  7.2500                                             | NA                                                  | S                                                   | \n",
       "| 1                                                   | Cumings, Mrs. John Bradley (Florence Briggs Thayer) | female                                              | 38                                                  | 1                                                   | 0                                                   | PC 17599                                            | 71.2833                                             | C85                                                 | C                                                   | \n",
       "| 3                                                   | Heikkinen, Miss. Laina                              | female                                              | 26                                                  | 0                                                   | 0                                                   | STON/O2. 3101282                                    |  7.9250                                             | NA                                                  | S                                                   | \n",
       "| 1                                                   | Futrelle, Mrs. Jacques Heath (Lily May Peel)        | female                                              | 35                                                  | 1                                                   | 0                                                   | 113803                                              | 53.1000                                             | C123                                                | S                                                   | \n",
       "| 3                                                   | Allen, Mr. William Henry                            | male                                                | 35                                                  | 0                                                   | 0                                                   | 373450                                              |  8.0500                                             | NA                                                  | S                                                   | \n",
       "| 3                                                   | Moran, Mr. James                                    | male                                                | 29                                                  | 0                                                   | 0                                                   | 330877                                              |  8.4583                                             | NA                                                  | Q                                                   | \n",
       "| 1                                                   | McCarthy, Mr. Timothy J                             | male                                                | 54                                                  | 0                                                   | 0                                                   | 17463                                               | 51.8625                                             | E46                                                 | S                                                   | \n",
       "| 3                                                   | Palsson, Master. Gosta Leonard                      | male                                                |  2                                                  | 3                                                   | 1                                                   | 349909                                              | 21.0750                                             | NA                                                  | S                                                   | \n",
       "| 3                                                   | Johnson, Mrs. Oscar W (Elisabeth Vilhelmina Berg)   | female                                              | 27                                                  | 0                                                   | 2                                                   | 347742                                              | 11.1333                                             | NA                                                  | S                                                   | \n",
       "| 2                                                   | Nasser, Mrs. Nicholas (Adele Achem)                 | female                                              | 14                                                  | 1                                                   | 0                                                   | 237736                                              | 30.0708                                             | NA                                                  | C                                                   | \n",
       "\n",
       "\n"
      ],
      "text/plain": [
       "   Pclass Name                                                Sex    Age SibSp\n",
       "1  3      Braund, Mr. Owen Harris                             male   22  1    \n",
       "2  1      Cumings, Mrs. John Bradley (Florence Briggs Thayer) female 38  1    \n",
       "3  3      Heikkinen, Miss. Laina                              female 26  0    \n",
       "4  1      Futrelle, Mrs. Jacques Heath (Lily May Peel)        female 35  1    \n",
       "5  3      Allen, Mr. William Henry                            male   35  0    \n",
       "6  3      Moran, Mr. James                                    male   29  0    \n",
       "7  1      McCarthy, Mr. Timothy J                             male   54  0    \n",
       "8  3      Palsson, Master. Gosta Leonard                      male    2  3    \n",
       "9  3      Johnson, Mrs. Oscar W (Elisabeth Vilhelmina Berg)   female 27  0    \n",
       "10 2      Nasser, Mrs. Nicholas (Adele Achem)                 female 14  1    \n",
       "   Parch Ticket           Fare    Cabin Embarked\n",
       "1  0     A/5 21171         7.2500 NA    S       \n",
       "2  0     PC 17599         71.2833 C85   C       \n",
       "3  0     STON/O2. 3101282  7.9250 NA    S       \n",
       "4  0     113803           53.1000 C123  S       \n",
       "5  0     373450            8.0500 NA    S       \n",
       "6  0     330877            8.4583 NA    Q       \n",
       "7  0     17463            51.8625 E46   S       \n",
       "8  1     349909           21.0750 NA    S       \n",
       "9  2     347742           11.1333 NA    S       \n",
       "10 0     237736           30.0708 NA    C       "
      ]
     },
     "metadata": {},
     "output_type": "display_data"
    }
   ],
   "source": [
    "dat <- titanic %>% select(-PassengerId, -Survived)\n",
    "head(dat,10)"
   ]
  },
  {
   "cell_type": "markdown",
   "metadata": {},
   "source": [
    "### filter()와 select() 합치기"
   ]
  },
  {
   "cell_type": "markdown",
   "metadata": {},
   "source": [
    "### PClass 1등급의 Survived 를 뺀 열 전체 보기"
   ]
  },
  {
   "cell_type": "code",
   "execution_count": 92,
   "metadata": {},
   "outputs": [
    {
     "data": {
      "text/html": [
       "<ol class=list-inline>\n",
       "\t<li>'PassengerId'</li>\n",
       "\t<li>'Survived'</li>\n",
       "\t<li>'Pclass'</li>\n",
       "\t<li>'Name'</li>\n",
       "\t<li>'Sex'</li>\n",
       "\t<li>'Age'</li>\n",
       "\t<li>'SibSp'</li>\n",
       "\t<li>'Parch'</li>\n",
       "\t<li>'Ticket'</li>\n",
       "\t<li>'Fare'</li>\n",
       "\t<li>'Cabin'</li>\n",
       "\t<li>'Embarked'</li>\n",
       "</ol>\n"
      ],
      "text/latex": [
       "\\begin{enumerate*}\n",
       "\\item 'PassengerId'\n",
       "\\item 'Survived'\n",
       "\\item 'Pclass'\n",
       "\\item 'Name'\n",
       "\\item 'Sex'\n",
       "\\item 'Age'\n",
       "\\item 'SibSp'\n",
       "\\item 'Parch'\n",
       "\\item 'Ticket'\n",
       "\\item 'Fare'\n",
       "\\item 'Cabin'\n",
       "\\item 'Embarked'\n",
       "\\end{enumerate*}\n"
      ],
      "text/markdown": [
       "1. 'PassengerId'\n",
       "2. 'Survived'\n",
       "3. 'Pclass'\n",
       "4. 'Name'\n",
       "5. 'Sex'\n",
       "6. 'Age'\n",
       "7. 'SibSp'\n",
       "8. 'Parch'\n",
       "9. 'Ticket'\n",
       "10. 'Fare'\n",
       "11. 'Cabin'\n",
       "12. 'Embarked'\n",
       "\n",
       "\n"
      ],
      "text/plain": [
       " [1] \"PassengerId\" \"Survived\"    \"Pclass\"      \"Name\"        \"Sex\"        \n",
       " [6] \"Age\"         \"SibSp\"       \"Parch\"       \"Ticket\"      \"Fare\"       \n",
       "[11] \"Cabin\"       \"Embarked\"   "
      ]
     },
     "metadata": {},
     "output_type": "display_data"
    }
   ],
   "source": [
    "names(titanic)"
   ]
  },
  {
   "cell_type": "code",
   "execution_count": 93,
   "metadata": {},
   "outputs": [
    {
     "data": {
      "text/html": [
       "<table>\n",
       "<thead><tr><th scope=col>PassengerId</th><th scope=col>Pclass</th><th scope=col>Name</th><th scope=col>Sex</th><th scope=col>Age</th><th scope=col>SibSp</th><th scope=col>Parch</th><th scope=col>Ticket</th><th scope=col>Fare</th><th scope=col>Cabin</th><th scope=col>Embarked</th></tr></thead>\n",
       "<tbody>\n",
       "\t<tr><td> 2                                                 </td><td>1                                                  </td><td>Cumings, Mrs. John Bradley (Florence Briggs Thayer)</td><td>female                                             </td><td>38                                                 </td><td>1                                                  </td><td>0                                                  </td><td>PC 17599                                           </td><td> 71.2833                                           </td><td>C85                                                </td><td>C                                                  </td></tr>\n",
       "\t<tr><td> 4                                                 </td><td>1                                                  </td><td>Futrelle, Mrs. Jacques Heath (Lily May Peel)       </td><td>female                                             </td><td>35                                                 </td><td>1                                                  </td><td>0                                                  </td><td>113803                                             </td><td> 53.1000                                           </td><td>C123                                               </td><td>S                                                  </td></tr>\n",
       "\t<tr><td> 7                                                 </td><td>1                                                  </td><td>McCarthy, Mr. Timothy J                            </td><td>male                                               </td><td>54                                                 </td><td>0                                                  </td><td>0                                                  </td><td>17463                                              </td><td> 51.8625                                           </td><td>E46                                                </td><td>S                                                  </td></tr>\n",
       "\t<tr><td>12                                                 </td><td>1                                                  </td><td>Bonnell, Miss. Elizabeth                           </td><td>female                                             </td><td>58                                                 </td><td>0                                                  </td><td>0                                                  </td><td>113783                                             </td><td> 26.5500                                           </td><td>C103                                               </td><td>S                                                  </td></tr>\n",
       "\t<tr><td>24                                                 </td><td>1                                                  </td><td>Sloper, Mr. William Thompson                       </td><td>male                                               </td><td>28                                                 </td><td>0                                                  </td><td>0                                                  </td><td>113788                                             </td><td> 35.5000                                           </td><td>A6                                                 </td><td>S                                                  </td></tr>\n",
       "\t<tr><td>28                                                 </td><td>1                                                  </td><td>Fortune, Mr. Charles Alexander                     </td><td>male                                               </td><td>19                                                 </td><td>3                                                  </td><td>2                                                  </td><td>19950                                              </td><td>263.0000                                           </td><td>C23 C25 C27                                        </td><td>S                                                  </td></tr>\n",
       "\t<tr><td>31                                                 </td><td>1                                                  </td><td>Uruchurtu, Don. Manuel E                           </td><td>male                                               </td><td>40                                                 </td><td>0                                                  </td><td>0                                                  </td><td>PC 17601                                           </td><td> 27.7208                                           </td><td>NA                                                 </td><td>C                                                  </td></tr>\n",
       "\t<tr><td>32                                                 </td><td>1                                                  </td><td>Spencer, Mrs. William Augustus (Marie Eugenie)     </td><td>female                                             </td><td>29                                                 </td><td>1                                                  </td><td>0                                                  </td><td>PC 17569                                           </td><td>146.5208                                           </td><td>B78                                                </td><td>C                                                  </td></tr>\n",
       "\t<tr><td>35                                                 </td><td>1                                                  </td><td>Meyer, Mr. Edgar Joseph                            </td><td>male                                               </td><td>28                                                 </td><td>1                                                  </td><td>0                                                  </td><td>PC 17604                                           </td><td> 82.1708                                           </td><td>NA                                                 </td><td>C                                                  </td></tr>\n",
       "\t<tr><td>36                                                 </td><td>1                                                  </td><td>Holverson, Mr. Alexander Oskar                     </td><td>male                                               </td><td>42                                                 </td><td>1                                                  </td><td>0                                                  </td><td>113789                                             </td><td> 52.0000                                           </td><td>NA                                                 </td><td>S                                                  </td></tr>\n",
       "</tbody>\n",
       "</table>\n"
      ],
      "text/latex": [
       "\\begin{tabular}{r|lllllllllll}\n",
       " PassengerId & Pclass & Name & Sex & Age & SibSp & Parch & Ticket & Fare & Cabin & Embarked\\\\\n",
       "\\hline\n",
       "\t  2                                                  & 1                                                   & Cumings, Mrs. John Bradley (Florence Briggs Thayer) & female                                              & 38                                                  & 1                                                   & 0                                                   & PC 17599                                            &  71.2833                                            & C85                                                 & C                                                  \\\\\n",
       "\t  4                                                  & 1                                                   & Futrelle, Mrs. Jacques Heath (Lily May Peel)        & female                                              & 35                                                  & 1                                                   & 0                                                   & 113803                                              &  53.1000                                            & C123                                                & S                                                  \\\\\n",
       "\t  7                                                  & 1                                                   & McCarthy, Mr. Timothy J                             & male                                                & 54                                                  & 0                                                   & 0                                                   & 17463                                               &  51.8625                                            & E46                                                 & S                                                  \\\\\n",
       "\t 12                                                  & 1                                                   & Bonnell, Miss. Elizabeth                            & female                                              & 58                                                  & 0                                                   & 0                                                   & 113783                                              &  26.5500                                            & C103                                                & S                                                  \\\\\n",
       "\t 24                                                  & 1                                                   & Sloper, Mr. William Thompson                        & male                                                & 28                                                  & 0                                                   & 0                                                   & 113788                                              &  35.5000                                            & A6                                                  & S                                                  \\\\\n",
       "\t 28                                                  & 1                                                   & Fortune, Mr. Charles Alexander                      & male                                                & 19                                                  & 3                                                   & 2                                                   & 19950                                               & 263.0000                                            & C23 C25 C27                                         & S                                                  \\\\\n",
       "\t 31                                                  & 1                                                   & Uruchurtu, Don. Manuel E                            & male                                                & 40                                                  & 0                                                   & 0                                                   & PC 17601                                            &  27.7208                                            & NA                                                  & C                                                  \\\\\n",
       "\t 32                                                  & 1                                                   & Spencer, Mrs. William Augustus (Marie Eugenie)      & female                                              & 29                                                  & 1                                                   & 0                                                   & PC 17569                                            & 146.5208                                            & B78                                                 & C                                                  \\\\\n",
       "\t 35                                                  & 1                                                   & Meyer, Mr. Edgar Joseph                             & male                                                & 28                                                  & 1                                                   & 0                                                   & PC 17604                                            &  82.1708                                            & NA                                                  & C                                                  \\\\\n",
       "\t 36                                                  & 1                                                   & Holverson, Mr. Alexander Oskar                      & male                                                & 42                                                  & 1                                                   & 0                                                   & 113789                                              &  52.0000                                            & NA                                                  & S                                                  \\\\\n",
       "\\end{tabular}\n"
      ],
      "text/markdown": [
       "\n",
       "PassengerId | Pclass | Name | Sex | Age | SibSp | Parch | Ticket | Fare | Cabin | Embarked | \n",
       "|---|---|---|---|---|---|---|---|---|---|\n",
       "|  2                                                  | 1                                                   | Cumings, Mrs. John Bradley (Florence Briggs Thayer) | female                                              | 38                                                  | 1                                                   | 0                                                   | PC 17599                                            |  71.2833                                            | C85                                                 | C                                                   | \n",
       "|  4                                                  | 1                                                   | Futrelle, Mrs. Jacques Heath (Lily May Peel)        | female                                              | 35                                                  | 1                                                   | 0                                                   | 113803                                              |  53.1000                                            | C123                                                | S                                                   | \n",
       "|  7                                                  | 1                                                   | McCarthy, Mr. Timothy J                             | male                                                | 54                                                  | 0                                                   | 0                                                   | 17463                                               |  51.8625                                            | E46                                                 | S                                                   | \n",
       "| 12                                                  | 1                                                   | Bonnell, Miss. Elizabeth                            | female                                              | 58                                                  | 0                                                   | 0                                                   | 113783                                              |  26.5500                                            | C103                                                | S                                                   | \n",
       "| 24                                                  | 1                                                   | Sloper, Mr. William Thompson                        | male                                                | 28                                                  | 0                                                   | 0                                                   | 113788                                              |  35.5000                                            | A6                                                  | S                                                   | \n",
       "| 28                                                  | 1                                                   | Fortune, Mr. Charles Alexander                      | male                                                | 19                                                  | 3                                                   | 2                                                   | 19950                                               | 263.0000                                            | C23 C25 C27                                         | S                                                   | \n",
       "| 31                                                  | 1                                                   | Uruchurtu, Don. Manuel E                            | male                                                | 40                                                  | 0                                                   | 0                                                   | PC 17601                                            |  27.7208                                            | NA                                                  | C                                                   | \n",
       "| 32                                                  | 1                                                   | Spencer, Mrs. William Augustus (Marie Eugenie)      | female                                              | 29                                                  | 1                                                   | 0                                                   | PC 17569                                            | 146.5208                                            | B78                                                 | C                                                   | \n",
       "| 35                                                  | 1                                                   | Meyer, Mr. Edgar Joseph                             | male                                                | 28                                                  | 1                                                   | 0                                                   | PC 17604                                            |  82.1708                                            | NA                                                  | C                                                   | \n",
       "| 36                                                  | 1                                                   | Holverson, Mr. Alexander Oskar                      | male                                                | 42                                                  | 1                                                   | 0                                                   | 113789                                              |  52.0000                                            | NA                                                  | S                                                   | \n",
       "\n",
       "\n"
      ],
      "text/plain": [
       "   PassengerId Pclass Name                                               \n",
       "1   2          1      Cumings, Mrs. John Bradley (Florence Briggs Thayer)\n",
       "2   4          1      Futrelle, Mrs. Jacques Heath (Lily May Peel)       \n",
       "3   7          1      McCarthy, Mr. Timothy J                            \n",
       "4  12          1      Bonnell, Miss. Elizabeth                           \n",
       "5  24          1      Sloper, Mr. William Thompson                       \n",
       "6  28          1      Fortune, Mr. Charles Alexander                     \n",
       "7  31          1      Uruchurtu, Don. Manuel E                           \n",
       "8  32          1      Spencer, Mrs. William Augustus (Marie Eugenie)     \n",
       "9  35          1      Meyer, Mr. Edgar Joseph                            \n",
       "10 36          1      Holverson, Mr. Alexander Oskar                     \n",
       "   Sex    Age SibSp Parch Ticket   Fare     Cabin       Embarked\n",
       "1  female 38  1     0     PC 17599  71.2833 C85         C       \n",
       "2  female 35  1     0     113803    53.1000 C123        S       \n",
       "3  male   54  0     0     17463     51.8625 E46         S       \n",
       "4  female 58  0     0     113783    26.5500 C103        S       \n",
       "5  male   28  0     0     113788    35.5000 A6          S       \n",
       "6  male   19  3     2     19950    263.0000 C23 C25 C27 S       \n",
       "7  male   40  0     0     PC 17601  27.7208 NA          C       \n",
       "8  female 29  1     0     PC 17569 146.5208 B78         C       \n",
       "9  male   28  1     0     PC 17604  82.1708 NA          C       \n",
       "10 male   42  1     0     113789    52.0000 NA          S       "
      ]
     },
     "metadata": {},
     "output_type": "display_data"
    }
   ],
   "source": [
    "sel <- c('Survived')\n",
    "dat <- titanic %>% filter(Pclass==1) %>% select(-sel)\n",
    "head(dat,10)"
   ]
  },
  {
   "cell_type": "markdown",
   "metadata": {},
   "source": [
    "### PClass의 1등급 5행만 보기"
   ]
  },
  {
   "cell_type": "code",
   "execution_count": 95,
   "metadata": {},
   "outputs": [
    {
     "data": {
      "text/html": [
       "<table>\n",
       "<thead><tr><th scope=col>PassengerId</th><th scope=col>Survived</th><th scope=col>Pclass</th><th scope=col>Name</th><th scope=col>Sex</th><th scope=col>Age</th><th scope=col>SibSp</th><th scope=col>Parch</th><th scope=col>Ticket</th><th scope=col>Fare</th><th scope=col>Cabin</th><th scope=col>Embarked</th></tr></thead>\n",
       "<tbody>\n",
       "\t<tr><td> 2                                                 </td><td>1                                                  </td><td>1                                                  </td><td>Cumings, Mrs. John Bradley (Florence Briggs Thayer)</td><td>female                                             </td><td>38                                                 </td><td>1                                                  </td><td>0                                                  </td><td>PC 17599                                           </td><td>71.2833                                            </td><td>C85                                                </td><td>C                                                  </td></tr>\n",
       "\t<tr><td> 4                                                 </td><td>1                                                  </td><td>1                                                  </td><td>Futrelle, Mrs. Jacques Heath (Lily May Peel)       </td><td>female                                             </td><td>35                                                 </td><td>1                                                  </td><td>0                                                  </td><td>113803                                             </td><td>53.1000                                            </td><td>C123                                               </td><td>S                                                  </td></tr>\n",
       "\t<tr><td> 7                                                 </td><td>0                                                  </td><td>1                                                  </td><td>McCarthy, Mr. Timothy J                            </td><td>male                                               </td><td>54                                                 </td><td>0                                                  </td><td>0                                                  </td><td>17463                                              </td><td>51.8625                                            </td><td>E46                                                </td><td>S                                                  </td></tr>\n",
       "\t<tr><td>12                                                 </td><td>1                                                  </td><td>1                                                  </td><td>Bonnell, Miss. Elizabeth                           </td><td>female                                             </td><td>58                                                 </td><td>0                                                  </td><td>0                                                  </td><td>113783                                             </td><td>26.5500                                            </td><td>C103                                               </td><td>S                                                  </td></tr>\n",
       "\t<tr><td>24                                                 </td><td>1                                                  </td><td>1                                                  </td><td>Sloper, Mr. William Thompson                       </td><td>male                                               </td><td>28                                                 </td><td>0                                                  </td><td>0                                                  </td><td>113788                                             </td><td>35.5000                                            </td><td>A6                                                 </td><td>S                                                  </td></tr>\n",
       "</tbody>\n",
       "</table>\n"
      ],
      "text/latex": [
       "\\begin{tabular}{r|llllllllllll}\n",
       " PassengerId & Survived & Pclass & Name & Sex & Age & SibSp & Parch & Ticket & Fare & Cabin & Embarked\\\\\n",
       "\\hline\n",
       "\t  2                                                  & 1                                                   & 1                                                   & Cumings, Mrs. John Bradley (Florence Briggs Thayer) & female                                              & 38                                                  & 1                                                   & 0                                                   & PC 17599                                            & 71.2833                                             & C85                                                 & C                                                  \\\\\n",
       "\t  4                                                  & 1                                                   & 1                                                   & Futrelle, Mrs. Jacques Heath (Lily May Peel)        & female                                              & 35                                                  & 1                                                   & 0                                                   & 113803                                              & 53.1000                                             & C123                                                & S                                                  \\\\\n",
       "\t  7                                                  & 0                                                   & 1                                                   & McCarthy, Mr. Timothy J                             & male                                                & 54                                                  & 0                                                   & 0                                                   & 17463                                               & 51.8625                                             & E46                                                 & S                                                  \\\\\n",
       "\t 12                                                  & 1                                                   & 1                                                   & Bonnell, Miss. Elizabeth                            & female                                              & 58                                                  & 0                                                   & 0                                                   & 113783                                              & 26.5500                                             & C103                                                & S                                                  \\\\\n",
       "\t 24                                                  & 1                                                   & 1                                                   & Sloper, Mr. William Thompson                        & male                                                & 28                                                  & 0                                                   & 0                                                   & 113788                                              & 35.5000                                             & A6                                                  & S                                                  \\\\\n",
       "\\end{tabular}\n"
      ],
      "text/markdown": [
       "\n",
       "PassengerId | Survived | Pclass | Name | Sex | Age | SibSp | Parch | Ticket | Fare | Cabin | Embarked | \n",
       "|---|---|---|---|---|\n",
       "|  2                                                  | 1                                                   | 1                                                   | Cumings, Mrs. John Bradley (Florence Briggs Thayer) | female                                              | 38                                                  | 1                                                   | 0                                                   | PC 17599                                            | 71.2833                                             | C85                                                 | C                                                   | \n",
       "|  4                                                  | 1                                                   | 1                                                   | Futrelle, Mrs. Jacques Heath (Lily May Peel)        | female                                              | 35                                                  | 1                                                   | 0                                                   | 113803                                              | 53.1000                                             | C123                                                | S                                                   | \n",
       "|  7                                                  | 0                                                   | 1                                                   | McCarthy, Mr. Timothy J                             | male                                                | 54                                                  | 0                                                   | 0                                                   | 17463                                               | 51.8625                                             | E46                                                 | S                                                   | \n",
       "| 12                                                  | 1                                                   | 1                                                   | Bonnell, Miss. Elizabeth                            | female                                              | 58                                                  | 0                                                   | 0                                                   | 113783                                              | 26.5500                                             | C103                                                | S                                                   | \n",
       "| 24                                                  | 1                                                   | 1                                                   | Sloper, Mr. William Thompson                        | male                                                | 28                                                  | 0                                                   | 0                                                   | 113788                                              | 35.5000                                             | A6                                                  | S                                                   | \n",
       "\n",
       "\n"
      ],
      "text/plain": [
       "  PassengerId Survived Pclass\n",
       "1  2          1        1     \n",
       "2  4          1        1     \n",
       "3  7          0        1     \n",
       "4 12          1        1     \n",
       "5 24          1        1     \n",
       "  Name                                                Sex    Age SibSp Parch\n",
       "1 Cumings, Mrs. John Bradley (Florence Briggs Thayer) female 38  1     0    \n",
       "2 Futrelle, Mrs. Jacques Heath (Lily May Peel)        female 35  1     0    \n",
       "3 McCarthy, Mr. Timothy J                             male   54  0     0    \n",
       "4 Bonnell, Miss. Elizabeth                            female 58  0     0    \n",
       "5 Sloper, Mr. William Thompson                        male   28  0     0    \n",
       "  Ticket   Fare    Cabin Embarked\n",
       "1 PC 17599 71.2833 C85   C       \n",
       "2 113803   53.1000 C123  S       \n",
       "3 17463    51.8625 E46   S       \n",
       "4 113783   26.5500 C103  S       \n",
       "5 113788   35.5000 A6    S       "
      ]
     },
     "metadata": {},
     "output_type": "display_data"
    }
   ],
   "source": [
    "titanic %>% filter(Pclass==1) %>% head(5)"
   ]
  },
  {
   "cell_type": "markdown",
   "metadata": {},
   "source": [
    "### 더해보기 p138"
   ]
  },
  {
   "cell_type": "markdown",
   "metadata": {},
   "source": [
    "### 5-3 나이 순서대로 정렬해 보기 \n",
    "* arrange(기준컬럼)"
   ]
  },
  {
   "cell_type": "code",
   "execution_count": 96,
   "metadata": {},
   "outputs": [
    {
     "data": {
      "text/html": [
       "<table>\n",
       "<thead><tr><th scope=col>PassengerId</th><th scope=col>Survived</th><th scope=col>Pclass</th><th scope=col>Name</th><th scope=col>Sex</th><th scope=col>Age</th><th scope=col>SibSp</th><th scope=col>Parch</th><th scope=col>Ticket</th><th scope=col>Fare</th><th scope=col>Cabin</th><th scope=col>Embarked</th></tr></thead>\n",
       "<tbody>\n",
       "\t<tr><td>804                            </td><td>1                              </td><td>3                              </td><td>Thomas, Master. Assad Alexander</td><td>male                           </td><td>0.42                           </td><td>0                              </td><td>1                              </td><td>2625                           </td><td>  8.5167                       </td><td>NA                             </td><td>C                              </td></tr>\n",
       "\t<tr><td>756                            </td><td>1                              </td><td>2                              </td><td>Hamalainen, Master. Viljo      </td><td>male                           </td><td>0.67                           </td><td>1                              </td><td>1                              </td><td>250649                         </td><td> 14.5000                       </td><td>NA                             </td><td>S                              </td></tr>\n",
       "\t<tr><td>470                            </td><td>1                              </td><td>3                              </td><td>Baclini, Miss. Helene Barbara  </td><td>female                         </td><td>0.75                           </td><td>2                              </td><td>1                              </td><td>2666                           </td><td> 19.2583                       </td><td>NA                             </td><td>C                              </td></tr>\n",
       "\t<tr><td>645                            </td><td>1                              </td><td>3                              </td><td>Baclini, Miss. Eugenie         </td><td>female                         </td><td>0.75                           </td><td>2                              </td><td>1                              </td><td>2666                           </td><td> 19.2583                       </td><td>NA                             </td><td>C                              </td></tr>\n",
       "\t<tr><td> 79                            </td><td>1                              </td><td>2                              </td><td>Caldwell, Master. Alden Gates  </td><td>male                           </td><td>0.83                           </td><td>0                              </td><td>2                              </td><td>248738                         </td><td> 29.0000                       </td><td>NA                             </td><td>S                              </td></tr>\n",
       "\t<tr><td>832                            </td><td>1                              </td><td>2                              </td><td>Richards, Master. George Sibley</td><td>male                           </td><td>0.83                           </td><td>1                              </td><td>1                              </td><td>29106                          </td><td> 18.7500                       </td><td>NA                             </td><td>S                              </td></tr>\n",
       "\t<tr><td>306                            </td><td>1                              </td><td>1                              </td><td>Allison, Master. Hudson Trevor </td><td>male                           </td><td>0.92                           </td><td>1                              </td><td>2                              </td><td>113781                         </td><td>151.5500                       </td><td>C22 C26                        </td><td>S                              </td></tr>\n",
       "\t<tr><td>165                            </td><td>0                              </td><td>3                              </td><td>Panula, Master. Eino Viljami   </td><td>male                           </td><td>1.00                           </td><td>4                              </td><td>1                              </td><td>3101295                        </td><td> 39.6875                       </td><td>NA                             </td><td>S                              </td></tr>\n",
       "\t<tr><td>173                            </td><td>1                              </td><td>3                              </td><td>Johnson, Miss. Eleanor Ileen   </td><td>female                         </td><td>1.00                           </td><td>1                              </td><td>1                              </td><td>347742                         </td><td> 11.1333                       </td><td>NA                             </td><td>S                              </td></tr>\n",
       "\t<tr><td>184                            </td><td>1                              </td><td>2                              </td><td>Becker, Master. Richard F      </td><td>male                           </td><td>1.00                           </td><td>2                              </td><td>1                              </td><td>230136                         </td><td> 39.0000                       </td><td>F4                             </td><td>S                              </td></tr>\n",
       "</tbody>\n",
       "</table>\n"
      ],
      "text/latex": [
       "\\begin{tabular}{r|llllllllllll}\n",
       " PassengerId & Survived & Pclass & Name & Sex & Age & SibSp & Parch & Ticket & Fare & Cabin & Embarked\\\\\n",
       "\\hline\n",
       "\t 804                             & 1                               & 3                               & Thomas, Master. Assad Alexander & male                            & 0.42                            & 0                               & 1                               & 2625                            &   8.5167                        & NA                              & C                              \\\\\n",
       "\t 756                             & 1                               & 2                               & Hamalainen, Master. Viljo       & male                            & 0.67                            & 1                               & 1                               & 250649                          &  14.5000                        & NA                              & S                              \\\\\n",
       "\t 470                             & 1                               & 3                               & Baclini, Miss. Helene Barbara   & female                          & 0.75                            & 2                               & 1                               & 2666                            &  19.2583                        & NA                              & C                              \\\\\n",
       "\t 645                             & 1                               & 3                               & Baclini, Miss. Eugenie          & female                          & 0.75                            & 2                               & 1                               & 2666                            &  19.2583                        & NA                              & C                              \\\\\n",
       "\t  79                             & 1                               & 2                               & Caldwell, Master. Alden Gates   & male                            & 0.83                            & 0                               & 2                               & 248738                          &  29.0000                        & NA                              & S                              \\\\\n",
       "\t 832                             & 1                               & 2                               & Richards, Master. George Sibley & male                            & 0.83                            & 1                               & 1                               & 29106                           &  18.7500                        & NA                              & S                              \\\\\n",
       "\t 306                             & 1                               & 1                               & Allison, Master. Hudson Trevor  & male                            & 0.92                            & 1                               & 2                               & 113781                          & 151.5500                        & C22 C26                         & S                              \\\\\n",
       "\t 165                             & 0                               & 3                               & Panula, Master. Eino Viljami    & male                            & 1.00                            & 4                               & 1                               & 3101295                         &  39.6875                        & NA                              & S                              \\\\\n",
       "\t 173                             & 1                               & 3                               & Johnson, Miss. Eleanor Ileen    & female                          & 1.00                            & 1                               & 1                               & 347742                          &  11.1333                        & NA                              & S                              \\\\\n",
       "\t 184                             & 1                               & 2                               & Becker, Master. Richard F       & male                            & 1.00                            & 2                               & 1                               & 230136                          &  39.0000                        & F4                              & S                              \\\\\n",
       "\\end{tabular}\n"
      ],
      "text/markdown": [
       "\n",
       "PassengerId | Survived | Pclass | Name | Sex | Age | SibSp | Parch | Ticket | Fare | Cabin | Embarked | \n",
       "|---|---|---|---|---|---|---|---|---|---|\n",
       "| 804                             | 1                               | 3                               | Thomas, Master. Assad Alexander | male                            | 0.42                            | 0                               | 1                               | 2625                            |   8.5167                        | NA                              | C                               | \n",
       "| 756                             | 1                               | 2                               | Hamalainen, Master. Viljo       | male                            | 0.67                            | 1                               | 1                               | 250649                          |  14.5000                        | NA                              | S                               | \n",
       "| 470                             | 1                               | 3                               | Baclini, Miss. Helene Barbara   | female                          | 0.75                            | 2                               | 1                               | 2666                            |  19.2583                        | NA                              | C                               | \n",
       "| 645                             | 1                               | 3                               | Baclini, Miss. Eugenie          | female                          | 0.75                            | 2                               | 1                               | 2666                            |  19.2583                        | NA                              | C                               | \n",
       "|  79                             | 1                               | 2                               | Caldwell, Master. Alden Gates   | male                            | 0.83                            | 0                               | 2                               | 248738                          |  29.0000                        | NA                              | S                               | \n",
       "| 832                             | 1                               | 2                               | Richards, Master. George Sibley | male                            | 0.83                            | 1                               | 1                               | 29106                           |  18.7500                        | NA                              | S                               | \n",
       "| 306                             | 1                               | 1                               | Allison, Master. Hudson Trevor  | male                            | 0.92                            | 1                               | 2                               | 113781                          | 151.5500                        | C22 C26                         | S                               | \n",
       "| 165                             | 0                               | 3                               | Panula, Master. Eino Viljami    | male                            | 1.00                            | 4                               | 1                               | 3101295                         |  39.6875                        | NA                              | S                               | \n",
       "| 173                             | 1                               | 3                               | Johnson, Miss. Eleanor Ileen    | female                          | 1.00                            | 1                               | 1                               | 347742                          |  11.1333                        | NA                              | S                               | \n",
       "| 184                             | 1                               | 2                               | Becker, Master. Richard F       | male                            | 1.00                            | 2                               | 1                               | 230136                          |  39.0000                        | F4                              | S                               | \n",
       "\n",
       "\n"
      ],
      "text/plain": [
       "   PassengerId Survived Pclass Name                            Sex    Age \n",
       "1  804         1        3      Thomas, Master. Assad Alexander male   0.42\n",
       "2  756         1        2      Hamalainen, Master. Viljo       male   0.67\n",
       "3  470         1        3      Baclini, Miss. Helene Barbara   female 0.75\n",
       "4  645         1        3      Baclini, Miss. Eugenie          female 0.75\n",
       "5   79         1        2      Caldwell, Master. Alden Gates   male   0.83\n",
       "6  832         1        2      Richards, Master. George Sibley male   0.83\n",
       "7  306         1        1      Allison, Master. Hudson Trevor  male   0.92\n",
       "8  165         0        3      Panula, Master. Eino Viljami    male   1.00\n",
       "9  173         1        3      Johnson, Miss. Eleanor Ileen    female 1.00\n",
       "10 184         1        2      Becker, Master. Richard F       male   1.00\n",
       "   SibSp Parch Ticket  Fare     Cabin   Embarked\n",
       "1  0     1     2625      8.5167 NA      C       \n",
       "2  1     1     250649   14.5000 NA      S       \n",
       "3  2     1     2666     19.2583 NA      C       \n",
       "4  2     1     2666     19.2583 NA      C       \n",
       "5  0     2     248738   29.0000 NA      S       \n",
       "6  1     1     29106    18.7500 NA      S       \n",
       "7  1     2     113781  151.5500 C22 C26 S       \n",
       "8  4     1     3101295  39.6875 NA      S       \n",
       "9  1     1     347742   11.1333 NA      S       \n",
       "10 2     1     230136   39.0000 F4      S       "
      ]
     },
     "metadata": {},
     "output_type": "display_data"
    }
   ],
   "source": [
    "titanic %>% arrange(Age) %>% head(10)"
   ]
  },
  {
   "cell_type": "code",
   "execution_count": 97,
   "metadata": {},
   "outputs": [
    {
     "data": {
      "text/html": [
       "<table>\n",
       "<thead><tr><th scope=col>PassengerId</th><th scope=col>Survived</th><th scope=col>Pclass</th><th scope=col>Name</th><th scope=col>Sex</th><th scope=col>Age</th><th scope=col>SibSp</th><th scope=col>Parch</th><th scope=col>Ticket</th><th scope=col>Fare</th><th scope=col>Cabin</th><th scope=col>Embarked</th></tr></thead>\n",
       "<tbody>\n",
       "\t<tr><td>804                            </td><td>1                              </td><td>3                              </td><td>Thomas, Master. Assad Alexander</td><td>male                           </td><td>0.42                           </td><td>0                              </td><td>1                              </td><td>2625                           </td><td> 8.5167                        </td><td>NA                             </td><td>C                              </td></tr>\n",
       "\t<tr><td>756                            </td><td>1                              </td><td>2                              </td><td>Hamalainen, Master. Viljo      </td><td>male                           </td><td>0.67                           </td><td>1                              </td><td>1                              </td><td>250649                         </td><td>14.5000                        </td><td>NA                             </td><td>S                              </td></tr>\n",
       "\t<tr><td>470                            </td><td>1                              </td><td>3                              </td><td>Baclini, Miss. Helene Barbara  </td><td>female                         </td><td>0.75                           </td><td>2                              </td><td>1                              </td><td>2666                           </td><td>19.2583                        </td><td>NA                             </td><td>C                              </td></tr>\n",
       "\t<tr><td>645                            </td><td>1                              </td><td>3                              </td><td>Baclini, Miss. Eugenie         </td><td>female                         </td><td>0.75                           </td><td>2                              </td><td>1                              </td><td>2666                           </td><td>19.2583                        </td><td>NA                             </td><td>C                              </td></tr>\n",
       "\t<tr><td> 79                            </td><td>1                              </td><td>2                              </td><td>Caldwell, Master. Alden Gates  </td><td>male                           </td><td>0.83                           </td><td>0                              </td><td>2                              </td><td>248738                         </td><td>29.0000                        </td><td>NA                             </td><td>S                              </td></tr>\n",
       "\t<tr><td>832                            </td><td>1                              </td><td>2                              </td><td>Richards, Master. George Sibley</td><td>male                           </td><td>0.83                           </td><td>1                              </td><td>1                              </td><td>29106                          </td><td>18.7500                        </td><td>NA                             </td><td>S                              </td></tr>\n",
       "</tbody>\n",
       "</table>\n"
      ],
      "text/latex": [
       "\\begin{tabular}{r|llllllllllll}\n",
       " PassengerId & Survived & Pclass & Name & Sex & Age & SibSp & Parch & Ticket & Fare & Cabin & Embarked\\\\\n",
       "\\hline\n",
       "\t 804                             & 1                               & 3                               & Thomas, Master. Assad Alexander & male                            & 0.42                            & 0                               & 1                               & 2625                            &  8.5167                         & NA                              & C                              \\\\\n",
       "\t 756                             & 1                               & 2                               & Hamalainen, Master. Viljo       & male                            & 0.67                            & 1                               & 1                               & 250649                          & 14.5000                         & NA                              & S                              \\\\\n",
       "\t 470                             & 1                               & 3                               & Baclini, Miss. Helene Barbara   & female                          & 0.75                            & 2                               & 1                               & 2666                            & 19.2583                         & NA                              & C                              \\\\\n",
       "\t 645                             & 1                               & 3                               & Baclini, Miss. Eugenie          & female                          & 0.75                            & 2                               & 1                               & 2666                            & 19.2583                         & NA                              & C                              \\\\\n",
       "\t  79                             & 1                               & 2                               & Caldwell, Master. Alden Gates   & male                            & 0.83                            & 0                               & 2                               & 248738                          & 29.0000                         & NA                              & S                              \\\\\n",
       "\t 832                             & 1                               & 2                               & Richards, Master. George Sibley & male                            & 0.83                            & 1                               & 1                               & 29106                           & 18.7500                         & NA                              & S                              \\\\\n",
       "\\end{tabular}\n"
      ],
      "text/markdown": [
       "\n",
       "PassengerId | Survived | Pclass | Name | Sex | Age | SibSp | Parch | Ticket | Fare | Cabin | Embarked | \n",
       "|---|---|---|---|---|---|\n",
       "| 804                             | 1                               | 3                               | Thomas, Master. Assad Alexander | male                            | 0.42                            | 0                               | 1                               | 2625                            |  8.5167                         | NA                              | C                               | \n",
       "| 756                             | 1                               | 2                               | Hamalainen, Master. Viljo       | male                            | 0.67                            | 1                               | 1                               | 250649                          | 14.5000                         | NA                              | S                               | \n",
       "| 470                             | 1                               | 3                               | Baclini, Miss. Helene Barbara   | female                          | 0.75                            | 2                               | 1                               | 2666                            | 19.2583                         | NA                              | C                               | \n",
       "| 645                             | 1                               | 3                               | Baclini, Miss. Eugenie          | female                          | 0.75                            | 2                               | 1                               | 2666                            | 19.2583                         | NA                              | C                               | \n",
       "|  79                             | 1                               | 2                               | Caldwell, Master. Alden Gates   | male                            | 0.83                            | 0                               | 2                               | 248738                          | 29.0000                         | NA                              | S                               | \n",
       "| 832                             | 1                               | 2                               | Richards, Master. George Sibley | male                            | 0.83                            | 1                               | 1                               | 29106                           | 18.7500                         | NA                              | S                               | \n",
       "\n",
       "\n"
      ],
      "text/plain": [
       "  PassengerId Survived Pclass Name                            Sex    Age  SibSp\n",
       "1 804         1        3      Thomas, Master. Assad Alexander male   0.42 0    \n",
       "2 756         1        2      Hamalainen, Master. Viljo       male   0.67 1    \n",
       "3 470         1        3      Baclini, Miss. Helene Barbara   female 0.75 2    \n",
       "4 645         1        3      Baclini, Miss. Eugenie          female 0.75 2    \n",
       "5  79         1        2      Caldwell, Master. Alden Gates   male   0.83 0    \n",
       "6 832         1        2      Richards, Master. George Sibley male   0.83 1    \n",
       "  Parch Ticket Fare    Cabin Embarked\n",
       "1 1     2625    8.5167 NA    C       \n",
       "2 1     250649 14.5000 NA    S       \n",
       "3 1     2666   19.2583 NA    C       \n",
       "4 1     2666   19.2583 NA    C       \n",
       "5 2     248738 29.0000 NA    S       \n",
       "6 1     29106  18.7500 NA    S       "
      ]
     },
     "metadata": {},
     "output_type": "display_data"
    }
   ],
   "source": [
    "titanic %>% arrange(Age) %>% head"
   ]
  },
  {
   "cell_type": "code",
   "execution_count": 98,
   "metadata": {},
   "outputs": [
    {
     "data": {
      "text/html": [
       "<table>\n",
       "<thead><tr><th scope=col>PassengerId</th><th scope=col>Survived</th><th scope=col>Pclass</th><th scope=col>Name</th><th scope=col>Sex</th><th scope=col>Age</th><th scope=col>SibSp</th><th scope=col>Parch</th><th scope=col>Ticket</th><th scope=col>Fare</th><th scope=col>Cabin</th><th scope=col>Embarked</th><th scope=col>SibSp_Parch</th></tr></thead>\n",
       "<tbody>\n",
       "\t<tr><td> 1                                                 </td><td>0                                                  </td><td>3                                                  </td><td>Braund, Mr. Owen Harris                            </td><td>male                                               </td><td>22                                                 </td><td>1                                                  </td><td>0                                                  </td><td>A/5 21171                                          </td><td> 7.2500                                            </td><td>NA                                                 </td><td>S                                                  </td><td>1                                                  </td></tr>\n",
       "\t<tr><td> 2                                                 </td><td>1                                                  </td><td>1                                                  </td><td>Cumings, Mrs. John Bradley (Florence Briggs Thayer)</td><td>female                                             </td><td>38                                                 </td><td>1                                                  </td><td>0                                                  </td><td>PC 17599                                           </td><td>71.2833                                            </td><td>C85                                                </td><td>C                                                  </td><td>1                                                  </td></tr>\n",
       "\t<tr><td> 3                                                 </td><td>1                                                  </td><td>3                                                  </td><td>Heikkinen, Miss. Laina                             </td><td>female                                             </td><td>26                                                 </td><td>0                                                  </td><td>0                                                  </td><td>STON/O2. 3101282                                   </td><td> 7.9250                                            </td><td>NA                                                 </td><td>S                                                  </td><td>0                                                  </td></tr>\n",
       "\t<tr><td> 4                                                 </td><td>1                                                  </td><td>1                                                  </td><td>Futrelle, Mrs. Jacques Heath (Lily May Peel)       </td><td>female                                             </td><td>35                                                 </td><td>1                                                  </td><td>0                                                  </td><td>113803                                             </td><td>53.1000                                            </td><td>C123                                               </td><td>S                                                  </td><td>1                                                  </td></tr>\n",
       "\t<tr><td> 5                                                 </td><td>0                                                  </td><td>3                                                  </td><td>Allen, Mr. William Henry                           </td><td>male                                               </td><td>35                                                 </td><td>0                                                  </td><td>0                                                  </td><td>373450                                             </td><td> 8.0500                                            </td><td>NA                                                 </td><td>S                                                  </td><td>0                                                  </td></tr>\n",
       "\t<tr><td> 6                                                 </td><td>0                                                  </td><td>3                                                  </td><td>Moran, Mr. James                                   </td><td>male                                               </td><td>29                                                 </td><td>0                                                  </td><td>0                                                  </td><td>330877                                             </td><td> 8.4583                                            </td><td>NA                                                 </td><td>Q                                                  </td><td>0                                                  </td></tr>\n",
       "\t<tr><td> 7                                                 </td><td>0                                                  </td><td>1                                                  </td><td>McCarthy, Mr. Timothy J                            </td><td>male                                               </td><td>54                                                 </td><td>0                                                  </td><td>0                                                  </td><td>17463                                              </td><td>51.8625                                            </td><td>E46                                                </td><td>S                                                  </td><td>0                                                  </td></tr>\n",
       "\t<tr><td> 8                                                 </td><td>0                                                  </td><td>3                                                  </td><td>Palsson, Master. Gosta Leonard                     </td><td>male                                               </td><td> 2                                                 </td><td>3                                                  </td><td>1                                                  </td><td>349909                                             </td><td>21.0750                                            </td><td>NA                                                 </td><td>S                                                  </td><td>4                                                  </td></tr>\n",
       "\t<tr><td> 9                                                 </td><td>1                                                  </td><td>3                                                  </td><td>Johnson, Mrs. Oscar W (Elisabeth Vilhelmina Berg)  </td><td>female                                             </td><td>27                                                 </td><td>0                                                  </td><td>2                                                  </td><td>347742                                             </td><td>11.1333                                            </td><td>NA                                                 </td><td>S                                                  </td><td>2                                                  </td></tr>\n",
       "\t<tr><td>10                                                 </td><td>1                                                  </td><td>2                                                  </td><td>Nasser, Mrs. Nicholas (Adele Achem)                </td><td>female                                             </td><td>14                                                 </td><td>1                                                  </td><td>0                                                  </td><td>237736                                             </td><td>30.0708                                            </td><td>NA                                                 </td><td>C                                                  </td><td>1                                                  </td></tr>\n",
       "</tbody>\n",
       "</table>\n"
      ],
      "text/latex": [
       "\\begin{tabular}{r|lllllllllllll}\n",
       " PassengerId & Survived & Pclass & Name & Sex & Age & SibSp & Parch & Ticket & Fare & Cabin & Embarked & SibSp\\_Parch\\\\\n",
       "\\hline\n",
       "\t  1                                                  & 0                                                   & 3                                                   & Braund, Mr. Owen Harris                             & male                                                & 22                                                  & 1                                                   & 0                                                   & A/5 21171                                           &  7.2500                                             & NA                                                  & S                                                   & 1                                                  \\\\\n",
       "\t  2                                                  & 1                                                   & 1                                                   & Cumings, Mrs. John Bradley (Florence Briggs Thayer) & female                                              & 38                                                  & 1                                                   & 0                                                   & PC 17599                                            & 71.2833                                             & C85                                                 & C                                                   & 1                                                  \\\\\n",
       "\t  3                                                  & 1                                                   & 3                                                   & Heikkinen, Miss. Laina                              & female                                              & 26                                                  & 0                                                   & 0                                                   & STON/O2. 3101282                                    &  7.9250                                             & NA                                                  & S                                                   & 0                                                  \\\\\n",
       "\t  4                                                  & 1                                                   & 1                                                   & Futrelle, Mrs. Jacques Heath (Lily May Peel)        & female                                              & 35                                                  & 1                                                   & 0                                                   & 113803                                              & 53.1000                                             & C123                                                & S                                                   & 1                                                  \\\\\n",
       "\t  5                                                  & 0                                                   & 3                                                   & Allen, Mr. William Henry                            & male                                                & 35                                                  & 0                                                   & 0                                                   & 373450                                              &  8.0500                                             & NA                                                  & S                                                   & 0                                                  \\\\\n",
       "\t  6                                                  & 0                                                   & 3                                                   & Moran, Mr. James                                    & male                                                & 29                                                  & 0                                                   & 0                                                   & 330877                                              &  8.4583                                             & NA                                                  & Q                                                   & 0                                                  \\\\\n",
       "\t  7                                                  & 0                                                   & 1                                                   & McCarthy, Mr. Timothy J                             & male                                                & 54                                                  & 0                                                   & 0                                                   & 17463                                               & 51.8625                                             & E46                                                 & S                                                   & 0                                                  \\\\\n",
       "\t  8                                                  & 0                                                   & 3                                                   & Palsson, Master. Gosta Leonard                      & male                                                &  2                                                  & 3                                                   & 1                                                   & 349909                                              & 21.0750                                             & NA                                                  & S                                                   & 4                                                  \\\\\n",
       "\t  9                                                  & 1                                                   & 3                                                   & Johnson, Mrs. Oscar W (Elisabeth Vilhelmina Berg)   & female                                              & 27                                                  & 0                                                   & 2                                                   & 347742                                              & 11.1333                                             & NA                                                  & S                                                   & 2                                                  \\\\\n",
       "\t 10                                                  & 1                                                   & 2                                                   & Nasser, Mrs. Nicholas (Adele Achem)                 & female                                              & 14                                                  & 1                                                   & 0                                                   & 237736                                              & 30.0708                                             & NA                                                  & C                                                   & 1                                                  \\\\\n",
       "\\end{tabular}\n"
      ],
      "text/markdown": [
       "\n",
       "PassengerId | Survived | Pclass | Name | Sex | Age | SibSp | Parch | Ticket | Fare | Cabin | Embarked | SibSp_Parch | \n",
       "|---|---|---|---|---|---|---|---|---|---|\n",
       "|  1                                                  | 0                                                   | 3                                                   | Braund, Mr. Owen Harris                             | male                                                | 22                                                  | 1                                                   | 0                                                   | A/5 21171                                           |  7.2500                                             | NA                                                  | S                                                   | 1                                                   | \n",
       "|  2                                                  | 1                                                   | 1                                                   | Cumings, Mrs. John Bradley (Florence Briggs Thayer) | female                                              | 38                                                  | 1                                                   | 0                                                   | PC 17599                                            | 71.2833                                             | C85                                                 | C                                                   | 1                                                   | \n",
       "|  3                                                  | 1                                                   | 3                                                   | Heikkinen, Miss. Laina                              | female                                              | 26                                                  | 0                                                   | 0                                                   | STON/O2. 3101282                                    |  7.9250                                             | NA                                                  | S                                                   | 0                                                   | \n",
       "|  4                                                  | 1                                                   | 1                                                   | Futrelle, Mrs. Jacques Heath (Lily May Peel)        | female                                              | 35                                                  | 1                                                   | 0                                                   | 113803                                              | 53.1000                                             | C123                                                | S                                                   | 1                                                   | \n",
       "|  5                                                  | 0                                                   | 3                                                   | Allen, Mr. William Henry                            | male                                                | 35                                                  | 0                                                   | 0                                                   | 373450                                              |  8.0500                                             | NA                                                  | S                                                   | 0                                                   | \n",
       "|  6                                                  | 0                                                   | 3                                                   | Moran, Mr. James                                    | male                                                | 29                                                  | 0                                                   | 0                                                   | 330877                                              |  8.4583                                             | NA                                                  | Q                                                   | 0                                                   | \n",
       "|  7                                                  | 0                                                   | 1                                                   | McCarthy, Mr. Timothy J                             | male                                                | 54                                                  | 0                                                   | 0                                                   | 17463                                               | 51.8625                                             | E46                                                 | S                                                   | 0                                                   | \n",
       "|  8                                                  | 0                                                   | 3                                                   | Palsson, Master. Gosta Leonard                      | male                                                |  2                                                  | 3                                                   | 1                                                   | 349909                                              | 21.0750                                             | NA                                                  | S                                                   | 4                                                   | \n",
       "|  9                                                  | 1                                                   | 3                                                   | Johnson, Mrs. Oscar W (Elisabeth Vilhelmina Berg)   | female                                              | 27                                                  | 0                                                   | 2                                                   | 347742                                              | 11.1333                                             | NA                                                  | S                                                   | 2                                                   | \n",
       "| 10                                                  | 1                                                   | 2                                                   | Nasser, Mrs. Nicholas (Adele Achem)                 | female                                              | 14                                                  | 1                                                   | 0                                                   | 237736                                              | 30.0708                                             | NA                                                  | C                                                   | 1                                                   | \n",
       "\n",
       "\n"
      ],
      "text/plain": [
       "   PassengerId Survived Pclass\n",
       "1   1          0        3     \n",
       "2   2          1        1     \n",
       "3   3          1        3     \n",
       "4   4          1        1     \n",
       "5   5          0        3     \n",
       "6   6          0        3     \n",
       "7   7          0        1     \n",
       "8   8          0        3     \n",
       "9   9          1        3     \n",
       "10 10          1        2     \n",
       "   Name                                                Sex    Age SibSp Parch\n",
       "1  Braund, Mr. Owen Harris                             male   22  1     0    \n",
       "2  Cumings, Mrs. John Bradley (Florence Briggs Thayer) female 38  1     0    \n",
       "3  Heikkinen, Miss. Laina                              female 26  0     0    \n",
       "4  Futrelle, Mrs. Jacques Heath (Lily May Peel)        female 35  1     0    \n",
       "5  Allen, Mr. William Henry                            male   35  0     0    \n",
       "6  Moran, Mr. James                                    male   29  0     0    \n",
       "7  McCarthy, Mr. Timothy J                             male   54  0     0    \n",
       "8  Palsson, Master. Gosta Leonard                      male    2  3     1    \n",
       "9  Johnson, Mrs. Oscar W (Elisabeth Vilhelmina Berg)   female 27  0     2    \n",
       "10 Nasser, Mrs. Nicholas (Adele Achem)                 female 14  1     0    \n",
       "   Ticket           Fare    Cabin Embarked SibSp_Parch\n",
       "1  A/5 21171         7.2500 NA    S        1          \n",
       "2  PC 17599         71.2833 C85   C        1          \n",
       "3  STON/O2. 3101282  7.9250 NA    S        0          \n",
       "4  113803           53.1000 C123  S        1          \n",
       "5  373450            8.0500 NA    S        0          \n",
       "6  330877            8.4583 NA    Q        0          \n",
       "7  17463            51.8625 E46   S        0          \n",
       "8  349909           21.0750 NA    S        4          \n",
       "9  347742           11.1333 NA    S        2          \n",
       "10 237736           30.0708 NA    C        1          "
      ]
     },
     "metadata": {},
     "output_type": "display_data"
    }
   ],
   "source": [
    "### 합계를 구해서 이를 이용하여 정렬하기\n",
    "titanic$SibSp_Parch <- titanic$SibSp + titanic$Parch\n",
    "head(titanic, 10)"
   ]
  },
  {
   "cell_type": "code",
   "execution_count": 99,
   "metadata": {},
   "outputs": [
    {
     "data": {
      "text/html": [
       "<table>\n",
       "<thead><tr><th scope=col>PassengerId</th><th scope=col>Survived</th><th scope=col>Pclass</th><th scope=col>Name</th><th scope=col>Sex</th><th scope=col>Age</th><th scope=col>SibSp</th><th scope=col>Parch</th><th scope=col>Ticket</th><th scope=col>Fare</th><th scope=col>Cabin</th><th scope=col>Embarked</th><th scope=col>SibSp_Parch</th></tr></thead>\n",
       "<tbody>\n",
       "\t<tr><td>160                               </td><td>0                                 </td><td>3                                 </td><td>Sage, Master. Thomas Henry        </td><td>male                              </td><td>29                                </td><td>8                                 </td><td>2                                 </td><td>CA. 2343                          </td><td>69.55                             </td><td>NA                                </td><td>S                                 </td><td>10                                </td></tr>\n",
       "\t<tr><td>181                               </td><td>0                                 </td><td>3                                 </td><td>Sage, Miss. Constance Gladys      </td><td>female                            </td><td>29                                </td><td>8                                 </td><td>2                                 </td><td>CA. 2343                          </td><td>69.55                             </td><td>NA                                </td><td>S                                 </td><td>10                                </td></tr>\n",
       "\t<tr><td>202                               </td><td>0                                 </td><td>3                                 </td><td>Sage, Mr. Frederick               </td><td>male                              </td><td>29                                </td><td>8                                 </td><td>2                                 </td><td>CA. 2343                          </td><td>69.55                             </td><td>NA                                </td><td>S                                 </td><td>10                                </td></tr>\n",
       "\t<tr><td>325                               </td><td>0                                 </td><td>3                                 </td><td>Sage, Mr. George John Jr          </td><td>male                              </td><td>29                                </td><td>8                                 </td><td>2                                 </td><td>CA. 2343                          </td><td>69.55                             </td><td>NA                                </td><td>S                                 </td><td>10                                </td></tr>\n",
       "\t<tr><td>793                               </td><td>0                                 </td><td>3                                 </td><td>Sage, Miss. Stella Anna           </td><td>female                            </td><td>29                                </td><td>8                                 </td><td>2                                 </td><td>CA. 2343                          </td><td>69.55                             </td><td>NA                                </td><td>S                                 </td><td>10                                </td></tr>\n",
       "\t<tr><td>847                               </td><td>0                                 </td><td>3                                 </td><td>Sage, Mr. Douglas Bullen          </td><td>male                              </td><td>29                                </td><td>8                                 </td><td>2                                 </td><td>CA. 2343                          </td><td>69.55                             </td><td>NA                                </td><td>S                                 </td><td>10                                </td></tr>\n",
       "\t<tr><td>864                               </td><td>0                                 </td><td>3                                 </td><td>Sage, Miss. Dorothy Edith \"Dolly\" </td><td>female                            </td><td>29                                </td><td>8                                 </td><td>2                                 </td><td>CA. 2343                          </td><td>69.55                             </td><td>NA                                </td><td>S                                 </td><td>10                                </td></tr>\n",
       "\t<tr><td> 60                               </td><td>0                                 </td><td>3                                 </td><td>Goodwin, Master. William Frederick</td><td>male                              </td><td>11                                </td><td>5                                 </td><td>2                                 </td><td>CA 2144                           </td><td>46.90                             </td><td>NA                                </td><td>S                                 </td><td> 7                                </td></tr>\n",
       "\t<tr><td> 72                               </td><td>0                                 </td><td>3                                 </td><td>Goodwin, Miss. Lillian Amy        </td><td>female                            </td><td>16                                </td><td>5                                 </td><td>2                                 </td><td>CA 2144                           </td><td>46.90                             </td><td>NA                                </td><td>S                                 </td><td> 7                                </td></tr>\n",
       "\t<tr><td>387                               </td><td>0                                 </td><td>3                                 </td><td>Goodwin, Master. Sidney Leonard   </td><td>male                              </td><td> 1                                </td><td>5                                 </td><td>2                                 </td><td>CA 2144                           </td><td>46.90                             </td><td>NA                                </td><td>S                                 </td><td> 7                                </td></tr>\n",
       "</tbody>\n",
       "</table>\n"
      ],
      "text/latex": [
       "\\begin{tabular}{r|lllllllllllll}\n",
       " PassengerId & Survived & Pclass & Name & Sex & Age & SibSp & Parch & Ticket & Fare & Cabin & Embarked & SibSp\\_Parch\\\\\n",
       "\\hline\n",
       "\t 160                                & 0                                  & 3                                  & Sage, Master. Thomas Henry         & male                               & 29                                 & 8                                  & 2                                  & CA. 2343                           & 69.55                              & NA                                 & S                                  & 10                                \\\\\n",
       "\t 181                                & 0                                  & 3                                  & Sage, Miss. Constance Gladys       & female                             & 29                                 & 8                                  & 2                                  & CA. 2343                           & 69.55                              & NA                                 & S                                  & 10                                \\\\\n",
       "\t 202                                & 0                                  & 3                                  & Sage, Mr. Frederick                & male                               & 29                                 & 8                                  & 2                                  & CA. 2343                           & 69.55                              & NA                                 & S                                  & 10                                \\\\\n",
       "\t 325                                & 0                                  & 3                                  & Sage, Mr. George John Jr           & male                               & 29                                 & 8                                  & 2                                  & CA. 2343                           & 69.55                              & NA                                 & S                                  & 10                                \\\\\n",
       "\t 793                                & 0                                  & 3                                  & Sage, Miss. Stella Anna            & female                             & 29                                 & 8                                  & 2                                  & CA. 2343                           & 69.55                              & NA                                 & S                                  & 10                                \\\\\n",
       "\t 847                                & 0                                  & 3                                  & Sage, Mr. Douglas Bullen           & male                               & 29                                 & 8                                  & 2                                  & CA. 2343                           & 69.55                              & NA                                 & S                                  & 10                                \\\\\n",
       "\t 864                                & 0                                  & 3                                  & Sage, Miss. Dorothy Edith \"Dolly\"  & female                             & 29                                 & 8                                  & 2                                  & CA. 2343                           & 69.55                              & NA                                 & S                                  & 10                                \\\\\n",
       "\t  60                                & 0                                  & 3                                  & Goodwin, Master. William Frederick & male                               & 11                                 & 5                                  & 2                                  & CA 2144                            & 46.90                              & NA                                 & S                                  &  7                                \\\\\n",
       "\t  72                                & 0                                  & 3                                  & Goodwin, Miss. Lillian Amy         & female                             & 16                                 & 5                                  & 2                                  & CA 2144                            & 46.90                              & NA                                 & S                                  &  7                                \\\\\n",
       "\t 387                                & 0                                  & 3                                  & Goodwin, Master. Sidney Leonard    & male                               &  1                                 & 5                                  & 2                                  & CA 2144                            & 46.90                              & NA                                 & S                                  &  7                                \\\\\n",
       "\\end{tabular}\n"
      ],
      "text/markdown": [
       "\n",
       "PassengerId | Survived | Pclass | Name | Sex | Age | SibSp | Parch | Ticket | Fare | Cabin | Embarked | SibSp_Parch | \n",
       "|---|---|---|---|---|---|---|---|---|---|\n",
       "| 160                                | 0                                  | 3                                  | Sage, Master. Thomas Henry         | male                               | 29                                 | 8                                  | 2                                  | CA. 2343                           | 69.55                              | NA                                 | S                                  | 10                                 | \n",
       "| 181                                | 0                                  | 3                                  | Sage, Miss. Constance Gladys       | female                             | 29                                 | 8                                  | 2                                  | CA. 2343                           | 69.55                              | NA                                 | S                                  | 10                                 | \n",
       "| 202                                | 0                                  | 3                                  | Sage, Mr. Frederick                | male                               | 29                                 | 8                                  | 2                                  | CA. 2343                           | 69.55                              | NA                                 | S                                  | 10                                 | \n",
       "| 325                                | 0                                  | 3                                  | Sage, Mr. George John Jr           | male                               | 29                                 | 8                                  | 2                                  | CA. 2343                           | 69.55                              | NA                                 | S                                  | 10                                 | \n",
       "| 793                                | 0                                  | 3                                  | Sage, Miss. Stella Anna            | female                             | 29                                 | 8                                  | 2                                  | CA. 2343                           | 69.55                              | NA                                 | S                                  | 10                                 | \n",
       "| 847                                | 0                                  | 3                                  | Sage, Mr. Douglas Bullen           | male                               | 29                                 | 8                                  | 2                                  | CA. 2343                           | 69.55                              | NA                                 | S                                  | 10                                 | \n",
       "| 864                                | 0                                  | 3                                  | Sage, Miss. Dorothy Edith \"Dolly\"  | female                             | 29                                 | 8                                  | 2                                  | CA. 2343                           | 69.55                              | NA                                 | S                                  | 10                                 | \n",
       "|  60                                | 0                                  | 3                                  | Goodwin, Master. William Frederick | male                               | 11                                 | 5                                  | 2                                  | CA 2144                            | 46.90                              | NA                                 | S                                  |  7                                 | \n",
       "|  72                                | 0                                  | 3                                  | Goodwin, Miss. Lillian Amy         | female                             | 16                                 | 5                                  | 2                                  | CA 2144                            | 46.90                              | NA                                 | S                                  |  7                                 | \n",
       "| 387                                | 0                                  | 3                                  | Goodwin, Master. Sidney Leonard    | male                               |  1                                 | 5                                  | 2                                  | CA 2144                            | 46.90                              | NA                                 | S                                  |  7                                 | \n",
       "\n",
       "\n"
      ],
      "text/plain": [
       "   PassengerId Survived Pclass Name                               Sex    Age\n",
       "1  160         0        3      Sage, Master. Thomas Henry         male   29 \n",
       "2  181         0        3      Sage, Miss. Constance Gladys       female 29 \n",
       "3  202         0        3      Sage, Mr. Frederick                male   29 \n",
       "4  325         0        3      Sage, Mr. George John Jr           male   29 \n",
       "5  793         0        3      Sage, Miss. Stella Anna            female 29 \n",
       "6  847         0        3      Sage, Mr. Douglas Bullen           male   29 \n",
       "7  864         0        3      Sage, Miss. Dorothy Edith \"Dolly\"  female 29 \n",
       "8   60         0        3      Goodwin, Master. William Frederick male   11 \n",
       "9   72         0        3      Goodwin, Miss. Lillian Amy         female 16 \n",
       "10 387         0        3      Goodwin, Master. Sidney Leonard    male    1 \n",
       "   SibSp Parch Ticket   Fare  Cabin Embarked SibSp_Parch\n",
       "1  8     2     CA. 2343 69.55 NA    S        10         \n",
       "2  8     2     CA. 2343 69.55 NA    S        10         \n",
       "3  8     2     CA. 2343 69.55 NA    S        10         \n",
       "4  8     2     CA. 2343 69.55 NA    S        10         \n",
       "5  8     2     CA. 2343 69.55 NA    S        10         \n",
       "6  8     2     CA. 2343 69.55 NA    S        10         \n",
       "7  8     2     CA. 2343 69.55 NA    S        10         \n",
       "8  5     2     CA 2144  46.90 NA    S         7         \n",
       "9  5     2     CA 2144  46.90 NA    S         7         \n",
       "10 5     2     CA 2144  46.90 NA    S         7         "
      ]
     },
     "metadata": {},
     "output_type": "display_data"
    }
   ],
   "source": [
    "titanic %>% arrange(desc(SibSp_Parch)) %>% head(10) # 내림 차순 정렬"
   ]
  },
  {
   "cell_type": "markdown",
   "metadata": {},
   "source": [
    "### 실습과제 5-3 \n",
    "* titanic 데이터를 이용해서 분석 문제를 해결해 보시오.\n",
    "* 어떤 경우에 생존자가 가장 많은가? (여성/남성, 나이대, 형제나자매수, Embarked 등)"
   ]
  },
  {
   "cell_type": "markdown",
   "metadata": {},
   "source": [
    "### 5-4 파생변수 추가하기\n",
    "* mutate(변수명)\n",
    "* titanic$SibSp_Parch_m 생성\n",
    "* titanic %>% mutate(SibSp_Parch_m= SibSp + Parch) %>% head"
   ]
  },
  {
   "cell_type": "code",
   "execution_count": 100,
   "metadata": {},
   "outputs": [
    {
     "data": {
      "text/html": [
       "<table>\n",
       "<thead><tr><th scope=col>PassengerId</th><th scope=col>Survived</th><th scope=col>Pclass</th><th scope=col>Name</th><th scope=col>Sex</th><th scope=col>Age</th><th scope=col>SibSp</th><th scope=col>Parch</th><th scope=col>Ticket</th><th scope=col>Fare</th><th scope=col>Cabin</th><th scope=col>Embarked</th><th scope=col>SibSp_Parch</th><th scope=col>SibSp_Parch_m</th></tr></thead>\n",
       "<tbody>\n",
       "\t<tr><td>1                                                  </td><td>0                                                  </td><td>3                                                  </td><td>Braund, Mr. Owen Harris                            </td><td>male                                               </td><td>22                                                 </td><td>1                                                  </td><td>0                                                  </td><td>A/5 21171                                          </td><td> 7.2500                                            </td><td>NA                                                 </td><td>S                                                  </td><td>1                                                  </td><td>1                                                  </td></tr>\n",
       "\t<tr><td>2                                                  </td><td>1                                                  </td><td>1                                                  </td><td>Cumings, Mrs. John Bradley (Florence Briggs Thayer)</td><td>female                                             </td><td>38                                                 </td><td>1                                                  </td><td>0                                                  </td><td>PC 17599                                           </td><td>71.2833                                            </td><td>C85                                                </td><td>C                                                  </td><td>1                                                  </td><td>1                                                  </td></tr>\n",
       "\t<tr><td>3                                                  </td><td>1                                                  </td><td>3                                                  </td><td>Heikkinen, Miss. Laina                             </td><td>female                                             </td><td>26                                                 </td><td>0                                                  </td><td>0                                                  </td><td>STON/O2. 3101282                                   </td><td> 7.9250                                            </td><td>NA                                                 </td><td>S                                                  </td><td>0                                                  </td><td>0                                                  </td></tr>\n",
       "\t<tr><td>4                                                  </td><td>1                                                  </td><td>1                                                  </td><td>Futrelle, Mrs. Jacques Heath (Lily May Peel)       </td><td>female                                             </td><td>35                                                 </td><td>1                                                  </td><td>0                                                  </td><td>113803                                             </td><td>53.1000                                            </td><td>C123                                               </td><td>S                                                  </td><td>1                                                  </td><td>1                                                  </td></tr>\n",
       "\t<tr><td>5                                                  </td><td>0                                                  </td><td>3                                                  </td><td>Allen, Mr. William Henry                           </td><td>male                                               </td><td>35                                                 </td><td>0                                                  </td><td>0                                                  </td><td>373450                                             </td><td> 8.0500                                            </td><td>NA                                                 </td><td>S                                                  </td><td>0                                                  </td><td>0                                                  </td></tr>\n",
       "\t<tr><td>6                                                  </td><td>0                                                  </td><td>3                                                  </td><td>Moran, Mr. James                                   </td><td>male                                               </td><td>29                                                 </td><td>0                                                  </td><td>0                                                  </td><td>330877                                             </td><td> 8.4583                                            </td><td>NA                                                 </td><td>Q                                                  </td><td>0                                                  </td><td>0                                                  </td></tr>\n",
       "</tbody>\n",
       "</table>\n"
      ],
      "text/latex": [
       "\\begin{tabular}{r|llllllllllllll}\n",
       " PassengerId & Survived & Pclass & Name & Sex & Age & SibSp & Parch & Ticket & Fare & Cabin & Embarked & SibSp\\_Parch & SibSp\\_Parch\\_m\\\\\n",
       "\\hline\n",
       "\t 1                                                   & 0                                                   & 3                                                   & Braund, Mr. Owen Harris                             & male                                                & 22                                                  & 1                                                   & 0                                                   & A/5 21171                                           &  7.2500                                             & NA                                                  & S                                                   & 1                                                   & 1                                                  \\\\\n",
       "\t 2                                                   & 1                                                   & 1                                                   & Cumings, Mrs. John Bradley (Florence Briggs Thayer) & female                                              & 38                                                  & 1                                                   & 0                                                   & PC 17599                                            & 71.2833                                             & C85                                                 & C                                                   & 1                                                   & 1                                                  \\\\\n",
       "\t 3                                                   & 1                                                   & 3                                                   & Heikkinen, Miss. Laina                              & female                                              & 26                                                  & 0                                                   & 0                                                   & STON/O2. 3101282                                    &  7.9250                                             & NA                                                  & S                                                   & 0                                                   & 0                                                  \\\\\n",
       "\t 4                                                   & 1                                                   & 1                                                   & Futrelle, Mrs. Jacques Heath (Lily May Peel)        & female                                              & 35                                                  & 1                                                   & 0                                                   & 113803                                              & 53.1000                                             & C123                                                & S                                                   & 1                                                   & 1                                                  \\\\\n",
       "\t 5                                                   & 0                                                   & 3                                                   & Allen, Mr. William Henry                            & male                                                & 35                                                  & 0                                                   & 0                                                   & 373450                                              &  8.0500                                             & NA                                                  & S                                                   & 0                                                   & 0                                                  \\\\\n",
       "\t 6                                                   & 0                                                   & 3                                                   & Moran, Mr. James                                    & male                                                & 29                                                  & 0                                                   & 0                                                   & 330877                                              &  8.4583                                             & NA                                                  & Q                                                   & 0                                                   & 0                                                  \\\\\n",
       "\\end{tabular}\n"
      ],
      "text/markdown": [
       "\n",
       "PassengerId | Survived | Pclass | Name | Sex | Age | SibSp | Parch | Ticket | Fare | Cabin | Embarked | SibSp_Parch | SibSp_Parch_m | \n",
       "|---|---|---|---|---|---|\n",
       "| 1                                                   | 0                                                   | 3                                                   | Braund, Mr. Owen Harris                             | male                                                | 22                                                  | 1                                                   | 0                                                   | A/5 21171                                           |  7.2500                                             | NA                                                  | S                                                   | 1                                                   | 1                                                   | \n",
       "| 2                                                   | 1                                                   | 1                                                   | Cumings, Mrs. John Bradley (Florence Briggs Thayer) | female                                              | 38                                                  | 1                                                   | 0                                                   | PC 17599                                            | 71.2833                                             | C85                                                 | C                                                   | 1                                                   | 1                                                   | \n",
       "| 3                                                   | 1                                                   | 3                                                   | Heikkinen, Miss. Laina                              | female                                              | 26                                                  | 0                                                   | 0                                                   | STON/O2. 3101282                                    |  7.9250                                             | NA                                                  | S                                                   | 0                                                   | 0                                                   | \n",
       "| 4                                                   | 1                                                   | 1                                                   | Futrelle, Mrs. Jacques Heath (Lily May Peel)        | female                                              | 35                                                  | 1                                                   | 0                                                   | 113803                                              | 53.1000                                             | C123                                                | S                                                   | 1                                                   | 1                                                   | \n",
       "| 5                                                   | 0                                                   | 3                                                   | Allen, Mr. William Henry                            | male                                                | 35                                                  | 0                                                   | 0                                                   | 373450                                              |  8.0500                                             | NA                                                  | S                                                   | 0                                                   | 0                                                   | \n",
       "| 6                                                   | 0                                                   | 3                                                   | Moran, Mr. James                                    | male                                                | 29                                                  | 0                                                   | 0                                                   | 330877                                              |  8.4583                                             | NA                                                  | Q                                                   | 0                                                   | 0                                                   | \n",
       "\n",
       "\n"
      ],
      "text/plain": [
       "  PassengerId Survived Pclass\n",
       "1 1           0        3     \n",
       "2 2           1        1     \n",
       "3 3           1        3     \n",
       "4 4           1        1     \n",
       "5 5           0        3     \n",
       "6 6           0        3     \n",
       "  Name                                                Sex    Age SibSp Parch\n",
       "1 Braund, Mr. Owen Harris                             male   22  1     0    \n",
       "2 Cumings, Mrs. John Bradley (Florence Briggs Thayer) female 38  1     0    \n",
       "3 Heikkinen, Miss. Laina                              female 26  0     0    \n",
       "4 Futrelle, Mrs. Jacques Heath (Lily May Peel)        female 35  1     0    \n",
       "5 Allen, Mr. William Henry                            male   35  0     0    \n",
       "6 Moran, Mr. James                                    male   29  0     0    \n",
       "  Ticket           Fare    Cabin Embarked SibSp_Parch SibSp_Parch_m\n",
       "1 A/5 21171         7.2500 NA    S        1           1            \n",
       "2 PC 17599         71.2833 C85   C        1           1            \n",
       "3 STON/O2. 3101282  7.9250 NA    S        0           0            \n",
       "4 113803           53.1000 C123  S        1           1            \n",
       "5 373450            8.0500 NA    S        0           0            \n",
       "6 330877            8.4583 NA    Q        0           0            "
      ]
     },
     "metadata": {},
     "output_type": "display_data"
    }
   ],
   "source": [
    "titanic %>% mutate(SibSp_Parch_m = SibSp + Parch) %>% head"
   ]
  },
  {
   "cell_type": "markdown",
   "metadata": {},
   "source": [
    "### 여러개의 변수를 생성하기"
   ]
  },
  {
   "cell_type": "code",
   "execution_count": 101,
   "metadata": {},
   "outputs": [
    {
     "data": {
      "text/html": [
       "<table>\n",
       "<thead><tr><th scope=col>PassengerId</th><th scope=col>Survived</th><th scope=col>Pclass</th><th scope=col>Name</th><th scope=col>Sex</th><th scope=col>Age</th><th scope=col>SibSp</th><th scope=col>Parch</th><th scope=col>Ticket</th><th scope=col>Fare</th><th scope=col>Cabin</th><th scope=col>Embarked</th><th scope=col>SibSp_Parch</th><th scope=col>EM_C</th><th scope=col>EM_S</th></tr></thead>\n",
       "<tbody>\n",
       "\t<tr><td>1                                                  </td><td>0                                                  </td><td>3                                                  </td><td>Braund, Mr. Owen Harris                            </td><td>male                                               </td><td>22                                                 </td><td>1                                                  </td><td>0                                                  </td><td>A/5 21171                                          </td><td> 7.2500                                            </td><td>NA                                                 </td><td>S                                                  </td><td>1                                                  </td><td>0                                                  </td><td>1                                                  </td></tr>\n",
       "\t<tr><td>2                                                  </td><td>1                                                  </td><td>1                                                  </td><td>Cumings, Mrs. John Bradley (Florence Briggs Thayer)</td><td>female                                             </td><td>38                                                 </td><td>1                                                  </td><td>0                                                  </td><td>PC 17599                                           </td><td>71.2833                                            </td><td>C85                                                </td><td>C                                                  </td><td>1                                                  </td><td>1                                                  </td><td>0                                                  </td></tr>\n",
       "\t<tr><td>3                                                  </td><td>1                                                  </td><td>3                                                  </td><td>Heikkinen, Miss. Laina                             </td><td>female                                             </td><td>26                                                 </td><td>0                                                  </td><td>0                                                  </td><td>STON/O2. 3101282                                   </td><td> 7.9250                                            </td><td>NA                                                 </td><td>S                                                  </td><td>0                                                  </td><td>0                                                  </td><td>1                                                  </td></tr>\n",
       "\t<tr><td>4                                                  </td><td>1                                                  </td><td>1                                                  </td><td>Futrelle, Mrs. Jacques Heath (Lily May Peel)       </td><td>female                                             </td><td>35                                                 </td><td>1                                                  </td><td>0                                                  </td><td>113803                                             </td><td>53.1000                                            </td><td>C123                                               </td><td>S                                                  </td><td>1                                                  </td><td>0                                                  </td><td>1                                                  </td></tr>\n",
       "\t<tr><td>5                                                  </td><td>0                                                  </td><td>3                                                  </td><td>Allen, Mr. William Henry                           </td><td>male                                               </td><td>35                                                 </td><td>0                                                  </td><td>0                                                  </td><td>373450                                             </td><td> 8.0500                                            </td><td>NA                                                 </td><td>S                                                  </td><td>0                                                  </td><td>0                                                  </td><td>1                                                  </td></tr>\n",
       "\t<tr><td>6                                                  </td><td>0                                                  </td><td>3                                                  </td><td>Moran, Mr. James                                   </td><td>male                                               </td><td>29                                                 </td><td>0                                                  </td><td>0                                                  </td><td>330877                                             </td><td> 8.4583                                            </td><td>NA                                                 </td><td>Q                                                  </td><td>0                                                  </td><td>0                                                  </td><td>0                                                  </td></tr>\n",
       "</tbody>\n",
       "</table>\n"
      ],
      "text/latex": [
       "\\begin{tabular}{r|lllllllllllllll}\n",
       " PassengerId & Survived & Pclass & Name & Sex & Age & SibSp & Parch & Ticket & Fare & Cabin & Embarked & SibSp\\_Parch & EM\\_C & EM\\_S\\\\\n",
       "\\hline\n",
       "\t 1                                                   & 0                                                   & 3                                                   & Braund, Mr. Owen Harris                             & male                                                & 22                                                  & 1                                                   & 0                                                   & A/5 21171                                           &  7.2500                                             & NA                                                  & S                                                   & 1                                                   & 0                                                   & 1                                                  \\\\\n",
       "\t 2                                                   & 1                                                   & 1                                                   & Cumings, Mrs. John Bradley (Florence Briggs Thayer) & female                                              & 38                                                  & 1                                                   & 0                                                   & PC 17599                                            & 71.2833                                             & C85                                                 & C                                                   & 1                                                   & 1                                                   & 0                                                  \\\\\n",
       "\t 3                                                   & 1                                                   & 3                                                   & Heikkinen, Miss. Laina                              & female                                              & 26                                                  & 0                                                   & 0                                                   & STON/O2. 3101282                                    &  7.9250                                             & NA                                                  & S                                                   & 0                                                   & 0                                                   & 1                                                  \\\\\n",
       "\t 4                                                   & 1                                                   & 1                                                   & Futrelle, Mrs. Jacques Heath (Lily May Peel)        & female                                              & 35                                                  & 1                                                   & 0                                                   & 113803                                              & 53.1000                                             & C123                                                & S                                                   & 1                                                   & 0                                                   & 1                                                  \\\\\n",
       "\t 5                                                   & 0                                                   & 3                                                   & Allen, Mr. William Henry                            & male                                                & 35                                                  & 0                                                   & 0                                                   & 373450                                              &  8.0500                                             & NA                                                  & S                                                   & 0                                                   & 0                                                   & 1                                                  \\\\\n",
       "\t 6                                                   & 0                                                   & 3                                                   & Moran, Mr. James                                    & male                                                & 29                                                  & 0                                                   & 0                                                   & 330877                                              &  8.4583                                             & NA                                                  & Q                                                   & 0                                                   & 0                                                   & 0                                                  \\\\\n",
       "\\end{tabular}\n"
      ],
      "text/markdown": [
       "\n",
       "PassengerId | Survived | Pclass | Name | Sex | Age | SibSp | Parch | Ticket | Fare | Cabin | Embarked | SibSp_Parch | EM_C | EM_S | \n",
       "|---|---|---|---|---|---|\n",
       "| 1                                                   | 0                                                   | 3                                                   | Braund, Mr. Owen Harris                             | male                                                | 22                                                  | 1                                                   | 0                                                   | A/5 21171                                           |  7.2500                                             | NA                                                  | S                                                   | 1                                                   | 0                                                   | 1                                                   | \n",
       "| 2                                                   | 1                                                   | 1                                                   | Cumings, Mrs. John Bradley (Florence Briggs Thayer) | female                                              | 38                                                  | 1                                                   | 0                                                   | PC 17599                                            | 71.2833                                             | C85                                                 | C                                                   | 1                                                   | 1                                                   | 0                                                   | \n",
       "| 3                                                   | 1                                                   | 3                                                   | Heikkinen, Miss. Laina                              | female                                              | 26                                                  | 0                                                   | 0                                                   | STON/O2. 3101282                                    |  7.9250                                             | NA                                                  | S                                                   | 0                                                   | 0                                                   | 1                                                   | \n",
       "| 4                                                   | 1                                                   | 1                                                   | Futrelle, Mrs. Jacques Heath (Lily May Peel)        | female                                              | 35                                                  | 1                                                   | 0                                                   | 113803                                              | 53.1000                                             | C123                                                | S                                                   | 1                                                   | 0                                                   | 1                                                   | \n",
       "| 5                                                   | 0                                                   | 3                                                   | Allen, Mr. William Henry                            | male                                                | 35                                                  | 0                                                   | 0                                                   | 373450                                              |  8.0500                                             | NA                                                  | S                                                   | 0                                                   | 0                                                   | 1                                                   | \n",
       "| 6                                                   | 0                                                   | 3                                                   | Moran, Mr. James                                    | male                                                | 29                                                  | 0                                                   | 0                                                   | 330877                                              |  8.4583                                             | NA                                                  | Q                                                   | 0                                                   | 0                                                   | 0                                                   | \n",
       "\n",
       "\n"
      ],
      "text/plain": [
       "  PassengerId Survived Pclass\n",
       "1 1           0        3     \n",
       "2 2           1        1     \n",
       "3 3           1        3     \n",
       "4 4           1        1     \n",
       "5 5           0        3     \n",
       "6 6           0        3     \n",
       "  Name                                                Sex    Age SibSp Parch\n",
       "1 Braund, Mr. Owen Harris                             male   22  1     0    \n",
       "2 Cumings, Mrs. John Bradley (Florence Briggs Thayer) female 38  1     0    \n",
       "3 Heikkinen, Miss. Laina                              female 26  0     0    \n",
       "4 Futrelle, Mrs. Jacques Heath (Lily May Peel)        female 35  1     0    \n",
       "5 Allen, Mr. William Henry                            male   35  0     0    \n",
       "6 Moran, Mr. James                                    male   29  0     0    \n",
       "  Ticket           Fare    Cabin Embarked SibSp_Parch EM_C EM_S\n",
       "1 A/5 21171         7.2500 NA    S        1           0    1   \n",
       "2 PC 17599         71.2833 C85   C        1           1    0   \n",
       "3 STON/O2. 3101282  7.9250 NA    S        0           0    1   \n",
       "4 113803           53.1000 C123  S        1           0    1   \n",
       "5 373450            8.0500 NA    S        0           0    1   \n",
       "6 330877            8.4583 NA    Q        0           0    0   "
      ]
     },
     "metadata": {},
     "output_type": "display_data"
    }
   ],
   "source": [
    "titanic %>% mutate(EM_C = ifelse(Embarked=='C',1,0), EM_S = ifelse(Embarked=='S',1,0)) %>% head"
   ]
  },
  {
   "cell_type": "code",
   "execution_count": 102,
   "metadata": {},
   "outputs": [
    {
     "data": {
      "text/plain": [
       "   Min. 1st Qu.  Median    Mean 3rd Qu.    Max. \n",
       "   0.42   22.00   29.00   29.56   35.00   80.00 "
      ]
     },
     "metadata": {},
     "output_type": "display_data"
    }
   ],
   "source": [
    "summary(titanic$Age)"
   ]
  },
  {
   "cell_type": "markdown",
   "metadata": {},
   "source": [
    "### 5-5 집단별로 요약하기\n",
    "* group_by()\n",
    "* summarise()"
   ]
  },
  {
   "cell_type": "markdown",
   "metadata": {},
   "source": [
    "### exam의 math, english, science의 평균을 구해보자"
   ]
  },
  {
   "cell_type": "markdown",
   "metadata": {},
   "source": [
    "* summarise(변수명 = mean(변수명))"
   ]
  },
  {
   "cell_type": "code",
   "execution_count": 103,
   "metadata": {},
   "outputs": [
    {
     "data": {
      "text/html": [
       "<table>\n",
       "<thead><tr><th scope=col>mean_age</th></tr></thead>\n",
       "<tbody>\n",
       "\t<tr><td>29.56024</td></tr>\n",
       "</tbody>\n",
       "</table>\n"
      ],
      "text/latex": [
       "\\begin{tabular}{r|l}\n",
       " mean\\_age\\\\\n",
       "\\hline\n",
       "\t 29.56024\\\\\n",
       "\\end{tabular}\n"
      ],
      "text/markdown": [
       "\n",
       "mean_age | \n",
       "|---|\n",
       "| 29.56024 | \n",
       "\n",
       "\n"
      ],
      "text/plain": [
       "  mean_age\n",
       "1 29.56024"
      ]
     },
     "metadata": {},
     "output_type": "display_data"
    }
   ],
   "source": [
    "titanic %>% summarise(mean_age = mean(Age))"
   ]
  },
  {
   "cell_type": "code",
   "execution_count": 104,
   "metadata": {},
   "outputs": [
    {
     "data": {
      "text/html": [
       "<table>\n",
       "<thead><tr><th scope=col>mean_age</th><th scope=col>mean_Fare</th></tr></thead>\n",
       "<tbody>\n",
       "\t<tr><td>29.56024</td><td>32.20421</td></tr>\n",
       "</tbody>\n",
       "</table>\n"
      ],
      "text/latex": [
       "\\begin{tabular}{r|ll}\n",
       " mean\\_age & mean\\_Fare\\\\\n",
       "\\hline\n",
       "\t 29.56024 & 32.20421\\\\\n",
       "\\end{tabular}\n"
      ],
      "text/markdown": [
       "\n",
       "mean_age | mean_Fare | \n",
       "|---|\n",
       "| 29.56024 | 32.20421 | \n",
       "\n",
       "\n"
      ],
      "text/plain": [
       "  mean_age mean_Fare\n",
       "1 29.56024 32.20421 "
      ]
     },
     "metadata": {},
     "output_type": "display_data"
    }
   ],
   "source": [
    "titanic %>% summarise(mean_age = mean(Age), \n",
    "                    mean_Fare = mean(Fare))"
   ]
  },
  {
   "cell_type": "markdown",
   "metadata": {},
   "source": [
    "### 집단별로 분리해서 위의 내용을 출력해 보자.\n",
    "* 그룹으로 묶고 이에 대한 요약값을 구하기\n",
    "* 데이터 셋 %>% group_by(변수명) %>% summarise(...)"
   ]
  },
  {
   "cell_type": "code",
   "execution_count": 105,
   "metadata": {},
   "outputs": [
    {
     "data": {
      "text/html": [
       "<table>\n",
       "<thead><tr><th scope=col>Pclass</th><th scope=col>mean_age</th><th scope=col>mean_Fare</th></tr></thead>\n",
       "<tbody>\n",
       "\t<tr><td>1       </td><td>36.95102</td><td>84.15469</td></tr>\n",
       "\t<tr><td>2       </td><td>29.82516</td><td>20.66218</td></tr>\n",
       "\t<tr><td>3       </td><td>26.20961</td><td>13.67555</td></tr>\n",
       "</tbody>\n",
       "</table>\n"
      ],
      "text/latex": [
       "\\begin{tabular}{r|lll}\n",
       " Pclass & mean\\_age & mean\\_Fare\\\\\n",
       "\\hline\n",
       "\t 1        & 36.95102 & 84.15469\\\\\n",
       "\t 2        & 29.82516 & 20.66218\\\\\n",
       "\t 3        & 26.20961 & 13.67555\\\\\n",
       "\\end{tabular}\n"
      ],
      "text/markdown": [
       "\n",
       "Pclass | mean_age | mean_Fare | \n",
       "|---|---|---|\n",
       "| 1        | 36.95102 | 84.15469 | \n",
       "| 2        | 29.82516 | 20.66218 | \n",
       "| 3        | 26.20961 | 13.67555 | \n",
       "\n",
       "\n"
      ],
      "text/plain": [
       "  Pclass mean_age mean_Fare\n",
       "1 1      36.95102 84.15469 \n",
       "2 2      29.82516 20.66218 \n",
       "3 3      26.20961 13.67555 "
      ]
     },
     "metadata": {},
     "output_type": "display_data"
    }
   ],
   "source": [
    "titanic %>% group_by(Pclass) %>% summarise(mean_age = mean(Age), \n",
    "                    mean_Fare = mean(Fare))"
   ]
  },
  {
   "cell_type": "code",
   "execution_count": 107,
   "metadata": {},
   "outputs": [
    {
     "data": {
      "text/html": [
       "<table>\n",
       "<thead><tr><th scope=col>Pclass</th><th scope=col>mean_age</th><th scope=col>mean_Fare</th><th scope=col>mean_SibSp_Parch</th><th scope=col>n</th></tr></thead>\n",
       "<tbody>\n",
       "\t<tr><td>1        </td><td>36.95102 </td><td>84.15469 </td><td>0.7731481</td><td>216      </td></tr>\n",
       "\t<tr><td>2        </td><td>29.82516 </td><td>20.66218 </td><td>0.7826087</td><td>184      </td></tr>\n",
       "\t<tr><td>3        </td><td>26.20961 </td><td>13.67555 </td><td>1.0081466</td><td>491      </td></tr>\n",
       "</tbody>\n",
       "</table>\n"
      ],
      "text/latex": [
       "\\begin{tabular}{r|lllll}\n",
       " Pclass & mean\\_age & mean\\_Fare & mean\\_SibSp\\_Parch & n\\\\\n",
       "\\hline\n",
       "\t 1         & 36.95102  & 84.15469  & 0.7731481 & 216      \\\\\n",
       "\t 2         & 29.82516  & 20.66218  & 0.7826087 & 184      \\\\\n",
       "\t 3         & 26.20961  & 13.67555  & 1.0081466 & 491      \\\\\n",
       "\\end{tabular}\n"
      ],
      "text/markdown": [
       "\n",
       "Pclass | mean_age | mean_Fare | mean_SibSp_Parch | n | \n",
       "|---|---|---|\n",
       "| 1         | 36.95102  | 84.15469  | 0.7731481 | 216       | \n",
       "| 2         | 29.82516  | 20.66218  | 0.7826087 | 184       | \n",
       "| 3         | 26.20961  | 13.67555  | 1.0081466 | 491       | \n",
       "\n",
       "\n"
      ],
      "text/plain": [
       "  Pclass mean_age mean_Fare mean_SibSp_Parch n  \n",
       "1 1      36.95102 84.15469  0.7731481        216\n",
       "2 2      29.82516 20.66218  0.7826087        184\n",
       "3 3      26.20961 13.67555  1.0081466        491"
      ]
     },
     "metadata": {},
     "output_type": "display_data"
    }
   ],
   "source": [
    "titanic %>% group_by(Pclass) %>% \n",
    "          summarise(mean_age = mean(Age), \n",
    "                    mean_Fare = mean(Fare),\n",
    "                    mean_SibSp_Parch = mean(SibSp_Parch), \n",
    "                    n=n())"
   ]
  },
  {
   "cell_type": "markdown",
   "metadata": {},
   "source": [
    "| 함수 | 설명 | \n",
    "|:--------:|:--------:|\n",
    "| mean() | 평균 | \n",
    "| sd() | 표준편차 |\n",
    "| sum() | 합계 | \n",
    "| median() | 중앙값 | \n",
    "| min() | 최솟값 | \n",
    "| max() | 최댓값  |\n",
    "| n() | 빈도 | \n"
   ]
  },
  {
   "cell_type": "markdown",
   "metadata": {},
   "source": [
    "### mpg 데이터 셋 불러오기"
   ]
  },
  {
   "cell_type": "code",
   "execution_count": 108,
   "metadata": {},
   "outputs": [],
   "source": [
    "library(ggplot2)"
   ]
  },
  {
   "cell_type": "code",
   "execution_count": 109,
   "metadata": {},
   "outputs": [],
   "source": [
    "mpg <- ggplot2::mpg"
   ]
  },
  {
   "cell_type": "code",
   "execution_count": 110,
   "metadata": {},
   "outputs": [
    {
     "data": {
      "text/html": [
       "<table>\n",
       "<thead><tr><th scope=col>manufacturer</th><th scope=col>model</th><th scope=col>displ</th><th scope=col>year</th><th scope=col>cyl</th><th scope=col>trans</th><th scope=col>drv</th><th scope=col>cty</th><th scope=col>hwy</th><th scope=col>fl</th><th scope=col>class</th></tr></thead>\n",
       "<tbody>\n",
       "\t<tr><td>audi      </td><td>a4        </td><td>1.8       </td><td>1999      </td><td>4         </td><td>auto(l5)  </td><td>f         </td><td>18        </td><td>29        </td><td>p         </td><td>compact   </td></tr>\n",
       "\t<tr><td>audi      </td><td>a4        </td><td>1.8       </td><td>1999      </td><td>4         </td><td>manual(m5)</td><td>f         </td><td>21        </td><td>29        </td><td>p         </td><td>compact   </td></tr>\n",
       "\t<tr><td>audi      </td><td>a4        </td><td>2.0       </td><td>2008      </td><td>4         </td><td>manual(m6)</td><td>f         </td><td>20        </td><td>31        </td><td>p         </td><td>compact   </td></tr>\n",
       "\t<tr><td>audi      </td><td>a4        </td><td>2.0       </td><td>2008      </td><td>4         </td><td>auto(av)  </td><td>f         </td><td>21        </td><td>30        </td><td>p         </td><td>compact   </td></tr>\n",
       "\t<tr><td>audi      </td><td>a4        </td><td>2.8       </td><td>1999      </td><td>6         </td><td>auto(l5)  </td><td>f         </td><td>16        </td><td>26        </td><td>p         </td><td>compact   </td></tr>\n",
       "\t<tr><td>audi      </td><td>a4        </td><td>2.8       </td><td>1999      </td><td>6         </td><td>manual(m5)</td><td>f         </td><td>18        </td><td>26        </td><td>p         </td><td>compact   </td></tr>\n",
       "</tbody>\n",
       "</table>\n"
      ],
      "text/latex": [
       "\\begin{tabular}{r|lllllllllll}\n",
       " manufacturer & model & displ & year & cyl & trans & drv & cty & hwy & fl & class\\\\\n",
       "\\hline\n",
       "\t audi       & a4         & 1.8        & 1999       & 4          & auto(l5)   & f          & 18         & 29         & p          & compact   \\\\\n",
       "\t audi       & a4         & 1.8        & 1999       & 4          & manual(m5) & f          & 21         & 29         & p          & compact   \\\\\n",
       "\t audi       & a4         & 2.0        & 2008       & 4          & manual(m6) & f          & 20         & 31         & p          & compact   \\\\\n",
       "\t audi       & a4         & 2.0        & 2008       & 4          & auto(av)   & f          & 21         & 30         & p          & compact   \\\\\n",
       "\t audi       & a4         & 2.8        & 1999       & 6          & auto(l5)   & f          & 16         & 26         & p          & compact   \\\\\n",
       "\t audi       & a4         & 2.8        & 1999       & 6          & manual(m5) & f          & 18         & 26         & p          & compact   \\\\\n",
       "\\end{tabular}\n"
      ],
      "text/markdown": [
       "\n",
       "manufacturer | model | displ | year | cyl | trans | drv | cty | hwy | fl | class | \n",
       "|---|---|---|---|---|---|\n",
       "| audi       | a4         | 1.8        | 1999       | 4          | auto(l5)   | f          | 18         | 29         | p          | compact    | \n",
       "| audi       | a4         | 1.8        | 1999       | 4          | manual(m5) | f          | 21         | 29         | p          | compact    | \n",
       "| audi       | a4         | 2.0        | 2008       | 4          | manual(m6) | f          | 20         | 31         | p          | compact    | \n",
       "| audi       | a4         | 2.0        | 2008       | 4          | auto(av)   | f          | 21         | 30         | p          | compact    | \n",
       "| audi       | a4         | 2.8        | 1999       | 6          | auto(l5)   | f          | 16         | 26         | p          | compact    | \n",
       "| audi       | a4         | 2.8        | 1999       | 6          | manual(m5) | f          | 18         | 26         | p          | compact    | \n",
       "\n",
       "\n"
      ],
      "text/plain": [
       "  manufacturer model displ year cyl trans      drv cty hwy fl class  \n",
       "1 audi         a4    1.8   1999 4   auto(l5)   f   18  29  p  compact\n",
       "2 audi         a4    1.8   1999 4   manual(m5) f   21  29  p  compact\n",
       "3 audi         a4    2.0   2008 4   manual(m6) f   20  31  p  compact\n",
       "4 audi         a4    2.0   2008 4   auto(av)   f   21  30  p  compact\n",
       "5 audi         a4    2.8   1999 6   auto(l5)   f   16  26  p  compact\n",
       "6 audi         a4    2.8   1999 6   manual(m5) f   18  26  p  compact"
      ]
     },
     "metadata": {},
     "output_type": "display_data"
    }
   ],
   "source": [
    "head(mpg)"
   ]
  },
  {
   "cell_type": "markdown",
   "metadata": {},
   "source": [
    "### 제조사별 구동방식(drv)별 cty(도시연비)의 평균 산출하기\n",
    "* drv(구동방식)\n",
    "  * 4 사륜 구동\n",
    "  * f 전륜 구동\n",
    "  * r 후륜 구동"
   ]
  },
  {
   "cell_type": "code",
   "execution_count": 111,
   "metadata": {},
   "outputs": [
    {
     "data": {
      "text/html": [
       "<table>\n",
       "<thead><tr><th scope=col>manufacturer</th><th scope=col>drv</th><th scope=col>mean_cty</th></tr></thead>\n",
       "<tbody>\n",
       "\t<tr><td>audi     </td><td>4        </td><td>16.81818 </td></tr>\n",
       "\t<tr><td>audi     </td><td>f        </td><td>18.85714 </td></tr>\n",
       "\t<tr><td>chevrolet</td><td>4        </td><td>12.50000 </td></tr>\n",
       "\t<tr><td>chevrolet</td><td>f        </td><td>18.80000 </td></tr>\n",
       "\t<tr><td>chevrolet</td><td>r        </td><td>14.10000 </td></tr>\n",
       "\t<tr><td>dodge    </td><td>4        </td><td>12.00000 </td></tr>\n",
       "\t<tr><td>dodge    </td><td>f        </td><td>15.81818 </td></tr>\n",
       "\t<tr><td>ford     </td><td>4        </td><td>13.30769 </td></tr>\n",
       "\t<tr><td>ford     </td><td>r        </td><td>14.75000 </td></tr>\n",
       "\t<tr><td>honda    </td><td>f        </td><td>24.44444 </td></tr>\n",
       "</tbody>\n",
       "</table>\n"
      ],
      "text/latex": [
       "\\begin{tabular}{r|lll}\n",
       " manufacturer & drv & mean\\_cty\\\\\n",
       "\\hline\n",
       "\t audi      & 4         & 16.81818 \\\\\n",
       "\t audi      & f         & 18.85714 \\\\\n",
       "\t chevrolet & 4         & 12.50000 \\\\\n",
       "\t chevrolet & f         & 18.80000 \\\\\n",
       "\t chevrolet & r         & 14.10000 \\\\\n",
       "\t dodge     & 4         & 12.00000 \\\\\n",
       "\t dodge     & f         & 15.81818 \\\\\n",
       "\t ford      & 4         & 13.30769 \\\\\n",
       "\t ford      & r         & 14.75000 \\\\\n",
       "\t honda     & f         & 24.44444 \\\\\n",
       "\\end{tabular}\n"
      ],
      "text/markdown": [
       "\n",
       "manufacturer | drv | mean_cty | \n",
       "|---|---|---|---|---|---|---|---|---|---|\n",
       "| audi      | 4         | 16.81818  | \n",
       "| audi      | f         | 18.85714  | \n",
       "| chevrolet | 4         | 12.50000  | \n",
       "| chevrolet | f         | 18.80000  | \n",
       "| chevrolet | r         | 14.10000  | \n",
       "| dodge     | 4         | 12.00000  | \n",
       "| dodge     | f         | 15.81818  | \n",
       "| ford      | 4         | 13.30769  | \n",
       "| ford      | r         | 14.75000  | \n",
       "| honda     | f         | 24.44444  | \n",
       "\n",
       "\n"
      ],
      "text/plain": [
       "   manufacturer drv mean_cty\n",
       "1  audi         4   16.81818\n",
       "2  audi         f   18.85714\n",
       "3  chevrolet    4   12.50000\n",
       "4  chevrolet    f   18.80000\n",
       "5  chevrolet    r   14.10000\n",
       "6  dodge        4   12.00000\n",
       "7  dodge        f   15.81818\n",
       "8  ford         4   13.30769\n",
       "9  ford         r   14.75000\n",
       "10 honda        f   24.44444"
      ]
     },
     "metadata": {},
     "output_type": "display_data"
    }
   ],
   "source": [
    "mpg %>% group_by(manufacturer, drv) %>% \n",
    "     summarise(mean_cty = mean(cty)) %>%\n",
    "     head(10)"
   ]
  },
  {
   "cell_type": "markdown",
   "metadata": {},
   "source": [
    "### 실습과제 5-4\n",
    "* 회사별로 분리한다.(group_by)\n",
    "* class에서 suv 추출한다.(행) - filter()\n",
    "* total(통합 연비) 파생변수 생성 - mutate()\n",
    "* total(통합 연비) 의 평균 mean_total를 산출 - summarise()\n",
    "* arrange() 내림 차순의 정렬\n",
    "* 1~5위까지 : head()"
   ]
  },
  {
   "cell_type": "code",
   "execution_count": 112,
   "metadata": {},
   "outputs": [
    {
     "data": {
      "text/html": [
       "<table>\n",
       "<thead><tr><th scope=col>manufacturer</th><th scope=col>mean_tot</th></tr></thead>\n",
       "<tbody>\n",
       "\t<tr><td>subaru  </td><td>21.91667</td></tr>\n",
       "\t<tr><td>toyota  </td><td>16.31250</td></tr>\n",
       "\t<tr><td>nissan  </td><td>15.87500</td></tr>\n",
       "\t<tr><td>mercury </td><td>15.62500</td></tr>\n",
       "\t<tr><td>jeep    </td><td>15.56250</td></tr>\n",
       "</tbody>\n",
       "</table>\n"
      ],
      "text/latex": [
       "\\begin{tabular}{r|ll}\n",
       " manufacturer & mean\\_tot\\\\\n",
       "\\hline\n",
       "\t subaru   & 21.91667\\\\\n",
       "\t toyota   & 16.31250\\\\\n",
       "\t nissan   & 15.87500\\\\\n",
       "\t mercury  & 15.62500\\\\\n",
       "\t jeep     & 15.56250\\\\\n",
       "\\end{tabular}\n"
      ],
      "text/markdown": [
       "\n",
       "manufacturer | mean_tot | \n",
       "|---|---|---|---|---|\n",
       "| subaru   | 21.91667 | \n",
       "| toyota   | 16.31250 | \n",
       "| nissan   | 15.87500 | \n",
       "| mercury  | 15.62500 | \n",
       "| jeep     | 15.56250 | \n",
       "\n",
       "\n"
      ],
      "text/plain": [
       "  manufacturer mean_tot\n",
       "1 subaru       21.91667\n",
       "2 toyota       16.31250\n",
       "3 nissan       15.87500\n",
       "4 mercury      15.62500\n",
       "5 jeep         15.56250"
      ]
     },
     "metadata": {},
     "output_type": "display_data"
    }
   ],
   "source": [
    "mpg %>%\n",
    "  group_by(manufacturer) %>%\n",
    "  filter(class==\"suv\") %>%\n",
    "  mutate(tot = (cty + hwy)/2) %>%\n",
    "  summarise(mean_tot = mean(tot)) %>%\n",
    "  arrange(desc(mean_tot)) %>% head(5)"
   ]
  },
  {
   "cell_type": "markdown",
   "metadata": {},
   "source": [
    "### 더해보기 p150"
   ]
  },
  {
   "cell_type": "markdown",
   "metadata": {},
   "source": [
    "### 5-6 데이터 합치기\n",
    "* dplyr:left_join()\n",
    "* bind_rows()"
   ]
  },
  {
   "cell_type": "code",
   "execution_count": 113,
   "metadata": {},
   "outputs": [],
   "source": [
    "kor <- data.frame(id=c(1,2,3,4,5), \n",
    "                   kor=c(80,80,70,90,100))\n",
    "math <- data.frame(id=c(1,2,3,4,5),\n",
    "                   math=c(100,80,90,70,60))\n",
    "eng <- data.frame(id=c(1,2,3,4,6),\n",
    "                  eng=c(100,70,50,60,90))"
   ]
  },
  {
   "cell_type": "markdown",
   "metadata": {},
   "source": [
    "* left_join(데이터셋1, 데이터셋2, by='컬럼명')"
   ]
  },
  {
   "cell_type": "code",
   "execution_count": 114,
   "metadata": {},
   "outputs": [
    {
     "data": {
      "text/html": [
       "<table>\n",
       "<thead><tr><th scope=col>id</th><th scope=col>kor</th><th scope=col>math</th></tr></thead>\n",
       "<tbody>\n",
       "\t<tr><td>1  </td><td> 80</td><td>100</td></tr>\n",
       "\t<tr><td>2  </td><td> 80</td><td> 80</td></tr>\n",
       "\t<tr><td>3  </td><td> 70</td><td> 90</td></tr>\n",
       "\t<tr><td>4  </td><td> 90</td><td> 70</td></tr>\n",
       "\t<tr><td>5  </td><td>100</td><td> 60</td></tr>\n",
       "</tbody>\n",
       "</table>\n"
      ],
      "text/latex": [
       "\\begin{tabular}{r|lll}\n",
       " id & kor & math\\\\\n",
       "\\hline\n",
       "\t 1   &  80 & 100\\\\\n",
       "\t 2   &  80 &  80\\\\\n",
       "\t 3   &  70 &  90\\\\\n",
       "\t 4   &  90 &  70\\\\\n",
       "\t 5   & 100 &  60\\\\\n",
       "\\end{tabular}\n"
      ],
      "text/markdown": [
       "\n",
       "id | kor | math | \n",
       "|---|---|---|---|---|\n",
       "| 1   |  80 | 100 | \n",
       "| 2   |  80 |  80 | \n",
       "| 3   |  70 |  90 | \n",
       "| 4   |  90 |  70 | \n",
       "| 5   | 100 |  60 | \n",
       "\n",
       "\n"
      ],
      "text/plain": [
       "  id kor math\n",
       "1 1   80 100 \n",
       "2 2   80  80 \n",
       "3 3   70  90 \n",
       "4 4   90  70 \n",
       "5 5  100  60 "
      ]
     },
     "metadata": {},
     "output_type": "display_data"
    }
   ],
   "source": [
    "total <- left_join(kor, math, by='id')\n",
    "total"
   ]
  },
  {
   "cell_type": "code",
   "execution_count": 115,
   "metadata": {},
   "outputs": [
    {
     "data": {
      "text/html": [
       "<table>\n",
       "<thead><tr><th scope=col>id</th><th scope=col>kor</th><th scope=col>math</th><th scope=col>eng</th></tr></thead>\n",
       "<tbody>\n",
       "\t<tr><td>1  </td><td> 80</td><td>100</td><td>100</td></tr>\n",
       "\t<tr><td>2  </td><td> 80</td><td> 80</td><td> 70</td></tr>\n",
       "\t<tr><td>3  </td><td> 70</td><td> 90</td><td> 50</td></tr>\n",
       "\t<tr><td>4  </td><td> 90</td><td> 70</td><td> 60</td></tr>\n",
       "\t<tr><td>5  </td><td>100</td><td> 60</td><td> NA</td></tr>\n",
       "</tbody>\n",
       "</table>\n"
      ],
      "text/latex": [
       "\\begin{tabular}{r|llll}\n",
       " id & kor & math & eng\\\\\n",
       "\\hline\n",
       "\t 1   &  80 & 100 & 100\\\\\n",
       "\t 2   &  80 &  80 &  70\\\\\n",
       "\t 3   &  70 &  90 &  50\\\\\n",
       "\t 4   &  90 &  70 &  60\\\\\n",
       "\t 5   & 100 &  60 &  NA\\\\\n",
       "\\end{tabular}\n"
      ],
      "text/markdown": [
       "\n",
       "id | kor | math | eng | \n",
       "|---|---|---|---|---|\n",
       "| 1   |  80 | 100 | 100 | \n",
       "| 2   |  80 |  80 |  70 | \n",
       "| 3   |  70 |  90 |  50 | \n",
       "| 4   |  90 |  70 |  60 | \n",
       "| 5   | 100 |  60 |  NA | \n",
       "\n",
       "\n"
      ],
      "text/plain": [
       "  id kor math eng\n",
       "1 1   80 100  100\n",
       "2 2   80  80   70\n",
       "3 3   70  90   50\n",
       "4 4   90  70   60\n",
       "5 5  100  60   NA"
      ]
     },
     "metadata": {},
     "output_type": "display_data"
    }
   ],
   "source": [
    "total_all <- left_join(total, eng, by='id')\n",
    "total_all"
   ]
  },
  {
   "cell_type": "code",
   "execution_count": 116,
   "metadata": {},
   "outputs": [
    {
     "data": {
      "text/html": [
       "<table>\n",
       "<thead><tr><th scope=col>id</th><th scope=col>eng</th><th scope=col>kor</th><th scope=col>math</th></tr></thead>\n",
       "<tbody>\n",
       "\t<tr><td>1  </td><td>100</td><td>80 </td><td>100</td></tr>\n",
       "\t<tr><td>2  </td><td> 70</td><td>80 </td><td> 80</td></tr>\n",
       "\t<tr><td>3  </td><td> 50</td><td>70 </td><td> 90</td></tr>\n",
       "\t<tr><td>4  </td><td> 60</td><td>90 </td><td> 70</td></tr>\n",
       "\t<tr><td>6  </td><td> 90</td><td>NA </td><td> NA</td></tr>\n",
       "</tbody>\n",
       "</table>\n"
      ],
      "text/latex": [
       "\\begin{tabular}{r|llll}\n",
       " id & eng & kor & math\\\\\n",
       "\\hline\n",
       "\t 1   & 100 & 80  & 100\\\\\n",
       "\t 2   &  70 & 80  &  80\\\\\n",
       "\t 3   &  50 & 70  &  90\\\\\n",
       "\t 4   &  60 & 90  &  70\\\\\n",
       "\t 6   &  90 & NA  &  NA\\\\\n",
       "\\end{tabular}\n"
      ],
      "text/markdown": [
       "\n",
       "id | eng | kor | math | \n",
       "|---|---|---|---|---|\n",
       "| 1   | 100 | 80  | 100 | \n",
       "| 2   |  70 | 80  |  80 | \n",
       "| 3   |  50 | 70  |  90 | \n",
       "| 4   |  60 | 90  |  70 | \n",
       "| 6   |  90 | NA  |  NA | \n",
       "\n",
       "\n"
      ],
      "text/plain": [
       "  id eng kor math\n",
       "1 1  100 80  100 \n",
       "2 2   70 80   80 \n",
       "3 3   50 70   90 \n",
       "4 4   60 90   70 \n",
       "5 6   90 NA   NA "
      ]
     },
     "metadata": {},
     "output_type": "display_data"
    }
   ],
   "source": [
    "total_all2 <- left_join(eng, total, by='id')\n",
    "total_all2"
   ]
  },
  {
   "cell_type": "markdown",
   "metadata": {},
   "source": [
    "### 세로(행) 합치기, 행 추가"
   ]
  },
  {
   "cell_type": "code",
   "execution_count": 117,
   "metadata": {},
   "outputs": [],
   "source": [
    "kor1 <- data.frame(id=c(1,2,3,4,5), \n",
    "                   kor=c(80,80,70,90,100))\n",
    "kor2 <- data.frame(id=c(6,7,8,9,10), \n",
    "                   kor=c(80,80,70,90,100))"
   ]
  },
  {
   "cell_type": "code",
   "execution_count": 118,
   "metadata": {},
   "outputs": [],
   "source": [
    "kor_all <- bind_rows(kor1, kor2)"
   ]
  },
  {
   "cell_type": "code",
   "execution_count": 119,
   "metadata": {},
   "outputs": [
    {
     "data": {
      "text/html": [
       "<table>\n",
       "<thead><tr><th scope=col>id</th><th scope=col>kor</th></tr></thead>\n",
       "<tbody>\n",
       "\t<tr><td> 1 </td><td> 80</td></tr>\n",
       "\t<tr><td> 2 </td><td> 80</td></tr>\n",
       "\t<tr><td> 3 </td><td> 70</td></tr>\n",
       "\t<tr><td> 4 </td><td> 90</td></tr>\n",
       "\t<tr><td> 5 </td><td>100</td></tr>\n",
       "\t<tr><td> 6 </td><td> 80</td></tr>\n",
       "\t<tr><td> 7 </td><td> 80</td></tr>\n",
       "\t<tr><td> 8 </td><td> 70</td></tr>\n",
       "\t<tr><td> 9 </td><td> 90</td></tr>\n",
       "\t<tr><td>10 </td><td>100</td></tr>\n",
       "</tbody>\n",
       "</table>\n"
      ],
      "text/latex": [
       "\\begin{tabular}{r|ll}\n",
       " id & kor\\\\\n",
       "\\hline\n",
       "\t  1  &  80\\\\\n",
       "\t  2  &  80\\\\\n",
       "\t  3  &  70\\\\\n",
       "\t  4  &  90\\\\\n",
       "\t  5  & 100\\\\\n",
       "\t  6  &  80\\\\\n",
       "\t  7  &  80\\\\\n",
       "\t  8  &  70\\\\\n",
       "\t  9  &  90\\\\\n",
       "\t 10  & 100\\\\\n",
       "\\end{tabular}\n"
      ],
      "text/markdown": [
       "\n",
       "id | kor | \n",
       "|---|---|---|---|---|---|---|---|---|---|\n",
       "|  1  |  80 | \n",
       "|  2  |  80 | \n",
       "|  3  |  70 | \n",
       "|  4  |  90 | \n",
       "|  5  | 100 | \n",
       "|  6  |  80 | \n",
       "|  7  |  80 | \n",
       "|  8  |  70 | \n",
       "|  9  |  90 | \n",
       "| 10  | 100 | \n",
       "\n",
       "\n"
      ],
      "text/plain": [
       "   id kor\n",
       "1   1  80\n",
       "2   2  80\n",
       "3   3  70\n",
       "4   4  90\n",
       "5   5 100\n",
       "6   6  80\n",
       "7   7  80\n",
       "8   8  70\n",
       "9   9  90\n",
       "10 10 100"
      ]
     },
     "metadata": {},
     "output_type": "display_data"
    }
   ],
   "source": [
    "kor_all"
   ]
  },
  {
   "cell_type": "markdown",
   "metadata": {},
   "source": [
    "### 변수가 kor로 동일하여 가능, 하지만 다를 경우는 어떻게 해야 하나? rename()를 이용하여 동일하게 한 이후에 합치기 가능"
   ]
  },
  {
   "cell_type": "markdown",
   "metadata": {},
   "source": [
    "<font size=2> Copyright 2019 LIM Co.(예영Edu Co.) all rights reserved. </font><br>\n",
    "<font size=2> 교육용으로 작성된 것으로 배포 및 복제시에 사전 허가가 필요합니다.</font>"
   ]
  }
 ],
 "metadata": {
  "kernelspec": {
   "display_name": "R",
   "language": "R",
   "name": "ir"
  },
  "language_info": {
   "codemirror_mode": "r",
   "file_extension": ".r",
   "mimetype": "text/x-r-source",
   "name": "R",
   "pygments_lexer": "r",
   "version": "3.5.1"
  }
 },
 "nbformat": 4,
 "nbformat_minor": 2
}
