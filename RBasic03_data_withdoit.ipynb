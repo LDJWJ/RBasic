{
 "cells": [
  {
   "cell_type": "markdown",
   "metadata": {},
   "source": [
    "## 03 데이터 다루기(1)"
   ]
  },
  {
   "cell_type": "markdown",
   "metadata": {},
   "source": [
    "### 학습 내용\n",
    "* 데이터 프레임 알아보기\n",
    "* read.csv()에 대해 알아보기\n",
    "* read._excel()에 대해 알아보기\n",
    "* rda 파일 활용하기"
   ]
  },
  {
   "cell_type": "markdown",
   "metadata": {},
   "source": [
    "### 3-1 데이터 프레임\n",
    "* 가장 많이 사용하는 데이터 형태로서 행과 열로 구성된 사각형 모양의 표이다."
   ]
  },
  {
   "cell_type": "markdown",
   "metadata": {},
   "source": [
    "| 성별 | 연령 | 키 | 한달 소비 |\n",
    "|:--------:|:--------:|:--------:|:--------:|\n",
    "| 남 | 26 | 175 | 3000만원 |\n",
    "| 여 | 33 | 177 | 4000만원 |\n",
    "| 여 | 11 | 154 | 50만원 |"
   ]
  },
  {
   "cell_type": "markdown",
   "metadata": {},
   "source": [
    "* 행과 열로 구성된다."
   ]
  },
  {
   "cell_type": "markdown",
   "metadata": {},
   "source": [
    "### 데이터 프레임 만들기\n",
    "| 이름 | 국어 | 영어 | 수학 |\n",
    "|:--------:|:--------:|:--------:|:--------:|\n",
    "| 김칠수 | 80 | 90 | 95 |\n",
    "| 홍길동 | 80 | 80 | 100 |\n",
    "| 박난희 | 90 | 80 | 70 |"
   ]
  },
  {
   "cell_type": "code",
   "execution_count": 1,
   "metadata": {},
   "outputs": [],
   "source": [
    "kor <- c(80,80,90)\n",
    "eng <- c(90,80,80)\n",
    "math <- c(95,100,70)"
   ]
  },
  {
   "cell_type": "code",
   "execution_count": 2,
   "metadata": {},
   "outputs": [
    {
     "name": "stdout",
     "output_type": "stream",
     "text": [
      "[1] 80 80 90\n",
      "[1] 90 80 80\n",
      "[1]  95 100  70\n"
     ]
    }
   ],
   "source": [
    "print(kor)\n",
    "print(eng)\n",
    "print(math)"
   ]
  },
  {
   "cell_type": "code",
   "execution_count": 3,
   "metadata": {},
   "outputs": [
    {
     "data": {
      "text/html": [
       "<table>\n",
       "<thead><tr><th scope=col>kor</th><th scope=col>eng</th><th scope=col>math</th></tr></thead>\n",
       "<tbody>\n",
       "\t<tr><td>80 </td><td>90 </td><td> 95</td></tr>\n",
       "\t<tr><td>80 </td><td>80 </td><td>100</td></tr>\n",
       "\t<tr><td>90 </td><td>80 </td><td> 70</td></tr>\n",
       "</tbody>\n",
       "</table>\n"
      ],
      "text/latex": [
       "\\begin{tabular}{r|lll}\n",
       " kor & eng & math\\\\\n",
       "\\hline\n",
       "\t 80  & 90  &  95\\\\\n",
       "\t 80  & 80  & 100\\\\\n",
       "\t 90  & 80  &  70\\\\\n",
       "\\end{tabular}\n"
      ],
      "text/markdown": [
       "\n",
       "kor | eng | math | \n",
       "|---|---|---|\n",
       "| 80  | 90  |  95 | \n",
       "| 80  | 80  | 100 | \n",
       "| 90  | 80  |  70 | \n",
       "\n",
       "\n"
      ],
      "text/plain": [
       "  kor eng math\n",
       "1 80  90   95 \n",
       "2 80  80  100 \n",
       "3 90  80   70 "
      ]
     },
     "metadata": {},
     "output_type": "display_data"
    }
   ],
   "source": [
    "df_score <- data.frame(kor, eng, math)\n",
    "df_score"
   ]
  },
  {
   "cell_type": "code",
   "execution_count": 4,
   "metadata": {},
   "outputs": [
    {
     "name": "stderr",
     "output_type": "stream",
     "text": [
      "Warning message in mean.default(df_score):\n",
      "\"argument is not numeric or logical: returning NA\""
     ]
    },
    {
     "data": {
      "text/html": [
       "&lt;NA&gt;"
      ],
      "text/latex": [
       "<NA>"
      ],
      "text/markdown": [
       "&lt;NA&gt;"
      ],
      "text/plain": [
       "[1] NA"
      ]
     },
     "metadata": {},
     "output_type": "display_data"
    }
   ],
   "source": [
    "### 평균 구하기\n",
    "mean(df_score)"
   ]
  },
  {
   "cell_type": "code",
   "execution_count": 5,
   "metadata": {},
   "outputs": [
    {
     "data": {
      "text/html": [
       "83.3333333333333"
      ],
      "text/latex": [
       "83.3333333333333"
      ],
      "text/markdown": [
       "83.3333333333333"
      ],
      "text/plain": [
       "[1] 83.33333"
      ]
     },
     "metadata": {},
     "output_type": "display_data"
    }
   ],
   "source": [
    "mean(df_score$kor)"
   ]
  },
  {
   "cell_type": "markdown",
   "metadata": {},
   "source": [
    "###  데이터 프레임 만들기 2"
   ]
  },
  {
   "cell_type": "code",
   "execution_count": 7,
   "metadata": {},
   "outputs": [
    {
     "data": {
      "text/html": [
       "<table>\n",
       "<thead><tr><th scope=col>kor</th><th scope=col>eng</th><th scope=col>math</th></tr></thead>\n",
       "<tbody>\n",
       "\t<tr><td>80 </td><td>90 </td><td> 95</td></tr>\n",
       "\t<tr><td>80 </td><td>80 </td><td>100</td></tr>\n",
       "\t<tr><td>90 </td><td>80 </td><td> 70</td></tr>\n",
       "</tbody>\n",
       "</table>\n"
      ],
      "text/latex": [
       "\\begin{tabular}{r|lll}\n",
       " kor & eng & math\\\\\n",
       "\\hline\n",
       "\t 80  & 90  &  95\\\\\n",
       "\t 80  & 80  & 100\\\\\n",
       "\t 90  & 80  &  70\\\\\n",
       "\\end{tabular}\n"
      ],
      "text/markdown": [
       "\n",
       "kor | eng | math | \n",
       "|---|---|---|\n",
       "| 80  | 90  |  95 | \n",
       "| 80  | 80  | 100 | \n",
       "| 90  | 80  |  70 | \n",
       "\n",
       "\n"
      ],
      "text/plain": [
       "  kor eng math\n",
       "1 80  90   95 \n",
       "2 80  80  100 \n",
       "3 90  80   70 "
      ]
     },
     "metadata": {},
     "output_type": "display_data"
    }
   ],
   "source": [
    "df_score2 <- data.frame(kor = c(80,80,90), eng=c(90,80,80), math=c(95,100,70))\n",
    "df_score2"
   ]
  },
  {
   "cell_type": "markdown",
   "metadata": {},
   "source": [
    "### (ex) 3-1 실습해보기\n",
    "* 데이터 프레임을 만들어 출력해 보자.\n",
    "\n",
    "| 제품 | 가격 | 판매량 | \n",
    "|:--------:|:--------:|:--------:|\n",
    "| 사과 | 6000 | 10 |\n",
    "| 딸기 | 8000 | 5 |\n",
    "| 수박 | 12000 | 5 |\n",
    "\n",
    "(더 해보기) 가격 평균을 구해보기."
   ]
  },
  {
   "cell_type": "markdown",
   "metadata": {},
   "source": [
    "### 3-2 외부 데이터 불러오기\n",
    "* read_excel :: readxl   => 엑셀 파일 불러오기\n",
    "* reac.csv               => csv파일 불러오기"
   ]
  },
  {
   "cell_type": "code",
   "execution_count": 8,
   "metadata": {},
   "outputs": [
    {
     "name": "stderr",
     "output_type": "stream",
     "text": [
      "Warning message:\n",
      "\"unable to access index for repository http://www.stats.ox.ac.uk/pub/RWin/bin/windows/contrib/3.5:\n",
      "  URL 'http://www.stats.ox.ac.uk/pub/RWin/bin/windows/contrib/3.5/PACKAGES'를 열 수 없습니다\""
     ]
    },
    {
     "name": "stdout",
     "output_type": "stream",
     "text": [
      "package 'readxl' successfully unpacked and MD5 sums checked\n",
      "\n",
      "The downloaded binary packages are in\n",
      "\tC:\\Users\\WITHJS\\AppData\\Local\\Temp\\RtmpUFfO5N\\downloaded_packages\n"
     ]
    }
   ],
   "source": [
    "install.packages(\"readxl\")"
   ]
  },
  {
   "cell_type": "code",
   "execution_count": 9,
   "metadata": {},
   "outputs": [],
   "source": [
    "library(readxl)"
   ]
  },
  {
   "cell_type": "code",
   "execution_count": 12,
   "metadata": {},
   "outputs": [
    {
     "data": {
      "text/html": [
       "<table>\n",
       "<thead><tr><th scope=col>id</th><th scope=col>class</th><th scope=col>math</th><th scope=col>english</th><th scope=col>science</th></tr></thead>\n",
       "<tbody>\n",
       "\t<tr><td> 1</td><td>1 </td><td>50</td><td>98</td><td>50</td></tr>\n",
       "\t<tr><td> 2</td><td>1 </td><td>60</td><td>97</td><td>60</td></tr>\n",
       "\t<tr><td> 3</td><td>1 </td><td>45</td><td>86</td><td>78</td></tr>\n",
       "\t<tr><td> 4</td><td>1 </td><td>30</td><td>98</td><td>58</td></tr>\n",
       "\t<tr><td> 5</td><td>2 </td><td>25</td><td>80</td><td>65</td></tr>\n",
       "\t<tr><td> 6</td><td>2 </td><td>50</td><td>89</td><td>98</td></tr>\n",
       "\t<tr><td> 7</td><td>2 </td><td>80</td><td>90</td><td>45</td></tr>\n",
       "\t<tr><td> 8</td><td>2 </td><td>90</td><td>78</td><td>25</td></tr>\n",
       "\t<tr><td> 9</td><td>3 </td><td>20</td><td>98</td><td>15</td></tr>\n",
       "\t<tr><td>10</td><td>3 </td><td>50</td><td>98</td><td>45</td></tr>\n",
       "\t<tr><td>11</td><td>3 </td><td>65</td><td>65</td><td>65</td></tr>\n",
       "\t<tr><td>12</td><td>3 </td><td>45</td><td>85</td><td>32</td></tr>\n",
       "\t<tr><td>13</td><td>4 </td><td>46</td><td>98</td><td>65</td></tr>\n",
       "\t<tr><td>14</td><td>4 </td><td>48</td><td>87</td><td>12</td></tr>\n",
       "\t<tr><td>15</td><td>4 </td><td>75</td><td>56</td><td>78</td></tr>\n",
       "\t<tr><td>16</td><td>4 </td><td>58</td><td>98</td><td>65</td></tr>\n",
       "\t<tr><td>17</td><td>5 </td><td>65</td><td>68</td><td>98</td></tr>\n",
       "\t<tr><td>18</td><td>5 </td><td>80</td><td>78</td><td>90</td></tr>\n",
       "\t<tr><td>19</td><td>5 </td><td>89</td><td>68</td><td>87</td></tr>\n",
       "\t<tr><td>20</td><td>5 </td><td>78</td><td>83</td><td>58</td></tr>\n",
       "</tbody>\n",
       "</table>\n"
      ],
      "text/latex": [
       "\\begin{tabular}{r|lllll}\n",
       " id & class & math & english & science\\\\\n",
       "\\hline\n",
       "\t  1 & 1  & 50 & 98 & 50\\\\\n",
       "\t  2 & 1  & 60 & 97 & 60\\\\\n",
       "\t  3 & 1  & 45 & 86 & 78\\\\\n",
       "\t  4 & 1  & 30 & 98 & 58\\\\\n",
       "\t  5 & 2  & 25 & 80 & 65\\\\\n",
       "\t  6 & 2  & 50 & 89 & 98\\\\\n",
       "\t  7 & 2  & 80 & 90 & 45\\\\\n",
       "\t  8 & 2  & 90 & 78 & 25\\\\\n",
       "\t  9 & 3  & 20 & 98 & 15\\\\\n",
       "\t 10 & 3  & 50 & 98 & 45\\\\\n",
       "\t 11 & 3  & 65 & 65 & 65\\\\\n",
       "\t 12 & 3  & 45 & 85 & 32\\\\\n",
       "\t 13 & 4  & 46 & 98 & 65\\\\\n",
       "\t 14 & 4  & 48 & 87 & 12\\\\\n",
       "\t 15 & 4  & 75 & 56 & 78\\\\\n",
       "\t 16 & 4  & 58 & 98 & 65\\\\\n",
       "\t 17 & 5  & 65 & 68 & 98\\\\\n",
       "\t 18 & 5  & 80 & 78 & 90\\\\\n",
       "\t 19 & 5  & 89 & 68 & 87\\\\\n",
       "\t 20 & 5  & 78 & 83 & 58\\\\\n",
       "\\end{tabular}\n"
      ],
      "text/markdown": [
       "\n",
       "id | class | math | english | science | \n",
       "|---|---|---|---|---|---|---|---|---|---|---|---|---|---|---|---|---|---|---|---|\n",
       "|  1 | 1  | 50 | 98 | 50 | \n",
       "|  2 | 1  | 60 | 97 | 60 | \n",
       "|  3 | 1  | 45 | 86 | 78 | \n",
       "|  4 | 1  | 30 | 98 | 58 | \n",
       "|  5 | 2  | 25 | 80 | 65 | \n",
       "|  6 | 2  | 50 | 89 | 98 | \n",
       "|  7 | 2  | 80 | 90 | 45 | \n",
       "|  8 | 2  | 90 | 78 | 25 | \n",
       "|  9 | 3  | 20 | 98 | 15 | \n",
       "| 10 | 3  | 50 | 98 | 45 | \n",
       "| 11 | 3  | 65 | 65 | 65 | \n",
       "| 12 | 3  | 45 | 85 | 32 | \n",
       "| 13 | 4  | 46 | 98 | 65 | \n",
       "| 14 | 4  | 48 | 87 | 12 | \n",
       "| 15 | 4  | 75 | 56 | 78 | \n",
       "| 16 | 4  | 58 | 98 | 65 | \n",
       "| 17 | 5  | 65 | 68 | 98 | \n",
       "| 18 | 5  | 80 | 78 | 90 | \n",
       "| 19 | 5  | 89 | 68 | 87 | \n",
       "| 20 | 5  | 78 | 83 | 58 | \n",
       "\n",
       "\n"
      ],
      "text/plain": [
       "   id class math english science\n",
       "1   1 1     50   98      50     \n",
       "2   2 1     60   97      60     \n",
       "3   3 1     45   86      78     \n",
       "4   4 1     30   98      58     \n",
       "5   5 2     25   80      65     \n",
       "6   6 2     50   89      98     \n",
       "7   7 2     80   90      45     \n",
       "8   8 2     90   78      25     \n",
       "9   9 3     20   98      15     \n",
       "10 10 3     50   98      45     \n",
       "11 11 3     65   65      65     \n",
       "12 12 3     45   85      32     \n",
       "13 13 4     46   98      65     \n",
       "14 14 4     48   87      12     \n",
       "15 15 4     75   56      78     \n",
       "16 16 4     58   98      65     \n",
       "17 17 5     65   68      98     \n",
       "18 18 5     80   78      90     \n",
       "19 19 5     89   68      87     \n",
       "20 20 5     78   83      58     "
      ]
     },
     "metadata": {},
     "output_type": "display_data"
    }
   ],
   "source": [
    "df_exam <- read_excel(\"D:\\\\dataset\\\\R_Doit\\\\excel_exam.xlsx\") # 첫번째 줄은 변수명으로 인식\n",
    "df_exam"
   ]
  },
  {
   "cell_type": "code",
   "execution_count": 13,
   "metadata": {},
   "outputs": [
    {
     "name": "stdout",
     "output_type": "stream",
     "text": [
      "[1] \"tbl_df\"     \"tbl\"        \"data.frame\" \"list\"       \"oldClass\"  \n",
      "[6] \"vector\"    \n",
      "[1] 20  5\n",
      "       id            class        math          english        science     \n",
      " Min.   : 1.00   Min.   :1   Min.   :20.00   Min.   :56.0   Min.   :12.00  \n",
      " 1st Qu.: 5.75   1st Qu.:2   1st Qu.:45.75   1st Qu.:78.0   1st Qu.:45.00  \n",
      " Median :10.50   Median :3   Median :54.00   Median :86.5   Median :62.50  \n",
      " Mean   :10.50   Mean   :3   Mean   :57.45   Mean   :84.9   Mean   :59.45  \n",
      " 3rd Qu.:15.25   3rd Qu.:4   3rd Qu.:75.75   3rd Qu.:98.0   3rd Qu.:78.00  \n",
      " Max.   :20.00   Max.   :5   Max.   :90.00   Max.   :98.0   Max.   :98.00  \n"
     ]
    }
   ],
   "source": [
    "print(is(df_exam))\n",
    "print(dim(df_exam))\n",
    "print(summary(df_exam))\n"
   ]
  },
  {
   "cell_type": "code",
   "execution_count": 14,
   "metadata": {},
   "outputs": [
    {
     "data": {
      "text/html": [
       "<table>\n",
       "<thead><tr><th scope=col>1</th><th scope=col>1__1</th><th scope=col>50</th><th scope=col>98</th><th scope=col>50__1</th></tr></thead>\n",
       "<tbody>\n",
       "\t<tr><td>2 </td><td>1 </td><td>60</td><td>97</td><td>60</td></tr>\n",
       "\t<tr><td>3 </td><td>2 </td><td>25</td><td>80</td><td>65</td></tr>\n",
       "\t<tr><td>4 </td><td>2 </td><td>50</td><td>89</td><td>98</td></tr>\n",
       "\t<tr><td>5 </td><td>3 </td><td>20</td><td>98</td><td>15</td></tr>\n",
       "\t<tr><td>6 </td><td>3 </td><td>50</td><td>98</td><td>45</td></tr>\n",
       "\t<tr><td>7 </td><td>4 </td><td>46</td><td>98</td><td>65</td></tr>\n",
       "\t<tr><td>8 </td><td>4 </td><td>48</td><td>87</td><td>12</td></tr>\n",
       "</tbody>\n",
       "</table>\n"
      ],
      "text/latex": [
       "\\begin{tabular}{r|lllll}\n",
       " 1 & 1\\_\\_1 & 50 & 98 & 50\\_\\_1\\\\\n",
       "\\hline\n",
       "\t 2  & 1  & 60 & 97 & 60\\\\\n",
       "\t 3  & 2  & 25 & 80 & 65\\\\\n",
       "\t 4  & 2  & 50 & 89 & 98\\\\\n",
       "\t 5  & 3  & 20 & 98 & 15\\\\\n",
       "\t 6  & 3  & 50 & 98 & 45\\\\\n",
       "\t 7  & 4  & 46 & 98 & 65\\\\\n",
       "\t 8  & 4  & 48 & 87 & 12\\\\\n",
       "\\end{tabular}\n"
      ],
      "text/markdown": [
       "\n",
       "1 | 1__1 | 50 | 98 | 50__1 | \n",
       "|---|---|---|---|---|---|---|\n",
       "| 2  | 1  | 60 | 97 | 60 | \n",
       "| 3  | 2  | 25 | 80 | 65 | \n",
       "| 4  | 2  | 50 | 89 | 98 | \n",
       "| 5  | 3  | 20 | 98 | 15 | \n",
       "| 6  | 3  | 50 | 98 | 45 | \n",
       "| 7  | 4  | 46 | 98 | 65 | \n",
       "| 8  | 4  | 48 | 87 | 12 | \n",
       "\n",
       "\n"
      ],
      "text/plain": [
       "  1 1__1 50 98 50__1\n",
       "1 2 1    60 97 60   \n",
       "2 3 2    25 80 65   \n",
       "3 4 2    50 89 98   \n",
       "4 5 3    20 98 15   \n",
       "5 6 3    50 98 45   \n",
       "6 7 4    46 98 65   \n",
       "7 8 4    48 87 12   "
      ]
     },
     "metadata": {},
     "output_type": "display_data"
    }
   ],
   "source": [
    "df_exam <- read_excel(\"D:\\\\dataset\\\\R_Doit\\\\excel_exam_novar.xlsx\") # 첫번째 줄은 변수명으로 인식\n",
    "df_exam"
   ]
  },
  {
   "cell_type": "markdown",
   "metadata": {},
   "source": [
    "* col_names를 이용하여 첫번째 행을 변수명이 아닌 데이터로 인식해서 불러온다.\n",
    "* 변수명은 'X_숫자' 로 자동 지정."
   ]
  },
  {
   "cell_type": "code",
   "execution_count": 15,
   "metadata": {},
   "outputs": [
    {
     "data": {
      "text/html": [
       "<table>\n",
       "<thead><tr><th scope=col>X__1</th><th scope=col>X__2</th><th scope=col>X__3</th><th scope=col>X__4</th><th scope=col>X__5</th></tr></thead>\n",
       "<tbody>\n",
       "\t<tr><td>1 </td><td>1 </td><td>50</td><td>98</td><td>50</td></tr>\n",
       "\t<tr><td>2 </td><td>1 </td><td>60</td><td>97</td><td>60</td></tr>\n",
       "\t<tr><td>3 </td><td>2 </td><td>25</td><td>80</td><td>65</td></tr>\n",
       "\t<tr><td>4 </td><td>2 </td><td>50</td><td>89</td><td>98</td></tr>\n",
       "\t<tr><td>5 </td><td>3 </td><td>20</td><td>98</td><td>15</td></tr>\n",
       "\t<tr><td>6 </td><td>3 </td><td>50</td><td>98</td><td>45</td></tr>\n",
       "\t<tr><td>7 </td><td>4 </td><td>46</td><td>98</td><td>65</td></tr>\n",
       "\t<tr><td>8 </td><td>4 </td><td>48</td><td>87</td><td>12</td></tr>\n",
       "</tbody>\n",
       "</table>\n"
      ],
      "text/latex": [
       "\\begin{tabular}{r|lllll}\n",
       " X\\_\\_1 & X\\_\\_2 & X\\_\\_3 & X\\_\\_4 & X\\_\\_5\\\\\n",
       "\\hline\n",
       "\t 1  & 1  & 50 & 98 & 50\\\\\n",
       "\t 2  & 1  & 60 & 97 & 60\\\\\n",
       "\t 3  & 2  & 25 & 80 & 65\\\\\n",
       "\t 4  & 2  & 50 & 89 & 98\\\\\n",
       "\t 5  & 3  & 20 & 98 & 15\\\\\n",
       "\t 6  & 3  & 50 & 98 & 45\\\\\n",
       "\t 7  & 4  & 46 & 98 & 65\\\\\n",
       "\t 8  & 4  & 48 & 87 & 12\\\\\n",
       "\\end{tabular}\n"
      ],
      "text/markdown": [
       "\n",
       "X__1 | X__2 | X__3 | X__4 | X__5 | \n",
       "|---|---|---|---|---|---|---|---|\n",
       "| 1  | 1  | 50 | 98 | 50 | \n",
       "| 2  | 1  | 60 | 97 | 60 | \n",
       "| 3  | 2  | 25 | 80 | 65 | \n",
       "| 4  | 2  | 50 | 89 | 98 | \n",
       "| 5  | 3  | 20 | 98 | 15 | \n",
       "| 6  | 3  | 50 | 98 | 45 | \n",
       "| 7  | 4  | 46 | 98 | 65 | \n",
       "| 8  | 4  | 48 | 87 | 12 | \n",
       "\n",
       "\n"
      ],
      "text/plain": [
       "  X__1 X__2 X__3 X__4 X__5\n",
       "1 1    1    50   98   50  \n",
       "2 2    1    60   97   60  \n",
       "3 3    2    25   80   65  \n",
       "4 4    2    50   89   98  \n",
       "5 5    3    20   98   15  \n",
       "6 6    3    50   98   45  \n",
       "7 7    4    46   98   65  \n",
       "8 8    4    48   87   12  "
      ]
     },
     "metadata": {},
     "output_type": "display_data"
    }
   ],
   "source": [
    "df_exam <- read_excel(\"D:\\\\dataset\\\\R_Doit\\\\excel_exam_novar.xlsx\", col_names=F) # 첫번째 줄은 변수명으로 인식\n",
    "df_exam"
   ]
  },
  {
   "cell_type": "markdown",
   "metadata": {},
   "source": [
    "### (ex) 3-2 실습해보기\n",
    "* sheet=3을 이용하여 excel_exam_sheet.xlsx를 불러오기"
   ]
  },
  {
   "cell_type": "code",
   "execution_count": 16,
   "metadata": {},
   "outputs": [
    {
     "data": {
      "text/html": [
       "<table>\n",
       "<thead><tr><th scope=col>V1</th><th scope=col>V2</th><th scope=col>V3</th><th scope=col>V4</th><th scope=col>V5</th></tr></thead>\n",
       "<tbody>\n",
       "\t<tr><td>id     </td><td>class  </td><td>math   </td><td>english</td><td>science</td></tr>\n",
       "\t<tr><td>1      </td><td>1      </td><td>50     </td><td>98     </td><td>50     </td></tr>\n",
       "\t<tr><td>2      </td><td>1      </td><td>60     </td><td>97     </td><td>60     </td></tr>\n",
       "\t<tr><td>3      </td><td>1      </td><td>45     </td><td>86     </td><td>78     </td></tr>\n",
       "\t<tr><td>4      </td><td>1      </td><td>30     </td><td>98     </td><td>58     </td></tr>\n",
       "\t<tr><td>5      </td><td>2      </td><td>25     </td><td>80     </td><td>65     </td></tr>\n",
       "\t<tr><td>6      </td><td>2      </td><td>50     </td><td>89     </td><td>98     </td></tr>\n",
       "\t<tr><td>7      </td><td>2      </td><td>80     </td><td>90     </td><td>45     </td></tr>\n",
       "\t<tr><td>8      </td><td>2      </td><td>90     </td><td>78     </td><td>25     </td></tr>\n",
       "\t<tr><td>9      </td><td>3      </td><td>20     </td><td>98     </td><td>15     </td></tr>\n",
       "\t<tr><td>10     </td><td>3      </td><td>50     </td><td>98     </td><td>45     </td></tr>\n",
       "\t<tr><td>11     </td><td>3      </td><td>65     </td><td>65     </td><td>65     </td></tr>\n",
       "\t<tr><td>12     </td><td>3      </td><td>45     </td><td>85     </td><td>32     </td></tr>\n",
       "\t<tr><td>13     </td><td>4      </td><td>46     </td><td>98     </td><td>65     </td></tr>\n",
       "\t<tr><td>14     </td><td>4      </td><td>48     </td><td>87     </td><td>12     </td></tr>\n",
       "\t<tr><td>15     </td><td>4      </td><td>75     </td><td>56     </td><td>78     </td></tr>\n",
       "\t<tr><td>16     </td><td>4      </td><td>58     </td><td>98     </td><td>65     </td></tr>\n",
       "\t<tr><td>17     </td><td>5      </td><td>65     </td><td>68     </td><td>98     </td></tr>\n",
       "\t<tr><td>18     </td><td>5      </td><td>80     </td><td>78     </td><td>90     </td></tr>\n",
       "\t<tr><td>19     </td><td>5      </td><td>89     </td><td>68     </td><td>87     </td></tr>\n",
       "\t<tr><td>20     </td><td>5      </td><td>78     </td><td>83     </td><td>58     </td></tr>\n",
       "</tbody>\n",
       "</table>\n"
      ],
      "text/latex": [
       "\\begin{tabular}{r|lllll}\n",
       " V1 & V2 & V3 & V4 & V5\\\\\n",
       "\\hline\n",
       "\t id      & class   & math    & english & science\\\\\n",
       "\t 1       & 1       & 50      & 98      & 50     \\\\\n",
       "\t 2       & 1       & 60      & 97      & 60     \\\\\n",
       "\t 3       & 1       & 45      & 86      & 78     \\\\\n",
       "\t 4       & 1       & 30      & 98      & 58     \\\\\n",
       "\t 5       & 2       & 25      & 80      & 65     \\\\\n",
       "\t 6       & 2       & 50      & 89      & 98     \\\\\n",
       "\t 7       & 2       & 80      & 90      & 45     \\\\\n",
       "\t 8       & 2       & 90      & 78      & 25     \\\\\n",
       "\t 9       & 3       & 20      & 98      & 15     \\\\\n",
       "\t 10      & 3       & 50      & 98      & 45     \\\\\n",
       "\t 11      & 3       & 65      & 65      & 65     \\\\\n",
       "\t 12      & 3       & 45      & 85      & 32     \\\\\n",
       "\t 13      & 4       & 46      & 98      & 65     \\\\\n",
       "\t 14      & 4       & 48      & 87      & 12     \\\\\n",
       "\t 15      & 4       & 75      & 56      & 78     \\\\\n",
       "\t 16      & 4       & 58      & 98      & 65     \\\\\n",
       "\t 17      & 5       & 65      & 68      & 98     \\\\\n",
       "\t 18      & 5       & 80      & 78      & 90     \\\\\n",
       "\t 19      & 5       & 89      & 68      & 87     \\\\\n",
       "\t 20      & 5       & 78      & 83      & 58     \\\\\n",
       "\\end{tabular}\n"
      ],
      "text/markdown": [
       "\n",
       "V1 | V2 | V3 | V4 | V5 | \n",
       "|---|---|---|---|---|---|---|---|---|---|---|---|---|---|---|---|---|---|---|---|---|\n",
       "| id      | class   | math    | english | science | \n",
       "| 1       | 1       | 50      | 98      | 50      | \n",
       "| 2       | 1       | 60      | 97      | 60      | \n",
       "| 3       | 1       | 45      | 86      | 78      | \n",
       "| 4       | 1       | 30      | 98      | 58      | \n",
       "| 5       | 2       | 25      | 80      | 65      | \n",
       "| 6       | 2       | 50      | 89      | 98      | \n",
       "| 7       | 2       | 80      | 90      | 45      | \n",
       "| 8       | 2       | 90      | 78      | 25      | \n",
       "| 9       | 3       | 20      | 98      | 15      | \n",
       "| 10      | 3       | 50      | 98      | 45      | \n",
       "| 11      | 3       | 65      | 65      | 65      | \n",
       "| 12      | 3       | 45      | 85      | 32      | \n",
       "| 13      | 4       | 46      | 98      | 65      | \n",
       "| 14      | 4       | 48      | 87      | 12      | \n",
       "| 15      | 4       | 75      | 56      | 78      | \n",
       "| 16      | 4       | 58      | 98      | 65      | \n",
       "| 17      | 5       | 65      | 68      | 98      | \n",
       "| 18      | 5       | 80      | 78      | 90      | \n",
       "| 19      | 5       | 89      | 68      | 87      | \n",
       "| 20      | 5       | 78      | 83      | 58      | \n",
       "\n",
       "\n"
      ],
      "text/plain": [
       "   V1 V2    V3   V4      V5     \n",
       "1  id class math english science\n",
       "2  1  1     50   98      50     \n",
       "3  2  1     60   97      60     \n",
       "4  3  1     45   86      78     \n",
       "5  4  1     30   98      58     \n",
       "6  5  2     25   80      65     \n",
       "7  6  2     50   89      98     \n",
       "8  7  2     80   90      45     \n",
       "9  8  2     90   78      25     \n",
       "10 9  3     20   98      15     \n",
       "11 10 3     50   98      45     \n",
       "12 11 3     65   65      65     \n",
       "13 12 3     45   85      32     \n",
       "14 13 4     46   98      65     \n",
       "15 14 4     48   87      12     \n",
       "16 15 4     75   56      78     \n",
       "17 16 4     58   98      65     \n",
       "18 17 5     65   68      98     \n",
       "19 18 5     80   78      90     \n",
       "20 19 5     89   68      87     \n",
       "21 20 5     78   83      58     "
      ]
     },
     "metadata": {},
     "output_type": "display_data"
    }
   ],
   "source": [
    "df_csv_exam <- read.csv(\"D:\\\\dataset\\\\R_Doit\\\\csv_exam.csv\", header=F)\n",
    "df_csv_exam"
   ]
  },
  {
   "cell_type": "code",
   "execution_count": 17,
   "metadata": {},
   "outputs": [
    {
     "data": {
      "text/html": [
       "<table>\n",
       "<thead><tr><th scope=col>id</th><th scope=col>class</th><th scope=col>math</th><th scope=col>english</th><th scope=col>science</th></tr></thead>\n",
       "<tbody>\n",
       "\t<tr><td> 1</td><td>1 </td><td>50</td><td>98</td><td>50</td></tr>\n",
       "\t<tr><td> 2</td><td>1 </td><td>60</td><td>97</td><td>60</td></tr>\n",
       "\t<tr><td> 3</td><td>1 </td><td>45</td><td>86</td><td>78</td></tr>\n",
       "\t<tr><td> 4</td><td>1 </td><td>30</td><td>98</td><td>58</td></tr>\n",
       "\t<tr><td> 5</td><td>2 </td><td>25</td><td>80</td><td>65</td></tr>\n",
       "\t<tr><td> 6</td><td>2 </td><td>50</td><td>89</td><td>98</td></tr>\n",
       "\t<tr><td> 7</td><td>2 </td><td>80</td><td>90</td><td>45</td></tr>\n",
       "\t<tr><td> 8</td><td>2 </td><td>90</td><td>78</td><td>25</td></tr>\n",
       "\t<tr><td> 9</td><td>3 </td><td>20</td><td>98</td><td>15</td></tr>\n",
       "\t<tr><td>10</td><td>3 </td><td>50</td><td>98</td><td>45</td></tr>\n",
       "\t<tr><td>11</td><td>3 </td><td>65</td><td>65</td><td>65</td></tr>\n",
       "\t<tr><td>12</td><td>3 </td><td>45</td><td>85</td><td>32</td></tr>\n",
       "\t<tr><td>13</td><td>4 </td><td>46</td><td>98</td><td>65</td></tr>\n",
       "\t<tr><td>14</td><td>4 </td><td>48</td><td>87</td><td>12</td></tr>\n",
       "\t<tr><td>15</td><td>4 </td><td>75</td><td>56</td><td>78</td></tr>\n",
       "\t<tr><td>16</td><td>4 </td><td>58</td><td>98</td><td>65</td></tr>\n",
       "\t<tr><td>17</td><td>5 </td><td>65</td><td>68</td><td>98</td></tr>\n",
       "\t<tr><td>18</td><td>5 </td><td>80</td><td>78</td><td>90</td></tr>\n",
       "\t<tr><td>19</td><td>5 </td><td>89</td><td>68</td><td>87</td></tr>\n",
       "\t<tr><td>20</td><td>5 </td><td>78</td><td>83</td><td>58</td></tr>\n",
       "</tbody>\n",
       "</table>\n"
      ],
      "text/latex": [
       "\\begin{tabular}{r|lllll}\n",
       " id & class & math & english & science\\\\\n",
       "\\hline\n",
       "\t  1 & 1  & 50 & 98 & 50\\\\\n",
       "\t  2 & 1  & 60 & 97 & 60\\\\\n",
       "\t  3 & 1  & 45 & 86 & 78\\\\\n",
       "\t  4 & 1  & 30 & 98 & 58\\\\\n",
       "\t  5 & 2  & 25 & 80 & 65\\\\\n",
       "\t  6 & 2  & 50 & 89 & 98\\\\\n",
       "\t  7 & 2  & 80 & 90 & 45\\\\\n",
       "\t  8 & 2  & 90 & 78 & 25\\\\\n",
       "\t  9 & 3  & 20 & 98 & 15\\\\\n",
       "\t 10 & 3  & 50 & 98 & 45\\\\\n",
       "\t 11 & 3  & 65 & 65 & 65\\\\\n",
       "\t 12 & 3  & 45 & 85 & 32\\\\\n",
       "\t 13 & 4  & 46 & 98 & 65\\\\\n",
       "\t 14 & 4  & 48 & 87 & 12\\\\\n",
       "\t 15 & 4  & 75 & 56 & 78\\\\\n",
       "\t 16 & 4  & 58 & 98 & 65\\\\\n",
       "\t 17 & 5  & 65 & 68 & 98\\\\\n",
       "\t 18 & 5  & 80 & 78 & 90\\\\\n",
       "\t 19 & 5  & 89 & 68 & 87\\\\\n",
       "\t 20 & 5  & 78 & 83 & 58\\\\\n",
       "\\end{tabular}\n"
      ],
      "text/markdown": [
       "\n",
       "id | class | math | english | science | \n",
       "|---|---|---|---|---|---|---|---|---|---|---|---|---|---|---|---|---|---|---|---|\n",
       "|  1 | 1  | 50 | 98 | 50 | \n",
       "|  2 | 1  | 60 | 97 | 60 | \n",
       "|  3 | 1  | 45 | 86 | 78 | \n",
       "|  4 | 1  | 30 | 98 | 58 | \n",
       "|  5 | 2  | 25 | 80 | 65 | \n",
       "|  6 | 2  | 50 | 89 | 98 | \n",
       "|  7 | 2  | 80 | 90 | 45 | \n",
       "|  8 | 2  | 90 | 78 | 25 | \n",
       "|  9 | 3  | 20 | 98 | 15 | \n",
       "| 10 | 3  | 50 | 98 | 45 | \n",
       "| 11 | 3  | 65 | 65 | 65 | \n",
       "| 12 | 3  | 45 | 85 | 32 | \n",
       "| 13 | 4  | 46 | 98 | 65 | \n",
       "| 14 | 4  | 48 | 87 | 12 | \n",
       "| 15 | 4  | 75 | 56 | 78 | \n",
       "| 16 | 4  | 58 | 98 | 65 | \n",
       "| 17 | 5  | 65 | 68 | 98 | \n",
       "| 18 | 5  | 80 | 78 | 90 | \n",
       "| 19 | 5  | 89 | 68 | 87 | \n",
       "| 20 | 5  | 78 | 83 | 58 | \n",
       "\n",
       "\n"
      ],
      "text/plain": [
       "   id class math english science\n",
       "1   1 1     50   98      50     \n",
       "2   2 1     60   97      60     \n",
       "3   3 1     45   86      78     \n",
       "4   4 1     30   98      58     \n",
       "5   5 2     25   80      65     \n",
       "6   6 2     50   89      98     \n",
       "7   7 2     80   90      45     \n",
       "8   8 2     90   78      25     \n",
       "9   9 3     20   98      15     \n",
       "10 10 3     50   98      45     \n",
       "11 11 3     65   65      65     \n",
       "12 12 3     45   85      32     \n",
       "13 13 4     46   98      65     \n",
       "14 14 4     48   87      12     \n",
       "15 15 4     75   56      78     \n",
       "16 16 4     58   98      65     \n",
       "17 17 5     65   68      98     \n",
       "18 18 5     80   78      90     \n",
       "19 19 5     89   68      87     \n",
       "20 20 5     78   83      58     "
      ]
     },
     "metadata": {},
     "output_type": "display_data"
    }
   ],
   "source": [
    "df_csv_exam <- read.csv(\"D:\\\\dataset\\\\R_Doit\\\\csv_exam.csv\", header=T)\n",
    "df_csv_exam"
   ]
  },
  {
   "cell_type": "markdown",
   "metadata": {},
   "source": [
    "### 3-3 데이터를 파일로 저장하기"
   ]
  },
  {
   "cell_type": "code",
   "execution_count": 18,
   "metadata": {},
   "outputs": [
    {
     "data": {
      "text/html": [
       "<table>\n",
       "<thead><tr><th scope=col>kor</th><th scope=col>eng</th><th scope=col>math</th></tr></thead>\n",
       "<tbody>\n",
       "\t<tr><td>80 </td><td>90 </td><td> 95</td></tr>\n",
       "\t<tr><td>80 </td><td>80 </td><td>100</td></tr>\n",
       "\t<tr><td>90 </td><td>80 </td><td> 70</td></tr>\n",
       "</tbody>\n",
       "</table>\n"
      ],
      "text/latex": [
       "\\begin{tabular}{r|lll}\n",
       " kor & eng & math\\\\\n",
       "\\hline\n",
       "\t 80  & 90  &  95\\\\\n",
       "\t 80  & 80  & 100\\\\\n",
       "\t 90  & 80  &  70\\\\\n",
       "\\end{tabular}\n"
      ],
      "text/markdown": [
       "\n",
       "kor | eng | math | \n",
       "|---|---|---|\n",
       "| 80  | 90  |  95 | \n",
       "| 80  | 80  | 100 | \n",
       "| 90  | 80  |  70 | \n",
       "\n",
       "\n"
      ],
      "text/plain": [
       "  kor eng math\n",
       "1 80  90   95 \n",
       "2 80  80  100 \n",
       "3 90  80   70 "
      ]
     },
     "metadata": {},
     "output_type": "display_data"
    }
   ],
   "source": [
    "df_score3 <- data.frame(kor, eng, math)\n",
    "df_score3"
   ]
  },
  {
   "cell_type": "code",
   "execution_count": 20,
   "metadata": {},
   "outputs": [],
   "source": [
    "write.csv(df_score3, file=\"df_score.csv\")"
   ]
  },
  {
   "cell_type": "markdown",
   "metadata": {},
   "source": [
    "### 3-4 RData 파일 활용하기\n",
    "* save(데이터셋, file=\"파일명.rda\")\n",
    "* load(\"___.rda\")"
   ]
  },
  {
   "cell_type": "code",
   "execution_count": 24,
   "metadata": {},
   "outputs": [],
   "source": [
    "save(df_score3, file=\"df_score.rda\")"
   ]
  },
  {
   "cell_type": "code",
   "execution_count": 25,
   "metadata": {},
   "outputs": [],
   "source": [
    "rm(df_score3)"
   ]
  },
  {
   "cell_type": "code",
   "execution_count": 27,
   "metadata": {},
   "outputs": [
    {
     "data": {
      "text/plain": [
       "df_csv_exam : 'data.frame':\t20 obs. of  5 variables:\n",
       " $ id     : int  1 2 3 4 5 6 7 8 9 10 ...\n",
       " $ class  : int  1 1 1 1 2 2 2 2 3 3 ...\n",
       " $ math   : int  50 60 45 30 25 50 80 90 20 50 ...\n",
       " $ english: int  98 97 86 98 80 89 90 78 98 98 ...\n",
       " $ science: int  50 60 78 58 65 98 45 25 15 45 ...\n",
       "df_exam : Classes 'tbl_df', 'tbl' and 'data.frame':\t8 obs. of  5 variables:\n",
       " $ X__1: num  1 2 3 4 5 6 7 8\n",
       " $ X__2: num  1 1 2 2 3 3 4 4\n",
       " $ X__3: num  50 60 25 50 20 50 46 48\n",
       " $ X__4: num  98 97 80 89 98 98 98 87\n",
       " $ X__5: num  50 60 65 98 15 45 65 12\n",
       "df_score : 'data.frame':\t3 obs. of  3 variables:\n",
       " $ kor : num  80 80 90\n",
       " $ eng : num  90 80 80\n",
       " $ math: num  95 100 70\n",
       "df_score2 : 'data.frame':\t3 obs. of  3 variables:\n",
       " $ kor : num  80 80 90\n",
       " $ eng : num  90 80 80\n",
       " $ math: num  95 100 70\n",
       "eng :  num [1:3] 90 80 80\n",
       "kor :  num [1:3] 80 80 90\n",
       "math :  num [1:3] 95 100 70"
      ]
     },
     "metadata": {},
     "output_type": "display_data"
    }
   ],
   "source": [
    "# 변수의 리스트 확인\n",
    "ls.str()"
   ]
  },
  {
   "cell_type": "code",
   "execution_count": 28,
   "metadata": {},
   "outputs": [
    {
     "data": {
      "text/plain": [
       "df_csv_exam : 'data.frame':\t20 obs. of  5 variables:\n",
       " $ id     : int  1 2 3 4 5 6 7 8 9 10 ...\n",
       " $ class  : int  1 1 1 1 2 2 2 2 3 3 ...\n",
       " $ math   : int  50 60 45 30 25 50 80 90 20 50 ...\n",
       " $ english: int  98 97 86 98 80 89 90 78 98 98 ...\n",
       " $ science: int  50 60 78 58 65 98 45 25 15 45 ...\n",
       "df_exam : Classes 'tbl_df', 'tbl' and 'data.frame':\t8 obs. of  5 variables:\n",
       " $ X__1: num  1 2 3 4 5 6 7 8\n",
       " $ X__2: num  1 1 2 2 3 3 4 4\n",
       " $ X__3: num  50 60 25 50 20 50 46 48\n",
       " $ X__4: num  98 97 80 89 98 98 98 87\n",
       " $ X__5: num  50 60 65 98 15 45 65 12\n",
       "df_score : 'data.frame':\t3 obs. of  3 variables:\n",
       " $ kor : num  80 80 90\n",
       " $ eng : num  90 80 80\n",
       " $ math: num  95 100 70\n",
       "df_score2 : 'data.frame':\t3 obs. of  3 variables:\n",
       " $ kor : num  80 80 90\n",
       " $ eng : num  90 80 80\n",
       " $ math: num  95 100 70\n",
       "df_score3 : 'data.frame':\t3 obs. of  3 variables:\n",
       " $ kor : num  80 80 90\n",
       " $ eng : num  90 80 80\n",
       " $ math: num  95 100 70\n",
       "eng :  num [1:3] 90 80 80\n",
       "kor :  num [1:3] 80 80 90\n",
       "math :  num [1:3] 95 100 70"
      ]
     },
     "metadata": {},
     "output_type": "display_data"
    }
   ],
   "source": [
    "## 불러오기\n",
    "load(\"df_score.rda\")\n",
    "ls.str()"
   ]
  },
  {
   "cell_type": "code",
   "execution_count": null,
   "metadata": {},
   "outputs": [],
   "source": []
  }
 ],
 "metadata": {
  "kernelspec": {
   "display_name": "R",
   "language": "R",
   "name": "ir"
  },
  "language_info": {
   "codemirror_mode": "r",
   "file_extension": ".r",
   "mimetype": "text/x-r-source",
   "name": "R",
   "pygments_lexer": "r",
   "version": "3.5.1"
  }
 },
 "nbformat": 4,
 "nbformat_minor": 2
}
