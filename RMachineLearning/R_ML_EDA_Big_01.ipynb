{
 "cells": [
  {
   "cell_type": "markdown",
   "metadata": {},
   "source": [
    "### 실전 데이터 셋 분석"
   ]
  },
  {
   "cell_type": "markdown",
   "metadata": {},
   "source": [
    "### 01. 유동인구 데이터 셋 분석"
   ]
  },
  {
   "cell_type": "code",
   "execution_count": 1,
   "metadata": {},
   "outputs": [
    {
     "name": "stderr",
     "output_type": "stream",
     "text": [
      "\n",
      "Attaching package: 'dplyr'\n",
      "\n",
      "The following objects are masked from 'package:stats':\n",
      "\n",
      "    filter, lag\n",
      "\n",
      "The following objects are masked from 'package:base':\n",
      "\n",
      "    intersect, setdiff, setequal, union\n",
      "\n"
     ]
    }
   ],
   "source": [
    "library(dplyr)\n",
    "library(ggplot2)"
   ]
  },
  {
   "cell_type": "code",
   "execution_count": 2,
   "metadata": {},
   "outputs": [],
   "source": [
    "library(readxl)"
   ]
  },
  {
   "cell_type": "code",
   "execution_count": 7,
   "metadata": {},
   "outputs": [
    {
     "data": {
      "text/html": [
       "<table>\n",
       "<thead><tr><th scope=col>sheet_name</th><th scope=col>sheet_num</th><th scope=col>content</th><th scope=col>상세</th><th scope=col>filename</th></tr></thead>\n",
       "<tbody>\n",
       "\t<tr><td>sheet_info                                                         </td><td>1                                                                  </td><td>시트 정보                                                          </td><td>엑셀 파일 설명                                                     </td><td>None                                                               </td></tr>\n",
       "\t<tr><td>all_table                                                          </td><td>2                                                                  </td><td>테이블 정보                                                        </td><td>전체 테이블 정보                                                   </td><td>데이터 셋에 대한 전체 정보                                         </td></tr>\n",
       "\t<tr><td>01_basic_info                                                      </td><td>3                                                                  </td><td>기초정보                                                           </td><td>행정동코드 정보                                                    </td><td>종로_노원_행정동.DBF~종로_노원_행정동.SHX                          </td></tr>\n",
       "\t<tr><td>01_moving_pop                                                      </td><td>4                                                                  </td><td>유동인구_연령                                                      </td><td>5세단위 노원구/종로구 유동인구                                     </td><td>노원_종로_FLOW_AGE_201804.CSV~\r\n",
       "노원_종로_FLOW_AGE_201903.CSV    </td></tr>\n",
       "\t<tr><td>01_moving_pop_hour                                                 </td><td>5                                                                  </td><td>유동인구_시간                                                      </td><td>1시간단위 노원구/종로구 유동인구                                   </td><td>노원_종로_FLOW_TIME_201804.CSV ~ \r\n",
       "노원_종로_FLOW_TIME_201903.CSV</td></tr>\n",
       "</tbody>\n",
       "</table>\n"
      ],
      "text/latex": [
       "\\begin{tabular}{r|lllll}\n",
       " sheet\\_name & sheet\\_num & content & 상세 & filename\\\\\n",
       "\\hline\n",
       "\t sheet\\_info                                                        & 1                                                                   & 시트 정보                                                           & 엑셀 파일 설명                                                      & None                                                               \\\\\n",
       "\t all\\_table                                                         & 2                                                                   & 테이블 정보                                                         & 전체 테이블 정보                                                    & 데이터 셋에 대한 전체 정보                                         \\\\\n",
       "\t 01\\_basic\\_info                                                                            & 3                                                                                            & 기초정보                                                                                     & 행정동코드 정보                                                                              & 종로\\_노원\\_행정동.DBF\\textasciitilde{}종로\\_노원\\_행정동.SHX                          \\\\\n",
       "\t 01\\_moving\\_pop                                                                                    & 4                                                                                                    & 유동인구\\_연령                                                                                      & 5세단위 노원구/종로구 유동인구                                                                       & 노원\\_종로\\_FLOW\\_AGE\\_201804.CSV\\textasciitilde{}\r\n",
       "노원\\_종로\\_FLOW\\_AGE\\_201903.CSV    \\\\\n",
       "\t 01\\_moving\\_pop\\_hour                                                                             & 5                                                                                                    & 유동인구\\_시간                                                                                      & 1시간단위 노원구/종로구 유동인구                                                                     & 노원\\_종로\\_FLOW\\_TIME\\_201804.CSV \\textasciitilde{} \r\n",
       "노원\\_종로\\_FLOW\\_TIME\\_201903.CSV\\\\\n",
       "\\end{tabular}\n"
      ],
      "text/markdown": [
       "\n",
       "sheet_name | sheet_num | content | 상세 | filename | \n",
       "|---|---|---|---|---|\n",
       "| sheet_info                                                          | 1                                                                   | 시트 정보                                                           | 엑셀 파일 설명                                                      | None                                                                | \n",
       "| all_table                                                           | 2                                                                   | 테이블 정보                                                         | 전체 테이블 정보                                                    | 데이터 셋에 대한 전체 정보                                          | \n",
       "| 01_basic_info                                                       | 3                                                                   | 기초정보                                                            | 행정동코드 정보                                                     | 종로_노원_행정동.DBF~종로_노원_행정동.SHX                           | \n",
       "| 01_moving_pop                                                       | 4                                                                   | 유동인구_연령                                                       | 5세단위 노원구/종로구 유동인구                                      | 노원_종로_FLOW_AGE_201804.CSV~\r\n",
       "노원_종로_FLOW_AGE_201903.CSV     | \n",
       "| 01_moving_pop_hour                                                  | 5                                                                   | 유동인구_시간                                                       | 1시간단위 노원구/종로구 유동인구                                    | 노원_종로_FLOW_TIME_201804.CSV ~ \r\n",
       "노원_종로_FLOW_TIME_201903.CSV | \n",
       "\n",
       "\n"
      ],
      "text/plain": [
       "  sheet_name         sheet_num content       상세                            \n",
       "1 sheet_info         1         시트 정보     엑셀 파일 설명                  \n",
       "2 all_table          2         테이블 정보   전체 테이블 정보                \n",
       "3 01_basic_info      3         기초정보      행정동코드 정보                 \n",
       "4 01_moving_pop      4         유동인구_연령 5세단위 노원구/종로구 유동인구  \n",
       "5 01_moving_pop_hour 5         유동인구_시간 1시간단위 노원구/종로구 유동인구\n",
       "  filename                                                           \n",
       "1 None                                                               \n",
       "2 데이터 셋에 대한 전체 정보                                         \n",
       "3 종로_노원_행정동.DBF~종로_노원_행정동.SHX                          \n",
       "4 노원_종로_FLOW_AGE_201804.CSV~\\r\\n노원_종로_FLOW_AGE_201903.CSV    \n",
       "5 노원_종로_FLOW_TIME_201804.CSV ~ \\r\\n노원_종로_FLOW_TIME_201903.CSV"
      ]
     },
     "metadata": {},
     "output_type": "display_data"
    }
   ],
   "source": [
    "doc <- read_excel(\"D:\\\\dataset\\\\11_innovation\\\\moving_dataset_skt\\\\table_define.xlsx\", col_names = T)\n",
    "doc"
   ]
  },
  {
   "cell_type": "code",
   "execution_count": 58,
   "metadata": {},
   "outputs": [
    {
     "data": {
      "text/html": [
       "<table>\n",
       "<thead><tr><th scope=col>No.</th><th scope=col>컬럼ID</th><th scope=col>컬럼명</th><th scope=col>타입</th><th scope=col>길이</th></tr></thead>\n",
       "<tbody>\n",
       "\t<tr><td> 1                    </td><td>STD_YM                </td><td>년월                  </td><td>VARCHAR2              </td><td>6                     </td></tr>\n",
       "\t<tr><td> 2                    </td><td>STD_YMD               </td><td>년월일                </td><td>VARCHAR2              </td><td>8                     </td></tr>\n",
       "\t<tr><td> 3                    </td><td>HDONG_CD              </td><td>행정동코드            </td><td>VARCHAR2              </td><td>10                    </td></tr>\n",
       "\t<tr><td> 4                    </td><td>HDONG_NM              </td><td>행정동명칭            </td><td>VARCHAR2              </td><td>50                    </td></tr>\n",
       "\t<tr><td> 5                    </td><td>MAN_FLOW_POP_CNT_0004 </td><td>남성_0004세 유동인구  </td><td>NUMBER                </td><td>(18, 2)               </td></tr>\n",
       "\t<tr><td> 6                    </td><td>MAN_FLOW_POP_CNT_0509 </td><td>남성_0509세 유동인구  </td><td>NUMBER                </td><td>(18, 2)               </td></tr>\n",
       "\t<tr><td> 7                    </td><td>MAN_FLOW_POP_CNT_1014 </td><td>남성_1014세 유동인구  </td><td>NUMBER                </td><td>(18, 2)               </td></tr>\n",
       "\t<tr><td> 8                    </td><td>MAN_FLOW_POP_CNT_1519 </td><td>남성_1519세 유동인구  </td><td>NUMBER                </td><td>(18, 2)               </td></tr>\n",
       "\t<tr><td> 9                    </td><td>MAN_FLOW_POP_CNT_2024 </td><td>남성_2024세 유동인구  </td><td>NUMBER                </td><td>(18, 2)               </td></tr>\n",
       "\t<tr><td>10                    </td><td>MAN_FLOW_POP_CNT_2529 </td><td>남성_2529세 유동인구  </td><td>NUMBER                </td><td>(18, 2)               </td></tr>\n",
       "\t<tr><td>11                    </td><td>MAN_FLOW_POP_CNT_3034 </td><td>남성_3034세 유동인구  </td><td>NUMBER                </td><td>(18, 2)               </td></tr>\n",
       "\t<tr><td>12                    </td><td>MAN_FLOW_POP_CNT_3539 </td><td>남성_3539세 유동인구  </td><td>NUMBER                </td><td>(18, 2)               </td></tr>\n",
       "\t<tr><td>13                    </td><td>MAN_FLOW_POP_CNT_4044 </td><td>남성_4044세 유동인구  </td><td>NUMBER                </td><td>(18, 2)               </td></tr>\n",
       "\t<tr><td>14                    </td><td>MAN_FLOW_POP_CNT_4549 </td><td>남성_4549세 유동인구  </td><td>NUMBER                </td><td>(18, 2)               </td></tr>\n",
       "\t<tr><td>15                    </td><td>MAN_FLOW_POP_CNT_5054 </td><td>남성_5054세 유동인구  </td><td>NUMBER                </td><td>(18, 2)               </td></tr>\n",
       "\t<tr><td>16                    </td><td>MAN_FLOW_POP_CNT_5559 </td><td>남성_5559세 유동인구  </td><td>NUMBER                </td><td>(18, 2)               </td></tr>\n",
       "\t<tr><td>17                    </td><td>MAN_FLOW_POP_CNT_6064 </td><td>남성_6064세 유동인구  </td><td>NUMBER                </td><td>(18, 2)               </td></tr>\n",
       "\t<tr><td>18                    </td><td>MAN_FLOW_POP_CNT_6569 </td><td>남성_6569세 유동인구  </td><td>NUMBER                </td><td>(18, 2)               </td></tr>\n",
       "\t<tr><td>19                    </td><td>MAN_FLOW_POP_CNT_70U  </td><td>남성_70세이상 유동인구</td><td>NUMBER                </td><td>(18, 2)               </td></tr>\n",
       "\t<tr><td>20                    </td><td>WMAN_FLOW_POP_CNT_0004</td><td>여성_0004세 유동인구  </td><td>NUMBER                </td><td>(18, 2)               </td></tr>\n",
       "\t<tr><td>21                    </td><td>WMAN_FLOW_POP_CNT_0509</td><td>여성_0509세 유동인구  </td><td>NUMBER                </td><td>(18, 2)               </td></tr>\n",
       "\t<tr><td>22                    </td><td>WMAN_FLOW_POP_CNT_1014</td><td>여성_1014세 유동인구  </td><td>NUMBER                </td><td>(18, 2)               </td></tr>\n",
       "\t<tr><td>23                    </td><td>WMAN_FLOW_POP_CNT_1519</td><td>여성_1519세 유동인구  </td><td>NUMBER                </td><td>(18, 2)               </td></tr>\n",
       "\t<tr><td>24                    </td><td>WMAN_FLOW_POP_CNT_2024</td><td>여성_2024세 유동인구  </td><td>NUMBER                </td><td>(18, 2)               </td></tr>\n",
       "\t<tr><td>25                    </td><td>WMAN_FLOW_POP_CNT_2529</td><td>여성_2529세 유동인구  </td><td>NUMBER                </td><td>(18, 2)               </td></tr>\n",
       "\t<tr><td>26                    </td><td>WMAN_FLOW_POP_CNT_3034</td><td>여성_3034세 유동인구  </td><td>NUMBER                </td><td>(18, 2)               </td></tr>\n",
       "\t<tr><td>27                    </td><td>WMAN_FLOW_POP_CNT_3539</td><td>여성_3539세 유동인구  </td><td>NUMBER                </td><td>(18, 2)               </td></tr>\n",
       "\t<tr><td>28                    </td><td>WMAN_FLOW_POP_CNT_4044</td><td>여성_4044세 유동인구  </td><td>NUMBER                </td><td>(18, 2)               </td></tr>\n",
       "\t<tr><td>29                    </td><td>WMAN_FLOW_POP_CNT_4549</td><td>여성_4549세 유동인구  </td><td>NUMBER                </td><td>(18, 2)               </td></tr>\n",
       "\t<tr><td>30                    </td><td>WMAN_FLOW_POP_CNT_5054</td><td>여성_5054세 유동인구  </td><td>NUMBER                </td><td>(18, 2)               </td></tr>\n",
       "\t<tr><td>31                    </td><td>WMAN_FLOW_POP_CNT_5559</td><td>여성_5559세 유동인구  </td><td>NUMBER                </td><td>(18, 2)               </td></tr>\n",
       "\t<tr><td>32                    </td><td>WMAN_FLOW_POP_CNT_6064</td><td>여성_6064세 유동인구  </td><td>NUMBER                </td><td>(18, 2)               </td></tr>\n",
       "\t<tr><td>33                    </td><td>WMAN_FLOW_POP_CNT_6569</td><td>여성_6569세 유동인구  </td><td>NUMBER                </td><td>(18, 2)               </td></tr>\n",
       "\t<tr><td>34                    </td><td>WMAN_FLOW_POP_CNT_70U </td><td>여성_70세이상 유동인구</td><td>NUMBER                </td><td>(18, 2)               </td></tr>\n",
       "</tbody>\n",
       "</table>\n"
      ],
      "text/latex": [
       "\\begin{tabular}{r|lllll}\n",
       " No. & 컬럼ID & 컬럼명 & 타입 & 길이\\\\\n",
       "\\hline\n",
       "\t  1                       & STD\\_YM                 & 년월                     & VARCHAR2                 & 6                       \\\\\n",
       "\t  2                       & STD\\_YMD                & 년월일                   & VARCHAR2                 & 8                       \\\\\n",
       "\t  3                       & HDONG\\_CD               & 행정동코드               & VARCHAR2                 & 10                      \\\\\n",
       "\t  4                       & HDONG\\_NM               & 행정동명칭               & VARCHAR2                 & 50                      \\\\\n",
       "\t  5                             & MAN\\_FLOW\\_POP\\_CNT\\_0004  & 남성\\_0004세 유동인구         & NUMBER                         & (18, 2)                       \\\\\n",
       "\t  6                             & MAN\\_FLOW\\_POP\\_CNT\\_0509  & 남성\\_0509세 유동인구         & NUMBER                         & (18, 2)                       \\\\\n",
       "\t  7                             & MAN\\_FLOW\\_POP\\_CNT\\_1014  & 남성\\_1014세 유동인구         & NUMBER                         & (18, 2)                       \\\\\n",
       "\t  8                             & MAN\\_FLOW\\_POP\\_CNT\\_1519  & 남성\\_1519세 유동인구         & NUMBER                         & (18, 2)                       \\\\\n",
       "\t  9                             & MAN\\_FLOW\\_POP\\_CNT\\_2024  & 남성\\_2024세 유동인구         & NUMBER                         & (18, 2)                       \\\\\n",
       "\t 10                             & MAN\\_FLOW\\_POP\\_CNT\\_2529  & 남성\\_2529세 유동인구         & NUMBER                         & (18, 2)                       \\\\\n",
       "\t 11                             & MAN\\_FLOW\\_POP\\_CNT\\_3034  & 남성\\_3034세 유동인구         & NUMBER                         & (18, 2)                       \\\\\n",
       "\t 12                             & MAN\\_FLOW\\_POP\\_CNT\\_3539  & 남성\\_3539세 유동인구         & NUMBER                         & (18, 2)                       \\\\\n",
       "\t 13                             & MAN\\_FLOW\\_POP\\_CNT\\_4044  & 남성\\_4044세 유동인구         & NUMBER                         & (18, 2)                       \\\\\n",
       "\t 14                             & MAN\\_FLOW\\_POP\\_CNT\\_4549  & 남성\\_4549세 유동인구         & NUMBER                         & (18, 2)                       \\\\\n",
       "\t 15                             & MAN\\_FLOW\\_POP\\_CNT\\_5054  & 남성\\_5054세 유동인구         & NUMBER                         & (18, 2)                       \\\\\n",
       "\t 16                             & MAN\\_FLOW\\_POP\\_CNT\\_5559  & 남성\\_5559세 유동인구         & NUMBER                         & (18, 2)                       \\\\\n",
       "\t 17                             & MAN\\_FLOW\\_POP\\_CNT\\_6064  & 남성\\_6064세 유동인구         & NUMBER                         & (18, 2)                       \\\\\n",
       "\t 18                             & MAN\\_FLOW\\_POP\\_CNT\\_6569  & 남성\\_6569세 유동인구         & NUMBER                         & (18, 2)                       \\\\\n",
       "\t 19                             & MAN\\_FLOW\\_POP\\_CNT\\_70U   & 남성\\_70세이상 유동인구       & NUMBER                         & (18, 2)                       \\\\\n",
       "\t 20                             & WMAN\\_FLOW\\_POP\\_CNT\\_0004 & 여성\\_0004세 유동인구         & NUMBER                         & (18, 2)                       \\\\\n",
       "\t 21                             & WMAN\\_FLOW\\_POP\\_CNT\\_0509 & 여성\\_0509세 유동인구         & NUMBER                         & (18, 2)                       \\\\\n",
       "\t 22                             & WMAN\\_FLOW\\_POP\\_CNT\\_1014 & 여성\\_1014세 유동인구         & NUMBER                         & (18, 2)                       \\\\\n",
       "\t 23                             & WMAN\\_FLOW\\_POP\\_CNT\\_1519 & 여성\\_1519세 유동인구         & NUMBER                         & (18, 2)                       \\\\\n",
       "\t 24                             & WMAN\\_FLOW\\_POP\\_CNT\\_2024 & 여성\\_2024세 유동인구         & NUMBER                         & (18, 2)                       \\\\\n",
       "\t 25                             & WMAN\\_FLOW\\_POP\\_CNT\\_2529 & 여성\\_2529세 유동인구         & NUMBER                         & (18, 2)                       \\\\\n",
       "\t 26                             & WMAN\\_FLOW\\_POP\\_CNT\\_3034 & 여성\\_3034세 유동인구         & NUMBER                         & (18, 2)                       \\\\\n",
       "\t 27                             & WMAN\\_FLOW\\_POP\\_CNT\\_3539 & 여성\\_3539세 유동인구         & NUMBER                         & (18, 2)                       \\\\\n",
       "\t 28                             & WMAN\\_FLOW\\_POP\\_CNT\\_4044 & 여성\\_4044세 유동인구         & NUMBER                         & (18, 2)                       \\\\\n",
       "\t 29                             & WMAN\\_FLOW\\_POP\\_CNT\\_4549 & 여성\\_4549세 유동인구         & NUMBER                         & (18, 2)                       \\\\\n",
       "\t 30                             & WMAN\\_FLOW\\_POP\\_CNT\\_5054 & 여성\\_5054세 유동인구         & NUMBER                         & (18, 2)                       \\\\\n",
       "\t 31                             & WMAN\\_FLOW\\_POP\\_CNT\\_5559 & 여성\\_5559세 유동인구         & NUMBER                         & (18, 2)                       \\\\\n",
       "\t 32                             & WMAN\\_FLOW\\_POP\\_CNT\\_6064 & 여성\\_6064세 유동인구         & NUMBER                         & (18, 2)                       \\\\\n",
       "\t 33                             & WMAN\\_FLOW\\_POP\\_CNT\\_6569 & 여성\\_6569세 유동인구         & NUMBER                         & (18, 2)                       \\\\\n",
       "\t 34                             & WMAN\\_FLOW\\_POP\\_CNT\\_70U  & 여성\\_70세이상 유동인구       & NUMBER                         & (18, 2)                       \\\\\n",
       "\\end{tabular}\n"
      ],
      "text/markdown": [
       "\n",
       "No. | 컬럼ID | 컬럼명 | 타입 | 길이 | \n",
       "|---|---|---|---|---|---|---|---|---|---|---|---|---|---|---|---|---|---|---|---|---|---|---|---|---|---|---|---|---|---|---|---|---|---|\n",
       "|  1                     | STD_YM                 | 년월                   | VARCHAR2               | 6                      | \n",
       "|  2                     | STD_YMD                | 년월일                 | VARCHAR2               | 8                      | \n",
       "|  3                     | HDONG_CD               | 행정동코드             | VARCHAR2               | 10                     | \n",
       "|  4                     | HDONG_NM               | 행정동명칭             | VARCHAR2               | 50                     | \n",
       "|  5                     | MAN_FLOW_POP_CNT_0004  | 남성_0004세 유동인구   | NUMBER                 | (18, 2)                | \n",
       "|  6                     | MAN_FLOW_POP_CNT_0509  | 남성_0509세 유동인구   | NUMBER                 | (18, 2)                | \n",
       "|  7                     | MAN_FLOW_POP_CNT_1014  | 남성_1014세 유동인구   | NUMBER                 | (18, 2)                | \n",
       "|  8                     | MAN_FLOW_POP_CNT_1519  | 남성_1519세 유동인구   | NUMBER                 | (18, 2)                | \n",
       "|  9                     | MAN_FLOW_POP_CNT_2024  | 남성_2024세 유동인구   | NUMBER                 | (18, 2)                | \n",
       "| 10                     | MAN_FLOW_POP_CNT_2529  | 남성_2529세 유동인구   | NUMBER                 | (18, 2)                | \n",
       "| 11                     | MAN_FLOW_POP_CNT_3034  | 남성_3034세 유동인구   | NUMBER                 | (18, 2)                | \n",
       "| 12                     | MAN_FLOW_POP_CNT_3539  | 남성_3539세 유동인구   | NUMBER                 | (18, 2)                | \n",
       "| 13                     | MAN_FLOW_POP_CNT_4044  | 남성_4044세 유동인구   | NUMBER                 | (18, 2)                | \n",
       "| 14                     | MAN_FLOW_POP_CNT_4549  | 남성_4549세 유동인구   | NUMBER                 | (18, 2)                | \n",
       "| 15                     | MAN_FLOW_POP_CNT_5054  | 남성_5054세 유동인구   | NUMBER                 | (18, 2)                | \n",
       "| 16                     | MAN_FLOW_POP_CNT_5559  | 남성_5559세 유동인구   | NUMBER                 | (18, 2)                | \n",
       "| 17                     | MAN_FLOW_POP_CNT_6064  | 남성_6064세 유동인구   | NUMBER                 | (18, 2)                | \n",
       "| 18                     | MAN_FLOW_POP_CNT_6569  | 남성_6569세 유동인구   | NUMBER                 | (18, 2)                | \n",
       "| 19                     | MAN_FLOW_POP_CNT_70U   | 남성_70세이상 유동인구 | NUMBER                 | (18, 2)                | \n",
       "| 20                     | WMAN_FLOW_POP_CNT_0004 | 여성_0004세 유동인구   | NUMBER                 | (18, 2)                | \n",
       "| 21                     | WMAN_FLOW_POP_CNT_0509 | 여성_0509세 유동인구   | NUMBER                 | (18, 2)                | \n",
       "| 22                     | WMAN_FLOW_POP_CNT_1014 | 여성_1014세 유동인구   | NUMBER                 | (18, 2)                | \n",
       "| 23                     | WMAN_FLOW_POP_CNT_1519 | 여성_1519세 유동인구   | NUMBER                 | (18, 2)                | \n",
       "| 24                     | WMAN_FLOW_POP_CNT_2024 | 여성_2024세 유동인구   | NUMBER                 | (18, 2)                | \n",
       "| 25                     | WMAN_FLOW_POP_CNT_2529 | 여성_2529세 유동인구   | NUMBER                 | (18, 2)                | \n",
       "| 26                     | WMAN_FLOW_POP_CNT_3034 | 여성_3034세 유동인구   | NUMBER                 | (18, 2)                | \n",
       "| 27                     | WMAN_FLOW_POP_CNT_3539 | 여성_3539세 유동인구   | NUMBER                 | (18, 2)                | \n",
       "| 28                     | WMAN_FLOW_POP_CNT_4044 | 여성_4044세 유동인구   | NUMBER                 | (18, 2)                | \n",
       "| 29                     | WMAN_FLOW_POP_CNT_4549 | 여성_4549세 유동인구   | NUMBER                 | (18, 2)                | \n",
       "| 30                     | WMAN_FLOW_POP_CNT_5054 | 여성_5054세 유동인구   | NUMBER                 | (18, 2)                | \n",
       "| 31                     | WMAN_FLOW_POP_CNT_5559 | 여성_5559세 유동인구   | NUMBER                 | (18, 2)                | \n",
       "| 32                     | WMAN_FLOW_POP_CNT_6064 | 여성_6064세 유동인구   | NUMBER                 | (18, 2)                | \n",
       "| 33                     | WMAN_FLOW_POP_CNT_6569 | 여성_6569세 유동인구   | NUMBER                 | (18, 2)                | \n",
       "| 34                     | WMAN_FLOW_POP_CNT_70U  | 여성_70세이상 유동인구 | NUMBER                 | (18, 2)                | \n",
       "\n",
       "\n"
      ],
      "text/plain": [
       "   No. 컬럼ID                 컬럼명                 타입     길이   \n",
       "1   1  STD_YM                 년월                   VARCHAR2 6      \n",
       "2   2  STD_YMD                년월일                 VARCHAR2 8      \n",
       "3   3  HDONG_CD               행정동코드             VARCHAR2 10     \n",
       "4   4  HDONG_NM               행정동명칭             VARCHAR2 50     \n",
       "5   5  MAN_FLOW_POP_CNT_0004  남성_0004세 유동인구   NUMBER   (18, 2)\n",
       "6   6  MAN_FLOW_POP_CNT_0509  남성_0509세 유동인구   NUMBER   (18, 2)\n",
       "7   7  MAN_FLOW_POP_CNT_1014  남성_1014세 유동인구   NUMBER   (18, 2)\n",
       "8   8  MAN_FLOW_POP_CNT_1519  남성_1519세 유동인구   NUMBER   (18, 2)\n",
       "9   9  MAN_FLOW_POP_CNT_2024  남성_2024세 유동인구   NUMBER   (18, 2)\n",
       "10 10  MAN_FLOW_POP_CNT_2529  남성_2529세 유동인구   NUMBER   (18, 2)\n",
       "11 11  MAN_FLOW_POP_CNT_3034  남성_3034세 유동인구   NUMBER   (18, 2)\n",
       "12 12  MAN_FLOW_POP_CNT_3539  남성_3539세 유동인구   NUMBER   (18, 2)\n",
       "13 13  MAN_FLOW_POP_CNT_4044  남성_4044세 유동인구   NUMBER   (18, 2)\n",
       "14 14  MAN_FLOW_POP_CNT_4549  남성_4549세 유동인구   NUMBER   (18, 2)\n",
       "15 15  MAN_FLOW_POP_CNT_5054  남성_5054세 유동인구   NUMBER   (18, 2)\n",
       "16 16  MAN_FLOW_POP_CNT_5559  남성_5559세 유동인구   NUMBER   (18, 2)\n",
       "17 17  MAN_FLOW_POP_CNT_6064  남성_6064세 유동인구   NUMBER   (18, 2)\n",
       "18 18  MAN_FLOW_POP_CNT_6569  남성_6569세 유동인구   NUMBER   (18, 2)\n",
       "19 19  MAN_FLOW_POP_CNT_70U   남성_70세이상 유동인구 NUMBER   (18, 2)\n",
       "20 20  WMAN_FLOW_POP_CNT_0004 여성_0004세 유동인구   NUMBER   (18, 2)\n",
       "21 21  WMAN_FLOW_POP_CNT_0509 여성_0509세 유동인구   NUMBER   (18, 2)\n",
       "22 22  WMAN_FLOW_POP_CNT_1014 여성_1014세 유동인구   NUMBER   (18, 2)\n",
       "23 23  WMAN_FLOW_POP_CNT_1519 여성_1519세 유동인구   NUMBER   (18, 2)\n",
       "24 24  WMAN_FLOW_POP_CNT_2024 여성_2024세 유동인구   NUMBER   (18, 2)\n",
       "25 25  WMAN_FLOW_POP_CNT_2529 여성_2529세 유동인구   NUMBER   (18, 2)\n",
       "26 26  WMAN_FLOW_POP_CNT_3034 여성_3034세 유동인구   NUMBER   (18, 2)\n",
       "27 27  WMAN_FLOW_POP_CNT_3539 여성_3539세 유동인구   NUMBER   (18, 2)\n",
       "28 28  WMAN_FLOW_POP_CNT_4044 여성_4044세 유동인구   NUMBER   (18, 2)\n",
       "29 29  WMAN_FLOW_POP_CNT_4549 여성_4549세 유동인구   NUMBER   (18, 2)\n",
       "30 30  WMAN_FLOW_POP_CNT_5054 여성_5054세 유동인구   NUMBER   (18, 2)\n",
       "31 31  WMAN_FLOW_POP_CNT_5559 여성_5559세 유동인구   NUMBER   (18, 2)\n",
       "32 32  WMAN_FLOW_POP_CNT_6064 여성_6064세 유동인구   NUMBER   (18, 2)\n",
       "33 33  WMAN_FLOW_POP_CNT_6569 여성_6569세 유동인구   NUMBER   (18, 2)\n",
       "34 34  WMAN_FLOW_POP_CNT_70U  여성_70세이상 유동인구 NUMBER   (18, 2)"
      ]
     },
     "metadata": {},
     "output_type": "display_data"
    }
   ],
   "source": [
    "doc4 <- read_excel(\"D:\\\\dataset\\\\11_innovation\\\\moving_dataset_skt\\\\table_define.xlsx\", col_names = T, sheet=4)\n",
    "doc4"
   ]
  },
  {
   "cell_type": "markdown",
   "metadata": {},
   "source": [
    "### 폴더안 파일 목록 확인"
   ]
  },
  {
   "cell_type": "code",
   "execution_count": 10,
   "metadata": {},
   "outputs": [
    {
     "data": {
      "text/html": [
       "<ol class=list-inline>\n",
       "\t<li>'노원_종로_FLOW_AGE_201804.CSV'</li>\n",
       "\t<li>'노원_종로_FLOW_AGE_201805.CSV'</li>\n",
       "\t<li>'노원_종로_FLOW_AGE_201806.CSV'</li>\n",
       "\t<li>'노원_종로_FLOW_AGE_201807.CSV'</li>\n",
       "\t<li>'노원_종로_FLOW_AGE_201808.CSV'</li>\n",
       "\t<li>'노원_종로_FLOW_AGE_201809.CSV'</li>\n",
       "\t<li>'노원_종로_FLOW_AGE_201810.CSV'</li>\n",
       "\t<li>'노원_종로_FLOW_AGE_201811.CSV'</li>\n",
       "\t<li>'노원_종로_FLOW_AGE_201812.CSV'</li>\n",
       "\t<li>'노원_종로_FLOW_AGE_201901.CSV'</li>\n",
       "\t<li>'노원_종로_FLOW_AGE_201902.CSV'</li>\n",
       "\t<li>'노원_종로_FLOW_AGE_201903.CSV'</li>\n",
       "</ol>\n"
      ],
      "text/latex": [
       "\\begin{enumerate*}\n",
       "\\item '노원\\_종로\\_FLOW\\_AGE\\_201804.CSV'\n",
       "\\item '노원\\_종로\\_FLOW\\_AGE\\_201805.CSV'\n",
       "\\item '노원\\_종로\\_FLOW\\_AGE\\_201806.CSV'\n",
       "\\item '노원\\_종로\\_FLOW\\_AGE\\_201807.CSV'\n",
       "\\item '노원\\_종로\\_FLOW\\_AGE\\_201808.CSV'\n",
       "\\item '노원\\_종로\\_FLOW\\_AGE\\_201809.CSV'\n",
       "\\item '노원\\_종로\\_FLOW\\_AGE\\_201810.CSV'\n",
       "\\item '노원\\_종로\\_FLOW\\_AGE\\_201811.CSV'\n",
       "\\item '노원\\_종로\\_FLOW\\_AGE\\_201812.CSV'\n",
       "\\item '노원\\_종로\\_FLOW\\_AGE\\_201901.CSV'\n",
       "\\item '노원\\_종로\\_FLOW\\_AGE\\_201902.CSV'\n",
       "\\item '노원\\_종로\\_FLOW\\_AGE\\_201903.CSV'\n",
       "\\end{enumerate*}\n"
      ],
      "text/markdown": [
       "1. '노원_종로_FLOW_AGE_201804.CSV'\n",
       "2. '노원_종로_FLOW_AGE_201805.CSV'\n",
       "3. '노원_종로_FLOW_AGE_201806.CSV'\n",
       "4. '노원_종로_FLOW_AGE_201807.CSV'\n",
       "5. '노원_종로_FLOW_AGE_201808.CSV'\n",
       "6. '노원_종로_FLOW_AGE_201809.CSV'\n",
       "7. '노원_종로_FLOW_AGE_201810.CSV'\n",
       "8. '노원_종로_FLOW_AGE_201811.CSV'\n",
       "9. '노원_종로_FLOW_AGE_201812.CSV'\n",
       "10. '노원_종로_FLOW_AGE_201901.CSV'\n",
       "11. '노원_종로_FLOW_AGE_201902.CSV'\n",
       "12. '노원_종로_FLOW_AGE_201903.CSV'\n",
       "\n",
       "\n"
      ],
      "text/plain": [
       " [1] \"노원_종로_FLOW_AGE_201804.CSV\" \"노원_종로_FLOW_AGE_201805.CSV\"\n",
       " [3] \"노원_종로_FLOW_AGE_201806.CSV\" \"노원_종로_FLOW_AGE_201807.CSV\"\n",
       " [5] \"노원_종로_FLOW_AGE_201808.CSV\" \"노원_종로_FLOW_AGE_201809.CSV\"\n",
       " [7] \"노원_종로_FLOW_AGE_201810.CSV\" \"노원_종로_FLOW_AGE_201811.CSV\"\n",
       " [9] \"노원_종로_FLOW_AGE_201812.CSV\" \"노원_종로_FLOW_AGE_201901.CSV\"\n",
       "[11] \"노원_종로_FLOW_AGE_201902.CSV\" \"노원_종로_FLOW_AGE_201903.CSV\""
      ]
     },
     "metadata": {},
     "output_type": "display_data"
    },
    {
     "data": {
      "text/html": [
       "<ol class=list-inline>\n",
       "\t<li>'노원_종로_FLOW_TIME_201804.CSV'</li>\n",
       "\t<li>'노원_종로_FLOW_TIME_201805.CSV'</li>\n",
       "\t<li>'노원_종로_FLOW_TIME_201806.CSV'</li>\n",
       "\t<li>'노원_종로_FLOW_TIME_201807.CSV'</li>\n",
       "\t<li>'노원_종로_FLOW_TIME_201808.CSV'</li>\n",
       "\t<li>'노원_종로_FLOW_TIME_201809.CSV'</li>\n",
       "\t<li>'노원_종로_FLOW_TIME_201810.CSV'</li>\n",
       "\t<li>'노원_종로_FLOW_TIME_201811.CSV'</li>\n",
       "\t<li>'노원_종로_FLOW_TIME_201812.CSV'</li>\n",
       "\t<li>'노원_종로_FLOW_TIME_201901.CSV'</li>\n",
       "\t<li>'노원_종로_FLOW_TIME_201902.CSV'</li>\n",
       "\t<li>'노원_종로_FLOW_TIME_201903.CSV'</li>\n",
       "</ol>\n"
      ],
      "text/latex": [
       "\\begin{enumerate*}\n",
       "\\item '노원\\_종로\\_FLOW\\_TIME\\_201804.CSV'\n",
       "\\item '노원\\_종로\\_FLOW\\_TIME\\_201805.CSV'\n",
       "\\item '노원\\_종로\\_FLOW\\_TIME\\_201806.CSV'\n",
       "\\item '노원\\_종로\\_FLOW\\_TIME\\_201807.CSV'\n",
       "\\item '노원\\_종로\\_FLOW\\_TIME\\_201808.CSV'\n",
       "\\item '노원\\_종로\\_FLOW\\_TIME\\_201809.CSV'\n",
       "\\item '노원\\_종로\\_FLOW\\_TIME\\_201810.CSV'\n",
       "\\item '노원\\_종로\\_FLOW\\_TIME\\_201811.CSV'\n",
       "\\item '노원\\_종로\\_FLOW\\_TIME\\_201812.CSV'\n",
       "\\item '노원\\_종로\\_FLOW\\_TIME\\_201901.CSV'\n",
       "\\item '노원\\_종로\\_FLOW\\_TIME\\_201902.CSV'\n",
       "\\item '노원\\_종로\\_FLOW\\_TIME\\_201903.CSV'\n",
       "\\end{enumerate*}\n"
      ],
      "text/markdown": [
       "1. '노원_종로_FLOW_TIME_201804.CSV'\n",
       "2. '노원_종로_FLOW_TIME_201805.CSV'\n",
       "3. '노원_종로_FLOW_TIME_201806.CSV'\n",
       "4. '노원_종로_FLOW_TIME_201807.CSV'\n",
       "5. '노원_종로_FLOW_TIME_201808.CSV'\n",
       "6. '노원_종로_FLOW_TIME_201809.CSV'\n",
       "7. '노원_종로_FLOW_TIME_201810.CSV'\n",
       "8. '노원_종로_FLOW_TIME_201811.CSV'\n",
       "9. '노원_종로_FLOW_TIME_201812.CSV'\n",
       "10. '노원_종로_FLOW_TIME_201901.CSV'\n",
       "11. '노원_종로_FLOW_TIME_201902.CSV'\n",
       "12. '노원_종로_FLOW_TIME_201903.CSV'\n",
       "\n",
       "\n"
      ],
      "text/plain": [
       " [1] \"노원_종로_FLOW_TIME_201804.CSV\" \"노원_종로_FLOW_TIME_201805.CSV\"\n",
       " [3] \"노원_종로_FLOW_TIME_201806.CSV\" \"노원_종로_FLOW_TIME_201807.CSV\"\n",
       " [5] \"노원_종로_FLOW_TIME_201808.CSV\" \"노원_종로_FLOW_TIME_201809.CSV\"\n",
       " [7] \"노원_종로_FLOW_TIME_201810.CSV\" \"노원_종로_FLOW_TIME_201811.CSV\"\n",
       " [9] \"노원_종로_FLOW_TIME_201812.CSV\" \"노원_종로_FLOW_TIME_201901.CSV\"\n",
       "[11] \"노원_종로_FLOW_TIME_201902.CSV\" \"노원_종로_FLOW_TIME_201903.CSV\""
      ]
     },
     "metadata": {},
     "output_type": "display_data"
    }
   ],
   "source": [
    "#  연령별 유동인구\n",
    "list.files(path=\"D:\\\\dataset\\\\11_innovation\\\\moving_dataset_skt\\\\year_moving\", pattern = NULL)\n",
    "\n",
    "#  시간별 유동인구\n",
    "list.files(path=\"D:\\\\dataset\\\\11_innovation\\\\moving_dataset_skt\\\\hour_moving\", pattern = NULL)"
   ]
  },
  {
   "cell_type": "code",
   "execution_count": 11,
   "metadata": {},
   "outputs": [
    {
     "data": {
      "text/html": [
       "'D:/dataset/11_innovation/moving_dataset_skt'"
      ],
      "text/latex": [
       "'D:/dataset/11\\_innovation/moving\\_dataset\\_skt'"
      ],
      "text/markdown": [
       "'D:/dataset/11_innovation/moving_dataset_skt'"
      ],
      "text/plain": [
       "[1] \"D:/dataset/11_innovation/moving_dataset_skt\""
      ]
     },
     "metadata": {},
     "output_type": "display_data"
    }
   ],
   "source": [
    "setwd(\"D:\\\\dataset\\\\11_innovation\\\\moving_dataset_skt\")\n",
    "getwd()"
   ]
  },
  {
   "cell_type": "code",
   "execution_count": 19,
   "metadata": {},
   "outputs": [
    {
     "ename": "ERROR",
     "evalue": "Error in scan(file = file, what = what, sep = sep, quote = quote, dec = dec, : 라인 2는 34개의 구성요소들을 가지고 있지 않습니다\n",
     "output_type": "error",
     "traceback": [
      "Error in scan(file = file, what = what, sep = sep, quote = quote, dec = dec, : 라인 2는 34개의 구성요소들을 가지고 있지 않습니다\nTraceback:\n",
      "1. read.table(\"./year_moving/노원_종로_FLOW_AGE_201804.CSV\", sep = \"|\")",
      "2. scan(file = file, what = what, sep = sep, quote = quote, dec = dec, \n .     nmax = nrows, skip = 0, na.strings = na.strings, quiet = TRUE, \n .     fill = fill, strip.white = strip.white, blank.lines.skip = blank.lines.skip, \n .     multi.line = FALSE, comment.char = comment.char, allowEscapes = allowEscapes, \n .     flush = flush, encoding = encoding, skipNul = skipNul)"
     ]
    }
   ],
   "source": [
    "year_dat1 <- read.table(\"./year_moving/노원_종로_FLOW_AGE_201804.CSV\", sep=\"|\")\n",
    "year_dat1"
   ]
  },
  {
   "cell_type": "code",
   "execution_count": 18,
   "metadata": {},
   "outputs": [
    {
     "data": {
      "text/html": [
       "<table>\n",
       "<thead><tr><th scope=col>V1</th><th scope=col>V2</th><th scope=col>V3</th><th scope=col>V4</th><th scope=col>V5</th><th scope=col>V6</th><th scope=col>V7</th><th scope=col>V8</th><th scope=col>V9</th><th scope=col>V10</th><th scope=col>...</th><th scope=col>V25</th><th scope=col>V26</th><th scope=col>V27</th><th scope=col>V28</th><th scope=col>V29</th><th scope=col>V30</th><th scope=col>V31</th><th scope=col>V32</th><th scope=col>V33</th><th scope=col>V34</th></tr></thead>\n",
       "<tbody>\n",
       "\t<tr><td>STD_YM                </td><td>STD_YMD               </td><td>HDONG_CD              </td><td>HDONG_NM              </td><td>MAN_FLOW_POP_CNT_0004 </td><td>MAN_FLOW_POP_CNT_0509 </td><td>MAN_FLOW_POP_CNT_1014 </td><td>MAN_FLOW_POP_CNT_1519 </td><td>MAN_FLOW_POP_CNT_2024 </td><td>MAN_FLOW_POP_CNT_2529 </td><td>...                   </td><td>WMAN_FLOW_POP_CNT_2529</td><td>WMAN_FLOW_POP_CNT_3034</td><td>WMAN_FLOW_POP_CNT_3539</td><td>WMAN_FLOW_POP_CNT_4044</td><td>WMAN_FLOW_POP_CNT_4549</td><td>WMAN_FLOW_POP_CNT_5054</td><td>WMAN_FLOW_POP_CNT_5559</td><td>WMAN_FLOW_POP_CNT_6064</td><td>WMAN_FLOW_POP_CNT_6569</td><td>WMAN_FLOW_POP_CNT_70U </td></tr>\n",
       "\t<tr><td>201804                </td><td>20180401              </td><td>1111051500            </td><td>청운효자동            </td><td>0.05                  </td><td>78.93                 </td><td>403.26                </td><td>642.66                </td><td>984.24                </td><td>1792.3                </td><td>...                   </td><td>1437.8                </td><td>1356.08               </td><td>1598.14               </td><td>1495.53               </td><td>1768.21               </td><td>1611.47               </td><td>1433.06               </td><td>1212.56               </td><td>549.45                </td><td>811.56                </td></tr>\n",
       "\t<tr><td>201804                </td><td>20180401              </td><td>1111053000            </td><td>사직동                </td><td>1.25                  </td><td>262.54                </td><td>1207.22               </td><td>2177.88               </td><td>4076.89               </td><td>6887.72               </td><td>...                   </td><td>6892.47               </td><td>5743.1                </td><td>5817.91               </td><td>5429.89               </td><td>6104.03               </td><td>4998.93               </td><td>4826.11               </td><td>4207.45               </td><td>2160.84               </td><td>2972.08               </td></tr>\n",
       "\t<tr><td>201804                </td><td>20180401              </td><td>1111054000            </td><td>삼청동                </td><td>0                     </td><td>78.07                 </td><td>255.24                </td><td>331.09                </td><td>654.32                </td><td>1264.86               </td><td>...                   </td><td>1400.28               </td><td>1183.11               </td><td>1234.88               </td><td>1157.69               </td><td>1186.72               </td><td>985.11                </td><td>844.26                </td><td>744.6                 </td><td>359.03                </td><td>421.64                </td></tr>\n",
       "\t<tr><td>201804                </td><td>20180401              </td><td>1111055000            </td><td>부암동                </td><td>0                     </td><td>228.5                 </td><td>753.31                </td><td>981.54                </td><td>1615.77               </td><td>2732                  </td><td>...                   </td><td>2153.73               </td><td>2431.23               </td><td>3028.24               </td><td>2944.28               </td><td>3532.23               </td><td>3075.55               </td><td>2785.22               </td><td>2223.72               </td><td>1118.48               </td><td>1498.65               </td></tr>\n",
       "\t<tr><td>201804                </td><td>20180401              </td><td>1111056000            </td><td>평창동                </td><td>0                     </td><td>354.38                </td><td>1500.63               </td><td>1963.08               </td><td>2593.07               </td><td>4927.24               </td><td>...                   </td><td>3775.91               </td><td>4598.39               </td><td>5661.53               </td><td>5526.94               </td><td>7075.02               </td><td>6899.55               </td><td>6886.22               </td><td>5336.01               </td><td>2629.75               </td><td>3820.41               </td></tr>\n",
       "\t<tr><td>201804                </td><td>20180401              </td><td>1111057000            </td><td>무악동                </td><td>0.18                  </td><td>39.69                 </td><td>204.43                </td><td>377.5                 </td><td>509.92                </td><td>766.21                </td><td>...                   </td><td>726.12                </td><td>698.17                </td><td>769.8                 </td><td>777.93                </td><td>885                   </td><td>790.96                </td><td>796.02                </td><td>663.07                </td><td>335.06                </td><td>505                   </td></tr>\n",
       "\t<tr><td>201804                </td><td>20180401              </td><td>1111058000            </td><td>교남동                </td><td>0.1                   </td><td>71.96                 </td><td>296.03                </td><td>424.87                </td><td>644.91                </td><td>1135.05               </td><td>...                   </td><td>1275.23               </td><td>1195.05               </td><td>1293.85               </td><td>1149.73               </td><td>1336.16               </td><td>1236.98               </td><td>1233.81               </td><td>1005.98               </td><td>511.36                </td><td>659.94                </td></tr>\n",
       "</tbody>\n",
       "</table>\n"
      ],
      "text/latex": [
       "\\begin{tabular}{r|llllllllllllllllllllllllllllllllll}\n",
       " V1 & V2 & V3 & V4 & V5 & V6 & V7 & V8 & V9 & V10 & ... & V25 & V26 & V27 & V28 & V29 & V30 & V31 & V32 & V33 & V34\\\\\n",
       "\\hline\n",
       "\t STD\\_YM                       & STD\\_YMD                      & HDONG\\_CD                     & HDONG\\_NM                     & MAN\\_FLOW\\_POP\\_CNT\\_0004  & MAN\\_FLOW\\_POP\\_CNT\\_0509  & MAN\\_FLOW\\_POP\\_CNT\\_1014  & MAN\\_FLOW\\_POP\\_CNT\\_1519  & MAN\\_FLOW\\_POP\\_CNT\\_2024  & MAN\\_FLOW\\_POP\\_CNT\\_2529  & ...                            & WMAN\\_FLOW\\_POP\\_CNT\\_2529 & WMAN\\_FLOW\\_POP\\_CNT\\_3034 & WMAN\\_FLOW\\_POP\\_CNT\\_3539 & WMAN\\_FLOW\\_POP\\_CNT\\_4044 & WMAN\\_FLOW\\_POP\\_CNT\\_4549 & WMAN\\_FLOW\\_POP\\_CNT\\_5054 & WMAN\\_FLOW\\_POP\\_CNT\\_5559 & WMAN\\_FLOW\\_POP\\_CNT\\_6064 & WMAN\\_FLOW\\_POP\\_CNT\\_6569 & WMAN\\_FLOW\\_POP\\_CNT\\_70U \\\\\n",
       "\t 201804                 & 20180401               & 1111051500             & 청운효자동             & 0.05                   & 78.93                  & 403.26                 & 642.66                 & 984.24                 & 1792.3                 & ...                    & 1437.8                 & 1356.08                & 1598.14                & 1495.53                & 1768.21                & 1611.47                & 1433.06                & 1212.56                & 549.45                 & 811.56                \\\\\n",
       "\t 201804                 & 20180401               & 1111053000             & 사직동                 & 1.25                   & 262.54                 & 1207.22                & 2177.88                & 4076.89                & 6887.72                & ...                    & 6892.47                & 5743.1                 & 5817.91                & 5429.89                & 6104.03                & 4998.93                & 4826.11                & 4207.45                & 2160.84                & 2972.08               \\\\\n",
       "\t 201804                 & 20180401               & 1111054000             & 삼청동                 & 0                      & 78.07                  & 255.24                 & 331.09                 & 654.32                 & 1264.86                & ...                    & 1400.28                & 1183.11                & 1234.88                & 1157.69                & 1186.72                & 985.11                 & 844.26                 & 744.6                  & 359.03                 & 421.64                \\\\\n",
       "\t 201804                 & 20180401               & 1111055000             & 부암동                 & 0                      & 228.5                  & 753.31                 & 981.54                 & 1615.77                & 2732                   & ...                    & 2153.73                & 2431.23                & 3028.24                & 2944.28                & 3532.23                & 3075.55                & 2785.22                & 2223.72                & 1118.48                & 1498.65               \\\\\n",
       "\t 201804                 & 20180401               & 1111056000             & 평창동                 & 0                      & 354.38                 & 1500.63                & 1963.08                & 2593.07                & 4927.24                & ...                    & 3775.91                & 4598.39                & 5661.53                & 5526.94                & 7075.02                & 6899.55                & 6886.22                & 5336.01                & 2629.75                & 3820.41               \\\\\n",
       "\t 201804                 & 20180401               & 1111057000             & 무악동                 & 0.18                   & 39.69                  & 204.43                 & 377.5                  & 509.92                 & 766.21                 & ...                    & 726.12                 & 698.17                 & 769.8                  & 777.93                 & 885                    & 790.96                 & 796.02                 & 663.07                 & 335.06                 & 505                   \\\\\n",
       "\t 201804                 & 20180401               & 1111058000             & 교남동                 & 0.1                    & 71.96                  & 296.03                 & 424.87                 & 644.91                 & 1135.05                & ...                    & 1275.23                & 1195.05                & 1293.85                & 1149.73                & 1336.16                & 1236.98                & 1233.81                & 1005.98                & 511.36                 & 659.94                \\\\\n",
       "\\end{tabular}\n"
      ],
      "text/markdown": [
       "\n",
       "V1 | V2 | V3 | V4 | V5 | V6 | V7 | V8 | V9 | V10 | ... | V25 | V26 | V27 | V28 | V29 | V30 | V31 | V32 | V33 | V34 | \n",
       "|---|---|---|---|---|---|---|---|\n",
       "| STD_YM                 | STD_YMD                | HDONG_CD               | HDONG_NM               | MAN_FLOW_POP_CNT_0004  | MAN_FLOW_POP_CNT_0509  | MAN_FLOW_POP_CNT_1014  | MAN_FLOW_POP_CNT_1519  | MAN_FLOW_POP_CNT_2024  | MAN_FLOW_POP_CNT_2529  | ...                    | WMAN_FLOW_POP_CNT_2529 | WMAN_FLOW_POP_CNT_3034 | WMAN_FLOW_POP_CNT_3539 | WMAN_FLOW_POP_CNT_4044 | WMAN_FLOW_POP_CNT_4549 | WMAN_FLOW_POP_CNT_5054 | WMAN_FLOW_POP_CNT_5559 | WMAN_FLOW_POP_CNT_6064 | WMAN_FLOW_POP_CNT_6569 | WMAN_FLOW_POP_CNT_70U  | \n",
       "| 201804                 | 20180401               | 1111051500             | 청운효자동             | 0.05                   | 78.93                  | 403.26                 | 642.66                 | 984.24                 | 1792.3                 | ...                    | 1437.8                 | 1356.08                | 1598.14                | 1495.53                | 1768.21                | 1611.47                | 1433.06                | 1212.56                | 549.45                 | 811.56                 | \n",
       "| 201804                 | 20180401               | 1111053000             | 사직동                 | 1.25                   | 262.54                 | 1207.22                | 2177.88                | 4076.89                | 6887.72                | ...                    | 6892.47                | 5743.1                 | 5817.91                | 5429.89                | 6104.03                | 4998.93                | 4826.11                | 4207.45                | 2160.84                | 2972.08                | \n",
       "| 201804                 | 20180401               | 1111054000             | 삼청동                 | 0                      | 78.07                  | 255.24                 | 331.09                 | 654.32                 | 1264.86                | ...                    | 1400.28                | 1183.11                | 1234.88                | 1157.69                | 1186.72                | 985.11                 | 844.26                 | 744.6                  | 359.03                 | 421.64                 | \n",
       "| 201804                 | 20180401               | 1111055000             | 부암동                 | 0                      | 228.5                  | 753.31                 | 981.54                 | 1615.77                | 2732                   | ...                    | 2153.73                | 2431.23                | 3028.24                | 2944.28                | 3532.23                | 3075.55                | 2785.22                | 2223.72                | 1118.48                | 1498.65                | \n",
       "| 201804                 | 20180401               | 1111056000             | 평창동                 | 0                      | 354.38                 | 1500.63                | 1963.08                | 2593.07                | 4927.24                | ...                    | 3775.91                | 4598.39                | 5661.53                | 5526.94                | 7075.02                | 6899.55                | 6886.22                | 5336.01                | 2629.75                | 3820.41                | \n",
       "| 201804                 | 20180401               | 1111057000             | 무악동                 | 0.18                   | 39.69                  | 204.43                 | 377.5                  | 509.92                 | 766.21                 | ...                    | 726.12                 | 698.17                 | 769.8                  | 777.93                 | 885                    | 790.96                 | 796.02                 | 663.07                 | 335.06                 | 505                    | \n",
       "| 201804                 | 20180401               | 1111058000             | 교남동                 | 0.1                    | 71.96                  | 296.03                 | 424.87                 | 644.91                 | 1135.05                | ...                    | 1275.23                | 1195.05                | 1293.85                | 1149.73                | 1336.16                | 1236.98                | 1233.81                | 1005.98                | 511.36                 | 659.94                 | \n",
       "\n",
       "\n"
      ],
      "text/plain": [
       "  V1     V2       V3         V4         V5                   \n",
       "1 STD_YM STD_YMD  HDONG_CD   HDONG_NM   MAN_FLOW_POP_CNT_0004\n",
       "2 201804 20180401 1111051500 청운효자동 0.05                 \n",
       "3 201804 20180401 1111053000 사직동     1.25                 \n",
       "4 201804 20180401 1111054000 삼청동     0                    \n",
       "5 201804 20180401 1111055000 부암동     0                    \n",
       "6 201804 20180401 1111056000 평창동     0                    \n",
       "7 201804 20180401 1111057000 무악동     0.18                 \n",
       "8 201804 20180401 1111058000 교남동     0.1                  \n",
       "  V6                    V7                    V8                   \n",
       "1 MAN_FLOW_POP_CNT_0509 MAN_FLOW_POP_CNT_1014 MAN_FLOW_POP_CNT_1519\n",
       "2 78.93                 403.26                642.66               \n",
       "3 262.54                1207.22               2177.88              \n",
       "4 78.07                 255.24                331.09               \n",
       "5 228.5                 753.31                981.54               \n",
       "6 354.38                1500.63               1963.08              \n",
       "7 39.69                 204.43                377.5                \n",
       "8 71.96                 296.03                424.87               \n",
       "  V9                    V10                   ... V25                   \n",
       "1 MAN_FLOW_POP_CNT_2024 MAN_FLOW_POP_CNT_2529 ... WMAN_FLOW_POP_CNT_2529\n",
       "2 984.24                1792.3                ... 1437.8                \n",
       "3 4076.89               6887.72               ... 6892.47               \n",
       "4 654.32                1264.86               ... 1400.28               \n",
       "5 1615.77               2732                  ... 2153.73               \n",
       "6 2593.07               4927.24               ... 3775.91               \n",
       "7 509.92                766.21                ... 726.12                \n",
       "8 644.91                1135.05               ... 1275.23               \n",
       "  V26                    V27                    V28                   \n",
       "1 WMAN_FLOW_POP_CNT_3034 WMAN_FLOW_POP_CNT_3539 WMAN_FLOW_POP_CNT_4044\n",
       "2 1356.08                1598.14                1495.53               \n",
       "3 5743.1                 5817.91                5429.89               \n",
       "4 1183.11                1234.88                1157.69               \n",
       "5 2431.23                3028.24                2944.28               \n",
       "6 4598.39                5661.53                5526.94               \n",
       "7 698.17                 769.8                  777.93                \n",
       "8 1195.05                1293.85                1149.73               \n",
       "  V29                    V30                    V31                   \n",
       "1 WMAN_FLOW_POP_CNT_4549 WMAN_FLOW_POP_CNT_5054 WMAN_FLOW_POP_CNT_5559\n",
       "2 1768.21                1611.47                1433.06               \n",
       "3 6104.03                4998.93                4826.11               \n",
       "4 1186.72                985.11                 844.26                \n",
       "5 3532.23                3075.55                2785.22               \n",
       "6 7075.02                6899.55                6886.22               \n",
       "7 885                    790.96                 796.02                \n",
       "8 1336.16                1236.98                1233.81               \n",
       "  V32                    V33                    V34                  \n",
       "1 WMAN_FLOW_POP_CNT_6064 WMAN_FLOW_POP_CNT_6569 WMAN_FLOW_POP_CNT_70U\n",
       "2 1212.56                549.45                 811.56               \n",
       "3 4207.45                2160.84                2972.08              \n",
       "4 744.6                  359.03                 421.64               \n",
       "5 2223.72                1118.48                1498.65              \n",
       "6 5336.01                2629.75                3820.41              \n",
       "7 663.07                 335.06                 505                  \n",
       "8 1005.98                511.36                 659.94               "
      ]
     },
     "metadata": {},
     "output_type": "display_data"
    }
   ],
   "source": [
    "year_dat1 <- read.table(\"./year_moving/test.CSV\", sep=\"|\")\n",
    "year_dat1"
   ]
  },
  {
   "cell_type": "code",
   "execution_count": 21,
   "metadata": {},
   "outputs": [
    {
     "data": {
      "text/html": [
       "<table>\n",
       "<thead><tr><th scope=col>V1</th><th scope=col>V2</th><th scope=col>V3</th><th scope=col>V4</th><th scope=col>V5</th><th scope=col>V6</th><th scope=col>V7</th><th scope=col>V8</th><th scope=col>V9</th><th scope=col>V10</th><th scope=col>...</th><th scope=col>V25</th><th scope=col>V26</th><th scope=col>V27</th><th scope=col>V28</th><th scope=col>V29</th><th scope=col>V30</th><th scope=col>V31</th><th scope=col>V32</th><th scope=col>V33</th><th scope=col>V34</th></tr></thead>\n",
       "<tbody>\n",
       "\t<tr><td>STD_YM                </td><td>STD_YMD               </td><td>HDONG_CD              </td><td>HDONG_NM              </td><td>MAN_FLOW_POP_CNT_0004 </td><td>MAN_FLOW_POP_CNT_0509 </td><td>MAN_FLOW_POP_CNT_1014 </td><td>MAN_FLOW_POP_CNT_1519 </td><td>MAN_FLOW_POP_CNT_2024 </td><td>MAN_FLOW_POP_CNT_2529 </td><td>...                   </td><td>WMAN_FLOW_POP_CNT_2529</td><td>WMAN_FLOW_POP_CNT_3034</td><td>WMAN_FLOW_POP_CNT_3539</td><td>WMAN_FLOW_POP_CNT_4044</td><td>WMAN_FLOW_POP_CNT_4549</td><td>WMAN_FLOW_POP_CNT_5054</td><td>WMAN_FLOW_POP_CNT_5559</td><td>WMAN_FLOW_POP_CNT_6064</td><td>WMAN_FLOW_POP_CNT_6569</td><td>WMAN_FLOW_POP_CNT_70U </td></tr>\n",
       "\t<tr><td>201804                </td><td>20180401              </td><td>1111051500            </td><td>청운효자동            </td><td>0.05                  </td><td>78.93                 </td><td>403.26                </td><td>642.66                </td><td>984.24                </td><td>1792.3                </td><td>...                   </td><td>1437.8                </td><td>1356.08               </td><td>1598.14               </td><td>1495.53               </td><td>1768.21               </td><td>1611.47               </td><td>1433.06               </td><td>1212.56               </td><td>549.45                </td><td>811.56                </td></tr>\n",
       "\t<tr><td>201804                </td><td>20180401              </td><td>1111053000            </td><td>사직동                </td><td>1.25                  </td><td>262.54                </td><td>1207.22               </td><td>2177.88               </td><td>4076.89               </td><td>6887.72               </td><td>...                   </td><td>6892.47               </td><td>5743.1                </td><td>5817.91               </td><td>5429.89               </td><td>6104.03               </td><td>4998.93               </td><td>4826.11               </td><td>4207.45               </td><td>2160.84               </td><td>2972.08               </td></tr>\n",
       "\t<tr><td>201804                </td><td>20180401              </td><td>1111054000            </td><td>삼청동                </td><td>0                     </td><td>78.07                 </td><td>255.24                </td><td>331.09                </td><td>654.32                </td><td>1264.86               </td><td>...                   </td><td>1400.28               </td><td>1183.11               </td><td>1234.88               </td><td>1157.69               </td><td>1186.72               </td><td>985.11                </td><td>844.26                </td><td>744.6                 </td><td>359.03                </td><td>421.64                </td></tr>\n",
       "\t<tr><td>201804                </td><td>20180401              </td><td>1111055000            </td><td>부암동                </td><td>0                     </td><td>228.5                 </td><td>753.31                </td><td>981.54                </td><td>1615.77               </td><td>2732                  </td><td>...                   </td><td>2153.73               </td><td>2431.23               </td><td>3028.24               </td><td>2944.28               </td><td>3532.23               </td><td>3075.55               </td><td>2785.22               </td><td>2223.72               </td><td>1118.48               </td><td>1498.65               </td></tr>\n",
       "\t<tr><td>201804                </td><td>20180401              </td><td>1111056000            </td><td>평창동                </td><td>0                     </td><td>354.38                </td><td>1500.63               </td><td>1963.08               </td><td>2593.07               </td><td>4927.24               </td><td>...                   </td><td>3775.91               </td><td>4598.39               </td><td>5661.53               </td><td>5526.94               </td><td>7075.02               </td><td>6899.55               </td><td>6886.22               </td><td>5336.01               </td><td>2629.75               </td><td>3820.41               </td></tr>\n",
       "</tbody>\n",
       "</table>\n"
      ],
      "text/latex": [
       "\\begin{tabular}{r|llllllllllllllllllllllllllllllllll}\n",
       " V1 & V2 & V3 & V4 & V5 & V6 & V7 & V8 & V9 & V10 & ... & V25 & V26 & V27 & V28 & V29 & V30 & V31 & V32 & V33 & V34\\\\\n",
       "\\hline\n",
       "\t STD\\_YM                       & STD\\_YMD                      & HDONG\\_CD                     & HDONG\\_NM                     & MAN\\_FLOW\\_POP\\_CNT\\_0004  & MAN\\_FLOW\\_POP\\_CNT\\_0509  & MAN\\_FLOW\\_POP\\_CNT\\_1014  & MAN\\_FLOW\\_POP\\_CNT\\_1519  & MAN\\_FLOW\\_POP\\_CNT\\_2024  & MAN\\_FLOW\\_POP\\_CNT\\_2529  & ...                            & WMAN\\_FLOW\\_POP\\_CNT\\_2529 & WMAN\\_FLOW\\_POP\\_CNT\\_3034 & WMAN\\_FLOW\\_POP\\_CNT\\_3539 & WMAN\\_FLOW\\_POP\\_CNT\\_4044 & WMAN\\_FLOW\\_POP\\_CNT\\_4549 & WMAN\\_FLOW\\_POP\\_CNT\\_5054 & WMAN\\_FLOW\\_POP\\_CNT\\_5559 & WMAN\\_FLOW\\_POP\\_CNT\\_6064 & WMAN\\_FLOW\\_POP\\_CNT\\_6569 & WMAN\\_FLOW\\_POP\\_CNT\\_70U \\\\\n",
       "\t 201804                 & 20180401               & 1111051500             & 청운효자동             & 0.05                   & 78.93                  & 403.26                 & 642.66                 & 984.24                 & 1792.3                 & ...                    & 1437.8                 & 1356.08                & 1598.14                & 1495.53                & 1768.21                & 1611.47                & 1433.06                & 1212.56                & 549.45                 & 811.56                \\\\\n",
       "\t 201804                 & 20180401               & 1111053000             & 사직동                 & 1.25                   & 262.54                 & 1207.22                & 2177.88                & 4076.89                & 6887.72                & ...                    & 6892.47                & 5743.1                 & 5817.91                & 5429.89                & 6104.03                & 4998.93                & 4826.11                & 4207.45                & 2160.84                & 2972.08               \\\\\n",
       "\t 201804                 & 20180401               & 1111054000             & 삼청동                 & 0                      & 78.07                  & 255.24                 & 331.09                 & 654.32                 & 1264.86                & ...                    & 1400.28                & 1183.11                & 1234.88                & 1157.69                & 1186.72                & 985.11                 & 844.26                 & 744.6                  & 359.03                 & 421.64                \\\\\n",
       "\t 201804                 & 20180401               & 1111055000             & 부암동                 & 0                      & 228.5                  & 753.31                 & 981.54                 & 1615.77                & 2732                   & ...                    & 2153.73                & 2431.23                & 3028.24                & 2944.28                & 3532.23                & 3075.55                & 2785.22                & 2223.72                & 1118.48                & 1498.65               \\\\\n",
       "\t 201804                 & 20180401               & 1111056000             & 평창동                 & 0                      & 354.38                 & 1500.63                & 1963.08                & 2593.07                & 4927.24                & ...                    & 3775.91                & 4598.39                & 5661.53                & 5526.94                & 7075.02                & 6899.55                & 6886.22                & 5336.01                & 2629.75                & 3820.41               \\\\\n",
       "\\end{tabular}\n"
      ],
      "text/markdown": [
       "\n",
       "V1 | V2 | V3 | V4 | V5 | V6 | V7 | V8 | V9 | V10 | ... | V25 | V26 | V27 | V28 | V29 | V30 | V31 | V32 | V33 | V34 | \n",
       "|---|---|---|---|---|---|\n",
       "| STD_YM                 | STD_YMD                | HDONG_CD               | HDONG_NM               | MAN_FLOW_POP_CNT_0004  | MAN_FLOW_POP_CNT_0509  | MAN_FLOW_POP_CNT_1014  | MAN_FLOW_POP_CNT_1519  | MAN_FLOW_POP_CNT_2024  | MAN_FLOW_POP_CNT_2529  | ...                    | WMAN_FLOW_POP_CNT_2529 | WMAN_FLOW_POP_CNT_3034 | WMAN_FLOW_POP_CNT_3539 | WMAN_FLOW_POP_CNT_4044 | WMAN_FLOW_POP_CNT_4549 | WMAN_FLOW_POP_CNT_5054 | WMAN_FLOW_POP_CNT_5559 | WMAN_FLOW_POP_CNT_6064 | WMAN_FLOW_POP_CNT_6569 | WMAN_FLOW_POP_CNT_70U  | \n",
       "| 201804                 | 20180401               | 1111051500             | 청운효자동             | 0.05                   | 78.93                  | 403.26                 | 642.66                 | 984.24                 | 1792.3                 | ...                    | 1437.8                 | 1356.08                | 1598.14                | 1495.53                | 1768.21                | 1611.47                | 1433.06                | 1212.56                | 549.45                 | 811.56                 | \n",
       "| 201804                 | 20180401               | 1111053000             | 사직동                 | 1.25                   | 262.54                 | 1207.22                | 2177.88                | 4076.89                | 6887.72                | ...                    | 6892.47                | 5743.1                 | 5817.91                | 5429.89                | 6104.03                | 4998.93                | 4826.11                | 4207.45                | 2160.84                | 2972.08                | \n",
       "| 201804                 | 20180401               | 1111054000             | 삼청동                 | 0                      | 78.07                  | 255.24                 | 331.09                 | 654.32                 | 1264.86                | ...                    | 1400.28                | 1183.11                | 1234.88                | 1157.69                | 1186.72                | 985.11                 | 844.26                 | 744.6                  | 359.03                 | 421.64                 | \n",
       "| 201804                 | 20180401               | 1111055000             | 부암동                 | 0                      | 228.5                  | 753.31                 | 981.54                 | 1615.77                | 2732                   | ...                    | 2153.73                | 2431.23                | 3028.24                | 2944.28                | 3532.23                | 3075.55                | 2785.22                | 2223.72                | 1118.48                | 1498.65                | \n",
       "| 201804                 | 20180401               | 1111056000             | 평창동                 | 0                      | 354.38                 | 1500.63                | 1963.08                | 2593.07                | 4927.24                | ...                    | 3775.91                | 4598.39                | 5661.53                | 5526.94                | 7075.02                | 6899.55                | 6886.22                | 5336.01                | 2629.75                | 3820.41                | \n",
       "\n",
       "\n"
      ],
      "text/plain": [
       "  V1     V2       V3         V4         V5                   \n",
       "1 STD_YM STD_YMD  HDONG_CD   HDONG_NM   MAN_FLOW_POP_CNT_0004\n",
       "2 201804 20180401 1111051500 청운효자동 0.05                 \n",
       "3 201804 20180401 1111053000 사직동     1.25                 \n",
       "4 201804 20180401 1111054000 삼청동     0                    \n",
       "5 201804 20180401 1111055000 부암동     0                    \n",
       "6 201804 20180401 1111056000 평창동     0                    \n",
       "  V6                    V7                    V8                   \n",
       "1 MAN_FLOW_POP_CNT_0509 MAN_FLOW_POP_CNT_1014 MAN_FLOW_POP_CNT_1519\n",
       "2 78.93                 403.26                642.66               \n",
       "3 262.54                1207.22               2177.88              \n",
       "4 78.07                 255.24                331.09               \n",
       "5 228.5                 753.31                981.54               \n",
       "6 354.38                1500.63               1963.08              \n",
       "  V9                    V10                   ... V25                   \n",
       "1 MAN_FLOW_POP_CNT_2024 MAN_FLOW_POP_CNT_2529 ... WMAN_FLOW_POP_CNT_2529\n",
       "2 984.24                1792.3                ... 1437.8                \n",
       "3 4076.89               6887.72               ... 6892.47               \n",
       "4 654.32                1264.86               ... 1400.28               \n",
       "5 1615.77               2732                  ... 2153.73               \n",
       "6 2593.07               4927.24               ... 3775.91               \n",
       "  V26                    V27                    V28                   \n",
       "1 WMAN_FLOW_POP_CNT_3034 WMAN_FLOW_POP_CNT_3539 WMAN_FLOW_POP_CNT_4044\n",
       "2 1356.08                1598.14                1495.53               \n",
       "3 5743.1                 5817.91                5429.89               \n",
       "4 1183.11                1234.88                1157.69               \n",
       "5 2431.23                3028.24                2944.28               \n",
       "6 4598.39                5661.53                5526.94               \n",
       "  V29                    V30                    V31                   \n",
       "1 WMAN_FLOW_POP_CNT_4549 WMAN_FLOW_POP_CNT_5054 WMAN_FLOW_POP_CNT_5559\n",
       "2 1768.21                1611.47                1433.06               \n",
       "3 6104.03                4998.93                4826.11               \n",
       "4 1186.72                985.11                 844.26                \n",
       "5 3532.23                3075.55                2785.22               \n",
       "6 7075.02                6899.55                6886.22               \n",
       "  V32                    V33                    V34                  \n",
       "1 WMAN_FLOW_POP_CNT_6064 WMAN_FLOW_POP_CNT_6569 WMAN_FLOW_POP_CNT_70U\n",
       "2 1212.56                549.45                 811.56               \n",
       "3 4207.45                2160.84                2972.08              \n",
       "4 744.6                  359.03                 421.64               \n",
       "5 2223.72                1118.48                1498.65              \n",
       "6 5336.01                2629.75                3820.41              "
      ]
     },
     "metadata": {},
     "output_type": "display_data"
    }
   ],
   "source": [
    "year_dat1 <- read.table(\"./year_moving/test_flow_age_201804.csv\", sep=\"|\")\n",
    "head(year_dat1)"
   ]
  },
  {
   "cell_type": "code",
   "execution_count": 41,
   "metadata": {},
   "outputs": [],
   "source": [
    "year_dat_1804 <- read.table(\"./year_moving/test_flow_age_201804.csv\", sep=\"|\", header=TRUE)\n",
    "year_dat_1805 <- read.table(\"./year_moving/test_flow_age_201805.csv\", sep=\"|\", header=TRUE)\n",
    "year_dat_1806 <- read.table(\"./year_moving/test_flow_age_201806.csv\", sep=\"|\", header=TRUE)\n",
    "year_dat_1807 <- read.table(\"./year_moving/test_flow_age_201807.csv\", sep=\"|\", header=TRUE)\n",
    "year_dat_1808 <- read.table(\"./year_moving/test_flow_age_201808.csv\", sep=\"|\", header=TRUE)\n",
    "year_dat_1809 <- read.table(\"./year_moving/test_flow_age_201809.csv\", sep=\"|\", header=TRUE)\n",
    "year_dat_1810 <- read.table(\"./year_moving/test_flow_age_201810.csv\", sep=\"|\", header=TRUE)\n",
    "year_dat_1811 <- read.table(\"./year_moving/test_flow_age_201811.csv\", sep=\"|\", header=TRUE)\n",
    "year_dat_1812 <- read.table(\"./year_moving/test_flow_age_201812.csv\", sep=\"|\", header=TRUE)\n",
    "year_dat_1901 <- read.table(\"./year_moving/test_flow_age_201901.csv\", sep=\"|\", header=TRUE)\n",
    "year_dat_1902 <- read.table(\"./year_moving/test_flow_age_201902.csv\", sep=\"|\", header=TRUE)\n",
    "year_dat_1903 <- read.table(\"./year_moving/test_flow_age_201903.csv\", sep=\"|\", header=TRUE)"
   ]
  },
  {
   "cell_type": "code",
   "execution_count": 42,
   "metadata": {},
   "outputs": [
    {
     "data": {
      "text/html": [
       "<ol class=list-inline>\n",
       "\t<li>1080</li>\n",
       "\t<li>34</li>\n",
       "</ol>\n"
      ],
      "text/latex": [
       "\\begin{enumerate*}\n",
       "\\item 1080\n",
       "\\item 34\n",
       "\\end{enumerate*}\n"
      ],
      "text/markdown": [
       "1. 1080\n",
       "2. 34\n",
       "\n",
       "\n"
      ],
      "text/plain": [
       "[1] 1080   34"
      ]
     },
     "metadata": {},
     "output_type": "display_data"
    },
    {
     "data": {
      "text/html": [
       "<table>\n",
       "<thead><tr><th scope=col>STD_YM</th><th scope=col>STD_YMD</th><th scope=col>HDONG_CD</th><th scope=col>HDONG_NM</th><th scope=col>MAN_FLOW_POP_CNT_0004</th><th scope=col>MAN_FLOW_POP_CNT_0509</th><th scope=col>MAN_FLOW_POP_CNT_1014</th><th scope=col>MAN_FLOW_POP_CNT_1519</th><th scope=col>MAN_FLOW_POP_CNT_2024</th><th scope=col>MAN_FLOW_POP_CNT_2529</th><th scope=col>...</th><th scope=col>WMAN_FLOW_POP_CNT_2529</th><th scope=col>WMAN_FLOW_POP_CNT_3034</th><th scope=col>WMAN_FLOW_POP_CNT_3539</th><th scope=col>WMAN_FLOW_POP_CNT_4044</th><th scope=col>WMAN_FLOW_POP_CNT_4549</th><th scope=col>WMAN_FLOW_POP_CNT_5054</th><th scope=col>WMAN_FLOW_POP_CNT_5559</th><th scope=col>WMAN_FLOW_POP_CNT_6064</th><th scope=col>WMAN_FLOW_POP_CNT_6569</th><th scope=col>WMAN_FLOW_POP_CNT_70U</th></tr></thead>\n",
       "<tbody>\n",
       "\t<tr><td>201804    </td><td>20180401  </td><td>1111051500</td><td>청운효자동</td><td>0.05      </td><td> 78.93    </td><td> 403.26   </td><td> 642.66   </td><td> 984.24   </td><td>1792.30   </td><td>...       </td><td>1437.80   </td><td>1356.08   </td><td>1598.14   </td><td>1495.53   </td><td>1768.21   </td><td>1611.47   </td><td>1433.06   </td><td>1212.56   </td><td> 549.45   </td><td> 811.56   </td></tr>\n",
       "\t<tr><td>201804    </td><td>20180401  </td><td>1111053000</td><td>사직동    </td><td>1.25      </td><td>262.54    </td><td>1207.22   </td><td>2177.88   </td><td>4076.89   </td><td>6887.72   </td><td>...       </td><td>6892.47   </td><td>5743.10   </td><td>5817.91   </td><td>5429.89   </td><td>6104.03   </td><td>4998.93   </td><td>4826.11   </td><td>4207.45   </td><td>2160.84   </td><td>2972.08   </td></tr>\n",
       "\t<tr><td>201804    </td><td>20180401  </td><td>1111054000</td><td>삼청동    </td><td>0.00      </td><td> 78.07    </td><td> 255.24   </td><td> 331.09   </td><td> 654.32   </td><td>1264.86   </td><td>...       </td><td>1400.28   </td><td>1183.11   </td><td>1234.88   </td><td>1157.69   </td><td>1186.72   </td><td> 985.11   </td><td> 844.26   </td><td> 744.60   </td><td> 359.03   </td><td> 421.64   </td></tr>\n",
       "\t<tr><td>201804    </td><td>20180401  </td><td>1111055000</td><td>부암동    </td><td>0.00      </td><td>228.50    </td><td> 753.31   </td><td> 981.54   </td><td>1615.77   </td><td>2732.00   </td><td>...       </td><td>2153.73   </td><td>2431.23   </td><td>3028.24   </td><td>2944.28   </td><td>3532.23   </td><td>3075.55   </td><td>2785.22   </td><td>2223.72   </td><td>1118.48   </td><td>1498.65   </td></tr>\n",
       "\t<tr><td>201804    </td><td>20180401  </td><td>1111056000</td><td>평창동    </td><td>0.00      </td><td>354.38    </td><td>1500.63   </td><td>1963.08   </td><td>2593.07   </td><td>4927.24   </td><td>...       </td><td>3775.91   </td><td>4598.39   </td><td>5661.53   </td><td>5526.94   </td><td>7075.02   </td><td>6899.55   </td><td>6886.22   </td><td>5336.01   </td><td>2629.75   </td><td>3820.41   </td></tr>\n",
       "\t<tr><td>201804    </td><td>20180401  </td><td>1111057000</td><td>무악동    </td><td>0.18      </td><td> 39.69    </td><td> 204.43   </td><td> 377.50   </td><td> 509.92   </td><td> 766.21   </td><td>...       </td><td> 726.12   </td><td> 698.17   </td><td> 769.80   </td><td> 777.93   </td><td> 885.00   </td><td> 790.96   </td><td> 796.02   </td><td> 663.07   </td><td> 335.06   </td><td> 505.00   </td></tr>\n",
       "</tbody>\n",
       "</table>\n"
      ],
      "text/latex": [
       "\\begin{tabular}{r|llllllllllllllllllllllllllllllllll}\n",
       " STD\\_YM & STD\\_YMD & HDONG\\_CD & HDONG\\_NM & MAN\\_FLOW\\_POP\\_CNT\\_0004 & MAN\\_FLOW\\_POP\\_CNT\\_0509 & MAN\\_FLOW\\_POP\\_CNT\\_1014 & MAN\\_FLOW\\_POP\\_CNT\\_1519 & MAN\\_FLOW\\_POP\\_CNT\\_2024 & MAN\\_FLOW\\_POP\\_CNT\\_2529 & ... & WMAN\\_FLOW\\_POP\\_CNT\\_2529 & WMAN\\_FLOW\\_POP\\_CNT\\_3034 & WMAN\\_FLOW\\_POP\\_CNT\\_3539 & WMAN\\_FLOW\\_POP\\_CNT\\_4044 & WMAN\\_FLOW\\_POP\\_CNT\\_4549 & WMAN\\_FLOW\\_POP\\_CNT\\_5054 & WMAN\\_FLOW\\_POP\\_CNT\\_5559 & WMAN\\_FLOW\\_POP\\_CNT\\_6064 & WMAN\\_FLOW\\_POP\\_CNT\\_6569 & WMAN\\_FLOW\\_POP\\_CNT\\_70U\\\\\n",
       "\\hline\n",
       "\t 201804     & 20180401   & 1111051500 & 청운효자동 & 0.05       &  78.93     &  403.26    &  642.66    &  984.24    & 1792.30    & ...        & 1437.80    & 1356.08    & 1598.14    & 1495.53    & 1768.21    & 1611.47    & 1433.06    & 1212.56    &  549.45    &  811.56   \\\\\n",
       "\t 201804     & 20180401   & 1111053000 & 사직동     & 1.25       & 262.54     & 1207.22    & 2177.88    & 4076.89    & 6887.72    & ...        & 6892.47    & 5743.10    & 5817.91    & 5429.89    & 6104.03    & 4998.93    & 4826.11    & 4207.45    & 2160.84    & 2972.08   \\\\\n",
       "\t 201804     & 20180401   & 1111054000 & 삼청동     & 0.00       &  78.07     &  255.24    &  331.09    &  654.32    & 1264.86    & ...        & 1400.28    & 1183.11    & 1234.88    & 1157.69    & 1186.72    &  985.11    &  844.26    &  744.60    &  359.03    &  421.64   \\\\\n",
       "\t 201804     & 20180401   & 1111055000 & 부암동     & 0.00       & 228.50     &  753.31    &  981.54    & 1615.77    & 2732.00    & ...        & 2153.73    & 2431.23    & 3028.24    & 2944.28    & 3532.23    & 3075.55    & 2785.22    & 2223.72    & 1118.48    & 1498.65   \\\\\n",
       "\t 201804     & 20180401   & 1111056000 & 평창동     & 0.00       & 354.38     & 1500.63    & 1963.08    & 2593.07    & 4927.24    & ...        & 3775.91    & 4598.39    & 5661.53    & 5526.94    & 7075.02    & 6899.55    & 6886.22    & 5336.01    & 2629.75    & 3820.41   \\\\\n",
       "\t 201804     & 20180401   & 1111057000 & 무악동     & 0.18       &  39.69     &  204.43    &  377.50    &  509.92    &  766.21    & ...        &  726.12    &  698.17    &  769.80    &  777.93    &  885.00    &  790.96    &  796.02    &  663.07    &  335.06    &  505.00   \\\\\n",
       "\\end{tabular}\n"
      ],
      "text/markdown": [
       "\n",
       "STD_YM | STD_YMD | HDONG_CD | HDONG_NM | MAN_FLOW_POP_CNT_0004 | MAN_FLOW_POP_CNT_0509 | MAN_FLOW_POP_CNT_1014 | MAN_FLOW_POP_CNT_1519 | MAN_FLOW_POP_CNT_2024 | MAN_FLOW_POP_CNT_2529 | ... | WMAN_FLOW_POP_CNT_2529 | WMAN_FLOW_POP_CNT_3034 | WMAN_FLOW_POP_CNT_3539 | WMAN_FLOW_POP_CNT_4044 | WMAN_FLOW_POP_CNT_4549 | WMAN_FLOW_POP_CNT_5054 | WMAN_FLOW_POP_CNT_5559 | WMAN_FLOW_POP_CNT_6064 | WMAN_FLOW_POP_CNT_6569 | WMAN_FLOW_POP_CNT_70U | \n",
       "|---|---|---|---|---|---|\n",
       "| 201804     | 20180401   | 1111051500 | 청운효자동 | 0.05       |  78.93     |  403.26    |  642.66    |  984.24    | 1792.30    | ...        | 1437.80    | 1356.08    | 1598.14    | 1495.53    | 1768.21    | 1611.47    | 1433.06    | 1212.56    |  549.45    |  811.56    | \n",
       "| 201804     | 20180401   | 1111053000 | 사직동     | 1.25       | 262.54     | 1207.22    | 2177.88    | 4076.89    | 6887.72    | ...        | 6892.47    | 5743.10    | 5817.91    | 5429.89    | 6104.03    | 4998.93    | 4826.11    | 4207.45    | 2160.84    | 2972.08    | \n",
       "| 201804     | 20180401   | 1111054000 | 삼청동     | 0.00       |  78.07     |  255.24    |  331.09    |  654.32    | 1264.86    | ...        | 1400.28    | 1183.11    | 1234.88    | 1157.69    | 1186.72    |  985.11    |  844.26    |  744.60    |  359.03    |  421.64    | \n",
       "| 201804     | 20180401   | 1111055000 | 부암동     | 0.00       | 228.50     |  753.31    |  981.54    | 1615.77    | 2732.00    | ...        | 2153.73    | 2431.23    | 3028.24    | 2944.28    | 3532.23    | 3075.55    | 2785.22    | 2223.72    | 1118.48    | 1498.65    | \n",
       "| 201804     | 20180401   | 1111056000 | 평창동     | 0.00       | 354.38     | 1500.63    | 1963.08    | 2593.07    | 4927.24    | ...        | 3775.91    | 4598.39    | 5661.53    | 5526.94    | 7075.02    | 6899.55    | 6886.22    | 5336.01    | 2629.75    | 3820.41    | \n",
       "| 201804     | 20180401   | 1111057000 | 무악동     | 0.18       |  39.69     |  204.43    |  377.50    |  509.92    |  766.21    | ...        |  726.12    |  698.17    |  769.80    |  777.93    |  885.00    |  790.96    |  796.02    |  663.07    |  335.06    |  505.00    | \n",
       "\n",
       "\n"
      ],
      "text/plain": [
       "  STD_YM STD_YMD  HDONG_CD   HDONG_NM   MAN_FLOW_POP_CNT_0004\n",
       "1 201804 20180401 1111051500 청운효자동 0.05                 \n",
       "2 201804 20180401 1111053000 사직동     1.25                 \n",
       "3 201804 20180401 1111054000 삼청동     0.00                 \n",
       "4 201804 20180401 1111055000 부암동     0.00                 \n",
       "5 201804 20180401 1111056000 평창동     0.00                 \n",
       "6 201804 20180401 1111057000 무악동     0.18                 \n",
       "  MAN_FLOW_POP_CNT_0509 MAN_FLOW_POP_CNT_1014 MAN_FLOW_POP_CNT_1519\n",
       "1  78.93                 403.26                642.66              \n",
       "2 262.54                1207.22               2177.88              \n",
       "3  78.07                 255.24                331.09              \n",
       "4 228.50                 753.31                981.54              \n",
       "5 354.38                1500.63               1963.08              \n",
       "6  39.69                 204.43                377.50              \n",
       "  MAN_FLOW_POP_CNT_2024 MAN_FLOW_POP_CNT_2529 ... WMAN_FLOW_POP_CNT_2529\n",
       "1  984.24               1792.30               ... 1437.80               \n",
       "2 4076.89               6887.72               ... 6892.47               \n",
       "3  654.32               1264.86               ... 1400.28               \n",
       "4 1615.77               2732.00               ... 2153.73               \n",
       "5 2593.07               4927.24               ... 3775.91               \n",
       "6  509.92                766.21               ...  726.12               \n",
       "  WMAN_FLOW_POP_CNT_3034 WMAN_FLOW_POP_CNT_3539 WMAN_FLOW_POP_CNT_4044\n",
       "1 1356.08                1598.14                1495.53               \n",
       "2 5743.10                5817.91                5429.89               \n",
       "3 1183.11                1234.88                1157.69               \n",
       "4 2431.23                3028.24                2944.28               \n",
       "5 4598.39                5661.53                5526.94               \n",
       "6  698.17                 769.80                 777.93               \n",
       "  WMAN_FLOW_POP_CNT_4549 WMAN_FLOW_POP_CNT_5054 WMAN_FLOW_POP_CNT_5559\n",
       "1 1768.21                1611.47                1433.06               \n",
       "2 6104.03                4998.93                4826.11               \n",
       "3 1186.72                 985.11                 844.26               \n",
       "4 3532.23                3075.55                2785.22               \n",
       "5 7075.02                6899.55                6886.22               \n",
       "6  885.00                 790.96                 796.02               \n",
       "  WMAN_FLOW_POP_CNT_6064 WMAN_FLOW_POP_CNT_6569 WMAN_FLOW_POP_CNT_70U\n",
       "1 1212.56                 549.45                 811.56              \n",
       "2 4207.45                2160.84                2972.08              \n",
       "3  744.60                 359.03                 421.64              \n",
       "4 2223.72                1118.48                1498.65              \n",
       "5 5336.01                2629.75                3820.41              \n",
       "6  663.07                 335.06                 505.00              "
      ]
     },
     "metadata": {},
     "output_type": "display_data"
    }
   ],
   "source": [
    "dim(year_dat_1804)\n",
    "head(year_dat_1804)"
   ]
  },
  {
   "cell_type": "code",
   "execution_count": 43,
   "metadata": {},
   "outputs": [
    {
     "data": {
      "text/html": [
       "1080"
      ],
      "text/latex": [
       "1080"
      ],
      "text/markdown": [
       "1080"
      ],
      "text/plain": [
       "[1] 1080"
      ]
     },
     "metadata": {},
     "output_type": "display_data"
    },
    {
     "data": {
      "text/html": [
       "1116"
      ],
      "text/latex": [
       "1116"
      ],
      "text/markdown": [
       "1116"
      ],
      "text/plain": [
       "[1] 1116"
      ]
     },
     "metadata": {},
     "output_type": "display_data"
    },
    {
     "data": {
      "text/html": [
       "1080"
      ],
      "text/latex": [
       "1080"
      ],
      "text/markdown": [
       "1080"
      ],
      "text/plain": [
       "[1] 1080"
      ]
     },
     "metadata": {},
     "output_type": "display_data"
    },
    {
     "data": {
      "text/html": [
       "1116"
      ],
      "text/latex": [
       "1116"
      ],
      "text/markdown": [
       "1116"
      ],
      "text/plain": [
       "[1] 1116"
      ]
     },
     "metadata": {},
     "output_type": "display_data"
    },
    {
     "data": {
      "text/html": [
       "1116"
      ],
      "text/latex": [
       "1116"
      ],
      "text/markdown": [
       "1116"
      ],
      "text/plain": [
       "[1] 1116"
      ]
     },
     "metadata": {},
     "output_type": "display_data"
    },
    {
     "data": {
      "text/html": [
       "1080"
      ],
      "text/latex": [
       "1080"
      ],
      "text/markdown": [
       "1080"
      ],
      "text/plain": [
       "[1] 1080"
      ]
     },
     "metadata": {},
     "output_type": "display_data"
    },
    {
     "data": {
      "text/html": [
       "1116"
      ],
      "text/latex": [
       "1116"
      ],
      "text/markdown": [
       "1116"
      ],
      "text/plain": [
       "[1] 1116"
      ]
     },
     "metadata": {},
     "output_type": "display_data"
    },
    {
     "data": {
      "text/html": [
       "1080"
      ],
      "text/latex": [
       "1080"
      ],
      "text/markdown": [
       "1080"
      ],
      "text/plain": [
       "[1] 1080"
      ]
     },
     "metadata": {},
     "output_type": "display_data"
    },
    {
     "data": {
      "text/html": [
       "1116"
      ],
      "text/latex": [
       "1116"
      ],
      "text/markdown": [
       "1116"
      ],
      "text/plain": [
       "[1] 1116"
      ]
     },
     "metadata": {},
     "output_type": "display_data"
    }
   ],
   "source": [
    "nrow(year_dat_1804); \n",
    "nrow(year_dat_1805); \n",
    "nrow(year_dat_1806); \n",
    "nrow(year_dat_1807); \n",
    "nrow(year_dat_1808); \n",
    "nrow(year_dat_1809); \n",
    "nrow(year_dat_1810); \n",
    "nrow(year_dat_1811); \n",
    "nrow(year_dat_1812); "
   ]
  },
  {
   "cell_type": "markdown",
   "metadata": {},
   "source": [
    "### 행 연결"
   ]
  },
  {
   "cell_type": "code",
   "execution_count": 44,
   "metadata": {},
   "outputs": [
    {
     "data": {
      "text/html": [
       "<table>\n",
       "<thead><tr><th scope=col>x</th><th scope=col>y</th></tr></thead>\n",
       "<tbody>\n",
       "\t<tr><td>1</td><td>1</td></tr>\n",
       "\t<tr><td>2</td><td>2</td></tr>\n",
       "\t<tr><td>3</td><td>3</td></tr>\n",
       "\t<tr><td>4</td><td>4</td></tr>\n",
       "\t<tr><td>5</td><td>5</td></tr>\n",
       "\t<tr><td>6</td><td>6</td></tr>\n",
       "</tbody>\n",
       "</table>\n"
      ],
      "text/latex": [
       "\\begin{tabular}{r|ll}\n",
       " x & y\\\\\n",
       "\\hline\n",
       "\t 1 & 1\\\\\n",
       "\t 2 & 2\\\\\n",
       "\t 3 & 3\\\\\n",
       "\t 4 & 4\\\\\n",
       "\t 5 & 5\\\\\n",
       "\t 6 & 6\\\\\n",
       "\\end{tabular}\n"
      ],
      "text/markdown": [
       "\n",
       "x | y | \n",
       "|---|---|---|---|---|---|\n",
       "| 1 | 1 | \n",
       "| 2 | 2 | \n",
       "| 3 | 3 | \n",
       "| 4 | 4 | \n",
       "| 5 | 5 | \n",
       "| 6 | 6 | \n",
       "\n",
       "\n"
      ],
      "text/plain": [
       "  x y\n",
       "1 1 1\n",
       "2 2 2\n",
       "3 3 3\n",
       "4 4 4\n",
       "5 5 5\n",
       "6 6 6"
      ]
     },
     "metadata": {},
     "output_type": "display_data"
    }
   ],
   "source": [
    "df_1 <- data.frame(x = 1:3, y = 1:3)\n",
    "df_2 <- data.frame(x = 4:6, y = 4:6)\n",
    "rbind(df_1, df_2)"
   ]
  },
  {
   "cell_type": "code",
   "execution_count": 45,
   "metadata": {},
   "outputs": [
    {
     "data": {
      "text/html": [
       "<table>\n",
       "<thead><tr><th scope=col>x</th><th scope=col>y</th></tr></thead>\n",
       "<tbody>\n",
       "\t<tr><td>1</td><td>1</td></tr>\n",
       "\t<tr><td>2</td><td>2</td></tr>\n",
       "\t<tr><td>3</td><td>3</td></tr>\n",
       "\t<tr><td>4</td><td>4</td></tr>\n",
       "\t<tr><td>5</td><td>5</td></tr>\n",
       "\t<tr><td>6</td><td>6</td></tr>\n",
       "</tbody>\n",
       "</table>\n"
      ],
      "text/latex": [
       "\\begin{tabular}{r|ll}\n",
       " x & y\\\\\n",
       "\\hline\n",
       "\t 1 & 1\\\\\n",
       "\t 2 & 2\\\\\n",
       "\t 3 & 3\\\\\n",
       "\t 4 & 4\\\\\n",
       "\t 5 & 5\\\\\n",
       "\t 6 & 6\\\\\n",
       "\\end{tabular}\n"
      ],
      "text/markdown": [
       "\n",
       "x | y | \n",
       "|---|---|---|---|---|---|\n",
       "| 1 | 1 | \n",
       "| 2 | 2 | \n",
       "| 3 | 3 | \n",
       "| 4 | 4 | \n",
       "| 5 | 5 | \n",
       "| 6 | 6 | \n",
       "\n",
       "\n"
      ],
      "text/plain": [
       "  x y\n",
       "1 1 1\n",
       "2 2 2\n",
       "3 3 3\n",
       "4 4 4\n",
       "5 5 5\n",
       "6 6 6"
      ]
     },
     "metadata": {},
     "output_type": "display_data"
    }
   ],
   "source": [
    "bind_rows(df_1, df_2)"
   ]
  },
  {
   "cell_type": "code",
   "execution_count": 46,
   "metadata": {},
   "outputs": [
    {
     "data": {
      "text/html": [
       "<table>\n",
       "<thead><tr><th scope=col>STD_YM</th><th scope=col>STD_YMD</th><th scope=col>HDONG_CD</th><th scope=col>HDONG_NM</th><th scope=col>MAN_FLOW_POP_CNT_0004</th><th scope=col>MAN_FLOW_POP_CNT_0509</th><th scope=col>MAN_FLOW_POP_CNT_1014</th><th scope=col>MAN_FLOW_POP_CNT_1519</th><th scope=col>MAN_FLOW_POP_CNT_2024</th><th scope=col>MAN_FLOW_POP_CNT_2529</th><th scope=col>...</th><th scope=col>WMAN_FLOW_POP_CNT_2529</th><th scope=col>WMAN_FLOW_POP_CNT_3034</th><th scope=col>WMAN_FLOW_POP_CNT_3539</th><th scope=col>WMAN_FLOW_POP_CNT_4044</th><th scope=col>WMAN_FLOW_POP_CNT_4549</th><th scope=col>WMAN_FLOW_POP_CNT_5054</th><th scope=col>WMAN_FLOW_POP_CNT_5559</th><th scope=col>WMAN_FLOW_POP_CNT_6064</th><th scope=col>WMAN_FLOW_POP_CNT_6569</th><th scope=col>WMAN_FLOW_POP_CNT_70U</th></tr></thead>\n",
       "<tbody>\n",
       "\t<tr><td>201804    </td><td>20180401  </td><td>1111051500</td><td>청운효자동</td><td>0.05      </td><td> 78.93    </td><td> 403.26   </td><td> 642.66   </td><td> 984.24   </td><td>1792.30   </td><td>...       </td><td>1437.80   </td><td>1356.08   </td><td>1598.14   </td><td>1495.53   </td><td>1768.21   </td><td>1611.47   </td><td>1433.06   </td><td>1212.56   </td><td> 549.45   </td><td> 811.56   </td></tr>\n",
       "\t<tr><td>201804    </td><td>20180401  </td><td>1111053000</td><td>사직동    </td><td>1.25      </td><td>262.54    </td><td>1207.22   </td><td>2177.88   </td><td>4076.89   </td><td>6887.72   </td><td>...       </td><td>6892.47   </td><td>5743.10   </td><td>5817.91   </td><td>5429.89   </td><td>6104.03   </td><td>4998.93   </td><td>4826.11   </td><td>4207.45   </td><td>2160.84   </td><td>2972.08   </td></tr>\n",
       "\t<tr><td>201804    </td><td>20180401  </td><td>1111054000</td><td>삼청동    </td><td>0.00      </td><td> 78.07    </td><td> 255.24   </td><td> 331.09   </td><td> 654.32   </td><td>1264.86   </td><td>...       </td><td>1400.28   </td><td>1183.11   </td><td>1234.88   </td><td>1157.69   </td><td>1186.72   </td><td> 985.11   </td><td> 844.26   </td><td> 744.60   </td><td> 359.03   </td><td> 421.64   </td></tr>\n",
       "\t<tr><td>201804    </td><td>20180401  </td><td>1111055000</td><td>부암동    </td><td>0.00      </td><td>228.50    </td><td> 753.31   </td><td> 981.54   </td><td>1615.77   </td><td>2732.00   </td><td>...       </td><td>2153.73   </td><td>2431.23   </td><td>3028.24   </td><td>2944.28   </td><td>3532.23   </td><td>3075.55   </td><td>2785.22   </td><td>2223.72   </td><td>1118.48   </td><td>1498.65   </td></tr>\n",
       "\t<tr><td>201804    </td><td>20180401  </td><td>1111056000</td><td>평창동    </td><td>0.00      </td><td>354.38    </td><td>1500.63   </td><td>1963.08   </td><td>2593.07   </td><td>4927.24   </td><td>...       </td><td>3775.91   </td><td>4598.39   </td><td>5661.53   </td><td>5526.94   </td><td>7075.02   </td><td>6899.55   </td><td>6886.22   </td><td>5336.01   </td><td>2629.75   </td><td>3820.41   </td></tr>\n",
       "\t<tr><td>201804    </td><td>20180401  </td><td>1111057000</td><td>무악동    </td><td>0.18      </td><td> 39.69    </td><td> 204.43   </td><td> 377.50   </td><td> 509.92   </td><td> 766.21   </td><td>...       </td><td> 726.12   </td><td> 698.17   </td><td> 769.80   </td><td> 777.93   </td><td> 885.00   </td><td> 790.96   </td><td> 796.02   </td><td> 663.07   </td><td> 335.06   </td><td> 505.00   </td></tr>\n",
       "</tbody>\n",
       "</table>\n"
      ],
      "text/latex": [
       "\\begin{tabular}{r|llllllllllllllllllllllllllllllllll}\n",
       " STD\\_YM & STD\\_YMD & HDONG\\_CD & HDONG\\_NM & MAN\\_FLOW\\_POP\\_CNT\\_0004 & MAN\\_FLOW\\_POP\\_CNT\\_0509 & MAN\\_FLOW\\_POP\\_CNT\\_1014 & MAN\\_FLOW\\_POP\\_CNT\\_1519 & MAN\\_FLOW\\_POP\\_CNT\\_2024 & MAN\\_FLOW\\_POP\\_CNT\\_2529 & ... & WMAN\\_FLOW\\_POP\\_CNT\\_2529 & WMAN\\_FLOW\\_POP\\_CNT\\_3034 & WMAN\\_FLOW\\_POP\\_CNT\\_3539 & WMAN\\_FLOW\\_POP\\_CNT\\_4044 & WMAN\\_FLOW\\_POP\\_CNT\\_4549 & WMAN\\_FLOW\\_POP\\_CNT\\_5054 & WMAN\\_FLOW\\_POP\\_CNT\\_5559 & WMAN\\_FLOW\\_POP\\_CNT\\_6064 & WMAN\\_FLOW\\_POP\\_CNT\\_6569 & WMAN\\_FLOW\\_POP\\_CNT\\_70U\\\\\n",
       "\\hline\n",
       "\t 201804     & 20180401   & 1111051500 & 청운효자동 & 0.05       &  78.93     &  403.26    &  642.66    &  984.24    & 1792.30    & ...        & 1437.80    & 1356.08    & 1598.14    & 1495.53    & 1768.21    & 1611.47    & 1433.06    & 1212.56    &  549.45    &  811.56   \\\\\n",
       "\t 201804     & 20180401   & 1111053000 & 사직동     & 1.25       & 262.54     & 1207.22    & 2177.88    & 4076.89    & 6887.72    & ...        & 6892.47    & 5743.10    & 5817.91    & 5429.89    & 6104.03    & 4998.93    & 4826.11    & 4207.45    & 2160.84    & 2972.08   \\\\\n",
       "\t 201804     & 20180401   & 1111054000 & 삼청동     & 0.00       &  78.07     &  255.24    &  331.09    &  654.32    & 1264.86    & ...        & 1400.28    & 1183.11    & 1234.88    & 1157.69    & 1186.72    &  985.11    &  844.26    &  744.60    &  359.03    &  421.64   \\\\\n",
       "\t 201804     & 20180401   & 1111055000 & 부암동     & 0.00       & 228.50     &  753.31    &  981.54    & 1615.77    & 2732.00    & ...        & 2153.73    & 2431.23    & 3028.24    & 2944.28    & 3532.23    & 3075.55    & 2785.22    & 2223.72    & 1118.48    & 1498.65   \\\\\n",
       "\t 201804     & 20180401   & 1111056000 & 평창동     & 0.00       & 354.38     & 1500.63    & 1963.08    & 2593.07    & 4927.24    & ...        & 3775.91    & 4598.39    & 5661.53    & 5526.94    & 7075.02    & 6899.55    & 6886.22    & 5336.01    & 2629.75    & 3820.41   \\\\\n",
       "\t 201804     & 20180401   & 1111057000 & 무악동     & 0.18       &  39.69     &  204.43    &  377.50    &  509.92    &  766.21    & ...        &  726.12    &  698.17    &  769.80    &  777.93    &  885.00    &  790.96    &  796.02    &  663.07    &  335.06    &  505.00   \\\\\n",
       "\\end{tabular}\n"
      ],
      "text/markdown": [
       "\n",
       "STD_YM | STD_YMD | HDONG_CD | HDONG_NM | MAN_FLOW_POP_CNT_0004 | MAN_FLOW_POP_CNT_0509 | MAN_FLOW_POP_CNT_1014 | MAN_FLOW_POP_CNT_1519 | MAN_FLOW_POP_CNT_2024 | MAN_FLOW_POP_CNT_2529 | ... | WMAN_FLOW_POP_CNT_2529 | WMAN_FLOW_POP_CNT_3034 | WMAN_FLOW_POP_CNT_3539 | WMAN_FLOW_POP_CNT_4044 | WMAN_FLOW_POP_CNT_4549 | WMAN_FLOW_POP_CNT_5054 | WMAN_FLOW_POP_CNT_5559 | WMAN_FLOW_POP_CNT_6064 | WMAN_FLOW_POP_CNT_6569 | WMAN_FLOW_POP_CNT_70U | \n",
       "|---|---|---|---|---|---|\n",
       "| 201804     | 20180401   | 1111051500 | 청운효자동 | 0.05       |  78.93     |  403.26    |  642.66    |  984.24    | 1792.30    | ...        | 1437.80    | 1356.08    | 1598.14    | 1495.53    | 1768.21    | 1611.47    | 1433.06    | 1212.56    |  549.45    |  811.56    | \n",
       "| 201804     | 20180401   | 1111053000 | 사직동     | 1.25       | 262.54     | 1207.22    | 2177.88    | 4076.89    | 6887.72    | ...        | 6892.47    | 5743.10    | 5817.91    | 5429.89    | 6104.03    | 4998.93    | 4826.11    | 4207.45    | 2160.84    | 2972.08    | \n",
       "| 201804     | 20180401   | 1111054000 | 삼청동     | 0.00       |  78.07     |  255.24    |  331.09    |  654.32    | 1264.86    | ...        | 1400.28    | 1183.11    | 1234.88    | 1157.69    | 1186.72    |  985.11    |  844.26    |  744.60    |  359.03    |  421.64    | \n",
       "| 201804     | 20180401   | 1111055000 | 부암동     | 0.00       | 228.50     |  753.31    |  981.54    | 1615.77    | 2732.00    | ...        | 2153.73    | 2431.23    | 3028.24    | 2944.28    | 3532.23    | 3075.55    | 2785.22    | 2223.72    | 1118.48    | 1498.65    | \n",
       "| 201804     | 20180401   | 1111056000 | 평창동     | 0.00       | 354.38     | 1500.63    | 1963.08    | 2593.07    | 4927.24    | ...        | 3775.91    | 4598.39    | 5661.53    | 5526.94    | 7075.02    | 6899.55    | 6886.22    | 5336.01    | 2629.75    | 3820.41    | \n",
       "| 201804     | 20180401   | 1111057000 | 무악동     | 0.18       |  39.69     |  204.43    |  377.50    |  509.92    |  766.21    | ...        |  726.12    |  698.17    |  769.80    |  777.93    |  885.00    |  790.96    |  796.02    |  663.07    |  335.06    |  505.00    | \n",
       "\n",
       "\n"
      ],
      "text/plain": [
       "  STD_YM STD_YMD  HDONG_CD   HDONG_NM   MAN_FLOW_POP_CNT_0004\n",
       "1 201804 20180401 1111051500 청운효자동 0.05                 \n",
       "2 201804 20180401 1111053000 사직동     1.25                 \n",
       "3 201804 20180401 1111054000 삼청동     0.00                 \n",
       "4 201804 20180401 1111055000 부암동     0.00                 \n",
       "5 201804 20180401 1111056000 평창동     0.00                 \n",
       "6 201804 20180401 1111057000 무악동     0.18                 \n",
       "  MAN_FLOW_POP_CNT_0509 MAN_FLOW_POP_CNT_1014 MAN_FLOW_POP_CNT_1519\n",
       "1  78.93                 403.26                642.66              \n",
       "2 262.54                1207.22               2177.88              \n",
       "3  78.07                 255.24                331.09              \n",
       "4 228.50                 753.31                981.54              \n",
       "5 354.38                1500.63               1963.08              \n",
       "6  39.69                 204.43                377.50              \n",
       "  MAN_FLOW_POP_CNT_2024 MAN_FLOW_POP_CNT_2529 ... WMAN_FLOW_POP_CNT_2529\n",
       "1  984.24               1792.30               ... 1437.80               \n",
       "2 4076.89               6887.72               ... 6892.47               \n",
       "3  654.32               1264.86               ... 1400.28               \n",
       "4 1615.77               2732.00               ... 2153.73               \n",
       "5 2593.07               4927.24               ... 3775.91               \n",
       "6  509.92                766.21               ...  726.12               \n",
       "  WMAN_FLOW_POP_CNT_3034 WMAN_FLOW_POP_CNT_3539 WMAN_FLOW_POP_CNT_4044\n",
       "1 1356.08                1598.14                1495.53               \n",
       "2 5743.10                5817.91                5429.89               \n",
       "3 1183.11                1234.88                1157.69               \n",
       "4 2431.23                3028.24                2944.28               \n",
       "5 4598.39                5661.53                5526.94               \n",
       "6  698.17                 769.80                 777.93               \n",
       "  WMAN_FLOW_POP_CNT_4549 WMAN_FLOW_POP_CNT_5054 WMAN_FLOW_POP_CNT_5559\n",
       "1 1768.21                1611.47                1433.06               \n",
       "2 6104.03                4998.93                4826.11               \n",
       "3 1186.72                 985.11                 844.26               \n",
       "4 3532.23                3075.55                2785.22               \n",
       "5 7075.02                6899.55                6886.22               \n",
       "6  885.00                 790.96                 796.02               \n",
       "  WMAN_FLOW_POP_CNT_6064 WMAN_FLOW_POP_CNT_6569 WMAN_FLOW_POP_CNT_70U\n",
       "1 1212.56                 549.45                 811.56              \n",
       "2 4207.45                2160.84                2972.08              \n",
       "3  744.60                 359.03                 421.64              \n",
       "4 2223.72                1118.48                1498.65              \n",
       "5 5336.01                2629.75                3820.41              \n",
       "6  663.07                 335.06                 505.00              "
      ]
     },
     "metadata": {},
     "output_type": "display_data"
    }
   ],
   "source": [
    "all_year_dat <- bind_rows(year_dat_1804, year_dat_1805, year_dat_1806, \n",
    "                          year_dat_1807, year_dat_1808, year_dat_1809, \n",
    "                          year_dat_1810, year_dat_1811, year_dat_1812,\n",
    "                          year_dat_1901, year_dat_1902, year_dat_1903)\n",
    "head(all_year_dat); "
   ]
  },
  {
   "cell_type": "code",
   "execution_count": 47,
   "metadata": {},
   "outputs": [
    {
     "name": "stdout",
     "output_type": "stream",
     "text": [
      "'data.frame':\t13140 obs. of  34 variables:\n",
      " $ STD_YM                : int  201804 201804 201804 201804 201804 201804 201804 201804 201804 201804 ...\n",
      " $ STD_YMD               : int  20180401 20180401 20180401 20180401 20180401 20180401 20180401 20180401 20180401 20180401 ...\n",
      " $ HDONG_CD              : int  1111051500 1111053000 1111054000 1111055000 1111056000 1111057000 1111058000 1111060000 1111061500 1111063000 ...\n",
      " $ HDONG_NM              : Factor w/ 36 levels \"가회동\",\"공릉1동\",..: 32 7 8 6 33 5 4 1 23 24 ...\n",
      " $ MAN_FLOW_POP_CNT_0004 : num  0.05 1.25 0 0 0 0.18 0.1 0 0 0 ...\n",
      " $ MAN_FLOW_POP_CNT_0509 : num  78.9 262.5 78.1 228.5 354.4 ...\n",
      " $ MAN_FLOW_POP_CNT_1014 : num  403 1207 255 753 1501 ...\n",
      " $ MAN_FLOW_POP_CNT_1519 : num  643 2178 331 982 1963 ...\n",
      " $ MAN_FLOW_POP_CNT_2024 : num  984 4077 654 1616 2593 ...\n",
      " $ MAN_FLOW_POP_CNT_2529 : num  1792 6888 1265 2732 4927 ...\n",
      " $ MAN_FLOW_POP_CNT_3034 : num  1936 6787 1375 3391 5718 ...\n",
      " $ MAN_FLOW_POP_CNT_3539 : num  2061 6874 1445 4288 6998 ...\n",
      " $ MAN_FLOW_POP_CNT_4044 : num  1788 5921 1237 3858 6619 ...\n",
      " $ MAN_FLOW_POP_CNT_4549 : num  2370 7406 1658 4913 9064 ...\n",
      " $ MAN_FLOW_POP_CNT_5054 : num  2349 6956 1403 4756 9493 ...\n",
      " $ MAN_FLOW_POP_CNT_5559 : num  2124 7294 1360 4692 9874 ...\n",
      " $ MAN_FLOW_POP_CNT_6064 : num  1896 6914 1236 3880 8831 ...\n",
      " $ MAN_FLOW_POP_CNT_6569 : num  1269 4452 844 2450 5234 ...\n",
      " $ MAN_FLOW_POP_CNT_70U  : num  1166 4743 846 2366 5432 ...\n",
      " $ WMAN_FLOW_POP_CNT_0004: num  0 0 0 0 0.11 0 0 0 0 0 ...\n",
      " $ WMAN_FLOW_POP_CNT_0509: num  143 395 91 253 435 ...\n",
      " $ WMAN_FLOW_POP_CNT_1014: num  545 1444 371 961 1760 ...\n",
      " $ WMAN_FLOW_POP_CNT_1519: num  614 2502 375 1035 2356 ...\n",
      " $ WMAN_FLOW_POP_CNT_2024: num  1038 5515 964 1790 3089 ...\n",
      " $ WMAN_FLOW_POP_CNT_2529: num  1438 6892 1400 2154 3776 ...\n",
      " $ WMAN_FLOW_POP_CNT_3034: num  1356 5743 1183 2431 4598 ...\n",
      " $ WMAN_FLOW_POP_CNT_3539: num  1598 5818 1235 3028 5662 ...\n",
      " $ WMAN_FLOW_POP_CNT_4044: num  1496 5430 1158 2944 5527 ...\n",
      " $ WMAN_FLOW_POP_CNT_4549: num  1768 6104 1187 3532 7075 ...\n",
      " $ WMAN_FLOW_POP_CNT_5054: num  1611 4999 985 3076 6900 ...\n",
      " $ WMAN_FLOW_POP_CNT_5559: num  1433 4826 844 2785 6886 ...\n",
      " $ WMAN_FLOW_POP_CNT_6064: num  1213 4207 745 2224 5336 ...\n",
      " $ WMAN_FLOW_POP_CNT_6569: num  549 2161 359 1118 2630 ...\n",
      " $ WMAN_FLOW_POP_CNT_70U : num  812 2972 422 1499 3820 ...\n"
     ]
    },
    {
     "data": {
      "text/html": [
       "<ol class=list-inline>\n",
       "\t<li>13140</li>\n",
       "\t<li>34</li>\n",
       "</ol>\n"
      ],
      "text/latex": [
       "\\begin{enumerate*}\n",
       "\\item 13140\n",
       "\\item 34\n",
       "\\end{enumerate*}\n"
      ],
      "text/markdown": [
       "1. 13140\n",
       "2. 34\n",
       "\n",
       "\n"
      ],
      "text/plain": [
       "[1] 13140    34"
      ]
     },
     "metadata": {},
     "output_type": "display_data"
    },
    {
     "data": {
      "text/plain": [
       "     STD_YM          STD_YMD            HDONG_CD            HDONG_NM    \n",
       " Min.   :201804   Min.   :20180401   Min.   :1.111e+09   가회동 :  365  \n",
       " 1st Qu.:201807   1st Qu.:20180701   1st Qu.:1.111e+09   공릉1동:  365  \n",
       " Median :201809   Median :20180930   Median :1.135e+09   공릉2동:  365  \n",
       " Mean   :201831   Mean   :20183134   Mean   :1.124e+09   교남동 :  365  \n",
       " 3rd Qu.:201812   3rd Qu.:20181230   3rd Qu.:1.135e+09   무악동 :  365  \n",
       " Max.   :201903   Max.   :20190331   Max.   :1.135e+09   부암동 :  365  \n",
       "                                                         (Other):10950  \n",
       " MAN_FLOW_POP_CNT_0004 MAN_FLOW_POP_CNT_0509 MAN_FLOW_POP_CNT_1014\n",
       " Min.   : 0.0000       Min.   :   1.02       Min.   :  21.15      \n",
       " 1st Qu.: 0.0000       1st Qu.:  55.22       1st Qu.: 293.33      \n",
       " Median : 0.0000       Median :  94.39       Median : 500.87      \n",
       " Mean   : 0.6524       Mean   : 131.66       Mean   : 650.56      \n",
       " 3rd Qu.: 0.3200       3rd Qu.: 158.94       3rd Qu.: 821.64      \n",
       " Max.   :46.7500       Max.   :1764.16       Max.   :7288.74      \n",
       "                                                                  \n",
       " MAN_FLOW_POP_CNT_1519 MAN_FLOW_POP_CNT_2024 MAN_FLOW_POP_CNT_2529\n",
       " Min.   :   80.21      Min.   :  130.8       Min.   :  209.4      \n",
       " 1st Qu.:  807.06      1st Qu.:  943.9       1st Qu.: 1365.0      \n",
       " Median : 1416.93      Median : 1901.6       Median : 2754.1      \n",
       " Mean   : 1730.32      Mean   : 2842.5       Mean   : 4074.6      \n",
       " 3rd Qu.: 2210.62      3rd Qu.: 3599.9       3rd Qu.: 4956.1      \n",
       " Max.   :13100.77      Max.   :21222.8       Max.   :39898.4      \n",
       "                                                                  \n",
       " MAN_FLOW_POP_CNT_3034 MAN_FLOW_POP_CNT_3539 MAN_FLOW_POP_CNT_4044\n",
       " Min.   :  149.4       Min.   :  183         Min.   :  166.4      \n",
       " 1st Qu.: 1542.7       1st Qu.: 2012         1st Qu.: 2108.2      \n",
       " Median : 3108.1       Median : 3836         Median : 3577.5      \n",
       " Mean   : 4394.2       Mean   : 5556         Mean   : 5253.0      \n",
       " 3rd Qu.: 5178.0       3rd Qu.: 6460         3rd Qu.: 5863.1      \n",
       " Max.   :47946.2       Max.   :60141         Max.   :55042.4      \n",
       "                                                                  \n",
       " MAN_FLOW_POP_CNT_4549 MAN_FLOW_POP_CNT_5054 MAN_FLOW_POP_CNT_5559\n",
       " Min.   :  212.8       Min.   :  222.1       Min.   :  228.7      \n",
       " 1st Qu.: 2836.4       1st Qu.: 2612.1       1st Qu.: 2561.2      \n",
       " Median : 4420.7       Median : 4132.9       Median : 4313.4      \n",
       " Mean   : 6388.9       Mean   : 5789.1       Mean   : 5771.4      \n",
       " 3rd Qu.: 7120.6       3rd Qu.: 6567.9       3rd Qu.: 6678.3      \n",
       " Max.   :60993.2       Max.   :48011.5       Max.   :41662.3      \n",
       "                                                                  \n",
       " MAN_FLOW_POP_CNT_6064 MAN_FLOW_POP_CNT_6569 MAN_FLOW_POP_CNT_70U\n",
       " Min.   :  214.5       Min.   :  132.6       Min.   :  120.7     \n",
       " 1st Qu.: 2342.6       1st Qu.: 1500.1       1st Qu.: 1456.3     \n",
       " Median : 4074.7       Median : 2743.4       Median : 2677.3     \n",
       " Mean   : 5365.8       Mean   : 3552.5       Mean   : 3787.0     \n",
       " 3rd Qu.: 6259.4       3rd Qu.: 4292.3       3rd Qu.: 4426.7     \n",
       " Max.   :38588.1       Max.   :26063.8       Max.   :36179.5     \n",
       "                                                                 \n",
       " WMAN_FLOW_POP_CNT_0004 WMAN_FLOW_POP_CNT_0509 WMAN_FLOW_POP_CNT_1014\n",
       " Min.   : 0.0000        Min.   :   3.96        Min.   :  21.43       \n",
       " 1st Qu.: 0.0000        1st Qu.:  75.31        1st Qu.: 321.04       \n",
       " Median : 0.0000        Median : 125.12        Median : 535.86       \n",
       " Mean   : 0.7126        Mean   : 170.91        Mean   : 704.56       \n",
       " 3rd Qu.: 0.6200        3rd Qu.: 205.07        3rd Qu.: 877.18       \n",
       " Max.   :28.9400        Max.   :2582.24        Max.   :9240.58       \n",
       "                                                                     \n",
       " WMAN_FLOW_POP_CNT_1519 WMAN_FLOW_POP_CNT_2024 WMAN_FLOW_POP_CNT_2529\n",
       " Min.   :   78.7        Min.   :  198.4        Min.   :  187.4       \n",
       " 1st Qu.:  807.5        1st Qu.: 1160.0        1st Qu.: 1244.9       \n",
       " Median : 1444.9        Median : 2246.5        Median : 2236.5       \n",
       " Mean   : 1875.8        Mean   : 3826.9        Mean   : 3936.7       \n",
       " 3rd Qu.: 2356.2        3rd Qu.: 4537.5        3rd Qu.: 4368.8       \n",
       " Max.   :16840.4        Max.   :35779.4        Max.   :45610.1       \n",
       "                                                                     \n",
       " WMAN_FLOW_POP_CNT_3034 WMAN_FLOW_POP_CNT_3539 WMAN_FLOW_POP_CNT_4044\n",
       " Min.   :  142          Min.   :  146          Min.   :  148.2       \n",
       " 1st Qu.: 1209          1st Qu.: 1576          1st Qu.: 1760.2       \n",
       " Median : 2278          Median : 2807          Median : 2784.3       \n",
       " Mean   : 3562          Mean   : 4045          Mean   : 3890.4       \n",
       " 3rd Qu.: 4130          3rd Qu.: 4812          3rd Qu.: 4752.6       \n",
       " Max.   :38938          Max.   :37157          Max.   :31217.5       \n",
       "                                                                     \n",
       " WMAN_FLOW_POP_CNT_4549 WMAN_FLOW_POP_CNT_5054 WMAN_FLOW_POP_CNT_5559\n",
       " Min.   :  180.3        Min.   :  180          Min.   :  150.6       \n",
       " 1st Qu.: 2171.5        1st Qu.: 1793          1st Qu.: 1633.4       \n",
       " Median : 3364.9        Median : 2792          Median : 2816.8       \n",
       " Mean   : 4531.0        Mean   : 3796          Mean   : 3711.8       \n",
       " 3rd Qu.: 5695.4        3rd Qu.: 4735          3rd Qu.: 4532.1       \n",
       " Max.   :32184.3        Max.   :25994          Max.   :25985.7       \n",
       "                                                                     \n",
       " WMAN_FLOW_POP_CNT_6064 WMAN_FLOW_POP_CNT_6569 WMAN_FLOW_POP_CNT_70U\n",
       " Min.   :  125.3        Min.   :   54.58       Min.   :   81.13     \n",
       " 1st Qu.: 1269.4        1st Qu.:  686.29       1st Qu.:  858.94     \n",
       " Median : 2268.0        Median : 1318.69       Median : 1601.35     \n",
       " Mean   : 2948.2        Mean   : 1731.22       Mean   : 2141.03     \n",
       " 3rd Qu.: 3594.5        3rd Qu.: 2163.18       3rd Qu.: 2614.56     \n",
       " Max.   :20855.1        Max.   :13050.60       Max.   :17080.90     \n",
       "                                                                    "
      ]
     },
     "metadata": {},
     "output_type": "display_data"
    }
   ],
   "source": [
    "str(all_year_dat)\n",
    "dim(all_year_dat)\n",
    "summary(all_year_dat)"
   ]
  },
  {
   "cell_type": "markdown",
   "metadata": {},
   "source": [
    "### 데이터 셋 만들기"
   ]
  },
  {
   "cell_type": "code",
   "execution_count": 49,
   "metadata": {},
   "outputs": [
    {
     "data": {
      "text/html": [
       "<ol class=list-inline>\n",
       "\t<li>'all_year_dat.rda'</li>\n",
       "\t<li>'hour_moving'</li>\n",
       "\t<li>'moving_year_pop_201804_201903.csv'</li>\n",
       "\t<li>'table_define.xlsx'</li>\n",
       "\t<li>'year_moving'</li>\n",
       "\t<li>'테이블정의서.xlsx'</li>\n",
       "\t<li>'행정동경계파일'</li>\n",
       "</ol>\n"
      ],
      "text/latex": [
       "\\begin{enumerate*}\n",
       "\\item 'all\\_year\\_dat.rda'\n",
       "\\item 'hour\\_moving'\n",
       "\\item 'moving\\_year\\_pop\\_201804\\_201903.csv'\n",
       "\\item 'table\\_define.xlsx'\n",
       "\\item 'year\\_moving'\n",
       "\\item '테이블정의서.xlsx'\n",
       "\\item '행정동경계파일'\n",
       "\\end{enumerate*}\n"
      ],
      "text/markdown": [
       "1. 'all_year_dat.rda'\n",
       "2. 'hour_moving'\n",
       "3. 'moving_year_pop_201804_201903.csv'\n",
       "4. 'table_define.xlsx'\n",
       "5. 'year_moving'\n",
       "6. '테이블정의서.xlsx'\n",
       "7. '행정동경계파일'\n",
       "\n",
       "\n"
      ],
      "text/plain": [
       "[1] \"all_year_dat.rda\"                  \"hour_moving\"                      \n",
       "[3] \"moving_year_pop_201804_201903.csv\" \"table_define.xlsx\"                \n",
       "[5] \"year_moving\"                       \"테이블정의서.xlsx\"                \n",
       "[7] \"행정동경계파일\"                   "
      ]
     },
     "metadata": {},
     "output_type": "display_data"
    }
   ],
   "source": [
    "write.csv(all_year_dat, file=\"moving_year_pop_201804_201903.csv\", row.names=TRUE)\n",
    "save(all_year_dat, file = \"all_year_dat.rda\")\n",
    "\n",
    "list.files(\"D:\\\\dataset\\\\11_innovation\\\\moving_dataset_skt\")"
   ]
  },
  {
   "cell_type": "markdown",
   "metadata": {},
   "source": [
    "### 간단한 데이터 시각화 해보기"
   ]
  },
  {
   "cell_type": "code",
   "execution_count": 50,
   "metadata": {},
   "outputs": [
    {
     "data": {
      "text/plain": [
       "\n",
       "         가회동         공릉1동         공릉2동          교남동          무악동 \n",
       "            365             365             365             365             365 \n",
       "         부암동          사직동          삼청동        상계10동         상계1동 \n",
       "            365             365             365             365             365 \n",
       "        상계2동       상계3.4동         상계5동       상계6.7동         상계8동 \n",
       "            365             365             365             365             365 \n",
       "        상계9동         숭인1동         숭인2동         월계1동         월계2동 \n",
       "            365             365             365             365             365 \n",
       "        월계3동          이화동 종로1.2.3.4가동     종로5.6가동         중계1동 \n",
       "            365             365             365             365             365 \n",
       "      중계2.3동         중계4동        중계본동         창신1동         창신2동 \n",
       "            365             365             365             365             365 \n",
       "        창신3동      청운효자동          평창동         하계1동         하계2동 \n",
       "            365             365             365             365             365 \n",
       "         혜화동 \n",
       "            365 "
      ]
     },
     "metadata": {},
     "output_type": "display_data"
    }
   ],
   "source": [
    "table(all_year_dat$HDONG_NM)"
   ]
  },
  {
   "cell_type": "code",
   "execution_count": 57,
   "metadata": {},
   "outputs": [
    {
     "data": {},
     "metadata": {},
     "output_type": "display_data"
    },
    {
     "data": {
      "image/png": "[encoded data removed]",
      "text/plain": [
       "plot without title"
      ]
     },
     "metadata": {},
     "output_type": "display_data"
    }
   ],
   "source": [
    "ggplot(all_year_dat, aes(HDONG_NM)) + geom_bar() + coord_flip() "
   ]
  },
  {
   "cell_type": "markdown",
   "metadata": {},
   "source": [
    "### 월별 통계- 30세까지의 통계"
   ]
  },
  {
   "cell_type": "code",
   "execution_count": 59,
   "metadata": {},
   "outputs": [
    {
     "data": {
      "text/html": [
       "<table>\n",
       "<thead><tr><th scope=col>No.</th><th scope=col>컬럼ID</th><th scope=col>컬럼명</th><th scope=col>타입</th><th scope=col>길이</th></tr></thead>\n",
       "<tbody>\n",
       "\t<tr><td> 1                    </td><td>STD_YM                </td><td>년월                  </td><td>VARCHAR2              </td><td>6                     </td></tr>\n",
       "\t<tr><td> 2                    </td><td>STD_YMD               </td><td>년월일                </td><td>VARCHAR2              </td><td>8                     </td></tr>\n",
       "\t<tr><td> 3                    </td><td>HDONG_CD              </td><td>행정동코드            </td><td>VARCHAR2              </td><td>10                    </td></tr>\n",
       "\t<tr><td> 4                    </td><td>HDONG_NM              </td><td>행정동명칭            </td><td>VARCHAR2              </td><td>50                    </td></tr>\n",
       "\t<tr><td> 5                    </td><td>MAN_FLOW_POP_CNT_0004 </td><td>남성_0004세 유동인구  </td><td>NUMBER                </td><td>(18, 2)               </td></tr>\n",
       "\t<tr><td> 6                    </td><td>MAN_FLOW_POP_CNT_0509 </td><td>남성_0509세 유동인구  </td><td>NUMBER                </td><td>(18, 2)               </td></tr>\n",
       "\t<tr><td> 7                    </td><td>MAN_FLOW_POP_CNT_1014 </td><td>남성_1014세 유동인구  </td><td>NUMBER                </td><td>(18, 2)               </td></tr>\n",
       "\t<tr><td> 8                    </td><td>MAN_FLOW_POP_CNT_1519 </td><td>남성_1519세 유동인구  </td><td>NUMBER                </td><td>(18, 2)               </td></tr>\n",
       "\t<tr><td> 9                    </td><td>MAN_FLOW_POP_CNT_2024 </td><td>남성_2024세 유동인구  </td><td>NUMBER                </td><td>(18, 2)               </td></tr>\n",
       "\t<tr><td>10                    </td><td>MAN_FLOW_POP_CNT_2529 </td><td>남성_2529세 유동인구  </td><td>NUMBER                </td><td>(18, 2)               </td></tr>\n",
       "\t<tr><td>11                    </td><td>MAN_FLOW_POP_CNT_3034 </td><td>남성_3034세 유동인구  </td><td>NUMBER                </td><td>(18, 2)               </td></tr>\n",
       "\t<tr><td>12                    </td><td>MAN_FLOW_POP_CNT_3539 </td><td>남성_3539세 유동인구  </td><td>NUMBER                </td><td>(18, 2)               </td></tr>\n",
       "\t<tr><td>13                    </td><td>MAN_FLOW_POP_CNT_4044 </td><td>남성_4044세 유동인구  </td><td>NUMBER                </td><td>(18, 2)               </td></tr>\n",
       "\t<tr><td>14                    </td><td>MAN_FLOW_POP_CNT_4549 </td><td>남성_4549세 유동인구  </td><td>NUMBER                </td><td>(18, 2)               </td></tr>\n",
       "\t<tr><td>15                    </td><td>MAN_FLOW_POP_CNT_5054 </td><td>남성_5054세 유동인구  </td><td>NUMBER                </td><td>(18, 2)               </td></tr>\n",
       "\t<tr><td>16                    </td><td>MAN_FLOW_POP_CNT_5559 </td><td>남성_5559세 유동인구  </td><td>NUMBER                </td><td>(18, 2)               </td></tr>\n",
       "\t<tr><td>17                    </td><td>MAN_FLOW_POP_CNT_6064 </td><td>남성_6064세 유동인구  </td><td>NUMBER                </td><td>(18, 2)               </td></tr>\n",
       "\t<tr><td>18                    </td><td>MAN_FLOW_POP_CNT_6569 </td><td>남성_6569세 유동인구  </td><td>NUMBER                </td><td>(18, 2)               </td></tr>\n",
       "\t<tr><td>19                    </td><td>MAN_FLOW_POP_CNT_70U  </td><td>남성_70세이상 유동인구</td><td>NUMBER                </td><td>(18, 2)               </td></tr>\n",
       "\t<tr><td>20                    </td><td>WMAN_FLOW_POP_CNT_0004</td><td>여성_0004세 유동인구  </td><td>NUMBER                </td><td>(18, 2)               </td></tr>\n",
       "\t<tr><td>21                    </td><td>WMAN_FLOW_POP_CNT_0509</td><td>여성_0509세 유동인구  </td><td>NUMBER                </td><td>(18, 2)               </td></tr>\n",
       "\t<tr><td>22                    </td><td>WMAN_FLOW_POP_CNT_1014</td><td>여성_1014세 유동인구  </td><td>NUMBER                </td><td>(18, 2)               </td></tr>\n",
       "\t<tr><td>23                    </td><td>WMAN_FLOW_POP_CNT_1519</td><td>여성_1519세 유동인구  </td><td>NUMBER                </td><td>(18, 2)               </td></tr>\n",
       "\t<tr><td>24                    </td><td>WMAN_FLOW_POP_CNT_2024</td><td>여성_2024세 유동인구  </td><td>NUMBER                </td><td>(18, 2)               </td></tr>\n",
       "\t<tr><td>25                    </td><td>WMAN_FLOW_POP_CNT_2529</td><td>여성_2529세 유동인구  </td><td>NUMBER                </td><td>(18, 2)               </td></tr>\n",
       "\t<tr><td>26                    </td><td>WMAN_FLOW_POP_CNT_3034</td><td>여성_3034세 유동인구  </td><td>NUMBER                </td><td>(18, 2)               </td></tr>\n",
       "\t<tr><td>27                    </td><td>WMAN_FLOW_POP_CNT_3539</td><td>여성_3539세 유동인구  </td><td>NUMBER                </td><td>(18, 2)               </td></tr>\n",
       "\t<tr><td>28                    </td><td>WMAN_FLOW_POP_CNT_4044</td><td>여성_4044세 유동인구  </td><td>NUMBER                </td><td>(18, 2)               </td></tr>\n",
       "\t<tr><td>29                    </td><td>WMAN_FLOW_POP_CNT_4549</td><td>여성_4549세 유동인구  </td><td>NUMBER                </td><td>(18, 2)               </td></tr>\n",
       "\t<tr><td>30                    </td><td>WMAN_FLOW_POP_CNT_5054</td><td>여성_5054세 유동인구  </td><td>NUMBER                </td><td>(18, 2)               </td></tr>\n",
       "\t<tr><td>31                    </td><td>WMAN_FLOW_POP_CNT_5559</td><td>여성_5559세 유동인구  </td><td>NUMBER                </td><td>(18, 2)               </td></tr>\n",
       "\t<tr><td>32                    </td><td>WMAN_FLOW_POP_CNT_6064</td><td>여성_6064세 유동인구  </td><td>NUMBER                </td><td>(18, 2)               </td></tr>\n",
       "\t<tr><td>33                    </td><td>WMAN_FLOW_POP_CNT_6569</td><td>여성_6569세 유동인구  </td><td>NUMBER                </td><td>(18, 2)               </td></tr>\n",
       "\t<tr><td>34                    </td><td>WMAN_FLOW_POP_CNT_70U </td><td>여성_70세이상 유동인구</td><td>NUMBER                </td><td>(18, 2)               </td></tr>\n",
       "</tbody>\n",
       "</table>\n"
      ],
      "text/latex": [
       "\\begin{tabular}{r|lllll}\n",
       " No. & 컬럼ID & 컬럼명 & 타입 & 길이\\\\\n",
       "\\hline\n",
       "\t  1                       & STD\\_YM                 & 년월                     & VARCHAR2                 & 6                       \\\\\n",
       "\t  2                       & STD\\_YMD                & 년월일                   & VARCHAR2                 & 8                       \\\\\n",
       "\t  3                       & HDONG\\_CD               & 행정동코드               & VARCHAR2                 & 10                      \\\\\n",
       "\t  4                       & HDONG\\_NM               & 행정동명칭               & VARCHAR2                 & 50                      \\\\\n",
       "\t  5                             & MAN\\_FLOW\\_POP\\_CNT\\_0004  & 남성\\_0004세 유동인구         & NUMBER                         & (18, 2)                       \\\\\n",
       "\t  6                             & MAN\\_FLOW\\_POP\\_CNT\\_0509  & 남성\\_0509세 유동인구         & NUMBER                         & (18, 2)                       \\\\\n",
       "\t  7                             & MAN\\_FLOW\\_POP\\_CNT\\_1014  & 남성\\_1014세 유동인구         & NUMBER                         & (18, 2)                       \\\\\n",
       "\t  8                             & MAN\\_FLOW\\_POP\\_CNT\\_1519  & 남성\\_1519세 유동인구         & NUMBER                         & (18, 2)                       \\\\\n",
       "\t  9                             & MAN\\_FLOW\\_POP\\_CNT\\_2024  & 남성\\_2024세 유동인구         & NUMBER                         & (18, 2)                       \\\\\n",
       "\t 10                             & MAN\\_FLOW\\_POP\\_CNT\\_2529  & 남성\\_2529세 유동인구         & NUMBER                         & (18, 2)                       \\\\\n",
       "\t 11                             & MAN\\_FLOW\\_POP\\_CNT\\_3034  & 남성\\_3034세 유동인구         & NUMBER                         & (18, 2)                       \\\\\n",
       "\t 12                             & MAN\\_FLOW\\_POP\\_CNT\\_3539  & 남성\\_3539세 유동인구         & NUMBER                         & (18, 2)                       \\\\\n",
       "\t 13                             & MAN\\_FLOW\\_POP\\_CNT\\_4044  & 남성\\_4044세 유동인구         & NUMBER                         & (18, 2)                       \\\\\n",
       "\t 14                             & MAN\\_FLOW\\_POP\\_CNT\\_4549  & 남성\\_4549세 유동인구         & NUMBER                         & (18, 2)                       \\\\\n",
       "\t 15                             & MAN\\_FLOW\\_POP\\_CNT\\_5054  & 남성\\_5054세 유동인구         & NUMBER                         & (18, 2)                       \\\\\n",
       "\t 16                             & MAN\\_FLOW\\_POP\\_CNT\\_5559  & 남성\\_5559세 유동인구         & NUMBER                         & (18, 2)                       \\\\\n",
       "\t 17                             & MAN\\_FLOW\\_POP\\_CNT\\_6064  & 남성\\_6064세 유동인구         & NUMBER                         & (18, 2)                       \\\\\n",
       "\t 18                             & MAN\\_FLOW\\_POP\\_CNT\\_6569  & 남성\\_6569세 유동인구         & NUMBER                         & (18, 2)                       \\\\\n",
       "\t 19                             & MAN\\_FLOW\\_POP\\_CNT\\_70U   & 남성\\_70세이상 유동인구       & NUMBER                         & (18, 2)                       \\\\\n",
       "\t 20                             & WMAN\\_FLOW\\_POP\\_CNT\\_0004 & 여성\\_0004세 유동인구         & NUMBER                         & (18, 2)                       \\\\\n",
       "\t 21                             & WMAN\\_FLOW\\_POP\\_CNT\\_0509 & 여성\\_0509세 유동인구         & NUMBER                         & (18, 2)                       \\\\\n",
       "\t 22                             & WMAN\\_FLOW\\_POP\\_CNT\\_1014 & 여성\\_1014세 유동인구         & NUMBER                         & (18, 2)                       \\\\\n",
       "\t 23                             & WMAN\\_FLOW\\_POP\\_CNT\\_1519 & 여성\\_1519세 유동인구         & NUMBER                         & (18, 2)                       \\\\\n",
       "\t 24                             & WMAN\\_FLOW\\_POP\\_CNT\\_2024 & 여성\\_2024세 유동인구         & NUMBER                         & (18, 2)                       \\\\\n",
       "\t 25                             & WMAN\\_FLOW\\_POP\\_CNT\\_2529 & 여성\\_2529세 유동인구         & NUMBER                         & (18, 2)                       \\\\\n",
       "\t 26                             & WMAN\\_FLOW\\_POP\\_CNT\\_3034 & 여성\\_3034세 유동인구         & NUMBER                         & (18, 2)                       \\\\\n",
       "\t 27                             & WMAN\\_FLOW\\_POP\\_CNT\\_3539 & 여성\\_3539세 유동인구         & NUMBER                         & (18, 2)                       \\\\\n",
       "\t 28                             & WMAN\\_FLOW\\_POP\\_CNT\\_4044 & 여성\\_4044세 유동인구         & NUMBER                         & (18, 2)                       \\\\\n",
       "\t 29                             & WMAN\\_FLOW\\_POP\\_CNT\\_4549 & 여성\\_4549세 유동인구         & NUMBER                         & (18, 2)                       \\\\\n",
       "\t 30                             & WMAN\\_FLOW\\_POP\\_CNT\\_5054 & 여성\\_5054세 유동인구         & NUMBER                         & (18, 2)                       \\\\\n",
       "\t 31                             & WMAN\\_FLOW\\_POP\\_CNT\\_5559 & 여성\\_5559세 유동인구         & NUMBER                         & (18, 2)                       \\\\\n",
       "\t 32                             & WMAN\\_FLOW\\_POP\\_CNT\\_6064 & 여성\\_6064세 유동인구         & NUMBER                         & (18, 2)                       \\\\\n",
       "\t 33                             & WMAN\\_FLOW\\_POP\\_CNT\\_6569 & 여성\\_6569세 유동인구         & NUMBER                         & (18, 2)                       \\\\\n",
       "\t 34                             & WMAN\\_FLOW\\_POP\\_CNT\\_70U  & 여성\\_70세이상 유동인구       & NUMBER                         & (18, 2)                       \\\\\n",
       "\\end{tabular}\n"
      ],
      "text/markdown": [
       "\n",
       "No. | 컬럼ID | 컬럼명 | 타입 | 길이 | \n",
       "|---|---|---|---|---|---|---|---|---|---|---|---|---|---|---|---|---|---|---|---|---|---|---|---|---|---|---|---|---|---|---|---|---|---|\n",
       "|  1                     | STD_YM                 | 년월                   | VARCHAR2               | 6                      | \n",
       "|  2                     | STD_YMD                | 년월일                 | VARCHAR2               | 8                      | \n",
       "|  3                     | HDONG_CD               | 행정동코드             | VARCHAR2               | 10                     | \n",
       "|  4                     | HDONG_NM               | 행정동명칭             | VARCHAR2               | 50                     | \n",
       "|  5                     | MAN_FLOW_POP_CNT_0004  | 남성_0004세 유동인구   | NUMBER                 | (18, 2)                | \n",
       "|  6                     | MAN_FLOW_POP_CNT_0509  | 남성_0509세 유동인구   | NUMBER                 | (18, 2)                | \n",
       "|  7                     | MAN_FLOW_POP_CNT_1014  | 남성_1014세 유동인구   | NUMBER                 | (18, 2)                | \n",
       "|  8                     | MAN_FLOW_POP_CNT_1519  | 남성_1519세 유동인구   | NUMBER                 | (18, 2)                | \n",
       "|  9                     | MAN_FLOW_POP_CNT_2024  | 남성_2024세 유동인구   | NUMBER                 | (18, 2)                | \n",
       "| 10                     | MAN_FLOW_POP_CNT_2529  | 남성_2529세 유동인구   | NUMBER                 | (18, 2)                | \n",
       "| 11                     | MAN_FLOW_POP_CNT_3034  | 남성_3034세 유동인구   | NUMBER                 | (18, 2)                | \n",
       "| 12                     | MAN_FLOW_POP_CNT_3539  | 남성_3539세 유동인구   | NUMBER                 | (18, 2)                | \n",
       "| 13                     | MAN_FLOW_POP_CNT_4044  | 남성_4044세 유동인구   | NUMBER                 | (18, 2)                | \n",
       "| 14                     | MAN_FLOW_POP_CNT_4549  | 남성_4549세 유동인구   | NUMBER                 | (18, 2)                | \n",
       "| 15                     | MAN_FLOW_POP_CNT_5054  | 남성_5054세 유동인구   | NUMBER                 | (18, 2)                | \n",
       "| 16                     | MAN_FLOW_POP_CNT_5559  | 남성_5559세 유동인구   | NUMBER                 | (18, 2)                | \n",
       "| 17                     | MAN_FLOW_POP_CNT_6064  | 남성_6064세 유동인구   | NUMBER                 | (18, 2)                | \n",
       "| 18                     | MAN_FLOW_POP_CNT_6569  | 남성_6569세 유동인구   | NUMBER                 | (18, 2)                | \n",
       "| 19                     | MAN_FLOW_POP_CNT_70U   | 남성_70세이상 유동인구 | NUMBER                 | (18, 2)                | \n",
       "| 20                     | WMAN_FLOW_POP_CNT_0004 | 여성_0004세 유동인구   | NUMBER                 | (18, 2)                | \n",
       "| 21                     | WMAN_FLOW_POP_CNT_0509 | 여성_0509세 유동인구   | NUMBER                 | (18, 2)                | \n",
       "| 22                     | WMAN_FLOW_POP_CNT_1014 | 여성_1014세 유동인구   | NUMBER                 | (18, 2)                | \n",
       "| 23                     | WMAN_FLOW_POP_CNT_1519 | 여성_1519세 유동인구   | NUMBER                 | (18, 2)                | \n",
       "| 24                     | WMAN_FLOW_POP_CNT_2024 | 여성_2024세 유동인구   | NUMBER                 | (18, 2)                | \n",
       "| 25                     | WMAN_FLOW_POP_CNT_2529 | 여성_2529세 유동인구   | NUMBER                 | (18, 2)                | \n",
       "| 26                     | WMAN_FLOW_POP_CNT_3034 | 여성_3034세 유동인구   | NUMBER                 | (18, 2)                | \n",
       "| 27                     | WMAN_FLOW_POP_CNT_3539 | 여성_3539세 유동인구   | NUMBER                 | (18, 2)                | \n",
       "| 28                     | WMAN_FLOW_POP_CNT_4044 | 여성_4044세 유동인구   | NUMBER                 | (18, 2)                | \n",
       "| 29                     | WMAN_FLOW_POP_CNT_4549 | 여성_4549세 유동인구   | NUMBER                 | (18, 2)                | \n",
       "| 30                     | WMAN_FLOW_POP_CNT_5054 | 여성_5054세 유동인구   | NUMBER                 | (18, 2)                | \n",
       "| 31                     | WMAN_FLOW_POP_CNT_5559 | 여성_5559세 유동인구   | NUMBER                 | (18, 2)                | \n",
       "| 32                     | WMAN_FLOW_POP_CNT_6064 | 여성_6064세 유동인구   | NUMBER                 | (18, 2)                | \n",
       "| 33                     | WMAN_FLOW_POP_CNT_6569 | 여성_6569세 유동인구   | NUMBER                 | (18, 2)                | \n",
       "| 34                     | WMAN_FLOW_POP_CNT_70U  | 여성_70세이상 유동인구 | NUMBER                 | (18, 2)                | \n",
       "\n",
       "\n"
      ],
      "text/plain": [
       "   No. 컬럼ID                 컬럼명                 타입     길이   \n",
       "1   1  STD_YM                 년월                   VARCHAR2 6      \n",
       "2   2  STD_YMD                년월일                 VARCHAR2 8      \n",
       "3   3  HDONG_CD               행정동코드             VARCHAR2 10     \n",
       "4   4  HDONG_NM               행정동명칭             VARCHAR2 50     \n",
       "5   5  MAN_FLOW_POP_CNT_0004  남성_0004세 유동인구   NUMBER   (18, 2)\n",
       "6   6  MAN_FLOW_POP_CNT_0509  남성_0509세 유동인구   NUMBER   (18, 2)\n",
       "7   7  MAN_FLOW_POP_CNT_1014  남성_1014세 유동인구   NUMBER   (18, 2)\n",
       "8   8  MAN_FLOW_POP_CNT_1519  남성_1519세 유동인구   NUMBER   (18, 2)\n",
       "9   9  MAN_FLOW_POP_CNT_2024  남성_2024세 유동인구   NUMBER   (18, 2)\n",
       "10 10  MAN_FLOW_POP_CNT_2529  남성_2529세 유동인구   NUMBER   (18, 2)\n",
       "11 11  MAN_FLOW_POP_CNT_3034  남성_3034세 유동인구   NUMBER   (18, 2)\n",
       "12 12  MAN_FLOW_POP_CNT_3539  남성_3539세 유동인구   NUMBER   (18, 2)\n",
       "13 13  MAN_FLOW_POP_CNT_4044  남성_4044세 유동인구   NUMBER   (18, 2)\n",
       "14 14  MAN_FLOW_POP_CNT_4549  남성_4549세 유동인구   NUMBER   (18, 2)\n",
       "15 15  MAN_FLOW_POP_CNT_5054  남성_5054세 유동인구   NUMBER   (18, 2)\n",
       "16 16  MAN_FLOW_POP_CNT_5559  남성_5559세 유동인구   NUMBER   (18, 2)\n",
       "17 17  MAN_FLOW_POP_CNT_6064  남성_6064세 유동인구   NUMBER   (18, 2)\n",
       "18 18  MAN_FLOW_POP_CNT_6569  남성_6569세 유동인구   NUMBER   (18, 2)\n",
       "19 19  MAN_FLOW_POP_CNT_70U   남성_70세이상 유동인구 NUMBER   (18, 2)\n",
       "20 20  WMAN_FLOW_POP_CNT_0004 여성_0004세 유동인구   NUMBER   (18, 2)\n",
       "21 21  WMAN_FLOW_POP_CNT_0509 여성_0509세 유동인구   NUMBER   (18, 2)\n",
       "22 22  WMAN_FLOW_POP_CNT_1014 여성_1014세 유동인구   NUMBER   (18, 2)\n",
       "23 23  WMAN_FLOW_POP_CNT_1519 여성_1519세 유동인구   NUMBER   (18, 2)\n",
       "24 24  WMAN_FLOW_POP_CNT_2024 여성_2024세 유동인구   NUMBER   (18, 2)\n",
       "25 25  WMAN_FLOW_POP_CNT_2529 여성_2529세 유동인구   NUMBER   (18, 2)\n",
       "26 26  WMAN_FLOW_POP_CNT_3034 여성_3034세 유동인구   NUMBER   (18, 2)\n",
       "27 27  WMAN_FLOW_POP_CNT_3539 여성_3539세 유동인구   NUMBER   (18, 2)\n",
       "28 28  WMAN_FLOW_POP_CNT_4044 여성_4044세 유동인구   NUMBER   (18, 2)\n",
       "29 29  WMAN_FLOW_POP_CNT_4549 여성_4549세 유동인구   NUMBER   (18, 2)\n",
       "30 30  WMAN_FLOW_POP_CNT_5054 여성_5054세 유동인구   NUMBER   (18, 2)\n",
       "31 31  WMAN_FLOW_POP_CNT_5559 여성_5559세 유동인구   NUMBER   (18, 2)\n",
       "32 32  WMAN_FLOW_POP_CNT_6064 여성_6064세 유동인구   NUMBER   (18, 2)\n",
       "33 33  WMAN_FLOW_POP_CNT_6569 여성_6569세 유동인구   NUMBER   (18, 2)\n",
       "34 34  WMAN_FLOW_POP_CNT_70U  여성_70세이상 유동인구 NUMBER   (18, 2)"
      ]
     },
     "metadata": {},
     "output_type": "display_data"
    }
   ],
   "source": [
    "doc4"
   ]
  },
  {
   "cell_type": "code",
   "execution_count": 67,
   "metadata": {},
   "outputs": [
    {
     "data": {
      "text/html": [
       "<table>\n",
       "<thead><tr><th scope=col>STD_YM</th><th scope=col>4_</th><th scope=col>5_9</th><th scope=col>10_14</th><th scope=col>15_19</th></tr></thead>\n",
       "<tbody>\n",
       "\t<tr><td>201804 </td><td> 248.94</td><td> 248.94</td><td> 248.94</td><td>1999485</td></tr>\n",
       "\t<tr><td>201805 </td><td> 229.16</td><td> 229.16</td><td> 229.16</td><td>2277846</td></tr>\n",
       "\t<tr><td>201806 </td><td> 302.73</td><td> 302.73</td><td> 302.73</td><td>1942572</td></tr>\n",
       "\t<tr><td>201807 </td><td> 309.97</td><td> 309.97</td><td> 309.97</td><td>1860376</td></tr>\n",
       "\t<tr><td>201808 </td><td> 418.38</td><td> 418.38</td><td> 418.38</td><td>1721401</td></tr>\n",
       "\t<tr><td>201809 </td><td> 756.65</td><td> 756.65</td><td> 756.65</td><td>1917962</td></tr>\n",
       "\t<tr><td>201810 </td><td>1128.64</td><td>1128.64</td><td>1128.64</td><td>2079058</td></tr>\n",
       "\t<tr><td>201811 </td><td>1957.30</td><td>1957.30</td><td>1957.30</td><td>2113674</td></tr>\n",
       "\t<tr><td>201812 </td><td> 944.45</td><td> 944.45</td><td> 944.45</td><td>1873017</td></tr>\n",
       "\t<tr><td>201901 </td><td> 628.84</td><td> 628.84</td><td> 628.84</td><td>1407258</td></tr>\n",
       "\t<tr><td>201902 </td><td> 709.06</td><td> 709.06</td><td> 709.06</td><td>1427881</td></tr>\n",
       "\t<tr><td>201903 </td><td> 938.54</td><td> 938.54</td><td> 938.54</td><td>2115836</td></tr>\n",
       "</tbody>\n",
       "</table>\n"
      ],
      "text/latex": [
       "\\begin{tabular}{r|lllll}\n",
       " STD\\_YM & 4\\_ & 5\\_9 & 10\\_14 & 15\\_19\\\\\n",
       "\\hline\n",
       "\t 201804  &  248.94 &  248.94 &  248.94 & 1999485\\\\\n",
       "\t 201805  &  229.16 &  229.16 &  229.16 & 2277846\\\\\n",
       "\t 201806  &  302.73 &  302.73 &  302.73 & 1942572\\\\\n",
       "\t 201807  &  309.97 &  309.97 &  309.97 & 1860376\\\\\n",
       "\t 201808  &  418.38 &  418.38 &  418.38 & 1721401\\\\\n",
       "\t 201809  &  756.65 &  756.65 &  756.65 & 1917962\\\\\n",
       "\t 201810  & 1128.64 & 1128.64 & 1128.64 & 2079058\\\\\n",
       "\t 201811  & 1957.30 & 1957.30 & 1957.30 & 2113674\\\\\n",
       "\t 201812  &  944.45 &  944.45 &  944.45 & 1873017\\\\\n",
       "\t 201901  &  628.84 &  628.84 &  628.84 & 1407258\\\\\n",
       "\t 201902  &  709.06 &  709.06 &  709.06 & 1427881\\\\\n",
       "\t 201903  &  938.54 &  938.54 &  938.54 & 2115836\\\\\n",
       "\\end{tabular}\n"
      ],
      "text/markdown": [
       "\n",
       "STD_YM | 4_ | 5_9 | 10_14 | 15_19 | \n",
       "|---|---|---|---|---|---|---|---|---|---|---|---|\n",
       "| 201804  |  248.94 |  248.94 |  248.94 | 1999485 | \n",
       "| 201805  |  229.16 |  229.16 |  229.16 | 2277846 | \n",
       "| 201806  |  302.73 |  302.73 |  302.73 | 1942572 | \n",
       "| 201807  |  309.97 |  309.97 |  309.97 | 1860376 | \n",
       "| 201808  |  418.38 |  418.38 |  418.38 | 1721401 | \n",
       "| 201809  |  756.65 |  756.65 |  756.65 | 1917962 | \n",
       "| 201810  | 1128.64 | 1128.64 | 1128.64 | 2079058 | \n",
       "| 201811  | 1957.30 | 1957.30 | 1957.30 | 2113674 | \n",
       "| 201812  |  944.45 |  944.45 |  944.45 | 1873017 | \n",
       "| 201901  |  628.84 |  628.84 |  628.84 | 1407258 | \n",
       "| 201902  |  709.06 |  709.06 |  709.06 | 1427881 | \n",
       "| 201903  |  938.54 |  938.54 |  938.54 | 2115836 | \n",
       "\n",
       "\n"
      ],
      "text/plain": [
       "   STD_YM 4_      5_9     10_14   15_19  \n",
       "1  201804  248.94  248.94  248.94 1999485\n",
       "2  201805  229.16  229.16  229.16 2277846\n",
       "3  201806  302.73  302.73  302.73 1942572\n",
       "4  201807  309.97  309.97  309.97 1860376\n",
       "5  201808  418.38  418.38  418.38 1721401\n",
       "6  201809  756.65  756.65  756.65 1917962\n",
       "7  201810 1128.64 1128.64 1128.64 2079058\n",
       "8  201811 1957.30 1957.30 1957.30 2113674\n",
       "9  201812  944.45  944.45  944.45 1873017\n",
       "10 201901  628.84  628.84  628.84 1407258\n",
       "11 201902  709.06  709.06  709.06 1427881\n",
       "12 201903  938.54  938.54  938.54 2115836"
      ]
     },
     "metadata": {},
     "output_type": "display_data"
    }
   ],
   "source": [
    "sel <- c(\"MAN_FLOW_POP_CNT_0004\", \"MAN_FLOW_POP_CNT_0509\", \"MAN_FLOW_POP_CNT_1014\", \"MAN_FLOW_POP_CNT_1519\")\n",
    "mv_pop_0_20 <- all_year_dat %>% group_by(STD_YM) %>% summarize(\"4_\"=sum(MAN_FLOW_POP_CNT_0004),\n",
    "                                                \"5_9\"=sum(MAN_FLOW_POP_CNT_0509),\n",
    "                                                \"10_14\"=sum(MMAN_FLOW_POP_CNT_1014),\n",
    "                                                \"15_19\"=sum(MAN_FLOW_POP_CNT_1519))\n",
    "mv_pop_0_20"
   ]
  },
  {
   "cell_type": "code",
   "execution_count": 73,
   "metadata": {},
   "outputs": [
    {
     "data": {
      "text/html": [
       "<table>\n",
       "<thead><tr><th scope=col>STD_YM</th><th scope=col>4_</th><th scope=col>5_9</th><th scope=col>10_14</th><th scope=col>15_19</th><th scope=col>total</th></tr></thead>\n",
       "<tbody>\n",
       "\t<tr><td>201804 </td><td> 248.94</td><td> 248.94</td><td> 248.94</td><td>1999485</td><td>2000232</td></tr>\n",
       "\t<tr><td>201805 </td><td> 229.16</td><td> 229.16</td><td> 229.16</td><td>2277846</td><td>2278533</td></tr>\n",
       "\t<tr><td>201806 </td><td> 302.73</td><td> 302.73</td><td> 302.73</td><td>1942572</td><td>1943480</td></tr>\n",
       "\t<tr><td>201807 </td><td> 309.97</td><td> 309.97</td><td> 309.97</td><td>1860376</td><td>1861306</td></tr>\n",
       "\t<tr><td>201808 </td><td> 418.38</td><td> 418.38</td><td> 418.38</td><td>1721401</td><td>1722656</td></tr>\n",
       "\t<tr><td>201809 </td><td> 756.65</td><td> 756.65</td><td> 756.65</td><td>1917962</td><td>1920232</td></tr>\n",
       "\t<tr><td>201810 </td><td>1128.64</td><td>1128.64</td><td>1128.64</td><td>2079058</td><td>2082444</td></tr>\n",
       "\t<tr><td>201811 </td><td>1957.30</td><td>1957.30</td><td>1957.30</td><td>2113674</td><td>2119545</td></tr>\n",
       "\t<tr><td>201812 </td><td> 944.45</td><td> 944.45</td><td> 944.45</td><td>1873017</td><td>1875850</td></tr>\n",
       "\t<tr><td>201901 </td><td> 628.84</td><td> 628.84</td><td> 628.84</td><td>1407258</td><td>1409144</td></tr>\n",
       "\t<tr><td>201902 </td><td> 709.06</td><td> 709.06</td><td> 709.06</td><td>1427881</td><td>1430008</td></tr>\n",
       "\t<tr><td>201903 </td><td> 938.54</td><td> 938.54</td><td> 938.54</td><td>2115836</td><td>2118651</td></tr>\n",
       "</tbody>\n",
       "</table>\n"
      ],
      "text/latex": [
       "\\begin{tabular}{r|llllll}\n",
       " STD\\_YM & 4\\_ & 5\\_9 & 10\\_14 & 15\\_19 & total\\\\\n",
       "\\hline\n",
       "\t 201804  &  248.94 &  248.94 &  248.94 & 1999485 & 2000232\\\\\n",
       "\t 201805  &  229.16 &  229.16 &  229.16 & 2277846 & 2278533\\\\\n",
       "\t 201806  &  302.73 &  302.73 &  302.73 & 1942572 & 1943480\\\\\n",
       "\t 201807  &  309.97 &  309.97 &  309.97 & 1860376 & 1861306\\\\\n",
       "\t 201808  &  418.38 &  418.38 &  418.38 & 1721401 & 1722656\\\\\n",
       "\t 201809  &  756.65 &  756.65 &  756.65 & 1917962 & 1920232\\\\\n",
       "\t 201810  & 1128.64 & 1128.64 & 1128.64 & 2079058 & 2082444\\\\\n",
       "\t 201811  & 1957.30 & 1957.30 & 1957.30 & 2113674 & 2119545\\\\\n",
       "\t 201812  &  944.45 &  944.45 &  944.45 & 1873017 & 1875850\\\\\n",
       "\t 201901  &  628.84 &  628.84 &  628.84 & 1407258 & 1409144\\\\\n",
       "\t 201902  &  709.06 &  709.06 &  709.06 & 1427881 & 1430008\\\\\n",
       "\t 201903  &  938.54 &  938.54 &  938.54 & 2115836 & 2118651\\\\\n",
       "\\end{tabular}\n"
      ],
      "text/markdown": [
       "\n",
       "STD_YM | 4_ | 5_9 | 10_14 | 15_19 | total | \n",
       "|---|---|---|---|---|---|---|---|---|---|---|---|\n",
       "| 201804  |  248.94 |  248.94 |  248.94 | 1999485 | 2000232 | \n",
       "| 201805  |  229.16 |  229.16 |  229.16 | 2277846 | 2278533 | \n",
       "| 201806  |  302.73 |  302.73 |  302.73 | 1942572 | 1943480 | \n",
       "| 201807  |  309.97 |  309.97 |  309.97 | 1860376 | 1861306 | \n",
       "| 201808  |  418.38 |  418.38 |  418.38 | 1721401 | 1722656 | \n",
       "| 201809  |  756.65 |  756.65 |  756.65 | 1917962 | 1920232 | \n",
       "| 201810  | 1128.64 | 1128.64 | 1128.64 | 2079058 | 2082444 | \n",
       "| 201811  | 1957.30 | 1957.30 | 1957.30 | 2113674 | 2119545 | \n",
       "| 201812  |  944.45 |  944.45 |  944.45 | 1873017 | 1875850 | \n",
       "| 201901  |  628.84 |  628.84 |  628.84 | 1407258 | 1409144 | \n",
       "| 201902  |  709.06 |  709.06 |  709.06 | 1427881 | 1430008 | \n",
       "| 201903  |  938.54 |  938.54 |  938.54 | 2115836 | 2118651 | \n",
       "\n",
       "\n"
      ],
      "text/plain": [
       "   STD_YM 4_      5_9     10_14   15_19   total  \n",
       "1  201804  248.94  248.94  248.94 1999485 2000232\n",
       "2  201805  229.16  229.16  229.16 2277846 2278533\n",
       "3  201806  302.73  302.73  302.73 1942572 1943480\n",
       "4  201807  309.97  309.97  309.97 1860376 1861306\n",
       "5  201808  418.38  418.38  418.38 1721401 1722656\n",
       "6  201809  756.65  756.65  756.65 1917962 1920232\n",
       "7  201810 1128.64 1128.64 1128.64 2079058 2082444\n",
       "8  201811 1957.30 1957.30 1957.30 2113674 2119545\n",
       "9  201812  944.45  944.45  944.45 1873017 1875850\n",
       "10 201901  628.84  628.84  628.84 1407258 1409144\n",
       "11 201902  709.06  709.06  709.06 1427881 1430008\n",
       "12 201903  938.54  938.54  938.54 2115836 2118651"
      ]
     },
     "metadata": {},
     "output_type": "display_data"
    },
    {
     "name": "stdout",
     "output_type": "stream",
     "text": [
      "Classes 'tbl_df', 'tbl' and 'data.frame':\t12 obs. of  6 variables:\n",
      " $ STD_YM: int  201804 201805 201806 201807 201808 201809 201810 201811 201812 201901 ...\n",
      " $ 4_    : num  249 229 303 310 418 ...\n",
      " $ 5_9   : num  249 229 303 310 418 ...\n",
      " $ 10_14 : num  249 229 303 310 418 ...\n",
      " $ 15_19 : num  1999485 2277846 1942572 1860376 1721401 ...\n",
      " $ total : num  2000232 2278533 1943480 1861306 1722656 ...\n"
     ]
    }
   ],
   "source": [
    "mv_pop_0_20$total <- mv_pop_0_20$`4_` + mv_pop_0_20$`5_9` + mv_pop_0_20$`10_14` + mv_pop_0_20$`15_19`\n",
    "mv_pop_0_20\n",
    "str(mv_pop_0_20)"
   ]
  },
  {
   "cell_type": "markdown",
   "metadata": {},
   "source": [
    "### 총 유동인구 : 2018년 5월과 2019년 3월에 가장 많았다."
   ]
  },
  {
   "cell_type": "code",
   "execution_count": 78,
   "metadata": {},
   "outputs": [
    {
     "data": {},
     "metadata": {},
     "output_type": "display_data"
    },
    {
     "data": {
      "image/png": "[encoded data removed]",
      "text/plain": [
       "plot without title"
      ]
     },
     "metadata": {},
     "output_type": "display_data"
    }
   ],
   "source": [
    "ggplot(mv_pop_0_20, aes(x=factor(STD_YM), y=total)) + geom_col()"
   ]
  },
  {
   "cell_type": "code",
   "execution_count": null,
   "metadata": {},
   "outputs": [],
   "source": []
  }
 ],
 "metadata": {
  "kernelspec": {
   "display_name": "R",
   "language": "R",
   "name": "ir"
  },
  "language_info": {
   "codemirror_mode": "r",
   "file_extension": ".r",
   "mimetype": "text/x-r-source",
   "name": "R",
   "pygments_lexer": "r",
   "version": "3.5.1"
  }
 },
 "nbformat": 4,
 "nbformat_minor": 2
}
