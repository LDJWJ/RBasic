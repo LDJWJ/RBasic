{
 "cells": [
  {
   "cell_type": "markdown",
   "metadata": {},
   "source": [
    "### 01 실전 데이터 분석"
   ]
  },
  {
   "cell_type": "code",
   "execution_count": 1,
   "metadata": {},
   "outputs": [],
   "source": [
    "library(readxl)"
   ]
  },
  {
   "cell_type": "code",
   "execution_count": 5,
   "metadata": {},
   "outputs": [
    {
     "data": {
      "text/html": [
       "<table>\n",
       "<thead><tr><th scope=col>sheet_name</th><th scope=col>content</th><th scope=col>sheet_num</th><th scope=col>filename</th><th scope=col>detail</th></tr></thead>\n",
       "<tbody>\n",
       "\t<tr><td>01_delay_pro                                            </td><td>지연확률문제                                            </td><td>1                                                       </td><td>AFSNT_DLY.CSV                                           </td><td>2019.9.16 ~ 2019.9.30 까지 지연건수 및 지연확률 계산    </td></tr>\n",
       "\t<tr><td>01_Flight performance                                   </td><td>운항실적                                                </td><td>2                                                       </td><td>AFSNT.CSV                                               </td><td>2017.1.1 ~ 2019. 6.30 까지의 운항실적 데이터(학습데이터)</td></tr>\n",
       "\t<tr><td>01_Flight Season                                        </td><td>운항시즌                                                </td><td>3                                                       </td><td>SFSNT.CSV                                               </td><td>2019년 하계 스케줄 중 7월~9월이 포함된 시즌데이터       </td></tr>\n",
       "\t<tr><td>02_delay_code                                           </td><td>지연결항코드                                            </td><td>4                                                       </td><td>NA                                                      </td><td>지연결항코드                                            </td></tr>\n",
       "\t<tr><td>03_data_delay_problem                                   </td><td>지연문제_샘플                                           </td><td>5                                                       </td><td>AFSNT_DLY.CSV                                           </td><td>지연문제_샘플데이터                                     </td></tr>\n",
       "\t<tr><td>03_data_flight_performance                              </td><td>운항실적_샘플                                           </td><td>6                                                       </td><td>AFSNT.CSV                                               </td><td>운항실적_샘플데이터                                     </td></tr>\n",
       "\t<tr><td>03_data_flight_season                                   </td><td>운항시즌_샘플                                           </td><td>7                                                       </td><td>SFSNT.CSV                                               </td><td>운항시즌_샘플데이터                                     </td></tr>\n",
       "</tbody>\n",
       "</table>\n"
      ],
      "text/latex": [
       "\\begin{tabular}{r|lllll}\n",
       " sheet\\_name & content & sheet\\_num & filename & detail\\\\\n",
       "\\hline\n",
       "\t 01\\_delay\\_pro                                                          & 지연확률문제                                                              & 1                                                                         & AFSNT\\_DLY.CSV                                                           & 2019.9.16 \\textasciitilde{} 2019.9.30 까지 지연건수 및 지연확률 계산    \\\\\n",
       "\t 01\\_Flight performance                                                   & 운항실적                                                                  & 2                                                                         & AFSNT.CSV                                                                 & 2017.1.1 \\textasciitilde{} 2019. 6.30 까지의 운항실적 데이터(학습데이터)\\\\\n",
       "\t 01\\_Flight Season                                                        & 운항시즌                                                                  & 3                                                                         & SFSNT.CSV                                                                 & 2019년 하계 스케줄 중 7월\\textasciitilde{}9월이 포함된 시즌데이터       \\\\\n",
       "\t 02\\_delay\\_code                                        & 지연결항코드                                             & 4                                                        & NA                                                       & 지연결항코드                                            \\\\\n",
       "\t 03\\_data\\_delay\\_problem                                & 지연문제\\_샘플                                            & 5                                                          & AFSNT\\_DLY.CSV                                            & 지연문제\\_샘플데이터                                     \\\\\n",
       "\t 03\\_data\\_flight\\_performance                           & 운항실적\\_샘플                                            & 6                                                          & AFSNT.CSV                                                  & 운항실적\\_샘플데이터                                     \\\\\n",
       "\t 03\\_data\\_flight\\_season                                & 운항시즌\\_샘플                                            & 7                                                          & SFSNT.CSV                                                  & 운항시즌\\_샘플데이터                                     \\\\\n",
       "\\end{tabular}\n"
      ],
      "text/markdown": [
       "\n",
       "sheet_name | content | sheet_num | filename | detail | \n",
       "|---|---|---|---|---|---|---|\n",
       "| 01_delay_pro                                             | 지연확률문제                                             | 1                                                        | AFSNT_DLY.CSV                                            | 2019.9.16 ~ 2019.9.30 까지 지연건수 및 지연확률 계산     | \n",
       "| 01_Flight performance                                    | 운항실적                                                 | 2                                                        | AFSNT.CSV                                                | 2017.1.1 ~ 2019. 6.30 까지의 운항실적 데이터(학습데이터) | \n",
       "| 01_Flight Season                                         | 운항시즌                                                 | 3                                                        | SFSNT.CSV                                                | 2019년 하계 스케줄 중 7월~9월이 포함된 시즌데이터        | \n",
       "| 02_delay_code                                            | 지연결항코드                                             | 4                                                        | NA                                                       | 지연결항코드                                             | \n",
       "| 03_data_delay_problem                                    | 지연문제_샘플                                            | 5                                                        | AFSNT_DLY.CSV                                            | 지연문제_샘플데이터                                      | \n",
       "| 03_data_flight_performance                               | 운항실적_샘플                                            | 6                                                        | AFSNT.CSV                                                | 운항실적_샘플데이터                                      | \n",
       "| 03_data_flight_season                                    | 운항시즌_샘플                                            | 7                                                        | SFSNT.CSV                                                | 운항시즌_샘플데이터                                      | \n",
       "\n",
       "\n"
      ],
      "text/plain": [
       "  sheet_name                 content       sheet_num filename     \n",
       "1 01_delay_pro               지연확률문제  1         AFSNT_DLY.CSV\n",
       "2 01_Flight performance      운항실적      2         AFSNT.CSV    \n",
       "3 01_Flight Season           운항시즌      3         SFSNT.CSV    \n",
       "4 02_delay_code              지연결항코드  4         NA           \n",
       "5 03_data_delay_problem      지연문제_샘플 5         AFSNT_DLY.CSV\n",
       "6 03_data_flight_performance 운항실적_샘플 6         AFSNT.CSV    \n",
       "7 03_data_flight_season      운항시즌_샘플 7         SFSNT.CSV    \n",
       "  detail                                                  \n",
       "1 2019.9.16 ~ 2019.9.30 까지 지연건수 및 지연확률 계산    \n",
       "2 2017.1.1 ~ 2019. 6.30 까지의 운항실적 데이터(학습데이터)\n",
       "3 2019년 하계 스케줄 중 7월~9월이 포함된 시즌데이터       \n",
       "4 지연결항코드                                            \n",
       "5 지연문제_샘플데이터                                     \n",
       "6 운항실적_샘플데이터                                     \n",
       "7 운항시즌_샘플데이터                                     "
      ]
     },
     "metadata": {},
     "output_type": "display_data"
    }
   ],
   "source": [
    "doc <- read_excel(\"D:\\\\dataset\\\\11_future_league\\\\dataDoc.xlsx\", sheet = 1)\n",
    "doc"
   ]
  },
  {
   "cell_type": "markdown",
   "metadata": {},
   "source": [
    "## 데이터 셋 : AFSNT_DLY.csv\n",
    "* 지연확률문제\n",
    "* 2019.9.16 ~ 2019.9.30 까지 지연건수 및 지연확률 계산"
   ]
  },
  {
   "cell_type": "code",
   "execution_count": 6,
   "metadata": {},
   "outputs": [
    {
     "data": {
      "text/html": [
       "<table>\n",
       "<thead><tr><th scope=col>테이블정의서</th><th scope=col>X__1</th><th scope=col>X__2</th><th scope=col>X__3</th><th scope=col>X__4</th><th scope=col>X__5</th></tr></thead>\n",
       "<tbody>\n",
       "\t<tr><td>파일명                                              </td><td>NA                                                  </td><td>AFSNT_DLY.CSV                                       </td><td>NA                                                  </td><td>NA                                                  </td><td>NA                                                  </td></tr>\n",
       "\t<tr><td>테이블설명                                          </td><td>NA                                                  </td><td>2019.9.16 ~ 2019.9.30 까지 지연건수 및 지연확률 계산</td><td>NA                                                  </td><td>NA                                                  </td><td>NA                                                  </td></tr>\n",
       "\t<tr><td>No.                                                 </td><td>컬럼ID                                              </td><td>컬럼명                                              </td><td>타입                                                </td><td>NULL                                                </td><td>비고                                                </td></tr>\n",
       "\t<tr><td>1                                                   </td><td>SDT_YY                                              </td><td>연                                                  </td><td>VARCHAR2(8)                                         </td><td>N                                                   </td><td>NA                                                  </td></tr>\n",
       "\t<tr><td>2                                                   </td><td>SDT_MM                                              </td><td>월                                                  </td><td>VARCHAR2(8)                                         </td><td>N                                                   </td><td>NA                                                  </td></tr>\n",
       "\t<tr><td>3                                                   </td><td>SDT_DD                                              </td><td>일                                                  </td><td>VARCHAR2(8)                                         </td><td>N                                                   </td><td>NA                                                  </td></tr>\n",
       "\t<tr><td>4                                                   </td><td>SDT_DY                                              </td><td>요일                                                </td><td>VARCHAR2(8)                                         </td><td>N                                                   </td><td>NA                                                  </td></tr>\n",
       "\t<tr><td>5                                                   </td><td>ARP                                                 </td><td>공항                                                </td><td>VARCHAR2(4)                                         </td><td>N                                                   </td><td>NA                                                  </td></tr>\n",
       "\t<tr><td>6                                                   </td><td>ODP                                                 </td><td>상대공항                                            </td><td>VARCHAR2(4)                                         </td><td>N                                                   </td><td>NA                                                  </td></tr>\n",
       "\t<tr><td>7                                                   </td><td>FLO                                                 </td><td>항공사                                              </td><td>VARCHAR2(3)                                         </td><td>N                                                   </td><td>NA                                                  </td></tr>\n",
       "\t<tr><td>8                                                   </td><td>FLT                                                 </td><td>편명                                                </td><td>VARCHAR2(10)                                        </td><td>N                                                   </td><td>NA                                                  </td></tr>\n",
       "\t<tr><td>9                                                   </td><td>AOD                                                 </td><td>출도착                                              </td><td>CHAR(1)                                             </td><td>N                                                   </td><td>A:도착, D:출발                                      </td></tr>\n",
       "\t<tr><td>10                                                  </td><td>STT                                                 </td><td>계획시각                                            </td><td>CHAR(8)                                             </td><td>N                                                   </td><td>NA                                                  </td></tr>\n",
       "\t<tr><td>11                                                  </td><td>DLY                                                 </td><td>지연여부                                            </td><td>CHAR(1)                                             </td><td>Y                                                   </td><td>지연:1, 정상:0                                      </td></tr>\n",
       "\t<tr><td>12                                                  </td><td>DLY_RATE                                            </td><td>지연확률                                            </td><td>NUMBER(8)                                           </td><td>Y                                                   </td><td>소수점 셋째자리에서 반올림                          </td></tr>\n",
       "</tbody>\n",
       "</table>\n"
      ],
      "text/latex": [
       "\\begin{tabular}{r|llllll}\n",
       " 테이블정의서 & X\\_\\_1 & X\\_\\_2 & X\\_\\_3 & X\\_\\_4 & X\\_\\_5\\\\\n",
       "\\hline\n",
       "\t 파일명                                                 & NA                                                     & AFSNT\\_DLY.CSV                                        & NA                                                     & NA                                                     & NA                                                    \\\\\n",
       "\t 테이블설명                                                            & NA                                                                    & 2019.9.16 \\textasciitilde{} 2019.9.30 까지 지연건수 및 지연확률 계산 & NA                                                                    & NA                                                                    & NA                                                                   \\\\\n",
       "\t No.                                                  & 컬럼ID                                               & 컬럼명                                               & 타입                                                 & NULL                                                 & 비고                                                \\\\\n",
       "\t 1                                                    & SDT\\_YY                                             & 연                                                   & VARCHAR2(8)                                          & N                                                    & NA                                                  \\\\\n",
       "\t 2                                                    & SDT\\_MM                                             & 월                                                   & VARCHAR2(8)                                          & N                                                    & NA                                                  \\\\\n",
       "\t 3                                                    & SDT\\_DD                                             & 일                                                   & VARCHAR2(8)                                          & N                                                    & NA                                                  \\\\\n",
       "\t 4                                                    & SDT\\_DY                                             & 요일                                                 & VARCHAR2(8)                                          & N                                                    & NA                                                  \\\\\n",
       "\t 5                                                    & ARP                                                  & 공항                                                 & VARCHAR2(4)                                          & N                                                    & NA                                                  \\\\\n",
       "\t 6                                                    & ODP                                                  & 상대공항                                             & VARCHAR2(4)                                          & N                                                    & NA                                                  \\\\\n",
       "\t 7                                                    & FLO                                                  & 항공사                                               & VARCHAR2(3)                                          & N                                                    & NA                                                  \\\\\n",
       "\t 8                                                    & FLT                                                  & 편명                                                 & VARCHAR2(10)                                         & N                                                    & NA                                                  \\\\\n",
       "\t 9                                                    & AOD                                                  & 출도착                                               & CHAR(1)                                              & N                                                    & A:도착, D:출발                                      \\\\\n",
       "\t 10                                                   & STT                                                  & 계획시각                                             & CHAR(8)                                              & N                                                    & NA                                                  \\\\\n",
       "\t 11                                                   & DLY                                                  & 지연여부                                             & CHAR(1)                                              & Y                                                    & 지연:1, 정상:0                                      \\\\\n",
       "\t 12                                                   & DLY\\_RATE                                           & 지연확률                                             & NUMBER(8)                                            & Y                                                    & 소수점 셋째자리에서 반올림                          \\\\\n",
       "\\end{tabular}\n"
      ],
      "text/markdown": [
       "\n",
       "테이블정의서 | X__1 | X__2 | X__3 | X__4 | X__5 | \n",
       "|---|---|---|---|---|---|---|---|---|---|---|---|---|---|---|\n",
       "| 파일명                                               | NA                                                   | AFSNT_DLY.CSV                                        | NA                                                   | NA                                                   | NA                                                   | \n",
       "| 테이블설명                                           | NA                                                   | 2019.9.16 ~ 2019.9.30 까지 지연건수 및 지연확률 계산 | NA                                                   | NA                                                   | NA                                                   | \n",
       "| No.                                                  | 컬럼ID                                               | 컬럼명                                               | 타입                                                 | NULL                                                 | 비고                                                 | \n",
       "| 1                                                    | SDT_YY                                               | 연                                                   | VARCHAR2(8)                                          | N                                                    | NA                                                   | \n",
       "| 2                                                    | SDT_MM                                               | 월                                                   | VARCHAR2(8)                                          | N                                                    | NA                                                   | \n",
       "| 3                                                    | SDT_DD                                               | 일                                                   | VARCHAR2(8)                                          | N                                                    | NA                                                   | \n",
       "| 4                                                    | SDT_DY                                               | 요일                                                 | VARCHAR2(8)                                          | N                                                    | NA                                                   | \n",
       "| 5                                                    | ARP                                                  | 공항                                                 | VARCHAR2(4)                                          | N                                                    | NA                                                   | \n",
       "| 6                                                    | ODP                                                  | 상대공항                                             | VARCHAR2(4)                                          | N                                                    | NA                                                   | \n",
       "| 7                                                    | FLO                                                  | 항공사                                               | VARCHAR2(3)                                          | N                                                    | NA                                                   | \n",
       "| 8                                                    | FLT                                                  | 편명                                                 | VARCHAR2(10)                                         | N                                                    | NA                                                   | \n",
       "| 9                                                    | AOD                                                  | 출도착                                               | CHAR(1)                                              | N                                                    | A:도착, D:출발                                       | \n",
       "| 10                                                   | STT                                                  | 계획시각                                             | CHAR(8)                                              | N                                                    | NA                                                   | \n",
       "| 11                                                   | DLY                                                  | 지연여부                                             | CHAR(1)                                              | Y                                                    | 지연:1, 정상:0                                       | \n",
       "| 12                                                   | DLY_RATE                                             | 지연확률                                             | NUMBER(8)                                            | Y                                                    | 소수점 셋째자리에서 반올림                           | \n",
       "\n",
       "\n"
      ],
      "text/plain": [
       "   테이블정의서 X__1     X__2                                                \n",
       "1  파일명       NA       AFSNT_DLY.CSV                                       \n",
       "2  테이블설명   NA       2019.9.16 ~ 2019.9.30 까지 지연건수 및 지연확률 계산\n",
       "3  No.          컬럼ID   컬럼명                                              \n",
       "4  1            SDT_YY   연                                                  \n",
       "5  2            SDT_MM   월                                                  \n",
       "6  3            SDT_DD   일                                                  \n",
       "7  4            SDT_DY   요일                                                \n",
       "8  5            ARP      공항                                                \n",
       "9  6            ODP      상대공항                                            \n",
       "10 7            FLO      항공사                                              \n",
       "11 8            FLT      편명                                                \n",
       "12 9            AOD      출도착                                              \n",
       "13 10           STT      계획시각                                            \n",
       "14 11           DLY      지연여부                                            \n",
       "15 12           DLY_RATE 지연확률                                            \n",
       "   X__3         X__4 X__5                      \n",
       "1  NA           NA   NA                        \n",
       "2  NA           NA   NA                        \n",
       "3  타입         NULL 비고                      \n",
       "4  VARCHAR2(8)  N    NA                        \n",
       "5  VARCHAR2(8)  N    NA                        \n",
       "6  VARCHAR2(8)  N    NA                        \n",
       "7  VARCHAR2(8)  N    NA                        \n",
       "8  VARCHAR2(4)  N    NA                        \n",
       "9  VARCHAR2(4)  N    NA                        \n",
       "10 VARCHAR2(3)  N    NA                        \n",
       "11 VARCHAR2(10) N    NA                        \n",
       "12 CHAR(1)      N    A:도착, D:출발            \n",
       "13 CHAR(8)      N    NA                        \n",
       "14 CHAR(1)      Y    지연:1, 정상:0            \n",
       "15 NUMBER(8)    Y    소수점 셋째자리에서 반올림"
      ]
     },
     "metadata": {},
     "output_type": "display_data"
    }
   ],
   "source": [
    "doc1 <- read_excel(\"D:\\\\dataset\\\\11_future_league\\\\dataDoc.xlsx\", sheet = 2)\n",
    "doc1"
   ]
  },
  {
   "cell_type": "code",
   "execution_count": 38,
   "metadata": {},
   "outputs": [
    {
     "data": {
      "text/html": [
       "<ol class=list-inline>\n",
       "\t<li>16076</li>\n",
       "\t<li>12</li>\n",
       "</ol>\n"
      ],
      "text/latex": [
       "\\begin{enumerate*}\n",
       "\\item 16076\n",
       "\\item 12\n",
       "\\end{enumerate*}\n"
      ],
      "text/markdown": [
       "1. 16076\n",
       "2. 12\n",
       "\n",
       "\n"
      ],
      "text/plain": [
       "[1] 16076    12"
      ]
     },
     "metadata": {},
     "output_type": "display_data"
    },
    {
     "data": {
      "text/html": [
       "<table>\n",
       "<thead><tr><th scope=col>SDT_YY</th><th scope=col>SDT_MM</th><th scope=col>SDT_DD</th><th scope=col>SDT_DY</th><th scope=col>ARP</th><th scope=col>ODP</th><th scope=col>FLO</th><th scope=col>FLT</th><th scope=col>AOD</th><th scope=col>STT</th><th scope=col>DLY</th><th scope=col>DLY_RATE</th></tr></thead>\n",
       "<tbody>\n",
       "\t<tr><td>2019 </td><td>9    </td><td>16   </td><td>월   </td><td>ARP1 </td><td>ARP3 </td><td>L    </td><td>L1702</td><td>A    </td><td>9:05 </td><td>NA   </td><td>NA   </td></tr>\n",
       "\t<tr><td>2019 </td><td>9    </td><td>16   </td><td>월   </td><td>ARP3 </td><td>ARP1 </td><td>L    </td><td>L1702</td><td>D    </td><td>7:55 </td><td>NA   </td><td>NA   </td></tr>\n",
       "\t<tr><td>2019 </td><td>9    </td><td>16   </td><td>월   </td><td>`    </td><td>ARP3 </td><td>L    </td><td>L1720</td><td>A    </td><td>14:40</td><td>NA   </td><td>NA   </td></tr>\n",
       "\t<tr><td>2019 </td><td>9    </td><td>16   </td><td>월   </td><td>ARP3 </td><td>ARP1 </td><td>L    </td><td>L1720</td><td>D    </td><td>13:30</td><td>NA   </td><td>NA   </td></tr>\n",
       "\t<tr><td>2019 </td><td>9    </td><td>16   </td><td>월   </td><td>ARP4 </td><td>ARP3 </td><td>L    </td><td>L1808</td><td>A    </td><td>20:10</td><td>NA   </td><td>NA   </td></tr>\n",
       "\t<tr><td>2019 </td><td>9    </td><td>16   </td><td>월   </td><td>ARP3 </td><td>ARP4 </td><td>L    </td><td>L1808</td><td>D    </td><td>19:10</td><td>NA   </td><td>NA   </td></tr>\n",
       "</tbody>\n",
       "</table>\n"
      ],
      "text/latex": [
       "\\begin{tabular}{r|llllllllllll}\n",
       " SDT\\_YY & SDT\\_MM & SDT\\_DD & SDT\\_DY & ARP & ODP & FLO & FLT & AOD & STT & DLY & DLY\\_RATE\\\\\n",
       "\\hline\n",
       "\t 2019  & 9     & 16    & 월    & ARP1  & ARP3  & L     & L1702 & A     & 9:05  & NA    & NA   \\\\\n",
       "\t 2019  & 9     & 16    & 월    & ARP3  & ARP1  & L     & L1702 & D     & 7:55  & NA    & NA   \\\\\n",
       "\t 2019  & 9     & 16    & 월    & `     & ARP3  & L     & L1720 & A     & 14:40 & NA    & NA   \\\\\n",
       "\t 2019  & 9     & 16    & 월    & ARP3  & ARP1  & L     & L1720 & D     & 13:30 & NA    & NA   \\\\\n",
       "\t 2019  & 9     & 16    & 월    & ARP4  & ARP3  & L     & L1808 & A     & 20:10 & NA    & NA   \\\\\n",
       "\t 2019  & 9     & 16    & 월    & ARP3  & ARP4  & L     & L1808 & D     & 19:10 & NA    & NA   \\\\\n",
       "\\end{tabular}\n"
      ],
      "text/markdown": [
       "\n",
       "SDT_YY | SDT_MM | SDT_DD | SDT_DY | ARP | ODP | FLO | FLT | AOD | STT | DLY | DLY_RATE | \n",
       "|---|---|---|---|---|---|\n",
       "| 2019  | 9     | 16    | 월    | ARP1  | ARP3  | L     | L1702 | A     | 9:05  | NA    | NA    | \n",
       "| 2019  | 9     | 16    | 월    | ARP3  | ARP1  | L     | L1702 | D     | 7:55  | NA    | NA    | \n",
       "| 2019  | 9     | 16    | 월    | `     | ARP3  | L     | L1720 | A     | 14:40 | NA    | NA    | \n",
       "| 2019  | 9     | 16    | 월    | ARP3  | ARP1  | L     | L1720 | D     | 13:30 | NA    | NA    | \n",
       "| 2019  | 9     | 16    | 월    | ARP4  | ARP3  | L     | L1808 | A     | 20:10 | NA    | NA    | \n",
       "| 2019  | 9     | 16    | 월    | ARP3  | ARP4  | L     | L1808 | D     | 19:10 | NA    | NA    | \n",
       "\n",
       "\n"
      ],
      "text/plain": [
       "  SDT_YY SDT_MM SDT_DD SDT_DY ARP  ODP  FLO FLT   AOD STT   DLY DLY_RATE\n",
       "1 2019   9      16     월     ARP1 ARP3 L   L1702 A   9:05  NA  NA      \n",
       "2 2019   9      16     월     ARP3 ARP1 L   L1702 D   7:55  NA  NA      \n",
       "3 2019   9      16     월     `    ARP3 L   L1720 A   14:40 NA  NA      \n",
       "4 2019   9      16     월     ARP3 ARP1 L   L1720 D   13:30 NA  NA      \n",
       "5 2019   9      16     월     ARP4 ARP3 L   L1808 A   20:10 NA  NA      \n",
       "6 2019   9      16     월     ARP3 ARP4 L   L1808 D   19:10 NA  NA      "
      ]
     },
     "metadata": {},
     "output_type": "display_data"
    },
    {
     "data": {
      "text/plain": [
       "     SDT_YY         SDT_MM      SDT_DD      SDT_DY         ARP      \n",
       " Min.   :2019   Min.   :9   Min.   :16.00   금:2172   ARP3   :6504  \n",
       " 1st Qu.:2019   1st Qu.:9   1st Qu.:19.00   목:2124   ARP1   :4960  \n",
       " Median :2019   Median :9   Median :23.00   수:2128   ARP2   :1909  \n",
       " Mean   :2019   Mean   :9   Mean   :23.01   월:3228   ARP6   : 580  \n",
       " 3rd Qu.:2019   3rd Qu.:9   3rd Qu.:27.00   일:2148   ARP4   : 554  \n",
       " Max.   :2019   Max.   :9   Max.   :30.00   토:2144   ARP8   : 540  \n",
       "                                            화:2132   (Other):1029  \n",
       "      ODP            FLO            FLT        AOD           STT       \n",
       " ARP3   :6504   J      :4464   A1120  :   30   A:8038   9:30   :  167  \n",
       " ARP1   :4961   A      :2892   A1121  :   30   D:8038   15:00  :  159  \n",
       " ARP2   :1909   B      :2234   A1124  :   30            21:05  :  159  \n",
       " ARP6   : 580   H      :1954   A1125  :   30            15:30  :  158  \n",
       " ARP4   : 554   I      :1680   A1128  :   30            18:10  :  157  \n",
       " ARP8   : 540   F      :1388   A1129  :   30            16:00  :  154  \n",
       " (Other):1028   (Other):1464   (Other):15896            (Other):15122  \n",
       "   DLY          DLY_RATE      \n",
       " Mode:logical   Mode:logical  \n",
       " NA's:16076     NA's:16076    \n",
       "                              \n",
       "                              \n",
       "                              \n",
       "                              \n",
       "                              "
      ]
     },
     "metadata": {},
     "output_type": "display_data"
    },
    {
     "name": "stdout",
     "output_type": "stream",
     "text": [
      "'data.frame':\t16076 obs. of  12 variables:\n",
      " $ SDT_YY  : int  2019 2019 2019 2019 2019 2019 2019 2019 2019 2019 ...\n",
      " $ SDT_MM  : int  9 9 9 9 9 9 9 9 9 9 ...\n",
      " $ SDT_DD  : int  16 16 16 16 16 16 16 16 16 16 ...\n",
      " $ SDT_DY  : Factor w/ 7 levels \"금\",\"목\",\"수\",..: 4 4 4 4 4 4 4 4 4 4 ...\n",
      " $ ARP     : Factor w/ 16 levels \"`\",\"ARP1\",\"ARP10\",..: 2 10 1 10 11 10 10 16 10 2 ...\n",
      " $ ODP     : Factor w/ 15 levels \"ARP1\",\"ARP10\",..: 9 1 9 1 9 10 15 9 1 9 ...\n",
      " $ FLO     : Factor w/ 8 levels \"A\",\"B\",\"F\",\"H\",..: 7 7 7 7 7 7 6 6 7 7 ...\n",
      " $ FLT     : Factor w/ 601 levels \"A1001\",\"A1002\",..: 545 545 563 563 587 587 534 534 546 546 ...\n",
      " $ AOD     : Factor w/ 2 levels \"A\",\"D\": 1 2 1 2 1 2 1 2 1 2 ...\n",
      " $ STT     : Factor w/ 198 levels \"10:00\",\"10:05\",..: 188 174 58 44 124 112 74 62 177 163 ...\n",
      " $ DLY     : logi  NA NA NA NA NA NA ...\n",
      " $ DLY_RATE: logi  NA NA NA NA NA NA ...\n"
     ]
    },
    {
     "data": {
      "text/plain": [
       "\n",
       " <NA> \n",
       "16076 "
      ]
     },
     "metadata": {},
     "output_type": "display_data"
    }
   ],
   "source": [
    "AFSNT_DLY <- read.csv(\"D:\\\\dataset\\\\11_future_league\\\\AFSNT_DLY.csv\")\n",
    "dim(AFSNT_DLY)  # 행열 확인 \n",
    "head(AFSNT_DLY) # 앞의 6행 데이터 확인\n",
    "summary(AFSNT_DLY) # 요약값 확인\n",
    "str(AFSNT_DLY)     # 데이터 자료형 및 구조 확인\n",
    "table(AFSNT_DLY$DLY, exclude = NULL)"
   ]
  },
  {
   "cell_type": "code",
   "execution_count": null,
   "metadata": {},
   "outputs": [],
   "source": []
  },
  {
   "cell_type": "markdown",
   "metadata": {},
   "source": [
    "### 컬렴명 확인"
   ]
  },
  {
   "cell_type": "code",
   "execution_count": 8,
   "metadata": {},
   "outputs": [
    {
     "data": {
      "text/html": [
       "<ol class=list-inline>\n",
       "\t<li>'AFSNT_DLY.CSV'</li>\n",
       "\t<li>'2019.9.16 ~ 2019.9.30 까지 지연건수 및 지연확률 계산'</li>\n",
       "\t<li>'컬럼명'</li>\n",
       "\t<li>'연'</li>\n",
       "\t<li>'월'</li>\n",
       "\t<li>'일'</li>\n",
       "\t<li>'요일'</li>\n",
       "\t<li>'공항'</li>\n",
       "\t<li>'상대공항'</li>\n",
       "\t<li>'항공사'</li>\n",
       "\t<li>'편명'</li>\n",
       "\t<li>'출도착'</li>\n",
       "\t<li>'계획시각'</li>\n",
       "\t<li>'지연여부'</li>\n",
       "\t<li>'지연확률'</li>\n",
       "</ol>\n"
      ],
      "text/latex": [
       "\\begin{enumerate*}\n",
       "\\item 'AFSNT\\_DLY.CSV'\n",
       "\\item '2019.9.16 \\textasciitilde{} 2019.9.30 까지 지연건수 및 지연확률 계산'\n",
       "\\item '컬럼명'\n",
       "\\item '연'\n",
       "\\item '월'\n",
       "\\item '일'\n",
       "\\item '요일'\n",
       "\\item '공항'\n",
       "\\item '상대공항'\n",
       "\\item '항공사'\n",
       "\\item '편명'\n",
       "\\item '출도착'\n",
       "\\item '계획시각'\n",
       "\\item '지연여부'\n",
       "\\item '지연확률'\n",
       "\\end{enumerate*}\n"
      ],
      "text/markdown": [
       "1. 'AFSNT_DLY.CSV'\n",
       "2. '2019.9.16 ~ 2019.9.30 까지 지연건수 및 지연확률 계산'\n",
       "3. '컬럼명'\n",
       "4. '연'\n",
       "5. '월'\n",
       "6. '일'\n",
       "7. '요일'\n",
       "8. '공항'\n",
       "9. '상대공항'\n",
       "10. '항공사'\n",
       "11. '편명'\n",
       "12. '출도착'\n",
       "13. '계획시각'\n",
       "14. '지연여부'\n",
       "15. '지연확률'\n",
       "\n",
       "\n"
      ],
      "text/plain": [
       " [1] \"AFSNT_DLY.CSV\"                                       \n",
       " [2] \"2019.9.16 ~ 2019.9.30 까지 지연건수 및 지연확률 계산\"\n",
       " [3] \"컬럼명\"                                              \n",
       " [4] \"연\"                                                  \n",
       " [5] \"월\"                                                  \n",
       " [6] \"일\"                                                  \n",
       " [7] \"요일\"                                                \n",
       " [8] \"공항\"                                                \n",
       " [9] \"상대공항\"                                            \n",
       "[10] \"항공사\"                                              \n",
       "[11] \"편명\"                                                \n",
       "[12] \"출도착\"                                              \n",
       "[13] \"계획시각\"                                            \n",
       "[14] \"지연여부\"                                            \n",
       "[15] \"지연확률\"                                            "
      ]
     },
     "metadata": {},
     "output_type": "display_data"
    }
   ],
   "source": [
    "doc1$X__2"
   ]
  },
  {
   "cell_type": "code",
   "execution_count": 11,
   "metadata": {},
   "outputs": [
    {
     "name": "stderr",
     "output_type": "stream",
     "text": [
      "\n",
      "Attaching package: 'dplyr'\n",
      "\n",
      "The following objects are masked from 'package:stats':\n",
      "\n",
      "    filter, lag\n",
      "\n",
      "The following objects are masked from 'package:base':\n",
      "\n",
      "    intersect, setdiff, setequal, union\n",
      "\n"
     ]
    }
   ],
   "source": [
    "library(dplyr)"
   ]
  },
  {
   "cell_type": "code",
   "execution_count": 26,
   "metadata": {},
   "outputs": [
    {
     "data": {
      "text/html": [
       "<table>\n",
       "<thead><tr><th scope=col>X__2</th></tr></thead>\n",
       "<tbody>\n",
       "\t<tr><td>연      </td></tr>\n",
       "\t<tr><td>월      </td></tr>\n",
       "\t<tr><td>일      </td></tr>\n",
       "\t<tr><td>요일    </td></tr>\n",
       "\t<tr><td>공항    </td></tr>\n",
       "\t<tr><td>상대공항</td></tr>\n",
       "\t<tr><td>항공사  </td></tr>\n",
       "\t<tr><td>편명    </td></tr>\n",
       "\t<tr><td>출도착  </td></tr>\n",
       "\t<tr><td>계획시각</td></tr>\n",
       "\t<tr><td>지연여부</td></tr>\n",
       "\t<tr><td>지연확률</td></tr>\n",
       "</tbody>\n",
       "</table>\n"
      ],
      "text/latex": [
       "\\begin{tabular}{r|l}\n",
       " X\\_\\_2\\\\\n",
       "\\hline\n",
       "\t 연      \\\\\n",
       "\t 월      \\\\\n",
       "\t 일      \\\\\n",
       "\t 요일    \\\\\n",
       "\t 공항    \\\\\n",
       "\t 상대공항\\\\\n",
       "\t 항공사  \\\\\n",
       "\t 편명    \\\\\n",
       "\t 출도착  \\\\\n",
       "\t 계획시각\\\\\n",
       "\t 지연여부\\\\\n",
       "\t 지연확률\\\\\n",
       "\\end{tabular}\n"
      ],
      "text/markdown": [
       "\n",
       "X__2 | \n",
       "|---|---|---|---|---|---|---|---|---|---|---|---|\n",
       "| 연       | \n",
       "| 월       | \n",
       "| 일       | \n",
       "| 요일     | \n",
       "| 공항     | \n",
       "| 상대공항 | \n",
       "| 항공사   | \n",
       "| 편명     | \n",
       "| 출도착   | \n",
       "| 계획시각 | \n",
       "| 지연여부 | \n",
       "| 지연확률 | \n",
       "\n",
       "\n"
      ],
      "text/plain": [
       "   X__2    \n",
       "1  연      \n",
       "2  월      \n",
       "3  일      \n",
       "4  요일    \n",
       "5  공항    \n",
       "6  상대공항\n",
       "7  항공사  \n",
       "8  편명    \n",
       "9  출도착  \n",
       "10 계획시각\n",
       "11 지연여부\n",
       "12 지연확률"
      ]
     },
     "metadata": {},
     "output_type": "display_data"
    }
   ],
   "source": [
    "dat <- doc1 %>% select(X__2)  # 설명열만 가져오기 \n",
    "dat_col <- dat[4:nrow(dat), ] # 1-3행은 제외\n",
    "dat_col"
   ]
  },
  {
   "cell_type": "code",
   "execution_count": 7,
   "metadata": {},
   "outputs": [
    {
     "data": {
      "text/html": [
       "<ol class=list-inline>\n",
       "\t<li>'SDT_YY'</li>\n",
       "\t<li>'SDT_MM'</li>\n",
       "\t<li>'SDT_DD'</li>\n",
       "\t<li>'SDT_DY'</li>\n",
       "\t<li>'ARP'</li>\n",
       "\t<li>'ODP'</li>\n",
       "\t<li>'FLO'</li>\n",
       "\t<li>'FLT'</li>\n",
       "\t<li>'AOD'</li>\n",
       "\t<li>'STT'</li>\n",
       "\t<li>'DLY'</li>\n",
       "\t<li>'DLY_RATE'</li>\n",
       "</ol>\n"
      ],
      "text/latex": [
       "\\begin{enumerate*}\n",
       "\\item 'SDT\\_YY'\n",
       "\\item 'SDT\\_MM'\n",
       "\\item 'SDT\\_DD'\n",
       "\\item 'SDT\\_DY'\n",
       "\\item 'ARP'\n",
       "\\item 'ODP'\n",
       "\\item 'FLO'\n",
       "\\item 'FLT'\n",
       "\\item 'AOD'\n",
       "\\item 'STT'\n",
       "\\item 'DLY'\n",
       "\\item 'DLY\\_RATE'\n",
       "\\end{enumerate*}\n"
      ],
      "text/markdown": [
       "1. 'SDT_YY'\n",
       "2. 'SDT_MM'\n",
       "3. 'SDT_DD'\n",
       "4. 'SDT_DY'\n",
       "5. 'ARP'\n",
       "6. 'ODP'\n",
       "7. 'FLO'\n",
       "8. 'FLT'\n",
       "9. 'AOD'\n",
       "10. 'STT'\n",
       "11. 'DLY'\n",
       "12. 'DLY_RATE'\n",
       "\n",
       "\n"
      ],
      "text/plain": [
       " [1] \"SDT_YY\"   \"SDT_MM\"   \"SDT_DD\"   \"SDT_DY\"   \"ARP\"      \"ODP\"     \n",
       " [7] \"FLO\"      \"FLT\"      \"AOD\"      \"STT\"      \"DLY\"      \"DLY_RATE\""
      ]
     },
     "metadata": {},
     "output_type": "display_data"
    }
   ],
   "source": [
    "names(AFSNT_DLY)"
   ]
  },
  {
   "cell_type": "code",
   "execution_count": 29,
   "metadata": {},
   "outputs": [],
   "source": [
    "AFSNT_DLY_doc <- data.frame(dat_col, names(AFSNT_DLY))"
   ]
  },
  {
   "cell_type": "code",
   "execution_count": 30,
   "metadata": {},
   "outputs": [
    {
     "data": {
      "text/html": [
       "<ol class=list-inline>\n",
       "\t<li>'AFSNT_DLY'</li>\n",
       "\t<li>'AFSNT_DLY_doc'</li>\n",
       "\t<li>'dat'</li>\n",
       "\t<li>'dat_col'</li>\n",
       "\t<li>'doc'</li>\n",
       "\t<li>'doc1'</li>\n",
       "\t<li>'sel'</li>\n",
       "</ol>\n"
      ],
      "text/latex": [
       "\\begin{enumerate*}\n",
       "\\item 'AFSNT\\_DLY'\n",
       "\\item 'AFSNT\\_DLY\\_doc'\n",
       "\\item 'dat'\n",
       "\\item 'dat\\_col'\n",
       "\\item 'doc'\n",
       "\\item 'doc1'\n",
       "\\item 'sel'\n",
       "\\end{enumerate*}\n"
      ],
      "text/markdown": [
       "1. 'AFSNT_DLY'\n",
       "2. 'AFSNT_DLY_doc'\n",
       "3. 'dat'\n",
       "4. 'dat_col'\n",
       "5. 'doc'\n",
       "6. 'doc1'\n",
       "7. 'sel'\n",
       "\n",
       "\n"
      ],
      "text/plain": [
       "[1] \"AFSNT_DLY\"     \"AFSNT_DLY_doc\" \"dat\"           \"dat_col\"      \n",
       "[5] \"doc\"           \"doc1\"          \"sel\"          "
      ]
     },
     "metadata": {},
     "output_type": "display_data"
    }
   ],
   "source": [
    "ls()"
   ]
  },
  {
   "cell_type": "code",
   "execution_count": 31,
   "metadata": {},
   "outputs": [
    {
     "data": {
      "text/html": [
       "<table>\n",
       "<thead><tr><th scope=col>X__2</th><th scope=col>names.AFSNT_DLY.</th></tr></thead>\n",
       "<tbody>\n",
       "\t<tr><td>연      </td><td>SDT_YY  </td></tr>\n",
       "\t<tr><td>월      </td><td>SDT_MM  </td></tr>\n",
       "\t<tr><td>일      </td><td>SDT_DD  </td></tr>\n",
       "\t<tr><td>요일    </td><td>SDT_DY  </td></tr>\n",
       "\t<tr><td>공항    </td><td>ARP     </td></tr>\n",
       "\t<tr><td>상대공항</td><td>ODP     </td></tr>\n",
       "\t<tr><td>항공사  </td><td>FLO     </td></tr>\n",
       "\t<tr><td>편명    </td><td>FLT     </td></tr>\n",
       "\t<tr><td>출도착  </td><td>AOD     </td></tr>\n",
       "\t<tr><td>계획시각</td><td>STT     </td></tr>\n",
       "\t<tr><td>지연여부</td><td>DLY     </td></tr>\n",
       "\t<tr><td>지연확률</td><td>DLY_RATE</td></tr>\n",
       "</tbody>\n",
       "</table>\n"
      ],
      "text/latex": [
       "\\begin{tabular}{r|ll}\n",
       " X\\_\\_2 & names.AFSNT\\_DLY.\\\\\n",
       "\\hline\n",
       "\t 연         & SDT\\_YY  \\\\\n",
       "\t 월         & SDT\\_MM  \\\\\n",
       "\t 일         & SDT\\_DD  \\\\\n",
       "\t 요일       & SDT\\_DY  \\\\\n",
       "\t 공항     & ARP     \\\\\n",
       "\t 상대공항 & ODP     \\\\\n",
       "\t 항공사   & FLO     \\\\\n",
       "\t 편명     & FLT     \\\\\n",
       "\t 출도착   & AOD     \\\\\n",
       "\t 계획시각 & STT     \\\\\n",
       "\t 지연여부 & DLY     \\\\\n",
       "\t 지연확률   & DLY\\_RATE\\\\\n",
       "\\end{tabular}\n"
      ],
      "text/markdown": [
       "\n",
       "X__2 | names.AFSNT_DLY. | \n",
       "|---|---|---|---|---|---|---|---|---|---|---|---|\n",
       "| 연       | SDT_YY   | \n",
       "| 월       | SDT_MM   | \n",
       "| 일       | SDT_DD   | \n",
       "| 요일     | SDT_DY   | \n",
       "| 공항     | ARP      | \n",
       "| 상대공항 | ODP      | \n",
       "| 항공사   | FLO      | \n",
       "| 편명     | FLT      | \n",
       "| 출도착   | AOD      | \n",
       "| 계획시각 | STT      | \n",
       "| 지연여부 | DLY      | \n",
       "| 지연확률 | DLY_RATE | \n",
       "\n",
       "\n"
      ],
      "text/plain": [
       "   X__2     names.AFSNT_DLY.\n",
       "1  연       SDT_YY          \n",
       "2  월       SDT_MM          \n",
       "3  일       SDT_DD          \n",
       "4  요일     SDT_DY          \n",
       "5  공항     ARP             \n",
       "6  상대공항 ODP             \n",
       "7  항공사   FLO             \n",
       "8  편명     FLT             \n",
       "9  출도착   AOD             \n",
       "10 계획시각 STT             \n",
       "11 지연여부 DLY             \n",
       "12 지연확률 DLY_RATE        "
      ]
     },
     "metadata": {},
     "output_type": "display_data"
    }
   ],
   "source": [
    "AFSNT_DLY_doc"
   ]
  },
  {
   "cell_type": "markdown",
   "metadata": {},
   "source": [
    "### 모델 만들기"
   ]
  },
  {
   "cell_type": "code",
   "execution_count": null,
   "metadata": {},
   "outputs": [],
   "source": [
    "sel <- c(\"SDT_YY\", \"SDT_MM\", \"SDT_DD\", \"DLY\")"
   ]
  }
 ],
 "metadata": {
  "kernelspec": {
   "display_name": "R",
   "language": "R",
   "name": "ir"
  },
  "language_info": {
   "codemirror_mode": "r",
   "file_extension": ".r",
   "mimetype": "text/x-r-source",
   "name": "R",
   "pygments_lexer": "r",
   "version": "3.5.1"
  }
 },
 "nbformat": 4,
 "nbformat_minor": 2
}
