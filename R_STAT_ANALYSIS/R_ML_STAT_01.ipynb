{
 "cells": [
  {
   "cell_type": "markdown",
   "metadata": {},
   "source": [
    "## 01 가설 검정하기\n",
    "### 가설 검정의 단계\n",
    "* (가) 가설 설정\n",
    "* (나) 유의수준 설정\n",
    "* (다) 검정방법 설정\n",
    "* (라) P값 산출\n",
    "* (마) P값 유의수준보다 큰지 작은지 확인\n",
    "   * 귀무가설, 대립가설 중 채택"
   ]
  },
  {
   "cell_type": "code",
   "execution_count": null,
   "metadata": {},
   "outputs": [],
   "source": [
    "<img src=\"../img/W12_withStat01.png\">"
   ]
  }
 ],
 "metadata": {
  "kernelspec": {
   "display_name": "R",
   "language": "R",
   "name": "ir"
  },
  "language_info": {
   "codemirror_mode": "r",
   "file_extension": ".r",
   "mimetype": "text/x-r-source",
   "name": "R",
   "pygments_lexer": "r",
   "version": "3.5.1"
  }
 },
 "nbformat": 4,
 "nbformat_minor": 2
}
