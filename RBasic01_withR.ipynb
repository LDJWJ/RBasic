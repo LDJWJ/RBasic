{
 "cells": [
  {
   "cell_type": "markdown",
   "metadata": {},
   "source": [
    "## R 기본 시작"
   ]
  },
  {
   "cell_type": "markdown",
   "metadata": {},
   "source": [
    "## 학습 내용\n",
    "* 실습 파일 준비\n",
    "* R에 대해 알아보기\n",
    "* R 설치 및 환경 준비"
   ]
  },
  {
   "cell_type": "markdown",
   "metadata": {},
   "source": [
    "### 01. R에 대해 알아보기\n",
    "* R은 데이터 분석에 사용되는 소프트웨어.\n",
    "* R이 사용되는 분야 : \n",
    "   * 통계분석\n",
    "   * 머신러닝 모델링 (http://bit.ly/2s592z)\n",
    "   <img src=\"img/01_01_tree.png\">\n",
    "   * 텍스트 마이닝\n",
    "   * 소셜 네트워크 분석\n",
    "      * 참조 URL : https://bit.ly/2YMizPG\n",
    "   * 지도 시각화\n",
    "   * 주식 분석\n",
    "   * 이미지 분석\n",
    "   * 사운드 분석\n",
    "   * 웹 어플리케이션 개발(R Shiny)\n",
    "   <img src=\"img/01_02_shiny.png\">\n",
    "   http://shiny.rstudio.com/gallery/movie-explorer.html 참조\n"
   ]
  },
  {
   "cell_type": "markdown",
   "metadata": {},
   "source": [
    "### R의 도구에 대한 통계\n",
    "* 최신 업데이트 \n",
    "  * 2019/5/28(구인광고)\n",
    "  * 2019/3/29(학술 기사 섹션)\n",
    "  * 2019/3/19(Forrester Research Inc.의 IT Research Firm 섹션)\n",
    "  * 2/25/2019  Gartner, Inc.트위터(http://twitter.com/BobMuenchen)\n",
    "\n",
    "<img src=\"img/01_03_R_stat01.png\">\n",
    "<img src=\"img/01_03_R_stat02.png\">\n",
    "<img src=\"img/01_03_R_stat03.png\">\n",
    "<br> 최근 2년간의 구글 스칼라 인용 비율의 변화\n",
    "<img src=\"img/01_03_R_stat04.png\">\n",
    "<br> 전통적으로 학계에서 많이 사용되어왔던 SPSS와 SAS를 사용한 논문의 수가 해가 갈수록 줄어들고 있다.\n",
    "<img src=\"img/01_03_R_stat05.png\">\n",
    "<br> 2015년부터 2018년까지의 구글 스칼라 인용의 수.(통계 패키지)\n",
    "* https://bit.ly/1r1cNfU"
   ]
  },
  {
   "cell_type": "markdown",
   "metadata": {},
   "source": [
    "### R의 강점\n",
    "* R은 무료 사용이 가능한 오픈소스이다.\n",
    "* 뉴질랜드의 오클랜드대학교 통계학과 교수 로스 이하카와 로버트 젠틀맨이 만듬.\n",
    "* R사용자들이 패키지를 만들어 공유하는 사이트(https://cran.r-project.org/)\n",
    "  * 현재 19/08/12 14767개\n",
    "* 다양한 그래프를 구현이 가능함."
   ]
  },
  {
   "cell_type": "markdown",
   "metadata": {},
   "source": [
    "### R과 Python의 차이\n",
    "* 서로 다른 목적으로 개발되어 두 도구는 다른 특징을 가지고 있음.\n",
    "  * R은 분석용으로 만들어진 언어(데이터 처리와 통계 분석 기능)\n",
    "  * Python은 소프트웨어를 개발하는데 사용하는 프로그래밍 언어\n",
    "* Python은 텐서플로워, 케라스등과 같이 딥러닝 활용 라이브러리가 사용가능."
   ]
  },
  {
   "cell_type": "markdown",
   "metadata": {},
   "source": [
    "## 02. R 환경 구축\n",
    "* (1) R 설치 : https://cran.r-project.org/mirrors.html 참조\n",
    "<img src=\"img/01_04_R_Install.png\">\n",
    "<br> 컴퓨터 사양별 프로그램 다운로드\n",
    "* (2) R 설치\n",
    "<img src=\"img/01_04_R_Install02.png\"> \n",
    "* (3) R Studio 설치, R이 먼저 설치가 되어 있어야 함.\n",
    "  * https://www.rstudio.com/products/rstudio/download/\n",
    "  * RStudio Desktop -> Free 다운로드 후, 설치\n",
    "     * 설치시 관리자 권한으로 실행을 해서 설치해야 함.\n",
    "     * 원도우 사용자 계정이 한글로 되어 있으면 오류 발생할 수 있음.\n",
    "       * 변경하기 (제어판 - 사용자 계정 -사용자 계정 - 계정 이름 변경)"
   ]
  },
  {
   "cell_type": "markdown",
   "metadata": {},
   "source": [
    "### 03 실습해 보기\n",
    "* R studio에서 실습해 보기 위해 CTRL + Enter를 눌러 실행이 가능\n",
    "* 전체 명령 줄을 선택 후, 한꺼번에 실행도 가능함."
   ]
  },
  {
   "cell_type": "code",
   "execution_count": 2,
   "metadata": {},
   "outputs": [
    {
     "data": {
      "text/html": [
       "9"
      ],
      "text/latex": [
       "9"
      ],
      "text/markdown": [
       "9"
      ],
      "text/plain": [
       "[1] 9"
      ]
     },
     "metadata": {},
     "output_type": "display_data"
    }
   ],
   "source": [
    "4 + 5"
   ]
  },
  {
   "cell_type": "code",
   "execution_count": 3,
   "metadata": {},
   "outputs": [
    {
     "data": {
      "text/html": [
       "20"
      ],
      "text/latex": [
       "20"
      ],
      "text/markdown": [
       "20"
      ],
      "text/plain": [
       "[1] 20"
      ]
     },
     "metadata": {},
     "output_type": "display_data"
    }
   ],
   "source": [
    "4 * 5"
   ]
  }
 ],
 "metadata": {
  "kernelspec": {
   "display_name": "R",
   "language": "R",
   "name": "ir"
  },
  "language_info": {
   "codemirror_mode": "r",
   "file_extension": ".r",
   "mimetype": "text/x-r-source",
   "name": "R",
   "pygments_lexer": "r",
   "version": "3.5.1"
  }
 },
 "nbformat": 4,
 "nbformat_minor": 2
}
