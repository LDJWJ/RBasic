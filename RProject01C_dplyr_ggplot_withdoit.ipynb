{
 "cells": [
  {
   "cell_type": "markdown",
   "metadata": {},
   "source": [
    "### 한국인의 삶을 파악하라(3) - 직업별 월급의 관계\n",
    "* 어떤 직업이 월급을 가장 많이 받을까?"
   ]
  },
  {
   "cell_type": "markdown",
   "metadata": {},
   "source": [
    "### 학습내용\n",
    "* read_excel-sheet 이해하기\n",
    "* left_join() 이해하기\n",
    "* select() 이해하기 \n",
    "* filter( 조건 & 조건)\n",
    "* arrange(desc() ) 이해하기"
   ]
  },
  {
   "cell_type": "code",
   "execution_count": 17,
   "metadata": {},
   "outputs": [],
   "source": [
    "library(foreign)\n",
    "library(dplyr)\n",
    "library(ggplot2)\n",
    "library(readxl)"
   ]
  },
  {
   "cell_type": "code",
   "execution_count": 22,
   "metadata": {},
   "outputs": [
    {
     "name": "stderr",
     "output_type": "stream",
     "text": [
      "Warning message in read.spss(file = \"D:\\\\dataset\\\\R_Doit\\\\Koweps_hpc10_2015_beta1.sav\", :\n",
      "\"D:\\dataset\\R_Doit\\Koweps_hpc10_2015_beta1.sav: Compression bias (0) is not the usual value of 100\""
     ]
    }
   ],
   "source": [
    "dat_welfare <- read.spss(file=\"D:\\\\dataset\\\\R_Doit\\\\Koweps_hpc10_2015_beta1.sav\", to.data.frame=T)\n",
    "welfare <- dat_welfare"
   ]
  },
  {
   "cell_type": "code",
   "execution_count": 23,
   "metadata": {},
   "outputs": [],
   "source": [
    "welfare <- rename(welfare, \n",
    "                 sex=h10_g3,\n",
    "                 birth=h10_g4,\n",
    "                 marriage=h10_g10,\n",
    "                 religion=h10_g11,\n",
    "                 income=p1002_8aq1,\n",
    "                 code_job=h10_eco9,\n",
    "                 code_region=h10_reg7)\n"
   ]
  },
  {
   "cell_type": "code",
   "execution_count": 34,
   "metadata": {},
   "outputs": [
    {
     "data": {
      "text/html": [
       "<ol class=list-inline>\n",
       "\t<li>'sex'</li>\n",
       "\t<li>'birth'</li>\n",
       "\t<li>'marriage'</li>\n",
       "\t<li>'religion'</li>\n",
       "\t<li>'income'</li>\n",
       "\t<li>'code_job'</li>\n",
       "\t<li>'code_region'</li>\n",
       "</ol>\n"
      ],
      "text/latex": [
       "\\begin{enumerate*}\n",
       "\\item 'sex'\n",
       "\\item 'birth'\n",
       "\\item 'marriage'\n",
       "\\item 'religion'\n",
       "\\item 'income'\n",
       "\\item 'code\\_job'\n",
       "\\item 'code\\_region'\n",
       "\\end{enumerate*}\n"
      ],
      "text/markdown": [
       "1. 'sex'\n",
       "2. 'birth'\n",
       "3. 'marriage'\n",
       "4. 'religion'\n",
       "5. 'income'\n",
       "6. 'code_job'\n",
       "7. 'code_region'\n",
       "\n",
       "\n"
      ],
      "text/plain": [
       "[1] \"sex\"         \"birth\"       \"marriage\"    \"religion\"    \"income\"     \n",
       "[6] \"code_job\"    \"code_region\""
      ]
     },
     "metadata": {},
     "output_type": "display_data"
    }
   ],
   "source": [
    "welfare <- select(welfare, sex, birth, marriage, religion, income, code_job, code_region)\n",
    "names(welfare)"
   ]
  },
  {
   "cell_type": "markdown",
   "metadata": {},
   "source": [
    "### P3-1 변수 확인 및 전처리"
   ]
  },
  {
   "cell_type": "markdown",
   "metadata": {},
   "source": [
    "### 직업 : code_job, 월급 : income\n",
    "### 파일 읽어오기"
   ]
  },
  {
   "cell_type": "code",
   "execution_count": 35,
   "metadata": {},
   "outputs": [
    {
     "data": {
      "text/html": [
       "<table>\n",
       "<thead><tr><th scope=col>code_job</th><th scope=col>job</th></tr></thead>\n",
       "<tbody>\n",
       "\t<tr><td>111                                 </td><td>의회의원 고위공무원 및 공공단체임원 </td></tr>\n",
       "\t<tr><td>112                                 </td><td>기업고위임원                        </td></tr>\n",
       "\t<tr><td>120                                 </td><td>행정 및 경영지원 관리자             </td></tr>\n",
       "\t<tr><td>131                                 </td><td>연구 교육 및 법률 관련 관리자       </td></tr>\n",
       "\t<tr><td>132                                 </td><td>보험 및 금융 관리자                 </td></tr>\n",
       "\t<tr><td>133                                 </td><td>보건 및 사회복지 관련 관리자        </td></tr>\n",
       "\t<tr><td>134                                 </td><td>문화 예술 디자인 및 영상 관련 관리자</td></tr>\n",
       "\t<tr><td>135                                 </td><td>정보통신관련 관리자                 </td></tr>\n",
       "\t<tr><td>139                                 </td><td>기타 전문서비스 관리자              </td></tr>\n",
       "\t<tr><td>141                                 </td><td>건설 전기 및 생산 관련 관리자       </td></tr>\n",
       "\t<tr><td>149                                 </td><td>기타 건설 전기 및 생산 관련 관리자  </td></tr>\n",
       "\t<tr><td>151                                 </td><td>판매 및 운송 관리자                 </td></tr>\n",
       "\t<tr><td>152                                 </td><td>고객서비스 관리자                   </td></tr>\n",
       "\t<tr><td>153                                 </td><td>환경 청소 및 경비 관련 관리자       </td></tr>\n",
       "\t<tr><td>159                                 </td><td>기타 판매 및 고객서비스 관리자      </td></tr>\n",
       "\t<tr><td>211                                 </td><td>생명 및 자연 과학 관련 전문가       </td></tr>\n",
       "\t<tr><td>212                                 </td><td>인문 및 사회 과학 전문가            </td></tr>\n",
       "\t<tr><td>213                                 </td><td>생명 및 자연 과학 관련 시험원       </td></tr>\n",
       "\t<tr><td>221                                 </td><td>컴퓨터 하드웨어 및 통신공학 전문가  </td></tr>\n",
       "\t<tr><td>222                                 </td><td>정보시스템 개발 전문가              </td></tr>\n",
       "</tbody>\n",
       "</table>\n"
      ],
      "text/latex": [
       "\\begin{tabular}{r|ll}\n",
       " code\\_job & job\\\\\n",
       "\\hline\n",
       "\t 111                                  & 의회의원 고위공무원 및 공공단체임원 \\\\\n",
       "\t 112                                  & 기업고위임원                        \\\\\n",
       "\t 120                                  & 행정 및 경영지원 관리자             \\\\\n",
       "\t 131                                  & 연구 교육 및 법률 관련 관리자       \\\\\n",
       "\t 132                                  & 보험 및 금융 관리자                 \\\\\n",
       "\t 133                                  & 보건 및 사회복지 관련 관리자        \\\\\n",
       "\t 134                                  & 문화 예술 디자인 및 영상 관련 관리자\\\\\n",
       "\t 135                                  & 정보통신관련 관리자                 \\\\\n",
       "\t 139                                  & 기타 전문서비스 관리자              \\\\\n",
       "\t 141                                  & 건설 전기 및 생산 관련 관리자       \\\\\n",
       "\t 149                                  & 기타 건설 전기 및 생산 관련 관리자  \\\\\n",
       "\t 151                                  & 판매 및 운송 관리자                 \\\\\n",
       "\t 152                                  & 고객서비스 관리자                   \\\\\n",
       "\t 153                                  & 환경 청소 및 경비 관련 관리자       \\\\\n",
       "\t 159                                  & 기타 판매 및 고객서비스 관리자      \\\\\n",
       "\t 211                                  & 생명 및 자연 과학 관련 전문가       \\\\\n",
       "\t 212                                  & 인문 및 사회 과학 전문가            \\\\\n",
       "\t 213                                  & 생명 및 자연 과학 관련 시험원       \\\\\n",
       "\t 221                                  & 컴퓨터 하드웨어 및 통신공학 전문가  \\\\\n",
       "\t 222                                  & 정보시스템 개발 전문가              \\\\\n",
       "\\end{tabular}\n"
      ],
      "text/markdown": [
       "\n",
       "code_job | job | \n",
       "|---|---|---|---|---|---|---|---|---|---|---|---|---|---|---|---|---|---|---|---|\n",
       "| 111                                  | 의회의원 고위공무원 및 공공단체임원  | \n",
       "| 112                                  | 기업고위임원                         | \n",
       "| 120                                  | 행정 및 경영지원 관리자              | \n",
       "| 131                                  | 연구 교육 및 법률 관련 관리자        | \n",
       "| 132                                  | 보험 및 금융 관리자                  | \n",
       "| 133                                  | 보건 및 사회복지 관련 관리자         | \n",
       "| 134                                  | 문화 예술 디자인 및 영상 관련 관리자 | \n",
       "| 135                                  | 정보통신관련 관리자                  | \n",
       "| 139                                  | 기타 전문서비스 관리자               | \n",
       "| 141                                  | 건설 전기 및 생산 관련 관리자        | \n",
       "| 149                                  | 기타 건설 전기 및 생산 관련 관리자   | \n",
       "| 151                                  | 판매 및 운송 관리자                  | \n",
       "| 152                                  | 고객서비스 관리자                    | \n",
       "| 153                                  | 환경 청소 및 경비 관련 관리자        | \n",
       "| 159                                  | 기타 판매 및 고객서비스 관리자       | \n",
       "| 211                                  | 생명 및 자연 과학 관련 전문가        | \n",
       "| 212                                  | 인문 및 사회 과학 전문가             | \n",
       "| 213                                  | 생명 및 자연 과학 관련 시험원        | \n",
       "| 221                                  | 컴퓨터 하드웨어 및 통신공학 전문가   | \n",
       "| 222                                  | 정보시스템 개발 전문가               | \n",
       "\n",
       "\n"
      ],
      "text/plain": [
       "   code_job job                                 \n",
       "1  111      의회의원 고위공무원 및 공공단체임원 \n",
       "2  112      기업고위임원                        \n",
       "3  120      행정 및 경영지원 관리자             \n",
       "4  131      연구 교육 및 법률 관련 관리자       \n",
       "5  132      보험 및 금융 관리자                 \n",
       "6  133      보건 및 사회복지 관련 관리자        \n",
       "7  134      문화 예술 디자인 및 영상 관련 관리자\n",
       "8  135      정보통신관련 관리자                 \n",
       "9  139      기타 전문서비스 관리자              \n",
       "10 141      건설 전기 및 생산 관련 관리자       \n",
       "11 149      기타 건설 전기 및 생산 관련 관리자  \n",
       "12 151      판매 및 운송 관리자                 \n",
       "13 152      고객서비스 관리자                   \n",
       "14 153      환경 청소 및 경비 관련 관리자       \n",
       "15 159      기타 판매 및 고객서비스 관리자      \n",
       "16 211      생명 및 자연 과학 관련 전문가       \n",
       "17 212      인문 및 사회 과학 전문가            \n",
       "18 213      생명 및 자연 과학 관련 시험원       \n",
       "19 221      컴퓨터 하드웨어 및 통신공학 전문가  \n",
       "20 222      정보시스템 개발 전문가              "
      ]
     },
     "metadata": {},
     "output_type": "display_data"
    }
   ],
   "source": [
    "listjob <- read_excel(\"R_Doit/Koweps_Codebook.xlsx\", sheet=2)\n",
    "head(listjob,20)"
   ]
  },
  {
   "cell_type": "code",
   "execution_count": 36,
   "metadata": {},
   "outputs": [
    {
     "data": {
      "text/html": [
       "<ol class=list-inline>\n",
       "\t<li>149</li>\n",
       "\t<li>2</li>\n",
       "</ol>\n"
      ],
      "text/latex": [
       "\\begin{enumerate*}\n",
       "\\item 149\n",
       "\\item 2\n",
       "\\end{enumerate*}\n"
      ],
      "text/markdown": [
       "1. 149\n",
       "2. 2\n",
       "\n",
       "\n"
      ],
      "text/plain": [
       "[1] 149   2"
      ]
     },
     "metadata": {},
     "output_type": "display_data"
    }
   ],
   "source": [
    "dim(listjob)"
   ]
  },
  {
   "cell_type": "markdown",
   "metadata": {},
   "source": [
    "* 목록 코드와 직업\n",
    "* 직업이 149개로 분류"
   ]
  },
  {
   "cell_type": "markdown",
   "metadata": {},
   "source": [
    "### left_join()를 이용한 데이터 결합"
   ]
  },
  {
   "cell_type": "code",
   "execution_count": 37,
   "metadata": {},
   "outputs": [
    {
     "data": {
      "text/plain": [
       "\n",
       " 111  120  131  132  133  134  135  139  141  149  151  152  153  159  211  212 \n",
       "   2   16   10   11    9    3    7   10   35   20   26   18   15   16    8    4 \n",
       " 213  221  222  223  224  231  232  233  234  235  236  237  239  241  242  243 \n",
       "   3   17   31   12    4   41    5    3    6   48   14    2   29   12    4   63 \n",
       " 244  245  246  247  248  251  252  253  254  259  261  271  272  273  274  281 \n",
       "   4   33   59   77   38   14  111   24   67  109    4   15   11    4   36   17 \n",
       " 283  284  285  286  289  311  312  313  314  320  330  391  392  399  411  412 \n",
       "   8   10   26   16    5  140  260  220   84   75   15    4   13   87   47   12 \n",
       " 421  422  423  429  431  432  441  442  510  521  522  530  611  612  613  620 \n",
       " 124   71    5   14   20   33  154  197  192  353    5  106 1320   11   40    2 \n",
       " 630  710  721  722  730  741  742  743  751  752  753  761  762  771  772  773 \n",
       "  20   29   30   22   16   27    3   34   34    5   49   69   27   11   61   86 \n",
       " 774  780  791  792  799  811  812  819  821  822  823  831  832  841  842  843 \n",
       "   7   17    5   21   45   16    1    6    9    9   23    5   17   32   10    4 \n",
       " 851  852  853  854  855  861  862  863  864  871  873  874  875  876  881  882 \n",
       "  19   13    7   33    9    3   14   17   31    2  257   34   37    2    2    3 \n",
       " 891  892  899  910  921  922  930  941  942  951  952  953  991  992  999 1011 \n",
       "   8   19   16  102   31   74  289  325   99  125  122   73   45   12  141    2 \n",
       "1012 \n",
       "  17 "
      ]
     },
     "metadata": {},
     "output_type": "display_data"
    }
   ],
   "source": [
    "table(welfare$code_job)"
   ]
  },
  {
   "cell_type": "code",
   "execution_count": 38,
   "metadata": {},
   "outputs": [
    {
     "data": {
      "text/html": [
       "145"
      ],
      "text/latex": [
       "145"
      ],
      "text/markdown": [
       "145"
      ],
      "text/plain": [
       "[1] 145"
      ]
     },
     "metadata": {},
     "output_type": "display_data"
    },
    {
     "data": {
      "text/html": [
       "<ol class=list-inline>\n",
       "\t<li>'sex'</li>\n",
       "\t<li>'birth'</li>\n",
       "\t<li>'marriage'</li>\n",
       "\t<li>'religion'</li>\n",
       "\t<li>'income'</li>\n",
       "\t<li>'code_job'</li>\n",
       "\t<li>'code_region'</li>\n",
       "</ol>\n"
      ],
      "text/latex": [
       "\\begin{enumerate*}\n",
       "\\item 'sex'\n",
       "\\item 'birth'\n",
       "\\item 'marriage'\n",
       "\\item 'religion'\n",
       "\\item 'income'\n",
       "\\item 'code\\_job'\n",
       "\\item 'code\\_region'\n",
       "\\end{enumerate*}\n"
      ],
      "text/markdown": [
       "1. 'sex'\n",
       "2. 'birth'\n",
       "3. 'marriage'\n",
       "4. 'religion'\n",
       "5. 'income'\n",
       "6. 'code_job'\n",
       "7. 'code_region'\n",
       "\n",
       "\n"
      ],
      "text/plain": [
       "[1] \"sex\"         \"birth\"       \"marriage\"    \"religion\"    \"income\"     \n",
       "[6] \"code_job\"    \"code_region\""
      ]
     },
     "metadata": {},
     "output_type": "display_data"
    }
   ],
   "source": [
    "length(table(welfare$code_job))\n",
    "names(welfare)"
   ]
  },
  {
   "cell_type": "code",
   "execution_count": 39,
   "metadata": {},
   "outputs": [
    {
     "data": {
      "text/html": [
       "<ol class=list-inline>\n",
       "\t<li>'sex'</li>\n",
       "\t<li>'birth'</li>\n",
       "\t<li>'marriage'</li>\n",
       "\t<li>'religion'</li>\n",
       "\t<li>'income'</li>\n",
       "\t<li>'code_job'</li>\n",
       "\t<li>'code_region'</li>\n",
       "</ol>\n"
      ],
      "text/latex": [
       "\\begin{enumerate*}\n",
       "\\item 'sex'\n",
       "\\item 'birth'\n",
       "\\item 'marriage'\n",
       "\\item 'religion'\n",
       "\\item 'income'\n",
       "\\item 'code\\_job'\n",
       "\\item 'code\\_region'\n",
       "\\end{enumerate*}\n"
      ],
      "text/markdown": [
       "1. 'sex'\n",
       "2. 'birth'\n",
       "3. 'marriage'\n",
       "4. 'religion'\n",
       "5. 'income'\n",
       "6. 'code_job'\n",
       "7. 'code_region'\n",
       "\n",
       "\n"
      ],
      "text/plain": [
       "[1] \"sex\"         \"birth\"       \"marriage\"    \"religion\"    \"income\"     \n",
       "[6] \"code_job\"    \"code_region\""
      ]
     },
     "metadata": {},
     "output_type": "display_data"
    },
    {
     "name": "stderr",
     "output_type": "stream",
     "text": [
      "Joining, by = \"code_job\"\n"
     ]
    },
    {
     "data": {
      "text/html": [
       "<ol class=list-inline>\n",
       "\t<li>'sex'</li>\n",
       "\t<li>'birth'</li>\n",
       "\t<li>'marriage'</li>\n",
       "\t<li>'religion'</li>\n",
       "\t<li>'income'</li>\n",
       "\t<li>'code_job'</li>\n",
       "\t<li>'code_region'</li>\n",
       "\t<li>'job'</li>\n",
       "</ol>\n"
      ],
      "text/latex": [
       "\\begin{enumerate*}\n",
       "\\item 'sex'\n",
       "\\item 'birth'\n",
       "\\item 'marriage'\n",
       "\\item 'religion'\n",
       "\\item 'income'\n",
       "\\item 'code\\_job'\n",
       "\\item 'code\\_region'\n",
       "\\item 'job'\n",
       "\\end{enumerate*}\n"
      ],
      "text/markdown": [
       "1. 'sex'\n",
       "2. 'birth'\n",
       "3. 'marriage'\n",
       "4. 'religion'\n",
       "5. 'income'\n",
       "6. 'code_job'\n",
       "7. 'code_region'\n",
       "8. 'job'\n",
       "\n",
       "\n"
      ],
      "text/plain": [
       "[1] \"sex\"         \"birth\"       \"marriage\"    \"religion\"    \"income\"     \n",
       "[6] \"code_job\"    \"code_region\" \"job\"        "
      ]
     },
     "metadata": {},
     "output_type": "display_data"
    }
   ],
   "source": [
    "names(welfare)\n",
    "welfare <- left_join(welfare, listjob, id=\"code_job\")\n",
    "names(welfare)"
   ]
  },
  {
   "cell_type": "code",
   "execution_count": 43,
   "metadata": {},
   "outputs": [
    {
     "data": {
      "text/html": [
       "<table>\n",
       "<thead><tr><th scope=col>code_job</th><th scope=col>job</th><th scope=col>income</th></tr></thead>\n",
       "<tbody>\n",
       "\t<tr><td> NA                               </td><td>NA                                </td><td> NA                               </td></tr>\n",
       "\t<tr><td> NA                               </td><td>NA                                </td><td> NA                               </td></tr>\n",
       "\t<tr><td>942                               </td><td>경비원 및 검표원                  </td><td>120                               </td></tr>\n",
       "\t<tr><td>762                               </td><td>전기공                            </td><td>200                               </td></tr>\n",
       "\t<tr><td> NA                               </td><td>NA                                </td><td> NA                               </td></tr>\n",
       "\t<tr><td>530                               </td><td>방문 노점 및 통신 판매 관련 종사자</td><td> NA                               </td></tr>\n",
       "\t<tr><td> NA                               </td><td>NA                                </td><td> NA                               </td></tr>\n",
       "\t<tr><td> NA                               </td><td>NA                                </td><td> NA                               </td></tr>\n",
       "\t<tr><td> NA                               </td><td>NA                                </td><td> NA                               </td></tr>\n",
       "\t<tr><td> NA                               </td><td>NA                                </td><td> NA                               </td></tr>\n",
       "\t<tr><td> NA                               </td><td>NA                                </td><td> NA                               </td></tr>\n",
       "\t<tr><td> NA                               </td><td>NA                                </td><td> NA                               </td></tr>\n",
       "\t<tr><td> NA                               </td><td>NA                                </td><td> NA                               </td></tr>\n",
       "\t<tr><td> NA                               </td><td>NA                                </td><td> NA                               </td></tr>\n",
       "\t<tr><td> NA                               </td><td>NA                                </td><td> NA                               </td></tr>\n",
       "\t<tr><td> NA                               </td><td>NA                                </td><td> NA                               </td></tr>\n",
       "\t<tr><td> NA                               </td><td>NA                                </td><td> NA                               </td></tr>\n",
       "\t<tr><td> NA                               </td><td>NA                                </td><td> NA                               </td></tr>\n",
       "\t<tr><td>999                               </td><td>기타 서비스관련 단순 종사원       </td><td> 40                               </td></tr>\n",
       "\t<tr><td>312                               </td><td>경영관련 사무원                   </td><td>350                               </td></tr>\n",
       "\t<tr><td>254                               </td><td>문리 기술 및 예능 강사            </td><td>200                               </td></tr>\n",
       "\t<tr><td> NA                               </td><td>NA                                </td><td> NA                               </td></tr>\n",
       "\t<tr><td> NA                               </td><td>NA                                </td><td> NA                               </td></tr>\n",
       "\t<tr><td> NA                               </td><td>NA                                </td><td> NA                               </td></tr>\n",
       "\t<tr><td>510                               </td><td>영업 종사자                       </td><td>150                               </td></tr>\n",
       "\t<tr><td>530                               </td><td>방문 노점 및 통신 판매 관련 종사자</td><td> NA                               </td></tr>\n",
       "\t<tr><td> NA                               </td><td>NA                                </td><td> NA                               </td></tr>\n",
       "\t<tr><td>286                               </td><td>스포츠 및 레크레이션 관련 전문가  </td><td> NA                               </td></tr>\n",
       "\t<tr><td>521                               </td><td>매장 판매 종사자                  </td><td> NA                               </td></tr>\n",
       "\t<tr><td> NA                               </td><td>NA                                </td><td> NA                               </td></tr>\n",
       "\t<tr><td>...</td><td>...</td><td>...</td></tr>\n",
       "\t<tr><td> NA                     </td><td>NA                      </td><td>    NA                  </td></tr>\n",
       "\t<tr><td>873                     </td><td>자동차 운전원           </td><td> 75.00                  </td></tr>\n",
       "\t<tr><td> NA                     </td><td>NA                      </td><td>    NA                  </td></tr>\n",
       "\t<tr><td> NA                     </td><td>NA                      </td><td>    NA                  </td></tr>\n",
       "\t<tr><td> NA                     </td><td>NA                      </td><td>    NA                  </td></tr>\n",
       "\t<tr><td>873                     </td><td>자동차 운전원           </td><td>162.00                  </td></tr>\n",
       "\t<tr><td>611                     </td><td>작물재배 종사자         </td><td>    NA                  </td></tr>\n",
       "\t<tr><td>611                     </td><td>작물재배 종사자         </td><td>    NA                  </td></tr>\n",
       "\t<tr><td>873                     </td><td>자동차 운전원           </td><td>188.00                  </td></tr>\n",
       "\t<tr><td>899                     </td><td>기타 제조관련 기계조작원</td><td> 90.00                  </td></tr>\n",
       "\t<tr><td> NA                     </td><td>NA                      </td><td>    NA                  </td></tr>\n",
       "\t<tr><td> NA                     </td><td>NA                      </td><td>    NA                  </td></tr>\n",
       "\t<tr><td> NA                     </td><td>NA                      </td><td>    NA                  </td></tr>\n",
       "\t<tr><td>611                     </td><td>작물재배 종사자         </td><td>    NA                  </td></tr>\n",
       "\t<tr><td>611                     </td><td>작물재배 종사자         </td><td>    NA                  </td></tr>\n",
       "\t<tr><td> NA                     </td><td>NA                      </td><td>    NA                  </td></tr>\n",
       "\t<tr><td> NA                     </td><td>NA                      </td><td>    NA                  </td></tr>\n",
       "\t<tr><td>611                     </td><td>작물재배 종사자         </td><td>    NA                  </td></tr>\n",
       "\t<tr><td>611                     </td><td>작물재배 종사자         </td><td>    NA                  </td></tr>\n",
       "\t<tr><td> NA                     </td><td>NA                      </td><td>    NA                  </td></tr>\n",
       "\t<tr><td>743                     </td><td>용접원                  </td><td>187.66                  </td></tr>\n",
       "\t<tr><td>611                     </td><td>작물재배 종사자         </td><td>    NA                  </td></tr>\n",
       "\t<tr><td> NA                     </td><td>NA                      </td><td>    NA                  </td></tr>\n",
       "\t<tr><td> NA                     </td><td>NA                      </td><td>    NA                  </td></tr>\n",
       "\t<tr><td>874                     </td><td>물품이동 장비 조작원    </td><td>    NA                  </td></tr>\n",
       "\t<tr><td> NA                     </td><td>NA                      </td><td>    NA                  </td></tr>\n",
       "\t<tr><td>314                     </td><td>비서 및 사무 보조원     </td><td>302.50                  </td></tr>\n",
       "\t<tr><td> NA                     </td><td>NA                      </td><td>    NA                  </td></tr>\n",
       "\t<tr><td> NA                     </td><td>NA                      </td><td>    NA                  </td></tr>\n",
       "\t<tr><td> NA                     </td><td>NA                      </td><td>    NA                  </td></tr>\n",
       "</tbody>\n",
       "</table>\n"
      ],
      "text/latex": [
       "\\begin{tabular}{r|lll}\n",
       " code\\_job & job & income\\\\\n",
       "\\hline\n",
       "\t  NA                                & NA                                 &  NA                               \\\\\n",
       "\t  NA                                & NA                                 &  NA                               \\\\\n",
       "\t 942                                & 경비원 및 검표원                   & 120                               \\\\\n",
       "\t 762                                & 전기공                             & 200                               \\\\\n",
       "\t  NA                                & NA                                 &  NA                               \\\\\n",
       "\t 530                                & 방문 노점 및 통신 판매 관련 종사자 &  NA                               \\\\\n",
       "\t  NA                                & NA                                 &  NA                               \\\\\n",
       "\t  NA                                & NA                                 &  NA                               \\\\\n",
       "\t  NA                                & NA                                 &  NA                               \\\\\n",
       "\t  NA                                & NA                                 &  NA                               \\\\\n",
       "\t  NA                                & NA                                 &  NA                               \\\\\n",
       "\t  NA                                & NA                                 &  NA                               \\\\\n",
       "\t  NA                                & NA                                 &  NA                               \\\\\n",
       "\t  NA                                & NA                                 &  NA                               \\\\\n",
       "\t  NA                                & NA                                 &  NA                               \\\\\n",
       "\t  NA                                & NA                                 &  NA                               \\\\\n",
       "\t  NA                                & NA                                 &  NA                               \\\\\n",
       "\t  NA                                & NA                                 &  NA                               \\\\\n",
       "\t 999                                & 기타 서비스관련 단순 종사원        &  40                               \\\\\n",
       "\t 312                                & 경영관련 사무원                    & 350                               \\\\\n",
       "\t 254                                & 문리 기술 및 예능 강사             & 200                               \\\\\n",
       "\t  NA                                & NA                                 &  NA                               \\\\\n",
       "\t  NA                                & NA                                 &  NA                               \\\\\n",
       "\t  NA                                & NA                                 &  NA                               \\\\\n",
       "\t 510                                & 영업 종사자                        & 150                               \\\\\n",
       "\t 530                                & 방문 노점 및 통신 판매 관련 종사자 &  NA                               \\\\\n",
       "\t  NA                                & NA                                 &  NA                               \\\\\n",
       "\t 286                                & 스포츠 및 레크레이션 관련 전문가   &  NA                               \\\\\n",
       "\t 521                                & 매장 판매 종사자                   &  NA                               \\\\\n",
       "\t  NA                                & NA                                 &  NA                               \\\\\n",
       "\t ... & ... & ...\\\\\n",
       "\t  NA                      & NA                       &     NA                  \\\\\n",
       "\t 873                      & 자동차 운전원            &  75.00                  \\\\\n",
       "\t  NA                      & NA                       &     NA                  \\\\\n",
       "\t  NA                      & NA                       &     NA                  \\\\\n",
       "\t  NA                      & NA                       &     NA                  \\\\\n",
       "\t 873                      & 자동차 운전원            & 162.00                  \\\\\n",
       "\t 611                      & 작물재배 종사자          &     NA                  \\\\\n",
       "\t 611                      & 작물재배 종사자          &     NA                  \\\\\n",
       "\t 873                      & 자동차 운전원            & 188.00                  \\\\\n",
       "\t 899                      & 기타 제조관련 기계조작원 &  90.00                  \\\\\n",
       "\t  NA                      & NA                       &     NA                  \\\\\n",
       "\t  NA                      & NA                       &     NA                  \\\\\n",
       "\t  NA                      & NA                       &     NA                  \\\\\n",
       "\t 611                      & 작물재배 종사자          &     NA                  \\\\\n",
       "\t 611                      & 작물재배 종사자          &     NA                  \\\\\n",
       "\t  NA                      & NA                       &     NA                  \\\\\n",
       "\t  NA                      & NA                       &     NA                  \\\\\n",
       "\t 611                      & 작물재배 종사자          &     NA                  \\\\\n",
       "\t 611                      & 작물재배 종사자          &     NA                  \\\\\n",
       "\t  NA                      & NA                       &     NA                  \\\\\n",
       "\t 743                      & 용접원                   & 187.66                  \\\\\n",
       "\t 611                      & 작물재배 종사자          &     NA                  \\\\\n",
       "\t  NA                      & NA                       &     NA                  \\\\\n",
       "\t  NA                      & NA                       &     NA                  \\\\\n",
       "\t 874                      & 물품이동 장비 조작원     &     NA                  \\\\\n",
       "\t  NA                      & NA                       &     NA                  \\\\\n",
       "\t 314                      & 비서 및 사무 보조원      & 302.50                  \\\\\n",
       "\t  NA                      & NA                       &     NA                  \\\\\n",
       "\t  NA                      & NA                       &     NA                  \\\\\n",
       "\t  NA                      & NA                       &     NA                  \\\\\n",
       "\\end{tabular}\n"
      ],
      "text/markdown": [
       "\n",
       "code_job | job | income | \n",
       "|---|---|---|---|---|---|---|---|---|---|---|---|---|---|---|---|---|---|---|---|---|---|---|---|---|---|---|---|---|---|---|---|---|---|---|---|---|---|---|---|---|---|---|---|---|---|---|---|---|---|---|---|---|---|---|---|---|---|---|---|---|\n",
       "|  NA                                | NA                                 |  NA                                | \n",
       "|  NA                                | NA                                 |  NA                                | \n",
       "| 942                                | 경비원 및 검표원                   | 120                                | \n",
       "| 762                                | 전기공                             | 200                                | \n",
       "|  NA                                | NA                                 |  NA                                | \n",
       "| 530                                | 방문 노점 및 통신 판매 관련 종사자 |  NA                                | \n",
       "|  NA                                | NA                                 |  NA                                | \n",
       "|  NA                                | NA                                 |  NA                                | \n",
       "|  NA                                | NA                                 |  NA                                | \n",
       "|  NA                                | NA                                 |  NA                                | \n",
       "|  NA                                | NA                                 |  NA                                | \n",
       "|  NA                                | NA                                 |  NA                                | \n",
       "|  NA                                | NA                                 |  NA                                | \n",
       "|  NA                                | NA                                 |  NA                                | \n",
       "|  NA                                | NA                                 |  NA                                | \n",
       "|  NA                                | NA                                 |  NA                                | \n",
       "|  NA                                | NA                                 |  NA                                | \n",
       "|  NA                                | NA                                 |  NA                                | \n",
       "| 999                                | 기타 서비스관련 단순 종사원        |  40                                | \n",
       "| 312                                | 경영관련 사무원                    | 350                                | \n",
       "| 254                                | 문리 기술 및 예능 강사             | 200                                | \n",
       "|  NA                                | NA                                 |  NA                                | \n",
       "|  NA                                | NA                                 |  NA                                | \n",
       "|  NA                                | NA                                 |  NA                                | \n",
       "| 510                                | 영업 종사자                        | 150                                | \n",
       "| 530                                | 방문 노점 및 통신 판매 관련 종사자 |  NA                                | \n",
       "|  NA                                | NA                                 |  NA                                | \n",
       "| 286                                | 스포츠 및 레크레이션 관련 전문가   |  NA                                | \n",
       "| 521                                | 매장 판매 종사자                   |  NA                                | \n",
       "|  NA                                | NA                                 |  NA                                | \n",
       "| ... | ... | ... | \n",
       "|  NA                      | NA                       |     NA                   | \n",
       "| 873                      | 자동차 운전원            |  75.00                   | \n",
       "|  NA                      | NA                       |     NA                   | \n",
       "|  NA                      | NA                       |     NA                   | \n",
       "|  NA                      | NA                       |     NA                   | \n",
       "| 873                      | 자동차 운전원            | 162.00                   | \n",
       "| 611                      | 작물재배 종사자          |     NA                   | \n",
       "| 611                      | 작물재배 종사자          |     NA                   | \n",
       "| 873                      | 자동차 운전원            | 188.00                   | \n",
       "| 899                      | 기타 제조관련 기계조작원 |  90.00                   | \n",
       "|  NA                      | NA                       |     NA                   | \n",
       "|  NA                      | NA                       |     NA                   | \n",
       "|  NA                      | NA                       |     NA                   | \n",
       "| 611                      | 작물재배 종사자          |     NA                   | \n",
       "| 611                      | 작물재배 종사자          |     NA                   | \n",
       "|  NA                      | NA                       |     NA                   | \n",
       "|  NA                      | NA                       |     NA                   | \n",
       "| 611                      | 작물재배 종사자          |     NA                   | \n",
       "| 611                      | 작물재배 종사자          |     NA                   | \n",
       "|  NA                      | NA                       |     NA                   | \n",
       "| 743                      | 용접원                   | 187.66                   | \n",
       "| 611                      | 작물재배 종사자          |     NA                   | \n",
       "|  NA                      | NA                       |     NA                   | \n",
       "|  NA                      | NA                       |     NA                   | \n",
       "| 874                      | 물품이동 장비 조작원     |     NA                   | \n",
       "|  NA                      | NA                       |     NA                   | \n",
       "| 314                      | 비서 및 사무 보조원      | 302.50                   | \n",
       "|  NA                      | NA                       |     NA                   | \n",
       "|  NA                      | NA                       |     NA                   | \n",
       "|  NA                      | NA                       |     NA                   | \n",
       "\n",
       "\n"
      ],
      "text/plain": [
       "      code_job job                                income\n",
       "1      NA      NA                                  NA   \n",
       "2      NA      NA                                  NA   \n",
       "3     942      경비원 및 검표원                   120   \n",
       "4     762      전기공                             200   \n",
       "5      NA      NA                                  NA   \n",
       "6     530      방문 노점 및 통신 판매 관련 종사자  NA   \n",
       "7      NA      NA                                  NA   \n",
       "8      NA      NA                                  NA   \n",
       "9      NA      NA                                  NA   \n",
       "10     NA      NA                                  NA   \n",
       "11     NA      NA                                  NA   \n",
       "12     NA      NA                                  NA   \n",
       "13     NA      NA                                  NA   \n",
       "14     NA      NA                                  NA   \n",
       "15     NA      NA                                  NA   \n",
       "16     NA      NA                                  NA   \n",
       "17     NA      NA                                  NA   \n",
       "18     NA      NA                                  NA   \n",
       "19    999      기타 서비스관련 단순 종사원         40   \n",
       "20    312      경영관련 사무원                    350   \n",
       "21    254      문리 기술 및 예능 강사             200   \n",
       "22     NA      NA                                  NA   \n",
       "23     NA      NA                                  NA   \n",
       "24     NA      NA                                  NA   \n",
       "25    510      영업 종사자                        150   \n",
       "26    530      방문 노점 및 통신 판매 관련 종사자  NA   \n",
       "27     NA      NA                                  NA   \n",
       "28    286      스포츠 및 레크레이션 관련 전문가    NA   \n",
       "29    521      매장 판매 종사자                    NA   \n",
       "30     NA      NA                                  NA   \n",
       "...   ...      ...                                ...   \n",
       "16635  NA      NA                                     NA\n",
       "16636 873      자동차 운전원                       75.00\n",
       "16637  NA      NA                                     NA\n",
       "16638  NA      NA                                     NA\n",
       "16639  NA      NA                                     NA\n",
       "16640 873      자동차 운전원                      162.00\n",
       "16641 611      작물재배 종사자                        NA\n",
       "16642 611      작물재배 종사자                        NA\n",
       "16643 873      자동차 운전원                      188.00\n",
       "16644 899      기타 제조관련 기계조작원            90.00\n",
       "16645  NA      NA                                     NA\n",
       "16646  NA      NA                                     NA\n",
       "16647  NA      NA                                     NA\n",
       "16648 611      작물재배 종사자                        NA\n",
       "16649 611      작물재배 종사자                        NA\n",
       "16650  NA      NA                                     NA\n",
       "16651  NA      NA                                     NA\n",
       "16652 611      작물재배 종사자                        NA\n",
       "16653 611      작물재배 종사자                        NA\n",
       "16654  NA      NA                                     NA\n",
       "16655 743      용접원                             187.66\n",
       "16656 611      작물재배 종사자                        NA\n",
       "16657  NA      NA                                     NA\n",
       "16658  NA      NA                                     NA\n",
       "16659 874      물품이동 장비 조작원                   NA\n",
       "16660  NA      NA                                     NA\n",
       "16661 314      비서 및 사무 보조원                302.50\n",
       "16662  NA      NA                                     NA\n",
       "16663  NA      NA                                     NA\n",
       "16664  NA      NA                                     NA"
      ]
     },
     "metadata": {},
     "output_type": "display_data"
    }
   ],
   "source": [
    "# 데이터 확인 - NA의 제거는 filter를 이용하면 된다.\n",
    "welfare %>% select(code_job, job, income)"
   ]
  },
  {
   "cell_type": "code",
   "execution_count": 47,
   "metadata": {},
   "outputs": [
    {
     "data": {
      "text/html": [
       "<table>\n",
       "<thead><tr><th scope=col>job</th><th scope=col>mean_income</th></tr></thead>\n",
       "<tbody>\n",
       "\t<tr><td>가사 및 육아 도우미          </td><td> 80.16648                    </td></tr>\n",
       "\t<tr><td>간호사                       </td><td>240.68127                    </td></tr>\n",
       "\t<tr><td>건설 및 광업 단순 종사원     </td><td>190.12974                    </td></tr>\n",
       "\t<tr><td>건설 및 채굴 기계운전원      </td><td>357.97000                    </td></tr>\n",
       "\t<tr><td>건설 전기 및 생산 관련 관리자</td><td>535.80556                    </td></tr>\n",
       "\t<tr><td>건설관련 기능 종사자         </td><td>246.63214                    </td></tr>\n",
       "</tbody>\n",
       "</table>\n"
      ],
      "text/latex": [
       "\\begin{tabular}{r|ll}\n",
       " job & mean\\_income\\\\\n",
       "\\hline\n",
       "\t 가사 및 육아 도우미           &  80.16648                    \\\\\n",
       "\t 간호사                        & 240.68127                    \\\\\n",
       "\t 건설 및 광업 단순 종사원      & 190.12974                    \\\\\n",
       "\t 건설 및 채굴 기계운전원       & 357.97000                    \\\\\n",
       "\t 건설 전기 및 생산 관련 관리자 & 535.80556                    \\\\\n",
       "\t 건설관련 기능 종사자          & 246.63214                    \\\\\n",
       "\\end{tabular}\n"
      ],
      "text/markdown": [
       "\n",
       "job | mean_income | \n",
       "|---|---|---|---|---|---|\n",
       "| 가사 및 육아 도우미           |  80.16648                     | \n",
       "| 간호사                        | 240.68127                     | \n",
       "| 건설 및 광업 단순 종사원      | 190.12974                     | \n",
       "| 건설 및 채굴 기계운전원       | 357.97000                     | \n",
       "| 건설 전기 및 생산 관련 관리자 | 535.80556                     | \n",
       "| 건설관련 기능 종사자          | 246.63214                     | \n",
       "\n",
       "\n"
      ],
      "text/plain": [
       "  job                           mean_income\n",
       "1 가사 및 육아 도우미            80.16648  \n",
       "2 간호사                        240.68127  \n",
       "3 건설 및 광업 단순 종사원      190.12974  \n",
       "4 건설 및 채굴 기계운전원       357.97000  \n",
       "5 건설 전기 및 생산 관련 관리자 535.80556  \n",
       "6 건설관련 기능 종사자          246.63214  "
      ]
     },
     "metadata": {},
     "output_type": "display_data"
    }
   ],
   "source": [
    "job_income <- welfare %>%\n",
    "              filter(!is.na(job) & !is.na(income)) %>%\n",
    "              group_by(job) %>%\n",
    "              summarise(mean_income = mean(income))\n",
    "head(job_income)"
   ]
  },
  {
   "cell_type": "code",
   "execution_count": 48,
   "metadata": {},
   "outputs": [
    {
     "data": {
      "text/html": [
       "<table>\n",
       "<thead><tr><th scope=col>sex</th><th scope=col>birth</th><th scope=col>marriage</th><th scope=col>religion</th><th scope=col>income</th><th scope=col>code_job</th><th scope=col>code_region</th><th scope=col>job</th></tr></thead>\n",
       "<tbody>\n",
       "\t<tr><td>1                               </td><td>1975                            </td><td>5                               </td><td>1                               </td><td>   NA                           </td><td>286                             </td><td>1                               </td><td>스포츠 및 레크레이션 관련 전문가</td></tr>\n",
       "\t<tr><td>2                               </td><td>1986                            </td><td>5                               </td><td>2                               </td><td>150.0                           </td><td>286                             </td><td>1                               </td><td>스포츠 및 레크레이션 관련 전문가</td></tr>\n",
       "\t<tr><td>1                               </td><td>1983                            </td><td>1                               </td><td>2                               </td><td>   NA                           </td><td>286                             </td><td>3                               </td><td>스포츠 및 레크레이션 관련 전문가</td></tr>\n",
       "\t<tr><td>2                               </td><td>1985                            </td><td>1                               </td><td>1                               </td><td>   NA                           </td><td>286                             </td><td>3                               </td><td>스포츠 및 레크레이션 관련 전문가</td></tr>\n",
       "\t<tr><td>1                               </td><td>1969                            </td><td>1                               </td><td>2                               </td><td>   NA                           </td><td>286                             </td><td>2                               </td><td>스포츠 및 레크레이션 관련 전문가</td></tr>\n",
       "\t<tr><td>1                               </td><td>1992                            </td><td>5                               </td><td>1                               </td><td>222.0                           </td><td>286                             </td><td>5                               </td><td>스포츠 및 레크레이션 관련 전문가</td></tr>\n",
       "\t<tr><td>2                               </td><td>1995                            </td><td>5                               </td><td>2                               </td><td>136.4                           </td><td>286                             </td><td>5                               </td><td>스포츠 및 레크레이션 관련 전문가</td></tr>\n",
       "\t<tr><td>2                               </td><td>1994                            </td><td>5                               </td><td>2                               </td><td>150.0                           </td><td>286                             </td><td>2                               </td><td>스포츠 및 레크레이션 관련 전문가</td></tr>\n",
       "\t<tr><td>2                               </td><td>1965                            </td><td>1                               </td><td>2                               </td><td>   NA                           </td><td>286                             </td><td>4                               </td><td>스포츠 및 레크레이션 관련 전문가</td></tr>\n",
       "\t<tr><td>2                               </td><td>1975                            </td><td>1                               </td><td>1                               </td><td>   NA                           </td><td>286                             </td><td>4                               </td><td>스포츠 및 레크레이션 관련 전문가</td></tr>\n",
       "\t<tr><td>1                               </td><td>1970                            </td><td>1                               </td><td>1                               </td><td>   NA                           </td><td>286                             </td><td>3                               </td><td>스포츠 및 레크레이션 관련 전문가</td></tr>\n",
       "\t<tr><td>1                               </td><td>1977                            </td><td>1                               </td><td>1                               </td><td>   NA                           </td><td>286                             </td><td>7                               </td><td>스포츠 및 레크레이션 관련 전문가</td></tr>\n",
       "\t<tr><td>2                               </td><td>1979                            </td><td>1                               </td><td>2                               </td><td>181.0                           </td><td>286                             </td><td>4                               </td><td>스포츠 및 레크레이션 관련 전문가</td></tr>\n",
       "\t<tr><td>1                               </td><td>1979                            </td><td>1                               </td><td>2                               </td><td>340.0                           </td><td>286                             </td><td>4                               </td><td>스포츠 및 레크레이션 관련 전문가</td></tr>\n",
       "\t<tr><td>2                               </td><td>1988                            </td><td>5                               </td><td>1                               </td><td>   NA                           </td><td>286                             </td><td>1                               </td><td>스포츠 및 레크레이션 관련 전문가</td></tr>\n",
       "\t<tr><td>1                               </td><td>1984                            </td><td>1                               </td><td>1                               </td><td>   NA                           </td><td>286                             </td><td>5                               </td><td>스포츠 및 레크레이션 관련 전문가</td></tr>\n",
       "</tbody>\n",
       "</table>\n"
      ],
      "text/latex": [
       "\\begin{tabular}{r|llllllll}\n",
       " sex & birth & marriage & religion & income & code\\_job & code\\_region & job\\\\\n",
       "\\hline\n",
       "\t 1                                & 1975                             & 5                                & 1                                &    NA                            & 286                              & 1                                & 스포츠 및 레크레이션 관련 전문가\\\\\n",
       "\t 2                                & 1986                             & 5                                & 2                                & 150.0                            & 286                              & 1                                & 스포츠 및 레크레이션 관련 전문가\\\\\n",
       "\t 1                                & 1983                             & 1                                & 2                                &    NA                            & 286                              & 3                                & 스포츠 및 레크레이션 관련 전문가\\\\\n",
       "\t 2                                & 1985                             & 1                                & 1                                &    NA                            & 286                              & 3                                & 스포츠 및 레크레이션 관련 전문가\\\\\n",
       "\t 1                                & 1969                             & 1                                & 2                                &    NA                            & 286                              & 2                                & 스포츠 및 레크레이션 관련 전문가\\\\\n",
       "\t 1                                & 1992                             & 5                                & 1                                & 222.0                            & 286                              & 5                                & 스포츠 및 레크레이션 관련 전문가\\\\\n",
       "\t 2                                & 1995                             & 5                                & 2                                & 136.4                            & 286                              & 5                                & 스포츠 및 레크레이션 관련 전문가\\\\\n",
       "\t 2                                & 1994                             & 5                                & 2                                & 150.0                            & 286                              & 2                                & 스포츠 및 레크레이션 관련 전문가\\\\\n",
       "\t 2                                & 1965                             & 1                                & 2                                &    NA                            & 286                              & 4                                & 스포츠 및 레크레이션 관련 전문가\\\\\n",
       "\t 2                                & 1975                             & 1                                & 1                                &    NA                            & 286                              & 4                                & 스포츠 및 레크레이션 관련 전문가\\\\\n",
       "\t 1                                & 1970                             & 1                                & 1                                &    NA                            & 286                              & 3                                & 스포츠 및 레크레이션 관련 전문가\\\\\n",
       "\t 1                                & 1977                             & 1                                & 1                                &    NA                            & 286                              & 7                                & 스포츠 및 레크레이션 관련 전문가\\\\\n",
       "\t 2                                & 1979                             & 1                                & 2                                & 181.0                            & 286                              & 4                                & 스포츠 및 레크레이션 관련 전문가\\\\\n",
       "\t 1                                & 1979                             & 1                                & 2                                & 340.0                            & 286                              & 4                                & 스포츠 및 레크레이션 관련 전문가\\\\\n",
       "\t 2                                & 1988                             & 5                                & 1                                &    NA                            & 286                              & 1                                & 스포츠 및 레크레이션 관련 전문가\\\\\n",
       "\t 1                                & 1984                             & 1                                & 1                                &    NA                            & 286                              & 5                                & 스포츠 및 레크레이션 관련 전문가\\\\\n",
       "\\end{tabular}\n"
      ],
      "text/markdown": [
       "\n",
       "sex | birth | marriage | religion | income | code_job | code_region | job | \n",
       "|---|---|---|---|---|---|---|---|---|---|---|---|---|---|---|---|\n",
       "| 1                                | 1975                             | 5                                | 1                                |    NA                            | 286                              | 1                                | 스포츠 및 레크레이션 관련 전문가 | \n",
       "| 2                                | 1986                             | 5                                | 2                                | 150.0                            | 286                              | 1                                | 스포츠 및 레크레이션 관련 전문가 | \n",
       "| 1                                | 1983                             | 1                                | 2                                |    NA                            | 286                              | 3                                | 스포츠 및 레크레이션 관련 전문가 | \n",
       "| 2                                | 1985                             | 1                                | 1                                |    NA                            | 286                              | 3                                | 스포츠 및 레크레이션 관련 전문가 | \n",
       "| 1                                | 1969                             | 1                                | 2                                |    NA                            | 286                              | 2                                | 스포츠 및 레크레이션 관련 전문가 | \n",
       "| 1                                | 1992                             | 5                                | 1                                | 222.0                            | 286                              | 5                                | 스포츠 및 레크레이션 관련 전문가 | \n",
       "| 2                                | 1995                             | 5                                | 2                                | 136.4                            | 286                              | 5                                | 스포츠 및 레크레이션 관련 전문가 | \n",
       "| 2                                | 1994                             | 5                                | 2                                | 150.0                            | 286                              | 2                                | 스포츠 및 레크레이션 관련 전문가 | \n",
       "| 2                                | 1965                             | 1                                | 2                                |    NA                            | 286                              | 4                                | 스포츠 및 레크레이션 관련 전문가 | \n",
       "| 2                                | 1975                             | 1                                | 1                                |    NA                            | 286                              | 4                                | 스포츠 및 레크레이션 관련 전문가 | \n",
       "| 1                                | 1970                             | 1                                | 1                                |    NA                            | 286                              | 3                                | 스포츠 및 레크레이션 관련 전문가 | \n",
       "| 1                                | 1977                             | 1                                | 1                                |    NA                            | 286                              | 7                                | 스포츠 및 레크레이션 관련 전문가 | \n",
       "| 2                                | 1979                             | 1                                | 2                                | 181.0                            | 286                              | 4                                | 스포츠 및 레크레이션 관련 전문가 | \n",
       "| 1                                | 1979                             | 1                                | 2                                | 340.0                            | 286                              | 4                                | 스포츠 및 레크레이션 관련 전문가 | \n",
       "| 2                                | 1988                             | 5                                | 1                                |    NA                            | 286                              | 1                                | 스포츠 및 레크레이션 관련 전문가 | \n",
       "| 1                                | 1984                             | 1                                | 1                                |    NA                            | 286                              | 5                                | 스포츠 및 레크레이션 관련 전문가 | \n",
       "\n",
       "\n"
      ],
      "text/plain": [
       "   sex birth marriage religion income code_job code_region\n",
       "1  1   1975  5        1           NA  286      1          \n",
       "2  2   1986  5        2        150.0  286      1          \n",
       "3  1   1983  1        2           NA  286      3          \n",
       "4  2   1985  1        1           NA  286      3          \n",
       "5  1   1969  1        2           NA  286      2          \n",
       "6  1   1992  5        1        222.0  286      5          \n",
       "7  2   1995  5        2        136.4  286      5          \n",
       "8  2   1994  5        2        150.0  286      2          \n",
       "9  2   1965  1        2           NA  286      4          \n",
       "10 2   1975  1        1           NA  286      4          \n",
       "11 1   1970  1        1           NA  286      3          \n",
       "12 1   1977  1        1           NA  286      7          \n",
       "13 2   1979  1        2        181.0  286      4          \n",
       "14 1   1979  1        2        340.0  286      4          \n",
       "15 2   1988  5        1           NA  286      1          \n",
       "16 1   1984  1        1           NA  286      5          \n",
       "   job                             \n",
       "1  스포츠 및 레크레이션 관련 전문가\n",
       "2  스포츠 및 레크레이션 관련 전문가\n",
       "3  스포츠 및 레크레이션 관련 전문가\n",
       "4  스포츠 및 레크레이션 관련 전문가\n",
       "5  스포츠 및 레크레이션 관련 전문가\n",
       "6  스포츠 및 레크레이션 관련 전문가\n",
       "7  스포츠 및 레크레이션 관련 전문가\n",
       "8  스포츠 및 레크레이션 관련 전문가\n",
       "9  스포츠 및 레크레이션 관련 전문가\n",
       "10 스포츠 및 레크레이션 관련 전문가\n",
       "11 스포츠 및 레크레이션 관련 전문가\n",
       "12 스포츠 및 레크레이션 관련 전문가\n",
       "13 스포츠 및 레크레이션 관련 전문가\n",
       "14 스포츠 및 레크레이션 관련 전문가\n",
       "15 스포츠 및 레크레이션 관련 전문가\n",
       "16 스포츠 및 레크레이션 관련 전문가"
      ]
     },
     "metadata": {},
     "output_type": "display_data"
    }
   ],
   "source": [
    "welfare %>% filter(job=='스포츠 및 레크레이션 관련 전문가')"
   ]
  },
  {
   "cell_type": "code",
   "execution_count": 45,
   "metadata": {},
   "outputs": [
    {
     "data": {
      "text/html": [
       "<table>\n",
       "<thead><tr><th scope=col>job</th><th scope=col>mean_income</th></tr></thead>\n",
       "<tbody>\n",
       "\t<tr><td>스포츠 및 레크레이션 관련 전문가</td><td>196.5667                        </td></tr>\n",
       "</tbody>\n",
       "</table>\n"
      ],
      "text/latex": [
       "\\begin{tabular}{r|ll}\n",
       " job & mean\\_income\\\\\n",
       "\\hline\n",
       "\t 스포츠 및 레크레이션 관련 전문가 & 196.5667                        \\\\\n",
       "\\end{tabular}\n"
      ],
      "text/markdown": [
       "\n",
       "job | mean_income | \n",
       "|---|\n",
       "| 스포츠 및 레크레이션 관련 전문가 | 196.5667                         | \n",
       "\n",
       "\n"
      ],
      "text/plain": [
       "  job                              mean_income\n",
       "1 스포츠 및 레크레이션 관련 전문가 196.5667   "
      ]
     },
     "metadata": {},
     "output_type": "display_data"
    }
   ],
   "source": [
    "job_income %>% filter(job=='스포츠 및 레크레이션 관련 전문가')"
   ]
  },
  {
   "cell_type": "code",
   "execution_count": 50,
   "metadata": {},
   "outputs": [
    {
     "data": {
      "text/html": [
       "<table>\n",
       "<thead><tr><th scope=col>job</th><th scope=col>mean_income</th></tr></thead>\n",
       "<tbody>\n",
       "\t<tr><td>금속 재료 공학 기술자 및 시험원        </td><td>845.0667                               </td></tr>\n",
       "\t<tr><td>의료진료 전문가                        </td><td>843.6429                               </td></tr>\n",
       "\t<tr><td>의회의원 고위공무원 및 공공단체임원    </td><td>750.0000                               </td></tr>\n",
       "\t<tr><td>보험 및 금융 관리자                    </td><td>726.1800                               </td></tr>\n",
       "\t<tr><td>제관원 및 판금원                       </td><td>572.4067                               </td></tr>\n",
       "\t<tr><td>행정 및 경영지원 관리자                </td><td>563.7633                               </td></tr>\n",
       "\t<tr><td>문화 예술 디자인 및 영상 관련 관리자   </td><td>557.4667                               </td></tr>\n",
       "\t<tr><td>연구 교육 및 법률 관련 관리자          </td><td>549.9125                               </td></tr>\n",
       "\t<tr><td>건설 전기 및 생산 관련 관리자          </td><td>535.8056                               </td></tr>\n",
       "\t<tr><td>석유 및 화학물 가공장치 조작원         </td><td>531.6600                               </td></tr>\n",
       "\t<tr><td>화학공학 기술자 및 시험원              </td><td>527.6800                               </td></tr>\n",
       "\t<tr><td>전기 전자 및 기계 공학 기술자 및 시험원</td><td>508.8056                               </td></tr>\n",
       "\t<tr><td>금융 및 보험 전문가                    </td><td>503.4560                               </td></tr>\n",
       "\t<tr><td>철도 및 전동차 기관사                  </td><td>495.8000                               </td></tr>\n",
       "\t<tr><td>항공기 선박 기관사 및 관제사           </td><td>488.3500                               </td></tr>\n",
       "\t<tr><td>정보 시스템 운영자                     </td><td>479.2717                               </td></tr>\n",
       "\t<tr><td>장교                                   </td><td>479.1500                               </td></tr>\n",
       "\t<tr><td>기타 건설 전기 및 생산 관련 관리자     </td><td>465.3060                               </td></tr>\n",
       "\t<tr><td>컴퓨터 하드웨어 및 통신공학 전문가     </td><td>463.4200                               </td></tr>\n",
       "\t<tr><td>인사 및 경영 전문가                    </td><td>463.1409                               </td></tr>\n",
       "</tbody>\n",
       "</table>\n"
      ],
      "text/latex": [
       "\\begin{tabular}{r|ll}\n",
       " job & mean\\_income\\\\\n",
       "\\hline\n",
       "\t 금속 재료 공학 기술자 및 시험원         & 845.0667                               \\\\\n",
       "\t 의료진료 전문가                         & 843.6429                               \\\\\n",
       "\t 의회의원 고위공무원 및 공공단체임원     & 750.0000                               \\\\\n",
       "\t 보험 및 금융 관리자                     & 726.1800                               \\\\\n",
       "\t 제관원 및 판금원                        & 572.4067                               \\\\\n",
       "\t 행정 및 경영지원 관리자                 & 563.7633                               \\\\\n",
       "\t 문화 예술 디자인 및 영상 관련 관리자    & 557.4667                               \\\\\n",
       "\t 연구 교육 및 법률 관련 관리자           & 549.9125                               \\\\\n",
       "\t 건설 전기 및 생산 관련 관리자           & 535.8056                               \\\\\n",
       "\t 석유 및 화학물 가공장치 조작원          & 531.6600                               \\\\\n",
       "\t 화학공학 기술자 및 시험원               & 527.6800                               \\\\\n",
       "\t 전기 전자 및 기계 공학 기술자 및 시험원 & 508.8056                               \\\\\n",
       "\t 금융 및 보험 전문가                     & 503.4560                               \\\\\n",
       "\t 철도 및 전동차 기관사                   & 495.8000                               \\\\\n",
       "\t 항공기 선박 기관사 및 관제사            & 488.3500                               \\\\\n",
       "\t 정보 시스템 운영자                      & 479.2717                               \\\\\n",
       "\t 장교                                    & 479.1500                               \\\\\n",
       "\t 기타 건설 전기 및 생산 관련 관리자      & 465.3060                               \\\\\n",
       "\t 컴퓨터 하드웨어 및 통신공학 전문가      & 463.4200                               \\\\\n",
       "\t 인사 및 경영 전문가                     & 463.1409                               \\\\\n",
       "\\end{tabular}\n"
      ],
      "text/markdown": [
       "\n",
       "job | mean_income | \n",
       "|---|---|---|---|---|---|---|---|---|---|---|---|---|---|---|---|---|---|---|---|\n",
       "| 금속 재료 공학 기술자 및 시험원         | 845.0667                                | \n",
       "| 의료진료 전문가                         | 843.6429                                | \n",
       "| 의회의원 고위공무원 및 공공단체임원     | 750.0000                                | \n",
       "| 보험 및 금융 관리자                     | 726.1800                                | \n",
       "| 제관원 및 판금원                        | 572.4067                                | \n",
       "| 행정 및 경영지원 관리자                 | 563.7633                                | \n",
       "| 문화 예술 디자인 및 영상 관련 관리자    | 557.4667                                | \n",
       "| 연구 교육 및 법률 관련 관리자           | 549.9125                                | \n",
       "| 건설 전기 및 생산 관련 관리자           | 535.8056                                | \n",
       "| 석유 및 화학물 가공장치 조작원          | 531.6600                                | \n",
       "| 화학공학 기술자 및 시험원               | 527.6800                                | \n",
       "| 전기 전자 및 기계 공학 기술자 및 시험원 | 508.8056                                | \n",
       "| 금융 및 보험 전문가                     | 503.4560                                | \n",
       "| 철도 및 전동차 기관사                   | 495.8000                                | \n",
       "| 항공기 선박 기관사 및 관제사            | 488.3500                                | \n",
       "| 정보 시스템 운영자                      | 479.2717                                | \n",
       "| 장교                                    | 479.1500                                | \n",
       "| 기타 건설 전기 및 생산 관련 관리자      | 465.3060                                | \n",
       "| 컴퓨터 하드웨어 및 통신공학 전문가      | 463.4200                                | \n",
       "| 인사 및 경영 전문가                     | 463.1409                                | \n",
       "\n",
       "\n"
      ],
      "text/plain": [
       "   job                                     mean_income\n",
       "1  금속 재료 공학 기술자 및 시험원         845.0667   \n",
       "2  의료진료 전문가                         843.6429   \n",
       "3  의회의원 고위공무원 및 공공단체임원     750.0000   \n",
       "4  보험 및 금융 관리자                     726.1800   \n",
       "5  제관원 및 판금원                        572.4067   \n",
       "6  행정 및 경영지원 관리자                 563.7633   \n",
       "7  문화 예술 디자인 및 영상 관련 관리자    557.4667   \n",
       "8  연구 교육 및 법률 관련 관리자           549.9125   \n",
       "9  건설 전기 및 생산 관련 관리자           535.8056   \n",
       "10 석유 및 화학물 가공장치 조작원          531.6600   \n",
       "11 화학공학 기술자 및 시험원               527.6800   \n",
       "12 전기 전자 및 기계 공학 기술자 및 시험원 508.8056   \n",
       "13 금융 및 보험 전문가                     503.4560   \n",
       "14 철도 및 전동차 기관사                   495.8000   \n",
       "15 항공기 선박 기관사 및 관제사            488.3500   \n",
       "16 정보 시스템 운영자                      479.2717   \n",
       "17 장교                                    479.1500   \n",
       "18 기타 건설 전기 및 생산 관련 관리자      465.3060   \n",
       "19 컴퓨터 하드웨어 및 통신공학 전문가      463.4200   \n",
       "20 인사 및 경영 전문가                     463.1409   "
      ]
     },
     "metadata": {},
     "output_type": "display_data"
    }
   ],
   "source": [
    "top20 <- job_income %>% \n",
    "          arrange(desc(mean_income)) %>%\n",
    "           head(20)\n",
    "top20"
   ]
  },
  {
   "cell_type": "code",
   "execution_count": 51,
   "metadata": {},
   "outputs": [
    {
     "data": {},
     "metadata": {},
     "output_type": "display_data"
    },
    {
     "data": {
      "image/png": "[encoded data removed]",
      "text/plain": [
       "plot without title"
      ]
     },
     "metadata": {},
     "output_type": "display_data"
    }
   ],
   "source": [
    "ggplot(top20, aes(x=job, y=mean_income)) + geom_col()"
   ]
  },
  {
   "cell_type": "code",
   "execution_count": 52,
   "metadata": {},
   "outputs": [
    {
     "data": {},
     "metadata": {},
     "output_type": "display_data"
    },
    {
     "data": {
      "image/png": "[encoded data removed]",
      "text/plain": [
       "plot without title"
      ]
     },
     "metadata": {},
     "output_type": "display_data"
    }
   ],
   "source": [
    "ggplot(top20, aes(x=job, y=mean_income)) + geom_col() + coord_flip()"
   ]
  },
  {
   "cell_type": "code",
   "execution_count": 53,
   "metadata": {},
   "outputs": [
    {
     "data": {},
     "metadata": {},
     "output_type": "display_data"
    },
    {
     "data": {
      "image/png": "[encoded data removed]",
      "text/plain": [
       "plot without title"
      ]
     },
     "metadata": {},
     "output_type": "display_data"
    }
   ],
   "source": [
    "ggplot(top20, aes(x=reorder(job, mean_income), y=mean_income)) + geom_col() + coord_flip()"
   ]
  },
  {
   "cell_type": "markdown",
   "metadata": {},
   "source": [
    "### (실습해보기) P3-1\n",
    "* (가) 직업별 수입 하위 20위를 추출해보자\n",
    "* (나) 직업별 수입 그래프를 출력해 보자.\n",
    "* (다) 직업별 수입 해석 결과를 적어보자.\n"
   ]
  },
  {
   "cell_type": "markdown",
   "metadata": {},
   "source": [
    "### (실습해보기) P3-2\n",
    "* (가) '성별로 어떤 직업이 많은지'에 대해 분석해보자.\n",
    "* (Hint) summarise(n=n()) 은 해당 그룹에 대한 개수를 출력할 수 있다."
   ]
  },
  {
   "cell_type": "code",
   "execution_count": null,
   "metadata": {},
   "outputs": [],
   "source": []
  }
 ],
 "metadata": {
  "kernelspec": {
   "display_name": "R",
   "language": "R",
   "name": "ir"
  },
  "language_info": {
   "codemirror_mode": "r",
   "file_extension": ".r",
   "mimetype": "text/x-r-source",
   "name": "R",
   "pygments_lexer": "r",
   "version": "3.5.1"
  }
 },
 "nbformat": 4,
 "nbformat_minor": 2
}
