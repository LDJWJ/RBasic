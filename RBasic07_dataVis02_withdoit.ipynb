{
 "cells": [
  {
   "cell_type": "markdown",
   "metadata": {},
   "source": [
    "### 07 데이터 시각화(2)"
   ]
  },
  {
   "cell_type": "markdown",
   "metadata": {},
   "source": [
    "### 학습 내용\n",
    "* ggplot2 패키지 알아보기 \n",
    "* geom_col(), geom_bar()에 대해 알아본다. (막대 그래프 그리기)\n",
    "* table() 함수에 대해 알아본다. (각 범주 빈도확인)\n",
    "* gridExtra 패키지 gridExtra::grid.arrange() 함수에 대해 알아본다."
   ]
  },
  {
   "cell_type": "markdown",
   "metadata": {},
   "source": [
    "### 7-1 막대 그래프(geom_col)"
   ]
  },
  {
   "cell_type": "markdown",
   "metadata": {},
   "source": [
    "* 막대 그래프(barplot)은 범주형 변수와 수치형 변수와의 관계를 보여주기 위해 사용되어진다.\n",
    "* ggplot에서 geom_col() 함수를 사용한다. "
   ]
  },
  {
   "cell_type": "code",
   "execution_count": 56,
   "metadata": {},
   "outputs": [],
   "source": [
    "library(ggplot2)\n",
    "library(dplyr)"
   ]
  },
  {
   "cell_type": "code",
   "execution_count": 57,
   "metadata": {},
   "outputs": [
    {
     "data": {
      "text/html": [
       "<table>\n",
       "<thead><tr><th scope=col>manufacturer</th><th scope=col>model</th><th scope=col>displ</th><th scope=col>year</th><th scope=col>cyl</th><th scope=col>trans</th><th scope=col>drv</th><th scope=col>cty</th><th scope=col>hwy</th><th scope=col>fl</th><th scope=col>class</th></tr></thead>\n",
       "<tbody>\n",
       "\t<tr><td>audi      </td><td>a4        </td><td>1.8       </td><td>1999      </td><td>4         </td><td>auto(l5)  </td><td>f         </td><td>18        </td><td>29        </td><td>p         </td><td>compact   </td></tr>\n",
       "\t<tr><td>audi      </td><td>a4        </td><td>1.8       </td><td>1999      </td><td>4         </td><td>manual(m5)</td><td>f         </td><td>21        </td><td>29        </td><td>p         </td><td>compact   </td></tr>\n",
       "\t<tr><td>audi      </td><td>a4        </td><td>2.0       </td><td>2008      </td><td>4         </td><td>manual(m6)</td><td>f         </td><td>20        </td><td>31        </td><td>p         </td><td>compact   </td></tr>\n",
       "\t<tr><td>audi      </td><td>a4        </td><td>2.0       </td><td>2008      </td><td>4         </td><td>auto(av)  </td><td>f         </td><td>21        </td><td>30        </td><td>p         </td><td>compact   </td></tr>\n",
       "\t<tr><td>audi      </td><td>a4        </td><td>2.8       </td><td>1999      </td><td>6         </td><td>auto(l5)  </td><td>f         </td><td>16        </td><td>26        </td><td>p         </td><td>compact   </td></tr>\n",
       "</tbody>\n",
       "</table>\n"
      ],
      "text/latex": [
       "\\begin{tabular}{r|lllllllllll}\n",
       " manufacturer & model & displ & year & cyl & trans & drv & cty & hwy & fl & class\\\\\n",
       "\\hline\n",
       "\t audi       & a4         & 1.8        & 1999       & 4          & auto(l5)   & f          & 18         & 29         & p          & compact   \\\\\n",
       "\t audi       & a4         & 1.8        & 1999       & 4          & manual(m5) & f          & 21         & 29         & p          & compact   \\\\\n",
       "\t audi       & a4         & 2.0        & 2008       & 4          & manual(m6) & f          & 20         & 31         & p          & compact   \\\\\n",
       "\t audi       & a4         & 2.0        & 2008       & 4          & auto(av)   & f          & 21         & 30         & p          & compact   \\\\\n",
       "\t audi       & a4         & 2.8        & 1999       & 6          & auto(l5)   & f          & 16         & 26         & p          & compact   \\\\\n",
       "\\end{tabular}\n"
      ],
      "text/markdown": [
       "\n",
       "manufacturer | model | displ | year | cyl | trans | drv | cty | hwy | fl | class | \n",
       "|---|---|---|---|---|\n",
       "| audi       | a4         | 1.8        | 1999       | 4          | auto(l5)   | f          | 18         | 29         | p          | compact    | \n",
       "| audi       | a4         | 1.8        | 1999       | 4          | manual(m5) | f          | 21         | 29         | p          | compact    | \n",
       "| audi       | a4         | 2.0        | 2008       | 4          | manual(m6) | f          | 20         | 31         | p          | compact    | \n",
       "| audi       | a4         | 2.0        | 2008       | 4          | auto(av)   | f          | 21         | 30         | p          | compact    | \n",
       "| audi       | a4         | 2.8        | 1999       | 6          | auto(l5)   | f          | 16         | 26         | p          | compact    | \n",
       "\n",
       "\n"
      ],
      "text/plain": [
       "  manufacturer model displ year cyl trans      drv cty hwy fl class  \n",
       "1 audi         a4    1.8   1999 4   auto(l5)   f   18  29  p  compact\n",
       "2 audi         a4    1.8   1999 4   manual(m5) f   21  29  p  compact\n",
       "3 audi         a4    2.0   2008 4   manual(m6) f   20  31  p  compact\n",
       "4 audi         a4    2.0   2008 4   auto(av)   f   21  30  p  compact\n",
       "5 audi         a4    2.8   1999 6   auto(l5)   f   16  26  p  compact"
      ]
     },
     "metadata": {},
     "output_type": "display_data"
    }
   ],
   "source": [
    "head(mpg,5)"
   ]
  },
  {
   "cell_type": "markdown",
   "metadata": {},
   "source": [
    "### 어떤 모델이 있을까? "
   ]
  },
  {
   "cell_type": "code",
   "execution_count": 58,
   "metadata": {},
   "outputs": [
    {
     "data": {
      "text/plain": [
       "\n",
       "           4runner 4wd                     a4             a4 quattro \n",
       "                     6                      7                      8 \n",
       "            a6 quattro                 altima     c1500 suburban 2wd \n",
       "                     3                      6                      5 \n",
       "                 camry           camry solara            caravan 2wd \n",
       "                     7                      7                     11 \n",
       "                 civic                corolla               corvette \n",
       "                     9                      5                      5 \n",
       "     dakota pickup 4wd            durango 4wd         expedition 2wd \n",
       "                     9                      7                      3 \n",
       "          explorer 4wd        f150 pickup 4wd           forester awd \n",
       "                     6                      7                      6 \n",
       "    grand cherokee 4wd             grand prix                    gti \n",
       "                     8                      5                      5 \n",
       "           impreza awd                  jetta        k1500 tahoe 4wd \n",
       "                     8                      9                      4 \n",
       "land cruiser wagon 4wd                 malibu                 maxima \n",
       "                     2                      5                      3 \n",
       "       mountaineer 4wd                mustang          navigator 2wd \n",
       "                     4                      9                      3 \n",
       "            new beetle                 passat         pathfinder 4wd \n",
       "                     6                      7                      4 \n",
       "   ram 1500 pickup 4wd            range rover                 sonata \n",
       "                    10                      4                      7 \n",
       "               tiburon      toyota tacoma 4wd \n",
       "                     7                      7 "
      ]
     },
     "metadata": {},
     "output_type": "display_data"
    }
   ],
   "source": [
    "table(mpg$model)"
   ]
  },
  {
   "cell_type": "markdown",
   "metadata": {},
   "source": [
    "### 어떤 trans가 있을까? "
   ]
  },
  {
   "cell_type": "code",
   "execution_count": 59,
   "metadata": {},
   "outputs": [
    {
     "data": {
      "text/plain": [
       "\n",
       "  auto(av)   auto(l3)   auto(l4)   auto(l5)   auto(l6)   auto(s4)   auto(s5) \n",
       "         5          2         83         39          6          3          3 \n",
       "  auto(s6) manual(m5) manual(m6) \n",
       "        16         58         19 "
      ]
     },
     "metadata": {},
     "output_type": "display_data"
    }
   ],
   "source": [
    "table(mpg$trans)"
   ]
  },
  {
   "cell_type": "markdown",
   "metadata": {},
   "source": [
    "### mpg데이터 셋을 이용\n",
    "* drv(구동방식)별 평균(hwy) 고속도로 연비 막대그래프 그리기\n",
    "* trans : type of transmission(트랜스미션 타입)\n",
    "* hwy : 고속도로 연비\n",
    "* cty : 도시에서의 연비\n",
    "* fl  : 연료타입"
   ]
  },
  {
   "cell_type": "markdown",
   "metadata": {},
   "source": [
    "### transmission의 타입별 고속도로 연비(hwy) 알아보기"
   ]
  },
  {
   "cell_type": "code",
   "execution_count": 61,
   "metadata": {},
   "outputs": [
    {
     "data": {},
     "metadata": {},
     "output_type": "display_data"
    },
    {
     "data": {
      "image/png": "[encoded data removed]",
      "text/plain": [
       "plot without title"
      ]
     },
     "metadata": {},
     "output_type": "display_data"
    }
   ],
   "source": [
    "ggplot(data=mpg, aes(x=trans, y=hwy)) + geom_col()"
   ]
  },
  {
   "cell_type": "markdown",
   "metadata": {},
   "source": [
    "### transmission의 타입별 도시에서의 연비(cty) 알아보기"
   ]
  },
  {
   "cell_type": "code",
   "execution_count": 62,
   "metadata": {},
   "outputs": [
    {
     "data": {},
     "metadata": {},
     "output_type": "display_data"
    },
    {
     "data": {
      "image/png": "[encoded data removed]",
      "text/plain": [
       "plot without title"
      ]
     },
     "metadata": {},
     "output_type": "display_data"
    }
   ],
   "source": [
    "ggplot(data=mpg, aes(x=trans, y=cty)) + geom_col()"
   ]
  },
  {
   "cell_type": "markdown",
   "metadata": {},
   "source": [
    "### 집단별 평균표 만들기\n",
    "* drv(구동방식별), hwy(고속도로 연비)"
   ]
  },
  {
   "cell_type": "code",
   "execution_count": 63,
   "metadata": {},
   "outputs": [
    {
     "data": {
      "text/html": [
       "<table>\n",
       "<thead><tr><th scope=col>drv</th><th scope=col>mean_hwy</th></tr></thead>\n",
       "<tbody>\n",
       "\t<tr><td>4       </td><td>19.17476</td></tr>\n",
       "\t<tr><td>f       </td><td>28.16038</td></tr>\n",
       "\t<tr><td>r       </td><td>21.00000</td></tr>\n",
       "</tbody>\n",
       "</table>\n"
      ],
      "text/latex": [
       "\\begin{tabular}{r|ll}\n",
       " drv & mean\\_hwy\\\\\n",
       "\\hline\n",
       "\t 4        & 19.17476\\\\\n",
       "\t f        & 28.16038\\\\\n",
       "\t r        & 21.00000\\\\\n",
       "\\end{tabular}\n"
      ],
      "text/markdown": [
       "\n",
       "drv | mean_hwy | \n",
       "|---|---|---|\n",
       "| 4        | 19.17476 | \n",
       "| f        | 28.16038 | \n",
       "| r        | 21.00000 | \n",
       "\n",
       "\n"
      ],
      "text/plain": [
       "  drv mean_hwy\n",
       "1 4   19.17476\n",
       "2 f   28.16038\n",
       "3 r   21.00000"
      ]
     },
     "metadata": {},
     "output_type": "display_data"
    }
   ],
   "source": [
    "drv_hwy <- mpg %>%\n",
    "       group_by(drv) %>%\n",
    "       summarise(mean_hwy = mean(hwy))\n",
    "drv_hwy"
   ]
  },
  {
   "cell_type": "markdown",
   "metadata": {},
   "source": [
    "### 데이터 시각화\n",
    "*  구동방식별 평균 고속도로 연비"
   ]
  },
  {
   "cell_type": "code",
   "execution_count": 64,
   "metadata": {},
   "outputs": [
    {
     "data": {},
     "metadata": {},
     "output_type": "display_data"
    },
    {
     "data": {
      "image/png": "[encoded data removed]",
      "text/plain": [
       "plot without title"
      ]
     },
     "metadata": {},
     "output_type": "display_data"
    }
   ],
   "source": [
    "ggplot(data = drv_meanhwy, aes(x=drv, y=mean_hwy)) + geom_col()"
   ]
  },
  {
   "cell_type": "markdown",
   "metadata": {},
   "source": [
    "### 크기순으로 정렬하기 \n",
    "* 범주의 알파벳 순으로 정렬된다.\n",
    "* reorder(데이터, 정렬할 변수명)"
   ]
  },
  {
   "cell_type": "code",
   "execution_count": 65,
   "metadata": {},
   "outputs": [
    {
     "data": {},
     "metadata": {},
     "output_type": "display_data"
    },
    {
     "data": {
      "image/png": "[encoded data removed]",
      "text/plain": [
       "plot without title"
      ]
     },
     "metadata": {},
     "output_type": "display_data"
    }
   ],
   "source": [
    "ggplot(data=drv_hwy, aes(x=reorder(drv, -mean_hwy), y=mean_hwy)) + geom_col()"
   ]
  },
  {
   "cell_type": "markdown",
   "metadata": {},
   "source": [
    "### 7-2 빈도 막대 그래프\n",
    "* y축 없이 x축만 지정하고, geom_col() 대신에 geom_bar()를 사용"
   ]
  },
  {
   "cell_type": "markdown",
   "metadata": {},
   "source": [
    "### 구동방식(drv)의 데이터 개수"
   ]
  },
  {
   "cell_type": "code",
   "execution_count": 66,
   "metadata": {},
   "outputs": [
    {
     "data": {
      "text/plain": [
       "\n",
       "  4   f   r \n",
       "103 106  25 "
      ]
     },
     "metadata": {},
     "output_type": "display_data"
    }
   ],
   "source": [
    "table(mpg$drv)"
   ]
  },
  {
   "cell_type": "code",
   "execution_count": 67,
   "metadata": {},
   "outputs": [
    {
     "data": {},
     "metadata": {},
     "output_type": "display_data"
    },
    {
     "data": {
      "image/png": "[encoded data removed]",
      "text/plain": [
       "plot without title"
      ]
     },
     "metadata": {},
     "output_type": "display_data"
    }
   ],
   "source": [
    "ggplot(data=mpg, aes(x=drv)) + geom_bar()"
   ]
  },
  {
   "cell_type": "code",
   "execution_count": 68,
   "metadata": {},
   "outputs": [
    {
     "data": {
      "text/html": [
       "<ol class=list-inline>\n",
       "\t<li>'manufacturer'</li>\n",
       "\t<li>'model'</li>\n",
       "\t<li>'displ'</li>\n",
       "\t<li>'year'</li>\n",
       "\t<li>'cyl'</li>\n",
       "\t<li>'trans'</li>\n",
       "\t<li>'drv'</li>\n",
       "\t<li>'cty'</li>\n",
       "\t<li>'hwy'</li>\n",
       "\t<li>'fl'</li>\n",
       "\t<li>'class'</li>\n",
       "</ol>\n"
      ],
      "text/latex": [
       "\\begin{enumerate*}\n",
       "\\item 'manufacturer'\n",
       "\\item 'model'\n",
       "\\item 'displ'\n",
       "\\item 'year'\n",
       "\\item 'cyl'\n",
       "\\item 'trans'\n",
       "\\item 'drv'\n",
       "\\item 'cty'\n",
       "\\item 'hwy'\n",
       "\\item 'fl'\n",
       "\\item 'class'\n",
       "\\end{enumerate*}\n"
      ],
      "text/markdown": [
       "1. 'manufacturer'\n",
       "2. 'model'\n",
       "3. 'displ'\n",
       "4. 'year'\n",
       "5. 'cyl'\n",
       "6. 'trans'\n",
       "7. 'drv'\n",
       "8. 'cty'\n",
       "9. 'hwy'\n",
       "10. 'fl'\n",
       "11. 'class'\n",
       "\n",
       "\n"
      ],
      "text/plain": [
       " [1] \"manufacturer\" \"model\"        \"displ\"        \"year\"         \"cyl\"         \n",
       " [6] \"trans\"        \"drv\"          \"cty\"          \"hwy\"          \"fl\"          \n",
       "[11] \"class\"       "
      ]
     },
     "metadata": {},
     "output_type": "display_data"
    }
   ],
   "source": [
    "names(mpg)"
   ]
  },
  {
   "cell_type": "markdown",
   "metadata": {},
   "source": [
    "### class별 빈도수"
   ]
  },
  {
   "cell_type": "code",
   "execution_count": 69,
   "metadata": {},
   "outputs": [
    {
     "name": "stdout",
     "output_type": "stream",
     "text": [
      "Classes 'tbl_df', 'tbl' and 'data.frame':\t234 obs. of  11 variables:\n",
      " $ manufacturer: chr  \"audi\" \"audi\" \"audi\" \"audi\" ...\n",
      " $ model       : chr  \"a4\" \"a4\" \"a4\" \"a4\" ...\n",
      " $ displ       : num  1.8 1.8 2 2 2.8 2.8 3.1 1.8 1.8 2 ...\n",
      " $ year        : Factor w/ 2 levels \"1999\",\"2008\": 1 1 2 2 1 1 2 1 1 2 ...\n",
      " $ cyl         : int  4 4 4 4 6 6 6 4 4 4 ...\n",
      " $ trans       : chr  \"auto(l5)\" \"manual(m5)\" \"manual(m6)\" \"auto(av)\" ...\n",
      " $ drv         : chr  \"f\" \"f\" \"f\" \"f\" ...\n",
      " $ cty         : int  18 21 20 21 16 18 18 18 16 20 ...\n",
      " $ hwy         : int  29 29 31 30 26 26 27 26 25 28 ...\n",
      " $ fl          : chr  \"p\" \"p\" \"p\" \"p\" ...\n",
      " $ class       : chr  \"compact\" \"compact\" \"compact\" \"compact\" ...\n"
     ]
    }
   ],
   "source": [
    "str(mpg)"
   ]
  },
  {
   "cell_type": "code",
   "execution_count": 70,
   "metadata": {},
   "outputs": [
    {
     "data": {
      "text/plain": [
       "\n",
       "1999 2008 \n",
       " 117  117 "
      ]
     },
     "metadata": {},
     "output_type": "display_data"
    },
    {
     "data": {
      "text/plain": [
       "\n",
       "  c   d   e   p   r \n",
       "  1   5   8  52 168 "
      ]
     },
     "metadata": {},
     "output_type": "display_data"
    },
    {
     "data": {
      "text/plain": [
       "\n",
       "   2seater    compact    midsize    minivan     pickup subcompact        suv \n",
       "         5         47         41         11         33         35         62 "
      ]
     },
     "metadata": {},
     "output_type": "display_data"
    }
   ],
   "source": [
    "table(mpg$year)\n",
    "table(mpg$fl)\n",
    "table(mpg$class)"
   ]
  },
  {
   "cell_type": "code",
   "execution_count": 71,
   "metadata": {},
   "outputs": [
    {
     "data": {},
     "metadata": {},
     "output_type": "display_data"
    },
    {
     "data": {
      "image/png": "[encoded data removed]",
      "text/plain": [
       "plot without title"
      ]
     },
     "metadata": {},
     "output_type": "display_data"
    }
   ],
   "source": [
    "ggplot(mpg, aes(x=class)) + geom_bar()"
   ]
  },
  {
   "cell_type": "markdown",
   "metadata": {},
   "source": [
    "### 만약 x의 값에 연속 변수 지정시에 값의 분포를 파악이 가능"
   ]
  },
  {
   "cell_type": "code",
   "execution_count": 72,
   "metadata": {},
   "outputs": [
    {
     "data": {},
     "metadata": {},
     "output_type": "display_data"
    },
    {
     "data": {
      "image/png": "[encoded data removed]",
      "text/plain": [
       "plot without title"
      ]
     },
     "metadata": {},
     "output_type": "display_data"
    }
   ],
   "source": [
    "ggplot(mpg, aes(x=cty)) + geom_bar()"
   ]
  },
  {
   "cell_type": "markdown",
   "metadata": {},
   "source": [
    "### (직접해보기) 나머지 연속변수에 대해 확인해 보기"
   ]
  },
  {
   "cell_type": "markdown",
   "metadata": {},
   "source": [
    "### 여러그래프를 한꺼번에 그려보기"
   ]
  },
  {
   "cell_type": "markdown",
   "metadata": {},
   "source": [
    "* 패키지 : gridExtra, 라이브러리 : gridExtra\n",
    "* 함수 : grid.arrange()"
   ]
  },
  {
   "cell_type": "code",
   "execution_count": 73,
   "metadata": {},
   "outputs": [],
   "source": [
    "# 처음 설치시에 주석 없애고 설치 \n",
    "# install.packages(\"gridExtra\")"
   ]
  },
  {
   "cell_type": "code",
   "execution_count": 74,
   "metadata": {},
   "outputs": [],
   "source": [
    "?grid.arrange   # 도움말 살펴보기"
   ]
  },
  {
   "cell_type": "code",
   "execution_count": 75,
   "metadata": {},
   "outputs": [],
   "source": [
    "library(ggplot2)\n",
    "library(gridExtra)"
   ]
  },
  {
   "cell_type": "code",
   "execution_count": 76,
   "metadata": {},
   "outputs": [
    {
     "data": {
      "image/png": "[encoded data removed]",
      "text/plain": [
       "plot without title"
      ]
     },
     "metadata": {},
     "output_type": "display_data"
    }
   ],
   "source": [
    "p1 <- ggplot(data=mpg, aes(x=cyl, y=hwy)) + geom_col()\n",
    "p2 <- ggplot(data=mpg, aes(x=cyl, y=cty)) + geom_col()\n",
    "             \n",
    "grid.arrange(p1, p2, ncol=2)"
   ]
  },
  {
   "cell_type": "markdown",
   "metadata": {},
   "source": [
    "### 연료 타입 별, cyl(실린더)별 고속도로, 도시 연비 확인\n",
    "* grid.arrange(그래프1, 그래프2,.., nrow=[숫자], ncol=[숫자],..)"
   ]
  },
  {
   "cell_type": "code",
   "execution_count": 77,
   "metadata": {},
   "outputs": [
    {
     "data": {
      "image/png": "[encoded data removed]",
      "text/plain": [
       "plot without title"
      ]
     },
     "metadata": {},
     "output_type": "display_data"
    }
   ],
   "source": [
    "p1 <- ggplot(data=mpg, aes(x=cyl, y=hwy)) + geom_col()\n",
    "p2 <- ggplot(data=mpg, aes(x=cyl, y=cty)) + geom_col()\n",
    "             \n",
    "p3 <- ggplot(data=mpg, aes(x=fl, y=hwy)) + geom_col()\n",
    "p4 <- ggplot(data=mpg, aes(x=fl, y=cty)) + geom_col()\n",
    "grid.arrange(p1,p2,p3,p4, ncol=2, nrow=2, top = \"hwy,cty - cyl,fl\")"
   ]
  },
  {
   "cell_type": "markdown",
   "metadata": {},
   "source": [
    "### 실습과제\n",
    "* mpg 데이터 셋을 활용.\n",
    "* (1) \"compact\" 차종 대상으로 평균 cty(도시연비)가 가장 높은 다섯 곳 막대그래프 표시\n",
    "* (2) 막대는 연비가 높은 순으로 정렬\n",
    "* (3) 자동차 중에서 어떤 연료 타입(fl)가 가장 많은지 연료타입(fl)별 빈도를 표시해 보자."
   ]
  },
  {
   "cell_type": "markdown",
   "metadata": {},
   "source": [
    "### 7-3 선 그래프\n",
    "* 시간에 따라 달라지는 데이터를 표현할 때, 주로 선 그래프를 이용.\n",
    "* 환율, 주가지수 등 경제지표가 시간에 따라 어떻게 달라지는지를 표현"
   ]
  },
  {
   "cell_type": "markdown",
   "metadata": {},
   "source": [
    "### 데이터 셋(economics : ggplot2의 안의 데이터 셋)\n",
    "* economics : 미국의 경제 지표들을 월별로 나타냄."
   ]
  },
  {
   "cell_type": "markdown",
   "metadata": {},
   "source": [
    "### US economic time series\n",
    "* US 경제 시계열 데이터\n",
    "* url : http://research.stlouisfed.org/fred2\n",
    "* 478개의 행, 6개의 변수\n",
    "* data format(데이터 형태)\n",
    "   * date :  월별(날짜)\n",
    "   * psavert : 개인 저축률, http://research.stlouisfed.org/fred2/series/PSAVERT/\n",
    "   * pce : 개인소비 지출, 수십억 달러, http://research.stlouisfed.org/fred2/series/PCE\n",
    "   * unemploy : 실업자수(수천), http://research.stlouisfed.org/fred2/series/UNEMPLOY\n",
    "   * uempmed : 평균 실업 기간,(주별), http://research.stlouisfed.org/fred2/series/UEMPMED\n",
    "   * pop  : 총 인구, (수천), http://research.stlouisfed.org/fred2/series/POP "
   ]
  },
  {
   "cell_type": "code",
   "execution_count": 86,
   "metadata": {},
   "outputs": [
    {
     "data": {
      "text/html": [
       "<ol class=list-inline>\n",
       "\t<li>'date'</li>\n",
       "\t<li>'pce'</li>\n",
       "\t<li>'pop'</li>\n",
       "\t<li>'psavert'</li>\n",
       "\t<li>'uempmed'</li>\n",
       "\t<li>'unemploy'</li>\n",
       "</ol>\n"
      ],
      "text/latex": [
       "\\begin{enumerate*}\n",
       "\\item 'date'\n",
       "\\item 'pce'\n",
       "\\item 'pop'\n",
       "\\item 'psavert'\n",
       "\\item 'uempmed'\n",
       "\\item 'unemploy'\n",
       "\\end{enumerate*}\n"
      ],
      "text/markdown": [
       "1. 'date'\n",
       "2. 'pce'\n",
       "3. 'pop'\n",
       "4. 'psavert'\n",
       "5. 'uempmed'\n",
       "6. 'unemploy'\n",
       "\n",
       "\n"
      ],
      "text/plain": [
       "[1] \"date\"     \"pce\"      \"pop\"      \"psavert\"  \"uempmed\"  \"unemploy\""
      ]
     },
     "metadata": {},
     "output_type": "display_data"
    },
    {
     "name": "stdout",
     "output_type": "stream",
     "text": [
      "Classes 'tbl_df', 'tbl' and 'data.frame':\t574 obs. of  6 variables:\n",
      " $ date    : Date, format: \"1967-07-01\" \"1967-08-01\" ...\n",
      " $ pce     : num  507 510 516 513 518 ...\n",
      " $ pop     : int  198712 198911 199113 199311 199498 199657 199808 199920 200056 200208 ...\n",
      " $ psavert : num  12.5 12.5 11.7 12.5 12.5 12.1 11.7 12.2 11.6 12.2 ...\n",
      " $ uempmed : num  4.5 4.7 4.6 4.9 4.7 4.8 5.1 4.5 4.1 4.6 ...\n",
      " $ unemploy: int  2944 2945 2958 3143 3066 3018 2878 3001 2877 2709 ...\n"
     ]
    },
    {
     "data": {
      "text/html": [
       "<table>\n",
       "<thead><tr><th scope=col>date</th><th scope=col>pce</th><th scope=col>pop</th><th scope=col>psavert</th><th scope=col>uempmed</th><th scope=col>unemploy</th></tr></thead>\n",
       "<tbody>\n",
       "\t<tr><td>1967-07-01</td><td>507.4     </td><td>198712    </td><td>12.5      </td><td>4.5       </td><td>2944      </td></tr>\n",
       "\t<tr><td>1967-08-01</td><td>510.5     </td><td>198911    </td><td>12.5      </td><td>4.7       </td><td>2945      </td></tr>\n",
       "\t<tr><td>1967-09-01</td><td>516.3     </td><td>199113    </td><td>11.7      </td><td>4.6       </td><td>2958      </td></tr>\n",
       "</tbody>\n",
       "</table>\n"
      ],
      "text/latex": [
       "\\begin{tabular}{r|llllll}\n",
       " date & pce & pop & psavert & uempmed & unemploy\\\\\n",
       "\\hline\n",
       "\t 1967-07-01 & 507.4      & 198712     & 12.5       & 4.5        & 2944      \\\\\n",
       "\t 1967-08-01 & 510.5      & 198911     & 12.5       & 4.7        & 2945      \\\\\n",
       "\t 1967-09-01 & 516.3      & 199113     & 11.7       & 4.6        & 2958      \\\\\n",
       "\\end{tabular}\n"
      ],
      "text/markdown": [
       "\n",
       "date | pce | pop | psavert | uempmed | unemploy | \n",
       "|---|---|---|\n",
       "| 1967-07-01 | 507.4      | 198712     | 12.5       | 4.5        | 2944       | \n",
       "| 1967-08-01 | 510.5      | 198911     | 12.5       | 4.7        | 2945       | \n",
       "| 1967-09-01 | 516.3      | 199113     | 11.7       | 4.6        | 2958       | \n",
       "\n",
       "\n"
      ],
      "text/plain": [
       "  date       pce   pop    psavert uempmed unemploy\n",
       "1 1967-07-01 507.4 198712 12.5    4.5     2944    \n",
       "2 1967-08-01 510.5 198911 12.5    4.7     2945    \n",
       "3 1967-09-01 516.3 199113 11.7    4.6     2958    "
      ]
     },
     "metadata": {},
     "output_type": "display_data"
    }
   ],
   "source": [
    "names(economics)\n",
    "str(economics)\n",
    "head(economics,3)"
   ]
  },
  {
   "cell_type": "code",
   "execution_count": 82,
   "metadata": {},
   "outputs": [
    {
     "data": {},
     "metadata": {},
     "output_type": "display_data"
    },
    {
     "data": {
      "image/png": "[encoded data removed]",
      "text/plain": [
       "plot without title"
      ]
     },
     "metadata": {},
     "output_type": "display_data"
    }
   ],
   "source": [
    "### x : 날짜, y : 실업자수\n",
    "ggplot(data=economics, aes(x=date, y=unemploy)) + geom_line()"
   ]
  },
  {
   "cell_type": "markdown",
   "metadata": {},
   "source": [
    "### 해석\n",
    "* 실업자 수가 5년 주기로 등락을 반복\n",
    "* 2005년 이후 급격하게 증가 후, 2010년 이후 다시 감소하는 추세"
   ]
  },
  {
   "cell_type": "markdown",
   "metadata": {},
   "source": [
    "### (실습해보기) 시간에 따른 개인 소비 지출의 변화(pcc) 를 알아보기"
   ]
  },
  {
   "cell_type": "code",
   "execution_count": 85,
   "metadata": {},
   "outputs": [
    {
     "data": {
      "image/png": "[encoded data removed]",
      "text/plain": [
       "plot without title"
      ]
     },
     "metadata": {},
     "output_type": "display_data"
    }
   ],
   "source": [
    "p1 <- ggplot(data=mpg, aes(x=drv, y=hwy)) + geom_boxplot()\n",
    "p2 <- ggplot(data=mpg, aes(x=drv, y=cty)) + geom_boxplot()\n",
    "             \n",
    "p3 <- ggplot(data=mpg, aes(x=fl, y=hwy)) + geom_boxplot()\n",
    "p4 <- ggplot(data=mpg, aes(x=fl, y=cty)) + geom_boxplot()\n",
    "grid.arrange(p1,p2,p3,p4, ncol=2, nrow=2, top = \"hwy,cty - cyl,fl\")"
   ]
  },
  {
   "cell_type": "markdown",
   "metadata": {},
   "source": [
    "### (실습해보기) class가 'compact', 'subcompact', 'suv'인 자동차의 hwy(고속도로 연비)의 차이 비교."
   ]
  },
  {
   "cell_type": "markdown",
   "metadata": {},
   "source": [
    "### REF\n",
    "* 쉽게 배우는 R데이터 분석 참조\n",
    "* 데이터 셋(economics) : http://research.stlouisfed.org/fred2\n",
    "* The R Graph Gallery : https://www.r-graph-gallery.com/\n",
    "* ggplot 확장 패키지 : http://www.ggplot2-exts.org/gallery/"
   ]
  },
  {
   "cell_type": "markdown",
   "metadata": {},
   "source": [
    "<font size=2> Copyright 2019 LIM Co.(예영Edu Co.) all rights reserved. </font><br>\n",
    "<font size=2> 교육용으로 작성된 것으로 배포 및 복제시에 사전 허가가 필요합니다.</font>"
   ]
  }
 ],
 "metadata": {
  "kernelspec": {
   "display_name": "R",
   "language": "R",
   "name": "ir"
  },
  "language_info": {
   "codemirror_mode": "r",
   "file_extension": ".r",
   "mimetype": "text/x-r-source",
   "name": "R",
   "pygments_lexer": "r",
   "version": "3.5.1"
  }
 },
 "nbformat": 4,
 "nbformat_minor": 2
}
