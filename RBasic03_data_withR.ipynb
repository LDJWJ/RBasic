{
 "cells": [
  {
   "cell_type": "markdown",
   "metadata": {},
   "source": [
    "## 03 데이터 다루기(1)"
   ]
  },
  {
   "cell_type": "markdown",
   "metadata": {},
   "source": [
    "### 학습 내용\n",
    "* 데이터 프레임 알아보기\n",
    "* read.csv()에 대해 알아보기\n",
    "* read._excel()에 대해 알아보기\n",
    "* read.table()에 대해 알아보기\n",
    "* rda 파일 활용하기"
   ]
  },
  {
   "cell_type": "markdown",
   "metadata": {},
   "source": [
    "### 3-1 데이터 프레임\n",
    "* 가장 많이 사용하는 데이터 형태로서 행과 열로 구성된 사각형 모양의 표이다."
   ]
  },
  {
   "cell_type": "markdown",
   "metadata": {},
   "source": [
    "| 성별 | 연령 | 키 | 한달 소비 |\n",
    "|:--------:|:--------:|:--------:|:--------:|\n",
    "| 남 | 26 | 175 | 3000만원 |\n",
    "| 여 | 33 | 177 | 4000만원 |\n",
    "| 여 | 11 | 154 | 50만원 |"
   ]
  },
  {
   "cell_type": "markdown",
   "metadata": {},
   "source": [
    "* 행과 열로 구성된다."
   ]
  },
  {
   "cell_type": "markdown",
   "metadata": {},
   "source": [
    "### 데이터 프레임 만들기\n",
    "| 이름 | 국어 | 영어 | 수학 |\n",
    "|:--------:|:--------:|:--------:|:--------:|\n",
    "| 김칠수 | 80 | 90 | 95 |\n",
    "| 홍길동 | 80 | 80 | 100 |\n",
    "| 박난희 | 90 | 80 | 70 |"
   ]
  },
  {
   "cell_type": "code",
   "execution_count": 1,
   "metadata": {},
   "outputs": [],
   "source": [
    "kor <- c(80,80,90)\n",
    "eng <- c(90,80,80)\n",
    "math <- c(95,100,70)"
   ]
  },
  {
   "cell_type": "code",
   "execution_count": 2,
   "metadata": {},
   "outputs": [
    {
     "name": "stdout",
     "output_type": "stream",
     "text": [
      "[1] 80 80 90\n",
      "[1] 90 80 80\n",
      "[1]  95 100  70\n"
     ]
    }
   ],
   "source": [
    "print(kor)\n",
    "print(eng)\n",
    "print(math)"
   ]
  },
  {
   "cell_type": "code",
   "execution_count": 3,
   "metadata": {},
   "outputs": [
    {
     "data": {
      "text/html": [
       "<table>\n",
       "<thead><tr><th scope=col>kor</th><th scope=col>eng</th><th scope=col>math</th></tr></thead>\n",
       "<tbody>\n",
       "\t<tr><td>80 </td><td>90 </td><td> 95</td></tr>\n",
       "\t<tr><td>80 </td><td>80 </td><td>100</td></tr>\n",
       "\t<tr><td>90 </td><td>80 </td><td> 70</td></tr>\n",
       "</tbody>\n",
       "</table>\n"
      ],
      "text/latex": [
       "\\begin{tabular}{r|lll}\n",
       " kor & eng & math\\\\\n",
       "\\hline\n",
       "\t 80  & 90  &  95\\\\\n",
       "\t 80  & 80  & 100\\\\\n",
       "\t 90  & 80  &  70\\\\\n",
       "\\end{tabular}\n"
      ],
      "text/markdown": [
       "\n",
       "kor | eng | math | \n",
       "|---|---|---|\n",
       "| 80  | 90  |  95 | \n",
       "| 80  | 80  | 100 | \n",
       "| 90  | 80  |  70 | \n",
       "\n",
       "\n"
      ],
      "text/plain": [
       "  kor eng math\n",
       "1 80  90   95 \n",
       "2 80  80  100 \n",
       "3 90  80   70 "
      ]
     },
     "metadata": {},
     "output_type": "display_data"
    }
   ],
   "source": [
    "df_score <- data.frame(kor, eng, math)\n",
    "df_score"
   ]
  },
  {
   "cell_type": "code",
   "execution_count": 4,
   "metadata": {},
   "outputs": [
    {
     "name": "stderr",
     "output_type": "stream",
     "text": [
      "Warning message in mean.default(df_score):\n",
      "\"argument is not numeric or logical: returning NA\""
     ]
    },
    {
     "data": {
      "text/html": [
       "&lt;NA&gt;"
      ],
      "text/latex": [
       "<NA>"
      ],
      "text/markdown": [
       "&lt;NA&gt;"
      ],
      "text/plain": [
       "[1] NA"
      ]
     },
     "metadata": {},
     "output_type": "display_data"
    }
   ],
   "source": [
    "### 평균 구하기\n",
    "mean(df_score)"
   ]
  },
  {
   "cell_type": "code",
   "execution_count": 5,
   "metadata": {},
   "outputs": [
    {
     "data": {
      "text/html": [
       "83.3333333333333"
      ],
      "text/latex": [
       "83.3333333333333"
      ],
      "text/markdown": [
       "83.3333333333333"
      ],
      "text/plain": [
       "[1] 83.33333"
      ]
     },
     "metadata": {},
     "output_type": "display_data"
    }
   ],
   "source": [
    "mean(df_score$kor)"
   ]
  },
  {
   "cell_type": "markdown",
   "metadata": {},
   "source": [
    "###  데이터 프레임 만들기 2"
   ]
  },
  {
   "cell_type": "code",
   "execution_count": 6,
   "metadata": {},
   "outputs": [
    {
     "data": {
      "text/html": [
       "<table>\n",
       "<thead><tr><th scope=col>kor</th><th scope=col>eng</th><th scope=col>math</th></tr></thead>\n",
       "<tbody>\n",
       "\t<tr><td>80 </td><td>90 </td><td> 95</td></tr>\n",
       "\t<tr><td>80 </td><td>80 </td><td>100</td></tr>\n",
       "\t<tr><td>90 </td><td>80 </td><td> 70</td></tr>\n",
       "</tbody>\n",
       "</table>\n"
      ],
      "text/latex": [
       "\\begin{tabular}{r|lll}\n",
       " kor & eng & math\\\\\n",
       "\\hline\n",
       "\t 80  & 90  &  95\\\\\n",
       "\t 80  & 80  & 100\\\\\n",
       "\t 90  & 80  &  70\\\\\n",
       "\\end{tabular}\n"
      ],
      "text/markdown": [
       "\n",
       "kor | eng | math | \n",
       "|---|---|---|\n",
       "| 80  | 90  |  95 | \n",
       "| 80  | 80  | 100 | \n",
       "| 90  | 80  |  70 | \n",
       "\n",
       "\n"
      ],
      "text/plain": [
       "  kor eng math\n",
       "1 80  90   95 \n",
       "2 80  80  100 \n",
       "3 90  80   70 "
      ]
     },
     "metadata": {},
     "output_type": "display_data"
    }
   ],
   "source": [
    "df_score2 <- data.frame(kor = c(80,80,90), eng=c(90,80,80), math=c(95,100,70))\n",
    "df_score2"
   ]
  },
  {
   "cell_type": "markdown",
   "metadata": {},
   "source": [
    "### (ex) 3-1 실습해보기\n",
    "* 데이터 프레임을 만들어 출력해 보자.\n",
    "\n",
    "| 제품 | 가격 | 판매량 | \n",
    "|:--------:|:--------:|:--------:|\n",
    "| 사과 | 6000 | 10 |\n",
    "| 딸기 | 8000 | 5 |\n",
    "| 수박 | 12000 | 5 |\n",
    "\n",
    "(더 해보기) 가격 평균을 구해보기."
   ]
  },
  {
   "cell_type": "markdown",
   "metadata": {},
   "source": [
    "### 3-2 외부 데이터 불러오기\n",
    "* read_excel :: readxl   => 엑셀 파일 불러오기\n",
    "* reac.csv               => csv파일 불러오기"
   ]
  },
  {
   "cell_type": "code",
   "execution_count": 7,
   "metadata": {},
   "outputs": [
    {
     "name": "stderr",
     "output_type": "stream",
     "text": [
      "Warning message:\n",
      "\"unable to access index for repository http://www.stats.ox.ac.uk/pub/RWin/bin/windows/contrib/3.5:\n",
      "  URL 'http://www.stats.ox.ac.uk/pub/RWin/bin/windows/contrib/3.5/PACKAGES'를 열 수 없습니다\""
     ]
    },
    {
     "name": "stdout",
     "output_type": "stream",
     "text": [
      "package 'readxl' successfully unpacked and MD5 sums checked\n",
      "\n",
      "The downloaded binary packages are in\n",
      "\tC:\\Users\\WITHJS\\AppData\\Local\\Temp\\Rtmp0eGcND\\downloaded_packages\n"
     ]
    }
   ],
   "source": [
    "install.packages(\"readxl\")"
   ]
  },
  {
   "cell_type": "code",
   "execution_count": 3,
   "metadata": {},
   "outputs": [],
   "source": [
    "library(readxl)"
   ]
  },
  {
   "cell_type": "code",
   "execution_count": 17,
   "metadata": {},
   "outputs": [
    {
     "data": {
      "text/html": [
       "<table>\n",
       "<thead><tr><th scope=col>datetime</th><th scope=col>season</th><th scope=col>holiday</th><th scope=col>workingday</th><th scope=col>weather</th><th scope=col>temp</th><th scope=col>atemp</th><th scope=col>humidity</th><th scope=col>windspeed</th><th scope=col>casual</th><th scope=col>registered</th><th scope=col>count</th></tr></thead>\n",
       "<tbody>\n",
       "\t<tr><td>2011-01-01 00:00:00</td><td>1                  </td><td>0                  </td><td>0                  </td><td>1                  </td><td> 9.84              </td><td>14.395             </td><td>81                 </td><td>0.0000             </td><td>3                  </td><td>13                 </td><td>16                 </td></tr>\n",
       "\t<tr><td>2011-01-01 01:00:00</td><td>1                  </td><td>0                  </td><td>0                  </td><td>1                  </td><td> 9.02              </td><td>13.635             </td><td>80                 </td><td>0.0000             </td><td>8                  </td><td>32                 </td><td>40                 </td></tr>\n",
       "\t<tr><td>2011-01-01 02:00:00</td><td>1                  </td><td>0                  </td><td>0                  </td><td>1                  </td><td> 9.02              </td><td>13.635             </td><td>80                 </td><td>0.0000             </td><td>5                  </td><td>27                 </td><td>32                 </td></tr>\n",
       "\t<tr><td>2011-01-01 03:00:00</td><td>1                  </td><td>0                  </td><td>0                  </td><td>1                  </td><td> 9.84              </td><td>14.395             </td><td>75                 </td><td>0.0000             </td><td>3                  </td><td>10                 </td><td>13                 </td></tr>\n",
       "\t<tr><td>2011-01-01 04:00:00</td><td>1                  </td><td>0                  </td><td>0                  </td><td>1                  </td><td> 9.84              </td><td>14.395             </td><td>75                 </td><td>0.0000             </td><td>0                  </td><td> 1                 </td><td> 1                 </td></tr>\n",
       "\t<tr><td>2011-01-01 05:00:00</td><td>1                  </td><td>0                  </td><td>0                  </td><td>2                  </td><td> 9.84              </td><td>12.880             </td><td>75                 </td><td>6.0032             </td><td>0                  </td><td> 1                 </td><td> 1                 </td></tr>\n",
       "\t<tr><td>2011-01-01 06:00:00</td><td>1                  </td><td>0                  </td><td>0                  </td><td>1                  </td><td> 9.02              </td><td>13.635             </td><td>80                 </td><td>0.0000             </td><td>2                  </td><td> 0                 </td><td> 2                 </td></tr>\n",
       "\t<tr><td>2011-01-01 07:00:00</td><td>1                  </td><td>0                  </td><td>0                  </td><td>1                  </td><td> 8.20              </td><td>12.880             </td><td>86                 </td><td>0.0000             </td><td>1                  </td><td> 2                 </td><td> 3                 </td></tr>\n",
       "\t<tr><td>2011-01-01 08:00:00</td><td>1                  </td><td>0                  </td><td>0                  </td><td>1                  </td><td> 9.84              </td><td>14.395             </td><td>75                 </td><td>0.0000             </td><td>1                  </td><td> 7                 </td><td> 8                 </td></tr>\n",
       "\t<tr><td>2011-01-01 09:00:00</td><td>1                  </td><td>0                  </td><td>0                  </td><td>1                  </td><td>13.12              </td><td>17.425             </td><td>76                 </td><td>0.0000             </td><td>8                  </td><td> 6                 </td><td>14                 </td></tr>\n",
       "</tbody>\n",
       "</table>\n"
      ],
      "text/latex": [
       "\\begin{tabular}{r|llllllllllll}\n",
       " datetime & season & holiday & workingday & weather & temp & atemp & humidity & windspeed & casual & registered & count\\\\\n",
       "\\hline\n",
       "\t 2011-01-01 00:00:00 & 1                   & 0                   & 0                   & 1                   &  9.84               & 14.395              & 81                  & 0.0000              & 3                   & 13                  & 16                 \\\\\n",
       "\t 2011-01-01 01:00:00 & 1                   & 0                   & 0                   & 1                   &  9.02               & 13.635              & 80                  & 0.0000              & 8                   & 32                  & 40                 \\\\\n",
       "\t 2011-01-01 02:00:00 & 1                   & 0                   & 0                   & 1                   &  9.02               & 13.635              & 80                  & 0.0000              & 5                   & 27                  & 32                 \\\\\n",
       "\t 2011-01-01 03:00:00 & 1                   & 0                   & 0                   & 1                   &  9.84               & 14.395              & 75                  & 0.0000              & 3                   & 10                  & 13                 \\\\\n",
       "\t 2011-01-01 04:00:00 & 1                   & 0                   & 0                   & 1                   &  9.84               & 14.395              & 75                  & 0.0000              & 0                   &  1                  &  1                 \\\\\n",
       "\t 2011-01-01 05:00:00 & 1                   & 0                   & 0                   & 2                   &  9.84               & 12.880              & 75                  & 6.0032              & 0                   &  1                  &  1                 \\\\\n",
       "\t 2011-01-01 06:00:00 & 1                   & 0                   & 0                   & 1                   &  9.02               & 13.635              & 80                  & 0.0000              & 2                   &  0                  &  2                 \\\\\n",
       "\t 2011-01-01 07:00:00 & 1                   & 0                   & 0                   & 1                   &  8.20               & 12.880              & 86                  & 0.0000              & 1                   &  2                  &  3                 \\\\\n",
       "\t 2011-01-01 08:00:00 & 1                   & 0                   & 0                   & 1                   &  9.84               & 14.395              & 75                  & 0.0000              & 1                   &  7                  &  8                 \\\\\n",
       "\t 2011-01-01 09:00:00 & 1                   & 0                   & 0                   & 1                   & 13.12               & 17.425              & 76                  & 0.0000              & 8                   &  6                  & 14                 \\\\\n",
       "\\end{tabular}\n"
      ],
      "text/markdown": [
       "\n",
       "datetime | season | holiday | workingday | weather | temp | atemp | humidity | windspeed | casual | registered | count | \n",
       "|---|---|---|---|---|---|---|---|---|---|\n",
       "| 2011-01-01 00:00:00 | 1                   | 0                   | 0                   | 1                   |  9.84               | 14.395              | 81                  | 0.0000              | 3                   | 13                  | 16                  | \n",
       "| 2011-01-01 01:00:00 | 1                   | 0                   | 0                   | 1                   |  9.02               | 13.635              | 80                  | 0.0000              | 8                   | 32                  | 40                  | \n",
       "| 2011-01-01 02:00:00 | 1                   | 0                   | 0                   | 1                   |  9.02               | 13.635              | 80                  | 0.0000              | 5                   | 27                  | 32                  | \n",
       "| 2011-01-01 03:00:00 | 1                   | 0                   | 0                   | 1                   |  9.84               | 14.395              | 75                  | 0.0000              | 3                   | 10                  | 13                  | \n",
       "| 2011-01-01 04:00:00 | 1                   | 0                   | 0                   | 1                   |  9.84               | 14.395              | 75                  | 0.0000              | 0                   |  1                  |  1                  | \n",
       "| 2011-01-01 05:00:00 | 1                   | 0                   | 0                   | 2                   |  9.84               | 12.880              | 75                  | 6.0032              | 0                   |  1                  |  1                  | \n",
       "| 2011-01-01 06:00:00 | 1                   | 0                   | 0                   | 1                   |  9.02               | 13.635              | 80                  | 0.0000              | 2                   |  0                  |  2                  | \n",
       "| 2011-01-01 07:00:00 | 1                   | 0                   | 0                   | 1                   |  8.20               | 12.880              | 86                  | 0.0000              | 1                   |  2                  |  3                  | \n",
       "| 2011-01-01 08:00:00 | 1                   | 0                   | 0                   | 1                   |  9.84               | 14.395              | 75                  | 0.0000              | 1                   |  7                  |  8                  | \n",
       "| 2011-01-01 09:00:00 | 1                   | 0                   | 0                   | 1                   | 13.12               | 17.425              | 76                  | 0.0000              | 8                   |  6                  | 14                  | \n",
       "\n",
       "\n"
      ],
      "text/plain": [
       "   datetime            season holiday workingday weather temp  atemp  humidity\n",
       "1  2011-01-01 00:00:00 1      0       0          1        9.84 14.395 81      \n",
       "2  2011-01-01 01:00:00 1      0       0          1        9.02 13.635 80      \n",
       "3  2011-01-01 02:00:00 1      0       0          1        9.02 13.635 80      \n",
       "4  2011-01-01 03:00:00 1      0       0          1        9.84 14.395 75      \n",
       "5  2011-01-01 04:00:00 1      0       0          1        9.84 14.395 75      \n",
       "6  2011-01-01 05:00:00 1      0       0          2        9.84 12.880 75      \n",
       "7  2011-01-01 06:00:00 1      0       0          1        9.02 13.635 80      \n",
       "8  2011-01-01 07:00:00 1      0       0          1        8.20 12.880 86      \n",
       "9  2011-01-01 08:00:00 1      0       0          1        9.84 14.395 75      \n",
       "10 2011-01-01 09:00:00 1      0       0          1       13.12 17.425 76      \n",
       "   windspeed casual registered count\n",
       "1  0.0000    3      13         16   \n",
       "2  0.0000    8      32         40   \n",
       "3  0.0000    5      27         32   \n",
       "4  0.0000    3      10         13   \n",
       "5  0.0000    0       1          1   \n",
       "6  6.0032    0       1          1   \n",
       "7  0.0000    2       0          2   \n",
       "8  0.0000    1       2          3   \n",
       "9  0.0000    1       7          8   \n",
       "10 0.0000    8       6         14   "
      ]
     },
     "metadata": {},
     "output_type": "display_data"
    }
   ],
   "source": [
    "df_bike <- read_excel(\"D:\\\\dataset\\\\bike\\\\train_bike.xlsx\") # 첫번째 줄은 변수명으로 인식\n",
    "head(df_bike,10)"
   ]
  },
  {
   "cell_type": "code",
   "execution_count": 6,
   "metadata": {},
   "outputs": [
    {
     "name": "stdout",
     "output_type": "stream",
     "text": [
      "[1] \"tbl_df\"     \"tbl\"        \"data.frame\" \"list\"       \"oldClass\"  \n",
      "[6] \"vector\"    \n",
      "[1] 10886    12\n",
      "    datetime                       season         holiday       \n",
      " Min.   :2011-01-01 00:00:00   Min.   :1.000   Min.   :0.00000  \n",
      " 1st Qu.:2011-07-02 07:15:00   1st Qu.:2.000   1st Qu.:0.00000  \n",
      " Median :2012-01-01 20:30:00   Median :3.000   Median :0.00000  \n",
      " Mean   :2011-12-27 05:56:22   Mean   :2.507   Mean   :0.02857  \n",
      " 3rd Qu.:2012-07-01 12:45:00   3rd Qu.:4.000   3rd Qu.:0.00000  \n",
      " Max.   :2012-12-19 23:00:00   Max.   :4.000   Max.   :1.00000  \n",
      "   workingday        weather           temp           atemp      \n",
      " Min.   :0.0000   Min.   :1.000   Min.   : 0.82   Min.   : 0.76  \n",
      " 1st Qu.:0.0000   1st Qu.:1.000   1st Qu.:13.94   1st Qu.:16.66  \n",
      " Median :1.0000   Median :1.000   Median :20.50   Median :24.24  \n",
      " Mean   :0.6809   Mean   :1.418   Mean   :20.23   Mean   :23.66  \n",
      " 3rd Qu.:1.0000   3rd Qu.:2.000   3rd Qu.:26.24   3rd Qu.:31.06  \n",
      " Max.   :1.0000   Max.   :4.000   Max.   :41.00   Max.   :45.45  \n",
      "    humidity        windspeed          casual         registered   \n",
      " Min.   :  0.00   Min.   : 0.000   Min.   :  0.00   Min.   :  0.0  \n",
      " 1st Qu.: 47.00   1st Qu.: 7.002   1st Qu.:  4.00   1st Qu.: 36.0  \n",
      " Median : 62.00   Median :12.998   Median : 17.00   Median :118.0  \n",
      " Mean   : 61.89   Mean   :12.799   Mean   : 36.02   Mean   :155.6  \n",
      " 3rd Qu.: 77.00   3rd Qu.:16.998   3rd Qu.: 49.00   3rd Qu.:222.0  \n",
      " Max.   :100.00   Max.   :56.997   Max.   :367.00   Max.   :886.0  \n",
      "     count      \n",
      " Min.   :  1.0  \n",
      " 1st Qu.: 42.0  \n",
      " Median :145.0  \n",
      " Mean   :191.6  \n",
      " 3rd Qu.:284.0  \n",
      " Max.   :977.0  \n"
     ]
    }
   ],
   "source": [
    "print(is(df_exam))\n",
    "print(dim(df_exam))\n",
    "print(summary(df_exam))\n"
   ]
  },
  {
   "cell_type": "code",
   "execution_count": 16,
   "metadata": {},
   "outputs": [
    {
     "data": {
      "text/html": [
       "<table>\n",
       "<thead><tr><th scope=col>datetime</th><th scope=col>season</th><th scope=col>holiday</th><th scope=col>workingday</th><th scope=col>weather</th><th scope=col>temp</th><th scope=col>atemp</th><th scope=col>humidity</th><th scope=col>windspeed</th></tr></thead>\n",
       "<tbody>\n",
       "\t<tr><td>2011-01-20 00:00:00</td><td>1                  </td><td>0                  </td><td>1                  </td><td>1                  </td><td>10.66              </td><td>11.365             </td><td>56                 </td><td>26.0027            </td></tr>\n",
       "\t<tr><td>2011-01-20 01:00:00</td><td>1                  </td><td>0                  </td><td>1                  </td><td>1                  </td><td>10.66              </td><td>13.635             </td><td>56                 </td><td> 0.0000            </td></tr>\n",
       "\t<tr><td>2011-01-20 02:00:00</td><td>1                  </td><td>0                  </td><td>1                  </td><td>1                  </td><td>10.66              </td><td>13.635             </td><td>56                 </td><td> 0.0000            </td></tr>\n",
       "\t<tr><td>2011-01-20 03:00:00</td><td>1                  </td><td>0                  </td><td>1                  </td><td>1                  </td><td>10.66              </td><td>12.880             </td><td>56                 </td><td>11.0014            </td></tr>\n",
       "\t<tr><td>2011-01-20 04:00:00</td><td>1                  </td><td>0                  </td><td>1                  </td><td>1                  </td><td>10.66              </td><td>12.880             </td><td>56                 </td><td>11.0014            </td></tr>\n",
       "\t<tr><td>2011-01-20 05:00:00</td><td>1                  </td><td>0                  </td><td>1                  </td><td>1                  </td><td> 9.84              </td><td>11.365             </td><td>60                 </td><td>15.0013            </td></tr>\n",
       "\t<tr><td>2011-01-20 06:00:00</td><td>1                  </td><td>0                  </td><td>1                  </td><td>1                  </td><td> 9.02              </td><td>10.605             </td><td>60                 </td><td>15.0013            </td></tr>\n",
       "\t<tr><td>2011-01-20 07:00:00</td><td>1                  </td><td>0                  </td><td>1                  </td><td>1                  </td><td> 9.02              </td><td>10.605             </td><td>55                 </td><td>15.0013            </td></tr>\n",
       "\t<tr><td>2011-01-20 08:00:00</td><td>1                  </td><td>0                  </td><td>1                  </td><td>1                  </td><td> 9.02              </td><td>10.605             </td><td>55                 </td><td>19.0012            </td></tr>\n",
       "\t<tr><td>2011-01-20 09:00:00</td><td>1                  </td><td>0                  </td><td>1                  </td><td>2                  </td><td> 9.84              </td><td>11.365             </td><td>52                 </td><td>15.0013            </td></tr>\n",
       "</tbody>\n",
       "</table>\n"
      ],
      "text/latex": [
       "\\begin{tabular}{r|lllllllll}\n",
       " datetime & season & holiday & workingday & weather & temp & atemp & humidity & windspeed\\\\\n",
       "\\hline\n",
       "\t 2011-01-20 00:00:00 & 1                   & 0                   & 1                   & 1                   & 10.66               & 11.365              & 56                  & 26.0027            \\\\\n",
       "\t 2011-01-20 01:00:00 & 1                   & 0                   & 1                   & 1                   & 10.66               & 13.635              & 56                  &  0.0000            \\\\\n",
       "\t 2011-01-20 02:00:00 & 1                   & 0                   & 1                   & 1                   & 10.66               & 13.635              & 56                  &  0.0000            \\\\\n",
       "\t 2011-01-20 03:00:00 & 1                   & 0                   & 1                   & 1                   & 10.66               & 12.880              & 56                  & 11.0014            \\\\\n",
       "\t 2011-01-20 04:00:00 & 1                   & 0                   & 1                   & 1                   & 10.66               & 12.880              & 56                  & 11.0014            \\\\\n",
       "\t 2011-01-20 05:00:00 & 1                   & 0                   & 1                   & 1                   &  9.84               & 11.365              & 60                  & 15.0013            \\\\\n",
       "\t 2011-01-20 06:00:00 & 1                   & 0                   & 1                   & 1                   &  9.02               & 10.605              & 60                  & 15.0013            \\\\\n",
       "\t 2011-01-20 07:00:00 & 1                   & 0                   & 1                   & 1                   &  9.02               & 10.605              & 55                  & 15.0013            \\\\\n",
       "\t 2011-01-20 08:00:00 & 1                   & 0                   & 1                   & 1                   &  9.02               & 10.605              & 55                  & 19.0012            \\\\\n",
       "\t 2011-01-20 09:00:00 & 1                   & 0                   & 1                   & 2                   &  9.84               & 11.365              & 52                  & 15.0013            \\\\\n",
       "\\end{tabular}\n"
      ],
      "text/markdown": [
       "\n",
       "datetime | season | holiday | workingday | weather | temp | atemp | humidity | windspeed | \n",
       "|---|---|---|---|---|---|---|---|---|---|\n",
       "| 2011-01-20 00:00:00 | 1                   | 0                   | 1                   | 1                   | 10.66               | 11.365              | 56                  | 26.0027             | \n",
       "| 2011-01-20 01:00:00 | 1                   | 0                   | 1                   | 1                   | 10.66               | 13.635              | 56                  |  0.0000             | \n",
       "| 2011-01-20 02:00:00 | 1                   | 0                   | 1                   | 1                   | 10.66               | 13.635              | 56                  |  0.0000             | \n",
       "| 2011-01-20 03:00:00 | 1                   | 0                   | 1                   | 1                   | 10.66               | 12.880              | 56                  | 11.0014             | \n",
       "| 2011-01-20 04:00:00 | 1                   | 0                   | 1                   | 1                   | 10.66               | 12.880              | 56                  | 11.0014             | \n",
       "| 2011-01-20 05:00:00 | 1                   | 0                   | 1                   | 1                   |  9.84               | 11.365              | 60                  | 15.0013             | \n",
       "| 2011-01-20 06:00:00 | 1                   | 0                   | 1                   | 1                   |  9.02               | 10.605              | 60                  | 15.0013             | \n",
       "| 2011-01-20 07:00:00 | 1                   | 0                   | 1                   | 1                   |  9.02               | 10.605              | 55                  | 15.0013             | \n",
       "| 2011-01-20 08:00:00 | 1                   | 0                   | 1                   | 1                   |  9.02               | 10.605              | 55                  | 19.0012             | \n",
       "| 2011-01-20 09:00:00 | 1                   | 0                   | 1                   | 2                   |  9.84               | 11.365              | 52                  | 15.0013             | \n",
       "\n",
       "\n"
      ],
      "text/plain": [
       "   datetime            season holiday workingday weather temp  atemp  humidity\n",
       "1  2011-01-20 00:00:00 1      0       1          1       10.66 11.365 56      \n",
       "2  2011-01-20 01:00:00 1      0       1          1       10.66 13.635 56      \n",
       "3  2011-01-20 02:00:00 1      0       1          1       10.66 13.635 56      \n",
       "4  2011-01-20 03:00:00 1      0       1          1       10.66 12.880 56      \n",
       "5  2011-01-20 04:00:00 1      0       1          1       10.66 12.880 56      \n",
       "6  2011-01-20 05:00:00 1      0       1          1        9.84 11.365 60      \n",
       "7  2011-01-20 06:00:00 1      0       1          1        9.02 10.605 60      \n",
       "8  2011-01-20 07:00:00 1      0       1          1        9.02 10.605 55      \n",
       "9  2011-01-20 08:00:00 1      0       1          1        9.02 10.605 55      \n",
       "10 2011-01-20 09:00:00 1      0       1          2        9.84 11.365 52      \n",
       "   windspeed\n",
       "1  26.0027  \n",
       "2   0.0000  \n",
       "3   0.0000  \n",
       "4  11.0014  \n",
       "5  11.0014  \n",
       "6  15.0013  \n",
       "7  15.0013  \n",
       "8  15.0013  \n",
       "9  19.0012  \n",
       "10 15.0013  "
      ]
     },
     "metadata": {},
     "output_type": "display_data"
    }
   ],
   "source": [
    "df_exam <- read_excel(\"D:\\\\dataset\\\\Bike\\\\test_notitle.xlsx\") # 첫번째 줄은 변수명으로 인식\n",
    "head(df_exam,10)"
   ]
  },
  {
   "cell_type": "markdown",
   "metadata": {},
   "source": [
    "* col_names를 이용하여 첫번째 행을 변수명이 아닌 데이터로 인식해서 불러온다.\n",
    "* 변수명은 'X_숫자' 로 자동 지정."
   ]
  },
  {
   "cell_type": "code",
   "execution_count": 15,
   "metadata": {},
   "outputs": [
    {
     "data": {
      "text/html": [
       "<table>\n",
       "<thead><tr><th scope=col>X__1</th><th scope=col>X__2</th><th scope=col>X__3</th><th scope=col>X__4</th><th scope=col>X__5</th><th scope=col>X__6</th><th scope=col>X__7</th><th scope=col>X__8</th><th scope=col>X__9</th></tr></thead>\n",
       "<tbody>\n",
       "\t<tr><td>datetime          </td><td>season            </td><td>holiday           </td><td>workingday        </td><td>weather           </td><td>temp              </td><td>atemp             </td><td>humidity          </td><td>windspeed         </td></tr>\n",
       "\t<tr><td>40563             </td><td>1                 </td><td>0                 </td><td>1                 </td><td>1                 </td><td>10.66             </td><td>11.365            </td><td>56                </td><td>26.002700000000001</td></tr>\n",
       "\t<tr><td>40563.041666666664</td><td>1                 </td><td>0                 </td><td>1                 </td><td>1                 </td><td>10.66             </td><td>13.635            </td><td>56                </td><td>0                 </td></tr>\n",
       "\t<tr><td>40563.083333333336</td><td>1                 </td><td>0                 </td><td>1                 </td><td>1                 </td><td>10.66             </td><td>13.635            </td><td>56                </td><td>0                 </td></tr>\n",
       "\t<tr><td>40563.125         </td><td>1                 </td><td>0                 </td><td>1                 </td><td>1                 </td><td>10.66             </td><td>12.88             </td><td>56                </td><td>11.0014           </td></tr>\n",
       "\t<tr><td>40563.166666666664</td><td>1                 </td><td>0                 </td><td>1                 </td><td>1                 </td><td>10.66             </td><td>12.88             </td><td>56                </td><td>11.0014           </td></tr>\n",
       "\t<tr><td>40563.208333333336</td><td>1                 </td><td>0                 </td><td>1                 </td><td>1                 </td><td>9.84              </td><td>11.365            </td><td>60                </td><td>15.001300000000001</td></tr>\n",
       "\t<tr><td>40563.25          </td><td>1                 </td><td>0                 </td><td>1                 </td><td>1                 </td><td>9.02              </td><td>10.605            </td><td>60                </td><td>15.001300000000001</td></tr>\n",
       "\t<tr><td>40563.291666666664</td><td>1                 </td><td>0                 </td><td>1                 </td><td>1                 </td><td>9.02              </td><td>10.605            </td><td>55                </td><td>15.001300000000001</td></tr>\n",
       "\t<tr><td>40563.333333333336</td><td>1                 </td><td>0                 </td><td>1                 </td><td>1                 </td><td>9.02              </td><td>10.605            </td><td>55                </td><td>19.001200000000001</td></tr>\n",
       "</tbody>\n",
       "</table>\n"
      ],
      "text/latex": [
       "\\begin{tabular}{r|lllllllll}\n",
       " X\\_\\_1 & X\\_\\_2 & X\\_\\_3 & X\\_\\_4 & X\\_\\_5 & X\\_\\_6 & X\\_\\_7 & X\\_\\_8 & X\\_\\_9\\\\\n",
       "\\hline\n",
       "\t datetime           & season             & holiday            & workingday         & weather            & temp               & atemp              & humidity           & windspeed         \\\\\n",
       "\t 40563              & 1                  & 0                  & 1                  & 1                  & 10.66              & 11.365             & 56                 & 26.002700000000001\\\\\n",
       "\t 40563.041666666664 & 1                  & 0                  & 1                  & 1                  & 10.66              & 13.635             & 56                 & 0                 \\\\\n",
       "\t 40563.083333333336 & 1                  & 0                  & 1                  & 1                  & 10.66              & 13.635             & 56                 & 0                 \\\\\n",
       "\t 40563.125          & 1                  & 0                  & 1                  & 1                  & 10.66              & 12.88              & 56                 & 11.0014           \\\\\n",
       "\t 40563.166666666664 & 1                  & 0                  & 1                  & 1                  & 10.66              & 12.88              & 56                 & 11.0014           \\\\\n",
       "\t 40563.208333333336 & 1                  & 0                  & 1                  & 1                  & 9.84               & 11.365             & 60                 & 15.001300000000001\\\\\n",
       "\t 40563.25           & 1                  & 0                  & 1                  & 1                  & 9.02               & 10.605             & 60                 & 15.001300000000001\\\\\n",
       "\t 40563.291666666664 & 1                  & 0                  & 1                  & 1                  & 9.02               & 10.605             & 55                 & 15.001300000000001\\\\\n",
       "\t 40563.333333333336 & 1                  & 0                  & 1                  & 1                  & 9.02               & 10.605             & 55                 & 19.001200000000001\\\\\n",
       "\\end{tabular}\n"
      ],
      "text/markdown": [
       "\n",
       "X__1 | X__2 | X__3 | X__4 | X__5 | X__6 | X__7 | X__8 | X__9 | \n",
       "|---|---|---|---|---|---|---|---|---|---|\n",
       "| datetime           | season             | holiday            | workingday         | weather            | temp               | atemp              | humidity           | windspeed          | \n",
       "| 40563              | 1                  | 0                  | 1                  | 1                  | 10.66              | 11.365             | 56                 | 26.002700000000001 | \n",
       "| 40563.041666666664 | 1                  | 0                  | 1                  | 1                  | 10.66              | 13.635             | 56                 | 0                  | \n",
       "| 40563.083333333336 | 1                  | 0                  | 1                  | 1                  | 10.66              | 13.635             | 56                 | 0                  | \n",
       "| 40563.125          | 1                  | 0                  | 1                  | 1                  | 10.66              | 12.88              | 56                 | 11.0014            | \n",
       "| 40563.166666666664 | 1                  | 0                  | 1                  | 1                  | 10.66              | 12.88              | 56                 | 11.0014            | \n",
       "| 40563.208333333336 | 1                  | 0                  | 1                  | 1                  | 9.84               | 11.365             | 60                 | 15.001300000000001 | \n",
       "| 40563.25           | 1                  | 0                  | 1                  | 1                  | 9.02               | 10.605             | 60                 | 15.001300000000001 | \n",
       "| 40563.291666666664 | 1                  | 0                  | 1                  | 1                  | 9.02               | 10.605             | 55                 | 15.001300000000001 | \n",
       "| 40563.333333333336 | 1                  | 0                  | 1                  | 1                  | 9.02               | 10.605             | 55                 | 19.001200000000001 | \n",
       "\n",
       "\n"
      ],
      "text/plain": [
       "   X__1               X__2   X__3    X__4       X__5    X__6  X__7   X__8    \n",
       "1  datetime           season holiday workingday weather temp  atemp  humidity\n",
       "2  40563              1      0       1          1       10.66 11.365 56      \n",
       "3  40563.041666666664 1      0       1          1       10.66 13.635 56      \n",
       "4  40563.083333333336 1      0       1          1       10.66 13.635 56      \n",
       "5  40563.125          1      0       1          1       10.66 12.88  56      \n",
       "6  40563.166666666664 1      0       1          1       10.66 12.88  56      \n",
       "7  40563.208333333336 1      0       1          1       9.84  11.365 60      \n",
       "8  40563.25           1      0       1          1       9.02  10.605 60      \n",
       "9  40563.291666666664 1      0       1          1       9.02  10.605 55      \n",
       "10 40563.333333333336 1      0       1          1       9.02  10.605 55      \n",
       "   X__9              \n",
       "1  windspeed         \n",
       "2  26.002700000000001\n",
       "3  0                 \n",
       "4  0                 \n",
       "5  11.0014           \n",
       "6  11.0014           \n",
       "7  15.001300000000001\n",
       "8  15.001300000000001\n",
       "9  15.001300000000001\n",
       "10 19.001200000000001"
      ]
     },
     "metadata": {},
     "output_type": "display_data"
    }
   ],
   "source": [
    "df_exam <- read_excel(\"D:\\\\dataset\\\\Bike\\\\test_notitle.xlsx\", col_names=F) # 첫번째 줄은 변수명으로 인식\n",
    "head(df_exam,10)"
   ]
  },
  {
   "cell_type": "markdown",
   "metadata": {},
   "source": [
    "### (ex) 3-2 실습해보기\n",
    "* sheet=3을 이용하여 excel_exam_sheet.xlsx를 불러오기"
   ]
  },
  {
   "cell_type": "code",
   "execution_count": 14,
   "metadata": {},
   "outputs": [
    {
     "data": {
      "text/html": [
       "<table>\n",
       "<thead><tr><th scope=col>V1</th><th scope=col>V2</th><th scope=col>V3</th><th scope=col>V4</th><th scope=col>V5</th><th scope=col>V6</th><th scope=col>V7</th><th scope=col>V8</th><th scope=col>V9</th><th scope=col>V10</th><th scope=col>V11</th><th scope=col>V12</th></tr></thead>\n",
       "<tbody>\n",
       "\t<tr><td>datetime           </td><td>season             </td><td>holiday            </td><td>workingday         </td><td>weather            </td><td>temp               </td><td>atemp              </td><td>humidity           </td><td>windspeed          </td><td>casual             </td><td>registered         </td><td>count              </td></tr>\n",
       "\t<tr><td>2011-01-01 00:00:00</td><td>1                  </td><td>0                  </td><td>0                  </td><td>1                  </td><td>9.84               </td><td>14.395             </td><td>81                 </td><td>0                  </td><td>3                  </td><td>13                 </td><td>16                 </td></tr>\n",
       "\t<tr><td>2011-01-01 01:00:00</td><td>1                  </td><td>0                  </td><td>0                  </td><td>1                  </td><td>9.02               </td><td>13.635             </td><td>80                 </td><td>0                  </td><td>8                  </td><td>32                 </td><td>40                 </td></tr>\n",
       "\t<tr><td>2011-01-01 02:00:00</td><td>1                  </td><td>0                  </td><td>0                  </td><td>1                  </td><td>9.02               </td><td>13.635             </td><td>80                 </td><td>0                  </td><td>5                  </td><td>27                 </td><td>32                 </td></tr>\n",
       "\t<tr><td>2011-01-01 03:00:00</td><td>1                  </td><td>0                  </td><td>0                  </td><td>1                  </td><td>9.84               </td><td>14.395             </td><td>75                 </td><td>0                  </td><td>3                  </td><td>10                 </td><td>13                 </td></tr>\n",
       "\t<tr><td>2011-01-01 04:00:00</td><td>1                  </td><td>0                  </td><td>0                  </td><td>1                  </td><td>9.84               </td><td>14.395             </td><td>75                 </td><td>0                  </td><td>0                  </td><td>1                  </td><td>1                  </td></tr>\n",
       "\t<tr><td>2011-01-01 05:00:00</td><td>1                  </td><td>0                  </td><td>0                  </td><td>2                  </td><td>9.84               </td><td>12.88              </td><td>75                 </td><td>6.0032             </td><td>0                  </td><td>1                  </td><td>1                  </td></tr>\n",
       "\t<tr><td>2011-01-01 06:00:00</td><td>1                  </td><td>0                  </td><td>0                  </td><td>1                  </td><td>9.02               </td><td>13.635             </td><td>80                 </td><td>0                  </td><td>2                  </td><td>0                  </td><td>2                  </td></tr>\n",
       "\t<tr><td>2011-01-01 07:00:00</td><td>1                  </td><td>0                  </td><td>0                  </td><td>1                  </td><td>8.2                </td><td>12.88              </td><td>86                 </td><td>0                  </td><td>1                  </td><td>2                  </td><td>3                  </td></tr>\n",
       "\t<tr><td>2011-01-01 08:00:00</td><td>1                  </td><td>0                  </td><td>0                  </td><td>1                  </td><td>9.84               </td><td>14.395             </td><td>75                 </td><td>0                  </td><td>1                  </td><td>7                  </td><td>8                  </td></tr>\n",
       "</tbody>\n",
       "</table>\n"
      ],
      "text/latex": [
       "\\begin{tabular}{r|llllllllllll}\n",
       " V1 & V2 & V3 & V4 & V5 & V6 & V7 & V8 & V9 & V10 & V11 & V12\\\\\n",
       "\\hline\n",
       "\t datetime            & season              & holiday             & workingday          & weather             & temp                & atemp               & humidity            & windspeed           & casual              & registered          & count              \\\\\n",
       "\t 2011-01-01 00:00:00 & 1                   & 0                   & 0                   & 1                   & 9.84                & 14.395              & 81                  & 0                   & 3                   & 13                  & 16                 \\\\\n",
       "\t 2011-01-01 01:00:00 & 1                   & 0                   & 0                   & 1                   & 9.02                & 13.635              & 80                  & 0                   & 8                   & 32                  & 40                 \\\\\n",
       "\t 2011-01-01 02:00:00 & 1                   & 0                   & 0                   & 1                   & 9.02                & 13.635              & 80                  & 0                   & 5                   & 27                  & 32                 \\\\\n",
       "\t 2011-01-01 03:00:00 & 1                   & 0                   & 0                   & 1                   & 9.84                & 14.395              & 75                  & 0                   & 3                   & 10                  & 13                 \\\\\n",
       "\t 2011-01-01 04:00:00 & 1                   & 0                   & 0                   & 1                   & 9.84                & 14.395              & 75                  & 0                   & 0                   & 1                   & 1                  \\\\\n",
       "\t 2011-01-01 05:00:00 & 1                   & 0                   & 0                   & 2                   & 9.84                & 12.88               & 75                  & 6.0032              & 0                   & 1                   & 1                  \\\\\n",
       "\t 2011-01-01 06:00:00 & 1                   & 0                   & 0                   & 1                   & 9.02                & 13.635              & 80                  & 0                   & 2                   & 0                   & 2                  \\\\\n",
       "\t 2011-01-01 07:00:00 & 1                   & 0                   & 0                   & 1                   & 8.2                 & 12.88               & 86                  & 0                   & 1                   & 2                   & 3                  \\\\\n",
       "\t 2011-01-01 08:00:00 & 1                   & 0                   & 0                   & 1                   & 9.84                & 14.395              & 75                  & 0                   & 1                   & 7                   & 8                  \\\\\n",
       "\\end{tabular}\n"
      ],
      "text/markdown": [
       "\n",
       "V1 | V2 | V3 | V4 | V5 | V6 | V7 | V8 | V9 | V10 | V11 | V12 | \n",
       "|---|---|---|---|---|---|---|---|---|---|\n",
       "| datetime            | season              | holiday             | workingday          | weather             | temp                | atemp               | humidity            | windspeed           | casual              | registered          | count               | \n",
       "| 2011-01-01 00:00:00 | 1                   | 0                   | 0                   | 1                   | 9.84                | 14.395              | 81                  | 0                   | 3                   | 13                  | 16                  | \n",
       "| 2011-01-01 01:00:00 | 1                   | 0                   | 0                   | 1                   | 9.02                | 13.635              | 80                  | 0                   | 8                   | 32                  | 40                  | \n",
       "| 2011-01-01 02:00:00 | 1                   | 0                   | 0                   | 1                   | 9.02                | 13.635              | 80                  | 0                   | 5                   | 27                  | 32                  | \n",
       "| 2011-01-01 03:00:00 | 1                   | 0                   | 0                   | 1                   | 9.84                | 14.395              | 75                  | 0                   | 3                   | 10                  | 13                  | \n",
       "| 2011-01-01 04:00:00 | 1                   | 0                   | 0                   | 1                   | 9.84                | 14.395              | 75                  | 0                   | 0                   | 1                   | 1                   | \n",
       "| 2011-01-01 05:00:00 | 1                   | 0                   | 0                   | 2                   | 9.84                | 12.88               | 75                  | 6.0032              | 0                   | 1                   | 1                   | \n",
       "| 2011-01-01 06:00:00 | 1                   | 0                   | 0                   | 1                   | 9.02                | 13.635              | 80                  | 0                   | 2                   | 0                   | 2                   | \n",
       "| 2011-01-01 07:00:00 | 1                   | 0                   | 0                   | 1                   | 8.2                 | 12.88               | 86                  | 0                   | 1                   | 2                   | 3                   | \n",
       "| 2011-01-01 08:00:00 | 1                   | 0                   | 0                   | 1                   | 9.84                | 14.395              | 75                  | 0                   | 1                   | 7                   | 8                   | \n",
       "\n",
       "\n"
      ],
      "text/plain": [
       "   V1                  V2     V3      V4         V5      V6   V7     V8      \n",
       "1  datetime            season holiday workingday weather temp atemp  humidity\n",
       "2  2011-01-01 00:00:00 1      0       0          1       9.84 14.395 81      \n",
       "3  2011-01-01 01:00:00 1      0       0          1       9.02 13.635 80      \n",
       "4  2011-01-01 02:00:00 1      0       0          1       9.02 13.635 80      \n",
       "5  2011-01-01 03:00:00 1      0       0          1       9.84 14.395 75      \n",
       "6  2011-01-01 04:00:00 1      0       0          1       9.84 14.395 75      \n",
       "7  2011-01-01 05:00:00 1      0       0          2       9.84 12.88  75      \n",
       "8  2011-01-01 06:00:00 1      0       0          1       9.02 13.635 80      \n",
       "9  2011-01-01 07:00:00 1      0       0          1       8.2  12.88  86      \n",
       "10 2011-01-01 08:00:00 1      0       0          1       9.84 14.395 75      \n",
       "   V9        V10    V11        V12  \n",
       "1  windspeed casual registered count\n",
       "2  0         3      13         16   \n",
       "3  0         8      32         40   \n",
       "4  0         5      27         32   \n",
       "5  0         3      10         13   \n",
       "6  0         0      1          1    \n",
       "7  6.0032    0      1          1    \n",
       "8  0         2      0          2    \n",
       "9  0         1      2          3    \n",
       "10 0         1      7          8    "
      ]
     },
     "metadata": {},
     "output_type": "display_data"
    }
   ],
   "source": [
    "df_csv_exam <- read.csv(\"D:\\\\dataset\\\\bike\\\\train.csv\", header=F)\n",
    "head(df_csv_exam,10)"
   ]
  },
  {
   "cell_type": "code",
   "execution_count": 13,
   "metadata": {},
   "outputs": [
    {
     "data": {
      "text/html": [
       "<table>\n",
       "<thead><tr><th scope=col>datetime</th><th scope=col>season</th><th scope=col>holiday</th><th scope=col>workingday</th><th scope=col>weather</th><th scope=col>temp</th><th scope=col>atemp</th><th scope=col>humidity</th><th scope=col>windspeed</th><th scope=col>casual</th><th scope=col>registered</th><th scope=col>count</th></tr></thead>\n",
       "<tbody>\n",
       "\t<tr><td>2011-01-01 00:00:00</td><td>1                  </td><td>0                  </td><td>0                  </td><td>1                  </td><td> 9.84              </td><td>14.395             </td><td>81                 </td><td>0.0000             </td><td>3                  </td><td>13                 </td><td>16                 </td></tr>\n",
       "\t<tr><td>2011-01-01 01:00:00</td><td>1                  </td><td>0                  </td><td>0                  </td><td>1                  </td><td> 9.02              </td><td>13.635             </td><td>80                 </td><td>0.0000             </td><td>8                  </td><td>32                 </td><td>40                 </td></tr>\n",
       "\t<tr><td>2011-01-01 02:00:00</td><td>1                  </td><td>0                  </td><td>0                  </td><td>1                  </td><td> 9.02              </td><td>13.635             </td><td>80                 </td><td>0.0000             </td><td>5                  </td><td>27                 </td><td>32                 </td></tr>\n",
       "\t<tr><td>2011-01-01 03:00:00</td><td>1                  </td><td>0                  </td><td>0                  </td><td>1                  </td><td> 9.84              </td><td>14.395             </td><td>75                 </td><td>0.0000             </td><td>3                  </td><td>10                 </td><td>13                 </td></tr>\n",
       "\t<tr><td>2011-01-01 04:00:00</td><td>1                  </td><td>0                  </td><td>0                  </td><td>1                  </td><td> 9.84              </td><td>14.395             </td><td>75                 </td><td>0.0000             </td><td>0                  </td><td> 1                 </td><td> 1                 </td></tr>\n",
       "\t<tr><td>2011-01-01 05:00:00</td><td>1                  </td><td>0                  </td><td>0                  </td><td>2                  </td><td> 9.84              </td><td>12.880             </td><td>75                 </td><td>6.0032             </td><td>0                  </td><td> 1                 </td><td> 1                 </td></tr>\n",
       "\t<tr><td>2011-01-01 06:00:00</td><td>1                  </td><td>0                  </td><td>0                  </td><td>1                  </td><td> 9.02              </td><td>13.635             </td><td>80                 </td><td>0.0000             </td><td>2                  </td><td> 0                 </td><td> 2                 </td></tr>\n",
       "\t<tr><td>2011-01-01 07:00:00</td><td>1                  </td><td>0                  </td><td>0                  </td><td>1                  </td><td> 8.20              </td><td>12.880             </td><td>86                 </td><td>0.0000             </td><td>1                  </td><td> 2                 </td><td> 3                 </td></tr>\n",
       "\t<tr><td>2011-01-01 08:00:00</td><td>1                  </td><td>0                  </td><td>0                  </td><td>1                  </td><td> 9.84              </td><td>14.395             </td><td>75                 </td><td>0.0000             </td><td>1                  </td><td> 7                 </td><td> 8                 </td></tr>\n",
       "\t<tr><td>2011-01-01 09:00:00</td><td>1                  </td><td>0                  </td><td>0                  </td><td>1                  </td><td>13.12              </td><td>17.425             </td><td>76                 </td><td>0.0000             </td><td>8                  </td><td> 6                 </td><td>14                 </td></tr>\n",
       "</tbody>\n",
       "</table>\n"
      ],
      "text/latex": [
       "\\begin{tabular}{r|llllllllllll}\n",
       " datetime & season & holiday & workingday & weather & temp & atemp & humidity & windspeed & casual & registered & count\\\\\n",
       "\\hline\n",
       "\t 2011-01-01 00:00:00 & 1                   & 0                   & 0                   & 1                   &  9.84               & 14.395              & 81                  & 0.0000              & 3                   & 13                  & 16                 \\\\\n",
       "\t 2011-01-01 01:00:00 & 1                   & 0                   & 0                   & 1                   &  9.02               & 13.635              & 80                  & 0.0000              & 8                   & 32                  & 40                 \\\\\n",
       "\t 2011-01-01 02:00:00 & 1                   & 0                   & 0                   & 1                   &  9.02               & 13.635              & 80                  & 0.0000              & 5                   & 27                  & 32                 \\\\\n",
       "\t 2011-01-01 03:00:00 & 1                   & 0                   & 0                   & 1                   &  9.84               & 14.395              & 75                  & 0.0000              & 3                   & 10                  & 13                 \\\\\n",
       "\t 2011-01-01 04:00:00 & 1                   & 0                   & 0                   & 1                   &  9.84               & 14.395              & 75                  & 0.0000              & 0                   &  1                  &  1                 \\\\\n",
       "\t 2011-01-01 05:00:00 & 1                   & 0                   & 0                   & 2                   &  9.84               & 12.880              & 75                  & 6.0032              & 0                   &  1                  &  1                 \\\\\n",
       "\t 2011-01-01 06:00:00 & 1                   & 0                   & 0                   & 1                   &  9.02               & 13.635              & 80                  & 0.0000              & 2                   &  0                  &  2                 \\\\\n",
       "\t 2011-01-01 07:00:00 & 1                   & 0                   & 0                   & 1                   &  8.20               & 12.880              & 86                  & 0.0000              & 1                   &  2                  &  3                 \\\\\n",
       "\t 2011-01-01 08:00:00 & 1                   & 0                   & 0                   & 1                   &  9.84               & 14.395              & 75                  & 0.0000              & 1                   &  7                  &  8                 \\\\\n",
       "\t 2011-01-01 09:00:00 & 1                   & 0                   & 0                   & 1                   & 13.12               & 17.425              & 76                  & 0.0000              & 8                   &  6                  & 14                 \\\\\n",
       "\\end{tabular}\n"
      ],
      "text/markdown": [
       "\n",
       "datetime | season | holiday | workingday | weather | temp | atemp | humidity | windspeed | casual | registered | count | \n",
       "|---|---|---|---|---|---|---|---|---|---|\n",
       "| 2011-01-01 00:00:00 | 1                   | 0                   | 0                   | 1                   |  9.84               | 14.395              | 81                  | 0.0000              | 3                   | 13                  | 16                  | \n",
       "| 2011-01-01 01:00:00 | 1                   | 0                   | 0                   | 1                   |  9.02               | 13.635              | 80                  | 0.0000              | 8                   | 32                  | 40                  | \n",
       "| 2011-01-01 02:00:00 | 1                   | 0                   | 0                   | 1                   |  9.02               | 13.635              | 80                  | 0.0000              | 5                   | 27                  | 32                  | \n",
       "| 2011-01-01 03:00:00 | 1                   | 0                   | 0                   | 1                   |  9.84               | 14.395              | 75                  | 0.0000              | 3                   | 10                  | 13                  | \n",
       "| 2011-01-01 04:00:00 | 1                   | 0                   | 0                   | 1                   |  9.84               | 14.395              | 75                  | 0.0000              | 0                   |  1                  |  1                  | \n",
       "| 2011-01-01 05:00:00 | 1                   | 0                   | 0                   | 2                   |  9.84               | 12.880              | 75                  | 6.0032              | 0                   |  1                  |  1                  | \n",
       "| 2011-01-01 06:00:00 | 1                   | 0                   | 0                   | 1                   |  9.02               | 13.635              | 80                  | 0.0000              | 2                   |  0                  |  2                  | \n",
       "| 2011-01-01 07:00:00 | 1                   | 0                   | 0                   | 1                   |  8.20               | 12.880              | 86                  | 0.0000              | 1                   |  2                  |  3                  | \n",
       "| 2011-01-01 08:00:00 | 1                   | 0                   | 0                   | 1                   |  9.84               | 14.395              | 75                  | 0.0000              | 1                   |  7                  |  8                  | \n",
       "| 2011-01-01 09:00:00 | 1                   | 0                   | 0                   | 1                   | 13.12               | 17.425              | 76                  | 0.0000              | 8                   |  6                  | 14                  | \n",
       "\n",
       "\n"
      ],
      "text/plain": [
       "   datetime            season holiday workingday weather temp  atemp  humidity\n",
       "1  2011-01-01 00:00:00 1      0       0          1        9.84 14.395 81      \n",
       "2  2011-01-01 01:00:00 1      0       0          1        9.02 13.635 80      \n",
       "3  2011-01-01 02:00:00 1      0       0          1        9.02 13.635 80      \n",
       "4  2011-01-01 03:00:00 1      0       0          1        9.84 14.395 75      \n",
       "5  2011-01-01 04:00:00 1      0       0          1        9.84 14.395 75      \n",
       "6  2011-01-01 05:00:00 1      0       0          2        9.84 12.880 75      \n",
       "7  2011-01-01 06:00:00 1      0       0          1        9.02 13.635 80      \n",
       "8  2011-01-01 07:00:00 1      0       0          1        8.20 12.880 86      \n",
       "9  2011-01-01 08:00:00 1      0       0          1        9.84 14.395 75      \n",
       "10 2011-01-01 09:00:00 1      0       0          1       13.12 17.425 76      \n",
       "   windspeed casual registered count\n",
       "1  0.0000    3      13         16   \n",
       "2  0.0000    8      32         40   \n",
       "3  0.0000    5      27         32   \n",
       "4  0.0000    3      10         13   \n",
       "5  0.0000    0       1          1   \n",
       "6  6.0032    0       1          1   \n",
       "7  0.0000    2       0          2   \n",
       "8  0.0000    1       2          3   \n",
       "9  0.0000    1       7          8   \n",
       "10 0.0000    8       6         14   "
      ]
     },
     "metadata": {},
     "output_type": "display_data"
    }
   ],
   "source": [
    "df_csv_exam <- read.csv(\"D:\\\\dataset\\\\bike\\\\train.csv\", header=T)\n",
    "head(df_csv_exam,10)"
   ]
  },
  {
   "cell_type": "markdown",
   "metadata": {},
   "source": [
    "### 3-3 데이터를 파일로 저장하기"
   ]
  },
  {
   "cell_type": "code",
   "execution_count": 15,
   "metadata": {},
   "outputs": [
    {
     "data": {
      "text/html": [
       "<table>\n",
       "<thead><tr><th scope=col>kor</th><th scope=col>eng</th><th scope=col>math</th></tr></thead>\n",
       "<tbody>\n",
       "\t<tr><td>80 </td><td>90 </td><td> 95</td></tr>\n",
       "\t<tr><td>80 </td><td>80 </td><td>100</td></tr>\n",
       "\t<tr><td>90 </td><td>80 </td><td> 70</td></tr>\n",
       "</tbody>\n",
       "</table>\n"
      ],
      "text/latex": [
       "\\begin{tabular}{r|lll}\n",
       " kor & eng & math\\\\\n",
       "\\hline\n",
       "\t 80  & 90  &  95\\\\\n",
       "\t 80  & 80  & 100\\\\\n",
       "\t 90  & 80  &  70\\\\\n",
       "\\end{tabular}\n"
      ],
      "text/markdown": [
       "\n",
       "kor | eng | math | \n",
       "|---|---|---|\n",
       "| 80  | 90  |  95 | \n",
       "| 80  | 80  | 100 | \n",
       "| 90  | 80  |  70 | \n",
       "\n",
       "\n"
      ],
      "text/plain": [
       "  kor eng math\n",
       "1 80  90   95 \n",
       "2 80  80  100 \n",
       "3 90  80   70 "
      ]
     },
     "metadata": {},
     "output_type": "display_data"
    }
   ],
   "source": [
    "df_score3 <- data.frame(kor, eng, math)\n",
    "df_score3"
   ]
  },
  {
   "cell_type": "code",
   "execution_count": 16,
   "metadata": {},
   "outputs": [],
   "source": [
    "write.csv(df_score3, file=\"df_score.csv\")"
   ]
  },
  {
   "cell_type": "markdown",
   "metadata": {},
   "source": [
    "### 3-4 RData 파일 활용하기\n",
    "* save(데이터셋, file=\"파일명.rda\")\n",
    "* load(\"___.rda\")"
   ]
  },
  {
   "cell_type": "code",
   "execution_count": 17,
   "metadata": {},
   "outputs": [],
   "source": [
    "save(df_score3, file=\"df_score.rda\")"
   ]
  },
  {
   "cell_type": "code",
   "execution_count": 18,
   "metadata": {},
   "outputs": [],
   "source": [
    "rm(df_score3)"
   ]
  },
  {
   "cell_type": "code",
   "execution_count": 19,
   "metadata": {},
   "outputs": [
    {
     "data": {
      "text/plain": [
       "df_csv_exam : 'data.frame':\t20 obs. of  5 variables:\n",
       " $ id     : int  1 2 3 4 5 6 7 8 9 10 ...\n",
       " $ class  : int  1 1 1 1 2 2 2 2 3 3 ...\n",
       " $ math   : int  50 60 45 30 25 50 80 90 20 50 ...\n",
       " $ english: int  98 97 86 98 80 89 90 78 98 98 ...\n",
       " $ science: int  50 60 78 58 65 98 45 25 15 45 ...\n",
       "df_exam : Classes 'tbl_df', 'tbl' and 'data.frame':\t8 obs. of  5 variables:\n",
       " $ X__1: num  1 2 3 4 5 6 7 8\n",
       " $ X__2: num  1 1 2 2 3 3 4 4\n",
       " $ X__3: num  50 60 25 50 20 50 46 48\n",
       " $ X__4: num  98 97 80 89 98 98 98 87\n",
       " $ X__5: num  50 60 65 98 15 45 65 12\n",
       "df_score : 'data.frame':\t3 obs. of  3 variables:\n",
       " $ kor : num  80 80 90\n",
       " $ eng : num  90 80 80\n",
       " $ math: num  95 100 70\n",
       "df_score2 : 'data.frame':\t3 obs. of  3 variables:\n",
       " $ kor : num  80 80 90\n",
       " $ eng : num  90 80 80\n",
       " $ math: num  95 100 70\n",
       "eng :  num [1:3] 90 80 80\n",
       "kor :  num [1:3] 80 80 90\n",
       "math :  num [1:3] 95 100 70"
      ]
     },
     "metadata": {},
     "output_type": "display_data"
    }
   ],
   "source": [
    "# 변수의 리스트 확인\n",
    "ls.str()"
   ]
  },
  {
   "cell_type": "code",
   "execution_count": 20,
   "metadata": {},
   "outputs": [
    {
     "data": {
      "text/plain": [
       "df_csv_exam : 'data.frame':\t20 obs. of  5 variables:\n",
       " $ id     : int  1 2 3 4 5 6 7 8 9 10 ...\n",
       " $ class  : int  1 1 1 1 2 2 2 2 3 3 ...\n",
       " $ math   : int  50 60 45 30 25 50 80 90 20 50 ...\n",
       " $ english: int  98 97 86 98 80 89 90 78 98 98 ...\n",
       " $ science: int  50 60 78 58 65 98 45 25 15 45 ...\n",
       "df_exam : Classes 'tbl_df', 'tbl' and 'data.frame':\t8 obs. of  5 variables:\n",
       " $ X__1: num  1 2 3 4 5 6 7 8\n",
       " $ X__2: num  1 1 2 2 3 3 4 4\n",
       " $ X__3: num  50 60 25 50 20 50 46 48\n",
       " $ X__4: num  98 97 80 89 98 98 98 87\n",
       " $ X__5: num  50 60 65 98 15 45 65 12\n",
       "df_score : 'data.frame':\t3 obs. of  3 variables:\n",
       " $ kor : num  80 80 90\n",
       " $ eng : num  90 80 80\n",
       " $ math: num  95 100 70\n",
       "df_score2 : 'data.frame':\t3 obs. of  3 variables:\n",
       " $ kor : num  80 80 90\n",
       " $ eng : num  90 80 80\n",
       " $ math: num  95 100 70\n",
       "df_score3 : 'data.frame':\t3 obs. of  3 variables:\n",
       " $ kor : num  80 80 90\n",
       " $ eng : num  90 80 80\n",
       " $ math: num  95 100 70\n",
       "eng :  num [1:3] 90 80 80\n",
       "kor :  num [1:3] 80 80 90\n",
       "math :  num [1:3] 95 100 70"
      ]
     },
     "metadata": {},
     "output_type": "display_data"
    }
   ],
   "source": [
    "## 불러오기\n",
    "load(\"df_score.rda\")\n",
    "ls.str()"
   ]
  }
 ],
 "metadata": {
  "kernelspec": {
   "display_name": "R",
   "language": "R",
   "name": "ir"
  },
  "language_info": {
   "codemirror_mode": "r",
   "file_extension": ".r",
   "mimetype": "text/x-r-source",
   "name": "R",
   "pygments_lexer": "r",
   "version": "3.5.1"
  }
 },
 "nbformat": 4,
 "nbformat_minor": 2
}
