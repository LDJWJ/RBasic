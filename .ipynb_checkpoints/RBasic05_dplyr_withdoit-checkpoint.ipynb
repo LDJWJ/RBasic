{
 "cells": [
  {
   "cell_type": "markdown",
   "metadata": {},
   "source": [
    "## 05 dplyr를 이용한 데이터 처리"
   ]
  },
  {
   "cell_type": "markdown",
   "metadata": {},
   "source": [
    "### 학습내용\n",
    "* dplyr 패키지의 함수를 알아보기"
   ]
  },
  {
   "cell_type": "markdown",
   "metadata": {},
   "source": [
    "| 함수 | 설명 | \n",
    "|:--------:|:--------:|\n",
    "| filter() | 행 추출 | \n",
    "| select() | 열(변수) 추출 |\n",
    "| arrange() | 정렬 | \n",
    "| mutate() | 변수(variable) 추가 | \n",
    "| summarise() | 통계치 산출 | \n",
    "| group_by() | 집단별로 나누기  |\n",
    "| left_join() | 데이터 합치기(열) | \n",
    "| bind_rows() | 데이터 합치기(행) | "
   ]
  },
  {
   "cell_type": "code",
   "execution_count": 3,
   "metadata": {},
   "outputs": [
    {
     "data": {
      "text/html": [
       "<table>\n",
       "<thead><tr><th scope=col>id</th><th scope=col>class</th><th scope=col>math</th><th scope=col>english</th><th scope=col>science</th></tr></thead>\n",
       "<tbody>\n",
       "\t<tr><td> 1</td><td>1 </td><td>50</td><td>98</td><td>50</td></tr>\n",
       "\t<tr><td> 2</td><td>1 </td><td>60</td><td>97</td><td>60</td></tr>\n",
       "\t<tr><td> 3</td><td>1 </td><td>45</td><td>86</td><td>78</td></tr>\n",
       "\t<tr><td> 4</td><td>1 </td><td>30</td><td>98</td><td>58</td></tr>\n",
       "\t<tr><td> 5</td><td>2 </td><td>25</td><td>80</td><td>65</td></tr>\n",
       "\t<tr><td> 6</td><td>2 </td><td>50</td><td>89</td><td>98</td></tr>\n",
       "\t<tr><td> 7</td><td>2 </td><td>80</td><td>90</td><td>45</td></tr>\n",
       "\t<tr><td> 8</td><td>2 </td><td>90</td><td>78</td><td>25</td></tr>\n",
       "\t<tr><td> 9</td><td>3 </td><td>20</td><td>98</td><td>15</td></tr>\n",
       "\t<tr><td>10</td><td>3 </td><td>50</td><td>98</td><td>45</td></tr>\n",
       "\t<tr><td>11</td><td>3 </td><td>65</td><td>65</td><td>65</td></tr>\n",
       "\t<tr><td>12</td><td>3 </td><td>45</td><td>85</td><td>32</td></tr>\n",
       "\t<tr><td>13</td><td>4 </td><td>46</td><td>98</td><td>65</td></tr>\n",
       "\t<tr><td>14</td><td>4 </td><td>48</td><td>87</td><td>12</td></tr>\n",
       "\t<tr><td>15</td><td>4 </td><td>75</td><td>56</td><td>78</td></tr>\n",
       "\t<tr><td>16</td><td>4 </td><td>58</td><td>98</td><td>65</td></tr>\n",
       "\t<tr><td>17</td><td>5 </td><td>65</td><td>68</td><td>98</td></tr>\n",
       "\t<tr><td>18</td><td>5 </td><td>80</td><td>78</td><td>90</td></tr>\n",
       "\t<tr><td>19</td><td>5 </td><td>89</td><td>68</td><td>87</td></tr>\n",
       "\t<tr><td>20</td><td>5 </td><td>78</td><td>83</td><td>58</td></tr>\n",
       "</tbody>\n",
       "</table>\n"
      ],
      "text/latex": [
       "\\begin{tabular}{r|lllll}\n",
       " id & class & math & english & science\\\\\n",
       "\\hline\n",
       "\t  1 & 1  & 50 & 98 & 50\\\\\n",
       "\t  2 & 1  & 60 & 97 & 60\\\\\n",
       "\t  3 & 1  & 45 & 86 & 78\\\\\n",
       "\t  4 & 1  & 30 & 98 & 58\\\\\n",
       "\t  5 & 2  & 25 & 80 & 65\\\\\n",
       "\t  6 & 2  & 50 & 89 & 98\\\\\n",
       "\t  7 & 2  & 80 & 90 & 45\\\\\n",
       "\t  8 & 2  & 90 & 78 & 25\\\\\n",
       "\t  9 & 3  & 20 & 98 & 15\\\\\n",
       "\t 10 & 3  & 50 & 98 & 45\\\\\n",
       "\t 11 & 3  & 65 & 65 & 65\\\\\n",
       "\t 12 & 3  & 45 & 85 & 32\\\\\n",
       "\t 13 & 4  & 46 & 98 & 65\\\\\n",
       "\t 14 & 4  & 48 & 87 & 12\\\\\n",
       "\t 15 & 4  & 75 & 56 & 78\\\\\n",
       "\t 16 & 4  & 58 & 98 & 65\\\\\n",
       "\t 17 & 5  & 65 & 68 & 98\\\\\n",
       "\t 18 & 5  & 80 & 78 & 90\\\\\n",
       "\t 19 & 5  & 89 & 68 & 87\\\\\n",
       "\t 20 & 5  & 78 & 83 & 58\\\\\n",
       "\\end{tabular}\n"
      ],
      "text/markdown": [
       "\n",
       "id | class | math | english | science | \n",
       "|---|---|---|---|---|---|---|---|---|---|---|---|---|---|---|---|---|---|---|---|\n",
       "|  1 | 1  | 50 | 98 | 50 | \n",
       "|  2 | 1  | 60 | 97 | 60 | \n",
       "|  3 | 1  | 45 | 86 | 78 | \n",
       "|  4 | 1  | 30 | 98 | 58 | \n",
       "|  5 | 2  | 25 | 80 | 65 | \n",
       "|  6 | 2  | 50 | 89 | 98 | \n",
       "|  7 | 2  | 80 | 90 | 45 | \n",
       "|  8 | 2  | 90 | 78 | 25 | \n",
       "|  9 | 3  | 20 | 98 | 15 | \n",
       "| 10 | 3  | 50 | 98 | 45 | \n",
       "| 11 | 3  | 65 | 65 | 65 | \n",
       "| 12 | 3  | 45 | 85 | 32 | \n",
       "| 13 | 4  | 46 | 98 | 65 | \n",
       "| 14 | 4  | 48 | 87 | 12 | \n",
       "| 15 | 4  | 75 | 56 | 78 | \n",
       "| 16 | 4  | 58 | 98 | 65 | \n",
       "| 17 | 5  | 65 | 68 | 98 | \n",
       "| 18 | 5  | 80 | 78 | 90 | \n",
       "| 19 | 5  | 89 | 68 | 87 | \n",
       "| 20 | 5  | 78 | 83 | 58 | \n",
       "\n",
       "\n"
      ],
      "text/plain": [
       "   id class math english science\n",
       "1   1 1     50   98      50     \n",
       "2   2 1     60   97      60     \n",
       "3   3 1     45   86      78     \n",
       "4   4 1     30   98      58     \n",
       "5   5 2     25   80      65     \n",
       "6   6 2     50   89      98     \n",
       "7   7 2     80   90      45     \n",
       "8   8 2     90   78      25     \n",
       "9   9 3     20   98      15     \n",
       "10 10 3     50   98      45     \n",
       "11 11 3     65   65      65     \n",
       "12 12 3     45   85      32     \n",
       "13 13 4     46   98      65     \n",
       "14 14 4     48   87      12     \n",
       "15 15 4     75   56      78     \n",
       "16 16 4     58   98      65     \n",
       "17 17 5     65   68      98     \n",
       "18 18 5     80   78      90     \n",
       "19 19 5     89   68      87     \n",
       "20 20 5     78   83      58     "
      ]
     },
     "metadata": {},
     "output_type": "display_data"
    }
   ],
   "source": [
    "library(dplyr)\n",
    "exam <- read.csv(\"D:\\\\dataset\\\\R_Doit\\\\csv_exam.csv\")\n",
    "exam"
   ]
  },
  {
   "cell_type": "code",
   "execution_count": 4,
   "metadata": {},
   "outputs": [
    {
     "data": {
      "text/html": [
       "<ol class=list-inline>\n",
       "\t<li>'id'</li>\n",
       "\t<li>'class'</li>\n",
       "\t<li>'math'</li>\n",
       "\t<li>'english'</li>\n",
       "\t<li>'science'</li>\n",
       "</ol>\n"
      ],
      "text/latex": [
       "\\begin{enumerate*}\n",
       "\\item 'id'\n",
       "\\item 'class'\n",
       "\\item 'math'\n",
       "\\item 'english'\n",
       "\\item 'science'\n",
       "\\end{enumerate*}\n"
      ],
      "text/markdown": [
       "1. 'id'\n",
       "2. 'class'\n",
       "3. 'math'\n",
       "4. 'english'\n",
       "5. 'science'\n",
       "\n",
       "\n"
      ],
      "text/plain": [
       "[1] \"id\"      \"class\"   \"math\"    \"english\" \"science\""
      ]
     },
     "metadata": {},
     "output_type": "display_data"
    }
   ],
   "source": [
    "names(exam)"
   ]
  },
  {
   "cell_type": "markdown",
   "metadata": {},
   "source": [
    "### exam에서 class가 1인 값만 가져오기\n",
    "* filter(조건)\n",
    "* exam %>% filter(class==1)"
   ]
  },
  {
   "cell_type": "code",
   "execution_count": 5,
   "metadata": {},
   "outputs": [
    {
     "data": {
      "text/html": [
       "<table>\n",
       "<thead><tr><th scope=col>id</th><th scope=col>class</th><th scope=col>math</th><th scope=col>english</th><th scope=col>science</th></tr></thead>\n",
       "<tbody>\n",
       "\t<tr><td>1 </td><td>1 </td><td>50</td><td>98</td><td>50</td></tr>\n",
       "\t<tr><td>2 </td><td>1 </td><td>60</td><td>97</td><td>60</td></tr>\n",
       "\t<tr><td>3 </td><td>1 </td><td>45</td><td>86</td><td>78</td></tr>\n",
       "\t<tr><td>4 </td><td>1 </td><td>30</td><td>98</td><td>58</td></tr>\n",
       "</tbody>\n",
       "</table>\n"
      ],
      "text/latex": [
       "\\begin{tabular}{r|lllll}\n",
       " id & class & math & english & science\\\\\n",
       "\\hline\n",
       "\t 1  & 1  & 50 & 98 & 50\\\\\n",
       "\t 2  & 1  & 60 & 97 & 60\\\\\n",
       "\t 3  & 1  & 45 & 86 & 78\\\\\n",
       "\t 4  & 1  & 30 & 98 & 58\\\\\n",
       "\\end{tabular}\n"
      ],
      "text/markdown": [
       "\n",
       "id | class | math | english | science | \n",
       "|---|---|---|---|\n",
       "| 1  | 1  | 50 | 98 | 50 | \n",
       "| 2  | 1  | 60 | 97 | 60 | \n",
       "| 3  | 1  | 45 | 86 | 78 | \n",
       "| 4  | 1  | 30 | 98 | 58 | \n",
       "\n",
       "\n"
      ],
      "text/plain": [
       "  id class math english science\n",
       "1 1  1     50   98      50     \n",
       "2 2  1     60   97      60     \n",
       "3 3  1     45   86      78     \n",
       "4 4  1     30   98      58     "
      ]
     },
     "metadata": {},
     "output_type": "display_data"
    }
   ],
   "source": [
    "exam %>% filter(class==1)"
   ]
  },
  {
   "cell_type": "markdown",
   "metadata": {},
   "source": [
    "### (ex) 5-1 실습해 보기 \n",
    "* filter를 이용하여 3반인 경우 출력해보기\n",
    "* filter를 이용 1반이 아닌 경우 행 보기\n",
    "* filter를 이용 수학점수가 평균 이상인 친구 출력해 보기"
   ]
  },
  {
   "cell_type": "code",
   "execution_count": 6,
   "metadata": {},
   "outputs": [
    {
     "data": {
      "text/html": [
       "<table>\n",
       "<thead><tr><th scope=col>id</th><th scope=col>class</th><th scope=col>math</th><th scope=col>english</th><th scope=col>science</th></tr></thead>\n",
       "<tbody>\n",
       "\t<tr><td>1 </td><td>1 </td><td>50</td><td>98</td><td>50</td></tr>\n",
       "\t<tr><td>2 </td><td>1 </td><td>60</td><td>97</td><td>60</td></tr>\n",
       "</tbody>\n",
       "</table>\n"
      ],
      "text/latex": [
       "\\begin{tabular}{r|lllll}\n",
       " id & class & math & english & science\\\\\n",
       "\\hline\n",
       "\t 1  & 1  & 50 & 98 & 50\\\\\n",
       "\t 2  & 1  & 60 & 97 & 60\\\\\n",
       "\\end{tabular}\n"
      ],
      "text/markdown": [
       "\n",
       "id | class | math | english | science | \n",
       "|---|---|\n",
       "| 1  | 1  | 50 | 98 | 50 | \n",
       "| 2  | 1  | 60 | 97 | 60 | \n",
       "\n",
       "\n"
      ],
      "text/plain": [
       "  id class math english science\n",
       "1 1  1     50   98      50     \n",
       "2 2  1     60   97      60     "
      ]
     },
     "metadata": {},
     "output_type": "display_data"
    }
   ],
   "source": [
    "exam %>% filter(class==1 & math >=50)   # 1반이면서 50점 이상출력"
   ]
  },
  {
   "cell_type": "code",
   "execution_count": 7,
   "metadata": {},
   "outputs": [
    {
     "data": {
      "text/html": [
       "<table>\n",
       "<thead><tr><th scope=col>id</th><th scope=col>class</th><th scope=col>math</th><th scope=col>english</th><th scope=col>science</th></tr></thead>\n",
       "<tbody>\n",
       "\t<tr><td> 1</td><td>1 </td><td>50</td><td>98</td><td>50</td></tr>\n",
       "\t<tr><td> 2</td><td>1 </td><td>60</td><td>97</td><td>60</td></tr>\n",
       "\t<tr><td> 3</td><td>1 </td><td>45</td><td>86</td><td>78</td></tr>\n",
       "\t<tr><td> 4</td><td>1 </td><td>30</td><td>98</td><td>58</td></tr>\n",
       "\t<tr><td> 6</td><td>2 </td><td>50</td><td>89</td><td>98</td></tr>\n",
       "\t<tr><td> 7</td><td>2 </td><td>80</td><td>90</td><td>45</td></tr>\n",
       "\t<tr><td> 8</td><td>2 </td><td>90</td><td>78</td><td>25</td></tr>\n",
       "\t<tr><td>10</td><td>3 </td><td>50</td><td>98</td><td>45</td></tr>\n",
       "\t<tr><td>11</td><td>3 </td><td>65</td><td>65</td><td>65</td></tr>\n",
       "\t<tr><td>15</td><td>4 </td><td>75</td><td>56</td><td>78</td></tr>\n",
       "\t<tr><td>16</td><td>4 </td><td>58</td><td>98</td><td>65</td></tr>\n",
       "\t<tr><td>17</td><td>5 </td><td>65</td><td>68</td><td>98</td></tr>\n",
       "\t<tr><td>18</td><td>5 </td><td>80</td><td>78</td><td>90</td></tr>\n",
       "\t<tr><td>19</td><td>5 </td><td>89</td><td>68</td><td>87</td></tr>\n",
       "\t<tr><td>20</td><td>5 </td><td>78</td><td>83</td><td>58</td></tr>\n",
       "</tbody>\n",
       "</table>\n"
      ],
      "text/latex": [
       "\\begin{tabular}{r|lllll}\n",
       " id & class & math & english & science\\\\\n",
       "\\hline\n",
       "\t  1 & 1  & 50 & 98 & 50\\\\\n",
       "\t  2 & 1  & 60 & 97 & 60\\\\\n",
       "\t  3 & 1  & 45 & 86 & 78\\\\\n",
       "\t  4 & 1  & 30 & 98 & 58\\\\\n",
       "\t  6 & 2  & 50 & 89 & 98\\\\\n",
       "\t  7 & 2  & 80 & 90 & 45\\\\\n",
       "\t  8 & 2  & 90 & 78 & 25\\\\\n",
       "\t 10 & 3  & 50 & 98 & 45\\\\\n",
       "\t 11 & 3  & 65 & 65 & 65\\\\\n",
       "\t 15 & 4  & 75 & 56 & 78\\\\\n",
       "\t 16 & 4  & 58 & 98 & 65\\\\\n",
       "\t 17 & 5  & 65 & 68 & 98\\\\\n",
       "\t 18 & 5  & 80 & 78 & 90\\\\\n",
       "\t 19 & 5  & 89 & 68 & 87\\\\\n",
       "\t 20 & 5  & 78 & 83 & 58\\\\\n",
       "\\end{tabular}\n"
      ],
      "text/markdown": [
       "\n",
       "id | class | math | english | science | \n",
       "|---|---|---|---|---|---|---|---|---|---|---|---|---|---|---|\n",
       "|  1 | 1  | 50 | 98 | 50 | \n",
       "|  2 | 1  | 60 | 97 | 60 | \n",
       "|  3 | 1  | 45 | 86 | 78 | \n",
       "|  4 | 1  | 30 | 98 | 58 | \n",
       "|  6 | 2  | 50 | 89 | 98 | \n",
       "|  7 | 2  | 80 | 90 | 45 | \n",
       "|  8 | 2  | 90 | 78 | 25 | \n",
       "| 10 | 3  | 50 | 98 | 45 | \n",
       "| 11 | 3  | 65 | 65 | 65 | \n",
       "| 15 | 4  | 75 | 56 | 78 | \n",
       "| 16 | 4  | 58 | 98 | 65 | \n",
       "| 17 | 5  | 65 | 68 | 98 | \n",
       "| 18 | 5  | 80 | 78 | 90 | \n",
       "| 19 | 5  | 89 | 68 | 87 | \n",
       "| 20 | 5  | 78 | 83 | 58 | \n",
       "\n",
       "\n"
      ],
      "text/plain": [
       "   id class math english science\n",
       "1   1 1     50   98      50     \n",
       "2   2 1     60   97      60     \n",
       "3   3 1     45   86      78     \n",
       "4   4 1     30   98      58     \n",
       "5   6 2     50   89      98     \n",
       "6   7 2     80   90      45     \n",
       "7   8 2     90   78      25     \n",
       "8  10 3     50   98      45     \n",
       "9  11 3     65   65      65     \n",
       "10 15 4     75   56      78     \n",
       "11 16 4     58   98      65     \n",
       "12 17 5     65   68      98     \n",
       "13 18 5     80   78      90     \n",
       "14 19 5     89   68      87     \n",
       "15 20 5     78   83      58     "
      ]
     },
     "metadata": {},
     "output_type": "display_data"
    }
   ],
   "source": [
    "exam %>% filter(class==1 | math >=50)   # 1반이거나 50점 이상출력"
   ]
  },
  {
   "cell_type": "markdown",
   "metadata": {},
   "source": [
    "### 1,3,5반에 해당되는 친구 출력 %in% 이용\n",
    "* filter ( 컬럼명 %in% c(1,3,5))"
   ]
  },
  {
   "cell_type": "code",
   "execution_count": 10,
   "metadata": {},
   "outputs": [
    {
     "data": {
      "text/html": [
       "<table>\n",
       "<thead><tr><th scope=col>id</th><th scope=col>class</th><th scope=col>math</th><th scope=col>english</th><th scope=col>science</th></tr></thead>\n",
       "<tbody>\n",
       "\t<tr><td> 1</td><td>1 </td><td>50</td><td>98</td><td>50</td></tr>\n",
       "\t<tr><td> 2</td><td>1 </td><td>60</td><td>97</td><td>60</td></tr>\n",
       "\t<tr><td> 3</td><td>1 </td><td>45</td><td>86</td><td>78</td></tr>\n",
       "\t<tr><td> 4</td><td>1 </td><td>30</td><td>98</td><td>58</td></tr>\n",
       "\t<tr><td> 9</td><td>3 </td><td>20</td><td>98</td><td>15</td></tr>\n",
       "\t<tr><td>10</td><td>3 </td><td>50</td><td>98</td><td>45</td></tr>\n",
       "\t<tr><td>11</td><td>3 </td><td>65</td><td>65</td><td>65</td></tr>\n",
       "\t<tr><td>12</td><td>3 </td><td>45</td><td>85</td><td>32</td></tr>\n",
       "\t<tr><td>17</td><td>5 </td><td>65</td><td>68</td><td>98</td></tr>\n",
       "\t<tr><td>18</td><td>5 </td><td>80</td><td>78</td><td>90</td></tr>\n",
       "\t<tr><td>19</td><td>5 </td><td>89</td><td>68</td><td>87</td></tr>\n",
       "\t<tr><td>20</td><td>5 </td><td>78</td><td>83</td><td>58</td></tr>\n",
       "</tbody>\n",
       "</table>\n"
      ],
      "text/latex": [
       "\\begin{tabular}{r|lllll}\n",
       " id & class & math & english & science\\\\\n",
       "\\hline\n",
       "\t  1 & 1  & 50 & 98 & 50\\\\\n",
       "\t  2 & 1  & 60 & 97 & 60\\\\\n",
       "\t  3 & 1  & 45 & 86 & 78\\\\\n",
       "\t  4 & 1  & 30 & 98 & 58\\\\\n",
       "\t  9 & 3  & 20 & 98 & 15\\\\\n",
       "\t 10 & 3  & 50 & 98 & 45\\\\\n",
       "\t 11 & 3  & 65 & 65 & 65\\\\\n",
       "\t 12 & 3  & 45 & 85 & 32\\\\\n",
       "\t 17 & 5  & 65 & 68 & 98\\\\\n",
       "\t 18 & 5  & 80 & 78 & 90\\\\\n",
       "\t 19 & 5  & 89 & 68 & 87\\\\\n",
       "\t 20 & 5  & 78 & 83 & 58\\\\\n",
       "\\end{tabular}\n"
      ],
      "text/markdown": [
       "\n",
       "id | class | math | english | science | \n",
       "|---|---|---|---|---|---|---|---|---|---|---|---|\n",
       "|  1 | 1  | 50 | 98 | 50 | \n",
       "|  2 | 1  | 60 | 97 | 60 | \n",
       "|  3 | 1  | 45 | 86 | 78 | \n",
       "|  4 | 1  | 30 | 98 | 58 | \n",
       "|  9 | 3  | 20 | 98 | 15 | \n",
       "| 10 | 3  | 50 | 98 | 45 | \n",
       "| 11 | 3  | 65 | 65 | 65 | \n",
       "| 12 | 3  | 45 | 85 | 32 | \n",
       "| 17 | 5  | 65 | 68 | 98 | \n",
       "| 18 | 5  | 80 | 78 | 90 | \n",
       "| 19 | 5  | 89 | 68 | 87 | \n",
       "| 20 | 5  | 78 | 83 | 58 | \n",
       "\n",
       "\n"
      ],
      "text/plain": [
       "   id class math english science\n",
       "1   1 1     50   98      50     \n",
       "2   2 1     60   97      60     \n",
       "3   3 1     45   86      78     \n",
       "4   4 1     30   98      58     \n",
       "5   9 3     20   98      15     \n",
       "6  10 3     50   98      45     \n",
       "7  11 3     65   65      65     \n",
       "8  12 3     45   85      32     \n",
       "9  17 5     65   68      98     \n",
       "10 18 5     80   78      90     \n",
       "11 19 5     89   68      87     \n",
       "12 20 5     78   83      58     "
      ]
     },
     "metadata": {},
     "output_type": "display_data"
    }
   ],
   "source": [
    "exam %>% filter( class %in% c(1,3,5) )"
   ]
  },
  {
   "cell_type": "markdown",
   "metadata": {},
   "source": [
    "### 실습과제 5-2 - p133"
   ]
  },
  {
   "cell_type": "markdown",
   "metadata": {},
   "source": [
    "### 5-2 필요한 변수만 추출하기\n",
    "* select(변수명)"
   ]
  },
  {
   "cell_type": "code",
   "execution_count": 12,
   "metadata": {},
   "outputs": [
    {
     "data": {
      "text/html": [
       "<ol class=list-inline>\n",
       "\t<li>'id'</li>\n",
       "\t<li>'class'</li>\n",
       "\t<li>'math'</li>\n",
       "\t<li>'english'</li>\n",
       "\t<li>'science'</li>\n",
       "</ol>\n"
      ],
      "text/latex": [
       "\\begin{enumerate*}\n",
       "\\item 'id'\n",
       "\\item 'class'\n",
       "\\item 'math'\n",
       "\\item 'english'\n",
       "\\item 'science'\n",
       "\\end{enumerate*}\n"
      ],
      "text/markdown": [
       "1. 'id'\n",
       "2. 'class'\n",
       "3. 'math'\n",
       "4. 'english'\n",
       "5. 'science'\n",
       "\n",
       "\n"
      ],
      "text/plain": [
       "[1] \"id\"      \"class\"   \"math\"    \"english\" \"science\""
      ]
     },
     "metadata": {},
     "output_type": "display_data"
    }
   ],
   "source": [
    "names(exam)"
   ]
  },
  {
   "cell_type": "code",
   "execution_count": 11,
   "metadata": {},
   "outputs": [
    {
     "data": {
      "text/html": [
       "<table>\n",
       "<thead><tr><th scope=col>english</th></tr></thead>\n",
       "<tbody>\n",
       "\t<tr><td>98</td></tr>\n",
       "\t<tr><td>97</td></tr>\n",
       "\t<tr><td>86</td></tr>\n",
       "\t<tr><td>98</td></tr>\n",
       "\t<tr><td>80</td></tr>\n",
       "\t<tr><td>89</td></tr>\n",
       "\t<tr><td>90</td></tr>\n",
       "\t<tr><td>78</td></tr>\n",
       "\t<tr><td>98</td></tr>\n",
       "\t<tr><td>98</td></tr>\n",
       "\t<tr><td>65</td></tr>\n",
       "\t<tr><td>85</td></tr>\n",
       "\t<tr><td>98</td></tr>\n",
       "\t<tr><td>87</td></tr>\n",
       "\t<tr><td>56</td></tr>\n",
       "\t<tr><td>98</td></tr>\n",
       "\t<tr><td>68</td></tr>\n",
       "\t<tr><td>78</td></tr>\n",
       "\t<tr><td>68</td></tr>\n",
       "\t<tr><td>83</td></tr>\n",
       "</tbody>\n",
       "</table>\n"
      ],
      "text/latex": [
       "\\begin{tabular}{r|l}\n",
       " english\\\\\n",
       "\\hline\n",
       "\t 98\\\\\n",
       "\t 97\\\\\n",
       "\t 86\\\\\n",
       "\t 98\\\\\n",
       "\t 80\\\\\n",
       "\t 89\\\\\n",
       "\t 90\\\\\n",
       "\t 78\\\\\n",
       "\t 98\\\\\n",
       "\t 98\\\\\n",
       "\t 65\\\\\n",
       "\t 85\\\\\n",
       "\t 98\\\\\n",
       "\t 87\\\\\n",
       "\t 56\\\\\n",
       "\t 98\\\\\n",
       "\t 68\\\\\n",
       "\t 78\\\\\n",
       "\t 68\\\\\n",
       "\t 83\\\\\n",
       "\\end{tabular}\n"
      ],
      "text/markdown": [
       "\n",
       "english | \n",
       "|---|---|---|---|---|---|---|---|---|---|---|---|---|---|---|---|---|---|---|---|\n",
       "| 98 | \n",
       "| 97 | \n",
       "| 86 | \n",
       "| 98 | \n",
       "| 80 | \n",
       "| 89 | \n",
       "| 90 | \n",
       "| 78 | \n",
       "| 98 | \n",
       "| 98 | \n",
       "| 65 | \n",
       "| 85 | \n",
       "| 98 | \n",
       "| 87 | \n",
       "| 56 | \n",
       "| 98 | \n",
       "| 68 | \n",
       "| 78 | \n",
       "| 68 | \n",
       "| 83 | \n",
       "\n",
       "\n"
      ],
      "text/plain": [
       "   english\n",
       "1  98     \n",
       "2  97     \n",
       "3  86     \n",
       "4  98     \n",
       "5  80     \n",
       "6  89     \n",
       "7  90     \n",
       "8  78     \n",
       "9  98     \n",
       "10 98     \n",
       "11 65     \n",
       "12 85     \n",
       "13 98     \n",
       "14 87     \n",
       "15 56     \n",
       "16 98     \n",
       "17 68     \n",
       "18 78     \n",
       "19 68     \n",
       "20 83     "
      ]
     },
     "metadata": {},
     "output_type": "display_data"
    }
   ],
   "source": [
    "exam %>% select(english)"
   ]
  },
  {
   "cell_type": "code",
   "execution_count": 13,
   "metadata": {},
   "outputs": [
    {
     "data": {
      "text/html": [
       "<table>\n",
       "<thead><tr><th scope=col>math</th><th scope=col>english</th><th scope=col>science</th></tr></thead>\n",
       "<tbody>\n",
       "\t<tr><td>50</td><td>98</td><td>50</td></tr>\n",
       "\t<tr><td>60</td><td>97</td><td>60</td></tr>\n",
       "\t<tr><td>45</td><td>86</td><td>78</td></tr>\n",
       "\t<tr><td>30</td><td>98</td><td>58</td></tr>\n",
       "\t<tr><td>25</td><td>80</td><td>65</td></tr>\n",
       "\t<tr><td>50</td><td>89</td><td>98</td></tr>\n",
       "\t<tr><td>80</td><td>90</td><td>45</td></tr>\n",
       "\t<tr><td>90</td><td>78</td><td>25</td></tr>\n",
       "\t<tr><td>20</td><td>98</td><td>15</td></tr>\n",
       "\t<tr><td>50</td><td>98</td><td>45</td></tr>\n",
       "\t<tr><td>65</td><td>65</td><td>65</td></tr>\n",
       "\t<tr><td>45</td><td>85</td><td>32</td></tr>\n",
       "\t<tr><td>46</td><td>98</td><td>65</td></tr>\n",
       "\t<tr><td>48</td><td>87</td><td>12</td></tr>\n",
       "\t<tr><td>75</td><td>56</td><td>78</td></tr>\n",
       "\t<tr><td>58</td><td>98</td><td>65</td></tr>\n",
       "\t<tr><td>65</td><td>68</td><td>98</td></tr>\n",
       "\t<tr><td>80</td><td>78</td><td>90</td></tr>\n",
       "\t<tr><td>89</td><td>68</td><td>87</td></tr>\n",
       "\t<tr><td>78</td><td>83</td><td>58</td></tr>\n",
       "</tbody>\n",
       "</table>\n"
      ],
      "text/latex": [
       "\\begin{tabular}{r|lll}\n",
       " math & english & science\\\\\n",
       "\\hline\n",
       "\t 50 & 98 & 50\\\\\n",
       "\t 60 & 97 & 60\\\\\n",
       "\t 45 & 86 & 78\\\\\n",
       "\t 30 & 98 & 58\\\\\n",
       "\t 25 & 80 & 65\\\\\n",
       "\t 50 & 89 & 98\\\\\n",
       "\t 80 & 90 & 45\\\\\n",
       "\t 90 & 78 & 25\\\\\n",
       "\t 20 & 98 & 15\\\\\n",
       "\t 50 & 98 & 45\\\\\n",
       "\t 65 & 65 & 65\\\\\n",
       "\t 45 & 85 & 32\\\\\n",
       "\t 46 & 98 & 65\\\\\n",
       "\t 48 & 87 & 12\\\\\n",
       "\t 75 & 56 & 78\\\\\n",
       "\t 58 & 98 & 65\\\\\n",
       "\t 65 & 68 & 98\\\\\n",
       "\t 80 & 78 & 90\\\\\n",
       "\t 89 & 68 & 87\\\\\n",
       "\t 78 & 83 & 58\\\\\n",
       "\\end{tabular}\n"
      ],
      "text/markdown": [
       "\n",
       "math | english | science | \n",
       "|---|---|---|---|---|---|---|---|---|---|---|---|---|---|---|---|---|---|---|---|\n",
       "| 50 | 98 | 50 | \n",
       "| 60 | 97 | 60 | \n",
       "| 45 | 86 | 78 | \n",
       "| 30 | 98 | 58 | \n",
       "| 25 | 80 | 65 | \n",
       "| 50 | 89 | 98 | \n",
       "| 80 | 90 | 45 | \n",
       "| 90 | 78 | 25 | \n",
       "| 20 | 98 | 15 | \n",
       "| 50 | 98 | 45 | \n",
       "| 65 | 65 | 65 | \n",
       "| 45 | 85 | 32 | \n",
       "| 46 | 98 | 65 | \n",
       "| 48 | 87 | 12 | \n",
       "| 75 | 56 | 78 | \n",
       "| 58 | 98 | 65 | \n",
       "| 65 | 68 | 98 | \n",
       "| 80 | 78 | 90 | \n",
       "| 89 | 68 | 87 | \n",
       "| 78 | 83 | 58 | \n",
       "\n",
       "\n"
      ],
      "text/plain": [
       "   math english science\n",
       "1  50   98      50     \n",
       "2  60   97      60     \n",
       "3  45   86      78     \n",
       "4  30   98      58     \n",
       "5  25   80      65     \n",
       "6  50   89      98     \n",
       "7  80   90      45     \n",
       "8  90   78      25     \n",
       "9  20   98      15     \n",
       "10 50   98      45     \n",
       "11 65   65      65     \n",
       "12 45   85      32     \n",
       "13 46   98      65     \n",
       "14 48   87      12     \n",
       "15 75   56      78     \n",
       "16 58   98      65     \n",
       "17 65   68      98     \n",
       "18 80   78      90     \n",
       "19 89   68      87     \n",
       "20 78   83      58     "
      ]
     },
     "metadata": {},
     "output_type": "display_data"
    }
   ],
   "source": [
    "exam %>% select(math, english, science)"
   ]
  },
  {
   "cell_type": "markdown",
   "metadata": {},
   "source": [
    "### 변수 제외"
   ]
  },
  {
   "cell_type": "code",
   "execution_count": 14,
   "metadata": {},
   "outputs": [
    {
     "data": {
      "text/html": [
       "<table>\n",
       "<thead><tr><th scope=col>id</th><th scope=col>class</th><th scope=col>math</th><th scope=col>science</th></tr></thead>\n",
       "<tbody>\n",
       "\t<tr><td> 1</td><td>1 </td><td>50</td><td>50</td></tr>\n",
       "\t<tr><td> 2</td><td>1 </td><td>60</td><td>60</td></tr>\n",
       "\t<tr><td> 3</td><td>1 </td><td>45</td><td>78</td></tr>\n",
       "\t<tr><td> 4</td><td>1 </td><td>30</td><td>58</td></tr>\n",
       "\t<tr><td> 5</td><td>2 </td><td>25</td><td>65</td></tr>\n",
       "\t<tr><td> 6</td><td>2 </td><td>50</td><td>98</td></tr>\n",
       "\t<tr><td> 7</td><td>2 </td><td>80</td><td>45</td></tr>\n",
       "\t<tr><td> 8</td><td>2 </td><td>90</td><td>25</td></tr>\n",
       "\t<tr><td> 9</td><td>3 </td><td>20</td><td>15</td></tr>\n",
       "\t<tr><td>10</td><td>3 </td><td>50</td><td>45</td></tr>\n",
       "\t<tr><td>11</td><td>3 </td><td>65</td><td>65</td></tr>\n",
       "\t<tr><td>12</td><td>3 </td><td>45</td><td>32</td></tr>\n",
       "\t<tr><td>13</td><td>4 </td><td>46</td><td>65</td></tr>\n",
       "\t<tr><td>14</td><td>4 </td><td>48</td><td>12</td></tr>\n",
       "\t<tr><td>15</td><td>4 </td><td>75</td><td>78</td></tr>\n",
       "\t<tr><td>16</td><td>4 </td><td>58</td><td>65</td></tr>\n",
       "\t<tr><td>17</td><td>5 </td><td>65</td><td>98</td></tr>\n",
       "\t<tr><td>18</td><td>5 </td><td>80</td><td>90</td></tr>\n",
       "\t<tr><td>19</td><td>5 </td><td>89</td><td>87</td></tr>\n",
       "\t<tr><td>20</td><td>5 </td><td>78</td><td>58</td></tr>\n",
       "</tbody>\n",
       "</table>\n"
      ],
      "text/latex": [
       "\\begin{tabular}{r|llll}\n",
       " id & class & math & science\\\\\n",
       "\\hline\n",
       "\t  1 & 1  & 50 & 50\\\\\n",
       "\t  2 & 1  & 60 & 60\\\\\n",
       "\t  3 & 1  & 45 & 78\\\\\n",
       "\t  4 & 1  & 30 & 58\\\\\n",
       "\t  5 & 2  & 25 & 65\\\\\n",
       "\t  6 & 2  & 50 & 98\\\\\n",
       "\t  7 & 2  & 80 & 45\\\\\n",
       "\t  8 & 2  & 90 & 25\\\\\n",
       "\t  9 & 3  & 20 & 15\\\\\n",
       "\t 10 & 3  & 50 & 45\\\\\n",
       "\t 11 & 3  & 65 & 65\\\\\n",
       "\t 12 & 3  & 45 & 32\\\\\n",
       "\t 13 & 4  & 46 & 65\\\\\n",
       "\t 14 & 4  & 48 & 12\\\\\n",
       "\t 15 & 4  & 75 & 78\\\\\n",
       "\t 16 & 4  & 58 & 65\\\\\n",
       "\t 17 & 5  & 65 & 98\\\\\n",
       "\t 18 & 5  & 80 & 90\\\\\n",
       "\t 19 & 5  & 89 & 87\\\\\n",
       "\t 20 & 5  & 78 & 58\\\\\n",
       "\\end{tabular}\n"
      ],
      "text/markdown": [
       "\n",
       "id | class | math | science | \n",
       "|---|---|---|---|---|---|---|---|---|---|---|---|---|---|---|---|---|---|---|---|\n",
       "|  1 | 1  | 50 | 50 | \n",
       "|  2 | 1  | 60 | 60 | \n",
       "|  3 | 1  | 45 | 78 | \n",
       "|  4 | 1  | 30 | 58 | \n",
       "|  5 | 2  | 25 | 65 | \n",
       "|  6 | 2  | 50 | 98 | \n",
       "|  7 | 2  | 80 | 45 | \n",
       "|  8 | 2  | 90 | 25 | \n",
       "|  9 | 3  | 20 | 15 | \n",
       "| 10 | 3  | 50 | 45 | \n",
       "| 11 | 3  | 65 | 65 | \n",
       "| 12 | 3  | 45 | 32 | \n",
       "| 13 | 4  | 46 | 65 | \n",
       "| 14 | 4  | 48 | 12 | \n",
       "| 15 | 4  | 75 | 78 | \n",
       "| 16 | 4  | 58 | 65 | \n",
       "| 17 | 5  | 65 | 98 | \n",
       "| 18 | 5  | 80 | 90 | \n",
       "| 19 | 5  | 89 | 87 | \n",
       "| 20 | 5  | 78 | 58 | \n",
       "\n",
       "\n"
      ],
      "text/plain": [
       "   id class math science\n",
       "1   1 1     50   50     \n",
       "2   2 1     60   60     \n",
       "3   3 1     45   78     \n",
       "4   4 1     30   58     \n",
       "5   5 2     25   65     \n",
       "6   6 2     50   98     \n",
       "7   7 2     80   45     \n",
       "8   8 2     90   25     \n",
       "9   9 3     20   15     \n",
       "10 10 3     50   45     \n",
       "11 11 3     65   65     \n",
       "12 12 3     45   32     \n",
       "13 13 4     46   65     \n",
       "14 14 4     48   12     \n",
       "15 15 4     75   78     \n",
       "16 16 4     58   65     \n",
       "17 17 5     65   98     \n",
       "18 18 5     80   90     \n",
       "19 19 5     89   87     \n",
       "20 20 5     78   58     "
      ]
     },
     "metadata": {},
     "output_type": "display_data"
    }
   ],
   "source": [
    "exam %>% select(-english)"
   ]
  },
  {
   "cell_type": "code",
   "execution_count": 15,
   "metadata": {},
   "outputs": [
    {
     "data": {
      "text/html": [
       "<table>\n",
       "<thead><tr><th scope=col>id</th><th scope=col>class</th><th scope=col>science</th></tr></thead>\n",
       "<tbody>\n",
       "\t<tr><td> 1</td><td>1 </td><td>50</td></tr>\n",
       "\t<tr><td> 2</td><td>1 </td><td>60</td></tr>\n",
       "\t<tr><td> 3</td><td>1 </td><td>78</td></tr>\n",
       "\t<tr><td> 4</td><td>1 </td><td>58</td></tr>\n",
       "\t<tr><td> 5</td><td>2 </td><td>65</td></tr>\n",
       "\t<tr><td> 6</td><td>2 </td><td>98</td></tr>\n",
       "\t<tr><td> 7</td><td>2 </td><td>45</td></tr>\n",
       "\t<tr><td> 8</td><td>2 </td><td>25</td></tr>\n",
       "\t<tr><td> 9</td><td>3 </td><td>15</td></tr>\n",
       "\t<tr><td>10</td><td>3 </td><td>45</td></tr>\n",
       "\t<tr><td>11</td><td>3 </td><td>65</td></tr>\n",
       "\t<tr><td>12</td><td>3 </td><td>32</td></tr>\n",
       "\t<tr><td>13</td><td>4 </td><td>65</td></tr>\n",
       "\t<tr><td>14</td><td>4 </td><td>12</td></tr>\n",
       "\t<tr><td>15</td><td>4 </td><td>78</td></tr>\n",
       "\t<tr><td>16</td><td>4 </td><td>65</td></tr>\n",
       "\t<tr><td>17</td><td>5 </td><td>98</td></tr>\n",
       "\t<tr><td>18</td><td>5 </td><td>90</td></tr>\n",
       "\t<tr><td>19</td><td>5 </td><td>87</td></tr>\n",
       "\t<tr><td>20</td><td>5 </td><td>58</td></tr>\n",
       "</tbody>\n",
       "</table>\n"
      ],
      "text/latex": [
       "\\begin{tabular}{r|lll}\n",
       " id & class & science\\\\\n",
       "\\hline\n",
       "\t  1 & 1  & 50\\\\\n",
       "\t  2 & 1  & 60\\\\\n",
       "\t  3 & 1  & 78\\\\\n",
       "\t  4 & 1  & 58\\\\\n",
       "\t  5 & 2  & 65\\\\\n",
       "\t  6 & 2  & 98\\\\\n",
       "\t  7 & 2  & 45\\\\\n",
       "\t  8 & 2  & 25\\\\\n",
       "\t  9 & 3  & 15\\\\\n",
       "\t 10 & 3  & 45\\\\\n",
       "\t 11 & 3  & 65\\\\\n",
       "\t 12 & 3  & 32\\\\\n",
       "\t 13 & 4  & 65\\\\\n",
       "\t 14 & 4  & 12\\\\\n",
       "\t 15 & 4  & 78\\\\\n",
       "\t 16 & 4  & 65\\\\\n",
       "\t 17 & 5  & 98\\\\\n",
       "\t 18 & 5  & 90\\\\\n",
       "\t 19 & 5  & 87\\\\\n",
       "\t 20 & 5  & 58\\\\\n",
       "\\end{tabular}\n"
      ],
      "text/markdown": [
       "\n",
       "id | class | science | \n",
       "|---|---|---|---|---|---|---|---|---|---|---|---|---|---|---|---|---|---|---|---|\n",
       "|  1 | 1  | 50 | \n",
       "|  2 | 1  | 60 | \n",
       "|  3 | 1  | 78 | \n",
       "|  4 | 1  | 58 | \n",
       "|  5 | 2  | 65 | \n",
       "|  6 | 2  | 98 | \n",
       "|  7 | 2  | 45 | \n",
       "|  8 | 2  | 25 | \n",
       "|  9 | 3  | 15 | \n",
       "| 10 | 3  | 45 | \n",
       "| 11 | 3  | 65 | \n",
       "| 12 | 3  | 32 | \n",
       "| 13 | 4  | 65 | \n",
       "| 14 | 4  | 12 | \n",
       "| 15 | 4  | 78 | \n",
       "| 16 | 4  | 65 | \n",
       "| 17 | 5  | 98 | \n",
       "| 18 | 5  | 90 | \n",
       "| 19 | 5  | 87 | \n",
       "| 20 | 5  | 58 | \n",
       "\n",
       "\n"
      ],
      "text/plain": [
       "   id class science\n",
       "1   1 1     50     \n",
       "2   2 1     60     \n",
       "3   3 1     78     \n",
       "4   4 1     58     \n",
       "5   5 2     65     \n",
       "6   6 2     98     \n",
       "7   7 2     45     \n",
       "8   8 2     25     \n",
       "9   9 3     15     \n",
       "10 10 3     45     \n",
       "11 11 3     65     \n",
       "12 12 3     32     \n",
       "13 13 4     65     \n",
       "14 14 4     12     \n",
       "15 15 4     78     \n",
       "16 16 4     65     \n",
       "17 17 5     98     \n",
       "18 18 5     90     \n",
       "19 19 5     87     \n",
       "20 20 5     58     "
      ]
     },
     "metadata": {},
     "output_type": "display_data"
    }
   ],
   "source": [
    "exam %>% select(-math, -english)"
   ]
  },
  {
   "cell_type": "markdown",
   "metadata": {},
   "source": [
    "### filter()와 select() 합치기"
   ]
  },
  {
   "cell_type": "markdown",
   "metadata": {},
   "source": [
    "### 1반인 친구들의 math, english, science의 점수"
   ]
  },
  {
   "cell_type": "code",
   "execution_count": 17,
   "metadata": {},
   "outputs": [
    {
     "data": {
      "text/html": [
       "<ol class=list-inline>\n",
       "\t<li>'id'</li>\n",
       "\t<li>'class'</li>\n",
       "\t<li>'math'</li>\n",
       "\t<li>'english'</li>\n",
       "\t<li>'science'</li>\n",
       "</ol>\n"
      ],
      "text/latex": [
       "\\begin{enumerate*}\n",
       "\\item 'id'\n",
       "\\item 'class'\n",
       "\\item 'math'\n",
       "\\item 'english'\n",
       "\\item 'science'\n",
       "\\end{enumerate*}\n"
      ],
      "text/markdown": [
       "1. 'id'\n",
       "2. 'class'\n",
       "3. 'math'\n",
       "4. 'english'\n",
       "5. 'science'\n",
       "\n",
       "\n"
      ],
      "text/plain": [
       "[1] \"id\"      \"class\"   \"math\"    \"english\" \"science\""
      ]
     },
     "metadata": {},
     "output_type": "display_data"
    }
   ],
   "source": [
    "names(exam)"
   ]
  },
  {
   "cell_type": "code",
   "execution_count": 18,
   "metadata": {},
   "outputs": [
    {
     "data": {
      "text/html": [
       "<table>\n",
       "<thead><tr><th scope=col>math</th><th scope=col>english</th><th scope=col>science</th></tr></thead>\n",
       "<tbody>\n",
       "\t<tr><td>50</td><td>98</td><td>50</td></tr>\n",
       "\t<tr><td>60</td><td>97</td><td>60</td></tr>\n",
       "\t<tr><td>45</td><td>86</td><td>78</td></tr>\n",
       "\t<tr><td>30</td><td>98</td><td>58</td></tr>\n",
       "</tbody>\n",
       "</table>\n"
      ],
      "text/latex": [
       "\\begin{tabular}{r|lll}\n",
       " math & english & science\\\\\n",
       "\\hline\n",
       "\t 50 & 98 & 50\\\\\n",
       "\t 60 & 97 & 60\\\\\n",
       "\t 45 & 86 & 78\\\\\n",
       "\t 30 & 98 & 58\\\\\n",
       "\\end{tabular}\n"
      ],
      "text/markdown": [
       "\n",
       "math | english | science | \n",
       "|---|---|---|---|\n",
       "| 50 | 98 | 50 | \n",
       "| 60 | 97 | 60 | \n",
       "| 45 | 86 | 78 | \n",
       "| 30 | 98 | 58 | \n",
       "\n",
       "\n"
      ],
      "text/plain": [
       "  math english science\n",
       "1 50   98      50     \n",
       "2 60   97      60     \n",
       "3 45   86      78     \n",
       "4 30   98      58     "
      ]
     },
     "metadata": {},
     "output_type": "display_data"
    }
   ],
   "source": [
    "exam %>% filter(class==1) %>% select(math, english, science)"
   ]
  },
  {
   "cell_type": "markdown",
   "metadata": {},
   "source": [
    "### 1반의 친구들의 5행만 보기"
   ]
  },
  {
   "cell_type": "code",
   "execution_count": 19,
   "metadata": {},
   "outputs": [
    {
     "data": {
      "text/html": [
       "<table>\n",
       "<thead><tr><th scope=col>id</th><th scope=col>class</th><th scope=col>math</th><th scope=col>english</th><th scope=col>science</th></tr></thead>\n",
       "<tbody>\n",
       "\t<tr><td>1 </td><td>1 </td><td>50</td><td>98</td><td>50</td></tr>\n",
       "\t<tr><td>2 </td><td>1 </td><td>60</td><td>97</td><td>60</td></tr>\n",
       "\t<tr><td>3 </td><td>1 </td><td>45</td><td>86</td><td>78</td></tr>\n",
       "\t<tr><td>4 </td><td>1 </td><td>30</td><td>98</td><td>58</td></tr>\n",
       "</tbody>\n",
       "</table>\n"
      ],
      "text/latex": [
       "\\begin{tabular}{r|lllll}\n",
       " id & class & math & english & science\\\\\n",
       "\\hline\n",
       "\t 1  & 1  & 50 & 98 & 50\\\\\n",
       "\t 2  & 1  & 60 & 97 & 60\\\\\n",
       "\t 3  & 1  & 45 & 86 & 78\\\\\n",
       "\t 4  & 1  & 30 & 98 & 58\\\\\n",
       "\\end{tabular}\n"
      ],
      "text/markdown": [
       "\n",
       "id | class | math | english | science | \n",
       "|---|---|---|---|\n",
       "| 1  | 1  | 50 | 98 | 50 | \n",
       "| 2  | 1  | 60 | 97 | 60 | \n",
       "| 3  | 1  | 45 | 86 | 78 | \n",
       "| 4  | 1  | 30 | 98 | 58 | \n",
       "\n",
       "\n"
      ],
      "text/plain": [
       "  id class math english science\n",
       "1 1  1     50   98      50     \n",
       "2 2  1     60   97      60     \n",
       "3 3  1     45   86      78     \n",
       "4 4  1     30   98      58     "
      ]
     },
     "metadata": {},
     "output_type": "display_data"
    }
   ],
   "source": [
    "exam %>% filter(class==1) %>% head(5)"
   ]
  },
  {
   "cell_type": "markdown",
   "metadata": {},
   "source": [
    "### 더해보기 p138"
   ]
  },
  {
   "cell_type": "markdown",
   "metadata": {},
   "source": [
    "### 5-3 순서대로 정렬해 보기 \n",
    "* arrange(기준컬럼)"
   ]
  },
  {
   "cell_type": "code",
   "execution_count": 20,
   "metadata": {},
   "outputs": [
    {
     "data": {
      "text/html": [
       "<table>\n",
       "<thead><tr><th scope=col>id</th><th scope=col>class</th><th scope=col>math</th><th scope=col>english</th><th scope=col>science</th></tr></thead>\n",
       "<tbody>\n",
       "\t<tr><td> 9</td><td>3 </td><td>20</td><td>98</td><td>15</td></tr>\n",
       "\t<tr><td> 5</td><td>2 </td><td>25</td><td>80</td><td>65</td></tr>\n",
       "\t<tr><td> 4</td><td>1 </td><td>30</td><td>98</td><td>58</td></tr>\n",
       "\t<tr><td> 3</td><td>1 </td><td>45</td><td>86</td><td>78</td></tr>\n",
       "\t<tr><td>12</td><td>3 </td><td>45</td><td>85</td><td>32</td></tr>\n",
       "\t<tr><td>13</td><td>4 </td><td>46</td><td>98</td><td>65</td></tr>\n",
       "\t<tr><td>14</td><td>4 </td><td>48</td><td>87</td><td>12</td></tr>\n",
       "\t<tr><td> 1</td><td>1 </td><td>50</td><td>98</td><td>50</td></tr>\n",
       "\t<tr><td> 6</td><td>2 </td><td>50</td><td>89</td><td>98</td></tr>\n",
       "\t<tr><td>10</td><td>3 </td><td>50</td><td>98</td><td>45</td></tr>\n",
       "\t<tr><td>16</td><td>4 </td><td>58</td><td>98</td><td>65</td></tr>\n",
       "\t<tr><td> 2</td><td>1 </td><td>60</td><td>97</td><td>60</td></tr>\n",
       "\t<tr><td>11</td><td>3 </td><td>65</td><td>65</td><td>65</td></tr>\n",
       "\t<tr><td>17</td><td>5 </td><td>65</td><td>68</td><td>98</td></tr>\n",
       "\t<tr><td>15</td><td>4 </td><td>75</td><td>56</td><td>78</td></tr>\n",
       "\t<tr><td>20</td><td>5 </td><td>78</td><td>83</td><td>58</td></tr>\n",
       "\t<tr><td> 7</td><td>2 </td><td>80</td><td>90</td><td>45</td></tr>\n",
       "\t<tr><td>18</td><td>5 </td><td>80</td><td>78</td><td>90</td></tr>\n",
       "\t<tr><td>19</td><td>5 </td><td>89</td><td>68</td><td>87</td></tr>\n",
       "\t<tr><td> 8</td><td>2 </td><td>90</td><td>78</td><td>25</td></tr>\n",
       "</tbody>\n",
       "</table>\n"
      ],
      "text/latex": [
       "\\begin{tabular}{r|lllll}\n",
       " id & class & math & english & science\\\\\n",
       "\\hline\n",
       "\t  9 & 3  & 20 & 98 & 15\\\\\n",
       "\t  5 & 2  & 25 & 80 & 65\\\\\n",
       "\t  4 & 1  & 30 & 98 & 58\\\\\n",
       "\t  3 & 1  & 45 & 86 & 78\\\\\n",
       "\t 12 & 3  & 45 & 85 & 32\\\\\n",
       "\t 13 & 4  & 46 & 98 & 65\\\\\n",
       "\t 14 & 4  & 48 & 87 & 12\\\\\n",
       "\t  1 & 1  & 50 & 98 & 50\\\\\n",
       "\t  6 & 2  & 50 & 89 & 98\\\\\n",
       "\t 10 & 3  & 50 & 98 & 45\\\\\n",
       "\t 16 & 4  & 58 & 98 & 65\\\\\n",
       "\t  2 & 1  & 60 & 97 & 60\\\\\n",
       "\t 11 & 3  & 65 & 65 & 65\\\\\n",
       "\t 17 & 5  & 65 & 68 & 98\\\\\n",
       "\t 15 & 4  & 75 & 56 & 78\\\\\n",
       "\t 20 & 5  & 78 & 83 & 58\\\\\n",
       "\t  7 & 2  & 80 & 90 & 45\\\\\n",
       "\t 18 & 5  & 80 & 78 & 90\\\\\n",
       "\t 19 & 5  & 89 & 68 & 87\\\\\n",
       "\t  8 & 2  & 90 & 78 & 25\\\\\n",
       "\\end{tabular}\n"
      ],
      "text/markdown": [
       "\n",
       "id | class | math | english | science | \n",
       "|---|---|---|---|---|---|---|---|---|---|---|---|---|---|---|---|---|---|---|---|\n",
       "|  9 | 3  | 20 | 98 | 15 | \n",
       "|  5 | 2  | 25 | 80 | 65 | \n",
       "|  4 | 1  | 30 | 98 | 58 | \n",
       "|  3 | 1  | 45 | 86 | 78 | \n",
       "| 12 | 3  | 45 | 85 | 32 | \n",
       "| 13 | 4  | 46 | 98 | 65 | \n",
       "| 14 | 4  | 48 | 87 | 12 | \n",
       "|  1 | 1  | 50 | 98 | 50 | \n",
       "|  6 | 2  | 50 | 89 | 98 | \n",
       "| 10 | 3  | 50 | 98 | 45 | \n",
       "| 16 | 4  | 58 | 98 | 65 | \n",
       "|  2 | 1  | 60 | 97 | 60 | \n",
       "| 11 | 3  | 65 | 65 | 65 | \n",
       "| 17 | 5  | 65 | 68 | 98 | \n",
       "| 15 | 4  | 75 | 56 | 78 | \n",
       "| 20 | 5  | 78 | 83 | 58 | \n",
       "|  7 | 2  | 80 | 90 | 45 | \n",
       "| 18 | 5  | 80 | 78 | 90 | \n",
       "| 19 | 5  | 89 | 68 | 87 | \n",
       "|  8 | 2  | 90 | 78 | 25 | \n",
       "\n",
       "\n"
      ],
      "text/plain": [
       "   id class math english science\n",
       "1   9 3     20   98      15     \n",
       "2   5 2     25   80      65     \n",
       "3   4 1     30   98      58     \n",
       "4   3 1     45   86      78     \n",
       "5  12 3     45   85      32     \n",
       "6  13 4     46   98      65     \n",
       "7  14 4     48   87      12     \n",
       "8   1 1     50   98      50     \n",
       "9   6 2     50   89      98     \n",
       "10 10 3     50   98      45     \n",
       "11 16 4     58   98      65     \n",
       "12  2 1     60   97      60     \n",
       "13 11 3     65   65      65     \n",
       "14 17 5     65   68      98     \n",
       "15 15 4     75   56      78     \n",
       "16 20 5     78   83      58     \n",
       "17  7 2     80   90      45     \n",
       "18 18 5     80   78      90     \n",
       "19 19 5     89   68      87     \n",
       "20  8 2     90   78      25     "
      ]
     },
     "metadata": {},
     "output_type": "display_data"
    }
   ],
   "source": [
    "exam %>% arrange(math)"
   ]
  },
  {
   "cell_type": "code",
   "execution_count": 21,
   "metadata": {},
   "outputs": [
    {
     "data": {
      "text/html": [
       "<table>\n",
       "<thead><tr><th scope=col>id</th><th scope=col>class</th><th scope=col>math</th><th scope=col>english</th><th scope=col>science</th></tr></thead>\n",
       "<tbody>\n",
       "\t<tr><td> 9</td><td>3 </td><td>20</td><td>98</td><td>15</td></tr>\n",
       "\t<tr><td> 5</td><td>2 </td><td>25</td><td>80</td><td>65</td></tr>\n",
       "\t<tr><td> 4</td><td>1 </td><td>30</td><td>98</td><td>58</td></tr>\n",
       "\t<tr><td> 3</td><td>1 </td><td>45</td><td>86</td><td>78</td></tr>\n",
       "\t<tr><td>12</td><td>3 </td><td>45</td><td>85</td><td>32</td></tr>\n",
       "\t<tr><td>13</td><td>4 </td><td>46</td><td>98</td><td>65</td></tr>\n",
       "</tbody>\n",
       "</table>\n"
      ],
      "text/latex": [
       "\\begin{tabular}{r|lllll}\n",
       " id & class & math & english & science\\\\\n",
       "\\hline\n",
       "\t  9 & 3  & 20 & 98 & 15\\\\\n",
       "\t  5 & 2  & 25 & 80 & 65\\\\\n",
       "\t  4 & 1  & 30 & 98 & 58\\\\\n",
       "\t  3 & 1  & 45 & 86 & 78\\\\\n",
       "\t 12 & 3  & 45 & 85 & 32\\\\\n",
       "\t 13 & 4  & 46 & 98 & 65\\\\\n",
       "\\end{tabular}\n"
      ],
      "text/markdown": [
       "\n",
       "id | class | math | english | science | \n",
       "|---|---|---|---|---|---|\n",
       "|  9 | 3  | 20 | 98 | 15 | \n",
       "|  5 | 2  | 25 | 80 | 65 | \n",
       "|  4 | 1  | 30 | 98 | 58 | \n",
       "|  3 | 1  | 45 | 86 | 78 | \n",
       "| 12 | 3  | 45 | 85 | 32 | \n",
       "| 13 | 4  | 46 | 98 | 65 | \n",
       "\n",
       "\n"
      ],
      "text/plain": [
       "  id class math english science\n",
       "1  9 3     20   98      15     \n",
       "2  5 2     25   80      65     \n",
       "3  4 1     30   98      58     \n",
       "4  3 1     45   86      78     \n",
       "5 12 3     45   85      32     \n",
       "6 13 4     46   98      65     "
      ]
     },
     "metadata": {},
     "output_type": "display_data"
    }
   ],
   "source": [
    "exam %>% arrange(math) %>% head"
   ]
  },
  {
   "cell_type": "code",
   "execution_count": 24,
   "metadata": {},
   "outputs": [
    {
     "data": {
      "text/html": [
       "<table>\n",
       "<thead><tr><th scope=col>id</th><th scope=col>class</th><th scope=col>math</th><th scope=col>english</th><th scope=col>science</th><th scope=col>total</th></tr></thead>\n",
       "<tbody>\n",
       "\t<tr><td> 1 </td><td>1  </td><td>50 </td><td>98 </td><td>50 </td><td>198</td></tr>\n",
       "\t<tr><td> 2 </td><td>1  </td><td>60 </td><td>97 </td><td>60 </td><td>217</td></tr>\n",
       "\t<tr><td> 3 </td><td>1  </td><td>45 </td><td>86 </td><td>78 </td><td>209</td></tr>\n",
       "\t<tr><td> 4 </td><td>1  </td><td>30 </td><td>98 </td><td>58 </td><td>186</td></tr>\n",
       "\t<tr><td> 5 </td><td>2  </td><td>25 </td><td>80 </td><td>65 </td><td>170</td></tr>\n",
       "\t<tr><td> 6 </td><td>2  </td><td>50 </td><td>89 </td><td>98 </td><td>237</td></tr>\n",
       "\t<tr><td> 7 </td><td>2  </td><td>80 </td><td>90 </td><td>45 </td><td>215</td></tr>\n",
       "\t<tr><td> 8 </td><td>2  </td><td>90 </td><td>78 </td><td>25 </td><td>193</td></tr>\n",
       "\t<tr><td> 9 </td><td>3  </td><td>20 </td><td>98 </td><td>15 </td><td>133</td></tr>\n",
       "\t<tr><td>10 </td><td>3  </td><td>50 </td><td>98 </td><td>45 </td><td>193</td></tr>\n",
       "</tbody>\n",
       "</table>\n"
      ],
      "text/latex": [
       "\\begin{tabular}{r|llllll}\n",
       " id & class & math & english & science & total\\\\\n",
       "\\hline\n",
       "\t  1  & 1   & 50  & 98  & 50  & 198\\\\\n",
       "\t  2  & 1   & 60  & 97  & 60  & 217\\\\\n",
       "\t  3  & 1   & 45  & 86  & 78  & 209\\\\\n",
       "\t  4  & 1   & 30  & 98  & 58  & 186\\\\\n",
       "\t  5  & 2   & 25  & 80  & 65  & 170\\\\\n",
       "\t  6  & 2   & 50  & 89  & 98  & 237\\\\\n",
       "\t  7  & 2   & 80  & 90  & 45  & 215\\\\\n",
       "\t  8  & 2   & 90  & 78  & 25  & 193\\\\\n",
       "\t  9  & 3   & 20  & 98  & 15  & 133\\\\\n",
       "\t 10  & 3   & 50  & 98  & 45  & 193\\\\\n",
       "\\end{tabular}\n"
      ],
      "text/markdown": [
       "\n",
       "id | class | math | english | science | total | \n",
       "|---|---|---|---|---|---|---|---|---|---|\n",
       "|  1  | 1   | 50  | 98  | 50  | 198 | \n",
       "|  2  | 1   | 60  | 97  | 60  | 217 | \n",
       "|  3  | 1   | 45  | 86  | 78  | 209 | \n",
       "|  4  | 1   | 30  | 98  | 58  | 186 | \n",
       "|  5  | 2   | 25  | 80  | 65  | 170 | \n",
       "|  6  | 2   | 50  | 89  | 98  | 237 | \n",
       "|  7  | 2   | 80  | 90  | 45  | 215 | \n",
       "|  8  | 2   | 90  | 78  | 25  | 193 | \n",
       "|  9  | 3   | 20  | 98  | 15  | 133 | \n",
       "| 10  | 3   | 50  | 98  | 45  | 193 | \n",
       "\n",
       "\n"
      ],
      "text/plain": [
       "   id class math english science total\n",
       "1   1 1     50   98      50      198  \n",
       "2   2 1     60   97      60      217  \n",
       "3   3 1     45   86      78      209  \n",
       "4   4 1     30   98      58      186  \n",
       "5   5 2     25   80      65      170  \n",
       "6   6 2     50   89      98      237  \n",
       "7   7 2     80   90      45      215  \n",
       "8   8 2     90   78      25      193  \n",
       "9   9 3     20   98      15      133  \n",
       "10 10 3     50   98      45      193  "
      ]
     },
     "metadata": {},
     "output_type": "display_data"
    }
   ],
   "source": [
    "### 합계를 구해서 이를 이용하여 정렬하기\n",
    "exam$total <- exam$math + exam$english + exam$science\n",
    "head(exam, 10)"
   ]
  },
  {
   "cell_type": "code",
   "execution_count": 27,
   "metadata": {},
   "outputs": [
    {
     "data": {
      "text/html": [
       "<table>\n",
       "<thead><tr><th scope=col>id</th><th scope=col>class</th><th scope=col>math</th><th scope=col>english</th><th scope=col>science</th><th scope=col>total</th></tr></thead>\n",
       "<tbody>\n",
       "\t<tr><td>18 </td><td>5  </td><td>80 </td><td>78 </td><td>90 </td><td>248</td></tr>\n",
       "\t<tr><td>19 </td><td>5  </td><td>89 </td><td>68 </td><td>87 </td><td>244</td></tr>\n",
       "\t<tr><td> 6 </td><td>2  </td><td>50 </td><td>89 </td><td>98 </td><td>237</td></tr>\n",
       "\t<tr><td>17 </td><td>5  </td><td>65 </td><td>68 </td><td>98 </td><td>231</td></tr>\n",
       "\t<tr><td>16 </td><td>4  </td><td>58 </td><td>98 </td><td>65 </td><td>221</td></tr>\n",
       "\t<tr><td>20 </td><td>5  </td><td>78 </td><td>83 </td><td>58 </td><td>219</td></tr>\n",
       "\t<tr><td> 2 </td><td>1  </td><td>60 </td><td>97 </td><td>60 </td><td>217</td></tr>\n",
       "\t<tr><td> 7 </td><td>2  </td><td>80 </td><td>90 </td><td>45 </td><td>215</td></tr>\n",
       "\t<tr><td> 3 </td><td>1  </td><td>45 </td><td>86 </td><td>78 </td><td>209</td></tr>\n",
       "\t<tr><td>13 </td><td>4  </td><td>46 </td><td>98 </td><td>65 </td><td>209</td></tr>\n",
       "\t<tr><td>15 </td><td>4  </td><td>75 </td><td>56 </td><td>78 </td><td>209</td></tr>\n",
       "\t<tr><td> 1 </td><td>1  </td><td>50 </td><td>98 </td><td>50 </td><td>198</td></tr>\n",
       "\t<tr><td>11 </td><td>3  </td><td>65 </td><td>65 </td><td>65 </td><td>195</td></tr>\n",
       "\t<tr><td> 8 </td><td>2  </td><td>90 </td><td>78 </td><td>25 </td><td>193</td></tr>\n",
       "\t<tr><td>10 </td><td>3  </td><td>50 </td><td>98 </td><td>45 </td><td>193</td></tr>\n",
       "\t<tr><td> 4 </td><td>1  </td><td>30 </td><td>98 </td><td>58 </td><td>186</td></tr>\n",
       "\t<tr><td> 5 </td><td>2  </td><td>25 </td><td>80 </td><td>65 </td><td>170</td></tr>\n",
       "\t<tr><td>12 </td><td>3  </td><td>45 </td><td>85 </td><td>32 </td><td>162</td></tr>\n",
       "\t<tr><td>14 </td><td>4  </td><td>48 </td><td>87 </td><td>12 </td><td>147</td></tr>\n",
       "\t<tr><td> 9 </td><td>3  </td><td>20 </td><td>98 </td><td>15 </td><td>133</td></tr>\n",
       "</tbody>\n",
       "</table>\n"
      ],
      "text/latex": [
       "\\begin{tabular}{r|llllll}\n",
       " id & class & math & english & science & total\\\\\n",
       "\\hline\n",
       "\t 18  & 5   & 80  & 78  & 90  & 248\\\\\n",
       "\t 19  & 5   & 89  & 68  & 87  & 244\\\\\n",
       "\t  6  & 2   & 50  & 89  & 98  & 237\\\\\n",
       "\t 17  & 5   & 65  & 68  & 98  & 231\\\\\n",
       "\t 16  & 4   & 58  & 98  & 65  & 221\\\\\n",
       "\t 20  & 5   & 78  & 83  & 58  & 219\\\\\n",
       "\t  2  & 1   & 60  & 97  & 60  & 217\\\\\n",
       "\t  7  & 2   & 80  & 90  & 45  & 215\\\\\n",
       "\t  3  & 1   & 45  & 86  & 78  & 209\\\\\n",
       "\t 13  & 4   & 46  & 98  & 65  & 209\\\\\n",
       "\t 15  & 4   & 75  & 56  & 78  & 209\\\\\n",
       "\t  1  & 1   & 50  & 98  & 50  & 198\\\\\n",
       "\t 11  & 3   & 65  & 65  & 65  & 195\\\\\n",
       "\t  8  & 2   & 90  & 78  & 25  & 193\\\\\n",
       "\t 10  & 3   & 50  & 98  & 45  & 193\\\\\n",
       "\t  4  & 1   & 30  & 98  & 58  & 186\\\\\n",
       "\t  5  & 2   & 25  & 80  & 65  & 170\\\\\n",
       "\t 12  & 3   & 45  & 85  & 32  & 162\\\\\n",
       "\t 14  & 4   & 48  & 87  & 12  & 147\\\\\n",
       "\t  9  & 3   & 20  & 98  & 15  & 133\\\\\n",
       "\\end{tabular}\n"
      ],
      "text/markdown": [
       "\n",
       "id | class | math | english | science | total | \n",
       "|---|---|---|---|---|---|---|---|---|---|---|---|---|---|---|---|---|---|---|---|\n",
       "| 18  | 5   | 80  | 78  | 90  | 248 | \n",
       "| 19  | 5   | 89  | 68  | 87  | 244 | \n",
       "|  6  | 2   | 50  | 89  | 98  | 237 | \n",
       "| 17  | 5   | 65  | 68  | 98  | 231 | \n",
       "| 16  | 4   | 58  | 98  | 65  | 221 | \n",
       "| 20  | 5   | 78  | 83  | 58  | 219 | \n",
       "|  2  | 1   | 60  | 97  | 60  | 217 | \n",
       "|  7  | 2   | 80  | 90  | 45  | 215 | \n",
       "|  3  | 1   | 45  | 86  | 78  | 209 | \n",
       "| 13  | 4   | 46  | 98  | 65  | 209 | \n",
       "| 15  | 4   | 75  | 56  | 78  | 209 | \n",
       "|  1  | 1   | 50  | 98  | 50  | 198 | \n",
       "| 11  | 3   | 65  | 65  | 65  | 195 | \n",
       "|  8  | 2   | 90  | 78  | 25  | 193 | \n",
       "| 10  | 3   | 50  | 98  | 45  | 193 | \n",
       "|  4  | 1   | 30  | 98  | 58  | 186 | \n",
       "|  5  | 2   | 25  | 80  | 65  | 170 | \n",
       "| 12  | 3   | 45  | 85  | 32  | 162 | \n",
       "| 14  | 4   | 48  | 87  | 12  | 147 | \n",
       "|  9  | 3   | 20  | 98  | 15  | 133 | \n",
       "\n",
       "\n"
      ],
      "text/plain": [
       "   id class math english science total\n",
       "1  18 5     80   78      90      248  \n",
       "2  19 5     89   68      87      244  \n",
       "3   6 2     50   89      98      237  \n",
       "4  17 5     65   68      98      231  \n",
       "5  16 4     58   98      65      221  \n",
       "6  20 5     78   83      58      219  \n",
       "7   2 1     60   97      60      217  \n",
       "8   7 2     80   90      45      215  \n",
       "9   3 1     45   86      78      209  \n",
       "10 13 4     46   98      65      209  \n",
       "11 15 4     75   56      78      209  \n",
       "12  1 1     50   98      50      198  \n",
       "13 11 3     65   65      65      195  \n",
       "14  8 2     90   78      25      193  \n",
       "15 10 3     50   98      45      193  \n",
       "16  4 1     30   98      58      186  \n",
       "17  5 2     25   80      65      170  \n",
       "18 12 3     45   85      32      162  \n",
       "19 14 4     48   87      12      147  \n",
       "20  9 3     20   98      15      133  "
      ]
     },
     "metadata": {},
     "output_type": "display_data"
    }
   ],
   "source": [
    "exam %>% arrange(desc(total))  # 내림 차순 정렬"
   ]
  },
  {
   "cell_type": "markdown",
   "metadata": {},
   "source": [
    "### 실습과제 5-3 \n",
    "* mpg 데이터를 이용해서 분석 문제를 해결해 보시오.\n",
    "* \"audi\"에서 생산한 자동차 중에 어떤 자동차 모델의 hwy(고속도로 연비)가 높은지 알아보려고 합니다. \"audi\"에서 생산한 자동차 중 hwy가 1~5위에 해당하는 자동차의 데이터를 출력해보자.\n",
    "(쉽게 배우는 데이터 분석 p141 참조)"
   ]
  },
  {
   "cell_type": "markdown",
   "metadata": {},
   "source": [
    "### 5-4 파생변수 추가하기\n",
    "* mutate(변수명)\n",
    "* exam %>% mutate(total=math+english+science) %>% head"
   ]
  },
  {
   "cell_type": "code",
   "execution_count": 28,
   "metadata": {},
   "outputs": [
    {
     "data": {
      "text/html": [
       "<table>\n",
       "<thead><tr><th scope=col>id</th><th scope=col>class</th><th scope=col>math</th><th scope=col>english</th><th scope=col>science</th><th scope=col>total</th></tr></thead>\n",
       "<tbody>\n",
       "\t<tr><td>1  </td><td>1  </td><td>50 </td><td>98 </td><td>50 </td><td>198</td></tr>\n",
       "\t<tr><td>2  </td><td>1  </td><td>60 </td><td>97 </td><td>60 </td><td>217</td></tr>\n",
       "\t<tr><td>3  </td><td>1  </td><td>45 </td><td>86 </td><td>78 </td><td>209</td></tr>\n",
       "\t<tr><td>4  </td><td>1  </td><td>30 </td><td>98 </td><td>58 </td><td>186</td></tr>\n",
       "\t<tr><td>5  </td><td>2  </td><td>25 </td><td>80 </td><td>65 </td><td>170</td></tr>\n",
       "\t<tr><td>6  </td><td>2  </td><td>50 </td><td>89 </td><td>98 </td><td>237</td></tr>\n",
       "</tbody>\n",
       "</table>\n"
      ],
      "text/latex": [
       "\\begin{tabular}{r|llllll}\n",
       " id & class & math & english & science & total\\\\\n",
       "\\hline\n",
       "\t 1   & 1   & 50  & 98  & 50  & 198\\\\\n",
       "\t 2   & 1   & 60  & 97  & 60  & 217\\\\\n",
       "\t 3   & 1   & 45  & 86  & 78  & 209\\\\\n",
       "\t 4   & 1   & 30  & 98  & 58  & 186\\\\\n",
       "\t 5   & 2   & 25  & 80  & 65  & 170\\\\\n",
       "\t 6   & 2   & 50  & 89  & 98  & 237\\\\\n",
       "\\end{tabular}\n"
      ],
      "text/markdown": [
       "\n",
       "id | class | math | english | science | total | \n",
       "|---|---|---|---|---|---|\n",
       "| 1   | 1   | 50  | 98  | 50  | 198 | \n",
       "| 2   | 1   | 60  | 97  | 60  | 217 | \n",
       "| 3   | 1   | 45  | 86  | 78  | 209 | \n",
       "| 4   | 1   | 30  | 98  | 58  | 186 | \n",
       "| 5   | 2   | 25  | 80  | 65  | 170 | \n",
       "| 6   | 2   | 50  | 89  | 98  | 237 | \n",
       "\n",
       "\n"
      ],
      "text/plain": [
       "  id class math english science total\n",
       "1 1  1     50   98      50      198  \n",
       "2 2  1     60   97      60      217  \n",
       "3 3  1     45   86      78      209  \n",
       "4 4  1     30   98      58      186  \n",
       "5 5  2     25   80      65      170  \n",
       "6 6  2     50   89      98      237  "
      ]
     },
     "metadata": {},
     "output_type": "display_data"
    }
   ],
   "source": [
    "exam %>% mutate(total=math+english+science) %>% head"
   ]
  },
  {
   "cell_type": "markdown",
   "metadata": {},
   "source": [
    "### 여러개의 변수를 생성하기"
   ]
  },
  {
   "cell_type": "code",
   "execution_count": 29,
   "metadata": {},
   "outputs": [
    {
     "data": {
      "text/html": [
       "<table>\n",
       "<thead><tr><th scope=col>id</th><th scope=col>class</th><th scope=col>math</th><th scope=col>english</th><th scope=col>science</th><th scope=col>total</th><th scope=col>mean</th></tr></thead>\n",
       "<tbody>\n",
       "\t<tr><td>1       </td><td>1       </td><td>50      </td><td>98      </td><td>50      </td><td>198     </td><td>66.00000</td></tr>\n",
       "\t<tr><td>2       </td><td>1       </td><td>60      </td><td>97      </td><td>60      </td><td>217     </td><td>72.33333</td></tr>\n",
       "\t<tr><td>3       </td><td>1       </td><td>45      </td><td>86      </td><td>78      </td><td>209     </td><td>69.66667</td></tr>\n",
       "\t<tr><td>4       </td><td>1       </td><td>30      </td><td>98      </td><td>58      </td><td>186     </td><td>62.00000</td></tr>\n",
       "\t<tr><td>5       </td><td>2       </td><td>25      </td><td>80      </td><td>65      </td><td>170     </td><td>56.66667</td></tr>\n",
       "\t<tr><td>6       </td><td>2       </td><td>50      </td><td>89      </td><td>98      </td><td>237     </td><td>79.00000</td></tr>\n",
       "</tbody>\n",
       "</table>\n"
      ],
      "text/latex": [
       "\\begin{tabular}{r|lllllll}\n",
       " id & class & math & english & science & total & mean\\\\\n",
       "\\hline\n",
       "\t 1        & 1        & 50       & 98       & 50       & 198      & 66.00000\\\\\n",
       "\t 2        & 1        & 60       & 97       & 60       & 217      & 72.33333\\\\\n",
       "\t 3        & 1        & 45       & 86       & 78       & 209      & 69.66667\\\\\n",
       "\t 4        & 1        & 30       & 98       & 58       & 186      & 62.00000\\\\\n",
       "\t 5        & 2        & 25       & 80       & 65       & 170      & 56.66667\\\\\n",
       "\t 6        & 2        & 50       & 89       & 98       & 237      & 79.00000\\\\\n",
       "\\end{tabular}\n"
      ],
      "text/markdown": [
       "\n",
       "id | class | math | english | science | total | mean | \n",
       "|---|---|---|---|---|---|\n",
       "| 1        | 1        | 50       | 98       | 50       | 198      | 66.00000 | \n",
       "| 2        | 1        | 60       | 97       | 60       | 217      | 72.33333 | \n",
       "| 3        | 1        | 45       | 86       | 78       | 209      | 69.66667 | \n",
       "| 4        | 1        | 30       | 98       | 58       | 186      | 62.00000 | \n",
       "| 5        | 2        | 25       | 80       | 65       | 170      | 56.66667 | \n",
       "| 6        | 2        | 50       | 89       | 98       | 237      | 79.00000 | \n",
       "\n",
       "\n"
      ],
      "text/plain": [
       "  id class math english science total mean    \n",
       "1 1  1     50   98      50      198   66.00000\n",
       "2 2  1     60   97      60      217   72.33333\n",
       "3 3  1     45   86      78      209   69.66667\n",
       "4 4  1     30   98      58      186   62.00000\n",
       "5 5  2     25   80      65      170   56.66667\n",
       "6 6  2     50   89      98      237   79.00000"
      ]
     },
     "metadata": {},
     "output_type": "display_data"
    }
   ],
   "source": [
    "exam %>% mutate(total=math+english+science, \n",
    "                mean = (math+english+science)/3 ) %>% head"
   ]
  },
  {
   "cell_type": "code",
   "execution_count": 31,
   "metadata": {},
   "outputs": [
    {
     "data": {
      "text/plain": [
       "   Min. 1st Qu.  Median    Mean 3rd Qu.    Max. \n",
       "  133.0   191.2   209.0   201.8   219.5   248.0 "
      ]
     },
     "metadata": {},
     "output_type": "display_data"
    }
   ],
   "source": [
    "summary(exam$total)"
   ]
  },
  {
   "cell_type": "markdown",
   "metadata": {},
   "source": [
    "### total이 중앙값을 넘었을 경우 pass, 아니면 fail로 하자"
   ]
  },
  {
   "cell_type": "code",
   "execution_count": 32,
   "metadata": {},
   "outputs": [
    {
     "data": {
      "text/html": [
       "<table>\n",
       "<thead><tr><th scope=col>id</th><th scope=col>class</th><th scope=col>math</th><th scope=col>english</th><th scope=col>science</th><th scope=col>total</th><th scope=col>total_pf</th></tr></thead>\n",
       "<tbody>\n",
       "\t<tr><td>1   </td><td>1   </td><td>50  </td><td>98  </td><td>50  </td><td>198 </td><td>fail</td></tr>\n",
       "\t<tr><td>2   </td><td>1   </td><td>60  </td><td>97  </td><td>60  </td><td>217 </td><td>pass</td></tr>\n",
       "\t<tr><td>3   </td><td>1   </td><td>45  </td><td>86  </td><td>78  </td><td>209 </td><td>fail</td></tr>\n",
       "\t<tr><td>4   </td><td>1   </td><td>30  </td><td>98  </td><td>58  </td><td>186 </td><td>fail</td></tr>\n",
       "\t<tr><td>5   </td><td>2   </td><td>25  </td><td>80  </td><td>65  </td><td>170 </td><td>fail</td></tr>\n",
       "\t<tr><td>6   </td><td>2   </td><td>50  </td><td>89  </td><td>98  </td><td>237 </td><td>pass</td></tr>\n",
       "</tbody>\n",
       "</table>\n"
      ],
      "text/latex": [
       "\\begin{tabular}{r|lllllll}\n",
       " id & class & math & english & science & total & total\\_pf\\\\\n",
       "\\hline\n",
       "\t 1    & 1    & 50   & 98   & 50   & 198  & fail\\\\\n",
       "\t 2    & 1    & 60   & 97   & 60   & 217  & pass\\\\\n",
       "\t 3    & 1    & 45   & 86   & 78   & 209  & fail\\\\\n",
       "\t 4    & 1    & 30   & 98   & 58   & 186  & fail\\\\\n",
       "\t 5    & 2    & 25   & 80   & 65   & 170  & fail\\\\\n",
       "\t 6    & 2    & 50   & 89   & 98   & 237  & pass\\\\\n",
       "\\end{tabular}\n"
      ],
      "text/markdown": [
       "\n",
       "id | class | math | english | science | total | total_pf | \n",
       "|---|---|---|---|---|---|\n",
       "| 1    | 1    | 50   | 98   | 50   | 198  | fail | \n",
       "| 2    | 1    | 60   | 97   | 60   | 217  | pass | \n",
       "| 3    | 1    | 45   | 86   | 78   | 209  | fail | \n",
       "| 4    | 1    | 30   | 98   | 58   | 186  | fail | \n",
       "| 5    | 2    | 25   | 80   | 65   | 170  | fail | \n",
       "| 6    | 2    | 50   | 89   | 98   | 237  | pass | \n",
       "\n",
       "\n"
      ],
      "text/plain": [
       "  id class math english science total total_pf\n",
       "1 1  1     50   98      50      198   fail    \n",
       "2 2  1     60   97      60      217   pass    \n",
       "3 3  1     45   86      78      209   fail    \n",
       "4 4  1     30   98      58      186   fail    \n",
       "5 5  2     25   80      65      170   fail    \n",
       "6 6  2     50   89      98      237   pass    "
      ]
     },
     "metadata": {},
     "output_type": "display_data"
    }
   ],
   "source": [
    "exam %>% mutate(total_pf=ifelse(total >209, \"pass\", \"fail\")) %>% head"
   ]
  },
  {
   "cell_type": "markdown",
   "metadata": {},
   "source": [
    "### 이를 확인 후, total_pf로 정렬하기"
   ]
  },
  {
   "cell_type": "code",
   "execution_count": 34,
   "metadata": {},
   "outputs": [
    {
     "data": {
      "text/html": [
       "<table>\n",
       "<thead><tr><th scope=col>id</th><th scope=col>class</th><th scope=col>math</th><th scope=col>english</th><th scope=col>science</th><th scope=col>total</th><th scope=col>total_pf</th></tr></thead>\n",
       "<tbody>\n",
       "\t<tr><td> 2  </td><td>1   </td><td>60  </td><td>97  </td><td>60  </td><td>217 </td><td>pass</td></tr>\n",
       "\t<tr><td> 6  </td><td>2   </td><td>50  </td><td>89  </td><td>98  </td><td>237 </td><td>pass</td></tr>\n",
       "\t<tr><td> 7  </td><td>2   </td><td>80  </td><td>90  </td><td>45  </td><td>215 </td><td>pass</td></tr>\n",
       "\t<tr><td>16  </td><td>4   </td><td>58  </td><td>98  </td><td>65  </td><td>221 </td><td>pass</td></tr>\n",
       "\t<tr><td>17  </td><td>5   </td><td>65  </td><td>68  </td><td>98  </td><td>231 </td><td>pass</td></tr>\n",
       "\t<tr><td>18  </td><td>5   </td><td>80  </td><td>78  </td><td>90  </td><td>248 </td><td>pass</td></tr>\n",
       "\t<tr><td>19  </td><td>5   </td><td>89  </td><td>68  </td><td>87  </td><td>244 </td><td>pass</td></tr>\n",
       "\t<tr><td>20  </td><td>5   </td><td>78  </td><td>83  </td><td>58  </td><td>219 </td><td>pass</td></tr>\n",
       "\t<tr><td> 1  </td><td>1   </td><td>50  </td><td>98  </td><td>50  </td><td>198 </td><td>fail</td></tr>\n",
       "\t<tr><td> 3  </td><td>1   </td><td>45  </td><td>86  </td><td>78  </td><td>209 </td><td>fail</td></tr>\n",
       "\t<tr><td> 4  </td><td>1   </td><td>30  </td><td>98  </td><td>58  </td><td>186 </td><td>fail</td></tr>\n",
       "\t<tr><td> 5  </td><td>2   </td><td>25  </td><td>80  </td><td>65  </td><td>170 </td><td>fail</td></tr>\n",
       "\t<tr><td> 8  </td><td>2   </td><td>90  </td><td>78  </td><td>25  </td><td>193 </td><td>fail</td></tr>\n",
       "\t<tr><td> 9  </td><td>3   </td><td>20  </td><td>98  </td><td>15  </td><td>133 </td><td>fail</td></tr>\n",
       "\t<tr><td>10  </td><td>3   </td><td>50  </td><td>98  </td><td>45  </td><td>193 </td><td>fail</td></tr>\n",
       "\t<tr><td>11  </td><td>3   </td><td>65  </td><td>65  </td><td>65  </td><td>195 </td><td>fail</td></tr>\n",
       "\t<tr><td>12  </td><td>3   </td><td>45  </td><td>85  </td><td>32  </td><td>162 </td><td>fail</td></tr>\n",
       "\t<tr><td>13  </td><td>4   </td><td>46  </td><td>98  </td><td>65  </td><td>209 </td><td>fail</td></tr>\n",
       "\t<tr><td>14  </td><td>4   </td><td>48  </td><td>87  </td><td>12  </td><td>147 </td><td>fail</td></tr>\n",
       "\t<tr><td>15  </td><td>4   </td><td>75  </td><td>56  </td><td>78  </td><td>209 </td><td>fail</td></tr>\n",
       "</tbody>\n",
       "</table>\n"
      ],
      "text/latex": [
       "\\begin{tabular}{r|lllllll}\n",
       " id & class & math & english & science & total & total\\_pf\\\\\n",
       "\\hline\n",
       "\t  2   & 1    & 60   & 97   & 60   & 217  & pass\\\\\n",
       "\t  6   & 2    & 50   & 89   & 98   & 237  & pass\\\\\n",
       "\t  7   & 2    & 80   & 90   & 45   & 215  & pass\\\\\n",
       "\t 16   & 4    & 58   & 98   & 65   & 221  & pass\\\\\n",
       "\t 17   & 5    & 65   & 68   & 98   & 231  & pass\\\\\n",
       "\t 18   & 5    & 80   & 78   & 90   & 248  & pass\\\\\n",
       "\t 19   & 5    & 89   & 68   & 87   & 244  & pass\\\\\n",
       "\t 20   & 5    & 78   & 83   & 58   & 219  & pass\\\\\n",
       "\t  1   & 1    & 50   & 98   & 50   & 198  & fail\\\\\n",
       "\t  3   & 1    & 45   & 86   & 78   & 209  & fail\\\\\n",
       "\t  4   & 1    & 30   & 98   & 58   & 186  & fail\\\\\n",
       "\t  5   & 2    & 25   & 80   & 65   & 170  & fail\\\\\n",
       "\t  8   & 2    & 90   & 78   & 25   & 193  & fail\\\\\n",
       "\t  9   & 3    & 20   & 98   & 15   & 133  & fail\\\\\n",
       "\t 10   & 3    & 50   & 98   & 45   & 193  & fail\\\\\n",
       "\t 11   & 3    & 65   & 65   & 65   & 195  & fail\\\\\n",
       "\t 12   & 3    & 45   & 85   & 32   & 162  & fail\\\\\n",
       "\t 13   & 4    & 46   & 98   & 65   & 209  & fail\\\\\n",
       "\t 14   & 4    & 48   & 87   & 12   & 147  & fail\\\\\n",
       "\t 15   & 4    & 75   & 56   & 78   & 209  & fail\\\\\n",
       "\\end{tabular}\n"
      ],
      "text/markdown": [
       "\n",
       "id | class | math | english | science | total | total_pf | \n",
       "|---|---|---|---|---|---|---|---|---|---|---|---|---|---|---|---|---|---|---|---|\n",
       "|  2   | 1    | 60   | 97   | 60   | 217  | pass | \n",
       "|  6   | 2    | 50   | 89   | 98   | 237  | pass | \n",
       "|  7   | 2    | 80   | 90   | 45   | 215  | pass | \n",
       "| 16   | 4    | 58   | 98   | 65   | 221  | pass | \n",
       "| 17   | 5    | 65   | 68   | 98   | 231  | pass | \n",
       "| 18   | 5    | 80   | 78   | 90   | 248  | pass | \n",
       "| 19   | 5    | 89   | 68   | 87   | 244  | pass | \n",
       "| 20   | 5    | 78   | 83   | 58   | 219  | pass | \n",
       "|  1   | 1    | 50   | 98   | 50   | 198  | fail | \n",
       "|  3   | 1    | 45   | 86   | 78   | 209  | fail | \n",
       "|  4   | 1    | 30   | 98   | 58   | 186  | fail | \n",
       "|  5   | 2    | 25   | 80   | 65   | 170  | fail | \n",
       "|  8   | 2    | 90   | 78   | 25   | 193  | fail | \n",
       "|  9   | 3    | 20   | 98   | 15   | 133  | fail | \n",
       "| 10   | 3    | 50   | 98   | 45   | 193  | fail | \n",
       "| 11   | 3    | 65   | 65   | 65   | 195  | fail | \n",
       "| 12   | 3    | 45   | 85   | 32   | 162  | fail | \n",
       "| 13   | 4    | 46   | 98   | 65   | 209  | fail | \n",
       "| 14   | 4    | 48   | 87   | 12   | 147  | fail | \n",
       "| 15   | 4    | 75   | 56   | 78   | 209  | fail | \n",
       "\n",
       "\n"
      ],
      "text/plain": [
       "   id class math english science total total_pf\n",
       "1   2 1     60   97      60      217   pass    \n",
       "2   6 2     50   89      98      237   pass    \n",
       "3   7 2     80   90      45      215   pass    \n",
       "4  16 4     58   98      65      221   pass    \n",
       "5  17 5     65   68      98      231   pass    \n",
       "6  18 5     80   78      90      248   pass    \n",
       "7  19 5     89   68      87      244   pass    \n",
       "8  20 5     78   83      58      219   pass    \n",
       "9   1 1     50   98      50      198   fail    \n",
       "10  3 1     45   86      78      209   fail    \n",
       "11  4 1     30   98      58      186   fail    \n",
       "12  5 2     25   80      65      170   fail    \n",
       "13  8 2     90   78      25      193   fail    \n",
       "14  9 3     20   98      15      133   fail    \n",
       "15 10 3     50   98      45      193   fail    \n",
       "16 11 3     65   65      65      195   fail    \n",
       "17 12 3     45   85      32      162   fail    \n",
       "18 13 4     46   98      65      209   fail    \n",
       "19 14 4     48   87      12      147   fail    \n",
       "20 15 4     75   56      78      209   fail    "
      ]
     },
     "metadata": {},
     "output_type": "display_data"
    }
   ],
   "source": [
    "exam %>% mutate(total_pf=ifelse(total >209, \"pass\", \"fail\")) %>% arrange(desc(total_pf))"
   ]
  },
  {
   "cell_type": "markdown",
   "metadata": {},
   "source": [
    "### 5-5 집단별로 요약하기\n",
    "* group_by()\n",
    "* summarise()"
   ]
  },
  {
   "cell_type": "markdown",
   "metadata": {},
   "source": [
    "### exam의 math, english, science의 평균을 구해보자"
   ]
  },
  {
   "cell_type": "markdown",
   "metadata": {},
   "source": [
    "* summarise(변수명 = mean(변수명))"
   ]
  },
  {
   "cell_type": "code",
   "execution_count": 35,
   "metadata": {},
   "outputs": [
    {
     "data": {
      "text/html": [
       "<table>\n",
       "<thead><tr><th scope=col>mean_math</th></tr></thead>\n",
       "<tbody>\n",
       "\t<tr><td>57.45</td></tr>\n",
       "</tbody>\n",
       "</table>\n"
      ],
      "text/latex": [
       "\\begin{tabular}{r|l}\n",
       " mean\\_math\\\\\n",
       "\\hline\n",
       "\t 57.45\\\\\n",
       "\\end{tabular}\n"
      ],
      "text/markdown": [
       "\n",
       "mean_math | \n",
       "|---|\n",
       "| 57.45 | \n",
       "\n",
       "\n"
      ],
      "text/plain": [
       "  mean_math\n",
       "1 57.45    "
      ]
     },
     "metadata": {},
     "output_type": "display_data"
    }
   ],
   "source": [
    "exam %>% summarise(mean_math = mean(math))"
   ]
  },
  {
   "cell_type": "code",
   "execution_count": 36,
   "metadata": {},
   "outputs": [
    {
     "data": {
      "text/html": [
       "<table>\n",
       "<thead><tr><th scope=col>mean_math</th><th scope=col>mean_eng</th><th scope=col>mean_sci</th></tr></thead>\n",
       "<tbody>\n",
       "\t<tr><td>57.45</td><td>84.9 </td><td>59.45</td></tr>\n",
       "</tbody>\n",
       "</table>\n"
      ],
      "text/latex": [
       "\\begin{tabular}{r|lll}\n",
       " mean\\_math & mean\\_eng & mean\\_sci\\\\\n",
       "\\hline\n",
       "\t 57.45 & 84.9  & 59.45\\\\\n",
       "\\end{tabular}\n"
      ],
      "text/markdown": [
       "\n",
       "mean_math | mean_eng | mean_sci | \n",
       "|---|\n",
       "| 57.45 | 84.9  | 59.45 | \n",
       "\n",
       "\n"
      ],
      "text/plain": [
       "  mean_math mean_eng mean_sci\n",
       "1 57.45     84.9     59.45   "
      ]
     },
     "metadata": {},
     "output_type": "display_data"
    }
   ],
   "source": [
    "exam %>% summarise(mean_math = mean(math), \n",
    "                    mean_eng = mean(english),\n",
    "                    mean_sci = mean(science))"
   ]
  },
  {
   "cell_type": "markdown",
   "metadata": {},
   "source": [
    "### 집단별로 분리해서 위의 내용을 출력해 보자.\n",
    "* 그룹으로 묶고 이에 대한 요약값을 구하기\n",
    "* 데이터 셋 %>% group_by(변수명) %>% summarise(...)"
   ]
  },
  {
   "cell_type": "code",
   "execution_count": 37,
   "metadata": {},
   "outputs": [
    {
     "data": {
      "text/html": [
       "<table>\n",
       "<thead><tr><th scope=col>class</th><th scope=col>mean_math</th><th scope=col>mean_eng</th><th scope=col>mean_sci</th></tr></thead>\n",
       "<tbody>\n",
       "\t<tr><td>1    </td><td>46.25</td><td>94.75</td><td>61.50</td></tr>\n",
       "\t<tr><td>2    </td><td>61.25</td><td>84.25</td><td>58.25</td></tr>\n",
       "\t<tr><td>3    </td><td>45.00</td><td>86.50</td><td>39.25</td></tr>\n",
       "\t<tr><td>4    </td><td>56.75</td><td>84.75</td><td>55.00</td></tr>\n",
       "\t<tr><td>5    </td><td>78.00</td><td>74.25</td><td>83.25</td></tr>\n",
       "</tbody>\n",
       "</table>\n"
      ],
      "text/latex": [
       "\\begin{tabular}{r|llll}\n",
       " class & mean\\_math & mean\\_eng & mean\\_sci\\\\\n",
       "\\hline\n",
       "\t 1     & 46.25 & 94.75 & 61.50\\\\\n",
       "\t 2     & 61.25 & 84.25 & 58.25\\\\\n",
       "\t 3     & 45.00 & 86.50 & 39.25\\\\\n",
       "\t 4     & 56.75 & 84.75 & 55.00\\\\\n",
       "\t 5     & 78.00 & 74.25 & 83.25\\\\\n",
       "\\end{tabular}\n"
      ],
      "text/markdown": [
       "\n",
       "class | mean_math | mean_eng | mean_sci | \n",
       "|---|---|---|---|---|\n",
       "| 1     | 46.25 | 94.75 | 61.50 | \n",
       "| 2     | 61.25 | 84.25 | 58.25 | \n",
       "| 3     | 45.00 | 86.50 | 39.25 | \n",
       "| 4     | 56.75 | 84.75 | 55.00 | \n",
       "| 5     | 78.00 | 74.25 | 83.25 | \n",
       "\n",
       "\n"
      ],
      "text/plain": [
       "  class mean_math mean_eng mean_sci\n",
       "1 1     46.25     94.75    61.50   \n",
       "2 2     61.25     84.25    58.25   \n",
       "3 3     45.00     86.50    39.25   \n",
       "4 4     56.75     84.75    55.00   \n",
       "5 5     78.00     74.25    83.25   "
      ]
     },
     "metadata": {},
     "output_type": "display_data"
    }
   ],
   "source": [
    "exam %>% group_by(class) %>% summarise(mean_math = mean(math), \n",
    "                    mean_eng = mean(english),\n",
    "                    mean_sci = mean(science))"
   ]
  },
  {
   "cell_type": "code",
   "execution_count": 38,
   "metadata": {},
   "outputs": [
    {
     "data": {
      "text/html": [
       "<table>\n",
       "<thead><tr><th scope=col>class</th><th scope=col>mean_math</th><th scope=col>mean_eng</th><th scope=col>mean_sci</th><th scope=col>n</th></tr></thead>\n",
       "<tbody>\n",
       "\t<tr><td>1    </td><td>46.25</td><td>94.75</td><td>61.50</td><td>4    </td></tr>\n",
       "\t<tr><td>2    </td><td>61.25</td><td>84.25</td><td>58.25</td><td>4    </td></tr>\n",
       "\t<tr><td>3    </td><td>45.00</td><td>86.50</td><td>39.25</td><td>4    </td></tr>\n",
       "\t<tr><td>4    </td><td>56.75</td><td>84.75</td><td>55.00</td><td>4    </td></tr>\n",
       "\t<tr><td>5    </td><td>78.00</td><td>74.25</td><td>83.25</td><td>4    </td></tr>\n",
       "</tbody>\n",
       "</table>\n"
      ],
      "text/latex": [
       "\\begin{tabular}{r|lllll}\n",
       " class & mean\\_math & mean\\_eng & mean\\_sci & n\\\\\n",
       "\\hline\n",
       "\t 1     & 46.25 & 94.75 & 61.50 & 4    \\\\\n",
       "\t 2     & 61.25 & 84.25 & 58.25 & 4    \\\\\n",
       "\t 3     & 45.00 & 86.50 & 39.25 & 4    \\\\\n",
       "\t 4     & 56.75 & 84.75 & 55.00 & 4    \\\\\n",
       "\t 5     & 78.00 & 74.25 & 83.25 & 4    \\\\\n",
       "\\end{tabular}\n"
      ],
      "text/markdown": [
       "\n",
       "class | mean_math | mean_eng | mean_sci | n | \n",
       "|---|---|---|---|---|\n",
       "| 1     | 46.25 | 94.75 | 61.50 | 4     | \n",
       "| 2     | 61.25 | 84.25 | 58.25 | 4     | \n",
       "| 3     | 45.00 | 86.50 | 39.25 | 4     | \n",
       "| 4     | 56.75 | 84.75 | 55.00 | 4     | \n",
       "| 5     | 78.00 | 74.25 | 83.25 | 4     | \n",
       "\n",
       "\n"
      ],
      "text/plain": [
       "  class mean_math mean_eng mean_sci n\n",
       "1 1     46.25     94.75    61.50    4\n",
       "2 2     61.25     84.25    58.25    4\n",
       "3 3     45.00     86.50    39.25    4\n",
       "4 4     56.75     84.75    55.00    4\n",
       "5 5     78.00     74.25    83.25    4"
      ]
     },
     "metadata": {},
     "output_type": "display_data"
    }
   ],
   "source": [
    "exam %>% group_by(class) %>% \n",
    "          summarise(mean_math = mean(math), \n",
    "                    mean_eng = mean(english),\n",
    "                    mean_sci = mean(science), \n",
    "                    n=n())"
   ]
  },
  {
   "cell_type": "markdown",
   "metadata": {},
   "source": [
    "| 함수 | 설명 | \n",
    "|:--------:|:--------:|\n",
    "| mean() | 평균 | \n",
    "| sd() | 표준편차 |\n",
    "| sum() | 합계 | \n",
    "| median() | 중앙값 | \n",
    "| min() | 최솟값 | \n",
    "| max() | 최댓값  |\n",
    "| n() | 빈도 | \n"
   ]
  },
  {
   "cell_type": "markdown",
   "metadata": {},
   "source": [
    "### mpg 데이터 셋 불러오기"
   ]
  },
  {
   "cell_type": "code",
   "execution_count": 42,
   "metadata": {},
   "outputs": [],
   "source": [
    "library(ggplot2)"
   ]
  },
  {
   "cell_type": "code",
   "execution_count": 44,
   "metadata": {},
   "outputs": [],
   "source": [
    "mpg <- ggplot2::mpg"
   ]
  },
  {
   "cell_type": "code",
   "execution_count": 45,
   "metadata": {},
   "outputs": [
    {
     "data": {
      "text/html": [
       "<table>\n",
       "<thead><tr><th scope=col>manufacturer</th><th scope=col>model</th><th scope=col>displ</th><th scope=col>year</th><th scope=col>cyl</th><th scope=col>trans</th><th scope=col>drv</th><th scope=col>cty</th><th scope=col>hwy</th><th scope=col>fl</th><th scope=col>class</th></tr></thead>\n",
       "<tbody>\n",
       "\t<tr><td>audi      </td><td>a4        </td><td>1.8       </td><td>1999      </td><td>4         </td><td>auto(l5)  </td><td>f         </td><td>18        </td><td>29        </td><td>p         </td><td>compact   </td></tr>\n",
       "\t<tr><td>audi      </td><td>a4        </td><td>1.8       </td><td>1999      </td><td>4         </td><td>manual(m5)</td><td>f         </td><td>21        </td><td>29        </td><td>p         </td><td>compact   </td></tr>\n",
       "\t<tr><td>audi      </td><td>a4        </td><td>2.0       </td><td>2008      </td><td>4         </td><td>manual(m6)</td><td>f         </td><td>20        </td><td>31        </td><td>p         </td><td>compact   </td></tr>\n",
       "\t<tr><td>audi      </td><td>a4        </td><td>2.0       </td><td>2008      </td><td>4         </td><td>auto(av)  </td><td>f         </td><td>21        </td><td>30        </td><td>p         </td><td>compact   </td></tr>\n",
       "\t<tr><td>audi      </td><td>a4        </td><td>2.8       </td><td>1999      </td><td>6         </td><td>auto(l5)  </td><td>f         </td><td>16        </td><td>26        </td><td>p         </td><td>compact   </td></tr>\n",
       "\t<tr><td>audi      </td><td>a4        </td><td>2.8       </td><td>1999      </td><td>6         </td><td>manual(m5)</td><td>f         </td><td>18        </td><td>26        </td><td>p         </td><td>compact   </td></tr>\n",
       "</tbody>\n",
       "</table>\n"
      ],
      "text/latex": [
       "\\begin{tabular}{r|lllllllllll}\n",
       " manufacturer & model & displ & year & cyl & trans & drv & cty & hwy & fl & class\\\\\n",
       "\\hline\n",
       "\t audi       & a4         & 1.8        & 1999       & 4          & auto(l5)   & f          & 18         & 29         & p          & compact   \\\\\n",
       "\t audi       & a4         & 1.8        & 1999       & 4          & manual(m5) & f          & 21         & 29         & p          & compact   \\\\\n",
       "\t audi       & a4         & 2.0        & 2008       & 4          & manual(m6) & f          & 20         & 31         & p          & compact   \\\\\n",
       "\t audi       & a4         & 2.0        & 2008       & 4          & auto(av)   & f          & 21         & 30         & p          & compact   \\\\\n",
       "\t audi       & a4         & 2.8        & 1999       & 6          & auto(l5)   & f          & 16         & 26         & p          & compact   \\\\\n",
       "\t audi       & a4         & 2.8        & 1999       & 6          & manual(m5) & f          & 18         & 26         & p          & compact   \\\\\n",
       "\\end{tabular}\n"
      ],
      "text/markdown": [
       "\n",
       "manufacturer | model | displ | year | cyl | trans | drv | cty | hwy | fl | class | \n",
       "|---|---|---|---|---|---|\n",
       "| audi       | a4         | 1.8        | 1999       | 4          | auto(l5)   | f          | 18         | 29         | p          | compact    | \n",
       "| audi       | a4         | 1.8        | 1999       | 4          | manual(m5) | f          | 21         | 29         | p          | compact    | \n",
       "| audi       | a4         | 2.0        | 2008       | 4          | manual(m6) | f          | 20         | 31         | p          | compact    | \n",
       "| audi       | a4         | 2.0        | 2008       | 4          | auto(av)   | f          | 21         | 30         | p          | compact    | \n",
       "| audi       | a4         | 2.8        | 1999       | 6          | auto(l5)   | f          | 16         | 26         | p          | compact    | \n",
       "| audi       | a4         | 2.8        | 1999       | 6          | manual(m5) | f          | 18         | 26         | p          | compact    | \n",
       "\n",
       "\n"
      ],
      "text/plain": [
       "  manufacturer model displ year cyl trans      drv cty hwy fl class  \n",
       "1 audi         a4    1.8   1999 4   auto(l5)   f   18  29  p  compact\n",
       "2 audi         a4    1.8   1999 4   manual(m5) f   21  29  p  compact\n",
       "3 audi         a4    2.0   2008 4   manual(m6) f   20  31  p  compact\n",
       "4 audi         a4    2.0   2008 4   auto(av)   f   21  30  p  compact\n",
       "5 audi         a4    2.8   1999 6   auto(l5)   f   16  26  p  compact\n",
       "6 audi         a4    2.8   1999 6   manual(m5) f   18  26  p  compact"
      ]
     },
     "metadata": {},
     "output_type": "display_data"
    }
   ],
   "source": [
    "head(mpg)"
   ]
  },
  {
   "cell_type": "markdown",
   "metadata": {},
   "source": [
    "### 제조사별 구동방식(drv)별 cty(도시연비)의 평균 산출하기\n",
    "* drv(구동방식)\n",
    "  * 4 사륜 구동\n",
    "  * f 전륜 구동\n",
    "  * r 후륜 구동"
   ]
  },
  {
   "cell_type": "code",
   "execution_count": 46,
   "metadata": {},
   "outputs": [
    {
     "data": {
      "text/html": [
       "<table>\n",
       "<thead><tr><th scope=col>manufacturer</th><th scope=col>drv</th><th scope=col>mean_cty</th></tr></thead>\n",
       "<tbody>\n",
       "\t<tr><td>audi     </td><td>4        </td><td>16.81818 </td></tr>\n",
       "\t<tr><td>audi     </td><td>f        </td><td>18.85714 </td></tr>\n",
       "\t<tr><td>chevrolet</td><td>4        </td><td>12.50000 </td></tr>\n",
       "\t<tr><td>chevrolet</td><td>f        </td><td>18.80000 </td></tr>\n",
       "\t<tr><td>chevrolet</td><td>r        </td><td>14.10000 </td></tr>\n",
       "\t<tr><td>dodge    </td><td>4        </td><td>12.00000 </td></tr>\n",
       "\t<tr><td>dodge    </td><td>f        </td><td>15.81818 </td></tr>\n",
       "\t<tr><td>ford     </td><td>4        </td><td>13.30769 </td></tr>\n",
       "\t<tr><td>ford     </td><td>r        </td><td>14.75000 </td></tr>\n",
       "\t<tr><td>honda    </td><td>f        </td><td>24.44444 </td></tr>\n",
       "</tbody>\n",
       "</table>\n"
      ],
      "text/latex": [
       "\\begin{tabular}{r|lll}\n",
       " manufacturer & drv & mean\\_cty\\\\\n",
       "\\hline\n",
       "\t audi      & 4         & 16.81818 \\\\\n",
       "\t audi      & f         & 18.85714 \\\\\n",
       "\t chevrolet & 4         & 12.50000 \\\\\n",
       "\t chevrolet & f         & 18.80000 \\\\\n",
       "\t chevrolet & r         & 14.10000 \\\\\n",
       "\t dodge     & 4         & 12.00000 \\\\\n",
       "\t dodge     & f         & 15.81818 \\\\\n",
       "\t ford      & 4         & 13.30769 \\\\\n",
       "\t ford      & r         & 14.75000 \\\\\n",
       "\t honda     & f         & 24.44444 \\\\\n",
       "\\end{tabular}\n"
      ],
      "text/markdown": [
       "\n",
       "manufacturer | drv | mean_cty | \n",
       "|---|---|---|---|---|---|---|---|---|---|\n",
       "| audi      | 4         | 16.81818  | \n",
       "| audi      | f         | 18.85714  | \n",
       "| chevrolet | 4         | 12.50000  | \n",
       "| chevrolet | f         | 18.80000  | \n",
       "| chevrolet | r         | 14.10000  | \n",
       "| dodge     | 4         | 12.00000  | \n",
       "| dodge     | f         | 15.81818  | \n",
       "| ford      | 4         | 13.30769  | \n",
       "| ford      | r         | 14.75000  | \n",
       "| honda     | f         | 24.44444  | \n",
       "\n",
       "\n"
      ],
      "text/plain": [
       "   manufacturer drv mean_cty\n",
       "1  audi         4   16.81818\n",
       "2  audi         f   18.85714\n",
       "3  chevrolet    4   12.50000\n",
       "4  chevrolet    f   18.80000\n",
       "5  chevrolet    r   14.10000\n",
       "6  dodge        4   12.00000\n",
       "7  dodge        f   15.81818\n",
       "8  ford         4   13.30769\n",
       "9  ford         r   14.75000\n",
       "10 honda        f   24.44444"
      ]
     },
     "metadata": {},
     "output_type": "display_data"
    }
   ],
   "source": [
    "mpg %>% group_by(manufacturer, drv) %>% \n",
    "     summarise(mean_cty = mean(cty)) %>%\n",
    "     head(10)"
   ]
  },
  {
   "cell_type": "markdown",
   "metadata": {},
   "source": [
    "### 실습과제 5-4\n",
    "* 회사별로 분리한다.(group_by)\n",
    "* class에서 suv 추출한다.(행) - filter()\n",
    "* total(통합 연비) 파생변수 생성 - mutate()\n",
    "* total(통합 연비) 의 평균 mean_total를 산출 - summarise()\n",
    "* arrange() 내림 차순의 정렬\n",
    "* 1~5위까지 : head()"
   ]
  },
  {
   "cell_type": "code",
   "execution_count": 47,
   "metadata": {},
   "outputs": [
    {
     "data": {
      "text/html": [
       "<table>\n",
       "<thead><tr><th scope=col>manufacturer</th><th scope=col>mean_tot</th></tr></thead>\n",
       "<tbody>\n",
       "\t<tr><td>subaru  </td><td>21.91667</td></tr>\n",
       "\t<tr><td>toyota  </td><td>16.31250</td></tr>\n",
       "\t<tr><td>nissan  </td><td>15.87500</td></tr>\n",
       "\t<tr><td>mercury </td><td>15.62500</td></tr>\n",
       "\t<tr><td>jeep    </td><td>15.56250</td></tr>\n",
       "</tbody>\n",
       "</table>\n"
      ],
      "text/latex": [
       "\\begin{tabular}{r|ll}\n",
       " manufacturer & mean\\_tot\\\\\n",
       "\\hline\n",
       "\t subaru   & 21.91667\\\\\n",
       "\t toyota   & 16.31250\\\\\n",
       "\t nissan   & 15.87500\\\\\n",
       "\t mercury  & 15.62500\\\\\n",
       "\t jeep     & 15.56250\\\\\n",
       "\\end{tabular}\n"
      ],
      "text/markdown": [
       "\n",
       "manufacturer | mean_tot | \n",
       "|---|---|---|---|---|\n",
       "| subaru   | 21.91667 | \n",
       "| toyota   | 16.31250 | \n",
       "| nissan   | 15.87500 | \n",
       "| mercury  | 15.62500 | \n",
       "| jeep     | 15.56250 | \n",
       "\n",
       "\n"
      ],
      "text/plain": [
       "  manufacturer mean_tot\n",
       "1 subaru       21.91667\n",
       "2 toyota       16.31250\n",
       "3 nissan       15.87500\n",
       "4 mercury      15.62500\n",
       "5 jeep         15.56250"
      ]
     },
     "metadata": {},
     "output_type": "display_data"
    }
   ],
   "source": [
    "mpg %>%\n",
    "  group_by(manufacturer) %>%\n",
    "  filter(class==\"suv\") %>%\n",
    "  mutate(tot = (cty + hwy)/2) %>%\n",
    "  summarise(mean_tot = mean(tot)) %>%\n",
    "  arrange(desc(mean_tot)) %>% head(5)"
   ]
  },
  {
   "cell_type": "markdown",
   "metadata": {},
   "source": [
    "### 더해보기 p150"
   ]
  },
  {
   "cell_type": "markdown",
   "metadata": {},
   "source": [
    "### 5-6 데이터 합치기\n",
    "* dplyr:left_join()\n",
    "* bind_rows()"
   ]
  },
  {
   "cell_type": "code",
   "execution_count": null,
   "metadata": {},
   "outputs": [],
   "source": []
  }
 ],
 "metadata": {
  "kernelspec": {
   "display_name": "R",
   "language": "R",
   "name": "ir"
  },
  "language_info": {
   "codemirror_mode": "r",
   "file_extension": ".r",
   "mimetype": "text/x-r-source",
   "name": "R",
   "pygments_lexer": "r",
   "version": "3.5.1"
  }
 },
 "nbformat": 4,
 "nbformat_minor": 2
}
